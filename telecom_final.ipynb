{
 "cells": [
  {
   "cell_type": "markdown",
   "metadata": {
    "toc": true
   },
   "source": [
    "<h1>Оглавление<span class=\"tocSkip\"></span></h1>\n",
    "<div class=\"toc\"><ul class=\"toc-item\"><li><span><a href=\"#Цель-и-описание-проекта\" data-toc-modified-id=\"Цель-и-описание-проекта-1\"><span class=\"toc-item-num\">1&nbsp;&nbsp;</span>Цель и описание проекта</a></span></li><li><span><a href=\"#Изучение-и-предобработка-данных-из-файлов\" data-toc-modified-id=\"Изучение-и-предобработка-данных-из-файлов-2\"><span class=\"toc-item-num\">2&nbsp;&nbsp;</span>Изучение и предобработка данных из файлов</a></span><li><span><a href=\"#Расчёты-и-добавление-результатов\" data-toc-modified-id=\"Расчёты-и-добавление-результатов-3\"><span class=\"toc-item-num\">3&nbsp;&nbsp;</span>Расчёты и добавление результатов</a></span><li><span><a href=\"#Исследовательский-анализ-данных\" data-toc-modified-id=\"Исследовательский-анализ-данных-4\"><span class=\"toc-item-num\">4&nbsp;&nbsp;</span>Исследовательский анализ данных</a></span><li><span><a href=\"#Проверка-гипотез\" data-toc-modified-id=\"Проверка-гипотез-5\"><span class=\"toc-item-num\">5&nbsp;&nbsp;</span>Проверка гипотез</a></span><li><span><a href=\"#Общий-вывод\" data-toc-modified-id=\"Общий-вывод-6\"><span class=\"toc-item-num\">6&nbsp;&nbsp;</span>Общий вывод</a></span></li></ul></div>"
   ]
  },
  {
   "cell_type": "markdown",
   "metadata": {},
   "source": [
    "# Определение выгодного тарифа для телеком-компании"
   ]
  },
  {
   "cell_type": "markdown",
   "metadata": {},
   "source": [
    "## Цель и описание проекта"
   ]
  },
  {
   "cell_type": "markdown",
   "metadata": {},
   "source": [
    "**Цель проекта:** Проанализировать поведение клиентов федерального сотового оператора за 2018 г. в рамкаха двух тарифных планов: «Смарт» и «Ультра» и сделать вывод — какой тарифный план лучше.\n",
    "\n",
    "**Данные для анализ:** выборка данных по 500 пользователей за 2018г.\n",
    "\n",
    "**Тарифы** (минуты и мегабайты округляются вверх до целого)\n",
    "\n",
    "«Смарт»\n",
    "- Ежемесячная плата: 550 рублей\n",
    "- Включено: 500 минут разговора, 50 сообщений и 15 Гб интернет-трафика\n",
    "- Стоимость услуг сверх тарифного пакета: минута разговора 3 рубля, сообщение 3 рубля, 1 Гб интернет-трафика 200 рублей.\n",
    "\n",
    "«Ультра»\n",
    "- Ежемесячная плата: 1950 рублей\n",
    "- Включено: 3000 минут разговора, 1000 сообщений и 30 Гб интернет-трафика\n",
    "- Стоимость услуг сверх тарифного пакета: минута разговора 1 рубль, сообщение 1 рубль, 1 Гб интернет-трафика 150 рублей."
   ]
  },
  {
   "cell_type": "markdown",
   "metadata": {},
   "source": [
    "## Изучение и предобработка данных из файлов"
   ]
  },
  {
   "cell_type": "code",
   "execution_count": 1,
   "metadata": {},
   "outputs": [],
   "source": [
    "# импортируем библиотеки и делаем настройки\n",
    "import pandas as pd\n",
    "import numpy as np\n",
    "import matplotlib.pyplot as plt\n",
    "import seaborn as sns\n",
    "import glob\n",
    "from scipy import stats as st\n",
    "\n",
    "pd.set_option('display.max_columns', None)"
   ]
  },
  {
   "cell_type": "code",
   "execution_count": 2,
   "metadata": {},
   "outputs": [],
   "source": [
    "mb_to_gb = 1024"
   ]
  },
  {
   "cell_type": "code",
   "execution_count": 3,
   "metadata": {
    "scrolled": false
   },
   "outputs": [
    {
     "name": "stdout",
     "output_type": "stream",
     "text": [
      "<class 'pandas.core.frame.DataFrame'>\n",
      "RangeIndex: 202607 entries, 0 to 202606\n",
      "Data columns (total 4 columns):\n",
      "id           202607 non-null object\n",
      "call_date    202607 non-null object\n",
      "duration     202607 non-null float64\n",
      "user_id      202607 non-null int64\n",
      "dtypes: float64(1), int64(1), object(2)\n",
      "memory usage: 6.2+ MB\n"
     ]
    },
    {
     "data": {
      "text/html": [
       "<div>\n",
       "<style scoped>\n",
       "    .dataframe tbody tr th:only-of-type {\n",
       "        vertical-align: middle;\n",
       "    }\n",
       "\n",
       "    .dataframe tbody tr th {\n",
       "        vertical-align: top;\n",
       "    }\n",
       "\n",
       "    .dataframe thead th {\n",
       "        text-align: right;\n",
       "    }\n",
       "</style>\n",
       "<table border=\"1\" class=\"dataframe\">\n",
       "  <thead>\n",
       "    <tr style=\"text-align: right;\">\n",
       "      <th></th>\n",
       "      <th>id</th>\n",
       "      <th>call_date</th>\n",
       "      <th>duration</th>\n",
       "      <th>user_id</th>\n",
       "    </tr>\n",
       "  </thead>\n",
       "  <tbody>\n",
       "    <tr>\n",
       "      <td>0</td>\n",
       "      <td>1000_0</td>\n",
       "      <td>2018-07-25</td>\n",
       "      <td>0.00</td>\n",
       "      <td>1000</td>\n",
       "    </tr>\n",
       "    <tr>\n",
       "      <td>1</td>\n",
       "      <td>1000_1</td>\n",
       "      <td>2018-08-17</td>\n",
       "      <td>0.00</td>\n",
       "      <td>1000</td>\n",
       "    </tr>\n",
       "    <tr>\n",
       "      <td>2</td>\n",
       "      <td>1000_2</td>\n",
       "      <td>2018-06-11</td>\n",
       "      <td>2.85</td>\n",
       "      <td>1000</td>\n",
       "    </tr>\n",
       "    <tr>\n",
       "      <td>3</td>\n",
       "      <td>1000_3</td>\n",
       "      <td>2018-09-21</td>\n",
       "      <td>13.80</td>\n",
       "      <td>1000</td>\n",
       "    </tr>\n",
       "    <tr>\n",
       "      <td>4</td>\n",
       "      <td>1000_4</td>\n",
       "      <td>2018-12-15</td>\n",
       "      <td>5.18</td>\n",
       "      <td>1000</td>\n",
       "    </tr>\n",
       "    <tr>\n",
       "      <td>...</td>\n",
       "      <td>...</td>\n",
       "      <td>...</td>\n",
       "      <td>...</td>\n",
       "      <td>...</td>\n",
       "    </tr>\n",
       "    <tr>\n",
       "      <td>202602</td>\n",
       "      <td>1499_215</td>\n",
       "      <td>2018-12-26</td>\n",
       "      <td>0.76</td>\n",
       "      <td>1499</td>\n",
       "    </tr>\n",
       "    <tr>\n",
       "      <td>202603</td>\n",
       "      <td>1499_216</td>\n",
       "      <td>2018-10-18</td>\n",
       "      <td>18.83</td>\n",
       "      <td>1499</td>\n",
       "    </tr>\n",
       "    <tr>\n",
       "      <td>202604</td>\n",
       "      <td>1499_217</td>\n",
       "      <td>2018-11-10</td>\n",
       "      <td>10.81</td>\n",
       "      <td>1499</td>\n",
       "    </tr>\n",
       "    <tr>\n",
       "      <td>202605</td>\n",
       "      <td>1499_218</td>\n",
       "      <td>2018-10-06</td>\n",
       "      <td>4.27</td>\n",
       "      <td>1499</td>\n",
       "    </tr>\n",
       "    <tr>\n",
       "      <td>202606</td>\n",
       "      <td>1499_219</td>\n",
       "      <td>2018-12-14</td>\n",
       "      <td>19.62</td>\n",
       "      <td>1499</td>\n",
       "    </tr>\n",
       "  </tbody>\n",
       "</table>\n",
       "<p>202607 rows × 4 columns</p>\n",
       "</div>"
      ],
      "text/plain": [
       "              id   call_date  duration  user_id\n",
       "0         1000_0  2018-07-25      0.00     1000\n",
       "1         1000_1  2018-08-17      0.00     1000\n",
       "2         1000_2  2018-06-11      2.85     1000\n",
       "3         1000_3  2018-09-21     13.80     1000\n",
       "4         1000_4  2018-12-15      5.18     1000\n",
       "...          ...         ...       ...      ...\n",
       "202602  1499_215  2018-12-26      0.76     1499\n",
       "202603  1499_216  2018-10-18     18.83     1499\n",
       "202604  1499_217  2018-11-10     10.81     1499\n",
       "202605  1499_218  2018-10-06      4.27     1499\n",
       "202606  1499_219  2018-12-14     19.62     1499\n",
       "\n",
       "[202607 rows x 4 columns]"
      ]
     },
     "metadata": {},
     "output_type": "display_data"
    },
    {
     "name": "stdout",
     "output_type": "stream",
     "text": [
      "-----------------------------------------------\n",
      "<class 'pandas.core.frame.DataFrame'>\n",
      "RangeIndex: 149396 entries, 0 to 149395\n",
      "Data columns (total 5 columns):\n",
      "Unnamed: 0      149396 non-null int64\n",
      "id              149396 non-null object\n",
      "mb_used         149396 non-null float64\n",
      "session_date    149396 non-null object\n",
      "user_id         149396 non-null int64\n",
      "dtypes: float64(1), int64(2), object(2)\n",
      "memory usage: 5.7+ MB\n"
     ]
    },
    {
     "data": {
      "text/html": [
       "<div>\n",
       "<style scoped>\n",
       "    .dataframe tbody tr th:only-of-type {\n",
       "        vertical-align: middle;\n",
       "    }\n",
       "\n",
       "    .dataframe tbody tr th {\n",
       "        vertical-align: top;\n",
       "    }\n",
       "\n",
       "    .dataframe thead th {\n",
       "        text-align: right;\n",
       "    }\n",
       "</style>\n",
       "<table border=\"1\" class=\"dataframe\">\n",
       "  <thead>\n",
       "    <tr style=\"text-align: right;\">\n",
       "      <th></th>\n",
       "      <th>Unnamed: 0</th>\n",
       "      <th>id</th>\n",
       "      <th>mb_used</th>\n",
       "      <th>session_date</th>\n",
       "      <th>user_id</th>\n",
       "    </tr>\n",
       "  </thead>\n",
       "  <tbody>\n",
       "    <tr>\n",
       "      <td>0</td>\n",
       "      <td>0</td>\n",
       "      <td>1000_0</td>\n",
       "      <td>112.95</td>\n",
       "      <td>2018-11-25</td>\n",
       "      <td>1000</td>\n",
       "    </tr>\n",
       "    <tr>\n",
       "      <td>1</td>\n",
       "      <td>1</td>\n",
       "      <td>1000_1</td>\n",
       "      <td>1052.81</td>\n",
       "      <td>2018-09-07</td>\n",
       "      <td>1000</td>\n",
       "    </tr>\n",
       "    <tr>\n",
       "      <td>2</td>\n",
       "      <td>2</td>\n",
       "      <td>1000_2</td>\n",
       "      <td>1197.26</td>\n",
       "      <td>2018-06-25</td>\n",
       "      <td>1000</td>\n",
       "    </tr>\n",
       "    <tr>\n",
       "      <td>3</td>\n",
       "      <td>3</td>\n",
       "      <td>1000_3</td>\n",
       "      <td>550.27</td>\n",
       "      <td>2018-08-22</td>\n",
       "      <td>1000</td>\n",
       "    </tr>\n",
       "    <tr>\n",
       "      <td>4</td>\n",
       "      <td>4</td>\n",
       "      <td>1000_4</td>\n",
       "      <td>302.56</td>\n",
       "      <td>2018-09-24</td>\n",
       "      <td>1000</td>\n",
       "    </tr>\n",
       "    <tr>\n",
       "      <td>...</td>\n",
       "      <td>...</td>\n",
       "      <td>...</td>\n",
       "      <td>...</td>\n",
       "      <td>...</td>\n",
       "      <td>...</td>\n",
       "    </tr>\n",
       "    <tr>\n",
       "      <td>149391</td>\n",
       "      <td>149391</td>\n",
       "      <td>1499_152</td>\n",
       "      <td>318.90</td>\n",
       "      <td>2018-10-03</td>\n",
       "      <td>1499</td>\n",
       "    </tr>\n",
       "    <tr>\n",
       "      <td>149392</td>\n",
       "      <td>149392</td>\n",
       "      <td>1499_153</td>\n",
       "      <td>490.13</td>\n",
       "      <td>2018-12-14</td>\n",
       "      <td>1499</td>\n",
       "    </tr>\n",
       "    <tr>\n",
       "      <td>149393</td>\n",
       "      <td>149393</td>\n",
       "      <td>1499_154</td>\n",
       "      <td>0.00</td>\n",
       "      <td>2018-10-27</td>\n",
       "      <td>1499</td>\n",
       "    </tr>\n",
       "    <tr>\n",
       "      <td>149394</td>\n",
       "      <td>149394</td>\n",
       "      <td>1499_155</td>\n",
       "      <td>1246.32</td>\n",
       "      <td>2018-11-26</td>\n",
       "      <td>1499</td>\n",
       "    </tr>\n",
       "    <tr>\n",
       "      <td>149395</td>\n",
       "      <td>149395</td>\n",
       "      <td>1499_156</td>\n",
       "      <td>544.37</td>\n",
       "      <td>2018-10-26</td>\n",
       "      <td>1499</td>\n",
       "    </tr>\n",
       "  </tbody>\n",
       "</table>\n",
       "<p>149396 rows × 5 columns</p>\n",
       "</div>"
      ],
      "text/plain": [
       "        Unnamed: 0        id  mb_used session_date  user_id\n",
       "0                0    1000_0   112.95   2018-11-25     1000\n",
       "1                1    1000_1  1052.81   2018-09-07     1000\n",
       "2                2    1000_2  1197.26   2018-06-25     1000\n",
       "3                3    1000_3   550.27   2018-08-22     1000\n",
       "4                4    1000_4   302.56   2018-09-24     1000\n",
       "...            ...       ...      ...          ...      ...\n",
       "149391      149391  1499_152   318.90   2018-10-03     1499\n",
       "149392      149392  1499_153   490.13   2018-12-14     1499\n",
       "149393      149393  1499_154     0.00   2018-10-27     1499\n",
       "149394      149394  1499_155  1246.32   2018-11-26     1499\n",
       "149395      149395  1499_156   544.37   2018-10-26     1499\n",
       "\n",
       "[149396 rows x 5 columns]"
      ]
     },
     "metadata": {},
     "output_type": "display_data"
    },
    {
     "name": "stdout",
     "output_type": "stream",
     "text": [
      "-----------------------------------------------\n",
      "<class 'pandas.core.frame.DataFrame'>\n",
      "RangeIndex: 123036 entries, 0 to 123035\n",
      "Data columns (total 3 columns):\n",
      "id              123036 non-null object\n",
      "message_date    123036 non-null object\n",
      "user_id         123036 non-null int64\n",
      "dtypes: int64(1), object(2)\n",
      "memory usage: 2.8+ MB\n"
     ]
    },
    {
     "data": {
      "text/html": [
       "<div>\n",
       "<style scoped>\n",
       "    .dataframe tbody tr th:only-of-type {\n",
       "        vertical-align: middle;\n",
       "    }\n",
       "\n",
       "    .dataframe tbody tr th {\n",
       "        vertical-align: top;\n",
       "    }\n",
       "\n",
       "    .dataframe thead th {\n",
       "        text-align: right;\n",
       "    }\n",
       "</style>\n",
       "<table border=\"1\" class=\"dataframe\">\n",
       "  <thead>\n",
       "    <tr style=\"text-align: right;\">\n",
       "      <th></th>\n",
       "      <th>id</th>\n",
       "      <th>message_date</th>\n",
       "      <th>user_id</th>\n",
       "    </tr>\n",
       "  </thead>\n",
       "  <tbody>\n",
       "    <tr>\n",
       "      <td>0</td>\n",
       "      <td>1000_0</td>\n",
       "      <td>2018-06-27</td>\n",
       "      <td>1000</td>\n",
       "    </tr>\n",
       "    <tr>\n",
       "      <td>1</td>\n",
       "      <td>1000_1</td>\n",
       "      <td>2018-10-08</td>\n",
       "      <td>1000</td>\n",
       "    </tr>\n",
       "    <tr>\n",
       "      <td>2</td>\n",
       "      <td>1000_2</td>\n",
       "      <td>2018-08-04</td>\n",
       "      <td>1000</td>\n",
       "    </tr>\n",
       "    <tr>\n",
       "      <td>3</td>\n",
       "      <td>1000_3</td>\n",
       "      <td>2018-06-16</td>\n",
       "      <td>1000</td>\n",
       "    </tr>\n",
       "    <tr>\n",
       "      <td>4</td>\n",
       "      <td>1000_4</td>\n",
       "      <td>2018-12-05</td>\n",
       "      <td>1000</td>\n",
       "    </tr>\n",
       "    <tr>\n",
       "      <td>...</td>\n",
       "      <td>...</td>\n",
       "      <td>...</td>\n",
       "      <td>...</td>\n",
       "    </tr>\n",
       "    <tr>\n",
       "      <td>123031</td>\n",
       "      <td>1499_179</td>\n",
       "      <td>2018-12-12</td>\n",
       "      <td>1499</td>\n",
       "    </tr>\n",
       "    <tr>\n",
       "      <td>123032</td>\n",
       "      <td>1499_180</td>\n",
       "      <td>2018-09-28</td>\n",
       "      <td>1499</td>\n",
       "    </tr>\n",
       "    <tr>\n",
       "      <td>123033</td>\n",
       "      <td>1499_181</td>\n",
       "      <td>2018-09-27</td>\n",
       "      <td>1499</td>\n",
       "    </tr>\n",
       "    <tr>\n",
       "      <td>123034</td>\n",
       "      <td>1499_182</td>\n",
       "      <td>2018-11-15</td>\n",
       "      <td>1499</td>\n",
       "    </tr>\n",
       "    <tr>\n",
       "      <td>123035</td>\n",
       "      <td>1499_183</td>\n",
       "      <td>2018-11-16</td>\n",
       "      <td>1499</td>\n",
       "    </tr>\n",
       "  </tbody>\n",
       "</table>\n",
       "<p>123036 rows × 3 columns</p>\n",
       "</div>"
      ],
      "text/plain": [
       "              id message_date  user_id\n",
       "0         1000_0   2018-06-27     1000\n",
       "1         1000_1   2018-10-08     1000\n",
       "2         1000_2   2018-08-04     1000\n",
       "3         1000_3   2018-06-16     1000\n",
       "4         1000_4   2018-12-05     1000\n",
       "...          ...          ...      ...\n",
       "123031  1499_179   2018-12-12     1499\n",
       "123032  1499_180   2018-09-28     1499\n",
       "123033  1499_181   2018-09-27     1499\n",
       "123034  1499_182   2018-11-15     1499\n",
       "123035  1499_183   2018-11-16     1499\n",
       "\n",
       "[123036 rows x 3 columns]"
      ]
     },
     "metadata": {},
     "output_type": "display_data"
    },
    {
     "name": "stdout",
     "output_type": "stream",
     "text": [
      "-----------------------------------------------\n",
      "<class 'pandas.core.frame.DataFrame'>\n",
      "RangeIndex: 2 entries, 0 to 1\n",
      "Data columns (total 8 columns):\n",
      "messages_included        2 non-null int64\n",
      "mb_per_month_included    2 non-null int64\n",
      "minutes_included         2 non-null int64\n",
      "rub_monthly_fee          2 non-null int64\n",
      "rub_per_gb               2 non-null int64\n",
      "rub_per_message          2 non-null int64\n",
      "rub_per_minute           2 non-null int64\n",
      "tariff_name              2 non-null object\n",
      "dtypes: int64(7), object(1)\n",
      "memory usage: 256.0+ bytes\n"
     ]
    },
    {
     "data": {
      "text/html": [
       "<div>\n",
       "<style scoped>\n",
       "    .dataframe tbody tr th:only-of-type {\n",
       "        vertical-align: middle;\n",
       "    }\n",
       "\n",
       "    .dataframe tbody tr th {\n",
       "        vertical-align: top;\n",
       "    }\n",
       "\n",
       "    .dataframe thead th {\n",
       "        text-align: right;\n",
       "    }\n",
       "</style>\n",
       "<table border=\"1\" class=\"dataframe\">\n",
       "  <thead>\n",
       "    <tr style=\"text-align: right;\">\n",
       "      <th></th>\n",
       "      <th>messages_included</th>\n",
       "      <th>mb_per_month_included</th>\n",
       "      <th>minutes_included</th>\n",
       "      <th>rub_monthly_fee</th>\n",
       "      <th>rub_per_gb</th>\n",
       "      <th>rub_per_message</th>\n",
       "      <th>rub_per_minute</th>\n",
       "      <th>tariff_name</th>\n",
       "    </tr>\n",
       "  </thead>\n",
       "  <tbody>\n",
       "    <tr>\n",
       "      <td>0</td>\n",
       "      <td>50</td>\n",
       "      <td>15360</td>\n",
       "      <td>500</td>\n",
       "      <td>550</td>\n",
       "      <td>200</td>\n",
       "      <td>3</td>\n",
       "      <td>3</td>\n",
       "      <td>smart</td>\n",
       "    </tr>\n",
       "    <tr>\n",
       "      <td>1</td>\n",
       "      <td>1000</td>\n",
       "      <td>30720</td>\n",
       "      <td>3000</td>\n",
       "      <td>1950</td>\n",
       "      <td>150</td>\n",
       "      <td>1</td>\n",
       "      <td>1</td>\n",
       "      <td>ultra</td>\n",
       "    </tr>\n",
       "  </tbody>\n",
       "</table>\n",
       "</div>"
      ],
      "text/plain": [
       "   messages_included  mb_per_month_included  minutes_included  \\\n",
       "0                 50                  15360               500   \n",
       "1               1000                  30720              3000   \n",
       "\n",
       "   rub_monthly_fee  rub_per_gb  rub_per_message  rub_per_minute tariff_name  \n",
       "0              550         200                3               3       smart  \n",
       "1             1950         150                1               1       ultra  "
      ]
     },
     "metadata": {},
     "output_type": "display_data"
    },
    {
     "name": "stdout",
     "output_type": "stream",
     "text": [
      "-----------------------------------------------\n",
      "<class 'pandas.core.frame.DataFrame'>\n",
      "RangeIndex: 500 entries, 0 to 499\n",
      "Data columns (total 8 columns):\n",
      "user_id       500 non-null int64\n",
      "age           500 non-null int64\n",
      "churn_date    38 non-null object\n",
      "city          500 non-null object\n",
      "first_name    500 non-null object\n",
      "last_name     500 non-null object\n",
      "reg_date      500 non-null object\n",
      "tariff        500 non-null object\n",
      "dtypes: int64(2), object(6)\n",
      "memory usage: 31.4+ KB\n"
     ]
    },
    {
     "data": {
      "text/html": [
       "<div>\n",
       "<style scoped>\n",
       "    .dataframe tbody tr th:only-of-type {\n",
       "        vertical-align: middle;\n",
       "    }\n",
       "\n",
       "    .dataframe tbody tr th {\n",
       "        vertical-align: top;\n",
       "    }\n",
       "\n",
       "    .dataframe thead th {\n",
       "        text-align: right;\n",
       "    }\n",
       "</style>\n",
       "<table border=\"1\" class=\"dataframe\">\n",
       "  <thead>\n",
       "    <tr style=\"text-align: right;\">\n",
       "      <th></th>\n",
       "      <th>user_id</th>\n",
       "      <th>age</th>\n",
       "      <th>churn_date</th>\n",
       "      <th>city</th>\n",
       "      <th>first_name</th>\n",
       "      <th>last_name</th>\n",
       "      <th>reg_date</th>\n",
       "      <th>tariff</th>\n",
       "    </tr>\n",
       "  </thead>\n",
       "  <tbody>\n",
       "    <tr>\n",
       "      <td>0</td>\n",
       "      <td>1000</td>\n",
       "      <td>52</td>\n",
       "      <td>NaN</td>\n",
       "      <td>Краснодар</td>\n",
       "      <td>Рафаил</td>\n",
       "      <td>Верещагин</td>\n",
       "      <td>2018-05-25</td>\n",
       "      <td>ultra</td>\n",
       "    </tr>\n",
       "    <tr>\n",
       "      <td>1</td>\n",
       "      <td>1001</td>\n",
       "      <td>41</td>\n",
       "      <td>NaN</td>\n",
       "      <td>Москва</td>\n",
       "      <td>Иван</td>\n",
       "      <td>Ежов</td>\n",
       "      <td>2018-11-01</td>\n",
       "      <td>smart</td>\n",
       "    </tr>\n",
       "    <tr>\n",
       "      <td>2</td>\n",
       "      <td>1002</td>\n",
       "      <td>59</td>\n",
       "      <td>NaN</td>\n",
       "      <td>Стерлитамак</td>\n",
       "      <td>Евгений</td>\n",
       "      <td>Абрамович</td>\n",
       "      <td>2018-06-17</td>\n",
       "      <td>smart</td>\n",
       "    </tr>\n",
       "    <tr>\n",
       "      <td>3</td>\n",
       "      <td>1003</td>\n",
       "      <td>23</td>\n",
       "      <td>NaN</td>\n",
       "      <td>Москва</td>\n",
       "      <td>Белла</td>\n",
       "      <td>Белякова</td>\n",
       "      <td>2018-08-17</td>\n",
       "      <td>ultra</td>\n",
       "    </tr>\n",
       "    <tr>\n",
       "      <td>4</td>\n",
       "      <td>1004</td>\n",
       "      <td>68</td>\n",
       "      <td>NaN</td>\n",
       "      <td>Новокузнецк</td>\n",
       "      <td>Татьяна</td>\n",
       "      <td>Авдеенко</td>\n",
       "      <td>2018-05-14</td>\n",
       "      <td>ultra</td>\n",
       "    </tr>\n",
       "    <tr>\n",
       "      <td>...</td>\n",
       "      <td>...</td>\n",
       "      <td>...</td>\n",
       "      <td>...</td>\n",
       "      <td>...</td>\n",
       "      <td>...</td>\n",
       "      <td>...</td>\n",
       "      <td>...</td>\n",
       "      <td>...</td>\n",
       "    </tr>\n",
       "    <tr>\n",
       "      <td>495</td>\n",
       "      <td>1495</td>\n",
       "      <td>65</td>\n",
       "      <td>NaN</td>\n",
       "      <td>Иркутск</td>\n",
       "      <td>Авксентий</td>\n",
       "      <td>Фокин</td>\n",
       "      <td>2018-08-28</td>\n",
       "      <td>ultra</td>\n",
       "    </tr>\n",
       "    <tr>\n",
       "      <td>496</td>\n",
       "      <td>1496</td>\n",
       "      <td>36</td>\n",
       "      <td>NaN</td>\n",
       "      <td>Вологда</td>\n",
       "      <td>Трифон</td>\n",
       "      <td>Блохин</td>\n",
       "      <td>2018-01-27</td>\n",
       "      <td>smart</td>\n",
       "    </tr>\n",
       "    <tr>\n",
       "      <td>497</td>\n",
       "      <td>1497</td>\n",
       "      <td>32</td>\n",
       "      <td>NaN</td>\n",
       "      <td>Челябинск</td>\n",
       "      <td>Каролина</td>\n",
       "      <td>Агеева</td>\n",
       "      <td>2018-10-09</td>\n",
       "      <td>smart</td>\n",
       "    </tr>\n",
       "    <tr>\n",
       "      <td>498</td>\n",
       "      <td>1498</td>\n",
       "      <td>68</td>\n",
       "      <td>2018-10-25</td>\n",
       "      <td>Владикавказ</td>\n",
       "      <td>Всеволод</td>\n",
       "      <td>Акимчин</td>\n",
       "      <td>2018-07-19</td>\n",
       "      <td>smart</td>\n",
       "    </tr>\n",
       "    <tr>\n",
       "      <td>499</td>\n",
       "      <td>1499</td>\n",
       "      <td>35</td>\n",
       "      <td>NaN</td>\n",
       "      <td>Пермь</td>\n",
       "      <td>Гектор</td>\n",
       "      <td>Корнилов</td>\n",
       "      <td>2018-09-27</td>\n",
       "      <td>smart</td>\n",
       "    </tr>\n",
       "  </tbody>\n",
       "</table>\n",
       "<p>500 rows × 8 columns</p>\n",
       "</div>"
      ],
      "text/plain": [
       "     user_id  age  churn_date         city first_name  last_name    reg_date  \\\n",
       "0       1000   52         NaN    Краснодар     Рафаил  Верещагин  2018-05-25   \n",
       "1       1001   41         NaN       Москва       Иван       Ежов  2018-11-01   \n",
       "2       1002   59         NaN  Стерлитамак    Евгений  Абрамович  2018-06-17   \n",
       "3       1003   23         NaN       Москва      Белла   Белякова  2018-08-17   \n",
       "4       1004   68         NaN  Новокузнецк    Татьяна   Авдеенко  2018-05-14   \n",
       "..       ...  ...         ...          ...        ...        ...         ...   \n",
       "495     1495   65         NaN      Иркутск  Авксентий      Фокин  2018-08-28   \n",
       "496     1496   36         NaN      Вологда     Трифон     Блохин  2018-01-27   \n",
       "497     1497   32         NaN    Челябинск   Каролина     Агеева  2018-10-09   \n",
       "498     1498   68  2018-10-25  Владикавказ   Всеволод    Акимчин  2018-07-19   \n",
       "499     1499   35         NaN        Пермь     Гектор   Корнилов  2018-09-27   \n",
       "\n",
       "    tariff  \n",
       "0    ultra  \n",
       "1    smart  \n",
       "2    smart  \n",
       "3    ultra  \n",
       "4    ultra  \n",
       "..     ...  \n",
       "495  ultra  \n",
       "496  smart  \n",
       "497  smart  \n",
       "498  smart  \n",
       "499  smart  \n",
       "\n",
       "[500 rows x 8 columns]"
      ]
     },
     "metadata": {},
     "output_type": "display_data"
    },
    {
     "name": "stdout",
     "output_type": "stream",
     "text": [
      "-----------------------------------------------\n"
     ]
    }
   ],
   "source": [
    "#через цикл загружаем файлы и выводим на экран, в т.ч. применяем метод info()\n",
    "\n",
    "datasets = ['calls', 'internet', 'messages', 'tariffs', 'users']\n",
    "\n",
    "for dataset in datasets:\n",
    "    files = glob.glob('/datasets/' + dataset + '.csv')\n",
    "    for file in files:\n",
    "        globals()[dataset] = pd.read_csv(file)\n",
    "        globals()[dataset].info()\n",
    "        display(globals()[dataset])\n",
    "        print('-----------------------------------------------')  "
   ]
  },
  {
   "cell_type": "code",
   "execution_count": 4,
   "metadata": {},
   "outputs": [],
   "source": [
    "def to_datetime_type(dataset, col): #функция для изменения формата данных на datetime64[ns]\n",
    "    dataset[col]  = pd.to_datetime(dataset[col], format='%Y-%m-%d')\n",
    "    \n",
    "def copy_column(dataset, col): #функция для копирования столбца в новый с именем 'month'\n",
    "    dataset['month'] = dataset[col]    "
   ]
  },
  {
   "cell_type": "code",
   "execution_count": 5,
   "metadata": {},
   "outputs": [
    {
     "name": "stdout",
     "output_type": "stream",
     "text": [
      "<class 'pandas.core.frame.DataFrame'>\n",
      "RangeIndex: 202607 entries, 0 to 202606\n",
      "Data columns (total 5 columns):\n",
      "id           202607 non-null object\n",
      "call_date    202607 non-null datetime64[ns]\n",
      "duration     202607 non-null float64\n",
      "user_id      202607 non-null int64\n",
      "month        202607 non-null datetime64[ns]\n",
      "dtypes: datetime64[ns](2), float64(1), int64(1), object(1)\n",
      "memory usage: 7.7+ MB\n",
      "------------------------------------------\n",
      "<class 'pandas.core.frame.DataFrame'>\n",
      "RangeIndex: 149396 entries, 0 to 149395\n",
      "Data columns (total 6 columns):\n",
      "Unnamed: 0      149396 non-null int64\n",
      "id              149396 non-null object\n",
      "mb_used         149396 non-null float64\n",
      "session_date    149396 non-null datetime64[ns]\n",
      "user_id         149396 non-null int64\n",
      "month           149396 non-null datetime64[ns]\n",
      "dtypes: datetime64[ns](2), float64(1), int64(2), object(1)\n",
      "memory usage: 6.8+ MB\n",
      "------------------------------------------\n",
      "<class 'pandas.core.frame.DataFrame'>\n",
      "RangeIndex: 123036 entries, 0 to 123035\n",
      "Data columns (total 4 columns):\n",
      "id              123036 non-null object\n",
      "message_date    123036 non-null datetime64[ns]\n",
      "user_id         123036 non-null int64\n",
      "month           123036 non-null datetime64[ns]\n",
      "dtypes: datetime64[ns](2), int64(1), object(1)\n",
      "memory usage: 3.8+ MB\n",
      "------------------------------------------\n"
     ]
    }
   ],
   "source": [
    "#через цикл пременяем функции к фреймам и столбцам из словаря, выводим на экран info()\n",
    "\n",
    "date_cols = {'calls' : 'call_date', 'internet' : 'session_date', 'messages' : 'message_date'}\n",
    "\n",
    "for key in date_cols:\n",
    "    to_datetime_type(globals()[key], date_cols[key])\n",
    "    copy_column(globals()[key], date_cols[key])\n",
    "    globals()[key].info()\n",
    "    print('------------------------------------------')"
   ]
  },
  {
   "cell_type": "code",
   "execution_count": 6,
   "metadata": {},
   "outputs": [
    {
     "name": "stdout",
     "output_type": "stream",
     "text": [
      "<class 'pandas.core.frame.DataFrame'>\n",
      "RangeIndex: 500 entries, 0 to 499\n",
      "Data columns (total 8 columns):\n",
      "user_id       500 non-null int64\n",
      "age           500 non-null int64\n",
      "churn_date    38 non-null object\n",
      "city          500 non-null object\n",
      "first_name    500 non-null object\n",
      "last_name     500 non-null object\n",
      "reg_date      500 non-null datetime64[ns]\n",
      "tariff        500 non-null object\n",
      "dtypes: datetime64[ns](1), int64(2), object(5)\n",
      "memory usage: 31.4+ KB\n"
     ]
    }
   ],
   "source": [
    "users['reg_date']  = pd.to_datetime(users['reg_date'], format='%Y-%m-%d')\n",
    "users.info()"
   ]
  },
  {
   "cell_type": "markdown",
   "metadata": {},
   "source": [
    "**Вывод**\n",
    "\n",
    "Все 5 файлов прочитаны и загружены в Pandas.\n",
    "Для всех фреймов по всем столбцам, содержащим дату, изменены форматы данных - с object на datetime64.\n",
    "Данные не содержат видимых ошибок."
   ]
  },
  {
   "cell_type": "markdown",
   "metadata": {},
   "source": [
    "## Расчёты и добавление результатов"
   ]
  },
  {
   "cell_type": "markdown",
   "metadata": {},
   "source": [
    "На основе фрейма calls создаем новый фрейм данных calls_grouped, куда помещаем сгруппированные по 'user_id' и 'month' данные, рассчитав общее кол-во звонков и их продолжительность по месяцам по каждому абоненту."
   ]
  },
  {
   "cell_type": "code",
   "execution_count": 7,
   "metadata": {},
   "outputs": [
    {
     "data": {
      "text/html": [
       "<div>\n",
       "<style scoped>\n",
       "    .dataframe tbody tr th:only-of-type {\n",
       "        vertical-align: middle;\n",
       "    }\n",
       "\n",
       "    .dataframe tbody tr th {\n",
       "        vertical-align: top;\n",
       "    }\n",
       "\n",
       "    .dataframe thead th {\n",
       "        text-align: right;\n",
       "    }\n",
       "</style>\n",
       "<table border=\"1\" class=\"dataframe\">\n",
       "  <thead>\n",
       "    <tr style=\"text-align: right;\">\n",
       "      <th></th>\n",
       "      <th>user_id</th>\n",
       "      <th>month</th>\n",
       "      <th>calls_qty</th>\n",
       "      <th>minutes_qty</th>\n",
       "    </tr>\n",
       "  </thead>\n",
       "  <tbody>\n",
       "    <tr>\n",
       "      <td>0</td>\n",
       "      <td>1000</td>\n",
       "      <td>2018-05-31</td>\n",
       "      <td>22</td>\n",
       "      <td>159</td>\n",
       "    </tr>\n",
       "    <tr>\n",
       "      <td>1</td>\n",
       "      <td>1000</td>\n",
       "      <td>2018-06-30</td>\n",
       "      <td>43</td>\n",
       "      <td>172</td>\n",
       "    </tr>\n",
       "    <tr>\n",
       "      <td>2</td>\n",
       "      <td>1000</td>\n",
       "      <td>2018-07-31</td>\n",
       "      <td>47</td>\n",
       "      <td>340</td>\n",
       "    </tr>\n",
       "    <tr>\n",
       "      <td>3</td>\n",
       "      <td>1000</td>\n",
       "      <td>2018-08-31</td>\n",
       "      <td>52</td>\n",
       "      <td>408</td>\n",
       "    </tr>\n",
       "    <tr>\n",
       "      <td>4</td>\n",
       "      <td>1000</td>\n",
       "      <td>2018-09-30</td>\n",
       "      <td>58</td>\n",
       "      <td>466</td>\n",
       "    </tr>\n",
       "    <tr>\n",
       "      <td>...</td>\n",
       "      <td>...</td>\n",
       "      <td>...</td>\n",
       "      <td>...</td>\n",
       "      <td>...</td>\n",
       "    </tr>\n",
       "    <tr>\n",
       "      <td>3169</td>\n",
       "      <td>1498</td>\n",
       "      <td>2018-10-31</td>\n",
       "      <td>41</td>\n",
       "      <td>247</td>\n",
       "    </tr>\n",
       "    <tr>\n",
       "      <td>3170</td>\n",
       "      <td>1499</td>\n",
       "      <td>2018-09-30</td>\n",
       "      <td>9</td>\n",
       "      <td>70</td>\n",
       "    </tr>\n",
       "    <tr>\n",
       "      <td>3171</td>\n",
       "      <td>1499</td>\n",
       "      <td>2018-10-31</td>\n",
       "      <td>68</td>\n",
       "      <td>449</td>\n",
       "    </tr>\n",
       "    <tr>\n",
       "      <td>3172</td>\n",
       "      <td>1499</td>\n",
       "      <td>2018-11-30</td>\n",
       "      <td>74</td>\n",
       "      <td>612</td>\n",
       "    </tr>\n",
       "    <tr>\n",
       "      <td>3173</td>\n",
       "      <td>1499</td>\n",
       "      <td>2018-12-31</td>\n",
       "      <td>69</td>\n",
       "      <td>492</td>\n",
       "    </tr>\n",
       "  </tbody>\n",
       "</table>\n",
       "<p>3174 rows × 4 columns</p>\n",
       "</div>"
      ],
      "text/plain": [
       "      user_id      month  calls_qty  minutes_qty\n",
       "0        1000 2018-05-31         22          159\n",
       "1        1000 2018-06-30         43          172\n",
       "2        1000 2018-07-31         47          340\n",
       "3        1000 2018-08-31         52          408\n",
       "4        1000 2018-09-30         58          466\n",
       "...       ...        ...        ...          ...\n",
       "3169     1498 2018-10-31         41          247\n",
       "3170     1499 2018-09-30          9           70\n",
       "3171     1499 2018-10-31         68          449\n",
       "3172     1499 2018-11-30         74          612\n",
       "3173     1499 2018-12-31         69          492\n",
       "\n",
       "[3174 rows x 4 columns]"
      ]
     },
     "execution_count": 7,
     "metadata": {},
     "output_type": "execute_result"
    }
   ],
   "source": [
    "calls['duration_rouned'] = np.ceil(calls['duration']).astype(int) #округляем каждый звонок до целых минут вверх\n",
    "\n",
    "calls_grouped = calls.groupby(['user_id', pd.Grouper(key='month', freq='M')]).agg({'duration_rouned':['count', 'sum']})\n",
    "#группируем данные по 'user_id' и 'month' и \n",
    "#рассчитываем общее кол-во звонков и их продолжительность по месяцам по каждому абоненту\n",
    "\n",
    "calls_grouped.columns = ['calls_qty', 'minutes_qty'] #избавляемся от мультииндекса путем переименования столбцов\n",
    "calls_grouped = calls_grouped.reset_index() #сбрасываем индексы\n",
    "calls_grouped"
   ]
  },
  {
   "cell_type": "markdown",
   "metadata": {},
   "source": [
    "На основе фрейма internet создаем новый фрейм данных internet_grouped, куда помещаем сгруппированные по 'user_id' и 'month' данные, рассчитав общий дата трафик в Гб по месяцам по каждому абоненту."
   ]
  },
  {
   "cell_type": "code",
   "execution_count": 8,
   "metadata": {},
   "outputs": [
    {
     "data": {
      "text/html": [
       "<div>\n",
       "<style scoped>\n",
       "    .dataframe tbody tr th:only-of-type {\n",
       "        vertical-align: middle;\n",
       "    }\n",
       "\n",
       "    .dataframe tbody tr th {\n",
       "        vertical-align: top;\n",
       "    }\n",
       "\n",
       "    .dataframe thead th {\n",
       "        text-align: right;\n",
       "    }\n",
       "</style>\n",
       "<table border=\"1\" class=\"dataframe\">\n",
       "  <thead>\n",
       "    <tr style=\"text-align: right;\">\n",
       "      <th></th>\n",
       "      <th>user_id</th>\n",
       "      <th>month</th>\n",
       "      <th>mb_used</th>\n",
       "      <th>gb_used</th>\n",
       "    </tr>\n",
       "  </thead>\n",
       "  <tbody>\n",
       "    <tr>\n",
       "      <td>0</td>\n",
       "      <td>1000</td>\n",
       "      <td>2018-05-31</td>\n",
       "      <td>2253.49</td>\n",
       "      <td>3</td>\n",
       "    </tr>\n",
       "    <tr>\n",
       "      <td>1</td>\n",
       "      <td>1000</td>\n",
       "      <td>2018-06-30</td>\n",
       "      <td>23233.77</td>\n",
       "      <td>23</td>\n",
       "    </tr>\n",
       "    <tr>\n",
       "      <td>2</td>\n",
       "      <td>1000</td>\n",
       "      <td>2018-07-31</td>\n",
       "      <td>14003.64</td>\n",
       "      <td>14</td>\n",
       "    </tr>\n",
       "    <tr>\n",
       "      <td>3</td>\n",
       "      <td>1000</td>\n",
       "      <td>2018-08-31</td>\n",
       "      <td>14055.93</td>\n",
       "      <td>14</td>\n",
       "    </tr>\n",
       "    <tr>\n",
       "      <td>4</td>\n",
       "      <td>1000</td>\n",
       "      <td>2018-09-30</td>\n",
       "      <td>14568.91</td>\n",
       "      <td>15</td>\n",
       "    </tr>\n",
       "    <tr>\n",
       "      <td>...</td>\n",
       "      <td>...</td>\n",
       "      <td>...</td>\n",
       "      <td>...</td>\n",
       "      <td>...</td>\n",
       "    </tr>\n",
       "    <tr>\n",
       "      <td>3198</td>\n",
       "      <td>1498</td>\n",
       "      <td>2018-10-31</td>\n",
       "      <td>20579.36</td>\n",
       "      <td>21</td>\n",
       "    </tr>\n",
       "    <tr>\n",
       "      <td>3199</td>\n",
       "      <td>1499</td>\n",
       "      <td>2018-09-30</td>\n",
       "      <td>1845.75</td>\n",
       "      <td>2</td>\n",
       "    </tr>\n",
       "    <tr>\n",
       "      <td>3200</td>\n",
       "      <td>1499</td>\n",
       "      <td>2018-10-31</td>\n",
       "      <td>17788.51</td>\n",
       "      <td>18</td>\n",
       "    </tr>\n",
       "    <tr>\n",
       "      <td>3201</td>\n",
       "      <td>1499</td>\n",
       "      <td>2018-11-30</td>\n",
       "      <td>17963.31</td>\n",
       "      <td>18</td>\n",
       "    </tr>\n",
       "    <tr>\n",
       "      <td>3202</td>\n",
       "      <td>1499</td>\n",
       "      <td>2018-12-31</td>\n",
       "      <td>13055.58</td>\n",
       "      <td>13</td>\n",
       "    </tr>\n",
       "  </tbody>\n",
       "</table>\n",
       "<p>3203 rows × 4 columns</p>\n",
       "</div>"
      ],
      "text/plain": [
       "      user_id      month   mb_used  gb_used\n",
       "0        1000 2018-05-31   2253.49        3\n",
       "1        1000 2018-06-30  23233.77       23\n",
       "2        1000 2018-07-31  14003.64       14\n",
       "3        1000 2018-08-31  14055.93       14\n",
       "4        1000 2018-09-30  14568.91       15\n",
       "...       ...        ...       ...      ...\n",
       "3198     1498 2018-10-31  20579.36       21\n",
       "3199     1499 2018-09-30   1845.75        2\n",
       "3200     1499 2018-10-31  17788.51       18\n",
       "3201     1499 2018-11-30  17963.31       18\n",
       "3202     1499 2018-12-31  13055.58       13\n",
       "\n",
       "[3203 rows x 4 columns]"
      ]
     },
     "execution_count": 8,
     "metadata": {},
     "output_type": "execute_result"
    }
   ],
   "source": [
    "internet_grouped = internet.groupby(['user_id', pd.Grouper(key='month', freq='M')]).agg({'mb_used':'sum'}).reset_index()\n",
    "#группируем данные по 'user_id' и 'month' и \n",
    "#рассчитываем общий дата трафик по месяцам по каждому абоненту\n",
    "\n",
    "internet_grouped['gb_used'] = np.ceil(internet_grouped['mb_used'] / mb_to_gb).astype(int)\n",
    "#трафик округляем до целый Гб вверх\n",
    "\n",
    "internet_grouped"
   ]
  },
  {
   "cell_type": "markdown",
   "metadata": {},
   "source": [
    "На основе фрейма messages создаем новый фрейм данных messages_grouped, куда помещаем сгруппированные по 'user_id' и 'month' данные, рассчитав общий кол-во SMS по месяцам по каждому абоненту."
   ]
  },
  {
   "cell_type": "code",
   "execution_count": 9,
   "metadata": {},
   "outputs": [
    {
     "data": {
      "text/html": [
       "<div>\n",
       "<style scoped>\n",
       "    .dataframe tbody tr th:only-of-type {\n",
       "        vertical-align: middle;\n",
       "    }\n",
       "\n",
       "    .dataframe tbody tr th {\n",
       "        vertical-align: top;\n",
       "    }\n",
       "\n",
       "    .dataframe thead th {\n",
       "        text-align: right;\n",
       "    }\n",
       "</style>\n",
       "<table border=\"1\" class=\"dataframe\">\n",
       "  <thead>\n",
       "    <tr style=\"text-align: right;\">\n",
       "      <th></th>\n",
       "      <th>user_id</th>\n",
       "      <th>month</th>\n",
       "      <th>messages_qty</th>\n",
       "    </tr>\n",
       "  </thead>\n",
       "  <tbody>\n",
       "    <tr>\n",
       "      <td>0</td>\n",
       "      <td>1000</td>\n",
       "      <td>2018-05-31</td>\n",
       "      <td>22</td>\n",
       "    </tr>\n",
       "    <tr>\n",
       "      <td>1</td>\n",
       "      <td>1000</td>\n",
       "      <td>2018-06-30</td>\n",
       "      <td>60</td>\n",
       "    </tr>\n",
       "    <tr>\n",
       "      <td>2</td>\n",
       "      <td>1000</td>\n",
       "      <td>2018-07-31</td>\n",
       "      <td>75</td>\n",
       "    </tr>\n",
       "    <tr>\n",
       "      <td>3</td>\n",
       "      <td>1000</td>\n",
       "      <td>2018-08-31</td>\n",
       "      <td>81</td>\n",
       "    </tr>\n",
       "    <tr>\n",
       "      <td>4</td>\n",
       "      <td>1000</td>\n",
       "      <td>2018-09-30</td>\n",
       "      <td>57</td>\n",
       "    </tr>\n",
       "    <tr>\n",
       "      <td>...</td>\n",
       "      <td>...</td>\n",
       "      <td>...</td>\n",
       "      <td>...</td>\n",
       "    </tr>\n",
       "    <tr>\n",
       "      <td>2712</td>\n",
       "      <td>1498</td>\n",
       "      <td>2018-10-31</td>\n",
       "      <td>42</td>\n",
       "    </tr>\n",
       "    <tr>\n",
       "      <td>2713</td>\n",
       "      <td>1499</td>\n",
       "      <td>2018-09-30</td>\n",
       "      <td>11</td>\n",
       "    </tr>\n",
       "    <tr>\n",
       "      <td>2714</td>\n",
       "      <td>1499</td>\n",
       "      <td>2018-10-31</td>\n",
       "      <td>48</td>\n",
       "    </tr>\n",
       "    <tr>\n",
       "      <td>2715</td>\n",
       "      <td>1499</td>\n",
       "      <td>2018-11-30</td>\n",
       "      <td>59</td>\n",
       "    </tr>\n",
       "    <tr>\n",
       "      <td>2716</td>\n",
       "      <td>1499</td>\n",
       "      <td>2018-12-31</td>\n",
       "      <td>66</td>\n",
       "    </tr>\n",
       "  </tbody>\n",
       "</table>\n",
       "<p>2717 rows × 3 columns</p>\n",
       "</div>"
      ],
      "text/plain": [
       "      user_id      month  messages_qty\n",
       "0        1000 2018-05-31            22\n",
       "1        1000 2018-06-30            60\n",
       "2        1000 2018-07-31            75\n",
       "3        1000 2018-08-31            81\n",
       "4        1000 2018-09-30            57\n",
       "...       ...        ...           ...\n",
       "2712     1498 2018-10-31            42\n",
       "2713     1499 2018-09-30            11\n",
       "2714     1499 2018-10-31            48\n",
       "2715     1499 2018-11-30            59\n",
       "2716     1499 2018-12-31            66\n",
       "\n",
       "[2717 rows x 3 columns]"
      ]
     },
     "execution_count": 9,
     "metadata": {},
     "output_type": "execute_result"
    }
   ],
   "source": [
    "messages_grouped = messages.groupby(['user_id', pd.Grouper(key='month', freq='M')]).agg({'month':'count'})\n",
    "#группируем данные по 'user_id' и 'month' и \n",
    "#рассчитываем кол-во SMS по месяцам по каждому абоненту\n",
    "\n",
    "messages_grouped.columns = ['messages_qty'] \n",
    "messages_grouped = messages_grouped.reset_index()\n",
    "messages_grouped"
   ]
  },
  {
   "cell_type": "markdown",
   "metadata": {},
   "source": [
    "Объединяем все три фрейма - calls_grouped, internet_grouped, messages_grouped - в один методом merge() по 'user_id' и 'month'."
   ]
  },
  {
   "cell_type": "code",
   "execution_count": 10,
   "metadata": {},
   "outputs": [
    {
     "data": {
      "text/html": [
       "<div>\n",
       "<style scoped>\n",
       "    .dataframe tbody tr th:only-of-type {\n",
       "        vertical-align: middle;\n",
       "    }\n",
       "\n",
       "    .dataframe tbody tr th {\n",
       "        vertical-align: top;\n",
       "    }\n",
       "\n",
       "    .dataframe thead th {\n",
       "        text-align: right;\n",
       "    }\n",
       "</style>\n",
       "<table border=\"1\" class=\"dataframe\">\n",
       "  <thead>\n",
       "    <tr style=\"text-align: right;\">\n",
       "      <th></th>\n",
       "      <th>user_id</th>\n",
       "      <th>month</th>\n",
       "      <th>calls_qty</th>\n",
       "      <th>minutes_qty</th>\n",
       "      <th>mb_used</th>\n",
       "      <th>gb_used</th>\n",
       "      <th>messages_qty</th>\n",
       "    </tr>\n",
       "  </thead>\n",
       "  <tbody>\n",
       "    <tr>\n",
       "      <td>0</td>\n",
       "      <td>1000</td>\n",
       "      <td>2018-05-31</td>\n",
       "      <td>22.0</td>\n",
       "      <td>159.0</td>\n",
       "      <td>2253.49</td>\n",
       "      <td>3.0</td>\n",
       "      <td>22.0</td>\n",
       "    </tr>\n",
       "    <tr>\n",
       "      <td>1</td>\n",
       "      <td>1000</td>\n",
       "      <td>2018-06-30</td>\n",
       "      <td>43.0</td>\n",
       "      <td>172.0</td>\n",
       "      <td>23233.77</td>\n",
       "      <td>23.0</td>\n",
       "      <td>60.0</td>\n",
       "    </tr>\n",
       "    <tr>\n",
       "      <td>2</td>\n",
       "      <td>1000</td>\n",
       "      <td>2018-07-31</td>\n",
       "      <td>47.0</td>\n",
       "      <td>340.0</td>\n",
       "      <td>14003.64</td>\n",
       "      <td>14.0</td>\n",
       "      <td>75.0</td>\n",
       "    </tr>\n",
       "    <tr>\n",
       "      <td>3</td>\n",
       "      <td>1000</td>\n",
       "      <td>2018-08-31</td>\n",
       "      <td>52.0</td>\n",
       "      <td>408.0</td>\n",
       "      <td>14055.93</td>\n",
       "      <td>14.0</td>\n",
       "      <td>81.0</td>\n",
       "    </tr>\n",
       "    <tr>\n",
       "      <td>4</td>\n",
       "      <td>1000</td>\n",
       "      <td>2018-09-30</td>\n",
       "      <td>58.0</td>\n",
       "      <td>466.0</td>\n",
       "      <td>14568.91</td>\n",
       "      <td>15.0</td>\n",
       "      <td>57.0</td>\n",
       "    </tr>\n",
       "    <tr>\n",
       "      <td>...</td>\n",
       "      <td>...</td>\n",
       "      <td>...</td>\n",
       "      <td>...</td>\n",
       "      <td>...</td>\n",
       "      <td>...</td>\n",
       "      <td>...</td>\n",
       "      <td>...</td>\n",
       "    </tr>\n",
       "    <tr>\n",
       "      <td>3209</td>\n",
       "      <td>1489</td>\n",
       "      <td>2018-08-31</td>\n",
       "      <td>NaN</td>\n",
       "      <td>NaN</td>\n",
       "      <td>11050.56</td>\n",
       "      <td>11.0</td>\n",
       "      <td>17.0</td>\n",
       "    </tr>\n",
       "    <tr>\n",
       "      <td>3210</td>\n",
       "      <td>1489</td>\n",
       "      <td>2018-09-30</td>\n",
       "      <td>NaN</td>\n",
       "      <td>NaN</td>\n",
       "      <td>17206.30</td>\n",
       "      <td>17.0</td>\n",
       "      <td>32.0</td>\n",
       "    </tr>\n",
       "    <tr>\n",
       "      <td>3211</td>\n",
       "      <td>1489</td>\n",
       "      <td>2018-10-31</td>\n",
       "      <td>NaN</td>\n",
       "      <td>NaN</td>\n",
       "      <td>19559.44</td>\n",
       "      <td>20.0</td>\n",
       "      <td>21.0</td>\n",
       "    </tr>\n",
       "    <tr>\n",
       "      <td>3212</td>\n",
       "      <td>1489</td>\n",
       "      <td>2018-11-30</td>\n",
       "      <td>NaN</td>\n",
       "      <td>NaN</td>\n",
       "      <td>17491.56</td>\n",
       "      <td>18.0</td>\n",
       "      <td>20.0</td>\n",
       "    </tr>\n",
       "    <tr>\n",
       "      <td>3213</td>\n",
       "      <td>1489</td>\n",
       "      <td>2018-12-31</td>\n",
       "      <td>NaN</td>\n",
       "      <td>NaN</td>\n",
       "      <td>17322.51</td>\n",
       "      <td>17.0</td>\n",
       "      <td>35.0</td>\n",
       "    </tr>\n",
       "  </tbody>\n",
       "</table>\n",
       "<p>3214 rows × 7 columns</p>\n",
       "</div>"
      ],
      "text/plain": [
       "      user_id      month  calls_qty  minutes_qty   mb_used  gb_used  \\\n",
       "0        1000 2018-05-31       22.0        159.0   2253.49      3.0   \n",
       "1        1000 2018-06-30       43.0        172.0  23233.77     23.0   \n",
       "2        1000 2018-07-31       47.0        340.0  14003.64     14.0   \n",
       "3        1000 2018-08-31       52.0        408.0  14055.93     14.0   \n",
       "4        1000 2018-09-30       58.0        466.0  14568.91     15.0   \n",
       "...       ...        ...        ...          ...       ...      ...   \n",
       "3209     1489 2018-08-31        NaN          NaN  11050.56     11.0   \n",
       "3210     1489 2018-09-30        NaN          NaN  17206.30     17.0   \n",
       "3211     1489 2018-10-31        NaN          NaN  19559.44     20.0   \n",
       "3212     1489 2018-11-30        NaN          NaN  17491.56     18.0   \n",
       "3213     1489 2018-12-31        NaN          NaN  17322.51     17.0   \n",
       "\n",
       "      messages_qty  \n",
       "0             22.0  \n",
       "1             60.0  \n",
       "2             75.0  \n",
       "3             81.0  \n",
       "4             57.0  \n",
       "...            ...  \n",
       "3209          17.0  \n",
       "3210          32.0  \n",
       "3211          21.0  \n",
       "3212          20.0  \n",
       "3213          35.0  \n",
       "\n",
       "[3214 rows x 7 columns]"
      ]
     },
     "execution_count": 10,
     "metadata": {},
     "output_type": "execute_result"
    }
   ],
   "source": [
    "df = calls_grouped.merge(internet_grouped, on=['user_id', 'month'], how='outer').merge(messages_grouped, on=['user_id', 'month'], how='outer')\n",
    "df"
   ]
  },
  {
   "cell_type": "code",
   "execution_count": 11,
   "metadata": {},
   "outputs": [
    {
     "name": "stdout",
     "output_type": "stream",
     "text": [
      "<class 'pandas.core.frame.DataFrame'>\n",
      "Int64Index: 3214 entries, 0 to 3213\n",
      "Data columns (total 7 columns):\n",
      "user_id         3214 non-null int64\n",
      "month           3214 non-null datetime64[ns]\n",
      "calls_qty       3174 non-null float64\n",
      "minutes_qty     3174 non-null float64\n",
      "mb_used         3203 non-null float64\n",
      "gb_used         3203 non-null float64\n",
      "messages_qty    2717 non-null float64\n",
      "dtypes: datetime64[ns](1), float64(5), int64(1)\n",
      "memory usage: 200.9 KB\n"
     ]
    }
   ],
   "source": [
    "df.info() #выводим Info() по объединенному фрейму"
   ]
  },
  {
   "cell_type": "markdown",
   "metadata": {},
   "source": [
    "Пустые значения в колонках с данными заменяем на 0, поскольку это говорит о том, что в конкретном месяце абонент не пользовался определенным видом трафика - не разговаривал голосом, или не посылал SMS, или не использовал мобильные данные."
   ]
  },
  {
   "cell_type": "code",
   "execution_count": 12,
   "metadata": {},
   "outputs": [
    {
     "name": "stdout",
     "output_type": "stream",
     "text": [
      "<class 'pandas.core.frame.DataFrame'>\n",
      "Int64Index: 3214 entries, 0 to 3213\n",
      "Data columns (total 7 columns):\n",
      "user_id         3214 non-null int64\n",
      "month           3214 non-null datetime64[ns]\n",
      "calls_qty       3214 non-null float64\n",
      "minutes_qty     3214 non-null float64\n",
      "mb_used         3214 non-null float64\n",
      "gb_used         3214 non-null float64\n",
      "messages_qty    3214 non-null float64\n",
      "dtypes: datetime64[ns](1), float64(5), int64(1)\n",
      "memory usage: 200.9 KB\n"
     ]
    }
   ],
   "source": [
    "isnull_col_list = ['calls_qty', 'minutes_qty', 'mb_used', 'gb_used', 'messages_qty']\n",
    "\n",
    "for isnull_col in isnull_col_list:\n",
    "    df[isnull_col] = df[isnull_col].fillna(0)\n",
    "    \n",
    "df.info()"
   ]
  },
  {
   "cell_type": "markdown",
   "metadata": {},
   "source": [
    "В объединенный фрейм добавляем из фрейма users данные о городе проживания абонента и о подключенном тарифном плане."
   ]
  },
  {
   "cell_type": "code",
   "execution_count": 13,
   "metadata": {},
   "outputs": [
    {
     "data": {
      "text/html": [
       "<div>\n",
       "<style scoped>\n",
       "    .dataframe tbody tr th:only-of-type {\n",
       "        vertical-align: middle;\n",
       "    }\n",
       "\n",
       "    .dataframe tbody tr th {\n",
       "        vertical-align: top;\n",
       "    }\n",
       "\n",
       "    .dataframe thead th {\n",
       "        text-align: right;\n",
       "    }\n",
       "</style>\n",
       "<table border=\"1\" class=\"dataframe\">\n",
       "  <thead>\n",
       "    <tr style=\"text-align: right;\">\n",
       "      <th></th>\n",
       "      <th>user_id</th>\n",
       "      <th>month</th>\n",
       "      <th>calls_qty</th>\n",
       "      <th>minutes_qty</th>\n",
       "      <th>mb_used</th>\n",
       "      <th>gb_used</th>\n",
       "      <th>messages_qty</th>\n",
       "      <th>city</th>\n",
       "      <th>tariff</th>\n",
       "    </tr>\n",
       "  </thead>\n",
       "  <tbody>\n",
       "    <tr>\n",
       "      <td>0</td>\n",
       "      <td>1000</td>\n",
       "      <td>2018-05-31</td>\n",
       "      <td>22.0</td>\n",
       "      <td>159.0</td>\n",
       "      <td>2253.49</td>\n",
       "      <td>3.0</td>\n",
       "      <td>22.0</td>\n",
       "      <td>Краснодар</td>\n",
       "      <td>ultra</td>\n",
       "    </tr>\n",
       "    <tr>\n",
       "      <td>1</td>\n",
       "      <td>1000</td>\n",
       "      <td>2018-06-30</td>\n",
       "      <td>43.0</td>\n",
       "      <td>172.0</td>\n",
       "      <td>23233.77</td>\n",
       "      <td>23.0</td>\n",
       "      <td>60.0</td>\n",
       "      <td>Краснодар</td>\n",
       "      <td>ultra</td>\n",
       "    </tr>\n",
       "    <tr>\n",
       "      <td>2</td>\n",
       "      <td>1000</td>\n",
       "      <td>2018-07-31</td>\n",
       "      <td>47.0</td>\n",
       "      <td>340.0</td>\n",
       "      <td>14003.64</td>\n",
       "      <td>14.0</td>\n",
       "      <td>75.0</td>\n",
       "      <td>Краснодар</td>\n",
       "      <td>ultra</td>\n",
       "    </tr>\n",
       "    <tr>\n",
       "      <td>3</td>\n",
       "      <td>1000</td>\n",
       "      <td>2018-08-31</td>\n",
       "      <td>52.0</td>\n",
       "      <td>408.0</td>\n",
       "      <td>14055.93</td>\n",
       "      <td>14.0</td>\n",
       "      <td>81.0</td>\n",
       "      <td>Краснодар</td>\n",
       "      <td>ultra</td>\n",
       "    </tr>\n",
       "    <tr>\n",
       "      <td>4</td>\n",
       "      <td>1000</td>\n",
       "      <td>2018-09-30</td>\n",
       "      <td>58.0</td>\n",
       "      <td>466.0</td>\n",
       "      <td>14568.91</td>\n",
       "      <td>15.0</td>\n",
       "      <td>57.0</td>\n",
       "      <td>Краснодар</td>\n",
       "      <td>ultra</td>\n",
       "    </tr>\n",
       "    <tr>\n",
       "      <td>...</td>\n",
       "      <td>...</td>\n",
       "      <td>...</td>\n",
       "      <td>...</td>\n",
       "      <td>...</td>\n",
       "      <td>...</td>\n",
       "      <td>...</td>\n",
       "      <td>...</td>\n",
       "      <td>...</td>\n",
       "      <td>...</td>\n",
       "    </tr>\n",
       "    <tr>\n",
       "      <td>3209</td>\n",
       "      <td>1489</td>\n",
       "      <td>2018-08-31</td>\n",
       "      <td>0.0</td>\n",
       "      <td>0.0</td>\n",
       "      <td>11050.56</td>\n",
       "      <td>11.0</td>\n",
       "      <td>17.0</td>\n",
       "      <td>Санкт-Петербург</td>\n",
       "      <td>smart</td>\n",
       "    </tr>\n",
       "    <tr>\n",
       "      <td>3210</td>\n",
       "      <td>1489</td>\n",
       "      <td>2018-09-30</td>\n",
       "      <td>0.0</td>\n",
       "      <td>0.0</td>\n",
       "      <td>17206.30</td>\n",
       "      <td>17.0</td>\n",
       "      <td>32.0</td>\n",
       "      <td>Санкт-Петербург</td>\n",
       "      <td>smart</td>\n",
       "    </tr>\n",
       "    <tr>\n",
       "      <td>3211</td>\n",
       "      <td>1489</td>\n",
       "      <td>2018-10-31</td>\n",
       "      <td>0.0</td>\n",
       "      <td>0.0</td>\n",
       "      <td>19559.44</td>\n",
       "      <td>20.0</td>\n",
       "      <td>21.0</td>\n",
       "      <td>Санкт-Петербург</td>\n",
       "      <td>smart</td>\n",
       "    </tr>\n",
       "    <tr>\n",
       "      <td>3212</td>\n",
       "      <td>1489</td>\n",
       "      <td>2018-11-30</td>\n",
       "      <td>0.0</td>\n",
       "      <td>0.0</td>\n",
       "      <td>17491.56</td>\n",
       "      <td>18.0</td>\n",
       "      <td>20.0</td>\n",
       "      <td>Санкт-Петербург</td>\n",
       "      <td>smart</td>\n",
       "    </tr>\n",
       "    <tr>\n",
       "      <td>3213</td>\n",
       "      <td>1489</td>\n",
       "      <td>2018-12-31</td>\n",
       "      <td>0.0</td>\n",
       "      <td>0.0</td>\n",
       "      <td>17322.51</td>\n",
       "      <td>17.0</td>\n",
       "      <td>35.0</td>\n",
       "      <td>Санкт-Петербург</td>\n",
       "      <td>smart</td>\n",
       "    </tr>\n",
       "  </tbody>\n",
       "</table>\n",
       "<p>3214 rows × 9 columns</p>\n",
       "</div>"
      ],
      "text/plain": [
       "      user_id      month  calls_qty  minutes_qty   mb_used  gb_used  \\\n",
       "0        1000 2018-05-31       22.0        159.0   2253.49      3.0   \n",
       "1        1000 2018-06-30       43.0        172.0  23233.77     23.0   \n",
       "2        1000 2018-07-31       47.0        340.0  14003.64     14.0   \n",
       "3        1000 2018-08-31       52.0        408.0  14055.93     14.0   \n",
       "4        1000 2018-09-30       58.0        466.0  14568.91     15.0   \n",
       "...       ...        ...        ...          ...       ...      ...   \n",
       "3209     1489 2018-08-31        0.0          0.0  11050.56     11.0   \n",
       "3210     1489 2018-09-30        0.0          0.0  17206.30     17.0   \n",
       "3211     1489 2018-10-31        0.0          0.0  19559.44     20.0   \n",
       "3212     1489 2018-11-30        0.0          0.0  17491.56     18.0   \n",
       "3213     1489 2018-12-31        0.0          0.0  17322.51     17.0   \n",
       "\n",
       "      messages_qty             city tariff  \n",
       "0             22.0        Краснодар  ultra  \n",
       "1             60.0        Краснодар  ultra  \n",
       "2             75.0        Краснодар  ultra  \n",
       "3             81.0        Краснодар  ultra  \n",
       "4             57.0        Краснодар  ultra  \n",
       "...            ...              ...    ...  \n",
       "3209          17.0  Санкт-Петербург  smart  \n",
       "3210          32.0  Санкт-Петербург  smart  \n",
       "3211          21.0  Санкт-Петербург  smart  \n",
       "3212          20.0  Санкт-Петербург  smart  \n",
       "3213          35.0  Санкт-Петербург  smart  \n",
       "\n",
       "[3214 rows x 9 columns]"
      ]
     },
     "execution_count": 13,
     "metadata": {},
     "output_type": "execute_result"
    }
   ],
   "source": [
    "df = pd.merge(df, users[['user_id', 'city', 'tariff']], how='left', on='user_id')\n",
    "df"
   ]
  },
  {
   "cell_type": "markdown",
   "metadata": {},
   "source": [
    "В объединенный фрейм добавляем из фрейма tariffs данные о составе и условиях тарифного плана."
   ]
  },
  {
   "cell_type": "code",
   "execution_count": 14,
   "metadata": {},
   "outputs": [
    {
     "data": {
      "text/html": [
       "<div>\n",
       "<style scoped>\n",
       "    .dataframe tbody tr th:only-of-type {\n",
       "        vertical-align: middle;\n",
       "    }\n",
       "\n",
       "    .dataframe tbody tr th {\n",
       "        vertical-align: top;\n",
       "    }\n",
       "\n",
       "    .dataframe thead th {\n",
       "        text-align: right;\n",
       "    }\n",
       "</style>\n",
       "<table border=\"1\" class=\"dataframe\">\n",
       "  <thead>\n",
       "    <tr style=\"text-align: right;\">\n",
       "      <th></th>\n",
       "      <th>user_id</th>\n",
       "      <th>month</th>\n",
       "      <th>calls_qty</th>\n",
       "      <th>minutes_qty</th>\n",
       "      <th>mb_used</th>\n",
       "      <th>gb_used</th>\n",
       "      <th>messages_qty</th>\n",
       "      <th>city</th>\n",
       "      <th>tariff</th>\n",
       "      <th>messages_included</th>\n",
       "      <th>mb_per_month_included</th>\n",
       "      <th>minutes_included</th>\n",
       "      <th>rub_monthly_fee</th>\n",
       "      <th>rub_per_gb</th>\n",
       "      <th>rub_per_message</th>\n",
       "      <th>rub_per_minute</th>\n",
       "    </tr>\n",
       "  </thead>\n",
       "  <tbody>\n",
       "    <tr>\n",
       "      <td>0</td>\n",
       "      <td>1000</td>\n",
       "      <td>2018-05-31</td>\n",
       "      <td>22.0</td>\n",
       "      <td>159.0</td>\n",
       "      <td>2253.49</td>\n",
       "      <td>3.0</td>\n",
       "      <td>22.0</td>\n",
       "      <td>Краснодар</td>\n",
       "      <td>ultra</td>\n",
       "      <td>1000</td>\n",
       "      <td>30720</td>\n",
       "      <td>3000</td>\n",
       "      <td>1950</td>\n",
       "      <td>150</td>\n",
       "      <td>1</td>\n",
       "      <td>1</td>\n",
       "    </tr>\n",
       "    <tr>\n",
       "      <td>1</td>\n",
       "      <td>1000</td>\n",
       "      <td>2018-06-30</td>\n",
       "      <td>43.0</td>\n",
       "      <td>172.0</td>\n",
       "      <td>23233.77</td>\n",
       "      <td>23.0</td>\n",
       "      <td>60.0</td>\n",
       "      <td>Краснодар</td>\n",
       "      <td>ultra</td>\n",
       "      <td>1000</td>\n",
       "      <td>30720</td>\n",
       "      <td>3000</td>\n",
       "      <td>1950</td>\n",
       "      <td>150</td>\n",
       "      <td>1</td>\n",
       "      <td>1</td>\n",
       "    </tr>\n",
       "    <tr>\n",
       "      <td>2</td>\n",
       "      <td>1000</td>\n",
       "      <td>2018-07-31</td>\n",
       "      <td>47.0</td>\n",
       "      <td>340.0</td>\n",
       "      <td>14003.64</td>\n",
       "      <td>14.0</td>\n",
       "      <td>75.0</td>\n",
       "      <td>Краснодар</td>\n",
       "      <td>ultra</td>\n",
       "      <td>1000</td>\n",
       "      <td>30720</td>\n",
       "      <td>3000</td>\n",
       "      <td>1950</td>\n",
       "      <td>150</td>\n",
       "      <td>1</td>\n",
       "      <td>1</td>\n",
       "    </tr>\n",
       "    <tr>\n",
       "      <td>3</td>\n",
       "      <td>1000</td>\n",
       "      <td>2018-08-31</td>\n",
       "      <td>52.0</td>\n",
       "      <td>408.0</td>\n",
       "      <td>14055.93</td>\n",
       "      <td>14.0</td>\n",
       "      <td>81.0</td>\n",
       "      <td>Краснодар</td>\n",
       "      <td>ultra</td>\n",
       "      <td>1000</td>\n",
       "      <td>30720</td>\n",
       "      <td>3000</td>\n",
       "      <td>1950</td>\n",
       "      <td>150</td>\n",
       "      <td>1</td>\n",
       "      <td>1</td>\n",
       "    </tr>\n",
       "    <tr>\n",
       "      <td>4</td>\n",
       "      <td>1000</td>\n",
       "      <td>2018-09-30</td>\n",
       "      <td>58.0</td>\n",
       "      <td>466.0</td>\n",
       "      <td>14568.91</td>\n",
       "      <td>15.0</td>\n",
       "      <td>57.0</td>\n",
       "      <td>Краснодар</td>\n",
       "      <td>ultra</td>\n",
       "      <td>1000</td>\n",
       "      <td>30720</td>\n",
       "      <td>3000</td>\n",
       "      <td>1950</td>\n",
       "      <td>150</td>\n",
       "      <td>1</td>\n",
       "      <td>1</td>\n",
       "    </tr>\n",
       "    <tr>\n",
       "      <td>...</td>\n",
       "      <td>...</td>\n",
       "      <td>...</td>\n",
       "      <td>...</td>\n",
       "      <td>...</td>\n",
       "      <td>...</td>\n",
       "      <td>...</td>\n",
       "      <td>...</td>\n",
       "      <td>...</td>\n",
       "      <td>...</td>\n",
       "      <td>...</td>\n",
       "      <td>...</td>\n",
       "      <td>...</td>\n",
       "      <td>...</td>\n",
       "      <td>...</td>\n",
       "      <td>...</td>\n",
       "      <td>...</td>\n",
       "    </tr>\n",
       "    <tr>\n",
       "      <td>3209</td>\n",
       "      <td>1489</td>\n",
       "      <td>2018-08-31</td>\n",
       "      <td>0.0</td>\n",
       "      <td>0.0</td>\n",
       "      <td>11050.56</td>\n",
       "      <td>11.0</td>\n",
       "      <td>17.0</td>\n",
       "      <td>Санкт-Петербург</td>\n",
       "      <td>smart</td>\n",
       "      <td>50</td>\n",
       "      <td>15360</td>\n",
       "      <td>500</td>\n",
       "      <td>550</td>\n",
       "      <td>200</td>\n",
       "      <td>3</td>\n",
       "      <td>3</td>\n",
       "    </tr>\n",
       "    <tr>\n",
       "      <td>3210</td>\n",
       "      <td>1489</td>\n",
       "      <td>2018-09-30</td>\n",
       "      <td>0.0</td>\n",
       "      <td>0.0</td>\n",
       "      <td>17206.30</td>\n",
       "      <td>17.0</td>\n",
       "      <td>32.0</td>\n",
       "      <td>Санкт-Петербург</td>\n",
       "      <td>smart</td>\n",
       "      <td>50</td>\n",
       "      <td>15360</td>\n",
       "      <td>500</td>\n",
       "      <td>550</td>\n",
       "      <td>200</td>\n",
       "      <td>3</td>\n",
       "      <td>3</td>\n",
       "    </tr>\n",
       "    <tr>\n",
       "      <td>3211</td>\n",
       "      <td>1489</td>\n",
       "      <td>2018-10-31</td>\n",
       "      <td>0.0</td>\n",
       "      <td>0.0</td>\n",
       "      <td>19559.44</td>\n",
       "      <td>20.0</td>\n",
       "      <td>21.0</td>\n",
       "      <td>Санкт-Петербург</td>\n",
       "      <td>smart</td>\n",
       "      <td>50</td>\n",
       "      <td>15360</td>\n",
       "      <td>500</td>\n",
       "      <td>550</td>\n",
       "      <td>200</td>\n",
       "      <td>3</td>\n",
       "      <td>3</td>\n",
       "    </tr>\n",
       "    <tr>\n",
       "      <td>3212</td>\n",
       "      <td>1489</td>\n",
       "      <td>2018-11-30</td>\n",
       "      <td>0.0</td>\n",
       "      <td>0.0</td>\n",
       "      <td>17491.56</td>\n",
       "      <td>18.0</td>\n",
       "      <td>20.0</td>\n",
       "      <td>Санкт-Петербург</td>\n",
       "      <td>smart</td>\n",
       "      <td>50</td>\n",
       "      <td>15360</td>\n",
       "      <td>500</td>\n",
       "      <td>550</td>\n",
       "      <td>200</td>\n",
       "      <td>3</td>\n",
       "      <td>3</td>\n",
       "    </tr>\n",
       "    <tr>\n",
       "      <td>3213</td>\n",
       "      <td>1489</td>\n",
       "      <td>2018-12-31</td>\n",
       "      <td>0.0</td>\n",
       "      <td>0.0</td>\n",
       "      <td>17322.51</td>\n",
       "      <td>17.0</td>\n",
       "      <td>35.0</td>\n",
       "      <td>Санкт-Петербург</td>\n",
       "      <td>smart</td>\n",
       "      <td>50</td>\n",
       "      <td>15360</td>\n",
       "      <td>500</td>\n",
       "      <td>550</td>\n",
       "      <td>200</td>\n",
       "      <td>3</td>\n",
       "      <td>3</td>\n",
       "    </tr>\n",
       "  </tbody>\n",
       "</table>\n",
       "<p>3214 rows × 16 columns</p>\n",
       "</div>"
      ],
      "text/plain": [
       "      user_id      month  calls_qty  minutes_qty   mb_used  gb_used  \\\n",
       "0        1000 2018-05-31       22.0        159.0   2253.49      3.0   \n",
       "1        1000 2018-06-30       43.0        172.0  23233.77     23.0   \n",
       "2        1000 2018-07-31       47.0        340.0  14003.64     14.0   \n",
       "3        1000 2018-08-31       52.0        408.0  14055.93     14.0   \n",
       "4        1000 2018-09-30       58.0        466.0  14568.91     15.0   \n",
       "...       ...        ...        ...          ...       ...      ...   \n",
       "3209     1489 2018-08-31        0.0          0.0  11050.56     11.0   \n",
       "3210     1489 2018-09-30        0.0          0.0  17206.30     17.0   \n",
       "3211     1489 2018-10-31        0.0          0.0  19559.44     20.0   \n",
       "3212     1489 2018-11-30        0.0          0.0  17491.56     18.0   \n",
       "3213     1489 2018-12-31        0.0          0.0  17322.51     17.0   \n",
       "\n",
       "      messages_qty             city tariff  messages_included  \\\n",
       "0             22.0        Краснодар  ultra               1000   \n",
       "1             60.0        Краснодар  ultra               1000   \n",
       "2             75.0        Краснодар  ultra               1000   \n",
       "3             81.0        Краснодар  ultra               1000   \n",
       "4             57.0        Краснодар  ultra               1000   \n",
       "...            ...              ...    ...                ...   \n",
       "3209          17.0  Санкт-Петербург  smart                 50   \n",
       "3210          32.0  Санкт-Петербург  smart                 50   \n",
       "3211          21.0  Санкт-Петербург  smart                 50   \n",
       "3212          20.0  Санкт-Петербург  smart                 50   \n",
       "3213          35.0  Санкт-Петербург  smart                 50   \n",
       "\n",
       "      mb_per_month_included  minutes_included  rub_monthly_fee  rub_per_gb  \\\n",
       "0                     30720              3000             1950         150   \n",
       "1                     30720              3000             1950         150   \n",
       "2                     30720              3000             1950         150   \n",
       "3                     30720              3000             1950         150   \n",
       "4                     30720              3000             1950         150   \n",
       "...                     ...               ...              ...         ...   \n",
       "3209                  15360               500              550         200   \n",
       "3210                  15360               500              550         200   \n",
       "3211                  15360               500              550         200   \n",
       "3212                  15360               500              550         200   \n",
       "3213                  15360               500              550         200   \n",
       "\n",
       "      rub_per_message  rub_per_minute  \n",
       "0                   1               1  \n",
       "1                   1               1  \n",
       "2                   1               1  \n",
       "3                   1               1  \n",
       "4                   1               1  \n",
       "...               ...             ...  \n",
       "3209                3               3  \n",
       "3210                3               3  \n",
       "3211                3               3  \n",
       "3212                3               3  \n",
       "3213                3               3  \n",
       "\n",
       "[3214 rows x 16 columns]"
      ]
     },
     "execution_count": 14,
     "metadata": {},
     "output_type": "execute_result"
    }
   ],
   "source": [
    "tariffs = tariffs.rename (columns= {'tariff_name': 'tariff'})\n",
    "\n",
    "df = pd.merge(df, tariffs, how='left', on='tariff')\n",
    "df"
   ]
  },
  {
   "cell_type": "markdown",
   "metadata": {},
   "source": [
    "Добавляем колонки, где рассчитываем кол-во минут, Гб и SMS, израсходованных абонентом сверх тарифного плана."
   ]
  },
  {
   "cell_type": "code",
   "execution_count": 15,
   "metadata": {},
   "outputs": [
    {
     "data": {
      "text/html": [
       "<div>\n",
       "<style scoped>\n",
       "    .dataframe tbody tr th:only-of-type {\n",
       "        vertical-align: middle;\n",
       "    }\n",
       "\n",
       "    .dataframe tbody tr th {\n",
       "        vertical-align: top;\n",
       "    }\n",
       "\n",
       "    .dataframe thead th {\n",
       "        text-align: right;\n",
       "    }\n",
       "</style>\n",
       "<table border=\"1\" class=\"dataframe\">\n",
       "  <thead>\n",
       "    <tr style=\"text-align: right;\">\n",
       "      <th></th>\n",
       "      <th>user_id</th>\n",
       "      <th>month</th>\n",
       "      <th>calls_qty</th>\n",
       "      <th>minutes_qty</th>\n",
       "      <th>mb_used</th>\n",
       "      <th>gb_used</th>\n",
       "      <th>messages_qty</th>\n",
       "      <th>city</th>\n",
       "      <th>tariff</th>\n",
       "      <th>messages_included</th>\n",
       "      <th>mb_per_month_included</th>\n",
       "      <th>minutes_included</th>\n",
       "      <th>rub_monthly_fee</th>\n",
       "      <th>rub_per_gb</th>\n",
       "      <th>rub_per_message</th>\n",
       "      <th>rub_per_minute</th>\n",
       "      <th>min_over_tariff</th>\n",
       "      <th>gb_over_tariff</th>\n",
       "      <th>messages_over_tariff</th>\n",
       "    </tr>\n",
       "  </thead>\n",
       "  <tbody>\n",
       "    <tr>\n",
       "      <td>0</td>\n",
       "      <td>1000</td>\n",
       "      <td>2018-05-31</td>\n",
       "      <td>22.0</td>\n",
       "      <td>159.0</td>\n",
       "      <td>2253.49</td>\n",
       "      <td>3.0</td>\n",
       "      <td>22.0</td>\n",
       "      <td>Краснодар</td>\n",
       "      <td>ultra</td>\n",
       "      <td>1000</td>\n",
       "      <td>30720</td>\n",
       "      <td>3000</td>\n",
       "      <td>1950</td>\n",
       "      <td>150</td>\n",
       "      <td>1</td>\n",
       "      <td>1</td>\n",
       "      <td>0.0</td>\n",
       "      <td>0.0</td>\n",
       "      <td>0.0</td>\n",
       "    </tr>\n",
       "    <tr>\n",
       "      <td>1</td>\n",
       "      <td>1000</td>\n",
       "      <td>2018-06-30</td>\n",
       "      <td>43.0</td>\n",
       "      <td>172.0</td>\n",
       "      <td>23233.77</td>\n",
       "      <td>23.0</td>\n",
       "      <td>60.0</td>\n",
       "      <td>Краснодар</td>\n",
       "      <td>ultra</td>\n",
       "      <td>1000</td>\n",
       "      <td>30720</td>\n",
       "      <td>3000</td>\n",
       "      <td>1950</td>\n",
       "      <td>150</td>\n",
       "      <td>1</td>\n",
       "      <td>1</td>\n",
       "      <td>0.0</td>\n",
       "      <td>0.0</td>\n",
       "      <td>0.0</td>\n",
       "    </tr>\n",
       "    <tr>\n",
       "      <td>2</td>\n",
       "      <td>1000</td>\n",
       "      <td>2018-07-31</td>\n",
       "      <td>47.0</td>\n",
       "      <td>340.0</td>\n",
       "      <td>14003.64</td>\n",
       "      <td>14.0</td>\n",
       "      <td>75.0</td>\n",
       "      <td>Краснодар</td>\n",
       "      <td>ultra</td>\n",
       "      <td>1000</td>\n",
       "      <td>30720</td>\n",
       "      <td>3000</td>\n",
       "      <td>1950</td>\n",
       "      <td>150</td>\n",
       "      <td>1</td>\n",
       "      <td>1</td>\n",
       "      <td>0.0</td>\n",
       "      <td>0.0</td>\n",
       "      <td>0.0</td>\n",
       "    </tr>\n",
       "    <tr>\n",
       "      <td>3</td>\n",
       "      <td>1000</td>\n",
       "      <td>2018-08-31</td>\n",
       "      <td>52.0</td>\n",
       "      <td>408.0</td>\n",
       "      <td>14055.93</td>\n",
       "      <td>14.0</td>\n",
       "      <td>81.0</td>\n",
       "      <td>Краснодар</td>\n",
       "      <td>ultra</td>\n",
       "      <td>1000</td>\n",
       "      <td>30720</td>\n",
       "      <td>3000</td>\n",
       "      <td>1950</td>\n",
       "      <td>150</td>\n",
       "      <td>1</td>\n",
       "      <td>1</td>\n",
       "      <td>0.0</td>\n",
       "      <td>0.0</td>\n",
       "      <td>0.0</td>\n",
       "    </tr>\n",
       "    <tr>\n",
       "      <td>4</td>\n",
       "      <td>1000</td>\n",
       "      <td>2018-09-30</td>\n",
       "      <td>58.0</td>\n",
       "      <td>466.0</td>\n",
       "      <td>14568.91</td>\n",
       "      <td>15.0</td>\n",
       "      <td>57.0</td>\n",
       "      <td>Краснодар</td>\n",
       "      <td>ultra</td>\n",
       "      <td>1000</td>\n",
       "      <td>30720</td>\n",
       "      <td>3000</td>\n",
       "      <td>1950</td>\n",
       "      <td>150</td>\n",
       "      <td>1</td>\n",
       "      <td>1</td>\n",
       "      <td>0.0</td>\n",
       "      <td>0.0</td>\n",
       "      <td>0.0</td>\n",
       "    </tr>\n",
       "    <tr>\n",
       "      <td>...</td>\n",
       "      <td>...</td>\n",
       "      <td>...</td>\n",
       "      <td>...</td>\n",
       "      <td>...</td>\n",
       "      <td>...</td>\n",
       "      <td>...</td>\n",
       "      <td>...</td>\n",
       "      <td>...</td>\n",
       "      <td>...</td>\n",
       "      <td>...</td>\n",
       "      <td>...</td>\n",
       "      <td>...</td>\n",
       "      <td>...</td>\n",
       "      <td>...</td>\n",
       "      <td>...</td>\n",
       "      <td>...</td>\n",
       "      <td>...</td>\n",
       "      <td>...</td>\n",
       "      <td>...</td>\n",
       "    </tr>\n",
       "    <tr>\n",
       "      <td>3209</td>\n",
       "      <td>1489</td>\n",
       "      <td>2018-08-31</td>\n",
       "      <td>0.0</td>\n",
       "      <td>0.0</td>\n",
       "      <td>11050.56</td>\n",
       "      <td>11.0</td>\n",
       "      <td>17.0</td>\n",
       "      <td>Санкт-Петербург</td>\n",
       "      <td>smart</td>\n",
       "      <td>50</td>\n",
       "      <td>15360</td>\n",
       "      <td>500</td>\n",
       "      <td>550</td>\n",
       "      <td>200</td>\n",
       "      <td>3</td>\n",
       "      <td>3</td>\n",
       "      <td>0.0</td>\n",
       "      <td>0.0</td>\n",
       "      <td>0.0</td>\n",
       "    </tr>\n",
       "    <tr>\n",
       "      <td>3210</td>\n",
       "      <td>1489</td>\n",
       "      <td>2018-09-30</td>\n",
       "      <td>0.0</td>\n",
       "      <td>0.0</td>\n",
       "      <td>17206.30</td>\n",
       "      <td>17.0</td>\n",
       "      <td>32.0</td>\n",
       "      <td>Санкт-Петербург</td>\n",
       "      <td>smart</td>\n",
       "      <td>50</td>\n",
       "      <td>15360</td>\n",
       "      <td>500</td>\n",
       "      <td>550</td>\n",
       "      <td>200</td>\n",
       "      <td>3</td>\n",
       "      <td>3</td>\n",
       "      <td>0.0</td>\n",
       "      <td>2.0</td>\n",
       "      <td>0.0</td>\n",
       "    </tr>\n",
       "    <tr>\n",
       "      <td>3211</td>\n",
       "      <td>1489</td>\n",
       "      <td>2018-10-31</td>\n",
       "      <td>0.0</td>\n",
       "      <td>0.0</td>\n",
       "      <td>19559.44</td>\n",
       "      <td>20.0</td>\n",
       "      <td>21.0</td>\n",
       "      <td>Санкт-Петербург</td>\n",
       "      <td>smart</td>\n",
       "      <td>50</td>\n",
       "      <td>15360</td>\n",
       "      <td>500</td>\n",
       "      <td>550</td>\n",
       "      <td>200</td>\n",
       "      <td>3</td>\n",
       "      <td>3</td>\n",
       "      <td>0.0</td>\n",
       "      <td>5.0</td>\n",
       "      <td>0.0</td>\n",
       "    </tr>\n",
       "    <tr>\n",
       "      <td>3212</td>\n",
       "      <td>1489</td>\n",
       "      <td>2018-11-30</td>\n",
       "      <td>0.0</td>\n",
       "      <td>0.0</td>\n",
       "      <td>17491.56</td>\n",
       "      <td>18.0</td>\n",
       "      <td>20.0</td>\n",
       "      <td>Санкт-Петербург</td>\n",
       "      <td>smart</td>\n",
       "      <td>50</td>\n",
       "      <td>15360</td>\n",
       "      <td>500</td>\n",
       "      <td>550</td>\n",
       "      <td>200</td>\n",
       "      <td>3</td>\n",
       "      <td>3</td>\n",
       "      <td>0.0</td>\n",
       "      <td>3.0</td>\n",
       "      <td>0.0</td>\n",
       "    </tr>\n",
       "    <tr>\n",
       "      <td>3213</td>\n",
       "      <td>1489</td>\n",
       "      <td>2018-12-31</td>\n",
       "      <td>0.0</td>\n",
       "      <td>0.0</td>\n",
       "      <td>17322.51</td>\n",
       "      <td>17.0</td>\n",
       "      <td>35.0</td>\n",
       "      <td>Санкт-Петербург</td>\n",
       "      <td>smart</td>\n",
       "      <td>50</td>\n",
       "      <td>15360</td>\n",
       "      <td>500</td>\n",
       "      <td>550</td>\n",
       "      <td>200</td>\n",
       "      <td>3</td>\n",
       "      <td>3</td>\n",
       "      <td>0.0</td>\n",
       "      <td>2.0</td>\n",
       "      <td>0.0</td>\n",
       "    </tr>\n",
       "  </tbody>\n",
       "</table>\n",
       "<p>3214 rows × 19 columns</p>\n",
       "</div>"
      ],
      "text/plain": [
       "      user_id      month  calls_qty  minutes_qty   mb_used  gb_used  \\\n",
       "0        1000 2018-05-31       22.0        159.0   2253.49      3.0   \n",
       "1        1000 2018-06-30       43.0        172.0  23233.77     23.0   \n",
       "2        1000 2018-07-31       47.0        340.0  14003.64     14.0   \n",
       "3        1000 2018-08-31       52.0        408.0  14055.93     14.0   \n",
       "4        1000 2018-09-30       58.0        466.0  14568.91     15.0   \n",
       "...       ...        ...        ...          ...       ...      ...   \n",
       "3209     1489 2018-08-31        0.0          0.0  11050.56     11.0   \n",
       "3210     1489 2018-09-30        0.0          0.0  17206.30     17.0   \n",
       "3211     1489 2018-10-31        0.0          0.0  19559.44     20.0   \n",
       "3212     1489 2018-11-30        0.0          0.0  17491.56     18.0   \n",
       "3213     1489 2018-12-31        0.0          0.0  17322.51     17.0   \n",
       "\n",
       "      messages_qty             city tariff  messages_included  \\\n",
       "0             22.0        Краснодар  ultra               1000   \n",
       "1             60.0        Краснодар  ultra               1000   \n",
       "2             75.0        Краснодар  ultra               1000   \n",
       "3             81.0        Краснодар  ultra               1000   \n",
       "4             57.0        Краснодар  ultra               1000   \n",
       "...            ...              ...    ...                ...   \n",
       "3209          17.0  Санкт-Петербург  smart                 50   \n",
       "3210          32.0  Санкт-Петербург  smart                 50   \n",
       "3211          21.0  Санкт-Петербург  smart                 50   \n",
       "3212          20.0  Санкт-Петербург  smart                 50   \n",
       "3213          35.0  Санкт-Петербург  smart                 50   \n",
       "\n",
       "      mb_per_month_included  minutes_included  rub_monthly_fee  rub_per_gb  \\\n",
       "0                     30720              3000             1950         150   \n",
       "1                     30720              3000             1950         150   \n",
       "2                     30720              3000             1950         150   \n",
       "3                     30720              3000             1950         150   \n",
       "4                     30720              3000             1950         150   \n",
       "...                     ...               ...              ...         ...   \n",
       "3209                  15360               500              550         200   \n",
       "3210                  15360               500              550         200   \n",
       "3211                  15360               500              550         200   \n",
       "3212                  15360               500              550         200   \n",
       "3213                  15360               500              550         200   \n",
       "\n",
       "      rub_per_message  rub_per_minute  min_over_tariff  gb_over_tariff  \\\n",
       "0                   1               1              0.0             0.0   \n",
       "1                   1               1              0.0             0.0   \n",
       "2                   1               1              0.0             0.0   \n",
       "3                   1               1              0.0             0.0   \n",
       "4                   1               1              0.0             0.0   \n",
       "...               ...             ...              ...             ...   \n",
       "3209                3               3              0.0             0.0   \n",
       "3210                3               3              0.0             2.0   \n",
       "3211                3               3              0.0             5.0   \n",
       "3212                3               3              0.0             3.0   \n",
       "3213                3               3              0.0             2.0   \n",
       "\n",
       "      messages_over_tariff  \n",
       "0                      0.0  \n",
       "1                      0.0  \n",
       "2                      0.0  \n",
       "3                      0.0  \n",
       "4                      0.0  \n",
       "...                    ...  \n",
       "3209                   0.0  \n",
       "3210                   0.0  \n",
       "3211                   0.0  \n",
       "3212                   0.0  \n",
       "3213                   0.0  \n",
       "\n",
       "[3214 rows x 19 columns]"
      ]
     },
     "execution_count": 15,
     "metadata": {},
     "output_type": "execute_result"
    }
   ],
   "source": [
    "df['min_over_tariff'] = np.where(\n",
    "    df['minutes_qty'] <= df['minutes_included'], 0, df['minutes_qty'] - df['minutes_included']\n",
    "                                )\n",
    "\n",
    "df['gb_over_tariff'] = np.where(\n",
    "    df['gb_used'] <= df['mb_per_month_included'] / mb_to_gb, 0, df['gb_used'] - df['mb_per_month_included'] / mb_to_gb\n",
    "                                )\n",
    "\n",
    "df['messages_over_tariff'] = np.where(\n",
    "    df['messages_qty'] <= df['messages_included'], 0, df['messages_qty'] - df['messages_included']\n",
    "                                    )\n",
    "\n",
    "df"
   ]
  },
  {
   "cell_type": "markdown",
   "metadata": {},
   "source": [
    "Рассчитываем сумму, потраченную абонентами по месяцам, исходя из месячной абонентской платы за тариф и тарифов на сверхлимитные минуты, Гб и SMS. "
   ]
  },
  {
   "cell_type": "code",
   "execution_count": 16,
   "metadata": {},
   "outputs": [
    {
     "data": {
      "text/html": [
       "<div>\n",
       "<style scoped>\n",
       "    .dataframe tbody tr th:only-of-type {\n",
       "        vertical-align: middle;\n",
       "    }\n",
       "\n",
       "    .dataframe tbody tr th {\n",
       "        vertical-align: top;\n",
       "    }\n",
       "\n",
       "    .dataframe thead th {\n",
       "        text-align: right;\n",
       "    }\n",
       "</style>\n",
       "<table border=\"1\" class=\"dataframe\">\n",
       "  <thead>\n",
       "    <tr style=\"text-align: right;\">\n",
       "      <th></th>\n",
       "      <th>user_id</th>\n",
       "      <th>month</th>\n",
       "      <th>calls_qty</th>\n",
       "      <th>minutes_qty</th>\n",
       "      <th>mb_used</th>\n",
       "      <th>gb_used</th>\n",
       "      <th>messages_qty</th>\n",
       "      <th>city</th>\n",
       "      <th>tariff</th>\n",
       "      <th>messages_included</th>\n",
       "      <th>mb_per_month_included</th>\n",
       "      <th>minutes_included</th>\n",
       "      <th>rub_monthly_fee</th>\n",
       "      <th>rub_per_gb</th>\n",
       "      <th>rub_per_message</th>\n",
       "      <th>rub_per_minute</th>\n",
       "      <th>min_over_tariff</th>\n",
       "      <th>gb_over_tariff</th>\n",
       "      <th>messages_over_tariff</th>\n",
       "      <th>income</th>\n",
       "    </tr>\n",
       "  </thead>\n",
       "  <tbody>\n",
       "    <tr>\n",
       "      <td>0</td>\n",
       "      <td>1000</td>\n",
       "      <td>2018-05-31</td>\n",
       "      <td>22.0</td>\n",
       "      <td>159.0</td>\n",
       "      <td>2253.49</td>\n",
       "      <td>3.0</td>\n",
       "      <td>22.0</td>\n",
       "      <td>Краснодар</td>\n",
       "      <td>ultra</td>\n",
       "      <td>1000</td>\n",
       "      <td>30720</td>\n",
       "      <td>3000</td>\n",
       "      <td>1950</td>\n",
       "      <td>150</td>\n",
       "      <td>1</td>\n",
       "      <td>1</td>\n",
       "      <td>0.0</td>\n",
       "      <td>0.0</td>\n",
       "      <td>0.0</td>\n",
       "      <td>1950.0</td>\n",
       "    </tr>\n",
       "    <tr>\n",
       "      <td>1</td>\n",
       "      <td>1000</td>\n",
       "      <td>2018-06-30</td>\n",
       "      <td>43.0</td>\n",
       "      <td>172.0</td>\n",
       "      <td>23233.77</td>\n",
       "      <td>23.0</td>\n",
       "      <td>60.0</td>\n",
       "      <td>Краснодар</td>\n",
       "      <td>ultra</td>\n",
       "      <td>1000</td>\n",
       "      <td>30720</td>\n",
       "      <td>3000</td>\n",
       "      <td>1950</td>\n",
       "      <td>150</td>\n",
       "      <td>1</td>\n",
       "      <td>1</td>\n",
       "      <td>0.0</td>\n",
       "      <td>0.0</td>\n",
       "      <td>0.0</td>\n",
       "      <td>1950.0</td>\n",
       "    </tr>\n",
       "    <tr>\n",
       "      <td>2</td>\n",
       "      <td>1000</td>\n",
       "      <td>2018-07-31</td>\n",
       "      <td>47.0</td>\n",
       "      <td>340.0</td>\n",
       "      <td>14003.64</td>\n",
       "      <td>14.0</td>\n",
       "      <td>75.0</td>\n",
       "      <td>Краснодар</td>\n",
       "      <td>ultra</td>\n",
       "      <td>1000</td>\n",
       "      <td>30720</td>\n",
       "      <td>3000</td>\n",
       "      <td>1950</td>\n",
       "      <td>150</td>\n",
       "      <td>1</td>\n",
       "      <td>1</td>\n",
       "      <td>0.0</td>\n",
       "      <td>0.0</td>\n",
       "      <td>0.0</td>\n",
       "      <td>1950.0</td>\n",
       "    </tr>\n",
       "    <tr>\n",
       "      <td>3</td>\n",
       "      <td>1000</td>\n",
       "      <td>2018-08-31</td>\n",
       "      <td>52.0</td>\n",
       "      <td>408.0</td>\n",
       "      <td>14055.93</td>\n",
       "      <td>14.0</td>\n",
       "      <td>81.0</td>\n",
       "      <td>Краснодар</td>\n",
       "      <td>ultra</td>\n",
       "      <td>1000</td>\n",
       "      <td>30720</td>\n",
       "      <td>3000</td>\n",
       "      <td>1950</td>\n",
       "      <td>150</td>\n",
       "      <td>1</td>\n",
       "      <td>1</td>\n",
       "      <td>0.0</td>\n",
       "      <td>0.0</td>\n",
       "      <td>0.0</td>\n",
       "      <td>1950.0</td>\n",
       "    </tr>\n",
       "    <tr>\n",
       "      <td>4</td>\n",
       "      <td>1000</td>\n",
       "      <td>2018-09-30</td>\n",
       "      <td>58.0</td>\n",
       "      <td>466.0</td>\n",
       "      <td>14568.91</td>\n",
       "      <td>15.0</td>\n",
       "      <td>57.0</td>\n",
       "      <td>Краснодар</td>\n",
       "      <td>ultra</td>\n",
       "      <td>1000</td>\n",
       "      <td>30720</td>\n",
       "      <td>3000</td>\n",
       "      <td>1950</td>\n",
       "      <td>150</td>\n",
       "      <td>1</td>\n",
       "      <td>1</td>\n",
       "      <td>0.0</td>\n",
       "      <td>0.0</td>\n",
       "      <td>0.0</td>\n",
       "      <td>1950.0</td>\n",
       "    </tr>\n",
       "    <tr>\n",
       "      <td>...</td>\n",
       "      <td>...</td>\n",
       "      <td>...</td>\n",
       "      <td>...</td>\n",
       "      <td>...</td>\n",
       "      <td>...</td>\n",
       "      <td>...</td>\n",
       "      <td>...</td>\n",
       "      <td>...</td>\n",
       "      <td>...</td>\n",
       "      <td>...</td>\n",
       "      <td>...</td>\n",
       "      <td>...</td>\n",
       "      <td>...</td>\n",
       "      <td>...</td>\n",
       "      <td>...</td>\n",
       "      <td>...</td>\n",
       "      <td>...</td>\n",
       "      <td>...</td>\n",
       "      <td>...</td>\n",
       "      <td>...</td>\n",
       "    </tr>\n",
       "    <tr>\n",
       "      <td>3209</td>\n",
       "      <td>1489</td>\n",
       "      <td>2018-08-31</td>\n",
       "      <td>0.0</td>\n",
       "      <td>0.0</td>\n",
       "      <td>11050.56</td>\n",
       "      <td>11.0</td>\n",
       "      <td>17.0</td>\n",
       "      <td>Санкт-Петербург</td>\n",
       "      <td>smart</td>\n",
       "      <td>50</td>\n",
       "      <td>15360</td>\n",
       "      <td>500</td>\n",
       "      <td>550</td>\n",
       "      <td>200</td>\n",
       "      <td>3</td>\n",
       "      <td>3</td>\n",
       "      <td>0.0</td>\n",
       "      <td>0.0</td>\n",
       "      <td>0.0</td>\n",
       "      <td>550.0</td>\n",
       "    </tr>\n",
       "    <tr>\n",
       "      <td>3210</td>\n",
       "      <td>1489</td>\n",
       "      <td>2018-09-30</td>\n",
       "      <td>0.0</td>\n",
       "      <td>0.0</td>\n",
       "      <td>17206.30</td>\n",
       "      <td>17.0</td>\n",
       "      <td>32.0</td>\n",
       "      <td>Санкт-Петербург</td>\n",
       "      <td>smart</td>\n",
       "      <td>50</td>\n",
       "      <td>15360</td>\n",
       "      <td>500</td>\n",
       "      <td>550</td>\n",
       "      <td>200</td>\n",
       "      <td>3</td>\n",
       "      <td>3</td>\n",
       "      <td>0.0</td>\n",
       "      <td>2.0</td>\n",
       "      <td>0.0</td>\n",
       "      <td>950.0</td>\n",
       "    </tr>\n",
       "    <tr>\n",
       "      <td>3211</td>\n",
       "      <td>1489</td>\n",
       "      <td>2018-10-31</td>\n",
       "      <td>0.0</td>\n",
       "      <td>0.0</td>\n",
       "      <td>19559.44</td>\n",
       "      <td>20.0</td>\n",
       "      <td>21.0</td>\n",
       "      <td>Санкт-Петербург</td>\n",
       "      <td>smart</td>\n",
       "      <td>50</td>\n",
       "      <td>15360</td>\n",
       "      <td>500</td>\n",
       "      <td>550</td>\n",
       "      <td>200</td>\n",
       "      <td>3</td>\n",
       "      <td>3</td>\n",
       "      <td>0.0</td>\n",
       "      <td>5.0</td>\n",
       "      <td>0.0</td>\n",
       "      <td>1550.0</td>\n",
       "    </tr>\n",
       "    <tr>\n",
       "      <td>3212</td>\n",
       "      <td>1489</td>\n",
       "      <td>2018-11-30</td>\n",
       "      <td>0.0</td>\n",
       "      <td>0.0</td>\n",
       "      <td>17491.56</td>\n",
       "      <td>18.0</td>\n",
       "      <td>20.0</td>\n",
       "      <td>Санкт-Петербург</td>\n",
       "      <td>smart</td>\n",
       "      <td>50</td>\n",
       "      <td>15360</td>\n",
       "      <td>500</td>\n",
       "      <td>550</td>\n",
       "      <td>200</td>\n",
       "      <td>3</td>\n",
       "      <td>3</td>\n",
       "      <td>0.0</td>\n",
       "      <td>3.0</td>\n",
       "      <td>0.0</td>\n",
       "      <td>1150.0</td>\n",
       "    </tr>\n",
       "    <tr>\n",
       "      <td>3213</td>\n",
       "      <td>1489</td>\n",
       "      <td>2018-12-31</td>\n",
       "      <td>0.0</td>\n",
       "      <td>0.0</td>\n",
       "      <td>17322.51</td>\n",
       "      <td>17.0</td>\n",
       "      <td>35.0</td>\n",
       "      <td>Санкт-Петербург</td>\n",
       "      <td>smart</td>\n",
       "      <td>50</td>\n",
       "      <td>15360</td>\n",
       "      <td>500</td>\n",
       "      <td>550</td>\n",
       "      <td>200</td>\n",
       "      <td>3</td>\n",
       "      <td>3</td>\n",
       "      <td>0.0</td>\n",
       "      <td>2.0</td>\n",
       "      <td>0.0</td>\n",
       "      <td>950.0</td>\n",
       "    </tr>\n",
       "  </tbody>\n",
       "</table>\n",
       "<p>3214 rows × 20 columns</p>\n",
       "</div>"
      ],
      "text/plain": [
       "      user_id      month  calls_qty  minutes_qty   mb_used  gb_used  \\\n",
       "0        1000 2018-05-31       22.0        159.0   2253.49      3.0   \n",
       "1        1000 2018-06-30       43.0        172.0  23233.77     23.0   \n",
       "2        1000 2018-07-31       47.0        340.0  14003.64     14.0   \n",
       "3        1000 2018-08-31       52.0        408.0  14055.93     14.0   \n",
       "4        1000 2018-09-30       58.0        466.0  14568.91     15.0   \n",
       "...       ...        ...        ...          ...       ...      ...   \n",
       "3209     1489 2018-08-31        0.0          0.0  11050.56     11.0   \n",
       "3210     1489 2018-09-30        0.0          0.0  17206.30     17.0   \n",
       "3211     1489 2018-10-31        0.0          0.0  19559.44     20.0   \n",
       "3212     1489 2018-11-30        0.0          0.0  17491.56     18.0   \n",
       "3213     1489 2018-12-31        0.0          0.0  17322.51     17.0   \n",
       "\n",
       "      messages_qty             city tariff  messages_included  \\\n",
       "0             22.0        Краснодар  ultra               1000   \n",
       "1             60.0        Краснодар  ultra               1000   \n",
       "2             75.0        Краснодар  ultra               1000   \n",
       "3             81.0        Краснодар  ultra               1000   \n",
       "4             57.0        Краснодар  ultra               1000   \n",
       "...            ...              ...    ...                ...   \n",
       "3209          17.0  Санкт-Петербург  smart                 50   \n",
       "3210          32.0  Санкт-Петербург  smart                 50   \n",
       "3211          21.0  Санкт-Петербург  smart                 50   \n",
       "3212          20.0  Санкт-Петербург  smart                 50   \n",
       "3213          35.0  Санкт-Петербург  smart                 50   \n",
       "\n",
       "      mb_per_month_included  minutes_included  rub_monthly_fee  rub_per_gb  \\\n",
       "0                     30720              3000             1950         150   \n",
       "1                     30720              3000             1950         150   \n",
       "2                     30720              3000             1950         150   \n",
       "3                     30720              3000             1950         150   \n",
       "4                     30720              3000             1950         150   \n",
       "...                     ...               ...              ...         ...   \n",
       "3209                  15360               500              550         200   \n",
       "3210                  15360               500              550         200   \n",
       "3211                  15360               500              550         200   \n",
       "3212                  15360               500              550         200   \n",
       "3213                  15360               500              550         200   \n",
       "\n",
       "      rub_per_message  rub_per_minute  min_over_tariff  gb_over_tariff  \\\n",
       "0                   1               1              0.0             0.0   \n",
       "1                   1               1              0.0             0.0   \n",
       "2                   1               1              0.0             0.0   \n",
       "3                   1               1              0.0             0.0   \n",
       "4                   1               1              0.0             0.0   \n",
       "...               ...             ...              ...             ...   \n",
       "3209                3               3              0.0             0.0   \n",
       "3210                3               3              0.0             2.0   \n",
       "3211                3               3              0.0             5.0   \n",
       "3212                3               3              0.0             3.0   \n",
       "3213                3               3              0.0             2.0   \n",
       "\n",
       "      messages_over_tariff  income  \n",
       "0                      0.0  1950.0  \n",
       "1                      0.0  1950.0  \n",
       "2                      0.0  1950.0  \n",
       "3                      0.0  1950.0  \n",
       "4                      0.0  1950.0  \n",
       "...                    ...     ...  \n",
       "3209                   0.0   550.0  \n",
       "3210                   0.0   950.0  \n",
       "3211                   0.0  1550.0  \n",
       "3212                   0.0  1150.0  \n",
       "3213                   0.0   950.0  \n",
       "\n",
       "[3214 rows x 20 columns]"
      ]
     },
     "execution_count": 16,
     "metadata": {},
     "output_type": "execute_result"
    }
   ],
   "source": [
    "df['income'] = ( \n",
    "                df['min_over_tariff'] * df['rub_per_minute']\n",
    "                + df['gb_over_tariff'] * df['rub_per_gb']\n",
    "                + df['messages_over_tariff'] * df['rub_per_message']\n",
    "                + df['rub_monthly_fee']\n",
    "               )\n",
    "df"
   ]
  },
  {
   "cell_type": "code",
   "execution_count": 17,
   "metadata": {},
   "outputs": [
    {
     "data": {
      "text/plain": [
       "4914451.0"
      ]
     },
     "execution_count": 17,
     "metadata": {},
     "output_type": "execute_result"
    }
   ],
   "source": [
    "df['income'].sum() #суммарный доход от абонентов за год"
   ]
  },
  {
   "cell_type": "code",
   "execution_count": 18,
   "metadata": {},
   "outputs": [
    {
     "data": {
      "text/html": [
       "<div>\n",
       "<style scoped>\n",
       "    .dataframe tbody tr th:only-of-type {\n",
       "        vertical-align: middle;\n",
       "    }\n",
       "\n",
       "    .dataframe tbody tr th {\n",
       "        vertical-align: top;\n",
       "    }\n",
       "\n",
       "    .dataframe thead th {\n",
       "        text-align: right;\n",
       "    }\n",
       "</style>\n",
       "<table border=\"1\" class=\"dataframe\">\n",
       "  <thead>\n",
       "    <tr style=\"text-align: right;\">\n",
       "      <th></th>\n",
       "      <th>income</th>\n",
       "    </tr>\n",
       "    <tr>\n",
       "      <th>tariff</th>\n",
       "      <th></th>\n",
       "    </tr>\n",
       "  </thead>\n",
       "  <tbody>\n",
       "    <tr>\n",
       "      <td>smart</td>\n",
       "      <td>2875351.0</td>\n",
       "    </tr>\n",
       "    <tr>\n",
       "      <td>ultra</td>\n",
       "      <td>2039100.0</td>\n",
       "    </tr>\n",
       "  </tbody>\n",
       "</table>\n",
       "</div>"
      ],
      "text/plain": [
       "           income\n",
       "tariff           \n",
       "smart   2875351.0\n",
       "ultra   2039100.0"
      ]
     },
     "execution_count": 18,
     "metadata": {},
     "output_type": "execute_result"
    }
   ],
   "source": [
    "df.pivot_table(index='tariff', values='income', aggfunc='sum') #суммарный доход от абонентов за год по тарифным планам"
   ]
  },
  {
   "cell_type": "markdown",
   "metadata": {},
   "source": [
    "**Вывод**\n",
    "\n",
    "В ходе данного этапа был создан общий фрейм данных, объединивший в себе данные об абонентах (город проживания и подключенный тарифный план), суммарные данные об объемах трафика (минуты, Гб, SMS), потребляемого абонентами в месяц, и состав тарифного пакета. На основе этих данных рассчитаны объем сверхлимитного потребления трафика и выручка за месяц, получаемая с каждого абонента."
   ]
  },
  {
   "cell_type": "markdown",
   "metadata": {},
   "source": [
    "## Исследовательский анализ данных"
   ]
  },
  {
   "cell_type": "markdown",
   "metadata": {},
   "source": [
    "Определим, сколько в среднем в месяц минут, Гб и SMS тратит каждый абонент. Дополнительно сгруппируем абонентов по тарифным планам."
   ]
  },
  {
   "cell_type": "code",
   "execution_count": 19,
   "metadata": {},
   "outputs": [
    {
     "data": {
      "text/html": [
       "<div>\n",
       "<style scoped>\n",
       "    .dataframe tbody tr th:only-of-type {\n",
       "        vertical-align: middle;\n",
       "    }\n",
       "\n",
       "    .dataframe tbody tr th {\n",
       "        vertical-align: top;\n",
       "    }\n",
       "\n",
       "    .dataframe thead th {\n",
       "        text-align: right;\n",
       "    }\n",
       "</style>\n",
       "<table border=\"1\" class=\"dataframe\">\n",
       "  <thead>\n",
       "    <tr style=\"text-align: right;\">\n",
       "      <th></th>\n",
       "      <th>tariff</th>\n",
       "      <th>user_id</th>\n",
       "      <th>city</th>\n",
       "      <th>gb_used</th>\n",
       "      <th>income</th>\n",
       "      <th>messages_qty</th>\n",
       "      <th>minutes_qty</th>\n",
       "    </tr>\n",
       "  </thead>\n",
       "  <tbody>\n",
       "    <tr>\n",
       "      <td>0</td>\n",
       "      <td>smart</td>\n",
       "      <td>1001</td>\n",
       "      <td>Москва</td>\n",
       "      <td>16.000000</td>\n",
       "      <td>850.000000</td>\n",
       "      <td>0.0</td>\n",
       "      <td>422.000000</td>\n",
       "    </tr>\n",
       "    <tr>\n",
       "      <td>1</td>\n",
       "      <td>smart</td>\n",
       "      <td>1002</td>\n",
       "      <td>Стерлитамак</td>\n",
       "      <td>16.714286</td>\n",
       "      <td>1035.714286</td>\n",
       "      <td>10.0</td>\n",
       "      <td>216.714286</td>\n",
       "    </tr>\n",
       "    <tr>\n",
       "      <td>2</td>\n",
       "      <td>smart</td>\n",
       "      <td>1005</td>\n",
       "      <td>Набережные Челны</td>\n",
       "      <td>8.583333</td>\n",
       "      <td>827.000000</td>\n",
       "      <td>46.0</td>\n",
       "      <td>550.416667</td>\n",
       "    </tr>\n",
       "    <tr>\n",
       "      <td>3</td>\n",
       "      <td>smart</td>\n",
       "      <td>1006</td>\n",
       "      <td>Ульяновск</td>\n",
       "      <td>15.090909</td>\n",
       "      <td>931.818182</td>\n",
       "      <td>0.0</td>\n",
       "      <td>318.272727</td>\n",
       "    </tr>\n",
       "    <tr>\n",
       "      <td>4</td>\n",
       "      <td>smart</td>\n",
       "      <td>1007</td>\n",
       "      <td>Москва</td>\n",
       "      <td>14.888889</td>\n",
       "      <td>913.444444</td>\n",
       "      <td>25.0</td>\n",
       "      <td>486.555556</td>\n",
       "    </tr>\n",
       "    <tr>\n",
       "      <td>...</td>\n",
       "      <td>...</td>\n",
       "      <td>...</td>\n",
       "      <td>...</td>\n",
       "      <td>...</td>\n",
       "      <td>...</td>\n",
       "      <td>...</td>\n",
       "      <td>...</td>\n",
       "    </tr>\n",
       "    <tr>\n",
       "      <td>493</td>\n",
       "      <td>ultra</td>\n",
       "      <td>1476</td>\n",
       "      <td>Москва</td>\n",
       "      <td>16.888889</td>\n",
       "      <td>1950.000000</td>\n",
       "      <td>5.0</td>\n",
       "      <td>467.111111</td>\n",
       "    </tr>\n",
       "    <tr>\n",
       "      <td>494</td>\n",
       "      <td>ultra</td>\n",
       "      <td>1485</td>\n",
       "      <td>Киров</td>\n",
       "      <td>23.000000</td>\n",
       "      <td>1950.000000</td>\n",
       "      <td>155.0</td>\n",
       "      <td>584.000000</td>\n",
       "    </tr>\n",
       "    <tr>\n",
       "      <td>495</td>\n",
       "      <td>ultra</td>\n",
       "      <td>1491</td>\n",
       "      <td>Челябинск</td>\n",
       "      <td>18.000000</td>\n",
       "      <td>1950.000000</td>\n",
       "      <td>48.0</td>\n",
       "      <td>513.333333</td>\n",
       "    </tr>\n",
       "    <tr>\n",
       "      <td>496</td>\n",
       "      <td>ultra</td>\n",
       "      <td>1493</td>\n",
       "      <td>Красноярск</td>\n",
       "      <td>27.000000</td>\n",
       "      <td>2850.000000</td>\n",
       "      <td>47.0</td>\n",
       "      <td>372.000000</td>\n",
       "    </tr>\n",
       "    <tr>\n",
       "      <td>497</td>\n",
       "      <td>ultra</td>\n",
       "      <td>1495</td>\n",
       "      <td>Иркутск</td>\n",
       "      <td>25.400000</td>\n",
       "      <td>2310.000000</td>\n",
       "      <td>68.0</td>\n",
       "      <td>784.000000</td>\n",
       "    </tr>\n",
       "  </tbody>\n",
       "</table>\n",
       "<p>498 rows × 7 columns</p>\n",
       "</div>"
      ],
      "text/plain": [
       "    tariff  user_id              city    gb_used       income  messages_qty  \\\n",
       "0    smart     1001            Москва  16.000000   850.000000           0.0   \n",
       "1    smart     1002       Стерлитамак  16.714286  1035.714286          10.0   \n",
       "2    smart     1005  Набережные Челны   8.583333   827.000000          46.0   \n",
       "3    smart     1006         Ульяновск  15.090909   931.818182           0.0   \n",
       "4    smart     1007            Москва  14.888889   913.444444          25.0   \n",
       "..     ...      ...               ...        ...          ...           ...   \n",
       "493  ultra     1476            Москва  16.888889  1950.000000           5.0   \n",
       "494  ultra     1485             Киров  23.000000  1950.000000         155.0   \n",
       "495  ultra     1491         Челябинск  18.000000  1950.000000          48.0   \n",
       "496  ultra     1493        Красноярск  27.000000  2850.000000          47.0   \n",
       "497  ultra     1495           Иркутск  25.400000  2310.000000          68.0   \n",
       "\n",
       "     minutes_qty  \n",
       "0     422.000000  \n",
       "1     216.714286  \n",
       "2     550.416667  \n",
       "3     318.272727  \n",
       "4     486.555556  \n",
       "..           ...  \n",
       "493   467.111111  \n",
       "494   584.000000  \n",
       "495   513.333333  \n",
       "496   372.000000  \n",
       "497   784.000000  \n",
       "\n",
       "[498 rows x 7 columns]"
      ]
     },
     "execution_count": 19,
     "metadata": {},
     "output_type": "execute_result"
    }
   ],
   "source": [
    "df_grouped = (df.pivot_table(index=['tariff', 'user_id', 'city'], \n",
    "                             values=['minutes_qty', 'gb_used', 'messages_qty', 'income'])\n",
    "               .reset_index())\n",
    "\n",
    "df_grouped"
   ]
  },
  {
   "cell_type": "markdown",
   "metadata": {},
   "source": [
    "Применим метод describe() для каждого из тарифов, чтобы оценить основные статистические характеристики данных."
   ]
  },
  {
   "cell_type": "code",
   "execution_count": 20,
   "metadata": {},
   "outputs": [
    {
     "data": {
      "text/html": [
       "<div>\n",
       "<style scoped>\n",
       "    .dataframe tbody tr th:only-of-type {\n",
       "        vertical-align: middle;\n",
       "    }\n",
       "\n",
       "    .dataframe tbody tr th {\n",
       "        vertical-align: top;\n",
       "    }\n",
       "\n",
       "    .dataframe thead th {\n",
       "        text-align: right;\n",
       "    }\n",
       "</style>\n",
       "<table border=\"1\" class=\"dataframe\">\n",
       "  <thead>\n",
       "    <tr style=\"text-align: right;\">\n",
       "      <th></th>\n",
       "      <th>user_id</th>\n",
       "      <th>gb_used</th>\n",
       "      <th>income</th>\n",
       "      <th>messages_qty</th>\n",
       "      <th>minutes_qty</th>\n",
       "    </tr>\n",
       "  </thead>\n",
       "  <tbody>\n",
       "    <tr>\n",
       "      <td>count</td>\n",
       "      <td>350.000000</td>\n",
       "      <td>350.000000</td>\n",
       "      <td>350.000000</td>\n",
       "      <td>350.000000</td>\n",
       "      <td>350.000000</td>\n",
       "    </tr>\n",
       "    <tr>\n",
       "      <td>mean</td>\n",
       "      <td>1243.771429</td>\n",
       "      <td>16.308519</td>\n",
       "      <td>1324.401019</td>\n",
       "      <td>32.352078</td>\n",
       "      <td>419.634803</td>\n",
       "    </tr>\n",
       "    <tr>\n",
       "      <td>std</td>\n",
       "      <td>145.033439</td>\n",
       "      <td>3.501643</td>\n",
       "      <td>606.040551</td>\n",
       "      <td>26.512448</td>\n",
       "      <td>145.031543</td>\n",
       "    </tr>\n",
       "    <tr>\n",
       "      <td>min</td>\n",
       "      <td>1001.000000</td>\n",
       "      <td>5.727273</td>\n",
       "      <td>550.000000</td>\n",
       "      <td>0.000000</td>\n",
       "      <td>0.000000</td>\n",
       "    </tr>\n",
       "    <tr>\n",
       "      <td>25%</td>\n",
       "      <td>1119.500000</td>\n",
       "      <td>14.000000</td>\n",
       "      <td>867.550000</td>\n",
       "      <td>11.000000</td>\n",
       "      <td>316.886364</td>\n",
       "    </tr>\n",
       "    <tr>\n",
       "      <td>50%</td>\n",
       "      <td>1235.500000</td>\n",
       "      <td>16.333333</td>\n",
       "      <td>1177.116667</td>\n",
       "      <td>27.750000</td>\n",
       "      <td>425.062500</td>\n",
       "    </tr>\n",
       "    <tr>\n",
       "      <td>75%</td>\n",
       "      <td>1371.500000</td>\n",
       "      <td>18.691667</td>\n",
       "      <td>1667.250000</td>\n",
       "      <td>48.000000</td>\n",
       "      <td>519.508333</td>\n",
       "    </tr>\n",
       "    <tr>\n",
       "      <td>max</td>\n",
       "      <td>1499.000000</td>\n",
       "      <td>27.250000</td>\n",
       "      <td>4333.333333</td>\n",
       "      <td>118.000000</td>\n",
       "      <td>891.500000</td>\n",
       "    </tr>\n",
       "  </tbody>\n",
       "</table>\n",
       "</div>"
      ],
      "text/plain": [
       "           user_id     gb_used       income  messages_qty  minutes_qty\n",
       "count   350.000000  350.000000   350.000000    350.000000   350.000000\n",
       "mean   1243.771429   16.308519  1324.401019     32.352078   419.634803\n",
       "std     145.033439    3.501643   606.040551     26.512448   145.031543\n",
       "min    1001.000000    5.727273   550.000000      0.000000     0.000000\n",
       "25%    1119.500000   14.000000   867.550000     11.000000   316.886364\n",
       "50%    1235.500000   16.333333  1177.116667     27.750000   425.062500\n",
       "75%    1371.500000   18.691667  1667.250000     48.000000   519.508333\n",
       "max    1499.000000   27.250000  4333.333333    118.000000   891.500000"
      ]
     },
     "metadata": {},
     "output_type": "display_data"
    },
    {
     "name": "stdout",
     "output_type": "stream",
     "text": [
      "------------------------------------------\n"
     ]
    },
    {
     "data": {
      "text/html": [
       "<div>\n",
       "<style scoped>\n",
       "    .dataframe tbody tr th:only-of-type {\n",
       "        vertical-align: middle;\n",
       "    }\n",
       "\n",
       "    .dataframe tbody tr th {\n",
       "        vertical-align: top;\n",
       "    }\n",
       "\n",
       "    .dataframe thead th {\n",
       "        text-align: right;\n",
       "    }\n",
       "</style>\n",
       "<table border=\"1\" class=\"dataframe\">\n",
       "  <thead>\n",
       "    <tr style=\"text-align: right;\">\n",
       "      <th></th>\n",
       "      <th>user_id</th>\n",
       "      <th>gb_used</th>\n",
       "      <th>income</th>\n",
       "      <th>messages_qty</th>\n",
       "      <th>minutes_qty</th>\n",
       "    </tr>\n",
       "  </thead>\n",
       "  <tbody>\n",
       "    <tr>\n",
       "      <td>count</td>\n",
       "      <td>148.000000</td>\n",
       "      <td>148.000000</td>\n",
       "      <td>148.000000</td>\n",
       "      <td>148.000000</td>\n",
       "      <td>148.000000</td>\n",
       "    </tr>\n",
       "    <tr>\n",
       "      <td>mean</td>\n",
       "      <td>1263.047297</td>\n",
       "      <td>19.588446</td>\n",
       "      <td>2086.464659</td>\n",
       "      <td>54.030743</td>\n",
       "      <td>527.821819</td>\n",
       "    </tr>\n",
       "    <tr>\n",
       "      <td>std</td>\n",
       "      <td>143.031861</td>\n",
       "      <td>8.116120</td>\n",
       "      <td>298.532720</td>\n",
       "      <td>46.366246</td>\n",
       "      <td>281.786359</td>\n",
       "    </tr>\n",
       "    <tr>\n",
       "      <td>min</td>\n",
       "      <td>1000.000000</td>\n",
       "      <td>0.000000</td>\n",
       "      <td>1950.000000</td>\n",
       "      <td>0.000000</td>\n",
       "      <td>0.000000</td>\n",
       "    </tr>\n",
       "    <tr>\n",
       "      <td>25%</td>\n",
       "      <td>1146.750000</td>\n",
       "      <td>14.727273</td>\n",
       "      <td>1950.000000</td>\n",
       "      <td>17.000000</td>\n",
       "      <td>325.437500</td>\n",
       "    </tr>\n",
       "    <tr>\n",
       "      <td>50%</td>\n",
       "      <td>1276.500000</td>\n",
       "      <td>18.775000</td>\n",
       "      <td>1950.000000</td>\n",
       "      <td>45.500000</td>\n",
       "      <td>514.541667</td>\n",
       "    </tr>\n",
       "    <tr>\n",
       "      <td>75%</td>\n",
       "      <td>1379.250000</td>\n",
       "      <td>25.687500</td>\n",
       "      <td>1990.625000</td>\n",
       "      <td>84.250000</td>\n",
       "      <td>746.972222</td>\n",
       "    </tr>\n",
       "    <tr>\n",
       "      <td>max</td>\n",
       "      <td>1495.000000</td>\n",
       "      <td>38.500000</td>\n",
       "      <td>3225.000000</td>\n",
       "      <td>192.000000</td>\n",
       "      <td>1179.363636</td>\n",
       "    </tr>\n",
       "  </tbody>\n",
       "</table>\n",
       "</div>"
      ],
      "text/plain": [
       "           user_id     gb_used       income  messages_qty  minutes_qty\n",
       "count   148.000000  148.000000   148.000000    148.000000   148.000000\n",
       "mean   1263.047297   19.588446  2086.464659     54.030743   527.821819\n",
       "std     143.031861    8.116120   298.532720     46.366246   281.786359\n",
       "min    1000.000000    0.000000  1950.000000      0.000000     0.000000\n",
       "25%    1146.750000   14.727273  1950.000000     17.000000   325.437500\n",
       "50%    1276.500000   18.775000  1950.000000     45.500000   514.541667\n",
       "75%    1379.250000   25.687500  1990.625000     84.250000   746.972222\n",
       "max    1495.000000   38.500000  3225.000000    192.000000  1179.363636"
      ]
     },
     "metadata": {},
     "output_type": "display_data"
    },
    {
     "name": "stdout",
     "output_type": "stream",
     "text": [
      "------------------------------------------\n"
     ]
    }
   ],
   "source": [
    "tariffs = ['smart', 'ultra']\n",
    "\n",
    "for tariff in tariffs:\n",
    "    display(df_grouped.loc[df_grouped['tariff'] == tariff].describe())\n",
    "    print('------------------------------------------')"
   ]
  },
  {
   "cell_type": "markdown",
   "metadata": {},
   "source": [
    "Тариф smart:\n",
    "- абоненты в среднем говорят по 420 мин в мес, но есть и такие, которые совсем не пользуются голосовым трафиком, и такие, которые по 900 мин в месяц разговаривают. Тарифный план включает 500 мин и хватает их только примерно 70% абонентов, значит остальные 30% будут стабильно со сверхлимитом по минутам;\n",
    "- абоненты в среднем используют 16.3 Гб мобильного трафика, при этом меньше 5.73 Гб в месяц никто не тратит, но есть и такие, которые используют в среднем по 27 Гб в мес. Тарифный план включает 15 Гб, их хватает только 30% абонентов, остальные 70% со стабильным сверхлимитом по Гб;\n",
    "- абоненты в среднем отправляют в месяц 32 SMS, но есть и такие, которые совсем не пользуются SMS, и такие, которые отправляют по 118 SMS в месяц; 500 SMS тарифного плана, которыми пользуется совсем слегка))\n",
    "- в среднем каждый абонент в месяц платит 1325 р. за пользование тарифом, учитывая размер абонентской платы в 550 р., получается, что сверх тарифа каждый абонент в среднем платит по 775 р. в мес., т.е. почти полуторную абонентскую плату. Можно сказать, что выбранный тарифный план в среднем не покрывает потребности абонентов. При этом есть абоненты, которые остаются в рамках тарифного пакета, а есть такие, которые тратят по 4300 р./мес, что почти в 8 раз превышает абонентскую плату.\n",
    "\n",
    "Тариф ultra:\n",
    "- абоненты в среднем говорят по 530 мин в мес, но есть и такие, которые совсем не пользуются голосовым трафиком, и такие, которые по 1180 мин в месяц разговаривают. Учитывая, что тарифный план включает 3000 мин, можно сказать, что даже самый разговорчивый абонент, не расходует и половину лимиты;\n",
    "- абоненты в среднем используют 19.6 Гб мобильного трафика, при этом некоторым он совсем не нужен, но есть и такие, которые используют в среднем по 38.5 Гб в мес. Учитывая, что тарифный пакет включает 30 Гб, а 75% абонентов используют не больше 26 гб в мес, можно сказать, что очень малому числу абонентов не хватает пакетного лимита;\n",
    "- абоненты в среднем отправляют в месяц 54 SMS, но есть и такие, которые совсем не пользуются SMS, и такие, которые отправляют по 192 SMS в месяц. 1000 SMS из тарифного плана им и за год не использовать ));\n",
    "- в среднем каждый абонент в месяц платит 2000 р. за пользование тарифом, учитывая размер абонентской платы в 1950 р., можно сказать, что большинство абонентов остаются в рамках тарифного пакета, но есть и такие, которые превышают и тратят по 3225 р./мес.\n",
    "\n",
    "Сравнивая абонентов 2-х тарифных пакетов, можно сказать следующее:\n",
    "- кол-во пользователей тарифа smart в 2 с небольшим раза больше, чем пользователей тарифа ultra;\n",
    "- абоненты тарифа ultra в среднем в месяц говорят на 100 мин больше, чем абоненты smart, но абонентам ultra пакетного лимита более, чем достаточно, в то время как 30% абонентов smart постоянно превышают пакетный лимит;\n",
    "- абоненты тарифа ultra в среднем в месяц используют на 3.3 Гб больше, чем абоненты smart, но абонентам ultra в массе пакетного лимита вполне достаточно, в то время как 70% абонентов smart постоянно превышают пакетный лимит;\n",
    "- абоненты тарифа ultra в среднем в месяц отправляют почти в 2 раза больше SMS, чем абоненты smart, но и те, и другие отправляют существенно меньше в сравнении с пакетным лимитом;\n",
    "- абоненты тарифа ultra в среднем в месяц платят на 675 р. больше, чем абоненты smart, но при этом большинство абонентов ultra остаются в рамках тарифного плана, в то время, как абоненты smart в массе выходят на сверхлимит и платят в среднем сумму, более чем в 2 раза превышающую абонентскую плату."
   ]
  },
  {
   "cell_type": "markdown",
   "metadata": {},
   "source": [
    "Посторим диаграммы рассеивания (боксплоты) для анализируемых данных в разрезе тарифных планов, чтобы наглядно подтвердить сделанные выше выводы."
   ]
  },
  {
   "cell_type": "code",
   "execution_count": 21,
   "metadata": {},
   "outputs": [
    {
     "data": {
      "image/png": "[encoded data removed]",
      "text/plain": [
       "<Figure size 576x360 with 2 Axes>"
      ]
     },
     "metadata": {
      "needs_background": "light"
     },
     "output_type": "display_data"
    },
    {
     "data": {
      "image/png": "[encoded data removed]",
      "text/plain": [
       "<Figure size 576x360 with 2 Axes>"
      ]
     },
     "metadata": {
      "needs_background": "light"
     },
     "output_type": "display_data"
    },
    {
     "data": {
      "image/png": "[encoded data removed]",
      "text/plain": [
       "<Figure size 576x360 with 2 Axes>"
      ]
     },
     "metadata": {
      "needs_background": "light"
     },
     "output_type": "display_data"
    },
    {
     "data": {
      "image/png": "[encoded data removed]",
      "text/plain": [
       "<Figure size 576x360 with 2 Axes>"
      ]
     },
     "metadata": {
      "needs_background": "light"
     },
     "output_type": "display_data"
    }
   ],
   "source": [
    "plot_cols = ['minutes_qty', 'gb_used', 'messages_qty', 'income']\n",
    "\n",
    "for plot_col in plot_cols:\n",
    "    dataset = df_grouped\n",
    "    pad = 2\n",
    "    title_size = 10\n",
    "    fig, ax = plt.subplots(2,1, sharex=True, figsize = (8, 5))\n",
    "    ax[0].set_title('Тариф Smart', loc = 'right', pad = pad, size=title_size)\n",
    "    ax[1].set_title('Тариф Ultra', loc = 'right', pad = pad, size=title_size)\n",
    "    sns.boxplot(dataset.loc[dataset['tariff'] == 'smart'][plot_col], ax=ax[0], palette=sns.color_palette('Blues', 5))\n",
    "    sns.boxplot(dataset.loc[dataset['tariff'] == 'ultra'][plot_col], ax=ax[1], palette=sns.color_palette('Greens', 5))\n",
    "    plt.suptitle('Диаграммы рассеивания для ' + plot_col, size=14)\n",
    "    \n",
    "plt.show()\n"
   ]
  },
  {
   "cell_type": "markdown",
   "metadata": {},
   "source": [
    "Сгруппируем фрейм по тарифным планам и рассчитаем для каждого тарифного плана среднюю, медиану, дисперсию и стандартное отклонение."
   ]
  },
  {
   "cell_type": "code",
   "execution_count": 22,
   "metadata": {},
   "outputs": [],
   "source": [
    "def var1(x): #функция расчета дисперсии для выборки\n",
    "    return np.var(x, ddof=1)\n",
    "\n",
    "def std1(x): #функция расчета стандартного отклонения для выборки\n",
    "    return np.std(x, ddof=1)"
   ]
  },
  {
   "cell_type": "code",
   "execution_count": 23,
   "metadata": {},
   "outputs": [
    {
     "data": {
      "text/html": [
       "<div>\n",
       "<style scoped>\n",
       "    .dataframe tbody tr th:only-of-type {\n",
       "        vertical-align: middle;\n",
       "    }\n",
       "\n",
       "    .dataframe tbody tr th {\n",
       "        vertical-align: top;\n",
       "    }\n",
       "\n",
       "    .dataframe thead th {\n",
       "        text-align: right;\n",
       "    }\n",
       "</style>\n",
       "<table border=\"1\" class=\"dataframe\">\n",
       "  <thead>\n",
       "    <tr style=\"text-align: right;\">\n",
       "      <th></th>\n",
       "      <th>tariff</th>\n",
       "      <th>mean_gb_used</th>\n",
       "      <th>mean_income</th>\n",
       "      <th>mean_messages_qty</th>\n",
       "      <th>mean_minutes_qty</th>\n",
       "      <th>median_gb_used</th>\n",
       "      <th>median_income</th>\n",
       "      <th>median_messages_qty</th>\n",
       "      <th>median_minutes_qty</th>\n",
       "      <th>var1_gb_used</th>\n",
       "      <th>var1_income</th>\n",
       "      <th>var1_messages_qty</th>\n",
       "      <th>var1_minutes_qty</th>\n",
       "      <th>std1_gb_used</th>\n",
       "      <th>std1_income</th>\n",
       "      <th>std1_messages_qty</th>\n",
       "      <th>std1_minutes_qty</th>\n",
       "    </tr>\n",
       "  </thead>\n",
       "  <tbody>\n",
       "    <tr>\n",
       "      <td>0</td>\n",
       "      <td>smart</td>\n",
       "      <td>16.308519</td>\n",
       "      <td>1324.401019</td>\n",
       "      <td>32.352078</td>\n",
       "      <td>419.634803</td>\n",
       "      <td>16.333333</td>\n",
       "      <td>1177.116667</td>\n",
       "      <td>27.75</td>\n",
       "      <td>425.062500</td>\n",
       "      <td>12.261503</td>\n",
       "      <td>367285.150014</td>\n",
       "      <td>702.909910</td>\n",
       "      <td>21034.148607</td>\n",
       "      <td>3.501643</td>\n",
       "      <td>606.040551</td>\n",
       "      <td>26.512448</td>\n",
       "      <td>145.031543</td>\n",
       "    </tr>\n",
       "    <tr>\n",
       "      <td>1</td>\n",
       "      <td>ultra</td>\n",
       "      <td>19.588446</td>\n",
       "      <td>2086.464659</td>\n",
       "      <td>54.030743</td>\n",
       "      <td>527.821819</td>\n",
       "      <td>18.775000</td>\n",
       "      <td>1950.000000</td>\n",
       "      <td>45.50</td>\n",
       "      <td>514.541667</td>\n",
       "      <td>65.871402</td>\n",
       "      <td>89121.784981</td>\n",
       "      <td>2149.828793</td>\n",
       "      <td>79403.551850</td>\n",
       "      <td>8.116120</td>\n",
       "      <td>298.532720</td>\n",
       "      <td>46.366246</td>\n",
       "      <td>281.786359</td>\n",
       "    </tr>\n",
       "  </tbody>\n",
       "</table>\n",
       "</div>"
      ],
      "text/plain": [
       "  tariff  mean_gb_used  mean_income  mean_messages_qty  mean_minutes_qty  \\\n",
       "0  smart     16.308519  1324.401019          32.352078        419.634803   \n",
       "1  ultra     19.588446  2086.464659          54.030743        527.821819   \n",
       "\n",
       "   median_gb_used  median_income  median_messages_qty  median_minutes_qty  \\\n",
       "0       16.333333    1177.116667                27.75          425.062500   \n",
       "1       18.775000    1950.000000                45.50          514.541667   \n",
       "\n",
       "   var1_gb_used    var1_income  var1_messages_qty  var1_minutes_qty  \\\n",
       "0     12.261503  367285.150014         702.909910      21034.148607   \n",
       "1     65.871402   89121.784981        2149.828793      79403.551850   \n",
       "\n",
       "   std1_gb_used  std1_income  std1_messages_qty  std1_minutes_qty  \n",
       "0      3.501643   606.040551          26.512448        145.031543  \n",
       "1      8.116120   298.532720          46.366246        281.786359  "
      ]
     },
     "execution_count": 23,
     "metadata": {},
     "output_type": "execute_result"
    }
   ],
   "source": [
    "stat_data = df_grouped.pivot_table(index='tariff', \n",
    "                                   values=['minutes_qty', 'gb_used', 'messages_qty', 'income'], \n",
    "                                   aggfunc=(['mean', 'median', var1, std1]))\n",
    "\n",
    "stat_data.columns = ['_'.join(col) for col in stat_data.columns] #избавляемся от мультииндекса\n",
    "stat_data = stat_data.reset_index()\n",
    "\n",
    "stat_data"
   ]
  },
  {
   "cell_type": "markdown",
   "metadata": {},
   "source": [
    "Рассчитаем верхнюю и нижнюю границы боксплотов для всех анализируемых параметров, а также количество и долю значений, выходящих за пределы этих границ в разрезе тарифных планов.\n",
    "\n",
    "Верхнюю и нижнюю границы определим, как 1.5 межквартильного размаха."
   ]
  },
  {
   "cell_type": "code",
   "execution_count": 24,
   "metadata": {},
   "outputs": [],
   "source": [
    "def flier_points(dataset, col):\n",
    "    quantile = pd.DataFrame(dataset[col].quantile([0.25,0.75]))\n",
    "    up_whisker = quantile.loc[0.75][col] + (quantile.loc[0.75][col] - quantile.loc[0.25][col]) * 1.5\n",
    "    down_whisker = np.where(quantile.loc[0.25][col] < (quantile.loc[0.75][col] - quantile.loc[0.25][col]) * 1.5, df[col].min(), quantile.loc[0.25][col] - (quantile.loc[0.75][col] - quantile.loc[0.25][col]) * 1.5)\n",
    "    flier_uppoints_qty = len(dataset.loc[dataset[col] > up_whisker])\n",
    "    flier_uppoints_share = flier_uppoints_qty / len(dataset)\n",
    "    flier_downpoints_qty = len(dataset.loc[dataset[col] < down_whisker])\n",
    "    flier_downpoints_share = flier_downpoints_qty / len(dataset)  \n",
    "    result.append({'up_whisker' : up_whisker, 'flier_uppoints_qty' : flier_uppoints_qty, 'flier_uppoints_share': flier_uppoints_share, 'down_whisker' : down_whisker, 'flier_downpoints_qty' : flier_downpoints_qty, 'flier_downpoints_share': flier_downpoints_share})"
   ]
  },
  {
   "cell_type": "code",
   "execution_count": 25,
   "metadata": {},
   "outputs": [
    {
     "data": {
      "text/html": [
       "<div>\n",
       "<style scoped>\n",
       "    .dataframe tbody tr th:only-of-type {\n",
       "        vertical-align: middle;\n",
       "    }\n",
       "\n",
       "    .dataframe tbody tr th {\n",
       "        vertical-align: top;\n",
       "    }\n",
       "\n",
       "    .dataframe thead th {\n",
       "        text-align: right;\n",
       "    }\n",
       "</style>\n",
       "<table border=\"1\" class=\"dataframe\">\n",
       "  <thead>\n",
       "    <tr style=\"text-align: right;\">\n",
       "      <th></th>\n",
       "      <th>up_whisker</th>\n",
       "      <th>flier_uppoints_qty</th>\n",
       "      <th>flier_uppoints_share</th>\n",
       "      <th>down_whisker</th>\n",
       "      <th>flier_downpoints_qty</th>\n",
       "      <th>flier_downpoints_share</th>\n",
       "    </tr>\n",
       "  </thead>\n",
       "  <tbody>\n",
       "    <tr>\n",
       "      <td>minutes_qty</td>\n",
       "      <td>823.441288</td>\n",
       "      <td>1</td>\n",
       "      <td>0.002857</td>\n",
       "      <td>12.953409090909076</td>\n",
       "      <td>2</td>\n",
       "      <td>0.005714</td>\n",
       "    </tr>\n",
       "    <tr>\n",
       "      <td>gb_used</td>\n",
       "      <td>25.729167</td>\n",
       "      <td>1</td>\n",
       "      <td>0.002857</td>\n",
       "      <td>6.9625</td>\n",
       "      <td>2</td>\n",
       "      <td>0.005714</td>\n",
       "    </tr>\n",
       "    <tr>\n",
       "      <td>messages_qty</td>\n",
       "      <td>103.500000</td>\n",
       "      <td>4</td>\n",
       "      <td>0.011429</td>\n",
       "      <td>0.0</td>\n",
       "      <td>0</td>\n",
       "      <td>0.000000</td>\n",
       "    </tr>\n",
       "  </tbody>\n",
       "</table>\n",
       "</div>"
      ],
      "text/plain": [
       "              up_whisker  flier_uppoints_qty  flier_uppoints_share  \\\n",
       "minutes_qty   823.441288                   1              0.002857   \n",
       "gb_used        25.729167                   1              0.002857   \n",
       "messages_qty  103.500000                   4              0.011429   \n",
       "\n",
       "                    down_whisker  flier_downpoints_qty  flier_downpoints_share  \n",
       "minutes_qty   12.953409090909076                     2                0.005714  \n",
       "gb_used                   6.9625                     2                0.005714  \n",
       "messages_qty                 0.0                     0                0.000000  "
      ]
     },
     "metadata": {},
     "output_type": "display_data"
    },
    {
     "name": "stdout",
     "output_type": "stream",
     "text": [
      "-----------------------------------------------------------\n"
     ]
    },
    {
     "data": {
      "text/html": [
       "<div>\n",
       "<style scoped>\n",
       "    .dataframe tbody tr th:only-of-type {\n",
       "        vertical-align: middle;\n",
       "    }\n",
       "\n",
       "    .dataframe tbody tr th {\n",
       "        vertical-align: top;\n",
       "    }\n",
       "\n",
       "    .dataframe thead th {\n",
       "        text-align: right;\n",
       "    }\n",
       "</style>\n",
       "<table border=\"1\" class=\"dataframe\">\n",
       "  <thead>\n",
       "    <tr style=\"text-align: right;\">\n",
       "      <th></th>\n",
       "      <th>up_whisker</th>\n",
       "      <th>flier_uppoints_qty</th>\n",
       "      <th>flier_uppoints_share</th>\n",
       "      <th>down_whisker</th>\n",
       "      <th>flier_downpoints_qty</th>\n",
       "      <th>flier_downpoints_share</th>\n",
       "    </tr>\n",
       "  </thead>\n",
       "  <tbody>\n",
       "    <tr>\n",
       "      <td>minutes_qty</td>\n",
       "      <td>1379.274306</td>\n",
       "      <td>0</td>\n",
       "      <td>0.000000</td>\n",
       "      <td>0.0</td>\n",
       "      <td>0</td>\n",
       "      <td>0.0</td>\n",
       "    </tr>\n",
       "    <tr>\n",
       "      <td>gb_used</td>\n",
       "      <td>42.127841</td>\n",
       "      <td>0</td>\n",
       "      <td>0.000000</td>\n",
       "      <td>0.0</td>\n",
       "      <td>0</td>\n",
       "      <td>0.0</td>\n",
       "    </tr>\n",
       "    <tr>\n",
       "      <td>messages_qty</td>\n",
       "      <td>185.125000</td>\n",
       "      <td>1</td>\n",
       "      <td>0.006757</td>\n",
       "      <td>0.0</td>\n",
       "      <td>0</td>\n",
       "      <td>0.0</td>\n",
       "    </tr>\n",
       "  </tbody>\n",
       "</table>\n",
       "</div>"
      ],
      "text/plain": [
       "               up_whisker  flier_uppoints_qty  flier_uppoints_share  \\\n",
       "minutes_qty   1379.274306                   0              0.000000   \n",
       "gb_used         42.127841                   0              0.000000   \n",
       "messages_qty   185.125000                   1              0.006757   \n",
       "\n",
       "             down_whisker  flier_downpoints_qty  flier_downpoints_share  \n",
       "minutes_qty           0.0                     0                     0.0  \n",
       "gb_used               0.0                     0                     0.0  \n",
       "messages_qty          0.0                     0                     0.0  "
      ]
     },
     "metadata": {},
     "output_type": "display_data"
    },
    {
     "name": "stdout",
     "output_type": "stream",
     "text": [
      "-----------------------------------------------------------\n"
     ]
    }
   ],
   "source": [
    "for tariff in tariffs:\n",
    "    \n",
    "    filter_col_list = ['minutes_qty', 'gb_used', 'messages_qty']\n",
    "    result = []\n",
    "\n",
    "    for filter_col in filter_col_list:\n",
    "        flier_points(df_grouped.loc[df_grouped['tariff'] == tariff], filter_col)\n",
    "    \n",
    "    globals()[tariff] = pd.DataFrame(result, columns=['up_whisker', 'flier_uppoints_qty','flier_uppoints_share', 'down_whisker', 'flier_downpoints_qty', 'flier_downpoints_share'], index=filter_col_list)\n",
    "    \n",
    "    display(globals()[tariff])\n",
    "    print('-----------------------------------------------------------')"
   ]
  },
  {
   "cell_type": "markdown",
   "metadata": {},
   "source": [
    "Для того чтобы убрать аномальных абонетов с нехарактерным потреблением трафика (как в меньшую так и большую сторону), отфильтруем данные по верхней и нижней границам для параметров: минуты, Гб, SMS. \n",
    "Фильтровать данные по прибыли (income) не будем, потому что скорее всего высокие значения уйдут после фильтрации выше указанных параметров."
   ]
  },
  {
   "cell_type": "code",
   "execution_count": 26,
   "metadata": {},
   "outputs": [
    {
     "data": {
      "text/html": [
       "<div>\n",
       "<style scoped>\n",
       "    .dataframe tbody tr th:only-of-type {\n",
       "        vertical-align: middle;\n",
       "    }\n",
       "\n",
       "    .dataframe tbody tr th {\n",
       "        vertical-align: top;\n",
       "    }\n",
       "\n",
       "    .dataframe thead th {\n",
       "        text-align: right;\n",
       "    }\n",
       "</style>\n",
       "<table border=\"1\" class=\"dataframe\">\n",
       "  <thead>\n",
       "    <tr style=\"text-align: right;\">\n",
       "      <th></th>\n",
       "      <th>tariff</th>\n",
       "      <th>user_id</th>\n",
       "      <th>city</th>\n",
       "      <th>gb_used</th>\n",
       "      <th>income</th>\n",
       "      <th>messages_qty</th>\n",
       "      <th>minutes_qty</th>\n",
       "    </tr>\n",
       "  </thead>\n",
       "  <tbody>\n",
       "    <tr>\n",
       "      <td>0</td>\n",
       "      <td>smart</td>\n",
       "      <td>1001</td>\n",
       "      <td>Москва</td>\n",
       "      <td>16.000000</td>\n",
       "      <td>850.000000</td>\n",
       "      <td>0.0</td>\n",
       "      <td>422.000000</td>\n",
       "    </tr>\n",
       "    <tr>\n",
       "      <td>1</td>\n",
       "      <td>smart</td>\n",
       "      <td>1002</td>\n",
       "      <td>Стерлитамак</td>\n",
       "      <td>16.714286</td>\n",
       "      <td>1035.714286</td>\n",
       "      <td>10.0</td>\n",
       "      <td>216.714286</td>\n",
       "    </tr>\n",
       "    <tr>\n",
       "      <td>2</td>\n",
       "      <td>smart</td>\n",
       "      <td>1005</td>\n",
       "      <td>Набережные Челны</td>\n",
       "      <td>8.583333</td>\n",
       "      <td>827.000000</td>\n",
       "      <td>46.0</td>\n",
       "      <td>550.416667</td>\n",
       "    </tr>\n",
       "    <tr>\n",
       "      <td>3</td>\n",
       "      <td>smart</td>\n",
       "      <td>1006</td>\n",
       "      <td>Ульяновск</td>\n",
       "      <td>15.090909</td>\n",
       "      <td>931.818182</td>\n",
       "      <td>0.0</td>\n",
       "      <td>318.272727</td>\n",
       "    </tr>\n",
       "    <tr>\n",
       "      <td>4</td>\n",
       "      <td>smart</td>\n",
       "      <td>1007</td>\n",
       "      <td>Москва</td>\n",
       "      <td>14.888889</td>\n",
       "      <td>913.444444</td>\n",
       "      <td>25.0</td>\n",
       "      <td>486.555556</td>\n",
       "    </tr>\n",
       "    <tr>\n",
       "      <td>...</td>\n",
       "      <td>...</td>\n",
       "      <td>...</td>\n",
       "      <td>...</td>\n",
       "      <td>...</td>\n",
       "      <td>...</td>\n",
       "      <td>...</td>\n",
       "      <td>...</td>\n",
       "    </tr>\n",
       "    <tr>\n",
       "      <td>345</td>\n",
       "      <td>smart</td>\n",
       "      <td>1494</td>\n",
       "      <td>Омск</td>\n",
       "      <td>15.600000</td>\n",
       "      <td>990.600000</td>\n",
       "      <td>0.0</td>\n",
       "      <td>389.200000</td>\n",
       "    </tr>\n",
       "    <tr>\n",
       "      <td>346</td>\n",
       "      <td>smart</td>\n",
       "      <td>1496</td>\n",
       "      <td>Вологда</td>\n",
       "      <td>22.500000</td>\n",
       "      <td>2362.583333</td>\n",
       "      <td>39.0</td>\n",
       "      <td>498.666667</td>\n",
       "    </tr>\n",
       "    <tr>\n",
       "      <td>347</td>\n",
       "      <td>smart</td>\n",
       "      <td>1497</td>\n",
       "      <td>Челябинск</td>\n",
       "      <td>15.333333</td>\n",
       "      <td>928.333333</td>\n",
       "      <td>17.0</td>\n",
       "      <td>468.666667</td>\n",
       "    </tr>\n",
       "    <tr>\n",
       "      <td>348</td>\n",
       "      <td>smart</td>\n",
       "      <td>1498</td>\n",
       "      <td>Владикавказ</td>\n",
       "      <td>18.750000</td>\n",
       "      <td>1659.000000</td>\n",
       "      <td>42.0</td>\n",
       "      <td>323.250000</td>\n",
       "    </tr>\n",
       "    <tr>\n",
       "      <td>349</td>\n",
       "      <td>smart</td>\n",
       "      <td>1499</td>\n",
       "      <td>Пермь</td>\n",
       "      <td>12.750000</td>\n",
       "      <td>952.750000</td>\n",
       "      <td>46.0</td>\n",
       "      <td>405.750000</td>\n",
       "    </tr>\n",
       "  </tbody>\n",
       "</table>\n",
       "<p>346 rows × 7 columns</p>\n",
       "</div>"
      ],
      "text/plain": [
       "    tariff  user_id              city    gb_used       income  messages_qty  \\\n",
       "0    smart     1001            Москва  16.000000   850.000000           0.0   \n",
       "1    smart     1002       Стерлитамак  16.714286  1035.714286          10.0   \n",
       "2    smart     1005  Набережные Челны   8.583333   827.000000          46.0   \n",
       "3    smart     1006         Ульяновск  15.090909   931.818182           0.0   \n",
       "4    smart     1007            Москва  14.888889   913.444444          25.0   \n",
       "..     ...      ...               ...        ...          ...           ...   \n",
       "345  smart     1494              Омск  15.600000   990.600000           0.0   \n",
       "346  smart     1496           Вологда  22.500000  2362.583333          39.0   \n",
       "347  smart     1497         Челябинск  15.333333   928.333333          17.0   \n",
       "348  smart     1498       Владикавказ  18.750000  1659.000000          42.0   \n",
       "349  smart     1499             Пермь  12.750000   952.750000          46.0   \n",
       "\n",
       "     minutes_qty  \n",
       "0     422.000000  \n",
       "1     216.714286  \n",
       "2     550.416667  \n",
       "3     318.272727  \n",
       "4     486.555556  \n",
       "..           ...  \n",
       "345   389.200000  \n",
       "346   498.666667  \n",
       "347   468.666667  \n",
       "348   323.250000  \n",
       "349   405.750000  \n",
       "\n",
       "[346 rows x 7 columns]"
      ]
     },
     "execution_count": 26,
     "metadata": {},
     "output_type": "execute_result"
    }
   ],
   "source": [
    "for filter_col in filter_col_list:\n",
    "    tariff = 'smart'\n",
    "    df_filtered_1 = df_grouped[(df_grouped['tariff'] == tariff)\n",
    "                              & (df_grouped[filter_col] <= globals()[tariff].loc[filter_col]['up_whisker'])\n",
    "                              & (df_grouped[filter_col] >= globals()[tariff].loc[filter_col]['down_whisker'])\n",
    "                             ]\n",
    "df_filtered_1"
   ]
  },
  {
   "cell_type": "code",
   "execution_count": 27,
   "metadata": {},
   "outputs": [
    {
     "data": {
      "text/html": [
       "<div>\n",
       "<style scoped>\n",
       "    .dataframe tbody tr th:only-of-type {\n",
       "        vertical-align: middle;\n",
       "    }\n",
       "\n",
       "    .dataframe tbody tr th {\n",
       "        vertical-align: top;\n",
       "    }\n",
       "\n",
       "    .dataframe thead th {\n",
       "        text-align: right;\n",
       "    }\n",
       "</style>\n",
       "<table border=\"1\" class=\"dataframe\">\n",
       "  <thead>\n",
       "    <tr style=\"text-align: right;\">\n",
       "      <th></th>\n",
       "      <th>tariff</th>\n",
       "      <th>user_id</th>\n",
       "      <th>city</th>\n",
       "      <th>gb_used</th>\n",
       "      <th>income</th>\n",
       "      <th>messages_qty</th>\n",
       "      <th>minutes_qty</th>\n",
       "    </tr>\n",
       "  </thead>\n",
       "  <tbody>\n",
       "    <tr>\n",
       "      <td>350</td>\n",
       "      <td>ultra</td>\n",
       "      <td>1000</td>\n",
       "      <td>Краснодар</td>\n",
       "      <td>13.625000</td>\n",
       "      <td>1950.0</td>\n",
       "      <td>62.0</td>\n",
       "      <td>320.750000</td>\n",
       "    </tr>\n",
       "    <tr>\n",
       "      <td>351</td>\n",
       "      <td>ultra</td>\n",
       "      <td>1003</td>\n",
       "      <td>Москва</td>\n",
       "      <td>11.800000</td>\n",
       "      <td>1950.0</td>\n",
       "      <td>76.0</td>\n",
       "      <td>764.400000</td>\n",
       "    </tr>\n",
       "    <tr>\n",
       "      <td>352</td>\n",
       "      <td>ultra</td>\n",
       "      <td>1004</td>\n",
       "      <td>Новокузнецк</td>\n",
       "      <td>18.750000</td>\n",
       "      <td>1950.0</td>\n",
       "      <td>149.0</td>\n",
       "      <td>123.375000</td>\n",
       "    </tr>\n",
       "    <tr>\n",
       "      <td>353</td>\n",
       "      <td>ultra</td>\n",
       "      <td>1013</td>\n",
       "      <td>Иваново</td>\n",
       "      <td>15.500000</td>\n",
       "      <td>1950.0</td>\n",
       "      <td>21.0</td>\n",
       "      <td>468.000000</td>\n",
       "    </tr>\n",
       "    <tr>\n",
       "      <td>354</td>\n",
       "      <td>ultra</td>\n",
       "      <td>1016</td>\n",
       "      <td>Омск</td>\n",
       "      <td>13.500000</td>\n",
       "      <td>1950.0</td>\n",
       "      <td>71.0</td>\n",
       "      <td>61.000000</td>\n",
       "    </tr>\n",
       "    <tr>\n",
       "      <td>...</td>\n",
       "      <td>...</td>\n",
       "      <td>...</td>\n",
       "      <td>...</td>\n",
       "      <td>...</td>\n",
       "      <td>...</td>\n",
       "      <td>...</td>\n",
       "      <td>...</td>\n",
       "    </tr>\n",
       "    <tr>\n",
       "      <td>493</td>\n",
       "      <td>ultra</td>\n",
       "      <td>1476</td>\n",
       "      <td>Москва</td>\n",
       "      <td>16.888889</td>\n",
       "      <td>1950.0</td>\n",
       "      <td>5.0</td>\n",
       "      <td>467.111111</td>\n",
       "    </tr>\n",
       "    <tr>\n",
       "      <td>494</td>\n",
       "      <td>ultra</td>\n",
       "      <td>1485</td>\n",
       "      <td>Киров</td>\n",
       "      <td>23.000000</td>\n",
       "      <td>1950.0</td>\n",
       "      <td>155.0</td>\n",
       "      <td>584.000000</td>\n",
       "    </tr>\n",
       "    <tr>\n",
       "      <td>495</td>\n",
       "      <td>ultra</td>\n",
       "      <td>1491</td>\n",
       "      <td>Челябинск</td>\n",
       "      <td>18.000000</td>\n",
       "      <td>1950.0</td>\n",
       "      <td>48.0</td>\n",
       "      <td>513.333333</td>\n",
       "    </tr>\n",
       "    <tr>\n",
       "      <td>496</td>\n",
       "      <td>ultra</td>\n",
       "      <td>1493</td>\n",
       "      <td>Красноярск</td>\n",
       "      <td>27.000000</td>\n",
       "      <td>2850.0</td>\n",
       "      <td>47.0</td>\n",
       "      <td>372.000000</td>\n",
       "    </tr>\n",
       "    <tr>\n",
       "      <td>497</td>\n",
       "      <td>ultra</td>\n",
       "      <td>1495</td>\n",
       "      <td>Иркутск</td>\n",
       "      <td>25.400000</td>\n",
       "      <td>2310.0</td>\n",
       "      <td>68.0</td>\n",
       "      <td>784.000000</td>\n",
       "    </tr>\n",
       "  </tbody>\n",
       "</table>\n",
       "<p>147 rows × 7 columns</p>\n",
       "</div>"
      ],
      "text/plain": [
       "    tariff  user_id         city    gb_used  income  messages_qty  minutes_qty\n",
       "350  ultra     1000    Краснодар  13.625000  1950.0          62.0   320.750000\n",
       "351  ultra     1003       Москва  11.800000  1950.0          76.0   764.400000\n",
       "352  ultra     1004  Новокузнецк  18.750000  1950.0         149.0   123.375000\n",
       "353  ultra     1013      Иваново  15.500000  1950.0          21.0   468.000000\n",
       "354  ultra     1016         Омск  13.500000  1950.0          71.0    61.000000\n",
       "..     ...      ...          ...        ...     ...           ...          ...\n",
       "493  ultra     1476       Москва  16.888889  1950.0           5.0   467.111111\n",
       "494  ultra     1485        Киров  23.000000  1950.0         155.0   584.000000\n",
       "495  ultra     1491    Челябинск  18.000000  1950.0          48.0   513.333333\n",
       "496  ultra     1493   Красноярск  27.000000  2850.0          47.0   372.000000\n",
       "497  ultra     1495      Иркутск  25.400000  2310.0          68.0   784.000000\n",
       "\n",
       "[147 rows x 7 columns]"
      ]
     },
     "execution_count": 27,
     "metadata": {},
     "output_type": "execute_result"
    }
   ],
   "source": [
    "for filter_col in filter_col_list:\n",
    "    tariff = 'ultra'\n",
    "    df_filtered_2 = df_grouped[(df_grouped['tariff'] == tariff)\n",
    "                              & (df_grouped[filter_col] <= globals()[tariff].loc[filter_col]['up_whisker'])\n",
    "                              & (df_grouped[filter_col] >= globals()[tariff].loc[filter_col]['down_whisker'])\n",
    "                             ]\n",
    "df_filtered_2"
   ]
  },
  {
   "cell_type": "code",
   "execution_count": 28,
   "metadata": {},
   "outputs": [
    {
     "data": {
      "text/html": [
       "<div>\n",
       "<style scoped>\n",
       "    .dataframe tbody tr th:only-of-type {\n",
       "        vertical-align: middle;\n",
       "    }\n",
       "\n",
       "    .dataframe tbody tr th {\n",
       "        vertical-align: top;\n",
       "    }\n",
       "\n",
       "    .dataframe thead th {\n",
       "        text-align: right;\n",
       "    }\n",
       "</style>\n",
       "<table border=\"1\" class=\"dataframe\">\n",
       "  <thead>\n",
       "    <tr style=\"text-align: right;\">\n",
       "      <th></th>\n",
       "      <th>tariff</th>\n",
       "      <th>user_id</th>\n",
       "      <th>city</th>\n",
       "      <th>gb_used</th>\n",
       "      <th>income</th>\n",
       "      <th>messages_qty</th>\n",
       "      <th>minutes_qty</th>\n",
       "    </tr>\n",
       "  </thead>\n",
       "  <tbody>\n",
       "    <tr>\n",
       "      <td>0</td>\n",
       "      <td>smart</td>\n",
       "      <td>1001</td>\n",
       "      <td>Москва</td>\n",
       "      <td>16.000000</td>\n",
       "      <td>850.000000</td>\n",
       "      <td>0.0</td>\n",
       "      <td>422.000000</td>\n",
       "    </tr>\n",
       "    <tr>\n",
       "      <td>1</td>\n",
       "      <td>smart</td>\n",
       "      <td>1002</td>\n",
       "      <td>Стерлитамак</td>\n",
       "      <td>16.714286</td>\n",
       "      <td>1035.714286</td>\n",
       "      <td>10.0</td>\n",
       "      <td>216.714286</td>\n",
       "    </tr>\n",
       "    <tr>\n",
       "      <td>2</td>\n",
       "      <td>smart</td>\n",
       "      <td>1005</td>\n",
       "      <td>Набережные Челны</td>\n",
       "      <td>8.583333</td>\n",
       "      <td>827.000000</td>\n",
       "      <td>46.0</td>\n",
       "      <td>550.416667</td>\n",
       "    </tr>\n",
       "    <tr>\n",
       "      <td>3</td>\n",
       "      <td>smart</td>\n",
       "      <td>1006</td>\n",
       "      <td>Ульяновск</td>\n",
       "      <td>15.090909</td>\n",
       "      <td>931.818182</td>\n",
       "      <td>0.0</td>\n",
       "      <td>318.272727</td>\n",
       "    </tr>\n",
       "    <tr>\n",
       "      <td>4</td>\n",
       "      <td>smart</td>\n",
       "      <td>1007</td>\n",
       "      <td>Москва</td>\n",
       "      <td>14.888889</td>\n",
       "      <td>913.444444</td>\n",
       "      <td>25.0</td>\n",
       "      <td>486.555556</td>\n",
       "    </tr>\n",
       "    <tr>\n",
       "      <td>...</td>\n",
       "      <td>...</td>\n",
       "      <td>...</td>\n",
       "      <td>...</td>\n",
       "      <td>...</td>\n",
       "      <td>...</td>\n",
       "      <td>...</td>\n",
       "      <td>...</td>\n",
       "    </tr>\n",
       "    <tr>\n",
       "      <td>493</td>\n",
       "      <td>ultra</td>\n",
       "      <td>1476</td>\n",
       "      <td>Москва</td>\n",
       "      <td>16.888889</td>\n",
       "      <td>1950.000000</td>\n",
       "      <td>5.0</td>\n",
       "      <td>467.111111</td>\n",
       "    </tr>\n",
       "    <tr>\n",
       "      <td>494</td>\n",
       "      <td>ultra</td>\n",
       "      <td>1485</td>\n",
       "      <td>Киров</td>\n",
       "      <td>23.000000</td>\n",
       "      <td>1950.000000</td>\n",
       "      <td>155.0</td>\n",
       "      <td>584.000000</td>\n",
       "    </tr>\n",
       "    <tr>\n",
       "      <td>495</td>\n",
       "      <td>ultra</td>\n",
       "      <td>1491</td>\n",
       "      <td>Челябинск</td>\n",
       "      <td>18.000000</td>\n",
       "      <td>1950.000000</td>\n",
       "      <td>48.0</td>\n",
       "      <td>513.333333</td>\n",
       "    </tr>\n",
       "    <tr>\n",
       "      <td>496</td>\n",
       "      <td>ultra</td>\n",
       "      <td>1493</td>\n",
       "      <td>Красноярск</td>\n",
       "      <td>27.000000</td>\n",
       "      <td>2850.000000</td>\n",
       "      <td>47.0</td>\n",
       "      <td>372.000000</td>\n",
       "    </tr>\n",
       "    <tr>\n",
       "      <td>497</td>\n",
       "      <td>ultra</td>\n",
       "      <td>1495</td>\n",
       "      <td>Иркутск</td>\n",
       "      <td>25.400000</td>\n",
       "      <td>2310.000000</td>\n",
       "      <td>68.0</td>\n",
       "      <td>784.000000</td>\n",
       "    </tr>\n",
       "  </tbody>\n",
       "</table>\n",
       "<p>493 rows × 7 columns</p>\n",
       "</div>"
      ],
      "text/plain": [
       "    tariff  user_id              city    gb_used       income  messages_qty  \\\n",
       "0    smart     1001            Москва  16.000000   850.000000           0.0   \n",
       "1    smart     1002       Стерлитамак  16.714286  1035.714286          10.0   \n",
       "2    smart     1005  Набережные Челны   8.583333   827.000000          46.0   \n",
       "3    smart     1006         Ульяновск  15.090909   931.818182           0.0   \n",
       "4    smart     1007            Москва  14.888889   913.444444          25.0   \n",
       "..     ...      ...               ...        ...          ...           ...   \n",
       "493  ultra     1476            Москва  16.888889  1950.000000           5.0   \n",
       "494  ultra     1485             Киров  23.000000  1950.000000         155.0   \n",
       "495  ultra     1491         Челябинск  18.000000  1950.000000          48.0   \n",
       "496  ultra     1493        Красноярск  27.000000  2850.000000          47.0   \n",
       "497  ultra     1495           Иркутск  25.400000  2310.000000          68.0   \n",
       "\n",
       "     minutes_qty  \n",
       "0     422.000000  \n",
       "1     216.714286  \n",
       "2     550.416667  \n",
       "3     318.272727  \n",
       "4     486.555556  \n",
       "..           ...  \n",
       "493   467.111111  \n",
       "494   584.000000  \n",
       "495   513.333333  \n",
       "496   372.000000  \n",
       "497   784.000000  \n",
       "\n",
       "[493 rows x 7 columns]"
      ]
     },
     "execution_count": 28,
     "metadata": {},
     "output_type": "execute_result"
    }
   ],
   "source": [
    "df_filtered = pd.concat([df_filtered_1, df_filtered_2])\n",
    "df_filtered"
   ]
  },
  {
   "cell_type": "markdown",
   "metadata": {},
   "source": [
    "В ходе фильтрации выбросов ушел 1% абонентов."
   ]
  },
  {
   "cell_type": "markdown",
   "metadata": {},
   "source": [
    "Построим гистограммы распределения для анализируемых данных в разрезе тарифных планов."
   ]
  },
  {
   "cell_type": "code",
   "execution_count": 29,
   "metadata": {},
   "outputs": [
    {
     "data": {
      "image/png": "[encoded data removed]",
      "text/plain": [
       "<Figure size 576x360 with 2 Axes>"
      ]
     },
     "metadata": {
      "needs_background": "light"
     },
     "output_type": "display_data"
    },
    {
     "data": {
      "image/png": "[encoded data removed]",
      "text/plain": [
       "<Figure size 576x360 with 2 Axes>"
      ]
     },
     "metadata": {
      "needs_background": "light"
     },
     "output_type": "display_data"
    },
    {
     "data": {
      "image/png": "[encoded data removed]",
      "text/plain": [
       "<Figure size 576x360 with 2 Axes>"
      ]
     },
     "metadata": {
      "needs_background": "light"
     },
     "output_type": "display_data"
    },
    {
     "data": {
      "image/png": "[encoded data removed]",
      "text/plain": [
       "<Figure size 576x360 with 2 Axes>"
      ]
     },
     "metadata": {
      "needs_background": "light"
     },
     "output_type": "display_data"
    }
   ],
   "source": [
    "plot_cols = ['minutes_qty', 'gb_used', 'messages_qty', 'income']\n",
    "\n",
    "for plot_col in plot_cols:\n",
    "    dataset = df_filtered\n",
    "    pad = 2\n",
    "    title_size = 10\n",
    "    fig, ax = plt.subplots(2,1, sharex=True, figsize = (8, 5))\n",
    "    ax[0].set_title('Тариф Smart', loc = 'right', pad = pad, size=title_size)\n",
    "    ax[1].set_title('Тариф Ultra', loc = 'right', pad = pad, size=title_size)\n",
    "    sns.distplot(dataset.loc[dataset['tariff'] == 'smart'][plot_col], ax=ax[0], color='#0B5394')\n",
    "    sns.distplot(dataset.loc[dataset['tariff'] == 'ultra'][plot_col], ax=ax[1], color='#38761d')\n",
    "    plt.suptitle('Гистограммы распределения для ' + plot_col, size=14)\n",
    "    \n",
    "plt.show()"
   ]
  },
  {
   "cell_type": "markdown",
   "metadata": {},
   "source": [
    "По гистограммам можно увидеть, что потребление минут и Гб распределено нормально, в то время как использование SMS и получаемая с абонентов выручка имеют асимметричное распределение - набор данных скошен вправо."
   ]
  },
  {
   "cell_type": "markdown",
   "metadata": {},
   "source": [
    "**Вывод**\n",
    "\n",
    "За 2018 г. абоненты тарифа ultra в представленной выборке принесли всего на 30% меньше выручки, чем абоненты тарифа smart, при этом количество абонентов ultra в 2 раза меньше, чем абонентов smart.\n",
    "Один абонент ultra приносит на 50% выручки больше, чем один абонент smart, при этом нагрузка на сеть от абонентов ultra только на 20-25% выше, чем от абонентов smart (530 мин и 420 мин соответственно, 19.6 Гб и 16.3 Гб соответственно)."
   ]
  },
  {
   "cell_type": "markdown",
   "metadata": {},
   "source": [
    "## Проверка гипотез"
   ]
  },
  {
   "cell_type": "markdown",
   "metadata": {},
   "source": [
    "**Гипотеза №1**\n",
    "\n",
    "Выдвинем гипотезу: средняя выручка абонентов тарифа Smart и Ultra различаются. Для этой гипотезу сформулируем нулевую гипотезу, которая будет звучать так - средняя выручка абонентов тарифа Smart равна средней выручке абонентов Ultra.\n",
    "Для проверки этой гипотезу воспользуемся мнетодом scipy.stats.ttest_ind (array1, array2, equal_var).\n",
    "\n",
    "Зададим пороговое значение на уровне 5%.\n",
    "\n",
    "Зададим параметр equal_ver = False, поскольку дисперсии совокупностей Smart и Ultra по выручке сильно различаются:\n",
    "smart = 367285, ultra = 89121."
   ]
  },
  {
   "cell_type": "code",
   "execution_count": 30,
   "metadata": {},
   "outputs": [
    {
     "name": "stdout",
     "output_type": "stream",
     "text": [
      "p-значение: 2.023017931059999e-59\n",
      "Отвергаем нулевую гипотезу\n"
     ]
    }
   ],
   "source": [
    "alpha = 0.05 # критический уровень статистической значимости\n",
    "\n",
    "results_tariffs = st.ttest_ind(df_filtered[df_filtered['tariff'] == 'smart']['income']\n",
    "                               , df_filtered[df_filtered['tariff'] == 'ultra']['income']\n",
    "                               , equal_var=False\n",
    "                              )\n",
    "\n",
    "print('p-значение:', results_tariffs.pvalue)\n",
    "\n",
    "if results_tariffs.pvalue < alpha:\n",
    "    print('Отвергаем нулевую гипотезу')\n",
    "else:\n",
    "    print('Не получилось отвергнуть нулевую гипотезу') "
   ]
  },
  {
   "cell_type": "markdown",
   "metadata": {},
   "source": [
    "Получили очень низкое значение p-value, т.е. полученный результат не соответствует гипотезе, значит средняя выручка абонентов Smart и Ultra не равны. "
   ]
  },
  {
   "cell_type": "markdown",
   "metadata": {},
   "source": [
    "**Гипотеза №2**\n",
    "\n",
    "Выдвинем еще одну гипотезу: средняя выручка абонентов из Москвы отличается от выручки абонентов из других регионов. Для этой гипотезу сформулируем нулевую гипотезу, которая будет звучать так - средняя выручка абонентов из Москвы равна выручке абонентов из других регионов.\n",
    "Для проверки этой гипотезу воспользуемся мнетодом scipy.stats.ttest_ind (array1, array2, equal_var).\n",
    "\n",
    "Зададим пороговое значение на уровне 5%.\n",
    "\n",
    "Рассчитаем дисперсию выручки для абонентов Москвы и абонентов других регионов, чтобы задать параметр equal_ver."
   ]
  },
  {
   "cell_type": "code",
   "execution_count": 31,
   "metadata": {},
   "outputs": [
    {
     "data": {
      "text/plain": [
       "1498.465851152215"
      ]
     },
     "execution_count": 31,
     "metadata": {},
     "output_type": "execute_result"
    }
   ],
   "source": [
    "df_grouped[df_grouped['city'] == 'Москва']['income'].mean() #средняя выручка абонентов Москвы"
   ]
  },
  {
   "cell_type": "code",
   "execution_count": 32,
   "metadata": {},
   "outputs": [
    {
     "data": {
      "text/plain": [
       "1563.8822229636141"
      ]
     },
     "execution_count": 32,
     "metadata": {},
     "output_type": "execute_result"
    }
   ],
   "source": [
    "df_grouped[df_grouped['city'] != 'Москва']['income'].mean() #средняя выручка абонентов других регионов"
   ]
  },
  {
   "cell_type": "code",
   "execution_count": 33,
   "metadata": {},
   "outputs": [
    {
     "data": {
      "text/plain": [
       "367815.3267880204"
      ]
     },
     "execution_count": 33,
     "metadata": {},
     "output_type": "execute_result"
    }
   ],
   "source": [
    "np.var(df_grouped[df_grouped['city'] == 'Москва']['income'], ddof=1) #Москва"
   ]
  },
  {
   "cell_type": "code",
   "execution_count": 34,
   "metadata": {},
   "outputs": [
    {
     "data": {
      "text/plain": [
       "415337.8863947998"
      ]
     },
     "execution_count": 34,
     "metadata": {},
     "output_type": "execute_result"
    }
   ],
   "source": [
    "np.var(df_grouped[df_grouped['city'] != 'Москва']['income'], ddof=1) #другие регионы"
   ]
  },
  {
   "cell_type": "markdown",
   "metadata": {},
   "source": [
    "Можно сказать, что дисперсии совокупностей примерно равны, поэтому для проверки гипотезы установим параметр equal_ver = True."
   ]
  },
  {
   "cell_type": "code",
   "execution_count": 35,
   "metadata": {},
   "outputs": [
    {
     "name": "stdout",
     "output_type": "stream",
     "text": [
      "p-значение: 0.3723009963149564\n",
      "Не получилось отвергнуть нулевую гипотезу\n"
     ]
    }
   ],
   "source": [
    "alpha = 0.05 # критический уровень статистической значимости\n",
    "\n",
    "results_cities = st.ttest_ind(df_filtered[df_filtered['city'] == 'Москва']['income']\n",
    "                              , df_filtered[df_filtered['city'] != 'Москва']['income']\n",
    "                              , equal_var=True\n",
    "                             )\n",
    "\n",
    "print('p-значение:', results_cities.pvalue)\n",
    "\n",
    "if results_cities.pvalue < alpha:\n",
    "    print('Отвергаем нулевую гипотезу')\n",
    "else:\n",
    "    print('Не получилось отвергнуть нулевую гипотезу')"
   ]
  },
  {
   "cell_type": "markdown",
   "metadata": {},
   "source": [
    "Получили высокое значение p-value, т.е. полученный результат соответствует гипотезе, и значит средняя выручка абонентов из Москвы и других регионов примерно равны. "
   ]
  },
  {
   "cell_type": "markdown",
   "metadata": {},
   "source": [
    "**Вывод**\n",
    "\n",
    "Гипотеза №1 о равенстве средней выручки с абонентов smart и ultra не подтвердилась.\n",
    "\n",
    "Гипотеза №2 о равенстве средней выручки с абонентов Москвы и других регионов подтвердилась."
   ]
  },
  {
   "cell_type": "markdown",
   "metadata": {},
   "source": [
    "## Общий вывод"
   ]
  },
  {
   "cell_type": "markdown",
   "metadata": {},
   "source": [
    "С точки зрения мобильного оператора тариф ultra является более выгодным: потребление трафика у абонентов ultra в среднем только на 20-25% выше, чем у абонентов smart, но при этом выручки они приносят на 50% больше, чем абоненты smart. \n",
    "\n",
    "Абоненты тарифа smart представляют для компании интерес тем, что регулярно выходят в сверхлимитное потребление трафика, и в результате вынуждены оплачивать его по очень высоким тарифам, в результате средняя выручка с абонентов smart только на 50% ниже выручки с абонентов ultra, при том что разница в абонентской плате в 3.5 раза. Это подтверждается также тем фактом, что максимальная достигнутая месячная выручка с абонентов тарифа smart превышает максимум с абонентов ultra - как раз за счет сверхлимитов.\n",
    "\n",
    "Разница в среднемесячной выручке с абонентов smart и ultra не случайна, что подтверждается результатом проверки гипотезы о равенстве этих значений.\n",
    "\n",
    "При этом нет особой разницы, в каком городе находится абонент: проверка гипотезы о равенстве среднемесячной выручки с абонентов Москвы и других регионов дала результат, позволяющий сделать такой вывод."
   ]
  },
  {
   "cell_type": "code",
   "execution_count": null,
   "metadata": {},
   "outputs": [],
   "source": []
  }
 ],
 "metadata": {
  "ExecuteTimeLog": [
   {
    "duration": 416,
    "start_time": "2021-10-25T09:23:15.748Z"
   },
   {
    "duration": 1119,
    "start_time": "2021-10-25T09:23:24.543Z"
   },
   {
    "duration": 582,
    "start_time": "2021-10-25T09:23:26.792Z"
   },
   {
    "duration": 424,
    "start_time": "2021-10-25T09:39:48.115Z"
   },
   {
    "duration": 4,
    "start_time": "2021-10-25T09:39:54.683Z"
   },
   {
    "duration": 419,
    "start_time": "2021-10-25T09:39:55.861Z"
   },
   {
    "duration": 389,
    "start_time": "2021-10-25T09:41:06.054Z"
   },
   {
    "duration": 12889,
    "start_time": "2021-10-25T09:41:23.503Z"
   },
   {
    "duration": 205324,
    "start_time": "2021-10-25T09:41:43.922Z"
   },
   {
    "duration": 12119,
    "start_time": "2021-10-25T09:45:22.851Z"
   },
   {
    "duration": 9884,
    "start_time": "2021-10-25T09:47:13.808Z"
   },
   {
    "duration": 11239,
    "start_time": "2021-10-25T09:47:51.663Z"
   },
   {
    "duration": 18,
    "start_time": "2021-10-25T09:49:35.525Z"
   },
   {
    "duration": 5817,
    "start_time": "2021-10-25T09:50:04.328Z"
   },
   {
    "duration": 29,
    "start_time": "2021-10-25T09:50:11.838Z"
   },
   {
    "duration": 509,
    "start_time": "2021-10-25T09:50:16.423Z"
   },
   {
    "duration": 29,
    "start_time": "2021-10-25T09:50:23.437Z"
   },
   {
    "duration": 30,
    "start_time": "2021-10-25T09:50:23.470Z"
   },
   {
    "duration": 54,
    "start_time": "2021-10-25T09:50:23.505Z"
   },
   {
    "duration": 370,
    "start_time": "2021-10-25T09:50:23.563Z"
   },
   {
    "duration": -344,
    "start_time": "2021-10-25T09:50:24.280Z"
   },
   {
    "duration": 10,
    "start_time": "2021-10-25T09:50:47.685Z"
   },
   {
    "duration": 10,
    "start_time": "2021-10-25T09:50:51.077Z"
   },
   {
    "duration": 11973,
    "start_time": "2021-10-25T09:51:12.929Z"
   },
   {
    "duration": 2332,
    "start_time": "2021-10-25T09:56:03.817Z"
   },
   {
    "duration": 5739,
    "start_time": "2021-10-25T09:56:22.178Z"
   },
   {
    "duration": 5983,
    "start_time": "2021-10-25T09:56:36.259Z"
   },
   {
    "duration": 6352,
    "start_time": "2021-10-25T09:57:17.930Z"
   },
   {
    "duration": 617,
    "start_time": "2021-10-25T09:58:56.284Z"
   },
   {
    "duration": 622,
    "start_time": "2021-10-25T10:00:13.250Z"
   },
   {
    "duration": 645,
    "start_time": "2021-10-25T10:00:58.196Z"
   },
   {
    "duration": 179,
    "start_time": "2021-10-25T10:01:06.778Z"
   },
   {
    "duration": 643,
    "start_time": "2021-10-25T10:01:31.899Z"
   },
   {
    "duration": 662,
    "start_time": "2021-10-25T10:01:53.585Z"
   },
   {
    "duration": 616,
    "start_time": "2021-10-25T10:02:06.170Z"
   },
   {
    "duration": 920,
    "start_time": "2021-10-25T10:02:32.593Z"
   },
   {
    "duration": 164,
    "start_time": "2021-10-25T10:04:47.068Z"
   },
   {
    "duration": 2143,
    "start_time": "2021-10-25T10:09:51.338Z"
   },
   {
    "duration": 353,
    "start_time": "2021-10-25T10:19:11.523Z"
   },
   {
    "duration": 402,
    "start_time": "2021-10-25T10:19:44.120Z"
   },
   {
    "duration": 102,
    "start_time": "2021-10-25T10:20:00.288Z"
   },
   {
    "duration": 99,
    "start_time": "2021-10-25T10:20:13.912Z"
   },
   {
    "duration": 80,
    "start_time": "2021-10-25T10:21:14.350Z"
   },
   {
    "duration": 96,
    "start_time": "2021-10-25T10:22:44.100Z"
   },
   {
    "duration": 39,
    "start_time": "2021-10-25T10:23:21.244Z"
   },
   {
    "duration": 26,
    "start_time": "2021-10-25T10:23:28.406Z"
   },
   {
    "duration": 70,
    "start_time": "2021-10-25T10:23:54.077Z"
   },
   {
    "duration": 69,
    "start_time": "2021-10-25T10:24:08.513Z"
   },
   {
    "duration": 161,
    "start_time": "2021-10-25T10:24:28.284Z"
   },
   {
    "duration": 66,
    "start_time": "2021-10-25T10:24:41.062Z"
   },
   {
    "duration": 69,
    "start_time": "2021-10-25T10:24:49.213Z"
   },
   {
    "duration": 57,
    "start_time": "2021-10-25T10:25:10.457Z"
   },
   {
    "duration": 55,
    "start_time": "2021-10-25T10:26:12.505Z"
   },
   {
    "duration": 42,
    "start_time": "2021-10-25T10:26:20.459Z"
   },
   {
    "duration": 49,
    "start_time": "2021-10-25T10:26:32.668Z"
   },
   {
    "duration": 4,
    "start_time": "2021-10-25T10:26:57.380Z"
   },
   {
    "duration": 729,
    "start_time": "2021-10-25T10:26:57.387Z"
   },
   {
    "duration": 48,
    "start_time": "2021-10-25T10:26:58.119Z"
   },
   {
    "duration": 23,
    "start_time": "2021-10-25T10:26:58.170Z"
   },
   {
    "duration": 349,
    "start_time": "2021-10-25T10:27:46.070Z"
   },
   {
    "duration": 353,
    "start_time": "2021-10-25T10:29:35.323Z"
   },
   {
    "duration": 177,
    "start_time": "2021-10-25T10:30:28.383Z"
   },
   {
    "duration": 467,
    "start_time": "2021-10-25T10:30:32.712Z"
   },
   {
    "duration": 355,
    "start_time": "2021-10-25T10:31:50.745Z"
   },
   {
    "duration": 7,
    "start_time": "2021-10-25T10:32:09.906Z"
   },
   {
    "duration": 356,
    "start_time": "2021-10-25T10:32:13.741Z"
   },
   {
    "duration": 7,
    "start_time": "2021-10-25T10:33:10.416Z"
   },
   {
    "duration": 64,
    "start_time": "2021-10-25T10:42:59.003Z"
   },
   {
    "duration": 52,
    "start_time": "2021-10-25T10:44:17.478Z"
   },
   {
    "duration": 362,
    "start_time": "2021-10-25T10:45:50.828Z"
   },
   {
    "duration": 926,
    "start_time": "2021-10-25T10:46:05.039Z"
   },
   {
    "duration": 721,
    "start_time": "2021-10-25T10:46:05.968Z"
   },
   {
    "duration": 448,
    "start_time": "2021-10-25T10:46:06.693Z"
   },
   {
    "duration": -269,
    "start_time": "2021-10-25T10:46:07.412Z"
   },
   {
    "duration": 4,
    "start_time": "2021-10-25T10:46:39.120Z"
   },
   {
    "duration": 4507,
    "start_time": "2021-10-25T10:46:41.484Z"
   },
   {
    "duration": 347,
    "start_time": "2021-10-25T10:46:48.716Z"
   },
   {
    "duration": 368,
    "start_time": "2021-10-25T10:51:09.145Z"
   },
   {
    "duration": 1016,
    "start_time": "2021-10-25T10:51:26.966Z"
   },
   {
    "duration": 793,
    "start_time": "2021-10-25T10:51:27.985Z"
   },
   {
    "duration": 481,
    "start_time": "2021-10-25T10:51:28.781Z"
   },
   {
    "duration": -290,
    "start_time": "2021-10-25T10:51:29.555Z"
   },
   {
    "duration": 344,
    "start_time": "2021-10-25T10:58:52.800Z"
   },
   {
    "duration": 369,
    "start_time": "2021-10-25T10:59:20.663Z"
   },
   {
    "duration": 866,
    "start_time": "2021-10-25T11:00:22.270Z"
   },
   {
    "duration": 755,
    "start_time": "2021-10-25T11:00:23.139Z"
   },
   {
    "duration": 468,
    "start_time": "2021-10-25T11:00:23.897Z"
   },
   {
    "duration": -277,
    "start_time": "2021-10-25T11:00:24.644Z"
   },
   {
    "duration": 952,
    "start_time": "2021-10-25T11:00:36.355Z"
   },
   {
    "duration": 960,
    "start_time": "2021-10-25T11:00:37.310Z"
   },
   {
    "duration": 570,
    "start_time": "2021-10-25T11:00:38.274Z"
   },
   {
    "duration": -270,
    "start_time": "2021-10-25T11:00:39.119Z"
   },
   {
    "duration": 703,
    "start_time": "2021-10-25T11:01:34.608Z"
   },
   {
    "duration": 9767,
    "start_time": "2021-10-25T11:03:17.244Z"
   },
   {
    "duration": 529,
    "start_time": "2021-10-25T11:03:27.013Z"
   },
   {
    "duration": 9608,
    "start_time": "2021-10-25T11:03:38.322Z"
   },
   {
    "duration": 436,
    "start_time": "2021-10-25T11:03:47.932Z"
   },
   {
    "duration": 7,
    "start_time": "2021-10-25T11:04:07.699Z"
   },
   {
    "duration": 5,
    "start_time": "2021-10-25T11:04:16.040Z"
   },
   {
    "duration": 6,
    "start_time": "2021-10-25T11:04:16.858Z"
   },
   {
    "duration": 9037,
    "start_time": "2021-10-25T11:04:32.597Z"
   },
   {
    "duration": 568,
    "start_time": "2021-10-25T11:04:41.822Z"
   },
   {
    "duration": 4729,
    "start_time": "2021-10-25T11:05:04.771Z"
   },
   {
    "duration": 355,
    "start_time": "2021-10-25T11:05:48.790Z"
   },
   {
    "duration": 352,
    "start_time": "2021-10-25T11:08:02.394Z"
   },
   {
    "duration": 672,
    "start_time": "2021-10-25T11:09:25.928Z"
   },
   {
    "duration": 14,
    "start_time": "2021-10-25T11:10:31.440Z"
   },
   {
    "duration": 681,
    "start_time": "2021-10-25T11:11:17.276Z"
   },
   {
    "duration": 12,
    "start_time": "2021-10-25T11:11:27.035Z"
   },
   {
    "duration": 119,
    "start_time": "2021-10-25T11:13:45.417Z"
   },
   {
    "duration": 138,
    "start_time": "2021-10-25T11:13:57.326Z"
   },
   {
    "duration": 664,
    "start_time": "2021-10-25T11:14:12.282Z"
   },
   {
    "duration": 390,
    "start_time": "2021-10-25T11:14:25.009Z"
   },
   {
    "duration": 913,
    "start_time": "2021-10-25T11:16:38.297Z"
   },
   {
    "duration": 688,
    "start_time": "2021-10-25T11:17:55.594Z"
   },
   {
    "duration": 366,
    "start_time": "2021-10-25T11:18:01.147Z"
   },
   {
    "duration": 541,
    "start_time": "2021-10-25T11:51:44.062Z"
   },
   {
    "duration": 573,
    "start_time": "2021-10-25T12:00:27.046Z"
   },
   {
    "duration": 350,
    "start_time": "2021-10-25T12:00:32.888Z"
   },
   {
    "duration": 361,
    "start_time": "2021-10-25T12:07:25.189Z"
   },
   {
    "duration": 362,
    "start_time": "2021-10-25T12:07:58.736Z"
   },
   {
    "duration": 826,
    "start_time": "2021-10-25T12:10:41.653Z"
   },
   {
    "duration": 711,
    "start_time": "2021-10-25T12:14:09.308Z"
   },
   {
    "duration": 533,
    "start_time": "2021-10-25T12:14:21.094Z"
   },
   {
    "duration": 557,
    "start_time": "2021-10-25T12:14:32.768Z"
   },
   {
    "duration": 563,
    "start_time": "2021-10-25T12:15:06.588Z"
   },
   {
    "duration": 376,
    "start_time": "2021-10-25T14:33:54.214Z"
   },
   {
    "duration": 910,
    "start_time": "2021-10-25T14:41:10.098Z"
   },
   {
    "duration": 652,
    "start_time": "2021-10-25T14:41:11.011Z"
   },
   {
    "duration": -71,
    "start_time": "2021-10-25T14:41:11.737Z"
   },
   {
    "duration": -77,
    "start_time": "2021-10-25T14:41:11.745Z"
   },
   {
    "duration": 530,
    "start_time": "2021-10-25T14:41:38.887Z"
   },
   {
    "duration": 24,
    "start_time": "2021-10-25T14:41:41.404Z"
   },
   {
    "duration": 707,
    "start_time": "2021-10-25T14:42:50.604Z"
   },
   {
    "duration": 23,
    "start_time": "2021-10-25T14:43:00.645Z"
   },
   {
    "duration": 312,
    "start_time": "2021-10-25T15:17:00.055Z"
   },
   {
    "duration": 153,
    "start_time": "2021-10-25T15:25:19.181Z"
   },
   {
    "duration": 307,
    "start_time": "2021-10-25T15:25:27.654Z"
   },
   {
    "duration": 342,
    "start_time": "2021-10-25T15:25:59.659Z"
   },
   {
    "duration": 38,
    "start_time": "2021-10-25T15:27:15.436Z"
   },
   {
    "duration": 1170,
    "start_time": "2021-10-25T15:27:37.529Z"
   },
   {
    "duration": 903,
    "start_time": "2021-10-25T15:27:54.997Z"
   },
   {
    "duration": 724,
    "start_time": "2021-10-25T15:27:55.903Z"
   },
   {
    "duration": 1344,
    "start_time": "2021-10-25T15:27:56.631Z"
   },
   {
    "duration": 44,
    "start_time": "2021-10-25T15:29:11.643Z"
   },
   {
    "duration": 19,
    "start_time": "2021-10-25T15:29:13.489Z"
   },
   {
    "duration": 20,
    "start_time": "2021-10-25T15:29:35.906Z"
   },
   {
    "duration": 96,
    "start_time": "2021-10-25T15:39:49.118Z"
   },
   {
    "duration": 4,
    "start_time": "2021-10-25T15:39:58.797Z"
   },
   {
    "duration": 417,
    "start_time": "2021-10-25T15:40:01.862Z"
   },
   {
    "duration": 10,
    "start_time": "2021-10-25T15:41:34.899Z"
   },
   {
    "duration": 29,
    "start_time": "2021-10-25T15:41:48.038Z"
   },
   {
    "duration": 274,
    "start_time": "2021-10-25T15:42:31.540Z"
   },
   {
    "duration": 410,
    "start_time": "2021-10-25T15:43:18.241Z"
   },
   {
    "duration": 96,
    "start_time": "2021-10-25T15:43:54.279Z"
   },
   {
    "duration": 5,
    "start_time": "2021-10-25T15:44:04.717Z"
   },
   {
    "duration": 11,
    "start_time": "2021-10-25T15:44:56.063Z"
   },
   {
    "duration": 845,
    "start_time": "2021-10-25T15:46:08.971Z"
   },
   {
    "duration": 727,
    "start_time": "2021-10-25T15:46:09.827Z"
   },
   {
    "duration": 48,
    "start_time": "2021-10-25T15:46:10.557Z"
   },
   {
    "duration": 16,
    "start_time": "2021-10-25T15:46:10.608Z"
   },
   {
    "duration": 413,
    "start_time": "2021-10-25T15:46:10.627Z"
   },
   {
    "duration": -513,
    "start_time": "2021-10-25T15:46:11.557Z"
   },
   {
    "duration": -516,
    "start_time": "2021-10-25T15:46:11.562Z"
   },
   {
    "duration": 573,
    "start_time": "2021-10-25T15:46:30.494Z"
   },
   {
    "duration": 558,
    "start_time": "2021-10-25T15:46:49.428Z"
   },
   {
    "duration": 848,
    "start_time": "2021-10-25T15:47:18.225Z"
   },
   {
    "duration": 602,
    "start_time": "2021-10-25T15:48:23.334Z"
   },
   {
    "duration": 13,
    "start_time": "2021-10-25T15:48:39.720Z"
   },
   {
    "duration": 20,
    "start_time": "2021-10-25T15:48:41.104Z"
   },
   {
    "duration": 74,
    "start_time": "2021-10-25T15:55:00.582Z"
   },
   {
    "duration": 23,
    "start_time": "2021-10-25T15:55:04.517Z"
   },
   {
    "duration": 113,
    "start_time": "2021-10-25T15:56:23.823Z"
   },
   {
    "duration": 8,
    "start_time": "2021-10-25T15:57:56.763Z"
   },
   {
    "duration": 25,
    "start_time": "2021-10-25T15:58:12.747Z"
   },
   {
    "duration": 27,
    "start_time": "2021-10-25T15:59:01.800Z"
   },
   {
    "duration": 7,
    "start_time": "2021-10-25T16:03:20.815Z"
   },
   {
    "duration": 6,
    "start_time": "2021-10-25T16:03:33.119Z"
   },
   {
    "duration": 6,
    "start_time": "2021-10-25T16:03:37.615Z"
   },
   {
    "duration": -499,
    "start_time": "2021-10-25T16:04:05.422Z"
   },
   {
    "duration": 6,
    "start_time": "2021-10-25T16:04:06.286Z"
   },
   {
    "duration": 7,
    "start_time": "2021-10-25T16:04:23.759Z"
   },
   {
    "duration": 6,
    "start_time": "2021-10-25T16:12:27.715Z"
   },
   {
    "duration": 7,
    "start_time": "2021-10-25T16:12:33.178Z"
   },
   {
    "duration": 6,
    "start_time": "2021-10-25T16:12:55.629Z"
   },
   {
    "duration": 6,
    "start_time": "2021-10-25T16:13:00.335Z"
   },
   {
    "duration": 159,
    "start_time": "2021-10-25T17:09:46.831Z"
   },
   {
    "duration": 135,
    "start_time": "2021-10-25T17:18:50.671Z"
   },
   {
    "duration": 97,
    "start_time": "2021-10-25T17:18:58.610Z"
   },
   {
    "duration": 131,
    "start_time": "2021-10-25T17:19:18.410Z"
   },
   {
    "duration": 131,
    "start_time": "2021-10-25T17:20:58.322Z"
   },
   {
    "duration": 132,
    "start_time": "2021-10-25T17:21:54.449Z"
   },
   {
    "duration": 8,
    "start_time": "2021-10-25T17:21:58.199Z"
   },
   {
    "duration": 7,
    "start_time": "2021-10-25T17:22:31.854Z"
   },
   {
    "duration": 128,
    "start_time": "2021-10-25T17:23:06.971Z"
   },
   {
    "duration": 134,
    "start_time": "2021-10-25T17:23:13.050Z"
   },
   {
    "duration": 156,
    "start_time": "2021-10-25T17:24:24.262Z"
   },
   {
    "duration": 1032,
    "start_time": "2021-10-25T17:31:28.396Z"
   },
   {
    "duration": 5,
    "start_time": "2021-10-25T17:32:26.006Z"
   },
   {
    "duration": 10,
    "start_time": "2021-10-25T17:32:41.752Z"
   },
   {
    "duration": 4,
    "start_time": "2021-10-25T17:33:02.674Z"
   },
   {
    "duration": 11,
    "start_time": "2021-10-25T17:33:04.052Z"
   },
   {
    "duration": 99,
    "start_time": "2021-10-25T17:34:18.845Z"
   },
   {
    "duration": 511,
    "start_time": "2021-10-25T17:35:34.801Z"
   },
   {
    "duration": 166,
    "start_time": "2021-10-25T17:36:07.655Z"
   },
   {
    "duration": 95,
    "start_time": "2021-10-25T17:39:27.073Z"
   },
   {
    "duration": 278,
    "start_time": "2021-10-25T17:41:09.375Z"
   },
   {
    "duration": 280,
    "start_time": "2021-10-25T17:41:53.195Z"
   },
   {
    "duration": 129,
    "start_time": "2021-10-25T17:44:57.209Z"
   },
   {
    "duration": 169,
    "start_time": "2021-10-25T17:45:45.752Z"
   },
   {
    "duration": 98,
    "start_time": "2021-10-25T17:48:24.112Z"
   },
   {
    "duration": 100,
    "start_time": "2021-10-25T17:49:14.510Z"
   },
   {
    "duration": 98,
    "start_time": "2021-10-25T17:49:26.353Z"
   },
   {
    "duration": 165,
    "start_time": "2021-10-25T17:49:39.329Z"
   },
   {
    "duration": 823,
    "start_time": "2021-10-25T17:50:04.579Z"
   },
   {
    "duration": 681,
    "start_time": "2021-10-25T17:50:05.405Z"
   },
   {
    "duration": 3,
    "start_time": "2021-10-25T17:50:06.090Z"
   },
   {
    "duration": 167,
    "start_time": "2021-10-25T17:50:06.096Z"
   },
   {
    "duration": 205,
    "start_time": "2021-10-25T17:50:06.266Z"
   },
   {
    "duration": 111,
    "start_time": "2021-10-25T17:50:06.474Z"
   },
   {
    "duration": 139,
    "start_time": "2021-10-25T17:50:06.588Z"
   },
   {
    "duration": 170,
    "start_time": "2021-10-25T18:00:34.935Z"
   },
   {
    "duration": 211,
    "start_time": "2021-10-25T18:01:06.248Z"
   },
   {
    "duration": 205,
    "start_time": "2021-10-25T18:01:41.831Z"
   },
   {
    "duration": 174,
    "start_time": "2021-10-25T18:02:29.124Z"
   },
   {
    "duration": 173,
    "start_time": "2021-10-25T18:03:10.746Z"
   },
   {
    "duration": 176,
    "start_time": "2021-10-25T18:03:57.376Z"
   },
   {
    "duration": 98,
    "start_time": "2021-10-25T18:36:34.850Z"
   },
   {
    "duration": 106,
    "start_time": "2021-10-25T18:36:44.360Z"
   },
   {
    "duration": 101,
    "start_time": "2021-10-25T18:37:06.192Z"
   },
   {
    "duration": 161,
    "start_time": "2021-10-25T18:37:16.007Z"
   },
   {
    "duration": 687,
    "start_time": "2021-10-25T18:50:39.311Z"
   },
   {
    "duration": 693,
    "start_time": "2021-10-25T18:51:04.272Z"
   },
   {
    "duration": 1076,
    "start_time": "2021-10-25T18:51:19.100Z"
   },
   {
    "duration": 75,
    "start_time": "2021-10-25T18:51:39.195Z"
   },
   {
    "duration": 35,
    "start_time": "2021-10-25T18:51:41.723Z"
   },
   {
    "duration": 41,
    "start_time": "2021-10-25T18:51:52.948Z"
   },
   {
    "duration": 393,
    "start_time": "2021-10-25T18:52:30.045Z"
   },
   {
    "duration": 5,
    "start_time": "2021-10-26T05:57:41.497Z"
   },
   {
    "duration": 801,
    "start_time": "2021-10-26T05:57:48.382Z"
   },
   {
    "duration": 647,
    "start_time": "2021-10-26T05:57:50.798Z"
   },
   {
    "duration": 5,
    "start_time": "2021-10-26T05:57:55.267Z"
   },
   {
    "duration": 165,
    "start_time": "2021-10-26T05:58:25.319Z"
   },
   {
    "duration": 171,
    "start_time": "2021-10-26T06:00:07.607Z"
   },
   {
    "duration": 110,
    "start_time": "2021-10-26T06:00:30.633Z"
   },
   {
    "duration": 126,
    "start_time": "2021-10-26T06:00:52.220Z"
   },
   {
    "duration": 41,
    "start_time": "2021-10-26T06:01:38.321Z"
   },
   {
    "duration": 86,
    "start_time": "2021-10-26T06:13:36.345Z"
   },
   {
    "duration": 436,
    "start_time": "2021-10-26T06:14:15.942Z"
   },
   {
    "duration": 203,
    "start_time": "2021-10-26T06:14:37.411Z"
   },
   {
    "duration": 123,
    "start_time": "2021-10-26T06:15:23.546Z"
   },
   {
    "duration": 128,
    "start_time": "2021-10-26T06:15:59.283Z"
   },
   {
    "duration": 127,
    "start_time": "2021-10-26T06:16:15.513Z"
   },
   {
    "duration": 127,
    "start_time": "2021-10-26T06:16:51.206Z"
   },
   {
    "duration": 131,
    "start_time": "2021-10-26T06:17:14.513Z"
   },
   {
    "duration": 131,
    "start_time": "2021-10-26T06:17:25.019Z"
   },
   {
    "duration": 248,
    "start_time": "2021-10-26T06:18:40.001Z"
   },
   {
    "duration": 43,
    "start_time": "2021-10-26T06:19:08.949Z"
   },
   {
    "duration": 185,
    "start_time": "2021-10-26T06:19:21.610Z"
   },
   {
    "duration": 44,
    "start_time": "2021-10-26T06:19:33.152Z"
   },
   {
    "duration": 125,
    "start_time": "2021-10-26T06:19:41.697Z"
   },
   {
    "duration": 41,
    "start_time": "2021-10-26T06:34:55.450Z"
   },
   {
    "duration": 187,
    "start_time": "2021-10-26T06:37:59.134Z"
   },
   {
    "duration": 7,
    "start_time": "2021-10-26T06:38:06.087Z"
   },
   {
    "duration": 7,
    "start_time": "2021-10-26T06:38:15.800Z"
   },
   {
    "duration": 192,
    "start_time": "2021-10-26T06:43:26.633Z"
   },
   {
    "duration": 813,
    "start_time": "2021-10-26T06:43:39.548Z"
   },
   {
    "duration": 650,
    "start_time": "2021-10-26T06:43:40.364Z"
   },
   {
    "duration": 4,
    "start_time": "2021-10-26T06:43:41.017Z"
   },
   {
    "duration": 179,
    "start_time": "2021-10-26T06:43:41.024Z"
   },
   {
    "duration": 180,
    "start_time": "2021-10-26T06:43:41.229Z"
   },
   {
    "duration": 98,
    "start_time": "2021-10-26T06:43:41.412Z"
   },
   {
    "duration": 143,
    "start_time": "2021-10-26T06:43:41.513Z"
   },
   {
    "duration": 43,
    "start_time": "2021-10-26T06:43:41.659Z"
   },
   {
    "duration": 332,
    "start_time": "2021-10-26T06:43:41.705Z"
   },
   {
    "duration": 338,
    "start_time": "2021-10-26T06:45:06.842Z"
   },
   {
    "duration": 381,
    "start_time": "2021-10-26T06:46:09.290Z"
   },
   {
    "duration": 18,
    "start_time": "2021-10-26T06:48:37.640Z"
   },
   {
    "duration": 954,
    "start_time": "2021-10-26T06:49:14.335Z"
   },
   {
    "duration": 296,
    "start_time": "2021-10-26T06:49:27.148Z"
   },
   {
    "duration": 125,
    "start_time": "2021-10-26T06:49:31.981Z"
   },
   {
    "duration": 1215,
    "start_time": "2021-10-26T06:49:48.132Z"
   },
   {
    "duration": 1011,
    "start_time": "2021-10-26T06:49:49.351Z"
   },
   {
    "duration": 6,
    "start_time": "2021-10-26T06:49:50.366Z"
   },
   {
    "duration": 191,
    "start_time": "2021-10-26T06:49:50.375Z"
   },
   {
    "duration": 1074,
    "start_time": "2021-10-26T06:49:50.568Z"
   },
   {
    "duration": -658,
    "start_time": "2021-10-26T06:49:52.302Z"
   },
   {
    "duration": -661,
    "start_time": "2021-10-26T06:49:52.307Z"
   },
   {
    "duration": -665,
    "start_time": "2021-10-26T06:49:52.312Z"
   },
   {
    "duration": -666,
    "start_time": "2021-10-26T06:49:52.315Z"
   },
   {
    "duration": 172,
    "start_time": "2021-10-26T06:51:09.785Z"
   },
   {
    "duration": 390,
    "start_time": "2021-10-26T06:51:48.958Z"
   },
   {
    "duration": 179,
    "start_time": "2021-10-26T06:52:01.015Z"
   },
   {
    "duration": 343,
    "start_time": "2021-10-26T06:55:31.244Z"
   },
   {
    "duration": 425,
    "start_time": "2021-10-26T06:56:10.057Z"
   },
   {
    "duration": 172,
    "start_time": "2021-10-26T06:57:35.452Z"
   },
   {
    "duration": 171,
    "start_time": "2021-10-26T06:58:18.871Z"
   },
   {
    "duration": 968,
    "start_time": "2021-10-26T06:59:19.465Z"
   },
   {
    "duration": 170,
    "start_time": "2021-10-26T06:59:42.910Z"
   },
   {
    "duration": 175,
    "start_time": "2021-10-26T07:04:03.617Z"
   },
   {
    "duration": 170,
    "start_time": "2021-10-26T07:04:26.156Z"
   },
   {
    "duration": 172,
    "start_time": "2021-10-26T07:04:52.623Z"
   },
   {
    "duration": 172,
    "start_time": "2021-10-26T07:05:15.027Z"
   },
   {
    "duration": 169,
    "start_time": "2021-10-26T07:05:56.079Z"
   },
   {
    "duration": 285,
    "start_time": "2021-10-26T07:06:44.901Z"
   },
   {
    "duration": 105,
    "start_time": "2021-10-26T07:07:03.041Z"
   },
   {
    "duration": 122,
    "start_time": "2021-10-26T07:07:24.619Z"
   },
   {
    "duration": 34,
    "start_time": "2021-10-26T07:07:38.680Z"
   },
   {
    "duration": 530,
    "start_time": "2021-10-26T07:09:01.485Z"
   },
   {
    "duration": 112,
    "start_time": "2021-10-26T07:09:42.008Z"
   },
   {
    "duration": 91,
    "start_time": "2021-10-26T07:09:59.822Z"
   },
   {
    "duration": 73,
    "start_time": "2021-10-26T07:10:08.729Z"
   },
   {
    "duration": 44,
    "start_time": "2021-10-26T07:10:26.363Z"
   },
   {
    "duration": 830,
    "start_time": "2021-10-26T07:12:01.458Z"
   },
   {
    "duration": 654,
    "start_time": "2021-10-26T07:12:02.291Z"
   },
   {
    "duration": 4,
    "start_time": "2021-10-26T07:12:02.948Z"
   },
   {
    "duration": 199,
    "start_time": "2021-10-26T07:12:02.955Z"
   },
   {
    "duration": 195,
    "start_time": "2021-10-26T07:12:03.156Z"
   },
   {
    "duration": 121,
    "start_time": "2021-10-26T07:12:03.353Z"
   },
   {
    "duration": 139,
    "start_time": "2021-10-26T07:12:03.477Z"
   },
   {
    "duration": 41,
    "start_time": "2021-10-26T07:12:03.619Z"
   },
   {
    "duration": 65,
    "start_time": "2021-10-26T07:12:03.664Z"
   },
   {
    "duration": 12,
    "start_time": "2021-10-26T07:21:08.218Z"
   },
   {
    "duration": 56,
    "start_time": "2021-10-26T07:21:31.444Z"
   },
   {
    "duration": 328,
    "start_time": "2021-10-26T07:22:18.824Z"
   },
   {
    "duration": 246,
    "start_time": "2021-10-26T07:22:28.479Z"
   },
   {
    "duration": 60,
    "start_time": "2021-10-26T07:22:46.187Z"
   },
   {
    "duration": -634,
    "start_time": "2021-10-26T07:23:08.286Z"
   },
   {
    "duration": 5469,
    "start_time": "2021-10-26T07:23:11.163Z"
   },
   {
    "duration": 61,
    "start_time": "2021-10-26T07:23:26.650Z"
   },
   {
    "duration": 5430,
    "start_time": "2021-10-26T07:23:49.914Z"
   },
   {
    "duration": 5237,
    "start_time": "2021-10-26T07:24:09.334Z"
   },
   {
    "duration": 15,
    "start_time": "2021-10-26T07:24:23.905Z"
   },
   {
    "duration": 59,
    "start_time": "2021-10-26T07:24:40.333Z"
   },
   {
    "duration": 219,
    "start_time": "2021-10-26T07:25:19.839Z"
   },
   {
    "duration": 817,
    "start_time": "2021-10-26T07:25:30.769Z"
   },
   {
    "duration": 673,
    "start_time": "2021-10-26T07:25:31.589Z"
   },
   {
    "duration": 4,
    "start_time": "2021-10-26T07:25:32.265Z"
   },
   {
    "duration": 190,
    "start_time": "2021-10-26T07:25:32.273Z"
   },
   {
    "duration": 207,
    "start_time": "2021-10-26T07:25:32.466Z"
   },
   {
    "duration": 124,
    "start_time": "2021-10-26T07:25:32.676Z"
   },
   {
    "duration": 146,
    "start_time": "2021-10-26T07:25:32.803Z"
   },
   {
    "duration": 39,
    "start_time": "2021-10-26T07:25:32.954Z"
   },
   {
    "duration": 53,
    "start_time": "2021-10-26T07:25:32.996Z"
   },
   {
    "duration": 839,
    "start_time": "2021-10-26T07:25:58.103Z"
   },
   {
    "duration": 638,
    "start_time": "2021-10-26T07:25:58.944Z"
   },
   {
    "duration": 5,
    "start_time": "2021-10-26T07:25:59.585Z"
   },
   {
    "duration": 180,
    "start_time": "2021-10-26T07:25:59.593Z"
   },
   {
    "duration": 192,
    "start_time": "2021-10-26T07:25:59.776Z"
   },
   {
    "duration": 121,
    "start_time": "2021-10-26T07:25:59.971Z"
   },
   {
    "duration": 135,
    "start_time": "2021-10-26T07:26:00.094Z"
   },
   {
    "duration": 33,
    "start_time": "2021-10-26T07:26:00.232Z"
   },
   {
    "duration": 32,
    "start_time": "2021-10-26T07:26:00.268Z"
   },
   {
    "duration": 302,
    "start_time": "2021-10-26T07:28:04.036Z"
   },
   {
    "duration": 51,
    "start_time": "2021-10-26T07:29:13.685Z"
   },
   {
    "duration": 32,
    "start_time": "2021-10-26T07:29:19.980Z"
   },
   {
    "duration": 27,
    "start_time": "2021-10-26T07:29:54.464Z"
   },
   {
    "duration": 37,
    "start_time": "2021-10-26T07:30:03.458Z"
   },
   {
    "duration": 35,
    "start_time": "2021-10-26T07:30:10.954Z"
   },
   {
    "duration": 123,
    "start_time": "2021-10-26T07:30:19.355Z"
   },
   {
    "duration": 96,
    "start_time": "2021-10-26T07:30:27.573Z"
   },
   {
    "duration": 155,
    "start_time": "2021-10-26T07:30:42.313Z"
   },
   {
    "duration": 170,
    "start_time": "2021-10-26T07:30:50.095Z"
   },
   {
    "duration": 63,
    "start_time": "2021-10-26T07:31:10.882Z"
   },
   {
    "duration": 594,
    "start_time": "2021-10-26T07:31:29.391Z"
   },
   {
    "duration": 631,
    "start_time": "2021-10-26T07:31:47.367Z"
   },
   {
    "duration": 251,
    "start_time": "2021-10-26T07:33:03.194Z"
   },
   {
    "duration": 1169,
    "start_time": "2021-10-26T07:33:25.033Z"
   },
   {
    "duration": 940,
    "start_time": "2021-10-26T07:33:26.205Z"
   },
   {
    "duration": 5,
    "start_time": "2021-10-26T07:33:27.148Z"
   },
   {
    "duration": 174,
    "start_time": "2021-10-26T07:33:27.156Z"
   },
   {
    "duration": 180,
    "start_time": "2021-10-26T07:33:27.333Z"
   },
   {
    "duration": 113,
    "start_time": "2021-10-26T07:33:27.516Z"
   },
   {
    "duration": 134,
    "start_time": "2021-10-26T07:33:27.631Z"
   },
   {
    "duration": 33,
    "start_time": "2021-10-26T07:33:27.769Z"
   },
   {
    "duration": 49,
    "start_time": "2021-10-26T07:33:27.805Z"
   },
   {
    "duration": 337,
    "start_time": "2021-10-26T07:33:27.857Z"
   },
   {
    "duration": 235,
    "start_time": "2021-10-26T07:33:53.509Z"
   },
   {
    "duration": 39,
    "start_time": "2021-10-26T07:39:48.838Z"
   },
   {
    "duration": 778,
    "start_time": "2021-10-26T07:40:10.868Z"
   },
   {
    "duration": 633,
    "start_time": "2021-10-26T07:40:11.649Z"
   },
   {
    "duration": 4,
    "start_time": "2021-10-26T07:40:12.285Z"
   },
   {
    "duration": 148,
    "start_time": "2021-10-26T07:40:12.292Z"
   },
   {
    "duration": 182,
    "start_time": "2021-10-26T07:40:12.443Z"
   },
   {
    "duration": 111,
    "start_time": "2021-10-26T07:40:12.629Z"
   },
   {
    "duration": 134,
    "start_time": "2021-10-26T07:40:12.742Z"
   },
   {
    "duration": 33,
    "start_time": "2021-10-26T07:40:12.879Z"
   },
   {
    "duration": 42,
    "start_time": "2021-10-26T07:40:12.914Z"
   },
   {
    "duration": 38,
    "start_time": "2021-10-26T07:40:12.958Z"
   },
   {
    "duration": 11,
    "start_time": "2021-10-26T07:49:22.955Z"
   },
   {
    "duration": 36,
    "start_time": "2021-10-26T07:49:29.663Z"
   },
   {
    "duration": 309,
    "start_time": "2021-10-26T08:05:01.215Z"
   },
   {
    "duration": 859,
    "start_time": "2021-10-26T08:05:09.095Z"
   },
   {
    "duration": 627,
    "start_time": "2021-10-26T08:05:09.957Z"
   },
   {
    "duration": 5,
    "start_time": "2021-10-26T08:05:10.586Z"
   },
   {
    "duration": 147,
    "start_time": "2021-10-26T08:05:10.593Z"
   },
   {
    "duration": 326,
    "start_time": "2021-10-26T08:05:10.742Z"
   },
   {
    "duration": -608,
    "start_time": "2021-10-26T08:05:11.678Z"
   },
   {
    "duration": -608,
    "start_time": "2021-10-26T08:05:11.680Z"
   },
   {
    "duration": -610,
    "start_time": "2021-10-26T08:05:11.683Z"
   },
   {
    "duration": -610,
    "start_time": "2021-10-26T08:05:11.685Z"
   },
   {
    "duration": -613,
    "start_time": "2021-10-26T08:05:11.689Z"
   },
   {
    "duration": -614,
    "start_time": "2021-10-26T08:05:11.691Z"
   },
   {
    "duration": 182,
    "start_time": "2021-10-26T08:06:52.888Z"
   },
   {
    "duration": 168,
    "start_time": "2021-10-26T08:07:39.718Z"
   },
   {
    "duration": 94,
    "start_time": "2021-10-26T08:08:34.436Z"
   },
   {
    "duration": 788,
    "start_time": "2021-10-26T08:10:42.559Z"
   },
   {
    "duration": 627,
    "start_time": "2021-10-26T08:10:43.350Z"
   },
   {
    "duration": 4,
    "start_time": "2021-10-26T08:10:43.980Z"
   },
   {
    "duration": 146,
    "start_time": "2021-10-26T08:10:43.987Z"
   },
   {
    "duration": 195,
    "start_time": "2021-10-26T08:10:44.136Z"
   },
   {
    "duration": 106,
    "start_time": "2021-10-26T08:10:44.333Z"
   },
   {
    "duration": 133,
    "start_time": "2021-10-26T08:10:44.441Z"
   },
   {
    "duration": 33,
    "start_time": "2021-10-26T08:10:44.577Z"
   },
   {
    "duration": 30,
    "start_time": "2021-10-26T08:10:44.629Z"
   },
   {
    "duration": 40,
    "start_time": "2021-10-26T08:10:44.662Z"
   },
   {
    "duration": 6316,
    "start_time": "2021-10-26T08:10:44.705Z"
   },
   {
    "duration": 5397,
    "start_time": "2021-10-26T08:15:06.199Z"
   },
   {
    "duration": 135,
    "start_time": "2021-10-26T08:15:22.758Z"
   },
   {
    "duration": 812,
    "start_time": "2021-10-26T08:15:38.160Z"
   },
   {
    "duration": 618,
    "start_time": "2021-10-26T08:15:38.974Z"
   },
   {
    "duration": 4,
    "start_time": "2021-10-26T08:15:39.595Z"
   },
   {
    "duration": 163,
    "start_time": "2021-10-26T08:15:39.602Z"
   },
   {
    "duration": 189,
    "start_time": "2021-10-26T08:15:39.767Z"
   },
   {
    "duration": 107,
    "start_time": "2021-10-26T08:15:39.958Z"
   },
   {
    "duration": 139,
    "start_time": "2021-10-26T08:15:40.068Z"
   },
   {
    "duration": 39,
    "start_time": "2021-10-26T08:15:40.210Z"
   },
   {
    "duration": 30,
    "start_time": "2021-10-26T08:15:40.251Z"
   },
   {
    "duration": 63,
    "start_time": "2021-10-26T08:15:40.284Z"
   },
   {
    "duration": 40,
    "start_time": "2021-10-26T08:16:58.641Z"
   },
   {
    "duration": 823,
    "start_time": "2021-10-26T08:17:53.336Z"
   },
   {
    "duration": 619,
    "start_time": "2021-10-26T08:17:54.162Z"
   },
   {
    "duration": 5,
    "start_time": "2021-10-26T08:17:54.784Z"
   },
   {
    "duration": 152,
    "start_time": "2021-10-26T08:17:54.792Z"
   },
   {
    "duration": 193,
    "start_time": "2021-10-26T08:17:54.947Z"
   },
   {
    "duration": 111,
    "start_time": "2021-10-26T08:17:55.143Z"
   },
   {
    "duration": 139,
    "start_time": "2021-10-26T08:17:55.257Z"
   },
   {
    "duration": 47,
    "start_time": "2021-10-26T08:17:55.400Z"
   },
   {
    "duration": 32,
    "start_time": "2021-10-26T08:17:55.450Z"
   },
   {
    "duration": 64,
    "start_time": "2021-10-26T08:17:55.485Z"
   },
   {
    "duration": 39,
    "start_time": "2021-10-26T08:17:55.551Z"
   },
   {
    "duration": 58,
    "start_time": "2021-10-26T08:33:01.501Z"
   },
   {
    "duration": 86,
    "start_time": "2021-10-26T08:33:12.616Z"
   },
   {
    "duration": 75,
    "start_time": "2021-10-26T08:33:54.403Z"
   },
   {
    "duration": 80,
    "start_time": "2021-10-26T08:34:13.078Z"
   },
   {
    "duration": 310,
    "start_time": "2021-10-26T08:35:14.406Z"
   },
   {
    "duration": 210,
    "start_time": "2021-10-26T08:36:51.099Z"
   },
   {
    "duration": 237,
    "start_time": "2021-10-26T08:37:26.582Z"
   },
   {
    "duration": 6,
    "start_time": "2021-10-26T08:40:55.760Z"
   },
   {
    "duration": 40,
    "start_time": "2021-10-26T08:41:19.510Z"
   },
   {
    "duration": 39,
    "start_time": "2021-10-26T08:41:54.616Z"
   },
   {
    "duration": 47,
    "start_time": "2021-10-26T08:47:29.908Z"
   },
   {
    "duration": 43,
    "start_time": "2021-10-26T08:49:34.578Z"
   },
   {
    "duration": 788,
    "start_time": "2021-10-26T08:49:47.460Z"
   },
   {
    "duration": 624,
    "start_time": "2021-10-26T08:49:48.250Z"
   },
   {
    "duration": 4,
    "start_time": "2021-10-26T08:49:48.877Z"
   },
   {
    "duration": 150,
    "start_time": "2021-10-26T08:49:48.883Z"
   },
   {
    "duration": 186,
    "start_time": "2021-10-26T08:49:49.035Z"
   },
   {
    "duration": 102,
    "start_time": "2021-10-26T08:49:49.228Z"
   },
   {
    "duration": 140,
    "start_time": "2021-10-26T08:49:49.333Z"
   },
   {
    "duration": 54,
    "start_time": "2021-10-26T08:49:49.476Z"
   },
   {
    "duration": 30,
    "start_time": "2021-10-26T08:49:49.533Z"
   },
   {
    "duration": 37,
    "start_time": "2021-10-26T08:49:49.566Z"
   },
   {
    "duration": 47,
    "start_time": "2021-10-26T08:49:49.629Z"
   },
   {
    "duration": 70,
    "start_time": "2021-10-26T08:49:49.679Z"
   },
   {
    "duration": 953,
    "start_time": "2021-10-26T08:52:04.614Z"
   },
   {
    "duration": 652,
    "start_time": "2021-10-26T08:52:05.570Z"
   },
   {
    "duration": 3,
    "start_time": "2021-10-26T08:52:06.225Z"
   },
   {
    "duration": 151,
    "start_time": "2021-10-26T08:52:06.231Z"
   },
   {
    "duration": 195,
    "start_time": "2021-10-26T08:52:06.385Z"
   },
   {
    "duration": 112,
    "start_time": "2021-10-26T08:52:06.583Z"
   },
   {
    "duration": 139,
    "start_time": "2021-10-26T08:52:06.697Z"
   },
   {
    "duration": 36,
    "start_time": "2021-10-26T08:52:06.840Z"
   },
   {
    "duration": 52,
    "start_time": "2021-10-26T08:52:06.878Z"
   },
   {
    "duration": 42,
    "start_time": "2021-10-26T08:52:06.932Z"
   },
   {
    "duration": 69,
    "start_time": "2021-10-26T08:52:06.976Z"
   },
   {
    "duration": 43,
    "start_time": "2021-10-26T08:52:07.047Z"
   },
   {
    "duration": 18,
    "start_time": "2021-10-26T08:53:35.981Z"
   },
   {
    "duration": 39,
    "start_time": "2021-10-26T08:56:00.078Z"
   },
   {
    "duration": 12,
    "start_time": "2021-10-26T08:56:09.866Z"
   },
   {
    "duration": 14,
    "start_time": "2021-10-26T08:56:33.426Z"
   },
   {
    "duration": 13,
    "start_time": "2021-10-26T08:57:10.578Z"
   },
   {
    "duration": 763,
    "start_time": "2021-10-26T08:57:26.874Z"
   },
   {
    "duration": 636,
    "start_time": "2021-10-26T08:57:27.640Z"
   },
   {
    "duration": 5,
    "start_time": "2021-10-26T08:57:28.281Z"
   },
   {
    "duration": 150,
    "start_time": "2021-10-26T08:57:28.288Z"
   },
   {
    "duration": 189,
    "start_time": "2021-10-26T08:57:28.441Z"
   },
   {
    "duration": 104,
    "start_time": "2021-10-26T08:57:28.632Z"
   },
   {
    "duration": 141,
    "start_time": "2021-10-26T08:57:28.738Z"
   },
   {
    "duration": 45,
    "start_time": "2021-10-26T08:57:28.883Z"
   },
   {
    "duration": 10,
    "start_time": "2021-10-26T08:57:28.930Z"
   },
   {
    "duration": 11,
    "start_time": "2021-10-26T08:57:28.942Z"
   },
   {
    "duration": 29,
    "start_time": "2021-10-26T08:57:28.955Z"
   },
   {
    "duration": 68,
    "start_time": "2021-10-26T08:57:28.986Z"
   },
   {
    "duration": 46,
    "start_time": "2021-10-26T08:57:29.056Z"
   },
   {
    "duration": 43,
    "start_time": "2021-10-26T08:57:29.129Z"
   },
   {
    "duration": 847,
    "start_time": "2021-10-26T08:58:52.501Z"
   },
   {
    "duration": 647,
    "start_time": "2021-10-26T08:58:53.351Z"
   },
   {
    "duration": 5,
    "start_time": "2021-10-26T08:58:54.002Z"
   },
   {
    "duration": 159,
    "start_time": "2021-10-26T08:58:54.010Z"
   },
   {
    "duration": 193,
    "start_time": "2021-10-26T08:58:54.172Z"
   },
   {
    "duration": 111,
    "start_time": "2021-10-26T08:58:54.367Z"
   },
   {
    "duration": 135,
    "start_time": "2021-10-26T08:58:54.481Z"
   },
   {
    "duration": 42,
    "start_time": "2021-10-26T08:58:54.619Z"
   },
   {
    "duration": 10,
    "start_time": "2021-10-26T08:58:54.663Z"
   },
   {
    "duration": 21,
    "start_time": "2021-10-26T08:58:54.676Z"
   },
   {
    "duration": 61,
    "start_time": "2021-10-26T08:58:54.699Z"
   },
   {
    "duration": 37,
    "start_time": "2021-10-26T08:58:54.762Z"
   },
   {
    "duration": 69,
    "start_time": "2021-10-26T08:58:54.801Z"
   },
   {
    "duration": 61,
    "start_time": "2021-10-26T08:58:54.872Z"
   },
   {
    "duration": 816,
    "start_time": "2021-10-26T08:59:15.581Z"
   },
   {
    "duration": 639,
    "start_time": "2021-10-26T08:59:16.399Z"
   },
   {
    "duration": 4,
    "start_time": "2021-10-26T08:59:17.041Z"
   },
   {
    "duration": 181,
    "start_time": "2021-10-26T08:59:17.048Z"
   },
   {
    "duration": 191,
    "start_time": "2021-10-26T08:59:17.231Z"
   },
   {
    "duration": 106,
    "start_time": "2021-10-26T08:59:17.424Z"
   },
   {
    "duration": 139,
    "start_time": "2021-10-26T08:59:17.532Z"
   },
   {
    "duration": 34,
    "start_time": "2021-10-26T08:59:17.674Z"
   },
   {
    "duration": 22,
    "start_time": "2021-10-26T08:59:17.710Z"
   },
   {
    "duration": 10,
    "start_time": "2021-10-26T08:59:17.734Z"
   },
   {
    "duration": 28,
    "start_time": "2021-10-26T08:59:17.747Z"
   },
   {
    "duration": 70,
    "start_time": "2021-10-26T08:59:17.777Z"
   },
   {
    "duration": 45,
    "start_time": "2021-10-26T08:59:17.849Z"
   },
   {
    "duration": 65,
    "start_time": "2021-10-26T08:59:17.897Z"
   },
   {
    "duration": 837,
    "start_time": "2021-10-26T09:00:19.182Z"
   },
   {
    "duration": 636,
    "start_time": "2021-10-26T09:00:20.021Z"
   },
   {
    "duration": 4,
    "start_time": "2021-10-26T09:00:20.660Z"
   },
   {
    "duration": 179,
    "start_time": "2021-10-26T09:00:20.667Z"
   },
   {
    "duration": 196,
    "start_time": "2021-10-26T09:00:20.848Z"
   },
   {
    "duration": 112,
    "start_time": "2021-10-26T09:00:21.046Z"
   },
   {
    "duration": 136,
    "start_time": "2021-10-26T09:00:21.161Z"
   },
   {
    "duration": 45,
    "start_time": "2021-10-26T09:00:21.299Z"
   },
   {
    "duration": 11,
    "start_time": "2021-10-26T09:00:21.349Z"
   },
   {
    "duration": 18,
    "start_time": "2021-10-26T09:00:21.363Z"
   },
   {
    "duration": 63,
    "start_time": "2021-10-26T09:00:21.384Z"
   },
   {
    "duration": 39,
    "start_time": "2021-10-26T09:00:21.450Z"
   },
   {
    "duration": 76,
    "start_time": "2021-10-26T09:00:21.492Z"
   },
   {
    "duration": 63,
    "start_time": "2021-10-26T09:00:21.571Z"
   },
   {
    "duration": 803,
    "start_time": "2021-10-26T09:03:51.050Z"
   },
   {
    "duration": 637,
    "start_time": "2021-10-26T09:03:51.855Z"
   },
   {
    "duration": 4,
    "start_time": "2021-10-26T09:03:52.495Z"
   },
   {
    "duration": 158,
    "start_time": "2021-10-26T09:03:52.502Z"
   },
   {
    "duration": 5104,
    "start_time": "2021-10-26T09:03:52.662Z"
   },
   {
    "duration": -572,
    "start_time": "2021-10-26T09:03:58.342Z"
   },
   {
    "duration": -575,
    "start_time": "2021-10-26T09:03:58.347Z"
   },
   {
    "duration": -577,
    "start_time": "2021-10-26T09:03:58.351Z"
   },
   {
    "duration": -577,
    "start_time": "2021-10-26T09:03:58.354Z"
   },
   {
    "duration": -579,
    "start_time": "2021-10-26T09:03:58.358Z"
   },
   {
    "duration": -580,
    "start_time": "2021-10-26T09:03:58.361Z"
   },
   {
    "duration": -584,
    "start_time": "2021-10-26T09:03:58.367Z"
   },
   {
    "duration": -584,
    "start_time": "2021-10-26T09:03:58.370Z"
   },
   {
    "duration": -585,
    "start_time": "2021-10-26T09:03:58.373Z"
   },
   {
    "duration": -585,
    "start_time": "2021-10-26T09:03:58.375Z"
   },
   {
    "duration": 869,
    "start_time": "2021-10-26T09:04:31.100Z"
   },
   {
    "duration": 655,
    "start_time": "2021-10-26T09:04:31.971Z"
   },
   {
    "duration": 4,
    "start_time": "2021-10-26T09:04:32.629Z"
   },
   {
    "duration": 165,
    "start_time": "2021-10-26T09:04:32.636Z"
   },
   {
    "duration": 26,
    "start_time": "2021-10-26T09:04:32.804Z"
   },
   {
    "duration": 198,
    "start_time": "2021-10-26T09:04:32.832Z"
   },
   {
    "duration": 112,
    "start_time": "2021-10-26T09:04:33.032Z"
   },
   {
    "duration": 146,
    "start_time": "2021-10-26T09:04:33.148Z"
   },
   {
    "duration": 49,
    "start_time": "2021-10-26T09:04:33.297Z"
   },
   {
    "duration": 9,
    "start_time": "2021-10-26T09:04:33.349Z"
   },
   {
    "duration": 14,
    "start_time": "2021-10-26T09:04:33.361Z"
   },
   {
    "duration": 65,
    "start_time": "2021-10-26T09:04:33.378Z"
   },
   {
    "duration": 40,
    "start_time": "2021-10-26T09:04:33.446Z"
   },
   {
    "duration": 72,
    "start_time": "2021-10-26T09:04:33.489Z"
   },
   {
    "duration": 66,
    "start_time": "2021-10-26T09:04:33.564Z"
   },
   {
    "duration": 54,
    "start_time": "2021-10-26T09:07:57.058Z"
   },
   {
    "duration": 51,
    "start_time": "2021-10-26T09:08:39.679Z"
   },
   {
    "duration": 8,
    "start_time": "2021-10-26T09:09:37.772Z"
   },
   {
    "duration": 32,
    "start_time": "2021-10-26T09:09:43.044Z"
   },
   {
    "duration": 29,
    "start_time": "2021-10-26T09:10:06.713Z"
   },
   {
    "duration": 837,
    "start_time": "2021-10-26T09:10:59.889Z"
   },
   {
    "duration": 4,
    "start_time": "2021-10-26T09:11:00.730Z"
   },
   {
    "duration": 714,
    "start_time": "2021-10-26T09:11:00.739Z"
   },
   {
    "duration": 4,
    "start_time": "2021-10-26T09:11:01.456Z"
   },
   {
    "duration": 180,
    "start_time": "2021-10-26T09:11:01.462Z"
   },
   {
    "duration": 12,
    "start_time": "2021-10-26T09:11:01.644Z"
   },
   {
    "duration": 224,
    "start_time": "2021-10-26T09:11:01.659Z"
   },
   {
    "duration": 113,
    "start_time": "2021-10-26T09:11:01.886Z"
   },
   {
    "duration": 151,
    "start_time": "2021-10-26T09:11:02.002Z"
   },
   {
    "duration": 36,
    "start_time": "2021-10-26T09:11:02.155Z"
   },
   {
    "duration": 22,
    "start_time": "2021-10-26T09:11:02.194Z"
   },
   {
    "duration": 18,
    "start_time": "2021-10-26T09:11:02.229Z"
   },
   {
    "duration": 37,
    "start_time": "2021-10-26T09:11:02.249Z"
   },
   {
    "duration": 65,
    "start_time": "2021-10-26T09:11:02.289Z"
   },
   {
    "duration": 47,
    "start_time": "2021-10-26T09:11:02.356Z"
   },
   {
    "duration": 48,
    "start_time": "2021-10-26T09:11:02.429Z"
   },
   {
    "duration": 24,
    "start_time": "2021-10-26T09:11:02.479Z"
   },
   {
    "duration": 16,
    "start_time": "2021-10-26T09:11:39.585Z"
   },
   {
    "duration": 16,
    "start_time": "2021-10-26T09:11:50.209Z"
   },
   {
    "duration": 14,
    "start_time": "2021-10-26T09:11:54.617Z"
   },
   {
    "duration": 34,
    "start_time": "2021-10-26T09:12:03.587Z"
   },
   {
    "duration": 62,
    "start_time": "2021-10-26T09:15:00.589Z"
   },
   {
    "duration": 878,
    "start_time": "2021-10-26T09:15:08.000Z"
   },
   {
    "duration": 4,
    "start_time": "2021-10-26T09:15:08.880Z"
   },
   {
    "duration": 657,
    "start_time": "2021-10-26T09:15:08.886Z"
   },
   {
    "duration": 5,
    "start_time": "2021-10-26T09:15:09.546Z"
   },
   {
    "duration": 177,
    "start_time": "2021-10-26T09:15:09.553Z"
   },
   {
    "duration": 10,
    "start_time": "2021-10-26T09:15:09.733Z"
   },
   {
    "duration": 207,
    "start_time": "2021-10-26T09:15:09.746Z"
   },
   {
    "duration": 113,
    "start_time": "2021-10-26T09:15:09.956Z"
   },
   {
    "duration": 149,
    "start_time": "2021-10-26T09:15:10.072Z"
   },
   {
    "duration": 36,
    "start_time": "2021-10-26T09:15:10.224Z"
   },
   {
    "duration": 10,
    "start_time": "2021-10-26T09:15:10.262Z"
   },
   {
    "duration": 13,
    "start_time": "2021-10-26T09:15:10.274Z"
   },
   {
    "duration": 91,
    "start_time": "2021-10-26T09:15:10.290Z"
   },
   {
    "duration": 71,
    "start_time": "2021-10-26T09:15:10.385Z"
   },
   {
    "duration": 52,
    "start_time": "2021-10-26T09:15:10.459Z"
   },
   {
    "duration": 49,
    "start_time": "2021-10-26T09:15:10.529Z"
   },
   {
    "duration": 54,
    "start_time": "2021-10-26T09:15:10.580Z"
   },
   {
    "duration": 311,
    "start_time": "2021-10-26T09:18:47.848Z"
   },
   {
    "duration": 14,
    "start_time": "2021-10-26T09:18:59.130Z"
   },
   {
    "duration": 16,
    "start_time": "2021-10-26T09:19:35.213Z"
   },
   {
    "duration": 798,
    "start_time": "2021-10-26T09:26:51.640Z"
   },
   {
    "duration": 4,
    "start_time": "2021-10-26T09:26:52.440Z"
   },
   {
    "duration": 651,
    "start_time": "2021-10-26T09:26:52.447Z"
   },
   {
    "duration": 4,
    "start_time": "2021-10-26T09:26:53.100Z"
   },
   {
    "duration": 149,
    "start_time": "2021-10-26T09:26:53.106Z"
   },
   {
    "duration": 11,
    "start_time": "2021-10-26T09:26:53.258Z"
   },
   {
    "duration": 223,
    "start_time": "2021-10-26T09:26:53.271Z"
   },
   {
    "duration": 108,
    "start_time": "2021-10-26T09:26:53.496Z"
   },
   {
    "duration": 141,
    "start_time": "2021-10-26T09:26:53.608Z"
   },
   {
    "duration": 37,
    "start_time": "2021-10-26T09:26:53.751Z"
   },
   {
    "duration": 12,
    "start_time": "2021-10-26T09:26:53.791Z"
   },
   {
    "duration": 38,
    "start_time": "2021-10-26T09:26:53.805Z"
   },
   {
    "duration": 39,
    "start_time": "2021-10-26T09:26:53.846Z"
   },
   {
    "duration": 46,
    "start_time": "2021-10-26T09:26:53.887Z"
   },
   {
    "duration": 46,
    "start_time": "2021-10-26T09:26:53.936Z"
   },
   {
    "duration": 77,
    "start_time": "2021-10-26T09:26:53.984Z"
   },
   {
    "duration": 359,
    "start_time": "2021-10-26T09:26:54.063Z"
   },
   {
    "duration": -570,
    "start_time": "2021-10-26T09:26:54.995Z"
   },
   {
    "duration": 53,
    "start_time": "2021-10-26T09:27:45.487Z"
   },
   {
    "duration": 36,
    "start_time": "2021-10-26T09:27:50.750Z"
   },
   {
    "duration": 16,
    "start_time": "2021-10-26T09:30:05.883Z"
   },
   {
    "duration": 46,
    "start_time": "2021-10-26T09:30:19.086Z"
   },
   {
    "duration": 51,
    "start_time": "2021-10-26T09:35:01.571Z"
   },
   {
    "duration": 29,
    "start_time": "2021-10-26T09:35:47.863Z"
   },
   {
    "duration": 235,
    "start_time": "2021-10-26T09:50:52.083Z"
   },
   {
    "duration": 793,
    "start_time": "2021-10-26T09:50:57.868Z"
   },
   {
    "duration": 4,
    "start_time": "2021-10-26T09:50:58.663Z"
   },
   {
    "duration": 654,
    "start_time": "2021-10-26T09:50:58.670Z"
   },
   {
    "duration": 4,
    "start_time": "2021-10-26T09:50:59.327Z"
   },
   {
    "duration": 157,
    "start_time": "2021-10-26T09:50:59.333Z"
   },
   {
    "duration": 11,
    "start_time": "2021-10-26T09:50:59.493Z"
   },
   {
    "duration": 206,
    "start_time": "2021-10-26T09:50:59.506Z"
   },
   {
    "duration": 104,
    "start_time": "2021-10-26T09:50:59.715Z"
   },
   {
    "duration": 142,
    "start_time": "2021-10-26T09:50:59.829Z"
   },
   {
    "duration": 34,
    "start_time": "2021-10-26T09:50:59.973Z"
   },
   {
    "duration": 22,
    "start_time": "2021-10-26T09:51:00.010Z"
   },
   {
    "duration": 15,
    "start_time": "2021-10-26T09:51:00.034Z"
   },
   {
    "duration": 38,
    "start_time": "2021-10-26T09:51:00.052Z"
   },
   {
    "duration": 50,
    "start_time": "2021-10-26T09:51:00.093Z"
   },
   {
    "duration": 58,
    "start_time": "2021-10-26T09:51:00.146Z"
   },
   {
    "duration": 66,
    "start_time": "2021-10-26T09:51:00.207Z"
   },
   {
    "duration": 75,
    "start_time": "2021-10-26T09:51:00.275Z"
   },
   {
    "duration": 33,
    "start_time": "2021-10-26T09:51:00.353Z"
   },
   {
    "duration": 49,
    "start_time": "2021-10-26T09:51:45.749Z"
   },
   {
    "duration": 31,
    "start_time": "2021-10-26T09:51:49.805Z"
   },
   {
    "duration": 32,
    "start_time": "2021-10-26T09:52:11.511Z"
   },
   {
    "duration": 29,
    "start_time": "2021-10-26T09:52:43.820Z"
   },
   {
    "duration": 39,
    "start_time": "2021-10-26T09:54:08.437Z"
   },
   {
    "duration": 33,
    "start_time": "2021-10-26T09:54:21.457Z"
   },
   {
    "duration": 92,
    "start_time": "2021-10-26T09:55:58.428Z"
   },
   {
    "duration": 70,
    "start_time": "2021-10-26T09:58:52.803Z"
   },
   {
    "duration": 902,
    "start_time": "2021-10-26T09:59:02.732Z"
   },
   {
    "duration": 782,
    "start_time": "2021-10-26T09:59:23.238Z"
   },
   {
    "duration": 58,
    "start_time": "2021-10-26T09:59:41.948Z"
   },
   {
    "duration": 34,
    "start_time": "2021-10-26T10:00:58.706Z"
   },
   {
    "duration": 33,
    "start_time": "2021-10-26T10:01:32.290Z"
   },
   {
    "duration": 28,
    "start_time": "2021-10-26T10:02:08.310Z"
   },
   {
    "duration": 30,
    "start_time": "2021-10-26T10:02:30.689Z"
   },
   {
    "duration": 287,
    "start_time": "2021-10-26T15:35:05.950Z"
   },
   {
    "duration": 808,
    "start_time": "2021-10-26T15:35:14.652Z"
   },
   {
    "duration": 4,
    "start_time": "2021-10-26T15:35:15.462Z"
   },
   {
    "duration": 646,
    "start_time": "2021-10-26T15:35:15.469Z"
   },
   {
    "duration": 4,
    "start_time": "2021-10-26T15:35:16.117Z"
   },
   {
    "duration": 150,
    "start_time": "2021-10-26T15:35:16.123Z"
   },
   {
    "duration": 11,
    "start_time": "2021-10-26T15:35:16.275Z"
   },
   {
    "duration": 209,
    "start_time": "2021-10-26T15:35:16.289Z"
   },
   {
    "duration": 113,
    "start_time": "2021-10-26T15:35:16.501Z"
   },
   {
    "duration": 147,
    "start_time": "2021-10-26T15:35:16.619Z"
   },
   {
    "duration": 35,
    "start_time": "2021-10-26T15:35:16.769Z"
   },
   {
    "duration": 27,
    "start_time": "2021-10-26T15:35:16.806Z"
   },
   {
    "duration": 16,
    "start_time": "2021-10-26T15:35:16.835Z"
   },
   {
    "duration": 40,
    "start_time": "2021-10-26T15:35:16.853Z"
   },
   {
    "duration": 42,
    "start_time": "2021-10-26T15:35:16.895Z"
   },
   {
    "duration": 43,
    "start_time": "2021-10-26T15:35:16.940Z"
   },
   {
    "duration": 79,
    "start_time": "2021-10-26T15:35:16.985Z"
   },
   {
    "duration": 68,
    "start_time": "2021-10-26T15:35:17.067Z"
   },
   {
    "duration": 14,
    "start_time": "2021-10-26T15:35:17.137Z"
   },
   {
    "duration": 15,
    "start_time": "2021-10-26T15:35:23.404Z"
   },
   {
    "duration": 18,
    "start_time": "2021-10-26T15:35:32.928Z"
   },
   {
    "duration": 39,
    "start_time": "2021-10-26T15:37:42.330Z"
   },
   {
    "duration": 58,
    "start_time": "2021-10-26T16:01:46.039Z"
   },
   {
    "duration": 27,
    "start_time": "2021-10-26T16:03:17.112Z"
   },
   {
    "duration": 28,
    "start_time": "2021-10-26T16:34:18.891Z"
   },
   {
    "duration": 27,
    "start_time": "2021-10-26T16:36:55.216Z"
   },
   {
    "duration": 23,
    "start_time": "2021-10-26T16:43:40.266Z"
   },
   {
    "duration": 22,
    "start_time": "2021-10-26T16:43:55.223Z"
   },
   {
    "duration": 5778,
    "start_time": "2021-10-26T16:46:50.682Z"
   },
   {
    "duration": 269,
    "start_time": "2021-10-26T16:50:13.768Z"
   },
   {
    "duration": 4,
    "start_time": "2021-10-26T16:53:11.574Z"
   },
   {
    "duration": 48,
    "start_time": "2021-10-26T16:53:12.664Z"
   },
   {
    "duration": 235,
    "start_time": "2021-10-26T16:55:09.253Z"
   },
   {
    "duration": 6,
    "start_time": "2021-10-26T16:55:12.138Z"
   },
   {
    "duration": 67,
    "start_time": "2021-10-26T16:55:13.090Z"
   },
   {
    "duration": 69,
    "start_time": "2021-10-26T16:59:30.758Z"
   },
   {
    "duration": 81,
    "start_time": "2021-10-26T17:01:00.762Z"
   },
   {
    "duration": 751,
    "start_time": "2021-10-26T17:16:23.566Z"
   },
   {
    "duration": 1456,
    "start_time": "2021-10-26T17:16:37.151Z"
   },
   {
    "duration": 4,
    "start_time": "2021-10-26T17:16:38.610Z"
   },
   {
    "duration": 659,
    "start_time": "2021-10-26T17:16:38.617Z"
   },
   {
    "duration": 4,
    "start_time": "2021-10-26T17:16:39.279Z"
   },
   {
    "duration": 155,
    "start_time": "2021-10-26T17:16:39.286Z"
   },
   {
    "duration": 12,
    "start_time": "2021-10-26T17:16:39.444Z"
   },
   {
    "duration": 207,
    "start_time": "2021-10-26T17:16:39.458Z"
   },
   {
    "duration": 108,
    "start_time": "2021-10-26T17:16:39.668Z"
   },
   {
    "duration": 141,
    "start_time": "2021-10-26T17:16:39.780Z"
   },
   {
    "duration": 35,
    "start_time": "2021-10-26T17:16:39.924Z"
   },
   {
    "duration": 10,
    "start_time": "2021-10-26T17:16:39.961Z"
   },
   {
    "duration": 16,
    "start_time": "2021-10-26T17:16:39.973Z"
   },
   {
    "duration": 74,
    "start_time": "2021-10-26T17:16:39.991Z"
   },
   {
    "duration": 9,
    "start_time": "2021-10-26T17:16:40.068Z"
   },
   {
    "duration": 74,
    "start_time": "2021-10-26T17:16:40.079Z"
   },
   {
    "duration": 51,
    "start_time": "2021-10-26T17:16:40.156Z"
   },
   {
    "duration": 52,
    "start_time": "2021-10-26T17:16:40.229Z"
   },
   {
    "duration": 4,
    "start_time": "2021-10-26T17:16:40.284Z"
   },
   {
    "duration": 105,
    "start_time": "2021-10-26T17:16:40.290Z"
   },
   {
    "duration": 831,
    "start_time": "2021-10-26T17:16:40.397Z"
   },
   {
    "duration": 620,
    "start_time": "2021-10-26T17:18:21.075Z"
   },
   {
    "duration": 1449,
    "start_time": "2021-10-26T17:26:23.754Z"
   },
   {
    "duration": 5,
    "start_time": "2021-10-26T17:26:25.206Z"
   },
   {
    "duration": 995,
    "start_time": "2021-10-26T17:26:25.214Z"
   },
   {
    "duration": 4,
    "start_time": "2021-10-26T17:26:26.212Z"
   },
   {
    "duration": 157,
    "start_time": "2021-10-26T17:26:26.218Z"
   },
   {
    "duration": 11,
    "start_time": "2021-10-26T17:26:26.377Z"
   },
   {
    "duration": 211,
    "start_time": "2021-10-26T17:26:26.390Z"
   },
   {
    "duration": 112,
    "start_time": "2021-10-26T17:26:26.605Z"
   },
   {
    "duration": 144,
    "start_time": "2021-10-26T17:26:26.719Z"
   },
   {
    "duration": 36,
    "start_time": "2021-10-26T17:26:26.865Z"
   },
   {
    "duration": 30,
    "start_time": "2021-10-26T17:26:26.903Z"
   },
   {
    "duration": 15,
    "start_time": "2021-10-26T17:26:26.935Z"
   },
   {
    "duration": 78,
    "start_time": "2021-10-26T17:26:26.953Z"
   },
   {
    "duration": 10,
    "start_time": "2021-10-26T17:26:27.033Z"
   },
   {
    "duration": 44,
    "start_time": "2021-10-26T17:26:27.046Z"
   },
   {
    "duration": 83,
    "start_time": "2021-10-26T17:26:27.092Z"
   },
   {
    "duration": 73,
    "start_time": "2021-10-26T17:26:27.177Z"
   },
   {
    "duration": 4,
    "start_time": "2021-10-26T17:26:27.252Z"
   },
   {
    "duration": 113,
    "start_time": "2021-10-26T17:26:27.258Z"
   },
   {
    "duration": 824,
    "start_time": "2021-10-26T17:26:27.374Z"
   },
   {
    "duration": 2744,
    "start_time": "2021-10-26T17:29:09.661Z"
   },
   {
    "duration": 761,
    "start_time": "2021-10-26T17:29:36.830Z"
   },
   {
    "duration": 712,
    "start_time": "2021-10-26T17:29:55.736Z"
   },
   {
    "duration": 788,
    "start_time": "2021-10-26T17:30:14.602Z"
   },
   {
    "duration": 784,
    "start_time": "2021-10-26T17:32:29.433Z"
   },
   {
    "duration": 775,
    "start_time": "2021-10-26T17:36:54.672Z"
   },
   {
    "duration": 772,
    "start_time": "2021-10-26T17:37:04.185Z"
   },
   {
    "duration": 873,
    "start_time": "2021-10-26T17:37:20.883Z"
   },
   {
    "duration": 779,
    "start_time": "2021-10-26T17:37:55.650Z"
   },
   {
    "duration": 787,
    "start_time": "2021-10-26T17:42:20.751Z"
   },
   {
    "duration": 783,
    "start_time": "2021-10-26T17:43:30.866Z"
   },
   {
    "duration": 959,
    "start_time": "2021-10-26T17:43:42.848Z"
   },
   {
    "duration": 875,
    "start_time": "2021-10-26T17:44:38.354Z"
   },
   {
    "duration": 935,
    "start_time": "2021-10-26T17:44:48.890Z"
   },
   {
    "duration": 806,
    "start_time": "2021-10-26T17:45:27.093Z"
   },
   {
    "duration": 821,
    "start_time": "2021-10-26T17:45:41.308Z"
   },
   {
    "duration": 872,
    "start_time": "2021-10-26T17:45:58.189Z"
   },
   {
    "duration": 6166,
    "start_time": "2021-10-26T17:48:19.030Z"
   },
   {
    "duration": 6936,
    "start_time": "2021-10-26T17:49:09.700Z"
   },
   {
    "duration": 5991,
    "start_time": "2021-10-26T17:49:41.041Z"
   },
   {
    "duration": 6,
    "start_time": "2021-10-26T18:00:15.871Z"
   },
   {
    "duration": 1056,
    "start_time": "2021-10-26T18:00:36.168Z"
   },
   {
    "duration": 6,
    "start_time": "2021-10-26T18:01:27.440Z"
   },
   {
    "duration": 2406,
    "start_time": "2021-10-26T18:01:29.298Z"
   },
   {
    "duration": 2273,
    "start_time": "2021-10-26T18:01:47.924Z"
   },
   {
    "duration": 2307,
    "start_time": "2021-10-26T18:02:12.693Z"
   },
   {
    "duration": 1078,
    "start_time": "2021-10-26T18:02:31.055Z"
   },
   {
    "duration": 2421,
    "start_time": "2021-10-26T18:02:38.824Z"
   },
   {
    "duration": 5,
    "start_time": "2021-10-26T18:03:25.791Z"
   },
   {
    "duration": 1223,
    "start_time": "2021-10-26T18:03:27.598Z"
   },
   {
    "duration": 6,
    "start_time": "2021-10-26T18:04:30.351Z"
   },
   {
    "duration": 1212,
    "start_time": "2021-10-26T18:04:31.352Z"
   },
   {
    "duration": 7,
    "start_time": "2021-10-26T18:05:00.810Z"
   },
   {
    "duration": 2415,
    "start_time": "2021-10-26T18:05:01.852Z"
   },
   {
    "duration": 1463,
    "start_time": "2021-10-26T18:05:18.632Z"
   },
   {
    "duration": 4,
    "start_time": "2021-10-26T18:05:20.098Z"
   },
   {
    "duration": 672,
    "start_time": "2021-10-26T18:05:20.105Z"
   },
   {
    "duration": 4,
    "start_time": "2021-10-26T18:05:20.780Z"
   },
   {
    "duration": 164,
    "start_time": "2021-10-26T18:05:20.787Z"
   },
   {
    "duration": 12,
    "start_time": "2021-10-26T18:05:20.954Z"
   },
   {
    "duration": 211,
    "start_time": "2021-10-26T18:05:20.970Z"
   },
   {
    "duration": 112,
    "start_time": "2021-10-26T18:05:21.186Z"
   },
   {
    "duration": 137,
    "start_time": "2021-10-26T18:05:21.301Z"
   },
   {
    "duration": 34,
    "start_time": "2021-10-26T18:05:21.441Z"
   },
   {
    "duration": 9,
    "start_time": "2021-10-26T18:05:21.477Z"
   },
   {
    "duration": 49,
    "start_time": "2021-10-26T18:05:21.488Z"
   },
   {
    "duration": 36,
    "start_time": "2021-10-26T18:05:21.540Z"
   },
   {
    "duration": 10,
    "start_time": "2021-10-26T18:05:21.578Z"
   },
   {
    "duration": 74,
    "start_time": "2021-10-26T18:05:21.590Z"
   },
   {
    "duration": 64,
    "start_time": "2021-10-26T18:05:21.666Z"
   },
   {
    "duration": 50,
    "start_time": "2021-10-26T18:05:21.733Z"
   },
   {
    "duration": 4,
    "start_time": "2021-10-26T18:05:21.785Z"
   },
   {
    "duration": 106,
    "start_time": "2021-10-26T18:05:21.791Z"
   },
   {
    "duration": 6,
    "start_time": "2021-10-26T18:05:21.899Z"
   },
   {
    "duration": 2225,
    "start_time": "2021-10-26T18:05:21.907Z"
   },
   {
    "duration": 8,
    "start_time": "2021-10-26T18:06:35.594Z"
   },
   {
    "duration": 1402,
    "start_time": "2021-10-26T18:06:37.584Z"
   },
   {
    "duration": 6,
    "start_time": "2021-10-26T18:07:55.770Z"
   },
   {
    "duration": 1847,
    "start_time": "2021-10-26T18:07:56.682Z"
   },
   {
    "duration": 6,
    "start_time": "2021-10-26T18:10:24.182Z"
   },
   {
    "duration": 1196,
    "start_time": "2021-10-26T18:10:26.030Z"
   },
   {
    "duration": 104,
    "start_time": "2021-10-26T18:12:14.349Z"
   },
   {
    "duration": 6,
    "start_time": "2021-10-26T18:12:21.839Z"
   },
   {
    "duration": 2268,
    "start_time": "2021-10-26T18:12:23.569Z"
   },
   {
    "duration": 6,
    "start_time": "2021-10-26T18:13:01.271Z"
   },
   {
    "duration": 2265,
    "start_time": "2021-10-26T18:13:02.600Z"
   },
   {
    "duration": 6,
    "start_time": "2021-10-26T18:16:01.322Z"
   },
   {
    "duration": 1219,
    "start_time": "2021-10-26T18:16:02.561Z"
   },
   {
    "duration": 227,
    "start_time": "2021-10-26T18:17:31.109Z"
   },
   {
    "duration": 225,
    "start_time": "2021-10-26T18:17:42.492Z"
   },
   {
    "duration": 6,
    "start_time": "2021-10-26T18:18:32.412Z"
   },
   {
    "duration": 1316,
    "start_time": "2021-10-26T18:18:33.988Z"
   },
   {
    "duration": 6,
    "start_time": "2021-10-26T18:18:51.597Z"
   },
   {
    "duration": 2273,
    "start_time": "2021-10-26T18:18:52.598Z"
   },
   {
    "duration": 6,
    "start_time": "2021-10-26T18:19:20.543Z"
   },
   {
    "duration": 1694,
    "start_time": "2021-10-26T18:19:22.240Z"
   },
   {
    "duration": 6,
    "start_time": "2021-10-26T18:19:28.448Z"
   },
   {
    "duration": 2304,
    "start_time": "2021-10-26T18:19:31.954Z"
   },
   {
    "duration": 6,
    "start_time": "2021-10-26T18:20:14.431Z"
   },
   {
    "duration": 1018,
    "start_time": "2021-10-26T18:20:15.286Z"
   },
   {
    "duration": 6,
    "start_time": "2021-10-26T18:20:40.450Z"
   },
   {
    "duration": 2158,
    "start_time": "2021-10-26T18:20:42.380Z"
   },
   {
    "duration": 6,
    "start_time": "2021-10-26T18:25:52.624Z"
   },
   {
    "duration": 2275,
    "start_time": "2021-10-26T18:25:53.973Z"
   },
   {
    "duration": 6,
    "start_time": "2021-10-26T18:26:02.270Z"
   },
   {
    "duration": 2158,
    "start_time": "2021-10-26T18:26:05.678Z"
   },
   {
    "duration": 6,
    "start_time": "2021-10-26T18:53:32.709Z"
   },
   {
    "duration": 2390,
    "start_time": "2021-10-26T18:53:34.076Z"
   },
   {
    "duration": 6,
    "start_time": "2021-10-26T18:55:56.921Z"
   },
   {
    "duration": 2261,
    "start_time": "2021-10-26T18:55:58.170Z"
   },
   {
    "duration": 6,
    "start_time": "2021-10-26T19:13:01.852Z"
   },
   {
    "duration": 75,
    "start_time": "2021-10-26T19:13:03.457Z"
   },
   {
    "duration": 516,
    "start_time": "2021-10-26T19:13:15.677Z"
   },
   {
    "duration": 363,
    "start_time": "2021-10-26T19:13:24.796Z"
   },
   {
    "duration": 5,
    "start_time": "2021-10-26T19:13:53.198Z"
   },
   {
    "duration": 32,
    "start_time": "2021-10-26T19:13:58.289Z"
   },
   {
    "duration": 1446,
    "start_time": "2021-10-26T19:14:13.246Z"
   },
   {
    "duration": 3,
    "start_time": "2021-10-26T19:14:14.694Z"
   },
   {
    "duration": 660,
    "start_time": "2021-10-26T19:14:14.701Z"
   },
   {
    "duration": 4,
    "start_time": "2021-10-26T19:14:15.364Z"
   },
   {
    "duration": 162,
    "start_time": "2021-10-26T19:14:15.371Z"
   },
   {
    "duration": 11,
    "start_time": "2021-10-26T19:14:15.536Z"
   },
   {
    "duration": 204,
    "start_time": "2021-10-26T19:14:15.550Z"
   },
   {
    "duration": 111,
    "start_time": "2021-10-26T19:14:15.756Z"
   },
   {
    "duration": 141,
    "start_time": "2021-10-26T19:14:15.870Z"
   },
   {
    "duration": 39,
    "start_time": "2021-10-26T19:14:16.014Z"
   },
   {
    "duration": 8,
    "start_time": "2021-10-26T19:14:16.056Z"
   },
   {
    "duration": 14,
    "start_time": "2021-10-26T19:14:16.067Z"
   },
   {
    "duration": 72,
    "start_time": "2021-10-26T19:14:16.083Z"
   },
   {
    "duration": 10,
    "start_time": "2021-10-26T19:14:16.157Z"
   },
   {
    "duration": 62,
    "start_time": "2021-10-26T19:14:16.169Z"
   },
   {
    "duration": 53,
    "start_time": "2021-10-26T19:14:16.233Z"
   },
   {
    "duration": 76,
    "start_time": "2021-10-26T19:14:16.288Z"
   },
   {
    "duration": 4,
    "start_time": "2021-10-26T19:14:16.366Z"
   },
   {
    "duration": 102,
    "start_time": "2021-10-26T19:14:16.372Z"
   },
   {
    "duration": 6,
    "start_time": "2021-10-26T19:14:16.477Z"
   },
   {
    "duration": 2323,
    "start_time": "2021-10-26T19:14:16.485Z"
   },
   {
    "duration": 6,
    "start_time": "2021-10-26T19:14:18.811Z"
   },
   {
    "duration": 33,
    "start_time": "2021-10-26T19:14:18.829Z"
   },
   {
    "duration": 36,
    "start_time": "2021-10-26T19:14:36.948Z"
   },
   {
    "duration": 7,
    "start_time": "2021-10-26T19:15:53.491Z"
   },
   {
    "duration": 27,
    "start_time": "2021-10-26T19:15:55.340Z"
   },
   {
    "duration": 27,
    "start_time": "2021-10-26T19:15:56.837Z"
   },
   {
    "duration": 5,
    "start_time": "2021-10-26T19:17:08.565Z"
   },
   {
    "duration": 20,
    "start_time": "2021-10-26T19:17:10.031Z"
   },
   {
    "duration": 6,
    "start_time": "2021-10-26T19:18:43.604Z"
   },
   {
    "duration": 360,
    "start_time": "2021-10-26T19:18:44.906Z"
   },
   {
    "duration": 6,
    "start_time": "2021-10-26T19:19:25.039Z"
   },
   {
    "duration": 234,
    "start_time": "2021-10-26T19:19:25.952Z"
   },
   {
    "duration": 5,
    "start_time": "2021-10-26T19:20:17.502Z"
   },
   {
    "duration": 246,
    "start_time": "2021-10-26T19:20:18.391Z"
   },
   {
    "duration": 18,
    "start_time": "2021-10-26T19:22:45.699Z"
   },
   {
    "duration": 292,
    "start_time": "2021-10-26T19:23:11.527Z"
   },
   {
    "duration": 6,
    "start_time": "2021-10-26T19:24:01.436Z"
   },
   {
    "duration": 18,
    "start_time": "2021-10-26T19:24:03.109Z"
   },
   {
    "duration": 20,
    "start_time": "2021-10-26T19:24:11.711Z"
   },
   {
    "duration": 27,
    "start_time": "2021-10-26T19:24:16.537Z"
   },
   {
    "duration": 26,
    "start_time": "2021-10-26T19:24:45.764Z"
   },
   {
    "duration": 7391,
    "start_time": "2021-10-26T19:31:35.122Z"
   },
   {
    "duration": 4529,
    "start_time": "2021-10-26T19:31:59.626Z"
   },
   {
    "duration": 4583,
    "start_time": "2021-10-26T19:34:02.305Z"
   },
   {
    "duration": 6,
    "start_time": "2021-10-26T19:34:33.153Z"
   },
   {
    "duration": 4407,
    "start_time": "2021-10-26T19:34:34.174Z"
   },
   {
    "duration": 6,
    "start_time": "2021-10-26T19:34:59.781Z"
   },
   {
    "duration": 3908,
    "start_time": "2021-10-26T19:35:00.757Z"
   },
   {
    "duration": 6,
    "start_time": "2021-10-26T19:35:13.863Z"
   },
   {
    "duration": 4303,
    "start_time": "2021-10-26T19:35:14.983Z"
   },
   {
    "duration": 8,
    "start_time": "2021-10-26T19:36:13.917Z"
   },
   {
    "duration": 1967,
    "start_time": "2021-10-26T19:36:15.133Z"
   },
   {
    "duration": 6,
    "start_time": "2021-10-26T19:36:28.022Z"
   },
   {
    "duration": 9,
    "start_time": "2021-10-26T19:36:29.207Z"
   },
   {
    "duration": 2408,
    "start_time": "2021-10-26T19:36:30.048Z"
   },
   {
    "duration": 205,
    "start_time": "2021-10-26T19:37:08.758Z"
   },
   {
    "duration": 222,
    "start_time": "2021-10-26T19:37:15.719Z"
   },
   {
    "duration": 2030,
    "start_time": "2021-10-26T19:37:21.342Z"
   },
   {
    "duration": 6,
    "start_time": "2021-10-26T19:38:58.275Z"
   },
   {
    "duration": 8,
    "start_time": "2021-10-26T19:38:59.636Z"
   },
   {
    "duration": 1335,
    "start_time": "2021-10-26T19:39:00.323Z"
   },
   {
    "duration": 6,
    "start_time": "2021-10-26T19:39:28.830Z"
   },
   {
    "duration": 9,
    "start_time": "2021-10-26T19:39:29.824Z"
   },
   {
    "duration": 2114,
    "start_time": "2021-10-26T19:39:30.537Z"
   },
   {
    "duration": 231,
    "start_time": "2021-10-26T19:43:23.095Z"
   },
   {
    "duration": 255,
    "start_time": "2021-10-26T19:43:32.960Z"
   },
   {
    "duration": 80,
    "start_time": "2021-10-26T19:49:54.687Z"
   },
   {
    "duration": 7,
    "start_time": "2021-10-26T19:50:13.382Z"
   },
   {
    "duration": 8,
    "start_time": "2021-10-26T19:50:14.989Z"
   },
   {
    "duration": 1122,
    "start_time": "2021-10-26T19:50:22.288Z"
   },
   {
    "duration": 6,
    "start_time": "2021-10-26T19:50:41.922Z"
   },
   {
    "duration": 9,
    "start_time": "2021-10-26T19:50:42.825Z"
   },
   {
    "duration": 2162,
    "start_time": "2021-10-26T19:50:43.578Z"
   },
   {
    "duration": 6,
    "start_time": "2021-10-26T19:51:48.106Z"
   },
   {
    "duration": 8,
    "start_time": "2021-10-26T19:51:49.164Z"
   },
   {
    "duration": 923,
    "start_time": "2021-10-26T19:51:49.812Z"
   },
   {
    "duration": 7,
    "start_time": "2021-10-26T19:52:09.053Z"
   },
   {
    "duration": 8,
    "start_time": "2021-10-26T19:52:10.365Z"
   },
   {
    "duration": 2301,
    "start_time": "2021-10-26T19:52:11.038Z"
   },
   {
    "duration": 83,
    "start_time": "2021-10-26T20:03:16.169Z"
   },
   {
    "duration": 1436,
    "start_time": "2021-10-26T20:03:58.447Z"
   },
   {
    "duration": 5,
    "start_time": "2021-10-26T20:03:59.886Z"
   },
   {
    "duration": 666,
    "start_time": "2021-10-26T20:03:59.898Z"
   },
   {
    "duration": 4,
    "start_time": "2021-10-26T20:04:00.567Z"
   },
   {
    "duration": 165,
    "start_time": "2021-10-26T20:04:00.573Z"
   },
   {
    "duration": 12,
    "start_time": "2021-10-26T20:04:00.741Z"
   },
   {
    "duration": 214,
    "start_time": "2021-10-26T20:04:00.757Z"
   },
   {
    "duration": 113,
    "start_time": "2021-10-26T20:04:00.973Z"
   },
   {
    "duration": 147,
    "start_time": "2021-10-26T20:04:01.088Z"
   },
   {
    "duration": 36,
    "start_time": "2021-10-26T20:04:01.238Z"
   },
   {
    "duration": 11,
    "start_time": "2021-10-26T20:04:01.276Z"
   },
   {
    "duration": 61,
    "start_time": "2021-10-26T20:04:01.289Z"
   },
   {
    "duration": 56,
    "start_time": "2021-10-26T20:04:01.352Z"
   },
   {
    "duration": 11,
    "start_time": "2021-10-26T20:04:01.411Z"
   },
   {
    "duration": 53,
    "start_time": "2021-10-26T20:04:01.430Z"
   },
   {
    "duration": 67,
    "start_time": "2021-10-26T20:04:01.485Z"
   },
   {
    "duration": 50,
    "start_time": "2021-10-26T20:04:01.555Z"
   },
   {
    "duration": 4,
    "start_time": "2021-10-26T20:04:01.628Z"
   },
   {
    "duration": 97,
    "start_time": "2021-10-26T20:04:01.635Z"
   },
   {
    "duration": 5,
    "start_time": "2021-10-26T20:04:01.734Z"
   },
   {
    "duration": 21,
    "start_time": "2021-10-26T20:04:01.742Z"
   },
   {
    "duration": 2115,
    "start_time": "2021-10-26T20:04:01.767Z"
   },
   {
    "duration": 2077,
    "start_time": "2021-10-26T20:04:03.884Z"
   },
   {
    "duration": 82,
    "start_time": "2021-10-26T20:04:05.965Z"
   },
   {
    "duration": -743,
    "start_time": "2021-10-26T20:04:06.792Z"
   },
   {
    "duration": -747,
    "start_time": "2021-10-26T20:04:06.797Z"
   },
   {
    "duration": -749,
    "start_time": "2021-10-26T20:04:06.801Z"
   },
   {
    "duration": -750,
    "start_time": "2021-10-26T20:04:06.803Z"
   },
   {
    "duration": 8,
    "start_time": "2021-10-26T20:04:48.997Z"
   },
   {
    "duration": 600,
    "start_time": "2021-10-26T20:04:50.171Z"
   },
   {
    "duration": 488,
    "start_time": "2021-10-26T20:05:16.574Z"
   },
   {
    "duration": 8,
    "start_time": "2021-10-26T20:05:38.985Z"
   },
   {
    "duration": 453,
    "start_time": "2021-10-26T20:05:40.617Z"
   },
   {
    "duration": 8,
    "start_time": "2021-10-26T20:06:24.799Z"
   },
   {
    "duration": 37,
    "start_time": "2021-10-26T20:06:25.919Z"
   },
   {
    "duration": 8,
    "start_time": "2021-10-26T20:06:53.306Z"
   },
   {
    "duration": 37,
    "start_time": "2021-10-26T20:06:54.309Z"
   },
   {
    "duration": 8,
    "start_time": "2021-10-26T20:08:42.564Z"
   },
   {
    "duration": 38,
    "start_time": "2021-10-26T20:08:57.452Z"
   },
   {
    "duration": 39,
    "start_time": "2021-10-26T20:09:17.654Z"
   },
   {
    "duration": 6125,
    "start_time": "2021-10-26T20:16:23.516Z"
   },
   {
    "duration": 251,
    "start_time": "2021-10-26T20:16:44.302Z"
   },
   {
    "duration": 245,
    "start_time": "2021-10-26T20:17:45.078Z"
   },
   {
    "duration": 100,
    "start_time": "2021-10-26T20:18:45.899Z"
   },
   {
    "duration": 266,
    "start_time": "2021-10-26T20:19:03.542Z"
   },
   {
    "duration": 283,
    "start_time": "2021-10-26T20:25:11.179Z"
   },
   {
    "duration": 1484,
    "start_time": "2021-10-26T20:25:19.326Z"
   },
   {
    "duration": 4,
    "start_time": "2021-10-26T20:25:20.814Z"
   },
   {
    "duration": 670,
    "start_time": "2021-10-26T20:25:20.821Z"
   },
   {
    "duration": 4,
    "start_time": "2021-10-26T20:25:21.494Z"
   },
   {
    "duration": 151,
    "start_time": "2021-10-26T20:25:21.500Z"
   },
   {
    "duration": 12,
    "start_time": "2021-10-26T20:25:21.653Z"
   },
   {
    "duration": 225,
    "start_time": "2021-10-26T20:25:21.668Z"
   },
   {
    "duration": 112,
    "start_time": "2021-10-26T20:25:21.895Z"
   },
   {
    "duration": 136,
    "start_time": "2021-10-26T20:25:22.010Z"
   },
   {
    "duration": 35,
    "start_time": "2021-10-26T20:25:22.149Z"
   },
   {
    "duration": 8,
    "start_time": "2021-10-26T20:25:22.186Z"
   },
   {
    "duration": 39,
    "start_time": "2021-10-26T20:25:22.197Z"
   },
   {
    "duration": 40,
    "start_time": "2021-10-26T20:25:22.238Z"
   },
   {
    "duration": 11,
    "start_time": "2021-10-26T20:25:22.281Z"
   },
   {
    "duration": 45,
    "start_time": "2021-10-26T20:25:22.329Z"
   },
   {
    "duration": 73,
    "start_time": "2021-10-26T20:25:22.376Z"
   },
   {
    "duration": 53,
    "start_time": "2021-10-26T20:25:22.451Z"
   },
   {
    "duration": 26,
    "start_time": "2021-10-26T20:25:22.506Z"
   },
   {
    "duration": 94,
    "start_time": "2021-10-26T20:25:22.535Z"
   },
   {
    "duration": 6,
    "start_time": "2021-10-26T20:25:22.632Z"
   },
   {
    "duration": 13,
    "start_time": "2021-10-26T20:25:22.641Z"
   },
   {
    "duration": 2183,
    "start_time": "2021-10-26T20:25:22.657Z"
   },
   {
    "duration": 2046,
    "start_time": "2021-10-26T20:25:24.842Z"
   },
   {
    "duration": 8,
    "start_time": "2021-10-26T20:25:26.890Z"
   },
   {
    "duration": 53,
    "start_time": "2021-10-26T20:25:26.901Z"
   },
   {
    "duration": 37,
    "start_time": "2021-10-26T20:25:26.956Z"
   },
   {
    "duration": 4,
    "start_time": "2021-10-26T20:25:26.998Z"
   },
   {
    "duration": 820,
    "start_time": "2021-10-26T20:25:27.005Z"
   },
   {
    "duration": -734,
    "start_time": "2021-10-26T20:25:28.562Z"
   },
   {
    "duration": -739,
    "start_time": "2021-10-26T20:25:28.568Z"
   },
   {
    "duration": -739,
    "start_time": "2021-10-26T20:25:28.570Z"
   },
   {
    "duration": 844,
    "start_time": "2021-10-26T20:26:41.645Z"
   },
   {
    "duration": 476,
    "start_time": "2021-10-26T20:27:01.119Z"
   },
   {
    "duration": 445,
    "start_time": "2021-10-26T20:27:12.376Z"
   },
   {
    "duration": 422,
    "start_time": "2021-10-26T20:27:52.534Z"
   },
   {
    "duration": 440,
    "start_time": "2021-10-26T20:28:04.151Z"
   },
   {
    "duration": 478,
    "start_time": "2021-10-26T20:28:31.892Z"
   },
   {
    "duration": 440,
    "start_time": "2021-10-26T20:29:28.266Z"
   },
   {
    "duration": 4,
    "start_time": "2021-10-26T20:34:02.107Z"
   },
   {
    "duration": 239,
    "start_time": "2021-10-26T20:34:03.304Z"
   },
   {
    "duration": 4,
    "start_time": "2021-10-26T20:34:34.532Z"
   },
   {
    "duration": 235,
    "start_time": "2021-10-26T20:34:35.484Z"
   },
   {
    "duration": 5,
    "start_time": "2021-10-26T20:36:18.410Z"
   },
   {
    "duration": 800,
    "start_time": "2021-10-26T20:36:19.338Z"
   },
   {
    "duration": 6,
    "start_time": "2021-10-26T20:44:27.172Z"
   },
   {
    "duration": 8,
    "start_time": "2021-10-26T20:44:29.282Z"
   },
   {
    "duration": 1044,
    "start_time": "2021-10-26T20:44:35.045Z"
   },
   {
    "duration": 6,
    "start_time": "2021-10-26T20:45:50.829Z"
   },
   {
    "duration": 9,
    "start_time": "2021-10-26T20:45:51.676Z"
   },
   {
    "duration": 2209,
    "start_time": "2021-10-26T20:45:52.613Z"
   },
   {
    "duration": 7,
    "start_time": "2021-10-26T20:47:53.973Z"
   },
   {
    "duration": 9,
    "start_time": "2021-10-26T20:47:55.084Z"
   },
   {
    "duration": 1066,
    "start_time": "2021-10-26T20:47:55.925Z"
   },
   {
    "duration": 7,
    "start_time": "2021-10-26T20:48:08.774Z"
   },
   {
    "duration": 9,
    "start_time": "2021-10-26T20:48:09.543Z"
   },
   {
    "duration": 1062,
    "start_time": "2021-10-26T20:48:10.224Z"
   },
   {
    "duration": 6,
    "start_time": "2021-10-26T20:49:44.509Z"
   },
   {
    "duration": 8,
    "start_time": "2021-10-26T20:49:45.324Z"
   },
   {
    "duration": 2434,
    "start_time": "2021-10-26T20:49:45.948Z"
   },
   {
    "duration": 7,
    "start_time": "2021-10-26T20:50:27.358Z"
   },
   {
    "duration": 9,
    "start_time": "2021-10-26T20:50:28.291Z"
   },
   {
    "duration": 2161,
    "start_time": "2021-10-26T20:50:28.970Z"
   },
   {
    "duration": 7,
    "start_time": "2021-10-26T20:51:27.033Z"
   },
   {
    "duration": 10,
    "start_time": "2021-10-26T20:51:28.042Z"
   },
   {
    "duration": 2100,
    "start_time": "2021-10-26T20:51:50.253Z"
   },
   {
    "duration": 6,
    "start_time": "2021-10-26T20:52:09.465Z"
   },
   {
    "duration": 1060,
    "start_time": "2021-10-26T20:52:11.217Z"
   },
   {
    "duration": 7,
    "start_time": "2021-10-26T20:53:03.415Z"
   },
   {
    "duration": 2122,
    "start_time": "2021-10-26T20:53:09.047Z"
   },
   {
    "duration": 859,
    "start_time": "2021-10-26T20:55:30.206Z"
   },
   {
    "duration": 829,
    "start_time": "2021-10-26T20:56:10.611Z"
   },
   {
    "duration": 720,
    "start_time": "2021-10-26T20:56:18.396Z"
   },
   {
    "duration": 753,
    "start_time": "2021-10-26T20:56:26.289Z"
   },
   {
    "duration": 697,
    "start_time": "2021-10-26T20:56:31.508Z"
   },
   {
    "duration": 724,
    "start_time": "2021-10-26T20:57:25.730Z"
   },
   {
    "duration": 18,
    "start_time": "2021-10-26T20:58:34.148Z"
   },
   {
    "duration": 19,
    "start_time": "2021-10-26T20:59:17.769Z"
   },
   {
    "duration": 759,
    "start_time": "2021-10-26T20:59:43.620Z"
   },
   {
    "duration": 715,
    "start_time": "2021-10-26T20:59:50.366Z"
   },
   {
    "duration": 664,
    "start_time": "2021-10-26T21:00:42.828Z"
   },
   {
    "duration": 256,
    "start_time": "2021-10-26T21:01:22.169Z"
   },
   {
    "duration": 642,
    "start_time": "2021-10-26T21:01:48.959Z"
   },
   {
    "duration": 6,
    "start_time": "2021-10-26T21:03:48.396Z"
   },
   {
    "duration": 239,
    "start_time": "2021-10-26T21:03:59.911Z"
   },
   {
    "duration": 2259,
    "start_time": "2021-10-26T21:04:21.977Z"
   },
   {
    "duration": 7,
    "start_time": "2021-10-26T21:04:50.023Z"
   },
   {
    "duration": 2366,
    "start_time": "2021-10-26T21:04:51.190Z"
   },
   {
    "duration": 6,
    "start_time": "2021-10-26T21:05:40.687Z"
   },
   {
    "duration": 1295,
    "start_time": "2021-10-26T21:05:41.668Z"
   },
   {
    "duration": 7,
    "start_time": "2021-10-26T21:06:06.235Z"
   },
   {
    "duration": 2483,
    "start_time": "2021-10-26T21:06:07.387Z"
   },
   {
    "duration": 2437,
    "start_time": "2021-10-26T21:06:47.718Z"
   },
   {
    "duration": 6,
    "start_time": "2021-10-26T21:07:07.665Z"
   },
   {
    "duration": 2196,
    "start_time": "2021-10-26T21:07:09.089Z"
   },
   {
    "duration": 2285,
    "start_time": "2021-10-26T21:07:31.612Z"
   },
   {
    "duration": 6,
    "start_time": "2021-10-26T21:09:07.567Z"
   },
   {
    "duration": 2156,
    "start_time": "2021-10-26T21:09:08.545Z"
   },
   {
    "duration": 6,
    "start_time": "2021-10-26T21:09:52.221Z"
   },
   {
    "duration": 2341,
    "start_time": "2021-10-26T21:09:52.983Z"
   },
   {
    "duration": 9,
    "start_time": "2021-10-26T21:10:35.973Z"
   },
   {
    "duration": 2640,
    "start_time": "2021-10-26T21:10:37.652Z"
   },
   {
    "duration": 2406,
    "start_time": "2021-10-26T21:11:29.948Z"
   },
   {
    "duration": 2285,
    "start_time": "2021-10-26T21:12:11.809Z"
   },
   {
    "duration": 2198,
    "start_time": "2021-10-26T21:12:28.204Z"
   },
   {
    "duration": 2282,
    "start_time": "2021-10-26T21:13:32.765Z"
   },
   {
    "duration": 2198,
    "start_time": "2021-10-26T21:13:59.336Z"
   },
   {
    "duration": 728,
    "start_time": "2021-10-26T21:14:39.597Z"
   },
   {
    "duration": 6,
    "start_time": "2021-10-26T21:16:12.971Z"
   },
   {
    "duration": 2092,
    "start_time": "2021-10-26T21:16:15.546Z"
   },
   {
    "duration": 2095,
    "start_time": "2021-10-26T21:16:23.404Z"
   },
   {
    "duration": 509,
    "start_time": "2021-10-27T05:50:57.217Z"
   },
   {
    "duration": 1589,
    "start_time": "2021-10-27T05:51:06.683Z"
   },
   {
    "duration": 4,
    "start_time": "2021-10-27T05:51:08.275Z"
   },
   {
    "duration": 671,
    "start_time": "2021-10-27T05:51:08.281Z"
   },
   {
    "duration": 5,
    "start_time": "2021-10-27T05:51:08.955Z"
   },
   {
    "duration": 167,
    "start_time": "2021-10-27T05:51:08.962Z"
   },
   {
    "duration": 12,
    "start_time": "2021-10-27T05:51:09.131Z"
   },
   {
    "duration": 440,
    "start_time": "2021-10-27T05:51:15.348Z"
   },
   {
    "duration": 152,
    "start_time": "2021-10-27T05:52:00.177Z"
   },
   {
    "duration": 1502,
    "start_time": "2021-10-27T05:52:20.976Z"
   },
   {
    "duration": 4,
    "start_time": "2021-10-27T05:52:22.481Z"
   },
   {
    "duration": 692,
    "start_time": "2021-10-27T05:52:22.488Z"
   },
   {
    "duration": 4,
    "start_time": "2021-10-27T05:52:23.183Z"
   },
   {
    "duration": 156,
    "start_time": "2021-10-27T05:52:23.190Z"
   },
   {
    "duration": 11,
    "start_time": "2021-10-27T05:52:23.349Z"
   },
   {
    "duration": 170,
    "start_time": "2021-10-27T05:52:23.362Z"
   },
   {
    "duration": 127,
    "start_time": "2021-10-27T05:52:23.535Z"
   },
   {
    "duration": 151,
    "start_time": "2021-10-27T05:52:23.665Z"
   },
   {
    "duration": 83,
    "start_time": "2021-10-27T05:52:23.819Z"
   },
   {
    "duration": 17,
    "start_time": "2021-10-27T05:52:23.905Z"
   },
   {
    "duration": 17,
    "start_time": "2021-10-27T05:52:23.925Z"
   },
   {
    "duration": 98,
    "start_time": "2021-10-27T05:52:23.945Z"
   },
   {
    "duration": 34,
    "start_time": "2021-10-27T05:52:24.045Z"
   },
   {
    "duration": 83,
    "start_time": "2021-10-27T05:52:24.082Z"
   },
   {
    "duration": 74,
    "start_time": "2021-10-27T05:52:24.167Z"
   },
   {
    "duration": 64,
    "start_time": "2021-10-27T05:52:24.243Z"
   },
   {
    "duration": 4,
    "start_time": "2021-10-27T05:52:24.309Z"
   },
   {
    "duration": 160,
    "start_time": "2021-10-27T05:52:24.315Z"
   },
   {
    "duration": 31,
    "start_time": "2021-10-27T05:52:24.478Z"
   },
   {
    "duration": 692,
    "start_time": "2021-10-27T05:52:24.512Z"
   },
   {
    "duration": 730,
    "start_time": "2021-10-27T05:52:25.207Z"
   },
   {
    "duration": 6,
    "start_time": "2021-10-27T05:52:25.942Z"
   },
   {
    "duration": 2578,
    "start_time": "2021-10-27T05:52:25.950Z"
   },
   {
    "duration": 2441,
    "start_time": "2021-10-27T05:52:28.530Z"
   },
   {
    "duration": 120,
    "start_time": "2021-10-27T05:52:30.974Z"
   },
   {
    "duration": 513,
    "start_time": "2021-10-27T05:52:31.096Z"
   },
   {
    "duration": -634,
    "start_time": "2021-10-27T05:52:32.246Z"
   },
   {
    "duration": -639,
    "start_time": "2021-10-27T05:52:32.252Z"
   },
   {
    "duration": -642,
    "start_time": "2021-10-27T05:52:32.256Z"
   },
   {
    "duration": -646,
    "start_time": "2021-10-27T05:52:32.262Z"
   },
   {
    "duration": -648,
    "start_time": "2021-10-27T05:52:32.266Z"
   },
   {
    "duration": -650,
    "start_time": "2021-10-27T05:52:32.269Z"
   },
   {
    "duration": 244,
    "start_time": "2021-10-27T05:53:56.729Z"
   },
   {
    "duration": 177,
    "start_time": "2021-10-27T05:56:28.712Z"
   },
   {
    "duration": 6467,
    "start_time": "2021-10-27T06:01:12.334Z"
   },
   {
    "duration": 1814,
    "start_time": "2021-10-27T06:01:51.347Z"
   },
   {
    "duration": 1808,
    "start_time": "2021-10-27T06:05:10.292Z"
   },
   {
    "duration": 12716,
    "start_time": "2021-10-27T06:05:16.000Z"
   },
   {
    "duration": 1789,
    "start_time": "2021-10-27T06:05:52.595Z"
   },
   {
    "duration": 13047,
    "start_time": "2021-10-27T06:05:57.076Z"
   },
   {
    "duration": 186,
    "start_time": "2021-10-27T06:08:48.618Z"
   },
   {
    "duration": 104,
    "start_time": "2021-10-27T06:09:01.797Z"
   },
   {
    "duration": 47,
    "start_time": "2021-10-27T06:09:06.501Z"
   },
   {
    "duration": 10,
    "start_time": "2021-10-27T06:09:30.440Z"
   },
   {
    "duration": 14,
    "start_time": "2021-10-27T06:09:53.412Z"
   },
   {
    "duration": 13,
    "start_time": "2021-10-27T06:10:01.100Z"
   },
   {
    "duration": 39,
    "start_time": "2021-10-27T06:10:05.814Z"
   },
   {
    "duration": 11,
    "start_time": "2021-10-27T06:10:18.096Z"
   },
   {
    "duration": 44,
    "start_time": "2021-10-27T06:10:21.591Z"
   },
   {
    "duration": 1470,
    "start_time": "2021-10-27T06:11:04.630Z"
   },
   {
    "duration": 5,
    "start_time": "2021-10-27T06:11:06.103Z"
   },
   {
    "duration": 692,
    "start_time": "2021-10-27T06:11:06.112Z"
   },
   {
    "duration": 6,
    "start_time": "2021-10-27T06:11:06.807Z"
   },
   {
    "duration": 190,
    "start_time": "2021-10-27T06:11:06.816Z"
   },
   {
    "duration": 12,
    "start_time": "2021-10-27T06:11:07.010Z"
   },
   {
    "duration": 242,
    "start_time": "2021-10-27T06:11:07.026Z"
   },
   {
    "duration": 164,
    "start_time": "2021-10-27T06:11:07.272Z"
   },
   {
    "duration": 118,
    "start_time": "2021-10-27T06:11:07.439Z"
   },
   {
    "duration": 49,
    "start_time": "2021-10-27T06:11:07.559Z"
   },
   {
    "duration": 9,
    "start_time": "2021-10-27T06:11:07.610Z"
   },
   {
    "duration": 41,
    "start_time": "2021-10-27T06:11:07.621Z"
   },
   {
    "duration": 63,
    "start_time": "2021-10-27T06:11:07.665Z"
   },
   {
    "duration": 10,
    "start_time": "2021-10-27T06:11:07.730Z"
   },
   {
    "duration": 73,
    "start_time": "2021-10-27T06:11:07.743Z"
   },
   {
    "duration": 52,
    "start_time": "2021-10-27T06:11:07.818Z"
   },
   {
    "duration": 73,
    "start_time": "2021-10-27T06:11:07.873Z"
   },
   {
    "duration": 4,
    "start_time": "2021-10-27T06:11:07.949Z"
   },
   {
    "duration": 113,
    "start_time": "2021-10-27T06:11:07.955Z"
   },
   {
    "duration": 31,
    "start_time": "2021-10-27T06:11:08.071Z"
   },
   {
    "duration": 678,
    "start_time": "2021-10-27T06:11:08.104Z"
   },
   {
    "duration": 706,
    "start_time": "2021-10-27T06:11:08.784Z"
   },
   {
    "duration": 11,
    "start_time": "2021-10-27T06:11:09.495Z"
   },
   {
    "duration": 2250,
    "start_time": "2021-10-27T06:11:09.509Z"
   },
   {
    "duration": 2102,
    "start_time": "2021-10-27T06:11:11.761Z"
   },
   {
    "duration": 103,
    "start_time": "2021-10-27T06:11:13.865Z"
   },
   {
    "duration": 483,
    "start_time": "2021-10-27T06:11:13.971Z"
   },
   {
    "duration": -657,
    "start_time": "2021-10-27T06:11:15.114Z"
   },
   {
    "duration": -659,
    "start_time": "2021-10-27T06:11:15.117Z"
   },
   {
    "duration": -659,
    "start_time": "2021-10-27T06:11:15.119Z"
   },
   {
    "duration": -660,
    "start_time": "2021-10-27T06:11:15.121Z"
   },
   {
    "duration": -660,
    "start_time": "2021-10-27T06:11:15.123Z"
   },
   {
    "duration": -661,
    "start_time": "2021-10-27T06:11:15.125Z"
   },
   {
    "duration": 5,
    "start_time": "2021-10-27T06:11:59.581Z"
   },
   {
    "duration": 52,
    "start_time": "2021-10-27T06:13:50.946Z"
   },
   {
    "duration": 11,
    "start_time": "2021-10-27T06:14:19.160Z"
   },
   {
    "duration": 368,
    "start_time": "2021-10-27T06:15:13.093Z"
   },
   {
    "duration": 50,
    "start_time": "2021-10-27T06:15:19.085Z"
   },
   {
    "duration": 6,
    "start_time": "2021-10-27T06:15:23.509Z"
   },
   {
    "duration": 1490,
    "start_time": "2021-10-27T06:17:27.489Z"
   },
   {
    "duration": 3,
    "start_time": "2021-10-27T06:17:28.982Z"
   },
   {
    "duration": 703,
    "start_time": "2021-10-27T06:17:28.988Z"
   },
   {
    "duration": 4,
    "start_time": "2021-10-27T06:17:29.694Z"
   },
   {
    "duration": 160,
    "start_time": "2021-10-27T06:17:29.700Z"
   },
   {
    "duration": 10,
    "start_time": "2021-10-27T06:17:29.863Z"
   },
   {
    "duration": 214,
    "start_time": "2021-10-27T06:17:29.876Z"
   },
   {
    "duration": 157,
    "start_time": "2021-10-27T06:17:30.092Z"
   },
   {
    "duration": 125,
    "start_time": "2021-10-27T06:17:30.255Z"
   },
   {
    "duration": 48,
    "start_time": "2021-10-27T06:17:30.385Z"
   },
   {
    "duration": 13,
    "start_time": "2021-10-27T06:17:30.436Z"
   },
   {
    "duration": 49,
    "start_time": "2021-10-27T06:17:30.452Z"
   },
   {
    "duration": 4,
    "start_time": "2021-10-27T06:17:30.504Z"
   },
   {
    "duration": 44,
    "start_time": "2021-10-27T06:17:30.511Z"
   },
   {
    "duration": 4,
    "start_time": "2021-10-27T06:17:30.558Z"
   },
   {
    "duration": 68,
    "start_time": "2021-10-27T06:17:30.565Z"
   },
   {
    "duration": 65,
    "start_time": "2021-10-27T06:17:30.637Z"
   },
   {
    "duration": 46,
    "start_time": "2021-10-27T06:17:30.705Z"
   },
   {
    "duration": 5,
    "start_time": "2021-10-27T06:17:30.754Z"
   },
   {
    "duration": 115,
    "start_time": "2021-10-27T06:17:30.762Z"
   },
   {
    "duration": 35,
    "start_time": "2021-10-27T06:17:30.880Z"
   },
   {
    "duration": 677,
    "start_time": "2021-10-27T06:17:30.918Z"
   },
   {
    "duration": 772,
    "start_time": "2021-10-27T06:17:31.600Z"
   },
   {
    "duration": 7,
    "start_time": "2021-10-27T06:17:32.374Z"
   },
   {
    "duration": 2273,
    "start_time": "2021-10-27T06:17:32.383Z"
   },
   {
    "duration": 2065,
    "start_time": "2021-10-27T06:17:34.658Z"
   },
   {
    "duration": 101,
    "start_time": "2021-10-27T06:17:36.727Z"
   },
   {
    "duration": 1327,
    "start_time": "2021-10-27T06:17:36.830Z"
   },
   {
    "duration": -653,
    "start_time": "2021-10-27T06:17:38.812Z"
   },
   {
    "duration": -655,
    "start_time": "2021-10-27T06:17:38.816Z"
   },
   {
    "duration": -656,
    "start_time": "2021-10-27T06:17:38.818Z"
   },
   {
    "duration": -657,
    "start_time": "2021-10-27T06:17:38.821Z"
   },
   {
    "duration": -658,
    "start_time": "2021-10-27T06:17:38.823Z"
   },
   {
    "duration": -658,
    "start_time": "2021-10-27T06:17:38.825Z"
   },
   {
    "duration": 746,
    "start_time": "2021-10-27T06:38:33.314Z"
   },
   {
    "duration": 23,
    "start_time": "2021-10-27T06:39:20.454Z"
   },
   {
    "duration": 17,
    "start_time": "2021-10-27T06:43:38.474Z"
   },
   {
    "duration": 19,
    "start_time": "2021-10-27T06:45:23.424Z"
   },
   {
    "duration": 7,
    "start_time": "2021-10-27T06:45:51.163Z"
   },
   {
    "duration": 682,
    "start_time": "2021-10-27T06:47:20.637Z"
   },
   {
    "duration": 693,
    "start_time": "2021-10-27T06:48:01.369Z"
   },
   {
    "duration": 1023,
    "start_time": "2021-10-27T06:48:10.477Z"
   },
   {
    "duration": 647,
    "start_time": "2021-10-27T06:48:34.661Z"
   },
   {
    "duration": 687,
    "start_time": "2021-10-27T06:51:00.137Z"
   },
   {
    "duration": 435,
    "start_time": "2021-10-27T06:52:24.813Z"
   },
   {
    "duration": 8,
    "start_time": "2021-10-27T06:52:46.640Z"
   },
   {
    "duration": 30,
    "start_time": "2021-10-27T06:52:55.801Z"
   },
   {
    "duration": 32,
    "start_time": "2021-10-27T06:53:24.345Z"
   },
   {
    "duration": 7,
    "start_time": "2021-10-27T06:53:38.982Z"
   },
   {
    "duration": 8,
    "start_time": "2021-10-27T06:53:55.905Z"
   },
   {
    "duration": 33,
    "start_time": "2021-10-27T06:54:33.205Z"
   },
   {
    "duration": 929,
    "start_time": "2021-10-27T06:56:30.078Z"
   },
   {
    "duration": 133,
    "start_time": "2021-10-27T06:56:56.616Z"
   },
   {
    "duration": 33,
    "start_time": "2021-10-27T06:57:07.386Z"
   },
   {
    "duration": 356,
    "start_time": "2021-10-27T06:58:31.630Z"
   },
   {
    "duration": 34,
    "start_time": "2021-10-27T06:58:39.112Z"
   },
   {
    "duration": 8,
    "start_time": "2021-10-27T06:58:54.232Z"
   },
   {
    "duration": 8,
    "start_time": "2021-10-27T07:00:43.032Z"
   },
   {
    "duration": 354,
    "start_time": "2021-10-27T07:01:15.024Z"
   },
   {
    "duration": 592,
    "start_time": "2021-10-27T07:02:42.241Z"
   },
   {
    "duration": 651,
    "start_time": "2021-10-27T07:03:00.114Z"
   },
   {
    "duration": 1688,
    "start_time": "2021-10-27T07:03:30.871Z"
   },
   {
    "duration": 374,
    "start_time": "2021-10-27T07:05:14.724Z"
   },
   {
    "duration": 7,
    "start_time": "2021-10-27T07:06:20.798Z"
   },
   {
    "duration": 14,
    "start_time": "2021-10-27T07:06:27.479Z"
   },
   {
    "duration": 15,
    "start_time": "2021-10-27T07:06:51.171Z"
   },
   {
    "duration": 12,
    "start_time": "2021-10-27T07:06:55.114Z"
   },
   {
    "duration": 6,
    "start_time": "2021-10-27T07:07:13.045Z"
   },
   {
    "duration": 7,
    "start_time": "2021-10-27T07:07:16.693Z"
   },
   {
    "duration": 1487,
    "start_time": "2021-10-27T07:07:31.094Z"
   },
   {
    "duration": 4,
    "start_time": "2021-10-27T07:07:32.584Z"
   },
   {
    "duration": 717,
    "start_time": "2021-10-27T07:07:32.599Z"
   },
   {
    "duration": 4,
    "start_time": "2021-10-27T07:07:33.319Z"
   },
   {
    "duration": 170,
    "start_time": "2021-10-27T07:07:33.325Z"
   },
   {
    "duration": 12,
    "start_time": "2021-10-27T07:07:33.501Z"
   },
   {
    "duration": 217,
    "start_time": "2021-10-27T07:07:33.515Z"
   },
   {
    "duration": 153,
    "start_time": "2021-10-27T07:07:33.736Z"
   },
   {
    "duration": 110,
    "start_time": "2021-10-27T07:07:33.892Z"
   },
   {
    "duration": 35,
    "start_time": "2021-10-27T07:07:34.005Z"
   },
   {
    "duration": 9,
    "start_time": "2021-10-27T07:07:34.042Z"
   },
   {
    "duration": 20,
    "start_time": "2021-10-27T07:07:34.053Z"
   },
   {
    "duration": 3,
    "start_time": "2021-10-27T07:07:34.101Z"
   },
   {
    "duration": 55,
    "start_time": "2021-10-27T07:07:34.106Z"
   },
   {
    "duration": 3,
    "start_time": "2021-10-27T07:07:34.163Z"
   },
   {
    "duration": 68,
    "start_time": "2021-10-27T07:07:34.168Z"
   },
   {
    "duration": 61,
    "start_time": "2021-10-27T07:07:34.239Z"
   },
   {
    "duration": 44,
    "start_time": "2021-10-27T07:07:34.303Z"
   },
   {
    "duration": 4,
    "start_time": "2021-10-27T07:07:34.349Z"
   },
   {
    "duration": 733,
    "start_time": "2021-10-27T07:07:34.356Z"
   },
   {
    "duration": 16,
    "start_time": "2021-10-27T07:07:35.092Z"
   },
   {
    "duration": 24,
    "start_time": "2021-10-27T07:07:35.111Z"
   },
   {
    "duration": 21,
    "start_time": "2021-10-27T07:07:35.138Z"
   },
   {
    "duration": 688,
    "start_time": "2021-10-27T07:07:35.161Z"
   },
   {
    "duration": 753,
    "start_time": "2021-10-27T07:07:35.851Z"
   },
   {
    "duration": 7,
    "start_time": "2021-10-27T07:07:36.608Z"
   },
   {
    "duration": 2342,
    "start_time": "2021-10-27T07:07:36.618Z"
   },
   {
    "duration": 2168,
    "start_time": "2021-10-27T07:07:38.962Z"
   },
   {
    "duration": 8,
    "start_time": "2021-10-27T07:07:41.132Z"
   },
   {
    "duration": 534,
    "start_time": "2021-10-27T07:07:41.142Z"
   },
   {
    "duration": -602,
    "start_time": "2021-10-27T07:07:42.280Z"
   },
   {
    "duration": -604,
    "start_time": "2021-10-27T07:07:42.284Z"
   },
   {
    "duration": -606,
    "start_time": "2021-10-27T07:07:42.287Z"
   },
   {
    "duration": -607,
    "start_time": "2021-10-27T07:07:42.289Z"
   },
   {
    "duration": -609,
    "start_time": "2021-10-27T07:07:42.292Z"
   },
   {
    "duration": -611,
    "start_time": "2021-10-27T07:07:42.295Z"
   },
   {
    "duration": 8,
    "start_time": "2021-10-27T07:08:01.775Z"
   },
   {
    "duration": 10,
    "start_time": "2021-10-27T07:08:50.269Z"
   },
   {
    "duration": 11,
    "start_time": "2021-10-27T07:08:52.645Z"
   },
   {
    "duration": 8,
    "start_time": "2021-10-27T07:09:19.688Z"
   },
   {
    "duration": 382,
    "start_time": "2021-10-27T07:09:47.173Z"
   },
   {
    "duration": 11,
    "start_time": "2021-10-27T07:10:12.807Z"
   },
   {
    "duration": 5,
    "start_time": "2021-10-27T07:10:26.178Z"
   },
   {
    "duration": 6,
    "start_time": "2021-10-27T07:10:27.361Z"
   },
   {
    "duration": 6,
    "start_time": "2021-10-27T07:10:28.146Z"
   },
   {
    "duration": 1538,
    "start_time": "2021-10-27T07:10:41.154Z"
   },
   {
    "duration": 5,
    "start_time": "2021-10-27T07:10:42.695Z"
   },
   {
    "duration": 718,
    "start_time": "2021-10-27T07:10:42.703Z"
   },
   {
    "duration": 4,
    "start_time": "2021-10-27T07:10:43.425Z"
   },
   {
    "duration": 184,
    "start_time": "2021-10-27T07:10:43.432Z"
   },
   {
    "duration": 12,
    "start_time": "2021-10-27T07:10:43.619Z"
   },
   {
    "duration": 235,
    "start_time": "2021-10-27T07:10:43.633Z"
   },
   {
    "duration": 178,
    "start_time": "2021-10-27T07:10:43.873Z"
   },
   {
    "duration": 110,
    "start_time": "2021-10-27T07:10:44.054Z"
   },
   {
    "duration": 61,
    "start_time": "2021-10-27T07:10:44.167Z"
   },
   {
    "duration": 11,
    "start_time": "2021-10-27T07:10:44.230Z"
   },
   {
    "duration": 35,
    "start_time": "2021-10-27T07:10:44.244Z"
   },
   {
    "duration": 4,
    "start_time": "2021-10-27T07:10:44.281Z"
   },
   {
    "duration": 53,
    "start_time": "2021-10-27T07:10:44.287Z"
   },
   {
    "duration": 3,
    "start_time": "2021-10-27T07:10:44.343Z"
   },
   {
    "duration": 52,
    "start_time": "2021-10-27T07:10:44.348Z"
   },
   {
    "duration": 53,
    "start_time": "2021-10-27T07:10:44.403Z"
   },
   {
    "duration": 64,
    "start_time": "2021-10-27T07:10:44.458Z"
   },
   {
    "duration": 4,
    "start_time": "2021-10-27T07:10:44.525Z"
   },
   {
    "duration": 761,
    "start_time": "2021-10-27T07:10:44.531Z"
   },
   {
    "duration": 13,
    "start_time": "2021-10-27T07:10:45.294Z"
   },
   {
    "duration": 10,
    "start_time": "2021-10-27T07:10:45.309Z"
   },
   {
    "duration": 11,
    "start_time": "2021-10-27T07:10:45.323Z"
   },
   {
    "duration": 706,
    "start_time": "2021-10-27T07:10:45.337Z"
   },
   {
    "duration": 707,
    "start_time": "2021-10-27T07:10:46.045Z"
   },
   {
    "duration": 6,
    "start_time": "2021-10-27T07:10:46.755Z"
   },
   {
    "duration": 2311,
    "start_time": "2021-10-27T07:10:46.763Z"
   },
   {
    "duration": 2225,
    "start_time": "2021-10-27T07:10:49.077Z"
   },
   {
    "duration": 8,
    "start_time": "2021-10-27T07:10:51.305Z"
   },
   {
    "duration": 517,
    "start_time": "2021-10-27T07:10:51.315Z"
   },
   {
    "duration": -584,
    "start_time": "2021-10-27T07:10:52.419Z"
   },
   {
    "duration": -588,
    "start_time": "2021-10-27T07:10:52.424Z"
   },
   {
    "duration": -591,
    "start_time": "2021-10-27T07:10:52.428Z"
   },
   {
    "duration": -591,
    "start_time": "2021-10-27T07:10:52.430Z"
   },
   {
    "duration": -592,
    "start_time": "2021-10-27T07:10:52.432Z"
   },
   {
    "duration": -594,
    "start_time": "2021-10-27T07:10:52.435Z"
   },
   {
    "duration": 8,
    "start_time": "2021-10-27T07:13:45.032Z"
   },
   {
    "duration": 8,
    "start_time": "2021-10-27T07:13:52.871Z"
   },
   {
    "duration": 8,
    "start_time": "2021-10-27T07:13:54.167Z"
   },
   {
    "duration": 1516,
    "start_time": "2021-10-27T07:14:01.984Z"
   },
   {
    "duration": 4,
    "start_time": "2021-10-27T07:14:03.506Z"
   },
   {
    "duration": 704,
    "start_time": "2021-10-27T07:14:03.512Z"
   },
   {
    "duration": 5,
    "start_time": "2021-10-27T07:14:04.220Z"
   },
   {
    "duration": 185,
    "start_time": "2021-10-27T07:14:04.228Z"
   },
   {
    "duration": 12,
    "start_time": "2021-10-27T07:14:04.416Z"
   },
   {
    "duration": 221,
    "start_time": "2021-10-27T07:14:04.431Z"
   },
   {
    "duration": 167,
    "start_time": "2021-10-27T07:14:04.658Z"
   },
   {
    "duration": 104,
    "start_time": "2021-10-27T07:14:04.828Z"
   },
   {
    "duration": 36,
    "start_time": "2021-10-27T07:14:04.935Z"
   },
   {
    "duration": 30,
    "start_time": "2021-10-27T07:14:04.974Z"
   },
   {
    "duration": 13,
    "start_time": "2021-10-27T07:14:05.007Z"
   },
   {
    "duration": 3,
    "start_time": "2021-10-27T07:14:05.022Z"
   },
   {
    "duration": 31,
    "start_time": "2021-10-27T07:14:05.027Z"
   },
   {
    "duration": 3,
    "start_time": "2021-10-27T07:14:05.100Z"
   },
   {
    "duration": 48,
    "start_time": "2021-10-27T07:14:05.105Z"
   },
   {
    "duration": 63,
    "start_time": "2021-10-27T07:14:05.155Z"
   },
   {
    "duration": 43,
    "start_time": "2021-10-27T07:14:05.220Z"
   },
   {
    "duration": 3,
    "start_time": "2021-10-27T07:14:05.266Z"
   },
   {
    "duration": 752,
    "start_time": "2021-10-27T07:14:05.272Z"
   },
   {
    "duration": 5,
    "start_time": "2021-10-27T07:14:06.027Z"
   },
   {
    "duration": 37,
    "start_time": "2021-10-27T07:14:06.035Z"
   },
   {
    "duration": 29,
    "start_time": "2021-10-27T07:14:06.075Z"
   },
   {
    "duration": 683,
    "start_time": "2021-10-27T07:14:06.106Z"
   },
   {
    "duration": 712,
    "start_time": "2021-10-27T07:14:06.792Z"
   },
   {
    "duration": 6,
    "start_time": "2021-10-27T07:14:07.510Z"
   },
   {
    "duration": 2408,
    "start_time": "2021-10-27T07:14:07.519Z"
   },
   {
    "duration": 2328,
    "start_time": "2021-10-27T07:14:09.929Z"
   },
   {
    "duration": 8,
    "start_time": "2021-10-27T07:14:12.259Z"
   },
   {
    "duration": 525,
    "start_time": "2021-10-27T07:14:12.269Z"
   },
   {
    "duration": -619,
    "start_time": "2021-10-27T07:14:13.415Z"
   },
   {
    "duration": -622,
    "start_time": "2021-10-27T07:14:13.420Z"
   },
   {
    "duration": -627,
    "start_time": "2021-10-27T07:14:13.426Z"
   },
   {
    "duration": -629,
    "start_time": "2021-10-27T07:14:13.430Z"
   },
   {
    "duration": -631,
    "start_time": "2021-10-27T07:14:13.433Z"
   },
   {
    "duration": -633,
    "start_time": "2021-10-27T07:14:13.436Z"
   },
   {
    "duration": 30,
    "start_time": "2021-10-27T07:22:11.449Z"
   },
   {
    "duration": 1565,
    "start_time": "2021-10-27T07:24:02.518Z"
   },
   {
    "duration": 3,
    "start_time": "2021-10-27T07:24:04.086Z"
   },
   {
    "duration": 723,
    "start_time": "2021-10-27T07:24:04.092Z"
   },
   {
    "duration": 5,
    "start_time": "2021-10-27T07:24:04.818Z"
   },
   {
    "duration": 180,
    "start_time": "2021-10-27T07:24:04.825Z"
   },
   {
    "duration": 12,
    "start_time": "2021-10-27T07:24:05.007Z"
   },
   {
    "duration": 218,
    "start_time": "2021-10-27T07:24:05.022Z"
   },
   {
    "duration": 153,
    "start_time": "2021-10-27T07:24:05.244Z"
   },
   {
    "duration": 122,
    "start_time": "2021-10-27T07:24:05.399Z"
   },
   {
    "duration": 37,
    "start_time": "2021-10-27T07:24:05.524Z"
   },
   {
    "duration": 10,
    "start_time": "2021-10-27T07:24:05.564Z"
   },
   {
    "duration": 15,
    "start_time": "2021-10-27T07:24:05.600Z"
   },
   {
    "duration": 3,
    "start_time": "2021-10-27T07:24:05.618Z"
   },
   {
    "duration": 31,
    "start_time": "2021-10-27T07:24:05.624Z"
   },
   {
    "duration": 3,
    "start_time": "2021-10-27T07:24:05.659Z"
   },
   {
    "duration": 74,
    "start_time": "2021-10-27T07:24:05.664Z"
   },
   {
    "duration": 79,
    "start_time": "2021-10-27T07:24:05.741Z"
   },
   {
    "duration": 42,
    "start_time": "2021-10-27T07:24:05.822Z"
   },
   {
    "duration": 4,
    "start_time": "2021-10-27T07:24:05.866Z"
   },
   {
    "duration": 730,
    "start_time": "2021-10-27T07:24:05.872Z"
   },
   {
    "duration": 668,
    "start_time": "2021-10-27T07:24:06.605Z"
   },
   {
    "duration": 787,
    "start_time": "2021-10-27T07:24:07.275Z"
   },
   {
    "duration": 7,
    "start_time": "2021-10-27T07:24:08.067Z"
   },
   {
    "duration": 2248,
    "start_time": "2021-10-27T07:24:08.076Z"
   },
   {
    "duration": 2196,
    "start_time": "2021-10-27T07:24:10.326Z"
   },
   {
    "duration": 9,
    "start_time": "2021-10-27T07:24:12.524Z"
   },
   {
    "duration": 823,
    "start_time": "2021-10-27T07:24:12.535Z"
   },
   {
    "duration": -592,
    "start_time": "2021-10-27T07:24:13.953Z"
   },
   {
    "duration": -595,
    "start_time": "2021-10-27T07:24:13.958Z"
   },
   {
    "duration": -596,
    "start_time": "2021-10-27T07:24:13.960Z"
   },
   {
    "duration": -597,
    "start_time": "2021-10-27T07:24:13.963Z"
   },
   {
    "duration": -598,
    "start_time": "2021-10-27T07:24:13.965Z"
   },
   {
    "duration": -598,
    "start_time": "2021-10-27T07:24:13.967Z"
   },
   {
    "duration": 9026,
    "start_time": "2021-10-27T07:27:08.297Z"
   },
   {
    "duration": 692,
    "start_time": "2021-10-27T07:27:22.911Z"
   },
   {
    "duration": 640,
    "start_time": "2021-10-27T07:27:41.026Z"
   },
   {
    "duration": 36,
    "start_time": "2021-10-27T07:35:43.791Z"
   },
   {
    "duration": 32,
    "start_time": "2021-10-27T07:36:29.219Z"
   },
   {
    "duration": 849,
    "start_time": "2021-10-27T07:38:20.137Z"
   },
   {
    "duration": 93,
    "start_time": "2021-10-27T07:38:50.789Z"
   },
   {
    "duration": 96,
    "start_time": "2021-10-27T07:39:37.675Z"
   },
   {
    "duration": 727,
    "start_time": "2021-10-27T07:40:02.742Z"
   },
   {
    "duration": 9460,
    "start_time": "2021-10-27T07:40:41.826Z"
   },
   {
    "duration": 1506,
    "start_time": "2021-10-27T07:40:57.294Z"
   },
   {
    "duration": 880,
    "start_time": "2021-10-27T07:41:35.099Z"
   },
   {
    "duration": 38,
    "start_time": "2021-10-27T07:42:23.976Z"
   },
   {
    "duration": 50,
    "start_time": "2021-10-27T07:44:53.514Z"
   },
   {
    "duration": 71,
    "start_time": "2021-10-27T07:45:03.919Z"
   },
   {
    "duration": 5,
    "start_time": "2021-10-27T07:54:57.450Z"
   },
   {
    "duration": 1872,
    "start_time": "2021-10-27T07:54:58.639Z"
   },
   {
    "duration": 9,
    "start_time": "2021-10-27T07:55:21.404Z"
   },
   {
    "duration": 8848,
    "start_time": "2021-10-27T07:55:22.691Z"
   },
   {
    "duration": 132,
    "start_time": "2021-10-27T07:57:03.363Z"
   },
   {
    "duration": 5,
    "start_time": "2021-10-27T07:57:08.719Z"
   },
   {
    "duration": 1949,
    "start_time": "2021-10-27T07:57:09.776Z"
   },
   {
    "duration": 5,
    "start_time": "2021-10-27T07:58:50.086Z"
   },
   {
    "duration": 8652,
    "start_time": "2021-10-27T07:58:51.903Z"
   },
   {
    "duration": 6,
    "start_time": "2021-10-27T08:01:55.529Z"
   },
   {
    "duration": 2347,
    "start_time": "2021-10-27T08:01:59.796Z"
   },
   {
    "duration": 5,
    "start_time": "2021-10-27T08:09:22.675Z"
   },
   {
    "duration": 1437,
    "start_time": "2021-10-27T08:09:23.726Z"
   },
   {
    "duration": 6,
    "start_time": "2021-10-27T08:12:24.388Z"
   },
   {
    "duration": 37725,
    "start_time": "2021-10-27T08:12:25.431Z"
   },
   {
    "duration": 1006,
    "start_time": "2021-10-27T08:13:50.212Z"
   },
   {
    "duration": 2002,
    "start_time": "2021-10-27T08:14:51.105Z"
   },
   {
    "duration": 6,
    "start_time": "2021-10-27T08:14:53.111Z"
   },
   {
    "duration": 935,
    "start_time": "2021-10-27T08:14:53.121Z"
   },
   {
    "duration": 5,
    "start_time": "2021-10-27T08:14:54.059Z"
   },
   {
    "duration": 195,
    "start_time": "2021-10-27T08:14:54.067Z"
   },
   {
    "duration": 28,
    "start_time": "2021-10-27T08:14:54.282Z"
   },
   {
    "duration": 282,
    "start_time": "2021-10-27T08:14:54.314Z"
   },
   {
    "duration": 162,
    "start_time": "2021-10-27T08:14:54.600Z"
   },
   {
    "duration": 115,
    "start_time": "2021-10-27T08:14:54.765Z"
   },
   {
    "duration": 56,
    "start_time": "2021-10-27T08:14:54.883Z"
   },
   {
    "duration": 9,
    "start_time": "2021-10-27T08:14:54.942Z"
   },
   {
    "duration": 13,
    "start_time": "2021-10-27T08:14:54.954Z"
   },
   {
    "duration": 32,
    "start_time": "2021-10-27T08:14:54.970Z"
   },
   {
    "duration": 41,
    "start_time": "2021-10-27T08:14:55.008Z"
   },
   {
    "duration": 3,
    "start_time": "2021-10-27T08:14:55.051Z"
   },
   {
    "duration": 65,
    "start_time": "2021-10-27T08:14:55.057Z"
   },
   {
    "duration": 46,
    "start_time": "2021-10-27T08:14:55.126Z"
   },
   {
    "duration": 68,
    "start_time": "2021-10-27T08:14:55.175Z"
   },
   {
    "duration": 55,
    "start_time": "2021-10-27T08:14:55.246Z"
   },
   {
    "duration": 74,
    "start_time": "2021-10-27T08:14:55.305Z"
   },
   {
    "duration": 6,
    "start_time": "2021-10-27T08:14:55.402Z"
   },
   {
    "duration": 150,
    "start_time": "2021-10-27T08:14:55.411Z"
   },
   {
    "duration": 5,
    "start_time": "2021-10-27T08:14:55.566Z"
   },
   {
    "duration": 9314,
    "start_time": "2021-10-27T08:14:55.574Z"
   },
   {
    "duration": -600,
    "start_time": "2021-10-27T08:15:05.491Z"
   },
   {
    "duration": -602,
    "start_time": "2021-10-27T08:15:05.495Z"
   },
   {
    "duration": -603,
    "start_time": "2021-10-27T08:15:05.498Z"
   },
   {
    "duration": -606,
    "start_time": "2021-10-27T08:15:05.503Z"
   },
   {
    "duration": -608,
    "start_time": "2021-10-27T08:15:05.508Z"
   },
   {
    "duration": -610,
    "start_time": "2021-10-27T08:15:05.511Z"
   },
   {
    "duration": -612,
    "start_time": "2021-10-27T08:15:05.515Z"
   },
   {
    "duration": -614,
    "start_time": "2021-10-27T08:15:05.519Z"
   },
   {
    "duration": -614,
    "start_time": "2021-10-27T08:15:05.521Z"
   },
   {
    "duration": -616,
    "start_time": "2021-10-27T08:15:05.524Z"
   },
   {
    "duration": -616,
    "start_time": "2021-10-27T08:15:05.526Z"
   },
   {
    "duration": -615,
    "start_time": "2021-10-27T08:15:05.528Z"
   },
   {
    "duration": -615,
    "start_time": "2021-10-27T08:15:05.530Z"
   },
   {
    "duration": 38779,
    "start_time": "2021-10-27T08:15:56.959Z"
   },
   {
    "duration": 36078,
    "start_time": "2021-10-27T08:16:56.850Z"
   },
   {
    "duration": 5,
    "start_time": "2021-10-27T08:17:47.168Z"
   },
   {
    "duration": 5,
    "start_time": "2021-10-27T08:17:57.552Z"
   },
   {
    "duration": 1636,
    "start_time": "2021-10-27T08:18:07.740Z"
   },
   {
    "duration": 406,
    "start_time": "2021-10-27T08:18:48.479Z"
   },
   {
    "duration": 7742,
    "start_time": "2021-10-27T08:19:06.079Z"
   },
   {
    "duration": 784,
    "start_time": "2021-10-27T08:19:55.806Z"
   },
   {
    "duration": 785,
    "start_time": "2021-10-27T08:20:46.171Z"
   },
   {
    "duration": 1092,
    "start_time": "2021-10-27T08:21:35.372Z"
   },
   {
    "duration": 32913,
    "start_time": "2021-10-27T08:25:28.316Z"
   },
   {
    "duration": 8,
    "start_time": "2021-10-27T08:28:46.998Z"
   },
   {
    "duration": 40954,
    "start_time": "2021-10-27T08:28:48.007Z"
   },
   {
    "duration": 4,
    "start_time": "2021-10-27T08:41:51.595Z"
   },
   {
    "duration": 1405,
    "start_time": "2021-10-27T08:41:54.078Z"
   },
   {
    "duration": 5,
    "start_time": "2021-10-27T08:43:21.246Z"
   },
   {
    "duration": 1542,
    "start_time": "2021-10-27T08:43:24.613Z"
   },
   {
    "duration": 5,
    "start_time": "2021-10-27T08:43:45.778Z"
   },
   {
    "duration": 1448,
    "start_time": "2021-10-27T08:43:46.618Z"
   },
   {
    "duration": 5,
    "start_time": "2021-10-27T08:45:25.647Z"
   },
   {
    "duration": 3127,
    "start_time": "2021-10-27T08:45:26.775Z"
   },
   {
    "duration": 1209,
    "start_time": "2021-10-27T08:45:44.406Z"
   },
   {
    "duration": 1247,
    "start_time": "2021-10-27T08:46:04.074Z"
   },
   {
    "duration": 2639,
    "start_time": "2021-10-27T08:53:27.880Z"
   },
   {
    "duration": 6,
    "start_time": "2021-10-27T08:53:46.247Z"
   },
   {
    "duration": 1581,
    "start_time": "2021-10-27T08:53:47.391Z"
   },
   {
    "duration": 4,
    "start_time": "2021-10-27T08:54:05.742Z"
   },
   {
    "duration": 871,
    "start_time": "2021-10-27T08:54:06.638Z"
   },
   {
    "duration": 776,
    "start_time": "2021-10-27T08:58:37.585Z"
   },
   {
    "duration": 1216,
    "start_time": "2021-10-27T09:00:44.002Z"
   },
   {
    "duration": 4782,
    "start_time": "2021-10-27T09:02:18.708Z"
   },
   {
    "duration": 1654,
    "start_time": "2021-10-27T09:03:55.496Z"
   },
   {
    "duration": 1715,
    "start_time": "2021-10-27T09:05:20.462Z"
   },
   {
    "duration": 1615,
    "start_time": "2021-10-27T09:05:42.285Z"
   },
   {
    "duration": 1813,
    "start_time": "2021-10-27T09:05:50.968Z"
   },
   {
    "duration": 1467,
    "start_time": "2021-10-27T09:06:11.163Z"
   },
   {
    "duration": 1605,
    "start_time": "2021-10-27T09:06:22.710Z"
   },
   {
    "duration": 1831,
    "start_time": "2021-10-27T09:06:32.096Z"
   },
   {
    "duration": 1806,
    "start_time": "2021-10-27T09:07:05.756Z"
   },
   {
    "duration": 1589,
    "start_time": "2021-10-27T09:07:18.499Z"
   },
   {
    "duration": 1802,
    "start_time": "2021-10-27T09:07:38.503Z"
   },
   {
    "duration": 6083,
    "start_time": "2021-10-27T09:08:12.772Z"
   },
   {
    "duration": 2016,
    "start_time": "2021-10-27T09:08:27.628Z"
   },
   {
    "duration": 1791,
    "start_time": "2021-10-27T09:08:40.903Z"
   },
   {
    "duration": 1850,
    "start_time": "2021-10-27T09:10:30.134Z"
   },
   {
    "duration": 2190,
    "start_time": "2021-10-27T09:11:04.073Z"
   },
   {
    "duration": 1916,
    "start_time": "2021-10-27T09:11:22.316Z"
   },
   {
    "duration": 1792,
    "start_time": "2021-10-27T09:11:36.493Z"
   },
   {
    "duration": 2621,
    "start_time": "2021-10-27T09:11:49.922Z"
   },
   {
    "duration": 1682,
    "start_time": "2021-10-27T09:12:12.701Z"
   },
   {
    "duration": 1669,
    "start_time": "2021-10-27T09:12:21.936Z"
   },
   {
    "duration": 1654,
    "start_time": "2021-10-27T09:14:47.818Z"
   },
   {
    "duration": 4,
    "start_time": "2021-10-27T09:14:49.474Z"
   },
   {
    "duration": 739,
    "start_time": "2021-10-27T09:14:49.481Z"
   },
   {
    "duration": 5,
    "start_time": "2021-10-27T09:14:50.223Z"
   },
   {
    "duration": 180,
    "start_time": "2021-10-27T09:14:50.230Z"
   },
   {
    "duration": 12,
    "start_time": "2021-10-27T09:14:50.412Z"
   },
   {
    "duration": 214,
    "start_time": "2021-10-27T09:14:50.426Z"
   },
   {
    "duration": 162,
    "start_time": "2021-10-27T09:14:50.644Z"
   },
   {
    "duration": 121,
    "start_time": "2021-10-27T09:14:50.809Z"
   },
   {
    "duration": 37,
    "start_time": "2021-10-27T09:14:50.933Z"
   },
   {
    "duration": 30,
    "start_time": "2021-10-27T09:14:50.972Z"
   },
   {
    "duration": 13,
    "start_time": "2021-10-27T09:14:51.004Z"
   },
   {
    "duration": 23,
    "start_time": "2021-10-27T09:14:51.020Z"
   },
   {
    "duration": 49,
    "start_time": "2021-10-27T09:14:51.045Z"
   },
   {
    "duration": 3,
    "start_time": "2021-10-27T09:14:51.097Z"
   },
   {
    "duration": 58,
    "start_time": "2021-10-27T09:14:51.103Z"
   },
   {
    "duration": 51,
    "start_time": "2021-10-27T09:14:51.163Z"
   },
   {
    "duration": 43,
    "start_time": "2021-10-27T09:14:51.217Z"
   },
   {
    "duration": 57,
    "start_time": "2021-10-27T09:14:51.262Z"
   },
   {
    "duration": 97,
    "start_time": "2021-10-27T09:14:51.321Z"
   },
   {
    "duration": 5,
    "start_time": "2021-10-27T09:14:51.420Z"
   },
   {
    "duration": 108,
    "start_time": "2021-10-27T09:14:51.427Z"
   },
   {
    "duration": 1708,
    "start_time": "2021-10-27T09:14:51.540Z"
   },
   {
    "duration": 8,
    "start_time": "2021-10-27T09:14:53.251Z"
   },
   {
    "duration": 517,
    "start_time": "2021-10-27T09:14:53.261Z"
   },
   {
    "duration": -632,
    "start_time": "2021-10-27T09:14:54.413Z"
   },
   {
    "duration": -643,
    "start_time": "2021-10-27T09:14:54.425Z"
   },
   {
    "duration": -650,
    "start_time": "2021-10-27T09:14:54.433Z"
   },
   {
    "duration": -657,
    "start_time": "2021-10-27T09:14:54.442Z"
   },
   {
    "duration": -664,
    "start_time": "2021-10-27T09:14:54.450Z"
   },
   {
    "duration": -669,
    "start_time": "2021-10-27T09:14:54.456Z"
   },
   {
    "duration": -678,
    "start_time": "2021-10-27T09:14:54.466Z"
   },
   {
    "duration": -683,
    "start_time": "2021-10-27T09:14:54.473Z"
   },
   {
    "duration": -689,
    "start_time": "2021-10-27T09:14:54.480Z"
   },
   {
    "duration": 44,
    "start_time": "2021-10-27T09:23:30.477Z"
   },
   {
    "duration": 53,
    "start_time": "2021-10-27T09:24:52.983Z"
   },
   {
    "duration": 574,
    "start_time": "2021-10-27T09:26:10.353Z"
   },
   {
    "duration": 1497,
    "start_time": "2021-10-27T09:27:56.984Z"
   },
   {
    "duration": 91,
    "start_time": "2021-10-27T09:28:43.934Z"
   },
   {
    "duration": 94,
    "start_time": "2021-10-27T09:28:58.047Z"
   },
   {
    "duration": 96,
    "start_time": "2021-10-27T09:29:04.220Z"
   },
   {
    "duration": 80,
    "start_time": "2021-10-27T09:30:54.479Z"
   },
   {
    "duration": 78,
    "start_time": "2021-10-27T09:35:41.024Z"
   },
   {
    "duration": 4,
    "start_time": "2021-10-27T09:39:04.756Z"
   },
   {
    "duration": 394,
    "start_time": "2021-10-27T09:39:09.964Z"
   },
   {
    "duration": 4,
    "start_time": "2021-10-27T09:40:30.940Z"
   },
   {
    "duration": 429,
    "start_time": "2021-10-27T09:40:32.076Z"
   },
   {
    "duration": 404,
    "start_time": "2021-10-27T09:40:50.138Z"
   },
   {
    "duration": 4,
    "start_time": "2021-10-27T09:44:18.332Z"
   },
   {
    "duration": 1201,
    "start_time": "2021-10-27T09:44:19.394Z"
   },
   {
    "duration": 5,
    "start_time": "2021-10-27T09:44:54.407Z"
   },
   {
    "duration": 486,
    "start_time": "2021-10-27T09:44:55.464Z"
   },
   {
    "duration": 376,
    "start_time": "2021-10-27T09:47:44.491Z"
   },
   {
    "duration": 13744,
    "start_time": "2021-10-27T09:47:59.239Z"
   },
   {
    "duration": 18,
    "start_time": "2021-10-27T09:48:25.732Z"
   },
   {
    "duration": 27,
    "start_time": "2021-10-27T09:49:23.548Z"
   },
   {
    "duration": 28,
    "start_time": "2021-10-27T09:49:25.186Z"
   },
   {
    "duration": 7,
    "start_time": "2021-10-27T09:58:50.393Z"
   },
   {
    "duration": 387,
    "start_time": "2021-10-27T09:58:55.966Z"
   },
   {
    "duration": 1502,
    "start_time": "2021-10-27T09:59:07.078Z"
   },
   {
    "duration": 4,
    "start_time": "2021-10-27T09:59:08.582Z"
   },
   {
    "duration": 753,
    "start_time": "2021-10-27T09:59:08.590Z"
   },
   {
    "duration": 4,
    "start_time": "2021-10-27T09:59:09.346Z"
   },
   {
    "duration": 167,
    "start_time": "2021-10-27T09:59:09.353Z"
   },
   {
    "duration": 11,
    "start_time": "2021-10-27T09:59:09.523Z"
   },
   {
    "duration": 209,
    "start_time": "2021-10-27T09:59:09.537Z"
   },
   {
    "duration": 149,
    "start_time": "2021-10-27T09:59:09.750Z"
   },
   {
    "duration": 124,
    "start_time": "2021-10-27T09:59:09.902Z"
   },
   {
    "duration": 38,
    "start_time": "2021-10-27T09:59:10.029Z"
   },
   {
    "duration": 31,
    "start_time": "2021-10-27T09:59:10.071Z"
   },
   {
    "duration": 16,
    "start_time": "2021-10-27T09:59:10.105Z"
   },
   {
    "duration": 4,
    "start_time": "2021-10-27T09:59:10.124Z"
   },
   {
    "duration": 78,
    "start_time": "2021-10-27T09:59:10.131Z"
   },
   {
    "duration": 2,
    "start_time": "2021-10-27T09:59:10.212Z"
   },
   {
    "duration": 45,
    "start_time": "2021-10-27T09:59:10.217Z"
   },
   {
    "duration": 65,
    "start_time": "2021-10-27T09:59:10.264Z"
   },
   {
    "duration": 45,
    "start_time": "2021-10-27T09:59:10.331Z"
   },
   {
    "duration": 33,
    "start_time": "2021-10-27T09:59:10.400Z"
   },
   {
    "duration": 89,
    "start_time": "2021-10-27T09:59:10.436Z"
   },
   {
    "duration": 4,
    "start_time": "2021-10-27T09:59:10.527Z"
   },
   {
    "duration": 113,
    "start_time": "2021-10-27T09:59:10.533Z"
   },
   {
    "duration": 1692,
    "start_time": "2021-10-27T09:59:10.650Z"
   },
   {
    "duration": 8,
    "start_time": "2021-10-27T09:59:12.345Z"
   },
   {
    "duration": 98,
    "start_time": "2021-10-27T09:59:12.355Z"
   },
   {
    "duration": 48,
    "start_time": "2021-10-27T09:59:12.456Z"
   },
   {
    "duration": 7,
    "start_time": "2021-10-27T09:59:12.507Z"
   },
   {
    "duration": 547,
    "start_time": "2021-10-27T09:59:12.516Z"
   },
   {
    "duration": -469,
    "start_time": "2021-10-27T09:59:13.534Z"
   },
   {
    "duration": -471,
    "start_time": "2021-10-27T09:59:13.538Z"
   },
   {
    "duration": -473,
    "start_time": "2021-10-27T09:59:13.541Z"
   },
   {
    "duration": 5639,
    "start_time": "2021-10-27T09:59:26.769Z"
   },
   {
    "duration": 14,
    "start_time": "2021-10-27T10:04:37.263Z"
   },
   {
    "duration": 1514,
    "start_time": "2021-10-27T10:04:51.976Z"
   },
   {
    "duration": 4,
    "start_time": "2021-10-27T10:04:53.492Z"
   },
   {
    "duration": 739,
    "start_time": "2021-10-27T10:04:53.500Z"
   },
   {
    "duration": 5,
    "start_time": "2021-10-27T10:04:54.242Z"
   },
   {
    "duration": 176,
    "start_time": "2021-10-27T10:04:54.250Z"
   },
   {
    "duration": 12,
    "start_time": "2021-10-27T10:04:54.429Z"
   },
   {
    "duration": 221,
    "start_time": "2021-10-27T10:04:54.443Z"
   },
   {
    "duration": 144,
    "start_time": "2021-10-27T10:04:54.668Z"
   },
   {
    "duration": 113,
    "start_time": "2021-10-27T10:04:54.815Z"
   },
   {
    "duration": 37,
    "start_time": "2021-10-27T10:04:54.930Z"
   },
   {
    "duration": 31,
    "start_time": "2021-10-27T10:04:54.970Z"
   },
   {
    "duration": 14,
    "start_time": "2021-10-27T10:04:55.003Z"
   },
   {
    "duration": 3,
    "start_time": "2021-10-27T10:04:55.019Z"
   },
   {
    "duration": 32,
    "start_time": "2021-10-27T10:04:55.024Z"
   },
   {
    "duration": 3,
    "start_time": "2021-10-27T10:04:55.059Z"
   },
   {
    "duration": 72,
    "start_time": "2021-10-27T10:04:55.064Z"
   },
   {
    "duration": 75,
    "start_time": "2021-10-27T10:04:55.139Z"
   },
   {
    "duration": 44,
    "start_time": "2021-10-27T10:04:55.216Z"
   },
   {
    "duration": 56,
    "start_time": "2021-10-27T10:04:55.263Z"
   },
   {
    "duration": 89,
    "start_time": "2021-10-27T10:04:55.322Z"
   },
   {
    "duration": 6,
    "start_time": "2021-10-27T10:04:55.414Z"
   },
   {
    "duration": 117,
    "start_time": "2021-10-27T10:04:55.423Z"
   },
   {
    "duration": 1695,
    "start_time": "2021-10-27T10:04:55.547Z"
   },
   {
    "duration": 8,
    "start_time": "2021-10-27T10:04:57.245Z"
   },
   {
    "duration": 90,
    "start_time": "2021-10-27T10:04:57.255Z"
   },
   {
    "duration": 14,
    "start_time": "2021-10-27T10:04:57.347Z"
   },
   {
    "duration": 55,
    "start_time": "2021-10-27T10:04:57.364Z"
   },
   {
    "duration": 8,
    "start_time": "2021-10-27T10:04:57.422Z"
   },
   {
    "duration": 5713,
    "start_time": "2021-10-27T10:04:57.433Z"
   },
   {
    "duration": 524,
    "start_time": "2021-10-27T10:05:03.148Z"
   },
   {
    "duration": -449,
    "start_time": "2021-10-27T10:05:04.123Z"
   },
   {
    "duration": -452,
    "start_time": "2021-10-27T10:05:04.128Z"
   },
   {
    "duration": 14,
    "start_time": "2021-10-27T10:05:33.574Z"
   },
   {
    "duration": 38,
    "start_time": "2021-10-27T10:08:17.820Z"
   },
   {
    "duration": 14,
    "start_time": "2021-10-27T10:08:30.827Z"
   },
   {
    "duration": 19,
    "start_time": "2021-10-27T10:08:58.124Z"
   },
   {
    "duration": 19,
    "start_time": "2021-10-27T10:09:02.292Z"
   },
   {
    "duration": 19,
    "start_time": "2021-10-27T10:09:14.608Z"
   },
   {
    "duration": 452,
    "start_time": "2021-10-27T10:14:14.451Z"
   },
   {
    "duration": 418,
    "start_time": "2021-10-27T10:15:31.835Z"
   },
   {
    "duration": 396,
    "start_time": "2021-10-27T10:16:25.521Z"
   },
   {
    "duration": 417,
    "start_time": "2021-10-27T10:18:22.291Z"
   },
   {
    "duration": 10,
    "start_time": "2021-10-27T10:19:02.044Z"
   },
   {
    "duration": 405,
    "start_time": "2021-10-27T10:19:56.402Z"
   },
   {
    "duration": 416,
    "start_time": "2021-10-27T10:20:04.563Z"
   },
   {
    "duration": 413,
    "start_time": "2021-10-27T10:20:25.061Z"
   },
   {
    "duration": 129,
    "start_time": "2021-10-27T10:21:09.315Z"
   },
   {
    "duration": 6,
    "start_time": "2021-10-27T10:21:12.237Z"
   },
   {
    "duration": 9,
    "start_time": "2021-10-27T10:21:30.565Z"
   },
   {
    "duration": 7,
    "start_time": "2021-10-27T10:21:48.815Z"
   },
   {
    "duration": 10,
    "start_time": "2021-10-27T10:22:04.331Z"
   },
   {
    "duration": 6,
    "start_time": "2021-10-27T10:22:05.972Z"
   },
   {
    "duration": 440,
    "start_time": "2021-10-27T10:22:24.327Z"
   },
   {
    "duration": 386,
    "start_time": "2021-10-27T10:23:16.669Z"
   },
   {
    "duration": 392,
    "start_time": "2021-10-27T10:24:15.109Z"
   },
   {
    "duration": 1047,
    "start_time": "2021-10-27T10:24:33.560Z"
   },
   {
    "duration": 10,
    "start_time": "2021-10-27T10:25:27.462Z"
   },
   {
    "duration": 21,
    "start_time": "2021-10-27T10:25:41.888Z"
   },
   {
    "duration": 10,
    "start_time": "2021-10-27T10:26:02.003Z"
   },
   {
    "duration": 445,
    "start_time": "2021-10-27T10:26:18.181Z"
   },
   {
    "duration": 382,
    "start_time": "2021-10-27T10:27:43.081Z"
   },
   {
    "duration": 66,
    "start_time": "2021-10-27T10:28:36.160Z"
   },
   {
    "duration": 13,
    "start_time": "2021-10-27T10:30:09.269Z"
   },
   {
    "duration": 1502,
    "start_time": "2021-10-27T10:30:43.937Z"
   },
   {
    "duration": 4,
    "start_time": "2021-10-27T10:30:45.442Z"
   },
   {
    "duration": 729,
    "start_time": "2021-10-27T10:30:45.449Z"
   },
   {
    "duration": 5,
    "start_time": "2021-10-27T10:30:46.182Z"
   },
   {
    "duration": 161,
    "start_time": "2021-10-27T10:30:46.190Z"
   },
   {
    "duration": 12,
    "start_time": "2021-10-27T10:30:46.353Z"
   },
   {
    "duration": 226,
    "start_time": "2021-10-27T10:30:46.368Z"
   },
   {
    "duration": 150,
    "start_time": "2021-10-27T10:30:46.601Z"
   },
   {
    "duration": 111,
    "start_time": "2021-10-27T10:30:46.754Z"
   },
   {
    "duration": 50,
    "start_time": "2021-10-27T10:30:46.868Z"
   },
   {
    "duration": 11,
    "start_time": "2021-10-27T10:30:46.921Z"
   },
   {
    "duration": 12,
    "start_time": "2021-10-27T10:30:46.934Z"
   },
   {
    "duration": 3,
    "start_time": "2021-10-27T10:30:46.949Z"
   },
   {
    "duration": 71,
    "start_time": "2021-10-27T10:30:46.955Z"
   },
   {
    "duration": 3,
    "start_time": "2021-10-27T10:30:47.029Z"
   },
   {
    "duration": 44,
    "start_time": "2021-10-27T10:30:47.034Z"
   },
   {
    "duration": 64,
    "start_time": "2021-10-27T10:30:47.081Z"
   },
   {
    "duration": 71,
    "start_time": "2021-10-27T10:30:47.148Z"
   },
   {
    "duration": 31,
    "start_time": "2021-10-27T10:30:47.222Z"
   },
   {
    "duration": 96,
    "start_time": "2021-10-27T10:30:47.255Z"
   },
   {
    "duration": 3,
    "start_time": "2021-10-27T10:30:47.353Z"
   },
   {
    "duration": 112,
    "start_time": "2021-10-27T10:30:47.359Z"
   },
   {
    "duration": 1717,
    "start_time": "2021-10-27T10:30:47.483Z"
   },
   {
    "duration": 8,
    "start_time": "2021-10-27T10:30:49.203Z"
   },
   {
    "duration": 105,
    "start_time": "2021-10-27T10:30:49.214Z"
   },
   {
    "duration": 14,
    "start_time": "2021-10-27T10:30:49.322Z"
   },
   {
    "duration": 92,
    "start_time": "2021-10-27T10:30:49.338Z"
   },
   {
    "duration": 541,
    "start_time": "2021-10-27T10:30:49.433Z"
   },
   {
    "duration": -435,
    "start_time": "2021-10-27T10:30:50.411Z"
   },
   {
    "duration": -436,
    "start_time": "2021-10-27T10:30:50.414Z"
   },
   {
    "duration": -437,
    "start_time": "2021-10-27T10:30:50.417Z"
   },
   {
    "duration": -438,
    "start_time": "2021-10-27T10:30:50.420Z"
   },
   {
    "duration": -439,
    "start_time": "2021-10-27T10:30:50.422Z"
   },
   {
    "duration": -439,
    "start_time": "2021-10-27T10:30:50.424Z"
   },
   {
    "duration": 75,
    "start_time": "2021-10-27T10:31:22.922Z"
   },
   {
    "duration": 23,
    "start_time": "2021-10-27T10:33:49.557Z"
   },
   {
    "duration": 2773,
    "start_time": "2021-10-27T10:34:53.178Z"
   },
   {
    "duration": 60,
    "start_time": "2021-10-27T10:37:26.789Z"
   },
   {
    "duration": 49,
    "start_time": "2021-10-27T10:38:59.126Z"
   },
   {
    "duration": 130,
    "start_time": "2021-10-27T10:43:08.552Z"
   },
   {
    "duration": 30,
    "start_time": "2021-10-27T10:45:17.716Z"
   },
   {
    "duration": 1552,
    "start_time": "2021-10-27T10:46:07.716Z"
   },
   {
    "duration": 1880,
    "start_time": "2021-10-27T10:48:31.554Z"
   },
   {
    "duration": 126,
    "start_time": "2021-10-27T10:49:30.642Z"
   },
   {
    "duration": 21,
    "start_time": "2021-10-27T10:49:36.484Z"
   },
   {
    "duration": 1584,
    "start_time": "2021-10-27T10:50:02.308Z"
   },
   {
    "duration": 22,
    "start_time": "2021-10-27T10:50:18.225Z"
   },
   {
    "duration": 1688,
    "start_time": "2021-10-27T10:50:47.433Z"
   },
   {
    "duration": 22,
    "start_time": "2021-10-27T10:51:12.450Z"
   },
   {
    "duration": 19,
    "start_time": "2021-10-27T10:52:53.008Z"
   },
   {
    "duration": 22,
    "start_time": "2021-10-27T10:53:39.116Z"
   },
   {
    "duration": 19,
    "start_time": "2021-10-27T10:55:31.993Z"
   },
   {
    "duration": 19,
    "start_time": "2021-10-27T10:55:51.355Z"
   },
   {
    "duration": 15,
    "start_time": "2021-10-27T10:56:12.791Z"
   },
   {
    "duration": 19,
    "start_time": "2021-10-27T10:56:15.677Z"
   },
   {
    "duration": 19,
    "start_time": "2021-10-27T10:56:46.627Z"
   },
   {
    "duration": 2630,
    "start_time": "2021-10-27T11:01:34.148Z"
   },
   {
    "duration": 423,
    "start_time": "2021-10-27T11:02:24.664Z"
   },
   {
    "duration": 26,
    "start_time": "2021-10-27T11:02:39.321Z"
   },
   {
    "duration": 15,
    "start_time": "2021-10-27T11:03:05.478Z"
   },
   {
    "duration": 11,
    "start_time": "2021-10-27T11:03:21.776Z"
   },
   {
    "duration": 11,
    "start_time": "2021-10-27T11:03:57.566Z"
   },
   {
    "duration": 12,
    "start_time": "2021-10-27T11:04:08.294Z"
   },
   {
    "duration": 8,
    "start_time": "2021-10-27T11:05:07.383Z"
   },
   {
    "duration": 1529,
    "start_time": "2021-10-27T11:05:16.665Z"
   },
   {
    "duration": 4,
    "start_time": "2021-10-27T11:05:18.197Z"
   },
   {
    "duration": 736,
    "start_time": "2021-10-27T11:05:18.206Z"
   },
   {
    "duration": 4,
    "start_time": "2021-10-27T11:05:18.945Z"
   },
   {
    "duration": 160,
    "start_time": "2021-10-27T11:05:18.951Z"
   },
   {
    "duration": 12,
    "start_time": "2021-10-27T11:05:19.113Z"
   },
   {
    "duration": 213,
    "start_time": "2021-10-27T11:05:19.127Z"
   },
   {
    "duration": 159,
    "start_time": "2021-10-27T11:05:19.344Z"
   },
   {
    "duration": 113,
    "start_time": "2021-10-27T11:05:19.506Z"
   },
   {
    "duration": 37,
    "start_time": "2021-10-27T11:05:19.621Z"
   },
   {
    "duration": 39,
    "start_time": "2021-10-27T11:05:19.661Z"
   },
   {
    "duration": 12,
    "start_time": "2021-10-27T11:05:19.703Z"
   },
   {
    "duration": 3,
    "start_time": "2021-10-27T11:05:19.717Z"
   },
   {
    "duration": 38,
    "start_time": "2021-10-27T11:05:19.722Z"
   },
   {
    "duration": 3,
    "start_time": "2021-10-27T11:05:19.763Z"
   },
   {
    "duration": 46,
    "start_time": "2021-10-27T11:05:19.801Z"
   },
   {
    "duration": 68,
    "start_time": "2021-10-27T11:05:19.849Z"
   },
   {
    "duration": 43,
    "start_time": "2021-10-27T11:05:19.920Z"
   },
   {
    "duration": 54,
    "start_time": "2021-10-27T11:05:19.965Z"
   },
   {
    "duration": 90,
    "start_time": "2021-10-27T11:05:20.021Z"
   },
   {
    "duration": 4,
    "start_time": "2021-10-27T11:05:20.113Z"
   },
   {
    "duration": 120,
    "start_time": "2021-10-27T11:05:20.119Z"
   },
   {
    "duration": 1735,
    "start_time": "2021-10-27T11:05:20.243Z"
   },
   {
    "duration": 19,
    "start_time": "2021-10-27T11:05:21.981Z"
   },
   {
    "duration": 98,
    "start_time": "2021-10-27T11:05:22.003Z"
   },
   {
    "duration": 9,
    "start_time": "2021-10-27T11:05:22.103Z"
   },
   {
    "duration": 23,
    "start_time": "2021-10-27T11:05:22.115Z"
   },
   {
    "duration": 608,
    "start_time": "2021-10-27T11:05:22.141Z"
   },
   {
    "duration": -403,
    "start_time": "2021-10-27T11:05:23.156Z"
   },
   {
    "duration": -409,
    "start_time": "2021-10-27T11:05:23.164Z"
   },
   {
    "duration": -410,
    "start_time": "2021-10-27T11:05:23.167Z"
   },
   {
    "duration": -410,
    "start_time": "2021-10-27T11:05:23.169Z"
   },
   {
    "duration": -410,
    "start_time": "2021-10-27T11:05:23.171Z"
   },
   {
    "duration": -410,
    "start_time": "2021-10-27T11:05:23.173Z"
   },
   {
    "duration": 139,
    "start_time": "2021-10-27T11:05:54.536Z"
   },
   {
    "duration": 25,
    "start_time": "2021-10-27T11:06:11.361Z"
   },
   {
    "duration": 27,
    "start_time": "2021-10-27T11:06:44.132Z"
   },
   {
    "duration": 33,
    "start_time": "2021-10-27T11:07:17.958Z"
   },
   {
    "duration": 5136,
    "start_time": "2021-10-27T11:10:03.727Z"
   },
   {
    "duration": 4933,
    "start_time": "2021-10-27T11:11:04.403Z"
   },
   {
    "duration": 33,
    "start_time": "2021-10-27T11:11:47.714Z"
   },
   {
    "duration": 6861,
    "start_time": "2021-10-27T11:13:00.200Z"
   },
   {
    "duration": 20,
    "start_time": "2021-10-27T11:13:21.783Z"
   },
   {
    "duration": 34,
    "start_time": "2021-10-27T11:13:37.890Z"
   },
   {
    "duration": 4,
    "start_time": "2021-10-27T11:13:55.205Z"
   },
   {
    "duration": 31,
    "start_time": "2021-10-27T11:14:01.772Z"
   },
   {
    "duration": 5350,
    "start_time": "2021-10-27T11:14:21.567Z"
   },
   {
    "duration": 4830,
    "start_time": "2021-10-27T11:14:39.193Z"
   },
   {
    "duration": 8816,
    "start_time": "2021-10-27T11:15:12.591Z"
   },
   {
    "duration": 4,
    "start_time": "2021-10-27T11:17:26.319Z"
   },
   {
    "duration": 33,
    "start_time": "2021-10-27T11:17:27.330Z"
   },
   {
    "duration": 4841,
    "start_time": "2021-10-27T11:17:48.863Z"
   },
   {
    "duration": 7953,
    "start_time": "2021-10-27T11:18:38.134Z"
   },
   {
    "duration": 5016,
    "start_time": "2021-10-27T11:18:50.905Z"
   },
   {
    "duration": 8,
    "start_time": "2021-10-27T11:20:11.223Z"
   },
   {
    "duration": 401,
    "start_time": "2021-10-27T11:20:35.033Z"
   },
   {
    "duration": 1589,
    "start_time": "2021-10-27T11:20:47.587Z"
   },
   {
    "duration": 5,
    "start_time": "2021-10-27T11:20:49.179Z"
   },
   {
    "duration": 762,
    "start_time": "2021-10-27T11:20:49.188Z"
   },
   {
    "duration": 4,
    "start_time": "2021-10-27T11:20:49.954Z"
   },
   {
    "duration": 163,
    "start_time": "2021-10-27T11:20:49.962Z"
   },
   {
    "duration": 12,
    "start_time": "2021-10-27T11:20:50.128Z"
   },
   {
    "duration": 224,
    "start_time": "2021-10-27T11:20:50.143Z"
   },
   {
    "duration": 155,
    "start_time": "2021-10-27T11:20:50.373Z"
   },
   {
    "duration": 114,
    "start_time": "2021-10-27T11:20:50.533Z"
   },
   {
    "duration": 54,
    "start_time": "2021-10-27T11:20:50.651Z"
   },
   {
    "duration": 9,
    "start_time": "2021-10-27T11:20:50.708Z"
   },
   {
    "duration": 27,
    "start_time": "2021-10-27T11:20:50.720Z"
   },
   {
    "duration": 10,
    "start_time": "2021-10-27T11:20:50.750Z"
   },
   {
    "duration": 49,
    "start_time": "2021-10-27T11:20:50.763Z"
   },
   {
    "duration": 3,
    "start_time": "2021-10-27T11:20:50.815Z"
   },
   {
    "duration": 53,
    "start_time": "2021-10-27T11:20:50.821Z"
   },
   {
    "duration": 61,
    "start_time": "2021-10-27T11:20:50.877Z"
   },
   {
    "duration": 63,
    "start_time": "2021-10-27T11:20:50.941Z"
   },
   {
    "duration": 32,
    "start_time": "2021-10-27T11:20:51.007Z"
   },
   {
    "duration": 92,
    "start_time": "2021-10-27T11:20:51.042Z"
   },
   {
    "duration": 5,
    "start_time": "2021-10-27T11:20:51.136Z"
   },
   {
    "duration": 115,
    "start_time": "2021-10-27T11:20:51.143Z"
   },
   {
    "duration": 1702,
    "start_time": "2021-10-27T11:20:51.263Z"
   },
   {
    "duration": 8,
    "start_time": "2021-10-27T11:20:52.968Z"
   },
   {
    "duration": 102,
    "start_time": "2021-10-27T11:20:52.978Z"
   },
   {
    "duration": 532,
    "start_time": "2021-10-27T11:20:53.082Z"
   },
   {
    "duration": -361,
    "start_time": "2021-10-27T11:20:53.979Z"
   },
   {
    "duration": -374,
    "start_time": "2021-10-27T11:20:53.994Z"
   },
   {
    "duration": -384,
    "start_time": "2021-10-27T11:20:54.006Z"
   },
   {
    "duration": -385,
    "start_time": "2021-10-27T11:20:54.009Z"
   },
   {
    "duration": -394,
    "start_time": "2021-10-27T11:20:54.020Z"
   },
   {
    "duration": -396,
    "start_time": "2021-10-27T11:20:54.024Z"
   },
   {
    "duration": -398,
    "start_time": "2021-10-27T11:20:54.029Z"
   },
   {
    "duration": -405,
    "start_time": "2021-10-27T11:20:54.038Z"
   },
   {
    "duration": 11,
    "start_time": "2021-10-27T11:22:55.196Z"
   },
   {
    "duration": 11,
    "start_time": "2021-10-27T11:23:07.660Z"
   },
   {
    "duration": 126,
    "start_time": "2021-10-27T11:24:01.197Z"
   },
   {
    "duration": 5128,
    "start_time": "2021-10-27T11:24:52.707Z"
   },
   {
    "duration": 4989,
    "start_time": "2021-10-27T11:25:15.814Z"
   },
   {
    "duration": 4912,
    "start_time": "2021-10-27T11:26:03.884Z"
   },
   {
    "duration": 5802,
    "start_time": "2021-10-27T11:26:20.888Z"
   },
   {
    "duration": 4968,
    "start_time": "2021-10-27T11:26:40.523Z"
   },
   {
    "duration": 5560,
    "start_time": "2021-10-27T11:27:21.428Z"
   },
   {
    "duration": 438,
    "start_time": "2021-10-27T11:27:33.393Z"
   },
   {
    "duration": 8,
    "start_time": "2021-10-27T11:27:40.883Z"
   },
   {
    "duration": 5131,
    "start_time": "2021-10-27T11:27:51.539Z"
   },
   {
    "duration": 9,
    "start_time": "2021-10-27T11:28:00.249Z"
   },
   {
    "duration": 1542,
    "start_time": "2021-10-27T11:28:27.144Z"
   },
   {
    "duration": 4,
    "start_time": "2021-10-27T11:28:28.689Z"
   },
   {
    "duration": 690,
    "start_time": "2021-10-27T11:28:28.702Z"
   },
   {
    "duration": 6,
    "start_time": "2021-10-27T11:28:29.396Z"
   },
   {
    "duration": 163,
    "start_time": "2021-10-27T11:28:29.405Z"
   },
   {
    "duration": 31,
    "start_time": "2021-10-27T11:28:29.571Z"
   },
   {
    "duration": 216,
    "start_time": "2021-10-27T11:28:29.605Z"
   },
   {
    "duration": 155,
    "start_time": "2021-10-27T11:28:29.827Z"
   },
   {
    "duration": 117,
    "start_time": "2021-10-27T11:28:29.985Z"
   },
   {
    "duration": 38,
    "start_time": "2021-10-27T11:28:30.105Z"
   },
   {
    "duration": 10,
    "start_time": "2021-10-27T11:28:30.145Z"
   },
   {
    "duration": 47,
    "start_time": "2021-10-27T11:28:30.157Z"
   },
   {
    "duration": 4,
    "start_time": "2021-10-27T11:28:30.207Z"
   },
   {
    "duration": 52,
    "start_time": "2021-10-27T11:28:30.214Z"
   },
   {
    "duration": 4,
    "start_time": "2021-10-27T11:28:30.269Z"
   },
   {
    "duration": 61,
    "start_time": "2021-10-27T11:28:30.276Z"
   },
   {
    "duration": 70,
    "start_time": "2021-10-27T11:28:30.341Z"
   },
   {
    "duration": 46,
    "start_time": "2021-10-27T11:28:30.413Z"
   },
   {
    "duration": 62,
    "start_time": "2021-10-27T11:28:30.462Z"
   },
   {
    "duration": 87,
    "start_time": "2021-10-27T11:28:30.526Z"
   },
   {
    "duration": 4,
    "start_time": "2021-10-27T11:28:30.615Z"
   },
   {
    "duration": 118,
    "start_time": "2021-10-27T11:28:30.621Z"
   },
   {
    "duration": 1713,
    "start_time": "2021-10-27T11:28:30.744Z"
   },
   {
    "duration": 8,
    "start_time": "2021-10-27T11:28:32.460Z"
   },
   {
    "duration": 91,
    "start_time": "2021-10-27T11:28:32.470Z"
   },
   {
    "duration": 4,
    "start_time": "2021-10-27T11:28:32.563Z"
   },
   {
    "duration": 33,
    "start_time": "2021-10-27T11:28:32.569Z"
   },
   {
    "duration": 4990,
    "start_time": "2021-10-27T11:28:32.604Z"
   },
   {
    "duration": -415,
    "start_time": "2021-10-27T11:28:38.011Z"
   },
   {
    "duration": -425,
    "start_time": "2021-10-27T11:28:38.023Z"
   },
   {
    "duration": -433,
    "start_time": "2021-10-27T11:28:38.032Z"
   },
   {
    "duration": -440,
    "start_time": "2021-10-27T11:28:38.041Z"
   },
   {
    "duration": -447,
    "start_time": "2021-10-27T11:28:38.049Z"
   },
   {
    "duration": -453,
    "start_time": "2021-10-27T11:28:38.057Z"
   },
   {
    "duration": -460,
    "start_time": "2021-10-27T11:28:38.065Z"
   },
   {
    "duration": 5401,
    "start_time": "2021-10-27T11:28:51.004Z"
   },
   {
    "duration": 5834,
    "start_time": "2021-10-27T11:29:04.574Z"
   },
   {
    "duration": 387,
    "start_time": "2021-10-27T11:29:19.663Z"
   },
   {
    "duration": 3,
    "start_time": "2021-10-27T11:29:57.462Z"
   },
   {
    "duration": 19,
    "start_time": "2021-10-27T11:30:05.342Z"
   },
   {
    "duration": 6,
    "start_time": "2021-10-27T11:30:11.271Z"
   },
   {
    "duration": 8,
    "start_time": "2021-10-27T11:30:19.712Z"
   },
   {
    "duration": 136,
    "start_time": "2021-10-27T11:30:53.405Z"
   },
   {
    "duration": 8,
    "start_time": "2021-10-27T11:31:17.088Z"
   },
   {
    "duration": 20,
    "start_time": "2021-10-27T11:31:29.449Z"
   },
   {
    "duration": 10,
    "start_time": "2021-10-27T11:31:44.841Z"
   },
   {
    "duration": 10,
    "start_time": "2021-10-27T11:31:59.462Z"
   },
   {
    "duration": 10,
    "start_time": "2021-10-27T11:33:18.633Z"
   },
   {
    "duration": 4829,
    "start_time": "2021-10-27T11:33:46.666Z"
   },
   {
    "duration": 5554,
    "start_time": "2021-10-27T11:33:53.052Z"
   },
   {
    "duration": 5441,
    "start_time": "2021-10-27T11:34:02.892Z"
   },
   {
    "duration": 4873,
    "start_time": "2021-10-27T11:38:04.899Z"
   },
   {
    "duration": 1518,
    "start_time": "2021-10-27T11:38:20.087Z"
   },
   {
    "duration": 4,
    "start_time": "2021-10-27T11:38:21.608Z"
   },
   {
    "duration": 723,
    "start_time": "2021-10-27T11:38:21.618Z"
   },
   {
    "duration": 4,
    "start_time": "2021-10-27T11:38:22.344Z"
   },
   {
    "duration": 161,
    "start_time": "2021-10-27T11:38:22.351Z"
   },
   {
    "duration": 11,
    "start_time": "2021-10-27T11:38:22.514Z"
   },
   {
    "duration": 206,
    "start_time": "2021-10-27T11:38:22.528Z"
   },
   {
    "duration": 156,
    "start_time": "2021-10-27T11:38:22.738Z"
   },
   {
    "duration": 107,
    "start_time": "2021-10-27T11:38:22.897Z"
   },
   {
    "duration": 37,
    "start_time": "2021-10-27T11:38:23.007Z"
   },
   {
    "duration": 9,
    "start_time": "2021-10-27T11:38:23.047Z"
   },
   {
    "duration": 48,
    "start_time": "2021-10-27T11:38:23.058Z"
   },
   {
    "duration": 3,
    "start_time": "2021-10-27T11:38:23.109Z"
   },
   {
    "duration": 42,
    "start_time": "2021-10-27T11:38:23.114Z"
   },
   {
    "duration": 3,
    "start_time": "2021-10-27T11:38:23.158Z"
   },
   {
    "duration": 60,
    "start_time": "2021-10-27T11:38:23.164Z"
   },
   {
    "duration": 47,
    "start_time": "2021-10-27T11:38:23.227Z"
   },
   {
    "duration": 65,
    "start_time": "2021-10-27T11:38:23.276Z"
   },
   {
    "duration": 56,
    "start_time": "2021-10-27T11:38:23.344Z"
   },
   {
    "duration": 71,
    "start_time": "2021-10-27T11:38:23.403Z"
   },
   {
    "duration": 24,
    "start_time": "2021-10-27T11:38:23.476Z"
   },
   {
    "duration": 108,
    "start_time": "2021-10-27T11:38:23.503Z"
   },
   {
    "duration": 1774,
    "start_time": "2021-10-27T11:38:23.614Z"
   },
   {
    "duration": 12,
    "start_time": "2021-10-27T11:38:25.390Z"
   },
   {
    "duration": 87,
    "start_time": "2021-10-27T11:38:25.405Z"
   },
   {
    "duration": 19,
    "start_time": "2021-10-27T11:38:25.504Z"
   },
   {
    "duration": 6,
    "start_time": "2021-10-27T11:38:25.525Z"
   },
   {
    "duration": 13,
    "start_time": "2021-10-27T11:38:25.533Z"
   },
   {
    "duration": 52,
    "start_time": "2021-10-27T11:38:25.548Z"
   },
   {
    "duration": 126,
    "start_time": "2021-10-27T11:38:25.603Z"
   },
   {
    "duration": -708,
    "start_time": "2021-10-27T11:38:26.439Z"
   },
   {
    "duration": -710,
    "start_time": "2021-10-27T11:38:26.442Z"
   },
   {
    "duration": -711,
    "start_time": "2021-10-27T11:38:26.445Z"
   },
   {
    "duration": -713,
    "start_time": "2021-10-27T11:38:26.448Z"
   },
   {
    "duration": -714,
    "start_time": "2021-10-27T11:38:26.450Z"
   },
   {
    "duration": -715,
    "start_time": "2021-10-27T11:38:26.452Z"
   },
   {
    "duration": -716,
    "start_time": "2021-10-27T11:38:26.454Z"
   },
   {
    "duration": -717,
    "start_time": "2021-10-27T11:38:26.456Z"
   },
   {
    "duration": 22,
    "start_time": "2021-10-27T11:38:59.532Z"
   },
   {
    "duration": 8,
    "start_time": "2021-10-27T11:39:09.047Z"
   },
   {
    "duration": 9,
    "start_time": "2021-10-27T11:39:27.051Z"
   },
   {
    "duration": 10,
    "start_time": "2021-10-27T11:39:57.116Z"
   },
   {
    "duration": 10,
    "start_time": "2021-10-27T11:40:44.708Z"
   },
   {
    "duration": 10,
    "start_time": "2021-10-27T11:41:08.639Z"
   },
   {
    "duration": 1555,
    "start_time": "2021-10-27T11:41:48.813Z"
   },
   {
    "duration": 470,
    "start_time": "2021-10-27T11:42:47.675Z"
   },
   {
    "duration": 126,
    "start_time": "2021-10-27T11:44:40.836Z"
   },
   {
    "duration": 9,
    "start_time": "2021-10-27T11:45:04.712Z"
   },
   {
    "duration": 16,
    "start_time": "2021-10-27T11:45:28.954Z"
   },
   {
    "duration": 16,
    "start_time": "2021-10-27T11:45:58.649Z"
   },
   {
    "duration": 13,
    "start_time": "2021-10-27T11:46:23.569Z"
   },
   {
    "duration": 416,
    "start_time": "2021-10-27T11:47:09.591Z"
   },
   {
    "duration": 37,
    "start_time": "2021-10-27T11:47:19.697Z"
   },
   {
    "duration": 2734,
    "start_time": "2021-10-27T11:48:28.553Z"
   },
   {
    "duration": 36,
    "start_time": "2021-10-27T11:48:36.065Z"
   },
   {
    "duration": 183,
    "start_time": "2021-10-27T11:50:35.396Z"
   },
   {
    "duration": 416,
    "start_time": "2021-10-27T11:51:47.768Z"
   },
   {
    "duration": 21,
    "start_time": "2021-10-27T11:52:13.426Z"
   },
   {
    "duration": 22,
    "start_time": "2021-10-27T11:53:40.841Z"
   },
   {
    "duration": 8,
    "start_time": "2021-10-27T11:55:12.139Z"
   },
   {
    "duration": 25,
    "start_time": "2021-10-27T11:55:22.496Z"
   },
   {
    "duration": 33,
    "start_time": "2021-10-27T11:56:38.876Z"
   },
   {
    "duration": 32,
    "start_time": "2021-10-27T11:57:56.795Z"
   },
   {
    "duration": 34,
    "start_time": "2021-10-27T12:00:12.402Z"
   },
   {
    "duration": 22,
    "start_time": "2021-10-27T12:00:42.686Z"
   },
   {
    "duration": 22,
    "start_time": "2021-10-27T12:00:44.286Z"
   },
   {
    "duration": 1521,
    "start_time": "2021-10-27T12:01:07.056Z"
   },
   {
    "duration": 4,
    "start_time": "2021-10-27T12:01:08.580Z"
   },
   {
    "duration": 732,
    "start_time": "2021-10-27T12:01:08.587Z"
   },
   {
    "duration": 6,
    "start_time": "2021-10-27T12:01:09.323Z"
   },
   {
    "duration": 182,
    "start_time": "2021-10-27T12:01:09.332Z"
   },
   {
    "duration": 11,
    "start_time": "2021-10-27T12:01:09.517Z"
   },
   {
    "duration": 215,
    "start_time": "2021-10-27T12:01:09.530Z"
   },
   {
    "duration": 166,
    "start_time": "2021-10-27T12:01:09.749Z"
   },
   {
    "duration": 136,
    "start_time": "2021-10-27T12:01:09.918Z"
   },
   {
    "duration": 49,
    "start_time": "2021-10-27T12:01:10.057Z"
   },
   {
    "duration": 10,
    "start_time": "2021-10-27T12:01:10.108Z"
   },
   {
    "duration": 13,
    "start_time": "2021-10-27T12:01:10.120Z"
   },
   {
    "duration": 3,
    "start_time": "2021-10-27T12:01:10.135Z"
   },
   {
    "duration": 70,
    "start_time": "2021-10-27T12:01:10.141Z"
   },
   {
    "duration": 3,
    "start_time": "2021-10-27T12:01:10.213Z"
   },
   {
    "duration": 40,
    "start_time": "2021-10-27T12:01:10.218Z"
   },
   {
    "duration": 72,
    "start_time": "2021-10-27T12:01:10.260Z"
   },
   {
    "duration": 42,
    "start_time": "2021-10-27T12:01:10.335Z"
   },
   {
    "duration": 48,
    "start_time": "2021-10-27T12:01:10.380Z"
   },
   {
    "duration": 97,
    "start_time": "2021-10-27T12:01:10.430Z"
   },
   {
    "duration": 4,
    "start_time": "2021-10-27T12:01:10.530Z"
   },
   {
    "duration": 112,
    "start_time": "2021-10-27T12:01:10.537Z"
   },
   {
    "duration": 1709,
    "start_time": "2021-10-27T12:01:10.654Z"
   },
   {
    "duration": 9,
    "start_time": "2021-10-27T12:01:12.367Z"
   },
   {
    "duration": 113,
    "start_time": "2021-10-27T12:01:12.379Z"
   },
   {
    "duration": 18,
    "start_time": "2021-10-27T12:01:12.499Z"
   },
   {
    "duration": 9,
    "start_time": "2021-10-27T12:01:12.519Z"
   },
   {
    "duration": 44,
    "start_time": "2021-10-27T12:01:12.530Z"
   },
   {
    "duration": 48,
    "start_time": "2021-10-27T12:01:12.576Z"
   },
   {
    "duration": 62,
    "start_time": "2021-10-27T12:01:12.627Z"
   },
   {
    "duration": 140,
    "start_time": "2021-10-27T12:01:12.691Z"
   },
   {
    "duration": -636,
    "start_time": "2021-10-27T12:01:13.470Z"
   },
   {
    "duration": -640,
    "start_time": "2021-10-27T12:01:13.475Z"
   },
   {
    "duration": -646,
    "start_time": "2021-10-27T12:01:13.482Z"
   },
   {
    "duration": -650,
    "start_time": "2021-10-27T12:01:13.487Z"
   },
   {
    "duration": -651,
    "start_time": "2021-10-27T12:01:13.490Z"
   },
   {
    "duration": -652,
    "start_time": "2021-10-27T12:01:13.492Z"
   },
   {
    "duration": -656,
    "start_time": "2021-10-27T12:01:13.498Z"
   },
   {
    "duration": -657,
    "start_time": "2021-10-27T12:01:13.500Z"
   },
   {
    "duration": -659,
    "start_time": "2021-10-27T12:01:13.503Z"
   },
   {
    "duration": 1743,
    "start_time": "2021-10-27T12:02:46.534Z"
   },
   {
    "duration": 3,
    "start_time": "2021-10-27T12:02:48.280Z"
   },
   {
    "duration": 719,
    "start_time": "2021-10-27T12:02:48.286Z"
   },
   {
    "duration": 5,
    "start_time": "2021-10-27T12:02:49.008Z"
   },
   {
    "duration": 172,
    "start_time": "2021-10-27T12:02:49.015Z"
   },
   {
    "duration": 20,
    "start_time": "2021-10-27T12:02:49.189Z"
   },
   {
    "duration": 213,
    "start_time": "2021-10-27T12:02:49.211Z"
   },
   {
    "duration": 158,
    "start_time": "2021-10-27T12:02:49.429Z"
   },
   {
    "duration": 105,
    "start_time": "2021-10-27T12:02:49.599Z"
   },
   {
    "duration": 36,
    "start_time": "2021-10-27T12:02:49.707Z"
   },
   {
    "duration": 9,
    "start_time": "2021-10-27T12:02:49.745Z"
   },
   {
    "duration": 25,
    "start_time": "2021-10-27T12:02:49.756Z"
   },
   {
    "duration": 3,
    "start_time": "2021-10-27T12:02:49.801Z"
   },
   {
    "duration": 39,
    "start_time": "2021-10-27T12:02:49.806Z"
   },
   {
    "duration": 3,
    "start_time": "2021-10-27T12:02:49.847Z"
   },
   {
    "duration": 66,
    "start_time": "2021-10-27T12:02:49.853Z"
   },
   {
    "duration": 47,
    "start_time": "2021-10-27T12:02:49.923Z"
   },
   {
    "duration": 70,
    "start_time": "2021-10-27T12:02:49.974Z"
   },
   {
    "duration": 59,
    "start_time": "2021-10-27T12:02:50.047Z"
   },
   {
    "duration": 93,
    "start_time": "2021-10-27T12:02:50.109Z"
   },
   {
    "duration": 5,
    "start_time": "2021-10-27T12:02:50.206Z"
   },
   {
    "duration": 116,
    "start_time": "2021-10-27T12:02:50.214Z"
   },
   {
    "duration": 1728,
    "start_time": "2021-10-27T12:02:50.337Z"
   },
   {
    "duration": 9,
    "start_time": "2021-10-27T12:02:52.069Z"
   },
   {
    "duration": 82,
    "start_time": "2021-10-27T12:02:52.099Z"
   },
   {
    "duration": 20,
    "start_time": "2021-10-27T12:02:52.202Z"
   },
   {
    "duration": 11,
    "start_time": "2021-10-27T12:02:52.225Z"
   },
   {
    "duration": 71,
    "start_time": "2021-10-27T12:02:52.239Z"
   },
   {
    "duration": 24,
    "start_time": "2021-10-27T12:02:52.312Z"
   },
   {
    "duration": 21,
    "start_time": "2021-10-27T12:02:52.338Z"
   },
   {
    "duration": 183,
    "start_time": "2021-10-27T12:02:52.361Z"
   },
   {
    "duration": -671,
    "start_time": "2021-10-27T12:02:53.217Z"
   },
   {
    "duration": -674,
    "start_time": "2021-10-27T12:02:53.221Z"
   },
   {
    "duration": -675,
    "start_time": "2021-10-27T12:02:53.224Z"
   },
   {
    "duration": -678,
    "start_time": "2021-10-27T12:02:53.228Z"
   },
   {
    "duration": -679,
    "start_time": "2021-10-27T12:02:53.230Z"
   },
   {
    "duration": -680,
    "start_time": "2021-10-27T12:02:53.233Z"
   },
   {
    "duration": -680,
    "start_time": "2021-10-27T12:02:53.235Z"
   },
   {
    "duration": -681,
    "start_time": "2021-10-27T12:02:53.237Z"
   },
   {
    "duration": -682,
    "start_time": "2021-10-27T12:02:53.239Z"
   },
   {
    "duration": 1577,
    "start_time": "2021-10-27T12:03:26.119Z"
   },
   {
    "duration": 4,
    "start_time": "2021-10-27T12:03:27.701Z"
   },
   {
    "duration": 1164,
    "start_time": "2021-10-27T12:03:27.709Z"
   },
   {
    "duration": 4,
    "start_time": "2021-10-27T12:03:28.876Z"
   },
   {
    "duration": 174,
    "start_time": "2021-10-27T12:03:28.883Z"
   },
   {
    "duration": 12,
    "start_time": "2021-10-27T12:03:29.059Z"
   },
   {
    "duration": 208,
    "start_time": "2021-10-27T12:03:29.074Z"
   },
   {
    "duration": 155,
    "start_time": "2021-10-27T12:03:29.285Z"
   },
   {
    "duration": 114,
    "start_time": "2021-10-27T12:03:29.443Z"
   },
   {
    "duration": 45,
    "start_time": "2021-10-27T12:03:29.559Z"
   },
   {
    "duration": 9,
    "start_time": "2021-10-27T12:03:29.607Z"
   },
   {
    "duration": 24,
    "start_time": "2021-10-27T12:03:29.618Z"
   },
   {
    "duration": 26,
    "start_time": "2021-10-27T12:03:29.644Z"
   },
   {
    "duration": 43,
    "start_time": "2021-10-27T12:03:29.672Z"
   },
   {
    "duration": 3,
    "start_time": "2021-10-27T12:03:29.717Z"
   },
   {
    "duration": 52,
    "start_time": "2021-10-27T12:03:29.723Z"
   },
   {
    "duration": 58,
    "start_time": "2021-10-27T12:03:29.778Z"
   },
   {
    "duration": 43,
    "start_time": "2021-10-27T12:03:29.838Z"
   },
   {
    "duration": 32,
    "start_time": "2021-10-27T12:03:29.901Z"
   },
   {
    "duration": 99,
    "start_time": "2021-10-27T12:03:29.935Z"
   },
   {
    "duration": 4,
    "start_time": "2021-10-27T12:03:30.036Z"
   },
   {
    "duration": 116,
    "start_time": "2021-10-27T12:03:30.042Z"
   },
   {
    "duration": 1732,
    "start_time": "2021-10-27T12:03:30.163Z"
   },
   {
    "duration": 8,
    "start_time": "2021-10-27T12:03:31.902Z"
   },
   {
    "duration": 103,
    "start_time": "2021-10-27T12:03:31.914Z"
   },
   {
    "duration": 17,
    "start_time": "2021-10-27T12:03:32.020Z"
   },
   {
    "duration": 26,
    "start_time": "2021-10-27T12:03:32.040Z"
   },
   {
    "duration": 50,
    "start_time": "2021-10-27T12:03:32.069Z"
   },
   {
    "duration": 41,
    "start_time": "2021-10-27T12:03:32.121Z"
   },
   {
    "duration": 129,
    "start_time": "2021-10-27T12:03:32.165Z"
   },
   {
    "duration": -662,
    "start_time": "2021-10-27T12:03:32.959Z"
   },
   {
    "duration": -664,
    "start_time": "2021-10-27T12:03:32.963Z"
   },
   {
    "duration": -667,
    "start_time": "2021-10-27T12:03:32.968Z"
   },
   {
    "duration": -669,
    "start_time": "2021-10-27T12:03:32.971Z"
   },
   {
    "duration": -669,
    "start_time": "2021-10-27T12:03:32.973Z"
   },
   {
    "duration": -671,
    "start_time": "2021-10-27T12:03:32.976Z"
   },
   {
    "duration": -672,
    "start_time": "2021-10-27T12:03:32.979Z"
   },
   {
    "duration": -675,
    "start_time": "2021-10-27T12:03:32.984Z"
   },
   {
    "duration": -676,
    "start_time": "2021-10-27T12:03:32.986Z"
   },
   {
    "duration": 24,
    "start_time": "2021-10-27T12:04:42.499Z"
   },
   {
    "duration": 1551,
    "start_time": "2021-10-27T12:05:29.574Z"
   },
   {
    "duration": 3,
    "start_time": "2021-10-27T12:05:31.128Z"
   },
   {
    "duration": 735,
    "start_time": "2021-10-27T12:05:31.134Z"
   },
   {
    "duration": 5,
    "start_time": "2021-10-27T12:05:31.872Z"
   },
   {
    "duration": 156,
    "start_time": "2021-10-27T12:05:31.879Z"
   },
   {
    "duration": 11,
    "start_time": "2021-10-27T12:05:32.038Z"
   },
   {
    "duration": 216,
    "start_time": "2021-10-27T12:05:32.051Z"
   },
   {
    "duration": 152,
    "start_time": "2021-10-27T12:05:32.272Z"
   },
   {
    "duration": 110,
    "start_time": "2021-10-27T12:05:32.427Z"
   },
   {
    "duration": 36,
    "start_time": "2021-10-27T12:05:32.539Z"
   },
   {
    "duration": 29,
    "start_time": "2021-10-27T12:05:32.577Z"
   },
   {
    "duration": 12,
    "start_time": "2021-10-27T12:05:32.608Z"
   },
   {
    "duration": 26,
    "start_time": "2021-10-27T12:05:32.623Z"
   },
   {
    "duration": 48,
    "start_time": "2021-10-27T12:05:32.652Z"
   },
   {
    "duration": 3,
    "start_time": "2021-10-27T12:05:32.702Z"
   },
   {
    "duration": 63,
    "start_time": "2021-10-27T12:05:32.707Z"
   },
   {
    "duration": 61,
    "start_time": "2021-10-27T12:05:32.773Z"
   },
   {
    "duration": 69,
    "start_time": "2021-10-27T12:05:32.837Z"
   },
   {
    "duration": 31,
    "start_time": "2021-10-27T12:05:32.909Z"
   },
   {
    "duration": 94,
    "start_time": "2021-10-27T12:05:32.942Z"
   },
   {
    "duration": 4,
    "start_time": "2021-10-27T12:05:33.039Z"
   },
   {
    "duration": 115,
    "start_time": "2021-10-27T12:05:33.045Z"
   },
   {
    "duration": 1869,
    "start_time": "2021-10-27T12:05:33.164Z"
   },
   {
    "duration": 8,
    "start_time": "2021-10-27T12:05:35.035Z"
   },
   {
    "duration": 95,
    "start_time": "2021-10-27T12:05:35.045Z"
   },
   {
    "duration": 18,
    "start_time": "2021-10-27T12:05:35.142Z"
   },
   {
    "duration": 37,
    "start_time": "2021-10-27T12:05:35.163Z"
   },
   {
    "duration": 31,
    "start_time": "2021-10-27T12:05:35.203Z"
   },
   {
    "duration": 24,
    "start_time": "2021-10-27T12:05:35.236Z"
   },
   {
    "duration": 42,
    "start_time": "2021-10-27T12:05:35.263Z"
   },
   {
    "duration": 9,
    "start_time": "2021-10-27T12:05:35.307Z"
   },
   {
    "duration": 5221,
    "start_time": "2021-10-27T12:05:35.318Z"
   },
   {
    "duration": 523,
    "start_time": "2021-10-27T12:05:40.541Z"
   },
   {
    "duration": -678,
    "start_time": "2021-10-27T12:05:41.745Z"
   },
   {
    "duration": -685,
    "start_time": "2021-10-27T12:05:41.753Z"
   },
   {
    "duration": 1500,
    "start_time": "2021-10-27T12:06:42.793Z"
   },
   {
    "duration": 5,
    "start_time": "2021-10-27T12:06:44.296Z"
   },
   {
    "duration": 715,
    "start_time": "2021-10-27T12:06:44.308Z"
   },
   {
    "duration": 5,
    "start_time": "2021-10-27T12:06:45.026Z"
   },
   {
    "duration": 186,
    "start_time": "2021-10-27T12:06:45.033Z"
   },
   {
    "duration": 12,
    "start_time": "2021-10-27T12:06:45.221Z"
   },
   {
    "duration": 213,
    "start_time": "2021-10-27T12:06:45.235Z"
   },
   {
    "duration": 152,
    "start_time": "2021-10-27T12:06:45.453Z"
   },
   {
    "duration": 124,
    "start_time": "2021-10-27T12:06:45.610Z"
   },
   {
    "duration": 42,
    "start_time": "2021-10-27T12:06:45.737Z"
   },
   {
    "duration": 12,
    "start_time": "2021-10-27T12:06:45.801Z"
   },
   {
    "duration": 15,
    "start_time": "2021-10-27T12:06:45.815Z"
   },
   {
    "duration": 4,
    "start_time": "2021-10-27T12:06:45.832Z"
   },
   {
    "duration": 77,
    "start_time": "2021-10-27T12:06:45.839Z"
   },
   {
    "duration": 3,
    "start_time": "2021-10-27T12:06:45.919Z"
   },
   {
    "duration": 44,
    "start_time": "2021-10-27T12:06:45.924Z"
   },
   {
    "duration": 67,
    "start_time": "2021-10-27T12:06:45.970Z"
   },
   {
    "duration": 63,
    "start_time": "2021-10-27T12:06:46.039Z"
   },
   {
    "duration": 34,
    "start_time": "2021-10-27T12:06:46.104Z"
   },
   {
    "duration": 96,
    "start_time": "2021-10-27T12:06:46.140Z"
   },
   {
    "duration": 4,
    "start_time": "2021-10-27T12:06:46.239Z"
   },
   {
    "duration": 116,
    "start_time": "2021-10-27T12:06:46.245Z"
   },
   {
    "duration": 1792,
    "start_time": "2021-10-27T12:06:46.364Z"
   },
   {
    "duration": 8,
    "start_time": "2021-10-27T12:06:48.158Z"
   },
   {
    "duration": 97,
    "start_time": "2021-10-27T12:06:48.168Z"
   },
   {
    "duration": 34,
    "start_time": "2021-10-27T12:06:48.270Z"
   },
   {
    "duration": 14,
    "start_time": "2021-10-27T12:06:48.307Z"
   },
   {
    "duration": 46,
    "start_time": "2021-10-27T12:06:48.323Z"
   },
   {
    "duration": 528,
    "start_time": "2021-10-27T12:06:48.371Z"
   },
   {
    "duration": -678,
    "start_time": "2021-10-27T12:06:49.580Z"
   },
   {
    "duration": -682,
    "start_time": "2021-10-27T12:06:49.585Z"
   },
   {
    "duration": -682,
    "start_time": "2021-10-27T12:06:49.587Z"
   },
   {
    "duration": -684,
    "start_time": "2021-10-27T12:06:49.590Z"
   },
   {
    "duration": -684,
    "start_time": "2021-10-27T12:06:49.592Z"
   },
   {
    "duration": -685,
    "start_time": "2021-10-27T12:06:49.594Z"
   },
   {
    "duration": 1569,
    "start_time": "2021-10-27T12:07:07.321Z"
   },
   {
    "duration": 7,
    "start_time": "2021-10-27T12:07:08.893Z"
   },
   {
    "duration": 726,
    "start_time": "2021-10-27T12:07:08.903Z"
   },
   {
    "duration": 4,
    "start_time": "2021-10-27T12:07:09.632Z"
   },
   {
    "duration": 177,
    "start_time": "2021-10-27T12:07:09.639Z"
   },
   {
    "duration": 11,
    "start_time": "2021-10-27T12:07:09.819Z"
   },
   {
    "duration": 209,
    "start_time": "2021-10-27T12:07:09.832Z"
   },
   {
    "duration": 149,
    "start_time": "2021-10-27T12:07:10.043Z"
   },
   {
    "duration": 107,
    "start_time": "2021-10-27T12:07:10.196Z"
   },
   {
    "duration": 36,
    "start_time": "2021-10-27T12:07:10.306Z"
   },
   {
    "duration": 12,
    "start_time": "2021-10-27T12:07:10.344Z"
   },
   {
    "duration": 47,
    "start_time": "2021-10-27T12:07:10.360Z"
   },
   {
    "duration": 3,
    "start_time": "2021-10-27T12:07:10.409Z"
   },
   {
    "duration": 33,
    "start_time": "2021-10-27T12:07:10.415Z"
   },
   {
    "duration": 3,
    "start_time": "2021-10-27T12:07:10.450Z"
   },
   {
    "duration": 69,
    "start_time": "2021-10-27T12:07:10.455Z"
   },
   {
    "duration": 47,
    "start_time": "2021-10-27T12:07:10.527Z"
   },
   {
    "duration": 64,
    "start_time": "2021-10-27T12:07:10.576Z"
   },
   {
    "duration": 59,
    "start_time": "2021-10-27T12:07:10.643Z"
   },
   {
    "duration": 72,
    "start_time": "2021-10-27T12:07:10.705Z"
   },
   {
    "duration": 6,
    "start_time": "2021-10-27T12:07:10.801Z"
   },
   {
    "duration": 116,
    "start_time": "2021-10-27T12:07:10.810Z"
   },
   {
    "duration": 1717,
    "start_time": "2021-10-27T12:07:10.928Z"
   },
   {
    "duration": 8,
    "start_time": "2021-10-27T12:07:12.647Z"
   },
   {
    "duration": 94,
    "start_time": "2021-10-27T12:07:12.657Z"
   },
   {
    "duration": 17,
    "start_time": "2021-10-27T12:07:12.753Z"
   },
   {
    "duration": 5,
    "start_time": "2021-10-27T12:07:12.800Z"
   },
   {
    "duration": 34,
    "start_time": "2021-10-27T12:07:12.808Z"
   },
   {
    "duration": 31,
    "start_time": "2021-10-27T12:07:12.845Z"
   },
   {
    "duration": 14,
    "start_time": "2021-10-27T12:07:12.901Z"
   },
   {
    "duration": 9,
    "start_time": "2021-10-27T12:07:12.917Z"
   },
   {
    "duration": 5262,
    "start_time": "2021-10-27T12:07:12.928Z"
   },
   {
    "duration": 508,
    "start_time": "2021-10-27T12:07:18.200Z"
   },
   {
    "duration": -652,
    "start_time": "2021-10-27T12:07:19.363Z"
   },
   {
    "duration": -665,
    "start_time": "2021-10-27T12:07:19.378Z"
   },
   {
    "duration": 1530,
    "start_time": "2021-10-27T12:07:57.000Z"
   },
   {
    "duration": 3,
    "start_time": "2021-10-27T12:07:58.533Z"
   },
   {
    "duration": 698,
    "start_time": "2021-10-27T12:07:58.539Z"
   },
   {
    "duration": 4,
    "start_time": "2021-10-27T12:07:59.240Z"
   },
   {
    "duration": 172,
    "start_time": "2021-10-27T12:07:59.246Z"
   },
   {
    "duration": 10,
    "start_time": "2021-10-27T12:07:59.422Z"
   },
   {
    "duration": 203,
    "start_time": "2021-10-27T12:07:59.435Z"
   },
   {
    "duration": 145,
    "start_time": "2021-10-27T12:07:59.640Z"
   },
   {
    "duration": 105,
    "start_time": "2021-10-27T12:07:59.788Z"
   },
   {
    "duration": 40,
    "start_time": "2021-10-27T12:07:59.895Z"
   },
   {
    "duration": 9,
    "start_time": "2021-10-27T12:07:59.937Z"
   },
   {
    "duration": 12,
    "start_time": "2021-10-27T12:07:59.949Z"
   },
   {
    "duration": 3,
    "start_time": "2021-10-27T12:08:00.000Z"
   },
   {
    "duration": 34,
    "start_time": "2021-10-27T12:08:00.006Z"
   },
   {
    "duration": 3,
    "start_time": "2021-10-27T12:08:00.043Z"
   },
   {
    "duration": 72,
    "start_time": "2021-10-27T12:08:00.049Z"
   },
   {
    "duration": 45,
    "start_time": "2021-10-27T12:08:00.124Z"
   },
   {
    "duration": 67,
    "start_time": "2021-10-27T12:08:00.174Z"
   },
   {
    "duration": 33,
    "start_time": "2021-10-27T12:08:00.244Z"
   },
   {
    "duration": 74,
    "start_time": "2021-10-27T12:08:00.302Z"
   },
   {
    "duration": 5,
    "start_time": "2021-10-27T12:08:00.401Z"
   },
   {
    "duration": 109,
    "start_time": "2021-10-27T12:08:00.408Z"
   },
   {
    "duration": 1752,
    "start_time": "2021-10-27T12:08:00.520Z"
   },
   {
    "duration": 8,
    "start_time": "2021-10-27T12:08:02.274Z"
   },
   {
    "duration": 87,
    "start_time": "2021-10-27T12:08:02.285Z"
   },
   {
    "duration": 43,
    "start_time": "2021-10-27T12:08:02.374Z"
   },
   {
    "duration": 9,
    "start_time": "2021-10-27T12:08:02.420Z"
   },
   {
    "duration": 46,
    "start_time": "2021-10-27T12:08:02.432Z"
   },
   {
    "duration": 48,
    "start_time": "2021-10-27T12:08:02.480Z"
   },
   {
    "duration": 26,
    "start_time": "2021-10-27T12:08:02.530Z"
   },
   {
    "duration": 9,
    "start_time": "2021-10-27T12:08:02.559Z"
   },
   {
    "duration": 5305,
    "start_time": "2021-10-27T12:08:02.570Z"
   },
   {
    "duration": 528,
    "start_time": "2021-10-27T12:08:07.878Z"
   },
   {
    "duration": -611,
    "start_time": "2021-10-27T12:08:09.020Z"
   },
   {
    "duration": -620,
    "start_time": "2021-10-27T12:08:09.030Z"
   },
   {
    "duration": 1538,
    "start_time": "2021-10-27T12:08:20.240Z"
   },
   {
    "duration": 3,
    "start_time": "2021-10-27T12:08:21.781Z"
   },
   {
    "duration": 706,
    "start_time": "2021-10-27T12:08:21.787Z"
   },
   {
    "duration": 4,
    "start_time": "2021-10-27T12:08:22.496Z"
   },
   {
    "duration": 173,
    "start_time": "2021-10-27T12:08:22.503Z"
   },
   {
    "duration": 12,
    "start_time": "2021-10-27T12:08:22.678Z"
   },
   {
    "duration": 206,
    "start_time": "2021-10-27T12:08:22.701Z"
   },
   {
    "duration": 151,
    "start_time": "2021-10-27T12:08:22.910Z"
   },
   {
    "duration": 111,
    "start_time": "2021-10-27T12:08:23.065Z"
   },
   {
    "duration": 56,
    "start_time": "2021-10-27T12:08:23.179Z"
   },
   {
    "duration": 11,
    "start_time": "2021-10-27T12:08:23.237Z"
   },
   {
    "duration": 13,
    "start_time": "2021-10-27T12:08:23.250Z"
   },
   {
    "duration": 5,
    "start_time": "2021-10-27T12:08:23.266Z"
   },
   {
    "duration": 35,
    "start_time": "2021-10-27T12:08:23.302Z"
   },
   {
    "duration": 2,
    "start_time": "2021-10-27T12:08:23.340Z"
   },
   {
    "duration": 60,
    "start_time": "2021-10-27T12:08:23.345Z"
   },
   {
    "duration": 47,
    "start_time": "2021-10-27T12:08:23.408Z"
   },
   {
    "duration": 68,
    "start_time": "2021-10-27T12:08:23.458Z"
   },
   {
    "duration": 32,
    "start_time": "2021-10-27T12:08:23.528Z"
   },
   {
    "duration": 89,
    "start_time": "2021-10-27T12:08:23.562Z"
   },
   {
    "duration": 4,
    "start_time": "2021-10-27T12:08:23.654Z"
   },
   {
    "duration": 111,
    "start_time": "2021-10-27T12:08:23.660Z"
   },
   {
    "duration": 1801,
    "start_time": "2021-10-27T12:08:23.776Z"
   },
   {
    "duration": 8,
    "start_time": "2021-10-27T12:08:25.580Z"
   },
   {
    "duration": 90,
    "start_time": "2021-10-27T12:08:25.590Z"
   },
   {
    "duration": 34,
    "start_time": "2021-10-27T12:08:25.683Z"
   },
   {
    "duration": 18,
    "start_time": "2021-10-27T12:08:25.720Z"
   },
   {
    "duration": 41,
    "start_time": "2021-10-27T12:08:25.741Z"
   },
   {
    "duration": 33,
    "start_time": "2021-10-27T12:08:25.800Z"
   },
   {
    "duration": 27,
    "start_time": "2021-10-27T12:08:25.837Z"
   },
   {
    "duration": 9,
    "start_time": "2021-10-27T12:08:25.867Z"
   },
   {
    "duration": 5553,
    "start_time": "2021-10-27T12:08:25.901Z"
   },
   {
    "duration": 522,
    "start_time": "2021-10-27T12:08:31.456Z"
   },
   {
    "duration": -693,
    "start_time": "2021-10-27T12:08:32.673Z"
   },
   {
    "duration": -699,
    "start_time": "2021-10-27T12:08:32.680Z"
   },
   {
    "duration": 1650,
    "start_time": "2021-10-27T12:10:10.647Z"
   },
   {
    "duration": 4,
    "start_time": "2021-10-27T12:10:12.300Z"
   },
   {
    "duration": 712,
    "start_time": "2021-10-27T12:10:12.307Z"
   },
   {
    "duration": 4,
    "start_time": "2021-10-27T12:10:13.022Z"
   },
   {
    "duration": 171,
    "start_time": "2021-10-27T12:10:13.029Z"
   },
   {
    "duration": 10,
    "start_time": "2021-10-27T12:10:13.203Z"
   },
   {
    "duration": 224,
    "start_time": "2021-10-27T12:10:13.216Z"
   },
   {
    "duration": 157,
    "start_time": "2021-10-27T12:10:13.444Z"
   },
   {
    "duration": 121,
    "start_time": "2021-10-27T12:10:13.604Z"
   },
   {
    "duration": 36,
    "start_time": "2021-10-27T12:10:13.728Z"
   },
   {
    "duration": 34,
    "start_time": "2021-10-27T12:10:13.766Z"
   },
   {
    "duration": 14,
    "start_time": "2021-10-27T12:10:13.803Z"
   },
   {
    "duration": 10,
    "start_time": "2021-10-27T12:10:13.820Z"
   },
   {
    "duration": 35,
    "start_time": "2021-10-27T12:10:13.833Z"
   },
   {
    "duration": 30,
    "start_time": "2021-10-27T12:10:13.870Z"
   },
   {
    "duration": 47,
    "start_time": "2021-10-27T12:10:13.903Z"
   },
   {
    "duration": 59,
    "start_time": "2021-10-27T12:10:13.952Z"
   },
   {
    "duration": 44,
    "start_time": "2021-10-27T12:10:14.014Z"
   },
   {
    "duration": 59,
    "start_time": "2021-10-27T12:10:14.060Z"
   },
   {
    "duration": 92,
    "start_time": "2021-10-27T12:10:14.122Z"
   },
   {
    "duration": 5,
    "start_time": "2021-10-27T12:10:14.216Z"
   },
   {
    "duration": 111,
    "start_time": "2021-10-27T12:10:14.224Z"
   },
   {
    "duration": 1733,
    "start_time": "2021-10-27T12:10:14.337Z"
   },
   {
    "duration": 8,
    "start_time": "2021-10-27T12:10:16.072Z"
   },
   {
    "duration": 90,
    "start_time": "2021-10-27T12:10:16.083Z"
   },
   {
    "duration": 40,
    "start_time": "2021-10-27T12:10:16.178Z"
   },
   {
    "duration": 6,
    "start_time": "2021-10-27T12:10:16.221Z"
   },
   {
    "duration": 73,
    "start_time": "2021-10-27T12:10:16.229Z"
   },
   {
    "duration": 33,
    "start_time": "2021-10-27T12:10:16.305Z"
   },
   {
    "duration": 33,
    "start_time": "2021-10-27T12:10:16.341Z"
   },
   {
    "duration": 15,
    "start_time": "2021-10-27T12:10:16.401Z"
   },
   {
    "duration": 10,
    "start_time": "2021-10-27T12:10:16.418Z"
   },
   {
    "duration": 5575,
    "start_time": "2021-10-27T12:10:16.430Z"
   },
   {
    "duration": 563,
    "start_time": "2021-10-27T12:10:22.008Z"
   },
   {
    "duration": -648,
    "start_time": "2021-10-27T12:10:23.222Z"
   },
   {
    "duration": -661,
    "start_time": "2021-10-27T12:10:23.236Z"
   },
   {
    "duration": 31,
    "start_time": "2021-10-27T12:12:20.836Z"
   },
   {
    "duration": 32,
    "start_time": "2021-10-27T12:12:57.534Z"
   },
   {
    "duration": 411,
    "start_time": "2021-10-27T12:15:01.951Z"
   },
   {
    "duration": 399,
    "start_time": "2021-10-27T12:20:20.493Z"
   },
   {
    "duration": 1551,
    "start_time": "2021-10-27T12:20:54.239Z"
   },
   {
    "duration": 8,
    "start_time": "2021-10-27T12:20:55.792Z"
   },
   {
    "duration": 692,
    "start_time": "2021-10-27T12:20:55.803Z"
   },
   {
    "duration": 4,
    "start_time": "2021-10-27T12:20:56.498Z"
   },
   {
    "duration": 161,
    "start_time": "2021-10-27T12:20:56.504Z"
   },
   {
    "duration": 12,
    "start_time": "2021-10-27T12:20:56.668Z"
   },
   {
    "duration": 206,
    "start_time": "2021-10-27T12:20:56.701Z"
   },
   {
    "duration": 151,
    "start_time": "2021-10-27T12:20:56.909Z"
   },
   {
    "duration": 114,
    "start_time": "2021-10-27T12:20:57.064Z"
   },
   {
    "duration": 44,
    "start_time": "2021-10-27T12:20:57.181Z"
   },
   {
    "duration": 9,
    "start_time": "2021-10-27T12:20:57.228Z"
   },
   {
    "duration": 14,
    "start_time": "2021-10-27T12:20:57.239Z"
   },
   {
    "duration": 7,
    "start_time": "2021-10-27T12:20:57.255Z"
   },
   {
    "duration": 60,
    "start_time": "2021-10-27T12:20:57.264Z"
   },
   {
    "duration": 3,
    "start_time": "2021-10-27T12:20:57.326Z"
   },
   {
    "duration": 43,
    "start_time": "2021-10-27T12:20:57.331Z"
   },
   {
    "duration": 66,
    "start_time": "2021-10-27T12:20:57.376Z"
   },
   {
    "duration": 58,
    "start_time": "2021-10-27T12:20:57.444Z"
   },
   {
    "duration": 33,
    "start_time": "2021-10-27T12:20:57.504Z"
   },
   {
    "duration": 91,
    "start_time": "2021-10-27T12:20:57.539Z"
   },
   {
    "duration": 4,
    "start_time": "2021-10-27T12:20:57.632Z"
   },
   {
    "duration": 109,
    "start_time": "2021-10-27T12:20:57.638Z"
   },
   {
    "duration": 1696,
    "start_time": "2021-10-27T12:20:57.750Z"
   },
   {
    "duration": 7,
    "start_time": "2021-10-27T12:20:59.449Z"
   },
   {
    "duration": 93,
    "start_time": "2021-10-27T12:20:59.458Z"
   },
   {
    "duration": 52,
    "start_time": "2021-10-27T12:20:59.553Z"
   },
   {
    "duration": 37,
    "start_time": "2021-10-27T12:20:59.610Z"
   },
   {
    "duration": 530,
    "start_time": "2021-10-27T12:20:59.649Z"
   },
   {
    "duration": -851,
    "start_time": "2021-10-27T12:21:01.033Z"
   },
   {
    "duration": -950,
    "start_time": "2021-10-27T12:21:01.133Z"
   },
   {
    "duration": -970,
    "start_time": "2021-10-27T12:21:01.155Z"
   },
   {
    "duration": -985,
    "start_time": "2021-10-27T12:21:01.171Z"
   },
   {
    "duration": -993,
    "start_time": "2021-10-27T12:21:01.180Z"
   },
   {
    "duration": 439,
    "start_time": "2021-10-27T12:21:27.291Z"
   },
   {
    "duration": 20,
    "start_time": "2021-10-27T12:23:12.449Z"
   },
   {
    "duration": 1534,
    "start_time": "2021-10-27T12:24:22.474Z"
   },
   {
    "duration": 4,
    "start_time": "2021-10-27T12:24:24.011Z"
   },
   {
    "duration": 751,
    "start_time": "2021-10-27T12:24:24.018Z"
   },
   {
    "duration": 5,
    "start_time": "2021-10-27T12:24:24.772Z"
   },
   {
    "duration": 187,
    "start_time": "2021-10-27T12:24:24.779Z"
   },
   {
    "duration": 10,
    "start_time": "2021-10-27T12:24:24.969Z"
   },
   {
    "duration": 212,
    "start_time": "2021-10-27T12:24:24.982Z"
   },
   {
    "duration": 145,
    "start_time": "2021-10-27T12:24:25.200Z"
   },
   {
    "duration": 108,
    "start_time": "2021-10-27T12:24:25.349Z"
   },
   {
    "duration": 53,
    "start_time": "2021-10-27T12:24:25.460Z"
   },
   {
    "duration": 10,
    "start_time": "2021-10-27T12:24:25.516Z"
   },
   {
    "duration": 13,
    "start_time": "2021-10-27T12:24:25.528Z"
   },
   {
    "duration": 15,
    "start_time": "2021-10-27T12:24:25.544Z"
   },
   {
    "duration": 55,
    "start_time": "2021-10-27T12:24:25.562Z"
   },
   {
    "duration": 3,
    "start_time": "2021-10-27T12:24:25.619Z"
   },
   {
    "duration": 54,
    "start_time": "2021-10-27T12:24:25.624Z"
   },
   {
    "duration": 60,
    "start_time": "2021-10-27T12:24:25.680Z"
   },
   {
    "duration": 73,
    "start_time": "2021-10-27T12:24:25.743Z"
   },
   {
    "duration": 34,
    "start_time": "2021-10-27T12:24:25.819Z"
   },
   {
    "duration": 96,
    "start_time": "2021-10-27T12:24:25.856Z"
   },
   {
    "duration": 5,
    "start_time": "2021-10-27T12:24:25.954Z"
   },
   {
    "duration": 113,
    "start_time": "2021-10-27T12:24:25.961Z"
   },
   {
    "duration": 1842,
    "start_time": "2021-10-27T12:24:26.077Z"
   },
   {
    "duration": 8,
    "start_time": "2021-10-27T12:24:27.922Z"
   },
   {
    "duration": 95,
    "start_time": "2021-10-27T12:24:27.933Z"
   },
   {
    "duration": 31,
    "start_time": "2021-10-27T12:24:28.031Z"
   },
   {
    "duration": 60,
    "start_time": "2021-10-27T12:24:28.067Z"
   },
   {
    "duration": 19,
    "start_time": "2021-10-27T12:24:28.130Z"
   },
   {
    "duration": 7,
    "start_time": "2021-10-27T12:24:28.152Z"
   },
   {
    "duration": 6314,
    "start_time": "2021-10-27T12:24:28.162Z"
   },
   {
    "duration": 559,
    "start_time": "2021-10-27T12:24:34.479Z"
   },
   {
    "duration": 2937,
    "start_time": "2021-10-27T12:26:44.532Z"
   },
   {
    "duration": 1473,
    "start_time": "2021-10-27T12:27:55.204Z"
   },
   {
    "duration": 3,
    "start_time": "2021-10-27T12:27:56.680Z"
   },
   {
    "duration": 682,
    "start_time": "2021-10-27T12:27:56.686Z"
   },
   {
    "duration": 4,
    "start_time": "2021-10-27T12:27:57.371Z"
   },
   {
    "duration": 152,
    "start_time": "2021-10-27T12:27:57.377Z"
   },
   {
    "duration": 12,
    "start_time": "2021-10-27T12:27:57.531Z"
   },
   {
    "duration": 207,
    "start_time": "2021-10-27T12:27:57.546Z"
   },
   {
    "duration": 146,
    "start_time": "2021-10-27T12:27:57.756Z"
   },
   {
    "duration": 115,
    "start_time": "2021-10-27T12:27:57.906Z"
   },
   {
    "duration": 36,
    "start_time": "2021-10-27T12:27:58.024Z"
   },
   {
    "duration": 9,
    "start_time": "2021-10-27T12:27:58.062Z"
   },
   {
    "duration": 36,
    "start_time": "2021-10-27T12:27:58.073Z"
   },
   {
    "duration": 3,
    "start_time": "2021-10-27T12:27:58.111Z"
   },
   {
    "duration": 30,
    "start_time": "2021-10-27T12:27:58.116Z"
   },
   {
    "duration": 3,
    "start_time": "2021-10-27T12:27:58.148Z"
   },
   {
    "duration": 79,
    "start_time": "2021-10-27T12:27:58.153Z"
   },
   {
    "duration": 69,
    "start_time": "2021-10-27T12:27:58.234Z"
   },
   {
    "duration": 45,
    "start_time": "2021-10-27T12:27:58.306Z"
   },
   {
    "duration": 59,
    "start_time": "2021-10-27T12:27:58.355Z"
   },
   {
    "duration": 87,
    "start_time": "2021-10-27T12:27:58.416Z"
   },
   {
    "duration": 4,
    "start_time": "2021-10-27T12:27:58.506Z"
   },
   {
    "duration": 106,
    "start_time": "2021-10-27T12:27:58.512Z"
   },
   {
    "duration": 1686,
    "start_time": "2021-10-27T12:27:58.621Z"
   },
   {
    "duration": 14,
    "start_time": "2021-10-27T12:28:00.309Z"
   },
   {
    "duration": 99,
    "start_time": "2021-10-27T12:28:00.325Z"
   },
   {
    "duration": 31,
    "start_time": "2021-10-27T12:28:00.427Z"
   },
   {
    "duration": 57,
    "start_time": "2021-10-27T12:28:00.463Z"
   },
   {
    "duration": 34,
    "start_time": "2021-10-27T12:28:00.523Z"
   },
   {
    "duration": 2841,
    "start_time": "2021-10-27T12:28:00.559Z"
   },
   {
    "duration": 347,
    "start_time": "2021-10-27T15:10:14.308Z"
   },
   {
    "duration": 311,
    "start_time": "2021-10-27T15:10:42.322Z"
   },
   {
    "duration": 1578,
    "start_time": "2021-10-27T15:10:51.133Z"
   },
   {
    "duration": 4,
    "start_time": "2021-10-27T15:10:52.715Z"
   },
   {
    "duration": 851,
    "start_time": "2021-10-27T15:10:52.721Z"
   },
   {
    "duration": 7,
    "start_time": "2021-10-27T15:10:53.577Z"
   },
   {
    "duration": 213,
    "start_time": "2021-10-27T15:10:53.587Z"
   },
   {
    "duration": 13,
    "start_time": "2021-10-27T15:10:53.804Z"
   },
   {
    "duration": 241,
    "start_time": "2021-10-27T15:10:53.821Z"
   },
   {
    "duration": 157,
    "start_time": "2021-10-27T15:10:54.065Z"
   },
   {
    "duration": 107,
    "start_time": "2021-10-27T15:10:54.225Z"
   },
   {
    "duration": 54,
    "start_time": "2021-10-27T15:10:54.334Z"
   },
   {
    "duration": 11,
    "start_time": "2021-10-27T15:10:54.390Z"
   },
   {
    "duration": 27,
    "start_time": "2021-10-27T15:10:54.404Z"
   },
   {
    "duration": 7,
    "start_time": "2021-10-27T15:10:54.434Z"
   },
   {
    "duration": 55,
    "start_time": "2021-10-27T15:10:54.443Z"
   },
   {
    "duration": 3,
    "start_time": "2021-10-27T15:10:54.501Z"
   },
   {
    "duration": 63,
    "start_time": "2021-10-27T15:10:54.506Z"
   },
   {
    "duration": 47,
    "start_time": "2021-10-27T15:10:54.571Z"
   },
   {
    "duration": 68,
    "start_time": "2021-10-27T15:10:54.622Z"
   },
   {
    "duration": 32,
    "start_time": "2021-10-27T15:10:54.692Z"
   },
   {
    "duration": 90,
    "start_time": "2021-10-27T15:10:54.727Z"
   },
   {
    "duration": 4,
    "start_time": "2021-10-27T15:10:54.820Z"
   },
   {
    "duration": 118,
    "start_time": "2021-10-27T15:10:54.827Z"
   },
   {
    "duration": 1770,
    "start_time": "2021-10-27T15:10:54.947Z"
   },
   {
    "duration": 9,
    "start_time": "2021-10-27T15:10:56.720Z"
   },
   {
    "duration": 107,
    "start_time": "2021-10-27T15:10:56.732Z"
   },
   {
    "duration": 53,
    "start_time": "2021-10-27T15:10:56.842Z"
   },
   {
    "duration": 71,
    "start_time": "2021-10-27T15:10:56.898Z"
   },
   {
    "duration": 24,
    "start_time": "2021-10-27T15:10:56.972Z"
   },
   {
    "duration": 2915,
    "start_time": "2021-10-27T15:10:57.008Z"
   },
   {
    "duration": 8,
    "start_time": "2021-10-27T15:10:59.927Z"
   },
   {
    "duration": 1504,
    "start_time": "2021-10-27T15:12:23.340Z"
   },
   {
    "duration": 3,
    "start_time": "2021-10-27T15:12:24.847Z"
   },
   {
    "duration": 685,
    "start_time": "2021-10-27T15:12:24.853Z"
   },
   {
    "duration": 4,
    "start_time": "2021-10-27T15:12:25.541Z"
   },
   {
    "duration": 159,
    "start_time": "2021-10-27T15:12:25.548Z"
   },
   {
    "duration": 12,
    "start_time": "2021-10-27T15:12:25.709Z"
   },
   {
    "duration": 215,
    "start_time": "2021-10-27T15:12:25.723Z"
   },
   {
    "duration": 150,
    "start_time": "2021-10-27T15:12:25.941Z"
   },
   {
    "duration": 103,
    "start_time": "2021-10-27T15:12:26.096Z"
   },
   {
    "duration": 32,
    "start_time": "2021-10-27T15:12:26.202Z"
   },
   {
    "duration": 9,
    "start_time": "2021-10-27T15:12:26.236Z"
   },
   {
    "duration": 12,
    "start_time": "2021-10-27T15:12:26.268Z"
   },
   {
    "duration": 3,
    "start_time": "2021-10-27T15:12:26.283Z"
   },
   {
    "duration": 31,
    "start_time": "2021-10-27T15:12:26.288Z"
   },
   {
    "duration": 3,
    "start_time": "2021-10-27T15:12:26.321Z"
   },
   {
    "duration": 70,
    "start_time": "2021-10-27T15:12:26.326Z"
   },
   {
    "duration": 39,
    "start_time": "2021-10-27T15:12:26.399Z"
   },
   {
    "duration": 61,
    "start_time": "2021-10-27T15:12:26.440Z"
   },
   {
    "duration": 29,
    "start_time": "2021-10-27T15:12:26.504Z"
   },
   {
    "duration": 97,
    "start_time": "2021-10-27T15:12:26.535Z"
   },
   {
    "duration": 4,
    "start_time": "2021-10-27T15:12:26.634Z"
   },
   {
    "duration": 106,
    "start_time": "2021-10-27T15:12:26.641Z"
   },
   {
    "duration": 1681,
    "start_time": "2021-10-27T15:12:26.767Z"
   },
   {
    "duration": 16,
    "start_time": "2021-10-27T15:12:28.451Z"
   },
   {
    "duration": 98,
    "start_time": "2021-10-27T15:12:28.469Z"
   },
   {
    "duration": 33,
    "start_time": "2021-10-27T15:12:28.570Z"
   },
   {
    "duration": 33,
    "start_time": "2021-10-27T15:12:28.608Z"
   },
   {
    "duration": 42,
    "start_time": "2021-10-27T15:12:28.643Z"
   },
   {
    "duration": 2880,
    "start_time": "2021-10-27T15:12:28.687Z"
   },
   {
    "duration": 8,
    "start_time": "2021-10-27T15:12:31.569Z"
   },
   {
    "duration": 727,
    "start_time": "2021-10-27T15:13:10.251Z"
   },
   {
    "duration": 695,
    "start_time": "2021-10-27T15:13:23.331Z"
   },
   {
    "duration": 7,
    "start_time": "2021-10-27T15:13:32.669Z"
   },
   {
    "duration": 7,
    "start_time": "2021-10-27T15:14:05.394Z"
   },
   {
    "duration": 8,
    "start_time": "2021-10-27T15:14:16.428Z"
   },
   {
    "duration": 7,
    "start_time": "2021-10-27T15:15:14.167Z"
   },
   {
    "duration": 35,
    "start_time": "2021-10-27T15:24:09.320Z"
   },
   {
    "duration": 38,
    "start_time": "2021-10-27T15:24:41.016Z"
   },
   {
    "duration": 31,
    "start_time": "2021-10-27T15:25:06.275Z"
   },
   {
    "duration": 35,
    "start_time": "2021-10-27T15:25:31.032Z"
   },
   {
    "duration": 68,
    "start_time": "2021-10-27T15:25:43.091Z"
   },
   {
    "duration": 84,
    "start_time": "2021-10-27T15:25:52.882Z"
   },
   {
    "duration": 1796,
    "start_time": "2021-10-27T15:25:58.779Z"
   },
   {
    "duration": 34,
    "start_time": "2021-10-27T15:26:16.225Z"
   },
   {
    "duration": 1570,
    "start_time": "2021-10-27T15:26:25.212Z"
   },
   {
    "duration": 4,
    "start_time": "2021-10-27T15:26:26.784Z"
   },
   {
    "duration": 693,
    "start_time": "2021-10-27T15:26:26.791Z"
   },
   {
    "duration": 5,
    "start_time": "2021-10-27T15:26:27.487Z"
   },
   {
    "duration": 177,
    "start_time": "2021-10-27T15:26:27.494Z"
   },
   {
    "duration": 10,
    "start_time": "2021-10-27T15:26:27.674Z"
   },
   {
    "duration": 212,
    "start_time": "2021-10-27T15:26:27.687Z"
   },
   {
    "duration": 146,
    "start_time": "2021-10-27T15:26:27.903Z"
   },
   {
    "duration": 106,
    "start_time": "2021-10-27T15:26:28.052Z"
   },
   {
    "duration": 33,
    "start_time": "2021-10-27T15:26:28.167Z"
   },
   {
    "duration": 10,
    "start_time": "2021-10-27T15:26:28.203Z"
   },
   {
    "duration": 12,
    "start_time": "2021-10-27T15:26:28.215Z"
   },
   {
    "duration": 7,
    "start_time": "2021-10-27T15:26:28.229Z"
   },
   {
    "duration": 28,
    "start_time": "2021-10-27T15:26:28.267Z"
   },
   {
    "duration": 3,
    "start_time": "2021-10-27T15:26:28.297Z"
   },
   {
    "duration": 68,
    "start_time": "2021-10-27T15:26:28.302Z"
   },
   {
    "duration": 41,
    "start_time": "2021-10-27T15:26:28.372Z"
   },
   {
    "duration": 68,
    "start_time": "2021-10-27T15:26:28.416Z"
   },
   {
    "duration": 36,
    "start_time": "2021-10-27T15:26:28.487Z"
   },
   {
    "duration": 92,
    "start_time": "2021-10-27T15:26:28.525Z"
   },
   {
    "duration": 4,
    "start_time": "2021-10-27T15:26:28.620Z"
   },
   {
    "duration": 106,
    "start_time": "2021-10-27T15:26:28.627Z"
   },
   {
    "duration": 1735,
    "start_time": "2021-10-27T15:26:28.737Z"
   },
   {
    "duration": 9,
    "start_time": "2021-10-27T15:26:30.475Z"
   },
   {
    "duration": 98,
    "start_time": "2021-10-27T15:26:30.486Z"
   },
   {
    "duration": 33,
    "start_time": "2021-10-27T15:26:30.587Z"
   },
   {
    "duration": 61,
    "start_time": "2021-10-27T15:26:30.623Z"
   },
   {
    "duration": 23,
    "start_time": "2021-10-27T15:26:30.686Z"
   },
   {
    "duration": 2926,
    "start_time": "2021-10-27T15:26:30.712Z"
   },
   {
    "duration": 7,
    "start_time": "2021-10-27T15:26:33.641Z"
   },
   {
    "duration": 7,
    "start_time": "2021-10-27T15:27:05.550Z"
   },
   {
    "duration": 6,
    "start_time": "2021-10-27T15:27:36.412Z"
   },
   {
    "duration": 6,
    "start_time": "2021-10-27T15:27:41.552Z"
   },
   {
    "duration": 232,
    "start_time": "2021-10-27T15:30:17.331Z"
   },
   {
    "duration": 7504,
    "start_time": "2021-10-27T17:12:09.434Z"
   },
   {
    "duration": 22,
    "start_time": "2021-10-27T17:12:25.621Z"
   },
   {
    "duration": 9,
    "start_time": "2021-10-27T17:13:14.840Z"
   },
   {
    "duration": 10,
    "start_time": "2021-10-27T17:13:36.184Z"
   },
   {
    "duration": 7,
    "start_time": "2021-10-27T17:14:04.172Z"
   },
   {
    "duration": 10,
    "start_time": "2021-10-27T17:14:05.612Z"
   },
   {
    "duration": 10,
    "start_time": "2021-10-27T17:14:13.588Z"
   },
   {
    "duration": 12,
    "start_time": "2021-10-27T17:14:14.620Z"
   },
   {
    "duration": 1473,
    "start_time": "2021-10-27T17:15:33.379Z"
   },
   {
    "duration": 12,
    "start_time": "2021-10-27T17:15:34.855Z"
   },
   {
    "duration": 693,
    "start_time": "2021-10-27T17:15:34.871Z"
   },
   {
    "duration": 4,
    "start_time": "2021-10-27T17:15:35.567Z"
   },
   {
    "duration": 170,
    "start_time": "2021-10-27T17:15:35.574Z"
   },
   {
    "duration": 21,
    "start_time": "2021-10-27T17:15:35.747Z"
   },
   {
    "duration": 206,
    "start_time": "2021-10-27T17:15:35.770Z"
   },
   {
    "duration": 145,
    "start_time": "2021-10-27T17:15:35.978Z"
   },
   {
    "duration": 112,
    "start_time": "2021-10-27T17:15:36.127Z"
   },
   {
    "duration": 44,
    "start_time": "2021-10-27T17:15:36.243Z"
   },
   {
    "duration": 11,
    "start_time": "2021-10-27T17:15:36.290Z"
   },
   {
    "duration": 16,
    "start_time": "2021-10-27T17:15:36.304Z"
   },
   {
    "duration": 44,
    "start_time": "2021-10-27T17:15:36.323Z"
   },
   {
    "duration": 28,
    "start_time": "2021-10-27T17:15:36.371Z"
   },
   {
    "duration": 3,
    "start_time": "2021-10-27T17:15:36.402Z"
   },
   {
    "duration": 76,
    "start_time": "2021-10-27T17:15:36.408Z"
   },
   {
    "duration": 43,
    "start_time": "2021-10-27T17:15:36.487Z"
   },
   {
    "duration": 67,
    "start_time": "2021-10-27T17:15:36.533Z"
   },
   {
    "duration": 35,
    "start_time": "2021-10-27T17:15:36.602Z"
   },
   {
    "duration": 91,
    "start_time": "2021-10-27T17:15:36.639Z"
   },
   {
    "duration": 4,
    "start_time": "2021-10-27T17:15:36.732Z"
   },
   {
    "duration": 106,
    "start_time": "2021-10-27T17:15:36.739Z"
   },
   {
    "duration": 1810,
    "start_time": "2021-10-27T17:15:36.847Z"
   },
   {
    "duration": 8,
    "start_time": "2021-10-27T17:15:38.668Z"
   },
   {
    "duration": 95,
    "start_time": "2021-10-27T17:15:38.679Z"
   },
   {
    "duration": 34,
    "start_time": "2021-10-27T17:15:38.777Z"
   },
   {
    "duration": 65,
    "start_time": "2021-10-27T17:15:38.816Z"
   },
   {
    "duration": 22,
    "start_time": "2021-10-27T17:15:38.884Z"
   },
   {
    "duration": 3194,
    "start_time": "2021-10-27T17:15:38.908Z"
   },
   {
    "duration": 6,
    "start_time": "2021-10-27T17:15:42.105Z"
   },
   {
    "duration": 16,
    "start_time": "2021-10-27T17:15:42.113Z"
   },
   {
    "duration": 10,
    "start_time": "2021-10-27T17:16:58.053Z"
   },
   {
    "duration": 10,
    "start_time": "2021-10-27T17:17:06.794Z"
   },
   {
    "duration": 10,
    "start_time": "2021-10-27T17:17:09.496Z"
   },
   {
    "duration": 1495,
    "start_time": "2021-10-27T17:18:16.857Z"
   },
   {
    "duration": 4,
    "start_time": "2021-10-27T17:18:18.355Z"
   },
   {
    "duration": 698,
    "start_time": "2021-10-27T17:18:18.361Z"
   },
   {
    "duration": 6,
    "start_time": "2021-10-27T17:18:19.063Z"
   },
   {
    "duration": 164,
    "start_time": "2021-10-27T17:18:19.072Z"
   },
   {
    "duration": 27,
    "start_time": "2021-10-27T17:18:19.239Z"
   },
   {
    "duration": 199,
    "start_time": "2021-10-27T17:18:19.269Z"
   },
   {
    "duration": 144,
    "start_time": "2021-10-27T17:18:19.472Z"
   },
   {
    "duration": 111,
    "start_time": "2021-10-27T17:18:19.619Z"
   },
   {
    "duration": 42,
    "start_time": "2021-10-27T17:18:19.732Z"
   },
   {
    "duration": 10,
    "start_time": "2021-10-27T17:18:19.776Z"
   },
   {
    "duration": 14,
    "start_time": "2021-10-27T17:18:19.788Z"
   },
   {
    "duration": 3,
    "start_time": "2021-10-27T17:18:19.804Z"
   },
   {
    "duration": 61,
    "start_time": "2021-10-27T17:18:19.809Z"
   },
   {
    "duration": 3,
    "start_time": "2021-10-27T17:18:19.872Z"
   },
   {
    "duration": 37,
    "start_time": "2021-10-27T17:18:19.878Z"
   },
   {
    "duration": 71,
    "start_time": "2021-10-27T17:18:19.918Z"
   },
   {
    "duration": 38,
    "start_time": "2021-10-27T17:18:19.991Z"
   },
   {
    "duration": 67,
    "start_time": "2021-10-27T17:18:20.032Z"
   },
   {
    "duration": 86,
    "start_time": "2021-10-27T17:18:20.101Z"
   },
   {
    "duration": 4,
    "start_time": "2021-10-27T17:18:20.189Z"
   },
   {
    "duration": 103,
    "start_time": "2021-10-27T17:18:20.196Z"
   },
   {
    "duration": 1765,
    "start_time": "2021-10-27T17:18:20.302Z"
   },
   {
    "duration": 9,
    "start_time": "2021-10-27T17:18:22.069Z"
   },
   {
    "duration": 98,
    "start_time": "2021-10-27T17:18:22.081Z"
   },
   {
    "duration": 35,
    "start_time": "2021-10-27T17:18:22.184Z"
   },
   {
    "duration": 63,
    "start_time": "2021-10-27T17:18:22.222Z"
   },
   {
    "duration": 25,
    "start_time": "2021-10-27T17:18:22.287Z"
   },
   {
    "duration": 2930,
    "start_time": "2021-10-27T17:18:22.315Z"
   },
   {
    "duration": 21,
    "start_time": "2021-10-27T17:18:25.247Z"
   },
   {
    "duration": 16,
    "start_time": "2021-10-27T17:18:25.271Z"
   },
   {
    "duration": 1521,
    "start_time": "2021-10-27T17:20:04.346Z"
   },
   {
    "duration": 3,
    "start_time": "2021-10-27T17:20:05.870Z"
   },
   {
    "duration": 699,
    "start_time": "2021-10-27T17:20:05.876Z"
   },
   {
    "duration": 5,
    "start_time": "2021-10-27T17:20:06.577Z"
   },
   {
    "duration": 183,
    "start_time": "2021-10-27T17:20:06.584Z"
   },
   {
    "duration": 12,
    "start_time": "2021-10-27T17:20:06.770Z"
   },
   {
    "duration": 212,
    "start_time": "2021-10-27T17:20:06.785Z"
   },
   {
    "duration": 152,
    "start_time": "2021-10-27T17:20:07.002Z"
   },
   {
    "duration": 111,
    "start_time": "2021-10-27T17:20:07.157Z"
   },
   {
    "duration": 33,
    "start_time": "2021-10-27T17:20:07.271Z"
   },
   {
    "duration": 12,
    "start_time": "2021-10-27T17:20:07.307Z"
   },
   {
    "duration": 49,
    "start_time": "2021-10-27T17:20:07.323Z"
   },
   {
    "duration": 4,
    "start_time": "2021-10-27T17:20:07.375Z"
   },
   {
    "duration": 28,
    "start_time": "2021-10-27T17:20:07.382Z"
   },
   {
    "duration": 4,
    "start_time": "2021-10-27T17:20:07.413Z"
   },
   {
    "duration": 74,
    "start_time": "2021-10-27T17:20:07.420Z"
   },
   {
    "duration": 70,
    "start_time": "2021-10-27T17:20:07.497Z"
   },
   {
    "duration": 38,
    "start_time": "2021-10-27T17:20:07.570Z"
   },
   {
    "duration": 70,
    "start_time": "2021-10-27T17:20:07.611Z"
   },
   {
    "duration": 89,
    "start_time": "2021-10-27T17:20:07.684Z"
   },
   {
    "duration": 4,
    "start_time": "2021-10-27T17:20:07.776Z"
   },
   {
    "duration": 101,
    "start_time": "2021-10-27T17:20:07.782Z"
   },
   {
    "duration": 1723,
    "start_time": "2021-10-27T17:20:07.888Z"
   },
   {
    "duration": 8,
    "start_time": "2021-10-27T17:20:09.613Z"
   },
   {
    "duration": 93,
    "start_time": "2021-10-27T17:20:09.624Z"
   },
   {
    "duration": 53,
    "start_time": "2021-10-27T17:20:09.719Z"
   },
   {
    "duration": 36,
    "start_time": "2021-10-27T17:20:09.775Z"
   },
   {
    "duration": 55,
    "start_time": "2021-10-27T17:20:09.814Z"
   },
   {
    "duration": 2988,
    "start_time": "2021-10-27T17:20:09.872Z"
   },
   {
    "duration": 12,
    "start_time": "2021-10-27T17:20:12.866Z"
   },
   {
    "duration": 12,
    "start_time": "2021-10-27T17:20:12.881Z"
   },
   {
    "duration": 997,
    "start_time": "2021-10-27T19:58:12.370Z"
   },
   {
    "duration": 988,
    "start_time": "2021-10-27T19:58:37.082Z"
   },
   {
    "duration": 242,
    "start_time": "2021-10-27T19:59:53.759Z"
   },
   {
    "duration": 653,
    "start_time": "2021-10-27T20:03:50.154Z"
   },
   {
    "duration": 338,
    "start_time": "2021-10-27T20:07:01.462Z"
   },
   {
    "duration": 786,
    "start_time": "2021-10-27T20:07:19.524Z"
   },
   {
    "duration": 212,
    "start_time": "2021-10-27T20:08:24.888Z"
   },
   {
    "duration": 877,
    "start_time": "2021-10-27T20:15:14.139Z"
   },
   {
    "duration": 560,
    "start_time": "2021-10-27T20:15:48.307Z"
   },
   {
    "duration": 447,
    "start_time": "2021-10-27T20:16:39.306Z"
   },
   {
    "duration": 482,
    "start_time": "2021-10-27T20:16:46.829Z"
   },
   {
    "duration": 487,
    "start_time": "2021-10-27T20:17:52.751Z"
   },
   {
    "duration": 490,
    "start_time": "2021-10-27T20:18:44.680Z"
   },
   {
    "duration": 2086,
    "start_time": "2021-10-27T20:21:44.651Z"
   },
   {
    "duration": 983,
    "start_time": "2021-10-27T20:27:27.373Z"
   },
   {
    "duration": 4,
    "start_time": "2021-10-27T20:28:19.628Z"
   },
   {
    "duration": 821,
    "start_time": "2021-10-27T20:28:24.763Z"
   },
   {
    "duration": 938,
    "start_time": "2021-10-27T20:29:29.709Z"
   },
   {
    "duration": 706,
    "start_time": "2021-10-27T20:29:41.632Z"
   },
   {
    "duration": 110,
    "start_time": "2021-10-27T20:38:34.764Z"
   },
   {
    "duration": 2108,
    "start_time": "2021-10-27T20:38:43.600Z"
   },
   {
    "duration": 2148,
    "start_time": "2021-10-27T20:39:04.162Z"
   },
   {
    "duration": 2322,
    "start_time": "2021-10-27T20:39:39.403Z"
   },
   {
    "duration": 289,
    "start_time": "2021-10-27T20:43:55.479Z"
   },
   {
    "duration": 2093,
    "start_time": "2021-10-27T20:44:57.278Z"
   },
   {
    "duration": 2073,
    "start_time": "2021-10-27T20:45:44.066Z"
   },
   {
    "duration": 2118,
    "start_time": "2021-10-27T20:46:16.263Z"
   },
   {
    "duration": 1938,
    "start_time": "2021-10-27T20:46:36.466Z"
   },
   {
    "duration": 2074,
    "start_time": "2021-10-27T20:46:50.372Z"
   },
   {
    "duration": 2024,
    "start_time": "2021-10-27T20:47:20.415Z"
   },
   {
    "duration": 948,
    "start_time": "2021-10-27T20:52:15.312Z"
   },
   {
    "duration": 833,
    "start_time": "2021-10-27T20:52:42.097Z"
   },
   {
    "duration": 2721,
    "start_time": "2021-10-27T20:52:58.802Z"
   },
   {
    "duration": 102,
    "start_time": "2021-10-27T20:57:37.963Z"
   },
   {
    "duration": 2145,
    "start_time": "2021-10-27T20:57:44.281Z"
   },
   {
    "duration": 2838,
    "start_time": "2021-10-27T20:57:56.667Z"
   },
   {
    "duration": 3071,
    "start_time": "2021-10-27T20:58:33.215Z"
   },
   {
    "duration": 2920,
    "start_time": "2021-10-27T20:58:50.970Z"
   },
   {
    "duration": 2953,
    "start_time": "2021-10-27T20:59:05.922Z"
   },
   {
    "duration": 3085,
    "start_time": "2021-10-27T20:59:16.309Z"
   },
   {
    "duration": 3136,
    "start_time": "2021-10-27T20:59:38.552Z"
   },
   {
    "duration": 3040,
    "start_time": "2021-10-27T20:59:46.956Z"
   },
   {
    "duration": 2991,
    "start_time": "2021-10-27T21:00:01.595Z"
   },
   {
    "duration": 2959,
    "start_time": "2021-10-27T21:00:08.818Z"
   },
   {
    "duration": 3094,
    "start_time": "2021-10-27T21:00:16.186Z"
   },
   {
    "duration": 2946,
    "start_time": "2021-10-27T21:00:23.331Z"
   },
   {
    "duration": 2937,
    "start_time": "2021-10-27T21:00:29.951Z"
   },
   {
    "duration": 2339,
    "start_time": "2021-10-27T21:01:27.565Z"
   },
   {
    "duration": 829,
    "start_time": "2021-10-27T21:15:23.641Z"
   },
   {
    "duration": 2079,
    "start_time": "2021-10-27T21:16:36.130Z"
   },
   {
    "duration": 842,
    "start_time": "2021-10-27T21:17:45.373Z"
   },
   {
    "duration": 3142,
    "start_time": "2021-10-27T21:19:47.995Z"
   },
   {
    "duration": 2805,
    "start_time": "2021-10-27T21:22:01.517Z"
   },
   {
    "duration": 2885,
    "start_time": "2021-10-27T21:24:43.014Z"
   },
   {
    "duration": 2830,
    "start_time": "2021-10-27T21:25:16.528Z"
   },
   {
    "duration": 20,
    "start_time": "2021-10-27T21:48:28.743Z"
   },
   {
    "duration": 7,
    "start_time": "2021-10-27T21:48:55.597Z"
   },
   {
    "duration": 6,
    "start_time": "2021-10-27T21:50:06.333Z"
   },
   {
    "duration": 6,
    "start_time": "2021-10-27T21:50:13.396Z"
   },
   {
    "duration": 20,
    "start_time": "2021-10-27T21:51:03.516Z"
   },
   {
    "duration": 326,
    "start_time": "2021-10-28T13:19:36.764Z"
   },
   {
    "duration": 1566,
    "start_time": "2021-10-28T13:19:49.579Z"
   },
   {
    "duration": 3,
    "start_time": "2021-10-28T13:19:51.148Z"
   },
   {
    "duration": 696,
    "start_time": "2021-10-28T13:19:51.154Z"
   },
   {
    "duration": 5,
    "start_time": "2021-10-28T13:19:51.852Z"
   },
   {
    "duration": 172,
    "start_time": "2021-10-28T13:19:51.859Z"
   },
   {
    "duration": 12,
    "start_time": "2021-10-28T13:19:52.034Z"
   },
   {
    "duration": 215,
    "start_time": "2021-10-28T13:19:52.068Z"
   },
   {
    "duration": 199,
    "start_time": "2021-10-28T13:19:52.286Z"
   },
   {
    "duration": 153,
    "start_time": "2021-10-28T13:19:52.491Z"
   },
   {
    "duration": 66,
    "start_time": "2021-10-28T13:19:52.648Z"
   },
   {
    "duration": 15,
    "start_time": "2021-10-28T13:19:52.717Z"
   },
   {
    "duration": 40,
    "start_time": "2021-10-28T13:19:52.735Z"
   },
   {
    "duration": 30,
    "start_time": "2021-10-28T13:19:52.778Z"
   },
   {
    "duration": 67,
    "start_time": "2021-10-28T13:19:52.811Z"
   },
   {
    "duration": 47,
    "start_time": "2021-10-28T13:19:52.880Z"
   },
   {
    "duration": 68,
    "start_time": "2021-10-28T13:19:52.930Z"
   },
   {
    "duration": 7,
    "start_time": "2021-10-28T13:19:53.001Z"
   },
   {
    "duration": 22,
    "start_time": "2021-10-28T13:19:53.011Z"
   },
   {
    "duration": 66,
    "start_time": "2021-10-28T13:19:53.035Z"
   },
   {
    "duration": 100,
    "start_time": "2021-10-28T13:19:53.104Z"
   },
   {
    "duration": 2325,
    "start_time": "2021-10-28T13:19:53.207Z"
   },
   {
    "duration": 4,
    "start_time": "2021-10-28T13:19:55.535Z"
   },
   {
    "duration": 107,
    "start_time": "2021-10-28T13:19:55.541Z"
   },
   {
    "duration": 16,
    "start_time": "2021-10-28T13:19:55.650Z"
   },
   {
    "duration": 79,
    "start_time": "2021-10-28T13:19:55.669Z"
   },
   {
    "duration": 35,
    "start_time": "2021-10-28T13:19:55.766Z"
   },
   {
    "duration": 65,
    "start_time": "2021-10-28T13:19:55.806Z"
   },
   {
    "duration": 28,
    "start_time": "2021-10-28T13:19:55.874Z"
   },
   {
    "duration": 2915,
    "start_time": "2021-10-28T13:19:55.904Z"
   },
   {
    "duration": 13,
    "start_time": "2021-10-28T13:19:58.822Z"
   },
   {
    "duration": 36,
    "start_time": "2021-10-28T13:19:58.838Z"
   },
   {
    "duration": 429,
    "start_time": "2021-10-28T13:34:30.432Z"
   },
   {
    "duration": 282,
    "start_time": "2021-10-28T13:34:42.496Z"
   },
   {
    "duration": 295,
    "start_time": "2021-10-28T13:35:03.217Z"
   },
   {
    "duration": 19,
    "start_time": "2021-10-28T13:36:04.555Z"
   },
   {
    "duration": 8,
    "start_time": "2021-10-28T13:36:34.295Z"
   },
   {
    "duration": 8,
    "start_time": "2021-10-28T13:36:36.736Z"
   },
   {
    "duration": 8,
    "start_time": "2021-10-28T13:36:50.955Z"
   },
   {
    "duration": 8,
    "start_time": "2021-10-28T13:37:33.957Z"
   },
   {
    "duration": 8,
    "start_time": "2021-10-28T13:37:35.295Z"
   },
   {
    "duration": 339,
    "start_time": "2021-10-28T13:38:01.357Z"
   },
   {
    "duration": 10,
    "start_time": "2021-10-28T13:39:35.176Z"
   },
   {
    "duration": 8,
    "start_time": "2021-10-28T13:39:36.915Z"
   },
   {
    "duration": 8,
    "start_time": "2021-10-28T13:39:39.055Z"
   },
   {
    "duration": 9,
    "start_time": "2021-10-28T13:39:40.295Z"
   },
   {
    "duration": 9,
    "start_time": "2021-10-28T13:39:54.474Z"
   },
   {
    "duration": 8,
    "start_time": "2021-10-28T14:13:37.095Z"
   },
   {
    "duration": 8,
    "start_time": "2021-10-28T14:13:39.115Z"
   },
   {
    "duration": 1522,
    "start_time": "2021-10-28T15:07:34.477Z"
   },
   {
    "duration": 4,
    "start_time": "2021-10-28T15:07:36.002Z"
   },
   {
    "duration": 703,
    "start_time": "2021-10-28T15:07:36.009Z"
   },
   {
    "duration": 4,
    "start_time": "2021-10-28T15:07:36.715Z"
   },
   {
    "duration": 163,
    "start_time": "2021-10-28T15:07:36.722Z"
   },
   {
    "duration": 11,
    "start_time": "2021-10-28T15:07:36.888Z"
   },
   {
    "duration": 215,
    "start_time": "2021-10-28T15:07:36.902Z"
   },
   {
    "duration": 154,
    "start_time": "2021-10-28T15:07:37.120Z"
   },
   {
    "duration": 113,
    "start_time": "2021-10-28T15:07:37.280Z"
   },
   {
    "duration": 37,
    "start_time": "2021-10-28T15:07:37.398Z"
   },
   {
    "duration": 35,
    "start_time": "2021-10-28T15:07:37.439Z"
   },
   {
    "duration": 18,
    "start_time": "2021-10-28T15:07:37.476Z"
   },
   {
    "duration": 39,
    "start_time": "2021-10-28T15:07:37.497Z"
   },
   {
    "duration": 64,
    "start_time": "2021-10-28T15:07:37.539Z"
   },
   {
    "duration": 74,
    "start_time": "2021-10-28T15:07:37.606Z"
   },
   {
    "duration": 44,
    "start_time": "2021-10-28T15:07:37.683Z"
   },
   {
    "duration": 6,
    "start_time": "2021-10-28T15:07:37.729Z"
   },
   {
    "duration": 45,
    "start_time": "2021-10-28T15:07:37.738Z"
   },
   {
    "duration": 37,
    "start_time": "2021-10-28T15:07:37.786Z"
   },
   {
    "duration": 102,
    "start_time": "2021-10-28T15:07:37.825Z"
   },
   {
    "duration": 2091,
    "start_time": "2021-10-28T15:07:37.930Z"
   },
   {
    "duration": 5,
    "start_time": "2021-10-28T15:07:40.024Z"
   },
   {
    "duration": 114,
    "start_time": "2021-10-28T15:07:40.031Z"
   },
   {
    "duration": 20,
    "start_time": "2021-10-28T15:07:40.148Z"
   },
   {
    "duration": 97,
    "start_time": "2021-10-28T15:07:40.171Z"
   },
   {
    "duration": 37,
    "start_time": "2021-10-28T15:07:40.272Z"
   },
   {
    "duration": 65,
    "start_time": "2021-10-28T15:07:40.314Z"
   },
   {
    "duration": 28,
    "start_time": "2021-10-28T15:07:40.382Z"
   },
   {
    "duration": 2977,
    "start_time": "2021-10-28T15:07:40.413Z"
   },
   {
    "duration": 10,
    "start_time": "2021-10-28T15:07:43.393Z"
   },
   {
    "duration": 13,
    "start_time": "2021-10-28T15:07:43.405Z"
   },
   {
    "duration": 10,
    "start_time": "2021-10-28T15:07:43.421Z"
   },
   {
    "duration": 36,
    "start_time": "2021-10-28T15:07:43.433Z"
   },
   {
    "duration": 14,
    "start_time": "2021-10-28T15:07:43.471Z"
   },
   {
    "duration": 97,
    "start_time": "2021-10-28T15:07:43.488Z"
   },
   {
    "duration": 1424,
    "start_time": "2021-10-28T15:08:50.920Z"
   },
   {
    "duration": 4,
    "start_time": "2021-10-28T15:08:52.347Z"
   },
   {
    "duration": 786,
    "start_time": "2021-10-28T15:08:52.353Z"
   },
   {
    "duration": 4,
    "start_time": "2021-10-28T15:08:53.142Z"
   },
   {
    "duration": 164,
    "start_time": "2021-10-28T15:08:53.149Z"
   },
   {
    "duration": 13,
    "start_time": "2021-10-28T15:08:53.316Z"
   },
   {
    "duration": 304,
    "start_time": "2021-10-28T15:08:53.332Z"
   },
   {
    "duration": 205,
    "start_time": "2021-10-28T15:08:53.642Z"
   },
   {
    "duration": 154,
    "start_time": "2021-10-28T15:08:53.852Z"
   },
   {
    "duration": 67,
    "start_time": "2021-10-28T15:08:54.009Z"
   },
   {
    "duration": 14,
    "start_time": "2021-10-28T15:08:54.079Z"
   },
   {
    "duration": 18,
    "start_time": "2021-10-28T15:08:54.096Z"
   },
   {
    "duration": 76,
    "start_time": "2021-10-28T15:08:54.117Z"
   },
   {
    "duration": 73,
    "start_time": "2021-10-28T15:08:54.196Z"
   },
   {
    "duration": 71,
    "start_time": "2021-10-28T15:08:54.272Z"
   },
   {
    "duration": 66,
    "start_time": "2021-10-28T15:08:54.366Z"
   },
   {
    "duration": 32,
    "start_time": "2021-10-28T15:08:54.435Z"
   },
   {
    "duration": 29,
    "start_time": "2021-10-28T15:08:54.470Z"
   },
   {
    "duration": 67,
    "start_time": "2021-10-28T15:08:54.502Z"
   },
   {
    "duration": 71,
    "start_time": "2021-10-28T15:08:54.571Z"
   },
   {
    "duration": 2093,
    "start_time": "2021-10-28T15:08:54.668Z"
   },
   {
    "duration": 5,
    "start_time": "2021-10-28T15:08:56.768Z"
   },
   {
    "duration": 111,
    "start_time": "2021-10-28T15:08:56.776Z"
   },
   {
    "duration": 10,
    "start_time": "2021-10-28T15:08:56.890Z"
   },
   {
    "duration": 97,
    "start_time": "2021-10-28T15:08:56.903Z"
   },
   {
    "duration": 33,
    "start_time": "2021-10-28T15:08:57.004Z"
   },
   {
    "duration": 59,
    "start_time": "2021-10-28T15:08:57.040Z"
   },
   {
    "duration": 26,
    "start_time": "2021-10-28T15:08:57.103Z"
   },
   {
    "duration": 2874,
    "start_time": "2021-10-28T15:08:57.132Z"
   },
   {
    "duration": 11,
    "start_time": "2021-10-28T15:09:00.008Z"
   },
   {
    "duration": 23,
    "start_time": "2021-10-28T15:09:00.021Z"
   },
   {
    "duration": 26,
    "start_time": "2021-10-28T15:09:00.047Z"
   },
   {
    "duration": 14,
    "start_time": "2021-10-28T15:09:00.076Z"
   },
   {
    "duration": 20,
    "start_time": "2021-10-28T15:09:00.093Z"
   },
   {
    "duration": 98,
    "start_time": "2021-10-28T15:09:00.115Z"
   },
   {
    "duration": 1469,
    "start_time": "2021-10-28T15:09:46.202Z"
   },
   {
    "duration": 4,
    "start_time": "2021-10-28T15:09:47.673Z"
   },
   {
    "duration": 688,
    "start_time": "2021-10-28T15:09:47.681Z"
   },
   {
    "duration": 6,
    "start_time": "2021-10-28T15:09:48.372Z"
   },
   {
    "duration": 224,
    "start_time": "2021-10-28T15:09:48.381Z"
   },
   {
    "duration": 14,
    "start_time": "2021-10-28T15:09:48.608Z"
   },
   {
    "duration": 213,
    "start_time": "2021-10-28T15:09:48.624Z"
   },
   {
    "duration": 152,
    "start_time": "2021-10-28T15:09:48.839Z"
   },
   {
    "duration": 114,
    "start_time": "2021-10-28T15:09:48.995Z"
   },
   {
    "duration": 55,
    "start_time": "2021-10-28T15:09:49.112Z"
   },
   {
    "duration": 10,
    "start_time": "2021-10-28T15:09:49.170Z"
   },
   {
    "duration": 17,
    "start_time": "2021-10-28T15:09:49.182Z"
   },
   {
    "duration": 66,
    "start_time": "2021-10-28T15:09:49.201Z"
   },
   {
    "duration": 39,
    "start_time": "2021-10-28T15:09:49.270Z"
   },
   {
    "duration": 79,
    "start_time": "2021-10-28T15:09:49.311Z"
   },
   {
    "duration": 44,
    "start_time": "2021-10-28T15:09:49.393Z"
   },
   {
    "duration": 6,
    "start_time": "2021-10-28T15:09:49.467Z"
   },
   {
    "duration": 22,
    "start_time": "2021-10-28T15:09:49.475Z"
   },
   {
    "duration": 68,
    "start_time": "2021-10-28T15:09:49.499Z"
   },
   {
    "duration": 73,
    "start_time": "2021-10-28T15:09:49.569Z"
   },
   {
    "duration": 2095,
    "start_time": "2021-10-28T15:09:49.667Z"
   },
   {
    "duration": 4,
    "start_time": "2021-10-28T15:09:51.767Z"
   },
   {
    "duration": 104,
    "start_time": "2021-10-28T15:09:51.773Z"
   },
   {
    "duration": 8,
    "start_time": "2021-10-28T15:09:51.880Z"
   },
   {
    "duration": 141,
    "start_time": "2021-10-28T15:09:51.891Z"
   },
   {
    "duration": 72,
    "start_time": "2021-10-28T15:09:52.035Z"
   },
   {
    "duration": 65,
    "start_time": "2021-10-28T15:09:52.115Z"
   },
   {
    "duration": 29,
    "start_time": "2021-10-28T15:09:52.184Z"
   },
   {
    "duration": 2957,
    "start_time": "2021-10-28T15:09:52.216Z"
   },
   {
    "duration": 11,
    "start_time": "2021-10-28T15:09:55.176Z"
   },
   {
    "duration": 17,
    "start_time": "2021-10-28T15:09:55.190Z"
   },
   {
    "duration": 8,
    "start_time": "2021-10-28T15:09:55.209Z"
   },
   {
    "duration": 13,
    "start_time": "2021-10-28T15:09:55.220Z"
   },
   {
    "duration": 37,
    "start_time": "2021-10-28T15:09:55.236Z"
   },
   {
    "duration": 563,
    "start_time": "2021-10-28T15:09:55.275Z"
   },
   {
    "duration": 1918,
    "start_time": "2021-10-28T15:10:44.265Z"
   },
   {
    "duration": 4,
    "start_time": "2021-10-28T15:10:46.185Z"
   },
   {
    "duration": 793,
    "start_time": "2021-10-28T15:10:46.193Z"
   },
   {
    "duration": 6,
    "start_time": "2021-10-28T15:10:46.990Z"
   },
   {
    "duration": 190,
    "start_time": "2021-10-28T15:10:46.999Z"
   },
   {
    "duration": 18,
    "start_time": "2021-10-28T15:10:47.192Z"
   },
   {
    "duration": 264,
    "start_time": "2021-10-28T15:10:47.213Z"
   },
   {
    "duration": 240,
    "start_time": "2021-10-28T15:10:47.482Z"
   },
   {
    "duration": 114,
    "start_time": "2021-10-28T15:10:47.725Z"
   },
   {
    "duration": 57,
    "start_time": "2021-10-28T15:10:47.841Z"
   },
   {
    "duration": 14,
    "start_time": "2021-10-28T15:10:47.901Z"
   },
   {
    "duration": 16,
    "start_time": "2021-10-28T15:10:47.918Z"
   },
   {
    "duration": 65,
    "start_time": "2021-10-28T15:10:47.937Z"
   },
   {
    "duration": 66,
    "start_time": "2021-10-28T15:10:48.005Z"
   },
   {
    "duration": 94,
    "start_time": "2021-10-28T15:10:48.074Z"
   },
   {
    "duration": 53,
    "start_time": "2021-10-28T15:10:48.171Z"
   },
   {
    "duration": 10,
    "start_time": "2021-10-28T15:10:48.227Z"
   },
   {
    "duration": 52,
    "start_time": "2021-10-28T15:10:48.241Z"
   },
   {
    "duration": 39,
    "start_time": "2021-10-28T15:10:48.296Z"
   },
   {
    "duration": 109,
    "start_time": "2021-10-28T15:10:48.337Z"
   },
   {
    "duration": 2449,
    "start_time": "2021-10-28T15:10:48.468Z"
   },
   {
    "duration": 6,
    "start_time": "2021-10-28T15:10:50.921Z"
   },
   {
    "duration": 173,
    "start_time": "2021-10-28T15:10:50.935Z"
   },
   {
    "duration": 9,
    "start_time": "2021-10-28T15:10:51.111Z"
   },
   {
    "duration": 110,
    "start_time": "2021-10-28T15:10:51.123Z"
   },
   {
    "duration": 56,
    "start_time": "2021-10-28T15:10:51.236Z"
   },
   {
    "duration": 35,
    "start_time": "2021-10-28T15:10:51.296Z"
   },
   {
    "duration": 54,
    "start_time": "2021-10-28T15:10:51.333Z"
   },
   {
    "duration": 3188,
    "start_time": "2021-10-28T15:10:51.390Z"
   },
   {
    "duration": 12,
    "start_time": "2021-10-28T15:10:54.580Z"
   },
   {
    "duration": 11,
    "start_time": "2021-10-28T15:10:54.595Z"
   },
   {
    "duration": 7,
    "start_time": "2021-10-28T15:10:54.609Z"
   },
   {
    "duration": 10,
    "start_time": "2021-10-28T15:10:54.619Z"
   },
   {
    "duration": 8,
    "start_time": "2021-10-28T15:10:54.668Z"
   },
   {
    "duration": 10,
    "start_time": "2021-10-28T15:10:54.678Z"
   },
   {
    "duration": 1236,
    "start_time": "2021-10-29T07:43:38.531Z"
   },
   {
    "duration": 377,
    "start_time": "2021-10-29T07:43:55.019Z"
   },
   {
    "duration": 20,
    "start_time": "2021-10-29T07:44:03.183Z"
   },
   {
    "duration": 2458,
    "start_time": "2021-10-29T07:45:05.108Z"
   },
   {
    "duration": 2582,
    "start_time": "2021-10-29T07:45:21.893Z"
   },
   {
    "duration": 13,
    "start_time": "2021-10-29T07:46:26.908Z"
   },
   {
    "duration": 36,
    "start_time": "2021-10-29T07:46:50.428Z"
   },
   {
    "duration": 370,
    "start_time": "2021-10-29T07:50:33.062Z"
   },
   {
    "duration": 401,
    "start_time": "2021-10-29T07:50:42.247Z"
   },
   {
    "duration": 26,
    "start_time": "2021-10-29T07:50:57.447Z"
   },
   {
    "duration": 3439,
    "start_time": "2021-10-29T07:52:41.340Z"
   },
   {
    "duration": 27,
    "start_time": "2021-10-29T07:52:54.667Z"
   },
   {
    "duration": 26,
    "start_time": "2021-10-29T07:53:20.085Z"
   },
   {
    "duration": 115,
    "start_time": "2021-10-29T09:08:09.782Z"
   },
   {
    "duration": 293,
    "start_time": "2021-10-29T14:17:10.664Z"
   },
   {
    "duration": 1189,
    "start_time": "2021-10-29T14:17:18.215Z"
   },
   {
    "duration": 3,
    "start_time": "2021-10-29T14:17:19.406Z"
   },
   {
    "duration": 479,
    "start_time": "2021-10-29T14:17:19.411Z"
   },
   {
    "duration": 3,
    "start_time": "2021-10-29T14:17:19.892Z"
   },
   {
    "duration": 103,
    "start_time": "2021-10-29T14:17:19.896Z"
   },
   {
    "duration": 7,
    "start_time": "2021-10-29T14:17:20.001Z"
   },
   {
    "duration": 150,
    "start_time": "2021-10-29T14:17:20.009Z"
   },
   {
    "duration": 104,
    "start_time": "2021-10-29T14:17:20.161Z"
   },
   {
    "duration": 81,
    "start_time": "2021-10-29T14:17:20.267Z"
   },
   {
    "duration": 23,
    "start_time": "2021-10-29T14:17:20.351Z"
   },
   {
    "duration": 7,
    "start_time": "2021-10-29T14:17:20.376Z"
   },
   {
    "duration": 9,
    "start_time": "2021-10-29T14:17:20.385Z"
   },
   {
    "duration": 50,
    "start_time": "2021-10-29T14:17:20.395Z"
   },
   {
    "duration": 23,
    "start_time": "2021-10-29T14:17:20.447Z"
   },
   {
    "duration": 27,
    "start_time": "2021-10-29T14:17:20.472Z"
   },
   {
    "duration": 49,
    "start_time": "2021-10-29T14:17:20.501Z"
   },
   {
    "duration": 3,
    "start_time": "2021-10-29T14:17:20.552Z"
   },
   {
    "duration": 17,
    "start_time": "2021-10-29T14:17:20.557Z"
   },
   {
    "duration": 23,
    "start_time": "2021-10-29T14:17:20.575Z"
   },
   {
    "duration": 62,
    "start_time": "2021-10-29T14:17:20.600Z"
   },
   {
    "duration": 1183,
    "start_time": "2021-10-29T14:17:20.663Z"
   },
   {
    "duration": 2,
    "start_time": "2021-10-29T14:17:21.848Z"
   },
   {
    "duration": 56,
    "start_time": "2021-10-29T14:17:21.852Z"
   },
   {
    "duration": 5,
    "start_time": "2021-10-29T14:17:21.910Z"
   },
   {
    "duration": 62,
    "start_time": "2021-10-29T14:17:21.917Z"
   },
   {
    "duration": 23,
    "start_time": "2021-10-29T14:17:21.980Z"
   },
   {
    "duration": 47,
    "start_time": "2021-10-29T14:17:22.007Z"
   },
   {
    "duration": 14,
    "start_time": "2021-10-29T14:17:22.056Z"
   },
   {
    "duration": 1620,
    "start_time": "2021-10-29T14:17:22.071Z"
   },
   {
    "duration": 353,
    "start_time": "2021-10-29T14:17:23.693Z"
   },
   {
    "duration": -1159,
    "start_time": "2021-10-29T14:17:25.206Z"
   },
   {
    "duration": -1162,
    "start_time": "2021-10-29T14:17:25.211Z"
   },
   {
    "duration": -1166,
    "start_time": "2021-10-29T14:17:25.215Z"
   },
   {
    "duration": -1174,
    "start_time": "2021-10-29T14:17:25.224Z"
   },
   {
    "duration": -1177,
    "start_time": "2021-10-29T14:17:25.228Z"
   },
   {
    "duration": 9,
    "start_time": "2021-10-29T14:17:46.948Z"
   },
   {
    "duration": 264,
    "start_time": "2021-10-29T14:17:53.481Z"
   },
   {
    "duration": 1110,
    "start_time": "2021-10-29T14:18:17.886Z"
   },
   {
    "duration": 3,
    "start_time": "2021-10-29T14:18:18.998Z"
   },
   {
    "duration": 478,
    "start_time": "2021-10-29T14:18:19.002Z"
   },
   {
    "duration": 3,
    "start_time": "2021-10-29T14:18:19.482Z"
   },
   {
    "duration": 104,
    "start_time": "2021-10-29T14:18:19.487Z"
   },
   {
    "duration": 8,
    "start_time": "2021-10-29T14:18:19.593Z"
   },
   {
    "duration": 153,
    "start_time": "2021-10-29T14:18:19.602Z"
   },
   {
    "duration": 107,
    "start_time": "2021-10-29T14:18:19.757Z"
   },
   {
    "duration": 81,
    "start_time": "2021-10-29T14:18:19.867Z"
   },
   {
    "duration": 24,
    "start_time": "2021-10-29T14:18:19.950Z"
   },
   {
    "duration": 7,
    "start_time": "2021-10-29T14:18:19.975Z"
   },
   {
    "duration": 11,
    "start_time": "2021-10-29T14:18:19.983Z"
   },
   {
    "duration": 21,
    "start_time": "2021-10-29T14:18:19.996Z"
   },
   {
    "duration": 50,
    "start_time": "2021-10-29T14:18:20.018Z"
   },
   {
    "duration": 29,
    "start_time": "2021-10-29T14:18:20.070Z"
   },
   {
    "duration": 53,
    "start_time": "2021-10-29T14:18:20.100Z"
   },
   {
    "duration": 4,
    "start_time": "2021-10-29T14:18:20.155Z"
   },
   {
    "duration": 15,
    "start_time": "2021-10-29T14:18:20.161Z"
   },
   {
    "duration": 24,
    "start_time": "2021-10-29T14:18:20.178Z"
   },
   {
    "duration": 71,
    "start_time": "2021-10-29T14:18:20.203Z"
   },
   {
    "duration": 1263,
    "start_time": "2021-10-29T14:18:20.276Z"
   },
   {
    "duration": 3,
    "start_time": "2021-10-29T14:18:21.544Z"
   },
   {
    "duration": 56,
    "start_time": "2021-10-29T14:18:21.549Z"
   },
   {
    "duration": 5,
    "start_time": "2021-10-29T14:18:21.607Z"
   },
   {
    "duration": 71,
    "start_time": "2021-10-29T14:18:21.614Z"
   },
   {
    "duration": 23,
    "start_time": "2021-10-29T14:18:21.686Z"
   },
   {
    "duration": 44,
    "start_time": "2021-10-29T14:18:21.712Z"
   },
   {
    "duration": 16,
    "start_time": "2021-10-29T14:18:21.758Z"
   },
   {
    "duration": 2154,
    "start_time": "2021-10-29T14:18:21.776Z"
   },
   {
    "duration": 13,
    "start_time": "2021-10-29T14:18:23.932Z"
   },
   {
    "duration": 9,
    "start_time": "2021-10-29T14:18:23.947Z"
   },
   {
    "duration": 16,
    "start_time": "2021-10-29T14:18:23.958Z"
   },
   {
    "duration": 14,
    "start_time": "2021-10-29T14:18:23.977Z"
   },
   {
    "duration": 14,
    "start_time": "2021-10-29T14:18:23.993Z"
   },
   {
    "duration": 13,
    "start_time": "2021-10-29T14:18:24.009Z"
   },
   {
    "duration": 1051,
    "start_time": "2022-02-16T10:10:47.816Z"
   },
   {
    "duration": 2,
    "start_time": "2022-02-16T10:10:48.868Z"
   },
   {
    "duration": 444,
    "start_time": "2022-02-16T10:10:48.872Z"
   },
   {
    "duration": 3,
    "start_time": "2022-02-16T10:10:49.318Z"
   },
   {
    "duration": 100,
    "start_time": "2022-02-16T10:10:49.322Z"
   },
   {
    "duration": 9,
    "start_time": "2022-02-16T10:10:49.423Z"
   },
   {
    "duration": 142,
    "start_time": "2022-02-16T10:10:49.433Z"
   },
   {
    "duration": 97,
    "start_time": "2022-02-16T10:10:49.576Z"
   },
   {
    "duration": 78,
    "start_time": "2022-02-16T10:10:49.676Z"
   },
   {
    "duration": 21,
    "start_time": "2022-02-16T10:10:49.756Z"
   },
   {
    "duration": 6,
    "start_time": "2022-02-16T10:10:49.778Z"
   },
   {
    "duration": 8,
    "start_time": "2022-02-16T10:10:49.786Z"
   },
   {
    "duration": 42,
    "start_time": "2022-02-16T10:10:49.796Z"
   },
   {
    "duration": 23,
    "start_time": "2022-02-16T10:10:49.840Z"
   },
   {
    "duration": 25,
    "start_time": "2022-02-16T10:10:49.864Z"
   },
   {
    "duration": 48,
    "start_time": "2022-02-16T10:10:49.891Z"
   },
   {
    "duration": 4,
    "start_time": "2022-02-16T10:10:49.941Z"
   },
   {
    "duration": 12,
    "start_time": "2022-02-16T10:10:49.946Z"
   },
   {
    "duration": 20,
    "start_time": "2022-02-16T10:10:49.959Z"
   },
   {
    "duration": 64,
    "start_time": "2022-02-16T10:10:49.981Z"
   },
   {
    "duration": 1127,
    "start_time": "2022-02-16T10:10:50.046Z"
   },
   {
    "duration": 2,
    "start_time": "2022-02-16T10:10:51.175Z"
   },
   {
    "duration": 61,
    "start_time": "2022-02-16T10:10:51.179Z"
   },
   {
    "duration": 5,
    "start_time": "2022-02-16T10:10:51.241Z"
   },
   {
    "duration": 43,
    "start_time": "2022-02-16T10:10:51.248Z"
   },
   {
    "duration": 39,
    "start_time": "2022-02-16T10:10:51.293Z"
   },
   {
    "duration": 19,
    "start_time": "2022-02-16T10:10:51.336Z"
   },
   {
    "duration": 15,
    "start_time": "2022-02-16T10:10:51.357Z"
   },
   {
    "duration": 1575,
    "start_time": "2022-02-16T10:10:51.374Z"
   },
   {
    "duration": 7,
    "start_time": "2022-02-16T10:10:52.950Z"
   },
   {
    "duration": 13,
    "start_time": "2022-02-16T10:10:52.958Z"
   },
   {
    "duration": 16,
    "start_time": "2022-02-16T10:10:52.972Z"
   },
   {
    "duration": 13,
    "start_time": "2022-02-16T10:10:52.989Z"
   },
   {
    "duration": 7,
    "start_time": "2022-02-16T10:10:53.003Z"
   },
   {
    "duration": 10,
    "start_time": "2022-02-16T10:10:53.012Z"
   }
  ],
  "kernelspec": {
   "display_name": "Python 3 (ipykernel)",
   "language": "python",
   "name": "python3"
  },
  "language_info": {
   "codemirror_mode": {
    "name": "ipython",
    "version": 3
   },
   "file_extension": ".py",
   "mimetype": "text/x-python",
   "name": "python",
   "nbconvert_exporter": "python",
   "pygments_lexer": "ipython3",
   "version": "3.9.7"
  },
  "toc": {
   "base_numbering": 1,
   "nav_menu": {},
   "number_sections": true,
   "sideBar": true,
   "skip_h1_title": true,
   "title_cell": "Table of Contents",
   "title_sidebar": "Contents",
   "toc_cell": true,
   "toc_position": {
    "height": "calc(100% - 180px)",
    "left": "10px",
    "top": "150px",
    "width": "165px"
   },
   "toc_section_display": true,
   "toc_window_display": true
  }
 },
 "nbformat": 4,
 "nbformat_minor": 2
}
