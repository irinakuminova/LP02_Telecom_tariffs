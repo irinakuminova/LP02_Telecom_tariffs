{
 "cells": [
  {
   "cell_type": "markdown",
   "metadata": {},
   "source": [
    "# Определение выгодного тарифа для телеком-компании"
   ]
  },
  {
   "cell_type": "markdown",
   "metadata": {},
   "source": [
    "## 1 Описание проекта"
   ]
  },
  {
   "cell_type": "markdown",
   "metadata": {},
   "source": [
    "**Задачи проекта:** Проанализировать поведение клиентов федерального сотового оператора «Мегалайн» за 2018 г. в рамкаха двух тарифных планов: «Смарт» и «Ультра» и сделать вывод — какой тарифный план выгоднее для компании.\n",
    "\n",
    "**Данные для анализ:** выборка данных по 500 пользователей за 2018 г.\n",
    "\n",
    "**Этапы проекта:** \n",
    "- [2 зучение и предобработка данных](#preprocessing)\n",
    "- [3 расчёты и добавление результатов](#calculating)\n",
    "- [4 исследовательский анализ данных](#correlation)\n",
    "- [5 статистический анализ данных](#statistics)\n",
    "- [6 аномальные пользователи](#anomalies)\n",
    "- [7 проверка гипотез](#hypotheses)\n",
    "- [8 общий вывод и рекомендации](#conclusion)\n",
    "\n",
    "**Тарифы** (минуты и мегабайты округляются вверх до целого):\n",
    "\n",
    "«Смарт»\n",
    "- Ежемесячная плата: 550 рублей\n",
    "- Включено: 500 минут разговора, 50 сообщений и 15 Гб интернет-трафика\n",
    "- Стоимость услуг сверх тарифного пакета: минута разговора 3 рубля, сообщение 3 рубля, 1 Гб интернет-трафика 200 рублей.\n",
    "\n",
    "«Ультра»\n",
    "- Ежемесячная плата: 1950 рублей\n",
    "- Включено: 3000 минут разговора, 1000 сообщений и 30 Гб интернет-трафика\n",
    "- Стоимость услуг сверх тарифного пакета: минута разговора 1 рубль, сообщение 1 рубль, 1 Гб интернет-трафика 150 рублей."
   ]
  },
  {
   "cell_type": "markdown",
   "metadata": {},
   "source": [
    "<a id='preprocessing'></a>\n",
    "## 2 Изучение и предобработка данных"
   ]
  },
  {
   "cell_type": "code",
   "execution_count": 1,
   "metadata": {},
   "outputs": [],
   "source": [
    "# импортируем необходимые библиотеки и делаем настройки\n",
    "import pandas as pd\n",
    "import numpy as np\n",
    "import matplotlib.pyplot as plt\n",
    "import seaborn as sns\n",
    "import glob\n",
    "from scipy import stats as st\n",
    "\n",
    "pd.set_option('display.max_columns', None)"
   ]
  },
  {
   "cell_type": "code",
   "execution_count": 2,
   "metadata": {},
   "outputs": [],
   "source": [
    "mb_to_gb = 1024 # задаем переменную для перевода Мб в Гб\n",
    "\n",
    "# задаем переменные для тарифов\n",
    "t1 = 'ultra' \n",
    "t2 = 'smart'"
   ]
  },
  {
   "cell_type": "code",
   "execution_count": 3,
   "metadata": {
    "scrolled": false
   },
   "outputs": [
    {
     "name": "stdout",
     "output_type": "stream",
     "text": [
      "----------------------------------\n",
      " calls \n",
      "----------------------------------\n",
      "<class 'pandas.core.frame.DataFrame'>\n",
      "RangeIndex: 202607 entries, 0 to 202606\n",
      "Data columns (total 4 columns):\n",
      " #   Column     Non-Null Count   Dtype  \n",
      "---  ------     --------------   -----  \n",
      " 0   id         202607 non-null  object \n",
      " 1   call_date  202607 non-null  object \n",
      " 2   duration   202607 non-null  float64\n",
      " 3   user_id    202607 non-null  int64  \n",
      "dtypes: float64(1), int64(1), object(2)\n",
      "memory usage: 6.2+ MB\n"
     ]
    },
    {
     "data": {
      "text/html": [
       "<div>\n",
       "<style scoped>\n",
       "    .dataframe tbody tr th:only-of-type {\n",
       "        vertical-align: middle;\n",
       "    }\n",
       "\n",
       "    .dataframe tbody tr th {\n",
       "        vertical-align: top;\n",
       "    }\n",
       "\n",
       "    .dataframe thead th {\n",
       "        text-align: right;\n",
       "    }\n",
       "</style>\n",
       "<table border=\"1\" class=\"dataframe\">\n",
       "  <thead>\n",
       "    <tr style=\"text-align: right;\">\n",
       "      <th></th>\n",
       "      <th>id</th>\n",
       "      <th>call_date</th>\n",
       "      <th>duration</th>\n",
       "      <th>user_id</th>\n",
       "    </tr>\n",
       "  </thead>\n",
       "  <tbody>\n",
       "    <tr>\n",
       "      <th>0</th>\n",
       "      <td>1000_0</td>\n",
       "      <td>2018-07-25</td>\n",
       "      <td>0.00</td>\n",
       "      <td>1000</td>\n",
       "    </tr>\n",
       "    <tr>\n",
       "      <th>1</th>\n",
       "      <td>1000_1</td>\n",
       "      <td>2018-08-17</td>\n",
       "      <td>0.00</td>\n",
       "      <td>1000</td>\n",
       "    </tr>\n",
       "    <tr>\n",
       "      <th>2</th>\n",
       "      <td>1000_2</td>\n",
       "      <td>2018-06-11</td>\n",
       "      <td>2.85</td>\n",
       "      <td>1000</td>\n",
       "    </tr>\n",
       "    <tr>\n",
       "      <th>3</th>\n",
       "      <td>1000_3</td>\n",
       "      <td>2018-09-21</td>\n",
       "      <td>13.80</td>\n",
       "      <td>1000</td>\n",
       "    </tr>\n",
       "    <tr>\n",
       "      <th>4</th>\n",
       "      <td>1000_4</td>\n",
       "      <td>2018-12-15</td>\n",
       "      <td>5.18</td>\n",
       "      <td>1000</td>\n",
       "    </tr>\n",
       "  </tbody>\n",
       "</table>\n",
       "</div>"
      ],
      "text/plain": [
       "       id   call_date  duration  user_id\n",
       "0  1000_0  2018-07-25      0.00     1000\n",
       "1  1000_1  2018-08-17      0.00     1000\n",
       "2  1000_2  2018-06-11      2.85     1000\n",
       "3  1000_3  2018-09-21     13.80     1000\n",
       "4  1000_4  2018-12-15      5.18     1000"
      ]
     },
     "metadata": {},
     "output_type": "display_data"
    },
    {
     "name": "stdout",
     "output_type": "stream",
     "text": [
      "----------------------------------\n",
      " internet \n",
      "----------------------------------\n",
      "<class 'pandas.core.frame.DataFrame'>\n",
      "RangeIndex: 149396 entries, 0 to 149395\n",
      "Data columns (total 5 columns):\n",
      " #   Column        Non-Null Count   Dtype  \n",
      "---  ------        --------------   -----  \n",
      " 0   Unnamed: 0    149396 non-null  int64  \n",
      " 1   id            149396 non-null  object \n",
      " 2   mb_used       149396 non-null  float64\n",
      " 3   session_date  149396 non-null  object \n",
      " 4   user_id       149396 non-null  int64  \n",
      "dtypes: float64(1), int64(2), object(2)\n",
      "memory usage: 5.7+ MB\n"
     ]
    },
    {
     "data": {
      "text/html": [
       "<div>\n",
       "<style scoped>\n",
       "    .dataframe tbody tr th:only-of-type {\n",
       "        vertical-align: middle;\n",
       "    }\n",
       "\n",
       "    .dataframe tbody tr th {\n",
       "        vertical-align: top;\n",
       "    }\n",
       "\n",
       "    .dataframe thead th {\n",
       "        text-align: right;\n",
       "    }\n",
       "</style>\n",
       "<table border=\"1\" class=\"dataframe\">\n",
       "  <thead>\n",
       "    <tr style=\"text-align: right;\">\n",
       "      <th></th>\n",
       "      <th>Unnamed: 0</th>\n",
       "      <th>id</th>\n",
       "      <th>mb_used</th>\n",
       "      <th>session_date</th>\n",
       "      <th>user_id</th>\n",
       "    </tr>\n",
       "  </thead>\n",
       "  <tbody>\n",
       "    <tr>\n",
       "      <th>0</th>\n",
       "      <td>0</td>\n",
       "      <td>1000_0</td>\n",
       "      <td>112.95</td>\n",
       "      <td>2018-11-25</td>\n",
       "      <td>1000</td>\n",
       "    </tr>\n",
       "    <tr>\n",
       "      <th>1</th>\n",
       "      <td>1</td>\n",
       "      <td>1000_1</td>\n",
       "      <td>1052.81</td>\n",
       "      <td>2018-09-07</td>\n",
       "      <td>1000</td>\n",
       "    </tr>\n",
       "    <tr>\n",
       "      <th>2</th>\n",
       "      <td>2</td>\n",
       "      <td>1000_2</td>\n",
       "      <td>1197.26</td>\n",
       "      <td>2018-06-25</td>\n",
       "      <td>1000</td>\n",
       "    </tr>\n",
       "    <tr>\n",
       "      <th>3</th>\n",
       "      <td>3</td>\n",
       "      <td>1000_3</td>\n",
       "      <td>550.27</td>\n",
       "      <td>2018-08-22</td>\n",
       "      <td>1000</td>\n",
       "    </tr>\n",
       "    <tr>\n",
       "      <th>4</th>\n",
       "      <td>4</td>\n",
       "      <td>1000_4</td>\n",
       "      <td>302.56</td>\n",
       "      <td>2018-09-24</td>\n",
       "      <td>1000</td>\n",
       "    </tr>\n",
       "  </tbody>\n",
       "</table>\n",
       "</div>"
      ],
      "text/plain": [
       "   Unnamed: 0      id  mb_used session_date  user_id\n",
       "0           0  1000_0   112.95   2018-11-25     1000\n",
       "1           1  1000_1  1052.81   2018-09-07     1000\n",
       "2           2  1000_2  1197.26   2018-06-25     1000\n",
       "3           3  1000_3   550.27   2018-08-22     1000\n",
       "4           4  1000_4   302.56   2018-09-24     1000"
      ]
     },
     "metadata": {},
     "output_type": "display_data"
    },
    {
     "name": "stdout",
     "output_type": "stream",
     "text": [
      "----------------------------------\n",
      " messages \n",
      "----------------------------------\n",
      "<class 'pandas.core.frame.DataFrame'>\n",
      "RangeIndex: 123036 entries, 0 to 123035\n",
      "Data columns (total 3 columns):\n",
      " #   Column        Non-Null Count   Dtype \n",
      "---  ------        --------------   ----- \n",
      " 0   id            123036 non-null  object\n",
      " 1   message_date  123036 non-null  object\n",
      " 2   user_id       123036 non-null  int64 \n",
      "dtypes: int64(1), object(2)\n",
      "memory usage: 2.8+ MB\n"
     ]
    },
    {
     "data": {
      "text/html": [
       "<div>\n",
       "<style scoped>\n",
       "    .dataframe tbody tr th:only-of-type {\n",
       "        vertical-align: middle;\n",
       "    }\n",
       "\n",
       "    .dataframe tbody tr th {\n",
       "        vertical-align: top;\n",
       "    }\n",
       "\n",
       "    .dataframe thead th {\n",
       "        text-align: right;\n",
       "    }\n",
       "</style>\n",
       "<table border=\"1\" class=\"dataframe\">\n",
       "  <thead>\n",
       "    <tr style=\"text-align: right;\">\n",
       "      <th></th>\n",
       "      <th>id</th>\n",
       "      <th>message_date</th>\n",
       "      <th>user_id</th>\n",
       "    </tr>\n",
       "  </thead>\n",
       "  <tbody>\n",
       "    <tr>\n",
       "      <th>0</th>\n",
       "      <td>1000_0</td>\n",
       "      <td>2018-06-27</td>\n",
       "      <td>1000</td>\n",
       "    </tr>\n",
       "    <tr>\n",
       "      <th>1</th>\n",
       "      <td>1000_1</td>\n",
       "      <td>2018-10-08</td>\n",
       "      <td>1000</td>\n",
       "    </tr>\n",
       "    <tr>\n",
       "      <th>2</th>\n",
       "      <td>1000_2</td>\n",
       "      <td>2018-08-04</td>\n",
       "      <td>1000</td>\n",
       "    </tr>\n",
       "    <tr>\n",
       "      <th>3</th>\n",
       "      <td>1000_3</td>\n",
       "      <td>2018-06-16</td>\n",
       "      <td>1000</td>\n",
       "    </tr>\n",
       "    <tr>\n",
       "      <th>4</th>\n",
       "      <td>1000_4</td>\n",
       "      <td>2018-12-05</td>\n",
       "      <td>1000</td>\n",
       "    </tr>\n",
       "  </tbody>\n",
       "</table>\n",
       "</div>"
      ],
      "text/plain": [
       "       id message_date  user_id\n",
       "0  1000_0   2018-06-27     1000\n",
       "1  1000_1   2018-10-08     1000\n",
       "2  1000_2   2018-08-04     1000\n",
       "3  1000_3   2018-06-16     1000\n",
       "4  1000_4   2018-12-05     1000"
      ]
     },
     "metadata": {},
     "output_type": "display_data"
    },
    {
     "name": "stdout",
     "output_type": "stream",
     "text": [
      "----------------------------------\n",
      " tariffs \n",
      "----------------------------------\n",
      "<class 'pandas.core.frame.DataFrame'>\n",
      "RangeIndex: 2 entries, 0 to 1\n",
      "Data columns (total 8 columns):\n",
      " #   Column                 Non-Null Count  Dtype \n",
      "---  ------                 --------------  ----- \n",
      " 0   messages_included      2 non-null      int64 \n",
      " 1   mb_per_month_included  2 non-null      int64 \n",
      " 2   minutes_included       2 non-null      int64 \n",
      " 3   rub_monthly_fee        2 non-null      int64 \n",
      " 4   rub_per_gb             2 non-null      int64 \n",
      " 5   rub_per_message        2 non-null      int64 \n",
      " 6   rub_per_minute         2 non-null      int64 \n",
      " 7   tariff_name            2 non-null      object\n",
      "dtypes: int64(7), object(1)\n",
      "memory usage: 256.0+ bytes\n"
     ]
    },
    {
     "data": {
      "text/html": [
       "<div>\n",
       "<style scoped>\n",
       "    .dataframe tbody tr th:only-of-type {\n",
       "        vertical-align: middle;\n",
       "    }\n",
       "\n",
       "    .dataframe tbody tr th {\n",
       "        vertical-align: top;\n",
       "    }\n",
       "\n",
       "    .dataframe thead th {\n",
       "        text-align: right;\n",
       "    }\n",
       "</style>\n",
       "<table border=\"1\" class=\"dataframe\">\n",
       "  <thead>\n",
       "    <tr style=\"text-align: right;\">\n",
       "      <th></th>\n",
       "      <th>messages_included</th>\n",
       "      <th>mb_per_month_included</th>\n",
       "      <th>minutes_included</th>\n",
       "      <th>rub_monthly_fee</th>\n",
       "      <th>rub_per_gb</th>\n",
       "      <th>rub_per_message</th>\n",
       "      <th>rub_per_minute</th>\n",
       "      <th>tariff_name</th>\n",
       "    </tr>\n",
       "  </thead>\n",
       "  <tbody>\n",
       "    <tr>\n",
       "      <th>0</th>\n",
       "      <td>50</td>\n",
       "      <td>15360</td>\n",
       "      <td>500</td>\n",
       "      <td>550</td>\n",
       "      <td>200</td>\n",
       "      <td>3</td>\n",
       "      <td>3</td>\n",
       "      <td>smart</td>\n",
       "    </tr>\n",
       "    <tr>\n",
       "      <th>1</th>\n",
       "      <td>1000</td>\n",
       "      <td>30720</td>\n",
       "      <td>3000</td>\n",
       "      <td>1950</td>\n",
       "      <td>150</td>\n",
       "      <td>1</td>\n",
       "      <td>1</td>\n",
       "      <td>ultra</td>\n",
       "    </tr>\n",
       "  </tbody>\n",
       "</table>\n",
       "</div>"
      ],
      "text/plain": [
       "   messages_included  mb_per_month_included  minutes_included  \\\n",
       "0                 50                  15360               500   \n",
       "1               1000                  30720              3000   \n",
       "\n",
       "   rub_monthly_fee  rub_per_gb  rub_per_message  rub_per_minute tariff_name  \n",
       "0              550         200                3               3       smart  \n",
       "1             1950         150                1               1       ultra  "
      ]
     },
     "metadata": {},
     "output_type": "display_data"
    },
    {
     "name": "stdout",
     "output_type": "stream",
     "text": [
      "----------------------------------\n",
      " users \n",
      "----------------------------------\n",
      "<class 'pandas.core.frame.DataFrame'>\n",
      "RangeIndex: 500 entries, 0 to 499\n",
      "Data columns (total 8 columns):\n",
      " #   Column      Non-Null Count  Dtype \n",
      "---  ------      --------------  ----- \n",
      " 0   user_id     500 non-null    int64 \n",
      " 1   age         500 non-null    int64 \n",
      " 2   churn_date  38 non-null     object\n",
      " 3   city        500 non-null    object\n",
      " 4   first_name  500 non-null    object\n",
      " 5   last_name   500 non-null    object\n",
      " 6   reg_date    500 non-null    object\n",
      " 7   tariff      500 non-null    object\n",
      "dtypes: int64(2), object(6)\n",
      "memory usage: 31.4+ KB\n"
     ]
    },
    {
     "data": {
      "text/html": [
       "<div>\n",
       "<style scoped>\n",
       "    .dataframe tbody tr th:only-of-type {\n",
       "        vertical-align: middle;\n",
       "    }\n",
       "\n",
       "    .dataframe tbody tr th {\n",
       "        vertical-align: top;\n",
       "    }\n",
       "\n",
       "    .dataframe thead th {\n",
       "        text-align: right;\n",
       "    }\n",
       "</style>\n",
       "<table border=\"1\" class=\"dataframe\">\n",
       "  <thead>\n",
       "    <tr style=\"text-align: right;\">\n",
       "      <th></th>\n",
       "      <th>user_id</th>\n",
       "      <th>age</th>\n",
       "      <th>churn_date</th>\n",
       "      <th>city</th>\n",
       "      <th>first_name</th>\n",
       "      <th>last_name</th>\n",
       "      <th>reg_date</th>\n",
       "      <th>tariff</th>\n",
       "    </tr>\n",
       "  </thead>\n",
       "  <tbody>\n",
       "    <tr>\n",
       "      <th>0</th>\n",
       "      <td>1000</td>\n",
       "      <td>52</td>\n",
       "      <td>NaN</td>\n",
       "      <td>Краснодар</td>\n",
       "      <td>Рафаил</td>\n",
       "      <td>Верещагин</td>\n",
       "      <td>2018-05-25</td>\n",
       "      <td>ultra</td>\n",
       "    </tr>\n",
       "    <tr>\n",
       "      <th>1</th>\n",
       "      <td>1001</td>\n",
       "      <td>41</td>\n",
       "      <td>NaN</td>\n",
       "      <td>Москва</td>\n",
       "      <td>Иван</td>\n",
       "      <td>Ежов</td>\n",
       "      <td>2018-11-01</td>\n",
       "      <td>smart</td>\n",
       "    </tr>\n",
       "    <tr>\n",
       "      <th>2</th>\n",
       "      <td>1002</td>\n",
       "      <td>59</td>\n",
       "      <td>NaN</td>\n",
       "      <td>Стерлитамак</td>\n",
       "      <td>Евгений</td>\n",
       "      <td>Абрамович</td>\n",
       "      <td>2018-06-17</td>\n",
       "      <td>smart</td>\n",
       "    </tr>\n",
       "    <tr>\n",
       "      <th>3</th>\n",
       "      <td>1003</td>\n",
       "      <td>23</td>\n",
       "      <td>NaN</td>\n",
       "      <td>Москва</td>\n",
       "      <td>Белла</td>\n",
       "      <td>Белякова</td>\n",
       "      <td>2018-08-17</td>\n",
       "      <td>ultra</td>\n",
       "    </tr>\n",
       "    <tr>\n",
       "      <th>4</th>\n",
       "      <td>1004</td>\n",
       "      <td>68</td>\n",
       "      <td>NaN</td>\n",
       "      <td>Новокузнецк</td>\n",
       "      <td>Татьяна</td>\n",
       "      <td>Авдеенко</td>\n",
       "      <td>2018-05-14</td>\n",
       "      <td>ultra</td>\n",
       "    </tr>\n",
       "  </tbody>\n",
       "</table>\n",
       "</div>"
      ],
      "text/plain": [
       "   user_id  age churn_date         city first_name  last_name    reg_date  \\\n",
       "0     1000   52        NaN    Краснодар     Рафаил  Верещагин  2018-05-25   \n",
       "1     1001   41        NaN       Москва       Иван       Ежов  2018-11-01   \n",
       "2     1002   59        NaN  Стерлитамак    Евгений  Абрамович  2018-06-17   \n",
       "3     1003   23        NaN       Москва      Белла   Белякова  2018-08-17   \n",
       "4     1004   68        NaN  Новокузнецк    Татьяна   Авдеенко  2018-05-14   \n",
       "\n",
       "  tariff  \n",
       "0  ultra  \n",
       "1  smart  \n",
       "2  smart  \n",
       "3  ultra  \n",
       "4  ultra  "
      ]
     },
     "metadata": {},
     "output_type": "display_data"
    }
   ],
   "source": [
    "#через цикл загружаем датасеты, выводим первые 5 строк и читаем info\n",
    "datasets = ['calls', 'internet', 'messages', 'tariffs', 'users']\n",
    "\n",
    "for dataset in datasets:\n",
    "    files = glob.glob(dataset + '.csv')\n",
    "    for file in files:\n",
    "        globals()[dataset] = pd.read_csv(file)\n",
    "        print('----------------------------------\\n', dataset, '\\n----------------------------------')\n",
    "        globals()[dataset].info()\n",
    "        display(globals()[dataset].head())     "
   ]
  },
  {
   "cell_type": "markdown",
   "metadata": {},
   "source": [
    "Проверим таблицу пользователей users на наличие дубликатов в столбце user_id."
   ]
  },
  {
   "cell_type": "code",
   "execution_count": 4,
   "metadata": {},
   "outputs": [
    {
     "name": "stdout",
     "output_type": "stream",
     "text": [
      "Кол-во дубликатов в user_id: 0\n"
     ]
    }
   ],
   "source": [
    "print('Кол-во дубликатов в user_id:', users['user_id'].duplicated().sum())"
   ]
  },
  {
   "cell_type": "markdown",
   "metadata": {},
   "source": [
    "Напишем пользовательскую функцию для обработки столбцов с датами, которая меняет формат данных с object на datetime."
   ]
  },
  {
   "cell_type": "code",
   "execution_count": 5,
   "metadata": {},
   "outputs": [],
   "source": [
    "def to_datetime(dataset, col):\n",
    "    dataset[col] = pd.to_datetime(dataset[col], format='%Y-%m-%d') # изменяет формат данных на datetime"
   ]
  },
  {
   "cell_type": "markdown",
   "metadata": {},
   "source": [
    "Через цикл применим написанную функцию к датасетам и столбцам из словаря и выведем на экран info()."
   ]
  },
  {
   "cell_type": "code",
   "execution_count": 6,
   "metadata": {},
   "outputs": [
    {
     "name": "stdout",
     "output_type": "stream",
     "text": [
      "----------------------------------\n",
      " calls \n",
      "----------------------------------\n",
      "<class 'pandas.core.frame.DataFrame'>\n",
      "RangeIndex: 202607 entries, 0 to 202606\n",
      "Data columns (total 4 columns):\n",
      " #   Column     Non-Null Count   Dtype         \n",
      "---  ------     --------------   -----         \n",
      " 0   id         202607 non-null  object        \n",
      " 1   call_date  202607 non-null  datetime64[ns]\n",
      " 2   duration   202607 non-null  float64       \n",
      " 3   user_id    202607 non-null  int64         \n",
      "dtypes: datetime64[ns](1), float64(1), int64(1), object(1)\n",
      "memory usage: 6.2+ MB\n",
      "----------------------------------\n",
      " internet \n",
      "----------------------------------\n",
      "<class 'pandas.core.frame.DataFrame'>\n",
      "RangeIndex: 149396 entries, 0 to 149395\n",
      "Data columns (total 5 columns):\n",
      " #   Column        Non-Null Count   Dtype         \n",
      "---  ------        --------------   -----         \n",
      " 0   Unnamed: 0    149396 non-null  int64         \n",
      " 1   id            149396 non-null  object        \n",
      " 2   mb_used       149396 non-null  float64       \n",
      " 3   session_date  149396 non-null  datetime64[ns]\n",
      " 4   user_id       149396 non-null  int64         \n",
      "dtypes: datetime64[ns](1), float64(1), int64(2), object(1)\n",
      "memory usage: 5.7+ MB\n",
      "----------------------------------\n",
      " messages \n",
      "----------------------------------\n",
      "<class 'pandas.core.frame.DataFrame'>\n",
      "RangeIndex: 123036 entries, 0 to 123035\n",
      "Data columns (total 3 columns):\n",
      " #   Column        Non-Null Count   Dtype         \n",
      "---  ------        --------------   -----         \n",
      " 0   id            123036 non-null  object        \n",
      " 1   message_date  123036 non-null  datetime64[ns]\n",
      " 2   user_id       123036 non-null  int64         \n",
      "dtypes: datetime64[ns](1), int64(1), object(1)\n",
      "memory usage: 2.8+ MB\n",
      "----------------------------------\n",
      " users \n",
      "----------------------------------\n",
      "<class 'pandas.core.frame.DataFrame'>\n",
      "RangeIndex: 500 entries, 0 to 499\n",
      "Data columns (total 8 columns):\n",
      " #   Column      Non-Null Count  Dtype         \n",
      "---  ------      --------------  -----         \n",
      " 0   user_id     500 non-null    int64         \n",
      " 1   age         500 non-null    int64         \n",
      " 2   churn_date  38 non-null     datetime64[ns]\n",
      " 3   city        500 non-null    object        \n",
      " 4   first_name  500 non-null    object        \n",
      " 5   last_name   500 non-null    object        \n",
      " 6   reg_date    500 non-null    object        \n",
      " 7   tariff      500 non-null    object        \n",
      "dtypes: datetime64[ns](1), int64(2), object(5)\n",
      "memory usage: 31.4+ KB\n"
     ]
    }
   ],
   "source": [
    "date_cols = ({'calls' : 'call_date',\n",
    "              'internet' : 'session_date',\n",
    "              'messages' : 'message_date',\n",
    "              'users': 'reg_date', \n",
    "              'users': 'churn_date'}\n",
    "            )\n",
    "\n",
    "for key in date_cols:\n",
    "    to_datetime(globals()[key], date_cols[key])\n",
    "    print('----------------------------------\\n', key, '\\n----------------------------------')\n",
    "    globals()[key].info()"
   ]
  },
  {
   "cell_type": "markdown",
   "metadata": {},
   "source": [
    "### 2.1 Вывод\n",
    "\n",
    "На данном этапе были прочитаны и загружены 5 датасетов: \n",
    "- users – информация о пользователях,\n",
    "- calls – информация о звонках,\n",
    "- messages – информация о сообщениях,\n",
    "- internet – информация об интернет-сессиях,\n",
    "- tariffs – информация о тарифах.\n",
    "\n",
    "Для всех таблиц по всем столбцам, содержащим дату, изменены форматы данных с object на datetime."
   ]
  },
  {
   "cell_type": "markdown",
   "metadata": {},
   "source": [
    "<a id='calculating'></a>\n",
    "## 3 Расчёты и добавление результатов"
   ]
  },
  {
   "cell_type": "markdown",
   "metadata": {},
   "source": [
    "Нам известно, что «Мегалайн» всегда округляет секунды до минут, а именно: каждый звонок округляется отдельно, даже если он длился всего 1 секунду, будет засчитан как 1 минута.   \n",
    "Округлим каждый звонок до целых минут вверх."
   ]
  },
  {
   "cell_type": "code",
   "execution_count": 7,
   "metadata": {},
   "outputs": [],
   "source": [
    "calls['duration_rouned'] = np.ceil(calls['duration']).astype(int)"
   ]
  },
  {
   "cell_type": "markdown",
   "metadata": {},
   "source": [
    "На основе таблицы звонков создадим новую таблицу – calls_grouped, где укрупним данные до месячных, рассчитав общее кол-во звонков и их продолжительность по месяцам по каждому абоненту."
   ]
  },
  {
   "cell_type": "code",
   "execution_count": 8,
   "metadata": {},
   "outputs": [
    {
     "data": {
      "text/html": [
       "<div>\n",
       "<style scoped>\n",
       "    .dataframe tbody tr th:only-of-type {\n",
       "        vertical-align: middle;\n",
       "    }\n",
       "\n",
       "    .dataframe tbody tr th {\n",
       "        vertical-align: top;\n",
       "    }\n",
       "\n",
       "    .dataframe thead th {\n",
       "        text-align: right;\n",
       "    }\n",
       "</style>\n",
       "<table border=\"1\" class=\"dataframe\">\n",
       "  <thead>\n",
       "    <tr style=\"text-align: right;\">\n",
       "      <th></th>\n",
       "      <th>user_id</th>\n",
       "      <th>month</th>\n",
       "      <th>calls_qty</th>\n",
       "      <th>minutes_qty</th>\n",
       "    </tr>\n",
       "  </thead>\n",
       "  <tbody>\n",
       "    <tr>\n",
       "      <th>0</th>\n",
       "      <td>1000</td>\n",
       "      <td>2018-05-31</td>\n",
       "      <td>22</td>\n",
       "      <td>159</td>\n",
       "    </tr>\n",
       "    <tr>\n",
       "      <th>1</th>\n",
       "      <td>1000</td>\n",
       "      <td>2018-06-30</td>\n",
       "      <td>43</td>\n",
       "      <td>172</td>\n",
       "    </tr>\n",
       "    <tr>\n",
       "      <th>2</th>\n",
       "      <td>1000</td>\n",
       "      <td>2018-07-31</td>\n",
       "      <td>47</td>\n",
       "      <td>340</td>\n",
       "    </tr>\n",
       "    <tr>\n",
       "      <th>3</th>\n",
       "      <td>1000</td>\n",
       "      <td>2018-08-31</td>\n",
       "      <td>52</td>\n",
       "      <td>408</td>\n",
       "    </tr>\n",
       "    <tr>\n",
       "      <th>4</th>\n",
       "      <td>1000</td>\n",
       "      <td>2018-09-30</td>\n",
       "      <td>58</td>\n",
       "      <td>466</td>\n",
       "    </tr>\n",
       "    <tr>\n",
       "      <th>...</th>\n",
       "      <td>...</td>\n",
       "      <td>...</td>\n",
       "      <td>...</td>\n",
       "      <td>...</td>\n",
       "    </tr>\n",
       "    <tr>\n",
       "      <th>3169</th>\n",
       "      <td>1498</td>\n",
       "      <td>2018-10-31</td>\n",
       "      <td>41</td>\n",
       "      <td>247</td>\n",
       "    </tr>\n",
       "    <tr>\n",
       "      <th>3170</th>\n",
       "      <td>1499</td>\n",
       "      <td>2018-09-30</td>\n",
       "      <td>9</td>\n",
       "      <td>70</td>\n",
       "    </tr>\n",
       "    <tr>\n",
       "      <th>3171</th>\n",
       "      <td>1499</td>\n",
       "      <td>2018-10-31</td>\n",
       "      <td>68</td>\n",
       "      <td>449</td>\n",
       "    </tr>\n",
       "    <tr>\n",
       "      <th>3172</th>\n",
       "      <td>1499</td>\n",
       "      <td>2018-11-30</td>\n",
       "      <td>74</td>\n",
       "      <td>612</td>\n",
       "    </tr>\n",
       "    <tr>\n",
       "      <th>3173</th>\n",
       "      <td>1499</td>\n",
       "      <td>2018-12-31</td>\n",
       "      <td>69</td>\n",
       "      <td>492</td>\n",
       "    </tr>\n",
       "  </tbody>\n",
       "</table>\n",
       "<p>3174 rows × 4 columns</p>\n",
       "</div>"
      ],
      "text/plain": [
       "      user_id      month  calls_qty  minutes_qty\n",
       "0        1000 2018-05-31         22          159\n",
       "1        1000 2018-06-30         43          172\n",
       "2        1000 2018-07-31         47          340\n",
       "3        1000 2018-08-31         52          408\n",
       "4        1000 2018-09-30         58          466\n",
       "...       ...        ...        ...          ...\n",
       "3169     1498 2018-10-31         41          247\n",
       "3170     1499 2018-09-30          9           70\n",
       "3171     1499 2018-10-31         68          449\n",
       "3172     1499 2018-11-30         74          612\n",
       "3173     1499 2018-12-31         69          492\n",
       "\n",
       "[3174 rows x 4 columns]"
      ]
     },
     "execution_count": 8,
     "metadata": {},
     "output_type": "execute_result"
    }
   ],
   "source": [
    "calls_grouped = (calls.groupby(['user_id', pd.Grouper(key='call_date', freq='M')])\n",
    "                      .agg(calls_qty = ('duration_rouned', 'count'), \n",
    "                           minutes_qty = ('duration_rouned', 'sum'))\n",
    "                      .reset_index()\n",
    "                )\n",
    "calls_grouped.rename(columns = {'call_date' : 'month'}, inplace=True) # переименовываем столбец 'call_date' в 'month'\n",
    "calls_grouped"
   ]
  },
  {
   "cell_type": "markdown",
   "metadata": {},
   "source": [
    "На основе таблицы интернет-трафика создадим новую таблицу – internet_grouped, где укрупним данные до месячных, рассчитав общий дата-трафик в Гб по месяцам по каждому абоненту.    \n",
    "При этом нам известно, что по итогам месяца «Мегалайн» округляет мегабайты до гигабайт в бо́льшую сторону."
   ]
  },
  {
   "cell_type": "code",
   "execution_count": 9,
   "metadata": {},
   "outputs": [
    {
     "data": {
      "text/html": [
       "<div>\n",
       "<style scoped>\n",
       "    .dataframe tbody tr th:only-of-type {\n",
       "        vertical-align: middle;\n",
       "    }\n",
       "\n",
       "    .dataframe tbody tr th {\n",
       "        vertical-align: top;\n",
       "    }\n",
       "\n",
       "    .dataframe thead th {\n",
       "        text-align: right;\n",
       "    }\n",
       "</style>\n",
       "<table border=\"1\" class=\"dataframe\">\n",
       "  <thead>\n",
       "    <tr style=\"text-align: right;\">\n",
       "      <th></th>\n",
       "      <th>user_id</th>\n",
       "      <th>month</th>\n",
       "      <th>mb_used</th>\n",
       "      <th>gb_used</th>\n",
       "    </tr>\n",
       "  </thead>\n",
       "  <tbody>\n",
       "    <tr>\n",
       "      <th>0</th>\n",
       "      <td>1000</td>\n",
       "      <td>2018-05-31</td>\n",
       "      <td>2253.49</td>\n",
       "      <td>3</td>\n",
       "    </tr>\n",
       "    <tr>\n",
       "      <th>1</th>\n",
       "      <td>1000</td>\n",
       "      <td>2018-06-30</td>\n",
       "      <td>23233.77</td>\n",
       "      <td>23</td>\n",
       "    </tr>\n",
       "    <tr>\n",
       "      <th>2</th>\n",
       "      <td>1000</td>\n",
       "      <td>2018-07-31</td>\n",
       "      <td>14003.64</td>\n",
       "      <td>14</td>\n",
       "    </tr>\n",
       "    <tr>\n",
       "      <th>3</th>\n",
       "      <td>1000</td>\n",
       "      <td>2018-08-31</td>\n",
       "      <td>14055.93</td>\n",
       "      <td>14</td>\n",
       "    </tr>\n",
       "    <tr>\n",
       "      <th>4</th>\n",
       "      <td>1000</td>\n",
       "      <td>2018-09-30</td>\n",
       "      <td>14568.91</td>\n",
       "      <td>15</td>\n",
       "    </tr>\n",
       "    <tr>\n",
       "      <th>...</th>\n",
       "      <td>...</td>\n",
       "      <td>...</td>\n",
       "      <td>...</td>\n",
       "      <td>...</td>\n",
       "    </tr>\n",
       "    <tr>\n",
       "      <th>3198</th>\n",
       "      <td>1498</td>\n",
       "      <td>2018-10-31</td>\n",
       "      <td>20579.36</td>\n",
       "      <td>21</td>\n",
       "    </tr>\n",
       "    <tr>\n",
       "      <th>3199</th>\n",
       "      <td>1499</td>\n",
       "      <td>2018-09-30</td>\n",
       "      <td>1845.75</td>\n",
       "      <td>2</td>\n",
       "    </tr>\n",
       "    <tr>\n",
       "      <th>3200</th>\n",
       "      <td>1499</td>\n",
       "      <td>2018-10-31</td>\n",
       "      <td>17788.51</td>\n",
       "      <td>18</td>\n",
       "    </tr>\n",
       "    <tr>\n",
       "      <th>3201</th>\n",
       "      <td>1499</td>\n",
       "      <td>2018-11-30</td>\n",
       "      <td>17963.31</td>\n",
       "      <td>18</td>\n",
       "    </tr>\n",
       "    <tr>\n",
       "      <th>3202</th>\n",
       "      <td>1499</td>\n",
       "      <td>2018-12-31</td>\n",
       "      <td>13055.58</td>\n",
       "      <td>13</td>\n",
       "    </tr>\n",
       "  </tbody>\n",
       "</table>\n",
       "<p>3203 rows × 4 columns</p>\n",
       "</div>"
      ],
      "text/plain": [
       "      user_id      month   mb_used  gb_used\n",
       "0        1000 2018-05-31   2253.49        3\n",
       "1        1000 2018-06-30  23233.77       23\n",
       "2        1000 2018-07-31  14003.64       14\n",
       "3        1000 2018-08-31  14055.93       14\n",
       "4        1000 2018-09-30  14568.91       15\n",
       "...       ...        ...       ...      ...\n",
       "3198     1498 2018-10-31  20579.36       21\n",
       "3199     1499 2018-09-30   1845.75        2\n",
       "3200     1499 2018-10-31  17788.51       18\n",
       "3201     1499 2018-11-30  17963.31       18\n",
       "3202     1499 2018-12-31  13055.58       13\n",
       "\n",
       "[3203 rows x 4 columns]"
      ]
     },
     "execution_count": 9,
     "metadata": {},
     "output_type": "execute_result"
    }
   ],
   "source": [
    "internet_grouped = (internet.groupby(['user_id', pd.Grouper(key='session_date', freq='M')])\n",
    "                            .agg({'mb_used': 'sum'})\n",
    "                            .reset_index()\n",
    "                   )\n",
    "\n",
    "internet_grouped['gb_used'] = np.ceil(internet_grouped['mb_used'] / mb_to_gb).astype(int)\n",
    "internet_grouped.rename(columns = {'session_date' : 'month'}, inplace=True) # переименовываем столбец 'session_date' в 'month'\n",
    "internet_grouped"
   ]
  },
  {
   "cell_type": "markdown",
   "metadata": {},
   "source": [
    "На основе таблицы SMS-сообщений создадим новую таблицу – messages_grouped, где укрупним данные до месячных, рассчитав общий кол-во сообщений по месяцам по каждому абоненту."
   ]
  },
  {
   "cell_type": "code",
   "execution_count": 10,
   "metadata": {},
   "outputs": [
    {
     "data": {
      "text/html": [
       "<div>\n",
       "<style scoped>\n",
       "    .dataframe tbody tr th:only-of-type {\n",
       "        vertical-align: middle;\n",
       "    }\n",
       "\n",
       "    .dataframe tbody tr th {\n",
       "        vertical-align: top;\n",
       "    }\n",
       "\n",
       "    .dataframe thead th {\n",
       "        text-align: right;\n",
       "    }\n",
       "</style>\n",
       "<table border=\"1\" class=\"dataframe\">\n",
       "  <thead>\n",
       "    <tr style=\"text-align: right;\">\n",
       "      <th></th>\n",
       "      <th>user_id</th>\n",
       "      <th>month</th>\n",
       "      <th>messages_qty</th>\n",
       "    </tr>\n",
       "  </thead>\n",
       "  <tbody>\n",
       "    <tr>\n",
       "      <th>0</th>\n",
       "      <td>1000</td>\n",
       "      <td>2018-05-31</td>\n",
       "      <td>22</td>\n",
       "    </tr>\n",
       "    <tr>\n",
       "      <th>1</th>\n",
       "      <td>1000</td>\n",
       "      <td>2018-06-30</td>\n",
       "      <td>60</td>\n",
       "    </tr>\n",
       "    <tr>\n",
       "      <th>2</th>\n",
       "      <td>1000</td>\n",
       "      <td>2018-07-31</td>\n",
       "      <td>75</td>\n",
       "    </tr>\n",
       "    <tr>\n",
       "      <th>3</th>\n",
       "      <td>1000</td>\n",
       "      <td>2018-08-31</td>\n",
       "      <td>81</td>\n",
       "    </tr>\n",
       "    <tr>\n",
       "      <th>4</th>\n",
       "      <td>1000</td>\n",
       "      <td>2018-09-30</td>\n",
       "      <td>57</td>\n",
       "    </tr>\n",
       "    <tr>\n",
       "      <th>...</th>\n",
       "      <td>...</td>\n",
       "      <td>...</td>\n",
       "      <td>...</td>\n",
       "    </tr>\n",
       "    <tr>\n",
       "      <th>2712</th>\n",
       "      <td>1498</td>\n",
       "      <td>2018-10-31</td>\n",
       "      <td>42</td>\n",
       "    </tr>\n",
       "    <tr>\n",
       "      <th>2713</th>\n",
       "      <td>1499</td>\n",
       "      <td>2018-09-30</td>\n",
       "      <td>11</td>\n",
       "    </tr>\n",
       "    <tr>\n",
       "      <th>2714</th>\n",
       "      <td>1499</td>\n",
       "      <td>2018-10-31</td>\n",
       "      <td>48</td>\n",
       "    </tr>\n",
       "    <tr>\n",
       "      <th>2715</th>\n",
       "      <td>1499</td>\n",
       "      <td>2018-11-30</td>\n",
       "      <td>59</td>\n",
       "    </tr>\n",
       "    <tr>\n",
       "      <th>2716</th>\n",
       "      <td>1499</td>\n",
       "      <td>2018-12-31</td>\n",
       "      <td>66</td>\n",
       "    </tr>\n",
       "  </tbody>\n",
       "</table>\n",
       "<p>2717 rows × 3 columns</p>\n",
       "</div>"
      ],
      "text/plain": [
       "      user_id      month  messages_qty\n",
       "0        1000 2018-05-31            22\n",
       "1        1000 2018-06-30            60\n",
       "2        1000 2018-07-31            75\n",
       "3        1000 2018-08-31            81\n",
       "4        1000 2018-09-30            57\n",
       "...       ...        ...           ...\n",
       "2712     1498 2018-10-31            42\n",
       "2713     1499 2018-09-30            11\n",
       "2714     1499 2018-10-31            48\n",
       "2715     1499 2018-11-30            59\n",
       "2716     1499 2018-12-31            66\n",
       "\n",
       "[2717 rows x 3 columns]"
      ]
     },
     "execution_count": 10,
     "metadata": {},
     "output_type": "execute_result"
    }
   ],
   "source": [
    "messages_grouped = (messages.groupby(['user_id', pd.Grouper(key='message_date', freq='M')])\n",
    "                            .agg(messages_qty = ('id', 'count'))\n",
    "                            .reset_index()\n",
    "                   )\n",
    "\n",
    "messages_grouped.rename(columns = {'message_date' : 'month'}, inplace=True) # переименовываем столбец 'message_date' в 'month'\n",
    "messages_grouped"
   ]
  },
  {
   "cell_type": "markdown",
   "metadata": {},
   "source": [
    "Объединим все три фрейма – calls_grouped, internet_grouped, messages_grouped – в один методом merge() по 'user_id' и 'month'."
   ]
  },
  {
   "cell_type": "code",
   "execution_count": 11,
   "metadata": {},
   "outputs": [
    {
     "data": {
      "text/html": [
       "<div>\n",
       "<style scoped>\n",
       "    .dataframe tbody tr th:only-of-type {\n",
       "        vertical-align: middle;\n",
       "    }\n",
       "\n",
       "    .dataframe tbody tr th {\n",
       "        vertical-align: top;\n",
       "    }\n",
       "\n",
       "    .dataframe thead th {\n",
       "        text-align: right;\n",
       "    }\n",
       "</style>\n",
       "<table border=\"1\" class=\"dataframe\">\n",
       "  <thead>\n",
       "    <tr style=\"text-align: right;\">\n",
       "      <th></th>\n",
       "      <th>user_id</th>\n",
       "      <th>month</th>\n",
       "      <th>calls_qty</th>\n",
       "      <th>minutes_qty</th>\n",
       "      <th>mb_used</th>\n",
       "      <th>gb_used</th>\n",
       "      <th>messages_qty</th>\n",
       "    </tr>\n",
       "  </thead>\n",
       "  <tbody>\n",
       "    <tr>\n",
       "      <th>0</th>\n",
       "      <td>1000</td>\n",
       "      <td>2018-05-31</td>\n",
       "      <td>22.0</td>\n",
       "      <td>159.0</td>\n",
       "      <td>2253.49</td>\n",
       "      <td>3.0</td>\n",
       "      <td>22.0</td>\n",
       "    </tr>\n",
       "    <tr>\n",
       "      <th>1</th>\n",
       "      <td>1000</td>\n",
       "      <td>2018-06-30</td>\n",
       "      <td>43.0</td>\n",
       "      <td>172.0</td>\n",
       "      <td>23233.77</td>\n",
       "      <td>23.0</td>\n",
       "      <td>60.0</td>\n",
       "    </tr>\n",
       "    <tr>\n",
       "      <th>2</th>\n",
       "      <td>1000</td>\n",
       "      <td>2018-07-31</td>\n",
       "      <td>47.0</td>\n",
       "      <td>340.0</td>\n",
       "      <td>14003.64</td>\n",
       "      <td>14.0</td>\n",
       "      <td>75.0</td>\n",
       "    </tr>\n",
       "    <tr>\n",
       "      <th>3</th>\n",
       "      <td>1000</td>\n",
       "      <td>2018-08-31</td>\n",
       "      <td>52.0</td>\n",
       "      <td>408.0</td>\n",
       "      <td>14055.93</td>\n",
       "      <td>14.0</td>\n",
       "      <td>81.0</td>\n",
       "    </tr>\n",
       "    <tr>\n",
       "      <th>4</th>\n",
       "      <td>1000</td>\n",
       "      <td>2018-09-30</td>\n",
       "      <td>58.0</td>\n",
       "      <td>466.0</td>\n",
       "      <td>14568.91</td>\n",
       "      <td>15.0</td>\n",
       "      <td>57.0</td>\n",
       "    </tr>\n",
       "  </tbody>\n",
       "</table>\n",
       "</div>"
      ],
      "text/plain": [
       "   user_id      month  calls_qty  minutes_qty   mb_used  gb_used  messages_qty\n",
       "0     1000 2018-05-31       22.0        159.0   2253.49      3.0          22.0\n",
       "1     1000 2018-06-30       43.0        172.0  23233.77     23.0          60.0\n",
       "2     1000 2018-07-31       47.0        340.0  14003.64     14.0          75.0\n",
       "3     1000 2018-08-31       52.0        408.0  14055.93     14.0          81.0\n",
       "4     1000 2018-09-30       58.0        466.0  14568.91     15.0          57.0"
      ]
     },
     "execution_count": 11,
     "metadata": {},
     "output_type": "execute_result"
    }
   ],
   "source": [
    "df = calls_grouped.merge(internet_grouped, on=['user_id', 'month'], how='outer').merge(messages_grouped, on=['user_id', 'month'], how='outer')\n",
    "df.head()"
   ]
  },
  {
   "cell_type": "markdown",
   "metadata": {},
   "source": [
    "В объединенную таблицу добавим данные:\n",
    "- о городе проживания абонента и о подключенном тарифном плане – из таблицы users,\n",
    "- о составе и условиях тарифного плана – из таблицы tariffs."
   ]
  },
  {
   "cell_type": "code",
   "execution_count": 12,
   "metadata": {},
   "outputs": [
    {
     "name": "stdout",
     "output_type": "stream",
     "text": [
      "<class 'pandas.core.frame.DataFrame'>\n",
      "Int64Index: 3216 entries, 0 to 3215\n",
      "Data columns (total 17 columns):\n",
      " #   Column                 Non-Null Count  Dtype         \n",
      "---  ------                 --------------  -----         \n",
      " 0   user_id                3216 non-null   int64         \n",
      " 1   month                  3214 non-null   datetime64[ns]\n",
      " 2   calls_qty              3174 non-null   float64       \n",
      " 3   minutes_qty            3174 non-null   float64       \n",
      " 4   mb_used                3203 non-null   float64       \n",
      " 5   gb_used                3203 non-null   float64       \n",
      " 6   messages_qty           2717 non-null   float64       \n",
      " 7   city                   3216 non-null   object        \n",
      " 8   tariff                 3216 non-null   object        \n",
      " 9   messages_included      3216 non-null   int64         \n",
      " 10  mb_per_month_included  3216 non-null   int64         \n",
      " 11  minutes_included       3216 non-null   int64         \n",
      " 12  rub_monthly_fee        3216 non-null   int64         \n",
      " 13  rub_per_gb             3216 non-null   int64         \n",
      " 14  rub_per_message        3216 non-null   int64         \n",
      " 15  rub_per_minute         3216 non-null   int64         \n",
      " 16  tariff_name            3216 non-null   object        \n",
      "dtypes: datetime64[ns](1), float64(5), int64(8), object(3)\n",
      "memory usage: 452.2+ KB\n"
     ]
    }
   ],
   "source": [
    "df = pd.merge(df, users[['user_id', 'city', 'tariff']], how='right', on='user_id')\n",
    "df = pd.merge(df, tariffs, how='left', left_on='tariff', right_on='tariff_name')\n",
    "df.info()"
   ]
  },
  {
   "cell_type": "code",
   "execution_count": 13,
   "metadata": {},
   "outputs": [],
   "source": [
    "# Удалим лишний столбец 'tariff_name', появившийся при слиянии с таблицей tariffs\n",
    "\n",
    "df = df.drop(columns='tariff_name')"
   ]
  },
  {
   "cell_type": "markdown",
   "metadata": {},
   "source": [
    "Пустые значения в колонках с данными о трафике заменим на 0, поскольку это говорит о том, что в конкретном месяце абонент не пользовался определенным видом трафика: не разговаривал голосом, или не посылал сообщения, или не использовал мобильные данные."
   ]
  },
  {
   "cell_type": "code",
   "execution_count": 14,
   "metadata": {},
   "outputs": [
    {
     "name": "stdout",
     "output_type": "stream",
     "text": [
      "<class 'pandas.core.frame.DataFrame'>\n",
      "Int64Index: 3216 entries, 0 to 3215\n",
      "Data columns (total 16 columns):\n",
      " #   Column                 Non-Null Count  Dtype         \n",
      "---  ------                 --------------  -----         \n",
      " 0   user_id                3216 non-null   int64         \n",
      " 1   month                  3214 non-null   datetime64[ns]\n",
      " 2   calls_qty              3216 non-null   float64       \n",
      " 3   minutes_qty            3216 non-null   float64       \n",
      " 4   mb_used                3216 non-null   float64       \n",
      " 5   gb_used                3216 non-null   float64       \n",
      " 6   messages_qty           3216 non-null   float64       \n",
      " 7   city                   3216 non-null   object        \n",
      " 8   tariff                 3216 non-null   object        \n",
      " 9   messages_included      3216 non-null   int64         \n",
      " 10  mb_per_month_included  3216 non-null   int64         \n",
      " 11  minutes_included       3216 non-null   int64         \n",
      " 12  rub_monthly_fee        3216 non-null   int64         \n",
      " 13  rub_per_gb             3216 non-null   int64         \n",
      " 14  rub_per_message        3216 non-null   int64         \n",
      " 15  rub_per_minute         3216 non-null   int64         \n",
      "dtypes: datetime64[ns](1), float64(5), int64(8), object(2)\n",
      "memory usage: 427.1+ KB\n"
     ]
    }
   ],
   "source": [
    "isnull_col_list = ['calls_qty', 'minutes_qty', 'mb_used', 'gb_used', 'messages_qty']\n",
    "\n",
    "for isnull_col in isnull_col_list:\n",
    "    df[isnull_col] = df[isnull_col].fillna(0)\n",
    "    \n",
    "df.info()"
   ]
  },
  {
   "cell_type": "markdown",
   "metadata": {},
   "source": [
    "Найдем абонентов с пустым значением в поле 'month' и посмотрим на данные о них в таблице 'users'."
   ]
  },
  {
   "cell_type": "code",
   "execution_count": 15,
   "metadata": {},
   "outputs": [
    {
     "data": {
      "text/html": [
       "<div>\n",
       "<style scoped>\n",
       "    .dataframe tbody tr th:only-of-type {\n",
       "        vertical-align: middle;\n",
       "    }\n",
       "\n",
       "    .dataframe tbody tr th {\n",
       "        vertical-align: top;\n",
       "    }\n",
       "\n",
       "    .dataframe thead th {\n",
       "        text-align: right;\n",
       "    }\n",
       "</style>\n",
       "<table border=\"1\" class=\"dataframe\">\n",
       "  <thead>\n",
       "    <tr style=\"text-align: right;\">\n",
       "      <th></th>\n",
       "      <th>user_id</th>\n",
       "      <th>month</th>\n",
       "      <th>calls_qty</th>\n",
       "      <th>minutes_qty</th>\n",
       "      <th>mb_used</th>\n",
       "      <th>gb_used</th>\n",
       "      <th>messages_qty</th>\n",
       "      <th>city</th>\n",
       "      <th>tariff</th>\n",
       "      <th>messages_included</th>\n",
       "      <th>mb_per_month_included</th>\n",
       "      <th>minutes_included</th>\n",
       "      <th>rub_monthly_fee</th>\n",
       "      <th>rub_per_gb</th>\n",
       "      <th>rub_per_message</th>\n",
       "      <th>rub_per_minute</th>\n",
       "    </tr>\n",
       "  </thead>\n",
       "  <tbody>\n",
       "    <tr>\n",
       "      <th>827</th>\n",
       "      <td>1128</td>\n",
       "      <td>NaT</td>\n",
       "      <td>0.0</td>\n",
       "      <td>0.0</td>\n",
       "      <td>0.0</td>\n",
       "      <td>0.0</td>\n",
       "      <td>0.0</td>\n",
       "      <td>Волжский</td>\n",
       "      <td>ultra</td>\n",
       "      <td>1000</td>\n",
       "      <td>30720</td>\n",
       "      <td>3000</td>\n",
       "      <td>1950</td>\n",
       "      <td>150</td>\n",
       "      <td>1</td>\n",
       "      <td>1</td>\n",
       "    </tr>\n",
       "    <tr>\n",
       "      <th>2335</th>\n",
       "      <td>1371</td>\n",
       "      <td>NaT</td>\n",
       "      <td>0.0</td>\n",
       "      <td>0.0</td>\n",
       "      <td>0.0</td>\n",
       "      <td>0.0</td>\n",
       "      <td>0.0</td>\n",
       "      <td>Омск</td>\n",
       "      <td>smart</td>\n",
       "      <td>50</td>\n",
       "      <td>15360</td>\n",
       "      <td>500</td>\n",
       "      <td>550</td>\n",
       "      <td>200</td>\n",
       "      <td>3</td>\n",
       "      <td>3</td>\n",
       "    </tr>\n",
       "  </tbody>\n",
       "</table>\n",
       "</div>"
      ],
      "text/plain": [
       "      user_id month  calls_qty  minutes_qty  mb_used  gb_used  messages_qty  \\\n",
       "827      1128   NaT        0.0          0.0      0.0      0.0           0.0   \n",
       "2335     1371   NaT        0.0          0.0      0.0      0.0           0.0   \n",
       "\n",
       "          city tariff  messages_included  mb_per_month_included  \\\n",
       "827   Волжский  ultra               1000                  30720   \n",
       "2335      Омск  smart                 50                  15360   \n",
       "\n",
       "      minutes_included  rub_monthly_fee  rub_per_gb  rub_per_message  \\\n",
       "827               3000             1950         150                1   \n",
       "2335               500              550         200                3   \n",
       "\n",
       "      rub_per_minute  \n",
       "827                1  \n",
       "2335               3  "
      ]
     },
     "execution_count": 15,
     "metadata": {},
     "output_type": "execute_result"
    }
   ],
   "source": [
    "df[df['month'].isnull()]"
   ]
  },
  {
   "cell_type": "code",
   "execution_count": 16,
   "metadata": {},
   "outputs": [
    {
     "data": {
      "text/html": [
       "<div>\n",
       "<style scoped>\n",
       "    .dataframe tbody tr th:only-of-type {\n",
       "        vertical-align: middle;\n",
       "    }\n",
       "\n",
       "    .dataframe tbody tr th {\n",
       "        vertical-align: top;\n",
       "    }\n",
       "\n",
       "    .dataframe thead th {\n",
       "        text-align: right;\n",
       "    }\n",
       "</style>\n",
       "<table border=\"1\" class=\"dataframe\">\n",
       "  <thead>\n",
       "    <tr style=\"text-align: right;\">\n",
       "      <th></th>\n",
       "      <th>user_id</th>\n",
       "      <th>age</th>\n",
       "      <th>churn_date</th>\n",
       "      <th>city</th>\n",
       "      <th>first_name</th>\n",
       "      <th>last_name</th>\n",
       "      <th>reg_date</th>\n",
       "      <th>tariff</th>\n",
       "    </tr>\n",
       "  </thead>\n",
       "  <tbody>\n",
       "    <tr>\n",
       "      <th>128</th>\n",
       "      <td>1128</td>\n",
       "      <td>51</td>\n",
       "      <td>2018-12-23</td>\n",
       "      <td>Волжский</td>\n",
       "      <td>Ксения</td>\n",
       "      <td>Агаева</td>\n",
       "      <td>2018-12-15</td>\n",
       "      <td>ultra</td>\n",
       "    </tr>\n",
       "    <tr>\n",
       "      <th>371</th>\n",
       "      <td>1371</td>\n",
       "      <td>50</td>\n",
       "      <td>2018-12-30</td>\n",
       "      <td>Омск</td>\n",
       "      <td>Ириней</td>\n",
       "      <td>Трофимов</td>\n",
       "      <td>2018-12-25</td>\n",
       "      <td>smart</td>\n",
       "    </tr>\n",
       "  </tbody>\n",
       "</table>\n",
       "</div>"
      ],
      "text/plain": [
       "     user_id  age churn_date      city first_name last_name    reg_date tariff\n",
       "128     1128   51 2018-12-23  Волжский     Ксения    Агаева  2018-12-15  ultra\n",
       "371     1371   50 2018-12-30      Омск     Ириней  Трофимов  2018-12-25  smart"
      ]
     },
     "execution_count": 16,
     "metadata": {},
     "output_type": "execute_result"
    }
   ],
   "source": [
    "users[users['user_id'].isin(df[df['month'].isnull()]['user_id'])]"
   ]
  },
  {
   "cell_type": "markdown",
   "metadata": {},
   "source": [
    "Эти 2 абонента были зарегистрированы меньше месяца и по ним нет никакого трафика. Скорее всего они не активировали тариф, поэтому их можно исключить из анализа."
   ]
  },
  {
   "cell_type": "code",
   "execution_count": 17,
   "metadata": {},
   "outputs": [
    {
     "name": "stdout",
     "output_type": "stream",
     "text": [
      "<class 'pandas.core.frame.DataFrame'>\n",
      "Int64Index: 3214 entries, 0 to 3215\n",
      "Data columns (total 16 columns):\n",
      " #   Column                 Non-Null Count  Dtype         \n",
      "---  ------                 --------------  -----         \n",
      " 0   user_id                3214 non-null   int64         \n",
      " 1   month                  3214 non-null   datetime64[ns]\n",
      " 2   calls_qty              3214 non-null   float64       \n",
      " 3   minutes_qty            3214 non-null   float64       \n",
      " 4   mb_used                3214 non-null   float64       \n",
      " 5   gb_used                3214 non-null   float64       \n",
      " 6   messages_qty           3214 non-null   float64       \n",
      " 7   city                   3214 non-null   object        \n",
      " 8   tariff                 3214 non-null   object        \n",
      " 9   messages_included      3214 non-null   int64         \n",
      " 10  mb_per_month_included  3214 non-null   int64         \n",
      " 11  minutes_included       3214 non-null   int64         \n",
      " 12  rub_monthly_fee        3214 non-null   int64         \n",
      " 13  rub_per_gb             3214 non-null   int64         \n",
      " 14  rub_per_message        3214 non-null   int64         \n",
      " 15  rub_per_minute         3214 non-null   int64         \n",
      "dtypes: datetime64[ns](1), float64(5), int64(8), object(2)\n",
      "memory usage: 426.9+ KB\n"
     ]
    }
   ],
   "source": [
    "df = df.replace('NaT', np.nan)\n",
    "df = df.dropna()\n",
    "df.info()"
   ]
  },
  {
   "cell_type": "markdown",
   "metadata": {},
   "source": [
    "Добавим столбцы, где рассчитываем кол-во минут, Гб и сообщений, израсходованных абонентом сверх тарифного плана."
   ]
  },
  {
   "cell_type": "code",
   "execution_count": 18,
   "metadata": {},
   "outputs": [
    {
     "data": {
      "text/html": [
       "<div>\n",
       "<style scoped>\n",
       "    .dataframe tbody tr th:only-of-type {\n",
       "        vertical-align: middle;\n",
       "    }\n",
       "\n",
       "    .dataframe tbody tr th {\n",
       "        vertical-align: top;\n",
       "    }\n",
       "\n",
       "    .dataframe thead th {\n",
       "        text-align: right;\n",
       "    }\n",
       "</style>\n",
       "<table border=\"1\" class=\"dataframe\">\n",
       "  <thead>\n",
       "    <tr style=\"text-align: right;\">\n",
       "      <th></th>\n",
       "      <th>user_id</th>\n",
       "      <th>month</th>\n",
       "      <th>calls_qty</th>\n",
       "      <th>minutes_qty</th>\n",
       "      <th>mb_used</th>\n",
       "      <th>gb_used</th>\n",
       "      <th>messages_qty</th>\n",
       "      <th>city</th>\n",
       "      <th>tariff</th>\n",
       "      <th>messages_included</th>\n",
       "      <th>mb_per_month_included</th>\n",
       "      <th>minutes_included</th>\n",
       "      <th>rub_monthly_fee</th>\n",
       "      <th>rub_per_gb</th>\n",
       "      <th>rub_per_message</th>\n",
       "      <th>rub_per_minute</th>\n",
       "      <th>min_over_tariff</th>\n",
       "      <th>gb_over_tariff</th>\n",
       "      <th>messages_over_tariff</th>\n",
       "    </tr>\n",
       "  </thead>\n",
       "  <tbody>\n",
       "    <tr>\n",
       "      <th>0</th>\n",
       "      <td>1000</td>\n",
       "      <td>2018-05-31</td>\n",
       "      <td>22.0</td>\n",
       "      <td>159.0</td>\n",
       "      <td>2253.49</td>\n",
       "      <td>3.0</td>\n",
       "      <td>22.0</td>\n",
       "      <td>Краснодар</td>\n",
       "      <td>ultra</td>\n",
       "      <td>1000</td>\n",
       "      <td>30720</td>\n",
       "      <td>3000</td>\n",
       "      <td>1950</td>\n",
       "      <td>150</td>\n",
       "      <td>1</td>\n",
       "      <td>1</td>\n",
       "      <td>0.0</td>\n",
       "      <td>0.0</td>\n",
       "      <td>0.0</td>\n",
       "    </tr>\n",
       "    <tr>\n",
       "      <th>1</th>\n",
       "      <td>1000</td>\n",
       "      <td>2018-06-30</td>\n",
       "      <td>43.0</td>\n",
       "      <td>172.0</td>\n",
       "      <td>23233.77</td>\n",
       "      <td>23.0</td>\n",
       "      <td>60.0</td>\n",
       "      <td>Краснодар</td>\n",
       "      <td>ultra</td>\n",
       "      <td>1000</td>\n",
       "      <td>30720</td>\n",
       "      <td>3000</td>\n",
       "      <td>1950</td>\n",
       "      <td>150</td>\n",
       "      <td>1</td>\n",
       "      <td>1</td>\n",
       "      <td>0.0</td>\n",
       "      <td>0.0</td>\n",
       "      <td>0.0</td>\n",
       "    </tr>\n",
       "    <tr>\n",
       "      <th>2</th>\n",
       "      <td>1000</td>\n",
       "      <td>2018-07-31</td>\n",
       "      <td>47.0</td>\n",
       "      <td>340.0</td>\n",
       "      <td>14003.64</td>\n",
       "      <td>14.0</td>\n",
       "      <td>75.0</td>\n",
       "      <td>Краснодар</td>\n",
       "      <td>ultra</td>\n",
       "      <td>1000</td>\n",
       "      <td>30720</td>\n",
       "      <td>3000</td>\n",
       "      <td>1950</td>\n",
       "      <td>150</td>\n",
       "      <td>1</td>\n",
       "      <td>1</td>\n",
       "      <td>0.0</td>\n",
       "      <td>0.0</td>\n",
       "      <td>0.0</td>\n",
       "    </tr>\n",
       "    <tr>\n",
       "      <th>3</th>\n",
       "      <td>1000</td>\n",
       "      <td>2018-08-31</td>\n",
       "      <td>52.0</td>\n",
       "      <td>408.0</td>\n",
       "      <td>14055.93</td>\n",
       "      <td>14.0</td>\n",
       "      <td>81.0</td>\n",
       "      <td>Краснодар</td>\n",
       "      <td>ultra</td>\n",
       "      <td>1000</td>\n",
       "      <td>30720</td>\n",
       "      <td>3000</td>\n",
       "      <td>1950</td>\n",
       "      <td>150</td>\n",
       "      <td>1</td>\n",
       "      <td>1</td>\n",
       "      <td>0.0</td>\n",
       "      <td>0.0</td>\n",
       "      <td>0.0</td>\n",
       "    </tr>\n",
       "    <tr>\n",
       "      <th>4</th>\n",
       "      <td>1000</td>\n",
       "      <td>2018-09-30</td>\n",
       "      <td>58.0</td>\n",
       "      <td>466.0</td>\n",
       "      <td>14568.91</td>\n",
       "      <td>15.0</td>\n",
       "      <td>57.0</td>\n",
       "      <td>Краснодар</td>\n",
       "      <td>ultra</td>\n",
       "      <td>1000</td>\n",
       "      <td>30720</td>\n",
       "      <td>3000</td>\n",
       "      <td>1950</td>\n",
       "      <td>150</td>\n",
       "      <td>1</td>\n",
       "      <td>1</td>\n",
       "      <td>0.0</td>\n",
       "      <td>0.0</td>\n",
       "      <td>0.0</td>\n",
       "    </tr>\n",
       "  </tbody>\n",
       "</table>\n",
       "</div>"
      ],
      "text/plain": [
       "   user_id      month  calls_qty  minutes_qty   mb_used  gb_used  \\\n",
       "0     1000 2018-05-31       22.0        159.0   2253.49      3.0   \n",
       "1     1000 2018-06-30       43.0        172.0  23233.77     23.0   \n",
       "2     1000 2018-07-31       47.0        340.0  14003.64     14.0   \n",
       "3     1000 2018-08-31       52.0        408.0  14055.93     14.0   \n",
       "4     1000 2018-09-30       58.0        466.0  14568.91     15.0   \n",
       "\n",
       "   messages_qty       city tariff  messages_included  mb_per_month_included  \\\n",
       "0          22.0  Краснодар  ultra               1000                  30720   \n",
       "1          60.0  Краснодар  ultra               1000                  30720   \n",
       "2          75.0  Краснодар  ultra               1000                  30720   \n",
       "3          81.0  Краснодар  ultra               1000                  30720   \n",
       "4          57.0  Краснодар  ultra               1000                  30720   \n",
       "\n",
       "   minutes_included  rub_monthly_fee  rub_per_gb  rub_per_message  \\\n",
       "0              3000             1950         150                1   \n",
       "1              3000             1950         150                1   \n",
       "2              3000             1950         150                1   \n",
       "3              3000             1950         150                1   \n",
       "4              3000             1950         150                1   \n",
       "\n",
       "   rub_per_minute  min_over_tariff  gb_over_tariff  messages_over_tariff  \n",
       "0               1              0.0             0.0                   0.0  \n",
       "1               1              0.0             0.0                   0.0  \n",
       "2               1              0.0             0.0                   0.0  \n",
       "3               1              0.0             0.0                   0.0  \n",
       "4               1              0.0             0.0                   0.0  "
      ]
     },
     "execution_count": 18,
     "metadata": {},
     "output_type": "execute_result"
    }
   ],
   "source": [
    "df['min_over_tariff'] = np.where(\n",
    "    df['minutes_qty'] <= df['minutes_included'], 0, df['minutes_qty'] - df['minutes_included']\n",
    "                                )\n",
    "\n",
    "df['gb_over_tariff'] = np.where(\n",
    "    df['gb_used'] <= df['mb_per_month_included'] / mb_to_gb, 0, df['gb_used'] - df['mb_per_month_included'] / mb_to_gb\n",
    "                                )\n",
    "\n",
    "df['messages_over_tariff'] = np.where(\n",
    "    df['messages_qty'] <= df['messages_included'], 0, df['messages_qty'] - df['messages_included']\n",
    "                                    )\n",
    "\n",
    "df.head()"
   ]
  },
  {
   "cell_type": "markdown",
   "metadata": {},
   "source": [
    "Рассчитываем сумму, потраченную абонентами по месяцам, исходя из месячной абонентской платы за тариф и тарифов на сверхлимитные минуты, Гб и сообщения. "
   ]
  },
  {
   "cell_type": "code",
   "execution_count": 19,
   "metadata": {},
   "outputs": [
    {
     "data": {
      "text/html": [
       "<div>\n",
       "<style scoped>\n",
       "    .dataframe tbody tr th:only-of-type {\n",
       "        vertical-align: middle;\n",
       "    }\n",
       "\n",
       "    .dataframe tbody tr th {\n",
       "        vertical-align: top;\n",
       "    }\n",
       "\n",
       "    .dataframe thead th {\n",
       "        text-align: right;\n",
       "    }\n",
       "</style>\n",
       "<table border=\"1\" class=\"dataframe\">\n",
       "  <thead>\n",
       "    <tr style=\"text-align: right;\">\n",
       "      <th></th>\n",
       "      <th>user_id</th>\n",
       "      <th>month</th>\n",
       "      <th>calls_qty</th>\n",
       "      <th>minutes_qty</th>\n",
       "      <th>mb_used</th>\n",
       "      <th>gb_used</th>\n",
       "      <th>messages_qty</th>\n",
       "      <th>city</th>\n",
       "      <th>tariff</th>\n",
       "      <th>messages_included</th>\n",
       "      <th>mb_per_month_included</th>\n",
       "      <th>minutes_included</th>\n",
       "      <th>rub_monthly_fee</th>\n",
       "      <th>rub_per_gb</th>\n",
       "      <th>rub_per_message</th>\n",
       "      <th>rub_per_minute</th>\n",
       "      <th>min_over_tariff</th>\n",
       "      <th>gb_over_tariff</th>\n",
       "      <th>messages_over_tariff</th>\n",
       "      <th>income</th>\n",
       "    </tr>\n",
       "  </thead>\n",
       "  <tbody>\n",
       "    <tr>\n",
       "      <th>0</th>\n",
       "      <td>1000</td>\n",
       "      <td>2018-05-31</td>\n",
       "      <td>22.0</td>\n",
       "      <td>159.0</td>\n",
       "      <td>2253.49</td>\n",
       "      <td>3.0</td>\n",
       "      <td>22.0</td>\n",
       "      <td>Краснодар</td>\n",
       "      <td>ultra</td>\n",
       "      <td>1000</td>\n",
       "      <td>30720</td>\n",
       "      <td>3000</td>\n",
       "      <td>1950</td>\n",
       "      <td>150</td>\n",
       "      <td>1</td>\n",
       "      <td>1</td>\n",
       "      <td>0.0</td>\n",
       "      <td>0.0</td>\n",
       "      <td>0.0</td>\n",
       "      <td>1950.0</td>\n",
       "    </tr>\n",
       "    <tr>\n",
       "      <th>1</th>\n",
       "      <td>1000</td>\n",
       "      <td>2018-06-30</td>\n",
       "      <td>43.0</td>\n",
       "      <td>172.0</td>\n",
       "      <td>23233.77</td>\n",
       "      <td>23.0</td>\n",
       "      <td>60.0</td>\n",
       "      <td>Краснодар</td>\n",
       "      <td>ultra</td>\n",
       "      <td>1000</td>\n",
       "      <td>30720</td>\n",
       "      <td>3000</td>\n",
       "      <td>1950</td>\n",
       "      <td>150</td>\n",
       "      <td>1</td>\n",
       "      <td>1</td>\n",
       "      <td>0.0</td>\n",
       "      <td>0.0</td>\n",
       "      <td>0.0</td>\n",
       "      <td>1950.0</td>\n",
       "    </tr>\n",
       "    <tr>\n",
       "      <th>2</th>\n",
       "      <td>1000</td>\n",
       "      <td>2018-07-31</td>\n",
       "      <td>47.0</td>\n",
       "      <td>340.0</td>\n",
       "      <td>14003.64</td>\n",
       "      <td>14.0</td>\n",
       "      <td>75.0</td>\n",
       "      <td>Краснодар</td>\n",
       "      <td>ultra</td>\n",
       "      <td>1000</td>\n",
       "      <td>30720</td>\n",
       "      <td>3000</td>\n",
       "      <td>1950</td>\n",
       "      <td>150</td>\n",
       "      <td>1</td>\n",
       "      <td>1</td>\n",
       "      <td>0.0</td>\n",
       "      <td>0.0</td>\n",
       "      <td>0.0</td>\n",
       "      <td>1950.0</td>\n",
       "    </tr>\n",
       "    <tr>\n",
       "      <th>3</th>\n",
       "      <td>1000</td>\n",
       "      <td>2018-08-31</td>\n",
       "      <td>52.0</td>\n",
       "      <td>408.0</td>\n",
       "      <td>14055.93</td>\n",
       "      <td>14.0</td>\n",
       "      <td>81.0</td>\n",
       "      <td>Краснодар</td>\n",
       "      <td>ultra</td>\n",
       "      <td>1000</td>\n",
       "      <td>30720</td>\n",
       "      <td>3000</td>\n",
       "      <td>1950</td>\n",
       "      <td>150</td>\n",
       "      <td>1</td>\n",
       "      <td>1</td>\n",
       "      <td>0.0</td>\n",
       "      <td>0.0</td>\n",
       "      <td>0.0</td>\n",
       "      <td>1950.0</td>\n",
       "    </tr>\n",
       "    <tr>\n",
       "      <th>4</th>\n",
       "      <td>1000</td>\n",
       "      <td>2018-09-30</td>\n",
       "      <td>58.0</td>\n",
       "      <td>466.0</td>\n",
       "      <td>14568.91</td>\n",
       "      <td>15.0</td>\n",
       "      <td>57.0</td>\n",
       "      <td>Краснодар</td>\n",
       "      <td>ultra</td>\n",
       "      <td>1000</td>\n",
       "      <td>30720</td>\n",
       "      <td>3000</td>\n",
       "      <td>1950</td>\n",
       "      <td>150</td>\n",
       "      <td>1</td>\n",
       "      <td>1</td>\n",
       "      <td>0.0</td>\n",
       "      <td>0.0</td>\n",
       "      <td>0.0</td>\n",
       "      <td>1950.0</td>\n",
       "    </tr>\n",
       "  </tbody>\n",
       "</table>\n",
       "</div>"
      ],
      "text/plain": [
       "   user_id      month  calls_qty  minutes_qty   mb_used  gb_used  \\\n",
       "0     1000 2018-05-31       22.0        159.0   2253.49      3.0   \n",
       "1     1000 2018-06-30       43.0        172.0  23233.77     23.0   \n",
       "2     1000 2018-07-31       47.0        340.0  14003.64     14.0   \n",
       "3     1000 2018-08-31       52.0        408.0  14055.93     14.0   \n",
       "4     1000 2018-09-30       58.0        466.0  14568.91     15.0   \n",
       "\n",
       "   messages_qty       city tariff  messages_included  mb_per_month_included  \\\n",
       "0          22.0  Краснодар  ultra               1000                  30720   \n",
       "1          60.0  Краснодар  ultra               1000                  30720   \n",
       "2          75.0  Краснодар  ultra               1000                  30720   \n",
       "3          81.0  Краснодар  ultra               1000                  30720   \n",
       "4          57.0  Краснодар  ultra               1000                  30720   \n",
       "\n",
       "   minutes_included  rub_monthly_fee  rub_per_gb  rub_per_message  \\\n",
       "0              3000             1950         150                1   \n",
       "1              3000             1950         150                1   \n",
       "2              3000             1950         150                1   \n",
       "3              3000             1950         150                1   \n",
       "4              3000             1950         150                1   \n",
       "\n",
       "   rub_per_minute  min_over_tariff  gb_over_tariff  messages_over_tariff  \\\n",
       "0               1              0.0             0.0                   0.0   \n",
       "1               1              0.0             0.0                   0.0   \n",
       "2               1              0.0             0.0                   0.0   \n",
       "3               1              0.0             0.0                   0.0   \n",
       "4               1              0.0             0.0                   0.0   \n",
       "\n",
       "   income  \n",
       "0  1950.0  \n",
       "1  1950.0  \n",
       "2  1950.0  \n",
       "3  1950.0  \n",
       "4  1950.0  "
      ]
     },
     "execution_count": 19,
     "metadata": {},
     "output_type": "execute_result"
    }
   ],
   "source": [
    "df['income'] = ( \n",
    "                df['min_over_tariff'] * df['rub_per_minute']\n",
    "                + df['gb_over_tariff'] * df['rub_per_gb']\n",
    "                + df['messages_over_tariff'] * df['rub_per_message']\n",
    "                + df['rub_monthly_fee']\n",
    "               )\n",
    "df.head()"
   ]
  },
  {
   "cell_type": "markdown",
   "metadata": {},
   "source": [
    "### 3.1 Вывод\n",
    "\n",
    "В рамках данного этапа был создан общий фрейм данных, содержащий в себе:\n",
    "- данные об абонентах (город проживания и подключенный тарифный план); \n",
    "- суммарные данные об объемах трафика (минуты, Гб, SMS), потребленного абонентами в месяц;\n",
    "- состав тарифного плана;\n",
    "- объем сверхлимитного потребления трафика и выручка по месяцам с каждого абонента."
   ]
  },
  {
   "cell_type": "markdown",
   "metadata": {},
   "source": [
    "<a id='correlation'></a>\n",
    "## 4 Исследовательский анализ данных"
   ]
  },
  {
   "cell_type": "markdown",
   "metadata": {},
   "source": [
    "### 4.1 Анализ методом describe()"
   ]
  },
  {
   "cell_type": "markdown",
   "metadata": {},
   "source": [
    "Применим метод describe() для каждого из тарифов (t1 – ultra, t2 – smart), чтобы оценить основные статистические характеристики данных."
   ]
  },
  {
   "cell_type": "code",
   "execution_count": 20,
   "metadata": {
    "scrolled": false
   },
   "outputs": [
    {
     "data": {
      "text/html": [
       "<div>\n",
       "<style scoped>\n",
       "    .dataframe tbody tr th:only-of-type {\n",
       "        vertical-align: middle;\n",
       "    }\n",
       "\n",
       "    .dataframe tbody tr th {\n",
       "        vertical-align: top;\n",
       "    }\n",
       "\n",
       "    .dataframe thead th {\n",
       "        text-align: right;\n",
       "    }\n",
       "</style>\n",
       "<table border=\"1\" class=\"dataframe\">\n",
       "  <thead>\n",
       "    <tr style=\"text-align: right;\">\n",
       "      <th></th>\n",
       "      <th>minutes_qty</th>\n",
       "      <th>gb_used</th>\n",
       "      <th>messages_qty</th>\n",
       "      <th>income</th>\n",
       "    </tr>\n",
       "  </thead>\n",
       "  <tbody>\n",
       "    <tr>\n",
       "      <th>count</th>\n",
       "      <td>985.000000</td>\n",
       "      <td>985.000000</td>\n",
       "      <td>985.000000</td>\n",
       "      <td>985.000000</td>\n",
       "    </tr>\n",
       "    <tr>\n",
       "      <th>mean</th>\n",
       "      <td>526.623350</td>\n",
       "      <td>19.494416</td>\n",
       "      <td>49.363452</td>\n",
       "      <td>2070.152284</td>\n",
       "    </tr>\n",
       "    <tr>\n",
       "      <th>std</th>\n",
       "      <td>317.606098</td>\n",
       "      <td>9.853511</td>\n",
       "      <td>47.804457</td>\n",
       "      <td>376.187114</td>\n",
       "    </tr>\n",
       "    <tr>\n",
       "      <th>min</th>\n",
       "      <td>0.000000</td>\n",
       "      <td>0.000000</td>\n",
       "      <td>0.000000</td>\n",
       "      <td>1950.000000</td>\n",
       "    </tr>\n",
       "    <tr>\n",
       "      <th>25%</th>\n",
       "      <td>284.000000</td>\n",
       "      <td>12.000000</td>\n",
       "      <td>6.000000</td>\n",
       "      <td>1950.000000</td>\n",
       "    </tr>\n",
       "    <tr>\n",
       "      <th>50%</th>\n",
       "      <td>518.000000</td>\n",
       "      <td>19.000000</td>\n",
       "      <td>38.000000</td>\n",
       "      <td>1950.000000</td>\n",
       "    </tr>\n",
       "    <tr>\n",
       "      <th>75%</th>\n",
       "      <td>752.000000</td>\n",
       "      <td>27.000000</td>\n",
       "      <td>79.000000</td>\n",
       "      <td>1950.000000</td>\n",
       "    </tr>\n",
       "    <tr>\n",
       "      <th>max</th>\n",
       "      <td>1673.000000</td>\n",
       "      <td>49.000000</td>\n",
       "      <td>224.000000</td>\n",
       "      <td>4800.000000</td>\n",
       "    </tr>\n",
       "  </tbody>\n",
       "</table>\n",
       "</div>"
      ],
      "text/plain": [
       "       minutes_qty     gb_used  messages_qty       income\n",
       "count   985.000000  985.000000    985.000000   985.000000\n",
       "mean    526.623350   19.494416     49.363452  2070.152284\n",
       "std     317.606098    9.853511     47.804457   376.187114\n",
       "min       0.000000    0.000000      0.000000  1950.000000\n",
       "25%     284.000000   12.000000      6.000000  1950.000000\n",
       "50%     518.000000   19.000000     38.000000  1950.000000\n",
       "75%     752.000000   27.000000     79.000000  1950.000000\n",
       "max    1673.000000   49.000000    224.000000  4800.000000"
      ]
     },
     "execution_count": 20,
     "metadata": {},
     "output_type": "execute_result"
    }
   ],
   "source": [
    "df.query('tariff == @t1')[['minutes_qty', 'gb_used', 'messages_qty', 'income']].describe() "
   ]
  },
  {
   "cell_type": "code",
   "execution_count": 21,
   "metadata": {},
   "outputs": [
    {
     "data": {
      "text/plain": [
       "148"
      ]
     },
     "execution_count": 21,
     "metadata": {},
     "output_type": "execute_result"
    }
   ],
   "source": [
    "df.query('tariff == @t1')['user_id'].nunique()"
   ]
  },
  {
   "cell_type": "markdown",
   "metadata": {},
   "source": [
    "**Тариф Ultra:**\n",
    "- В выборке 148 абонентов тарифа Ultra;\n",
    "\n",
    "\n",
    "- *Минуты*: абоненты в среднем говорят по 527 мин в мес. Максимум, который достигали абоненты составляет 1673 мин за мес. Учитывая, что тарифный план включает 3000 мин, можно сказать, что даже самый разговорчивый абонент, расходует максимум только половину лимита;\n",
    "\n",
    "\n",
    "- *Гигабайты*: абоненты в среднем используют 19.5 Гб мобильного трафика. Бывают периоды, когда абоненты не пользуются мобильными данными, но бывает, что трафик достигает 49 Гб за мес. Учитывая, что тарифный пакет включает 30 Гб, а в 75% случаев абоненты используют не больше 27 Гб в мес, можно сказать, что очень малому числу абонентов не хватает пакетного лимита;\n",
    "\n",
    "\n",
    "- *Собщения*: абоненты в среднем отправляют в месяц 49 SMS, но есть и такие, которые совсем не пользуются SMS, и такие, которые отправляют по 224 SMS в месяц. 1000 SMS тарифного плана – более, чем достаточно;\n",
    "\n",
    "\n",
    "- *Выручка с абонентов*: в среднем каждый абонент в месяц платит 2070 р. за пользование тарифом. В 75% случаев абоненты остаются в рамках тарифного плана и платят 1950 р. в месяц, хотя случается, что абоненты платят по 4800 р. за мес."
   ]
  },
  {
   "cell_type": "code",
   "execution_count": 22,
   "metadata": {},
   "outputs": [
    {
     "data": {
      "text/html": [
       "<div>\n",
       "<style scoped>\n",
       "    .dataframe tbody tr th:only-of-type {\n",
       "        vertical-align: middle;\n",
       "    }\n",
       "\n",
       "    .dataframe tbody tr th {\n",
       "        vertical-align: top;\n",
       "    }\n",
       "\n",
       "    .dataframe thead th {\n",
       "        text-align: right;\n",
       "    }\n",
       "</style>\n",
       "<table border=\"1\" class=\"dataframe\">\n",
       "  <thead>\n",
       "    <tr style=\"text-align: right;\">\n",
       "      <th></th>\n",
       "      <th>minutes_qty</th>\n",
       "      <th>gb_used</th>\n",
       "      <th>messages_qty</th>\n",
       "      <th>income</th>\n",
       "    </tr>\n",
       "  </thead>\n",
       "  <tbody>\n",
       "    <tr>\n",
       "      <th>count</th>\n",
       "      <td>2229.000000</td>\n",
       "      <td>2229.000000</td>\n",
       "      <td>2229.000000</td>\n",
       "      <td>2229.000000</td>\n",
       "    </tr>\n",
       "    <tr>\n",
       "      <th>mean</th>\n",
       "      <td>417.934948</td>\n",
       "      <td>16.328847</td>\n",
       "      <td>33.384029</td>\n",
       "      <td>1289.973531</td>\n",
       "    </tr>\n",
       "    <tr>\n",
       "      <th>std</th>\n",
       "      <td>190.313730</td>\n",
       "      <td>5.747061</td>\n",
       "      <td>28.227876</td>\n",
       "      <td>818.404367</td>\n",
       "    </tr>\n",
       "    <tr>\n",
       "      <th>min</th>\n",
       "      <td>0.000000</td>\n",
       "      <td>0.000000</td>\n",
       "      <td>0.000000</td>\n",
       "      <td>550.000000</td>\n",
       "    </tr>\n",
       "    <tr>\n",
       "      <th>25%</th>\n",
       "      <td>282.000000</td>\n",
       "      <td>13.000000</td>\n",
       "      <td>10.000000</td>\n",
       "      <td>550.000000</td>\n",
       "    </tr>\n",
       "    <tr>\n",
       "      <th>50%</th>\n",
       "      <td>422.000000</td>\n",
       "      <td>17.000000</td>\n",
       "      <td>28.000000</td>\n",
       "      <td>1023.000000</td>\n",
       "    </tr>\n",
       "    <tr>\n",
       "      <th>75%</th>\n",
       "      <td>545.000000</td>\n",
       "      <td>20.000000</td>\n",
       "      <td>51.000000</td>\n",
       "      <td>1750.000000</td>\n",
       "    </tr>\n",
       "    <tr>\n",
       "      <th>max</th>\n",
       "      <td>1435.000000</td>\n",
       "      <td>38.000000</td>\n",
       "      <td>143.000000</td>\n",
       "      <td>6770.000000</td>\n",
       "    </tr>\n",
       "  </tbody>\n",
       "</table>\n",
       "</div>"
      ],
      "text/plain": [
       "       minutes_qty      gb_used  messages_qty       income\n",
       "count  2229.000000  2229.000000   2229.000000  2229.000000\n",
       "mean    417.934948    16.328847     33.384029  1289.973531\n",
       "std     190.313730     5.747061     28.227876   818.404367\n",
       "min       0.000000     0.000000      0.000000   550.000000\n",
       "25%     282.000000    13.000000     10.000000   550.000000\n",
       "50%     422.000000    17.000000     28.000000  1023.000000\n",
       "75%     545.000000    20.000000     51.000000  1750.000000\n",
       "max    1435.000000    38.000000    143.000000  6770.000000"
      ]
     },
     "execution_count": 22,
     "metadata": {},
     "output_type": "execute_result"
    }
   ],
   "source": [
    "df.query('tariff == @t2')[['minutes_qty', 'gb_used', 'messages_qty', 'income']].describe()  "
   ]
  },
  {
   "cell_type": "code",
   "execution_count": 23,
   "metadata": {},
   "outputs": [
    {
     "data": {
      "text/plain": [
       "350"
      ]
     },
     "execution_count": 23,
     "metadata": {},
     "output_type": "execute_result"
    }
   ],
   "source": [
    "df.query('tariff == @t2')['user_id'].nunique()"
   ]
  },
  {
   "cell_type": "markdown",
   "metadata": {},
   "source": [
    "**Тариф Smart:**\n",
    "- В выборке 350 абонентов тарифа Smart;\n",
    "\n",
    "\n",
    "- *Минуты*: абоненты в среднем говорят по 418 мин в мес. Бывают месяцы, когда абоненты не пользуются голосовым трафиком, а бывает, что выговаривают почти 1435 мин. Тарифный план включает 500 мин и хватает их только примерно в 70% случаев, значит остальные 30% будут стабильно со сверхлимитом по минутам;\n",
    "\n",
    "\n",
    "- *Гигабайты*: абоненты в среднем используют 16.3 Гб мобильного трафика, но случается, что объем потребленного трафика достигает 38 Гб в мес. Тарифный план включает 15 Гб, их хватает только в 30% случаев, остальные 70% со стабильным сверхлимитом по Гб;\n",
    "\n",
    "\n",
    "- *Сообщения*: абоненты в среднем отправляют в месяц 33 SMS, но есть, кто совсем не пользуется SMS, и кто отправляет по 143 SMS в месяц. Тарифный план включает 50 SMS – в 75% случаях этого кол-ва достаточно;\n",
    "\n",
    "\n",
    "- *Выручка с абонентов*: в среднем каждый абонент в месяц платит 1290 р. за пользование тарифом. Учитывая размер абонентской платы в 550 р., получается, что каждый абонент в среднем переплачивает в 2.3 раза. Есть абоненты, которые остаются в рамках тарифного пакета, но их мало, а есть такие, которые заплатили 6770 р./мес, что в 12 раз превышает абонентскую плату."
   ]
  },
  {
   "cell_type": "markdown",
   "metadata": {},
   "source": [
    "**Сравнение абонентов Ultra и Smart:**\n",
    "\n",
    "- *Кол-во пользователей*: пользователей тарифа Smart в 2.4 раза больше, чем пользователей тарифа Ultra (при условии, что структура выборки соответствует структуре генеральной совокупности);\n",
    "\n",
    "\n",
    "- *Минуты*: абоненты тарифа Ultra в среднем в месяц говорят на 109 мин больше, чем абоненты Smart, но абонентам Ultra пакетного лимита более, чем достаточно, в то время как абоненты Smart в 30% случаев превышают пакетный лимит по минутам;\n",
    "\n",
    "\n",
    "- *Гигабайты*: абоненты тарифа Ultra в среднем в месяц используют на 3.2 Гб больше, чем абоненты Smart, но абонентам Ultra в массе пакетного лимита достаточно, в то время как абоненты Smart в 70% случаев превышают пакетный лимит;\n",
    "\n",
    "\n",
    "- *Сообщения*: абоненты тарифа Ultra пользуются SMS чаще, чем абоненты Smart, но их лимит им это позволяет более чем, в то время как у абонентов Smart лимит на SMS очень низкий, и в 25% случаев они уходят в перерасход;\n",
    "\n",
    "\n",
    "- *Выручка с абонентов*: абоненты тарифа Ultra в среднем в месяц платят больше, но при этом большинство остаются в рамках абонентской платы за тариф, в то время, как абоненты Smart в массе выходят на сверхлимит и платят сумму, в среднем в 2.3 раза превышающую абонентскую плату."
   ]
  },
  {
   "cell_type": "markdown",
   "metadata": {},
   "source": [
    "### 4.2 Анализ с использованием боксплотов"
   ]
  },
  {
   "cell_type": "markdown",
   "metadata": {},
   "source": [
    "Посторим боксплоты для анализируемых параметров в разрезе тарифных планов, чтобы оценить их визуально.\n",
    "\n",
    "Для этого сначала \"пересоберем\" таблицу о тарифах, чтобы удобнее было на нее ссылаться."
   ]
  },
  {
   "cell_type": "code",
   "execution_count": 24,
   "metadata": {},
   "outputs": [
    {
     "data": {
      "text/html": [
       "<div>\n",
       "<style scoped>\n",
       "    .dataframe tbody tr th:only-of-type {\n",
       "        vertical-align: middle;\n",
       "    }\n",
       "\n",
       "    .dataframe tbody tr th {\n",
       "        vertical-align: top;\n",
       "    }\n",
       "\n",
       "    .dataframe thead th {\n",
       "        text-align: right;\n",
       "    }\n",
       "</style>\n",
       "<table border=\"1\" class=\"dataframe\">\n",
       "  <thead>\n",
       "    <tr style=\"text-align: right;\">\n",
       "      <th>tariff_name</th>\n",
       "      <th>smart</th>\n",
       "      <th>ultra</th>\n",
       "    </tr>\n",
       "  </thead>\n",
       "  <tbody>\n",
       "    <tr>\n",
       "      <th>messages_included</th>\n",
       "      <td>50.0</td>\n",
       "      <td>1000.0</td>\n",
       "    </tr>\n",
       "    <tr>\n",
       "      <th>mb_per_month_included</th>\n",
       "      <td>15360.0</td>\n",
       "      <td>30720.0</td>\n",
       "    </tr>\n",
       "    <tr>\n",
       "      <th>minutes_included</th>\n",
       "      <td>500.0</td>\n",
       "      <td>3000.0</td>\n",
       "    </tr>\n",
       "    <tr>\n",
       "      <th>rub_monthly_fee</th>\n",
       "      <td>550.0</td>\n",
       "      <td>1950.0</td>\n",
       "    </tr>\n",
       "    <tr>\n",
       "      <th>rub_per_gb</th>\n",
       "      <td>200.0</td>\n",
       "      <td>150.0</td>\n",
       "    </tr>\n",
       "    <tr>\n",
       "      <th>rub_per_message</th>\n",
       "      <td>3.0</td>\n",
       "      <td>1.0</td>\n",
       "    </tr>\n",
       "    <tr>\n",
       "      <th>rub_per_minute</th>\n",
       "      <td>3.0</td>\n",
       "      <td>1.0</td>\n",
       "    </tr>\n",
       "    <tr>\n",
       "      <th>gb_per_month_included</th>\n",
       "      <td>15.0</td>\n",
       "      <td>30.0</td>\n",
       "    </tr>\n",
       "  </tbody>\n",
       "</table>\n",
       "</div>"
      ],
      "text/plain": [
       "tariff_name              smart    ultra\n",
       "messages_included         50.0   1000.0\n",
       "mb_per_month_included  15360.0  30720.0\n",
       "minutes_included         500.0   3000.0\n",
       "rub_monthly_fee          550.0   1950.0\n",
       "rub_per_gb               200.0    150.0\n",
       "rub_per_message            3.0      1.0\n",
       "rub_per_minute             3.0      1.0\n",
       "gb_per_month_included     15.0     30.0"
      ]
     },
     "execution_count": 24,
     "metadata": {},
     "output_type": "execute_result"
    }
   ],
   "source": [
    "tariffs_t = tariffs.set_index('tariff_name').T\n",
    "tariffs_t.loc['gb_per_month_included', :] = tariffs_t.loc['mb_per_month_included', :] / mb_to_gb\n",
    "tariffs_t"
   ]
  },
  {
   "cell_type": "markdown",
   "metadata": {},
   "source": [
    "Создадим списки и словари, которые будем использовать при построении графиков."
   ]
  },
  {
   "cell_type": "code",
   "execution_count": 25,
   "metadata": {},
   "outputs": [],
   "source": [
    "tariffs_list = [t1, t2] # список тарифов\n",
    "\n",
    "metrics_dict = {'minutes_qty': 'minutes_included', # словарь соответствия анализируемых параметров и тарифных лимитов на них\n",
    "                 'gb_used': 'gb_per_month_included',\n",
    "                 'messages_qty': 'messages_included',\n",
    "                 'income': 'rub_monthly_fee'}\n",
    "\n",
    "palettes = ['Blues', 'Greens'] # список цветовых палитр для графиков "
   ]
  },
  {
   "cell_type": "markdown",
   "metadata": {},
   "source": [
    "Напишем пользовательскую функцию для построения боксплотов."
   ]
  },
  {
   "cell_type": "code",
   "execution_count": 26,
   "metadata": {},
   "outputs": [],
   "source": [
    "def boxplot(dataset, metrica): # функция 2-х аргументов – датасет и анализируемый параметр\n",
    "    title_pad = 2 # отступ заголовка графика по вертикали\n",
    "    title_size = 10 # размер заголовка графика\n",
    "    fig, axes = plt.subplots(nrows=2, ncols=1, sharex=True, figsize = (8, 5)) # задаем параметры фигуры построения графиков\n",
    "    count = 0 \n",
    "    for i in range(2): # перебираем тарифы из списка\n",
    "        ax = sns.boxplot(data=dataset[dataset['tariff'] == tariffs_list[count]], # строим для каждого тарифа отдельный график\n",
    "                         x=metrica,\n",
    "                         ax=axes[i],\n",
    "                         palette=palettes[count]\n",
    "                        )\n",
    "        ax.set_title('тариф ' + tariffs_list[count], loc='right', pad=title_pad, size=title_size) # задаем заголовок графика \n",
    "        ax.axvline(x=tariffs_t.loc[metrics_dict.get(metrica), tariffs_list[count]], linestyle='--', color='brown') # строим вертикальные линии с тарифными лимитами для соответствующей метрики\n",
    "        count += 1\n",
    "    plt.suptitle('Боксплот для ' + metrica, size=14) # задаем заголовок фигуры\n",
    "    plt.show()    "
   ]
  },
  {
   "cell_type": "code",
   "execution_count": 27,
   "metadata": {},
   "outputs": [
    {
     "data": {
      "image/png": "[encoded data removed]",
      "text/plain": [
       "<Figure size 576x360 with 2 Axes>"
      ]
     },
     "metadata": {
      "needs_background": "light"
     },
     "output_type": "display_data"
    },
    {
     "data": {
      "image/png": "[encoded data removed]",
      "text/plain": [
       "<Figure size 576x360 with 2 Axes>"
      ]
     },
     "metadata": {
      "needs_background": "light"
     },
     "output_type": "display_data"
    },
    {
     "data": {
      "image/png": "[encoded data removed]",
      "text/plain": [
       "<Figure size 576x360 with 2 Axes>"
      ]
     },
     "metadata": {
      "needs_background": "light"
     },
     "output_type": "display_data"
    },
    {
     "data": {
      "image/png": "[encoded data removed]",
      "text/plain": [
       "<Figure size 576x360 with 2 Axes>"
      ]
     },
     "metadata": {
      "needs_background": "light"
     },
     "output_type": "display_data"
    }
   ],
   "source": [
    "# запускаем перебор параметров из словаря и строим графики с помощью созданной функции boxplot(dataset, metrica)\n",
    "for keys in metrics_dict:\n",
    "    boxplot(df, keys) "
   ]
  },
  {
   "cell_type": "markdown",
   "metadata": {},
   "source": [
    "По боксплотам видна следующая картина (красные пунктирные линии на боксплотах – это лимиты трафика в рамках тарифного плана): \n",
    "\n",
    "- Различия среди абонентов тарифа Ultra по объему потребляемого трафика (минуты, Гб, SMS) больше, чем среди абонентов тарифа Smart – диапазоны \"ящиков\" у тарифа Ultra шире – это логично, потому что тарифные лимиты Ultra позволяют абонентам чувствовать себя свободнее.\n",
    "\n",
    "     \n",
    "- При этом границы лимитов тарифа Ultra настолько большие, что в 75% случаев (правая граница \"ящика\") абоненты не достигают этих лимитов. Лимитов по минутам и SMS не достигают даже выбросы за границы \"усов\", т.е. потребности абонентов в разы меньше, чем предоставленные тарифом лимиты. По Гб лимит удовлетворяет потребностям абонентов примерно в 80% случае. Т.е. в тарифе Ultra в сверхлимитное потребление уходят в очень редких случаях и только по интернет-трафику.\n",
    "\n",
    "\n",
    "- Границы лимитов тарифа Smart намного меньше: по минутам лимита достаточно только в 70% случаев, по Гб – только примерно в 30% случаев, по SMS – в 75% случаев. Т.е. в тарифе Smart сверхлимитное потребление является регулярным, значительным и касается всех видов потребляемого трафика.\n",
    "\n",
    "\n",
    "- По оплате мы видим, что практически все абоненты Ultra платят фиксированную абонентскую плату, за исключением нескольких аномальных случаев, когда было превышение по Гб. В то время как абоненты тарифа Smart остаются в рамках стандартной абонентской платы только в 25% случаев, а из-за высокой стоимости сверхлимита абоненты этого тарифа в 25% случаев вынуждены платить сумму, которая оказывается даже выше абон.платы тарифа Ultra, в итоге мы наблюдаем выбросы, которые уходят гораздо дальше, чем в тарифе Ultra."
   ]
  },
  {
   "cell_type": "markdown",
   "metadata": {},
   "source": [
    "### 4.3 Анализ сводных показателей"
   ]
  },
  {
   "cell_type": "markdown",
   "metadata": {},
   "source": [
    "- Создадим сводную таблицу, где в разрезе тарифных планов рассчитаем сумму и среднюю по минутам, Гб, SMS и доходу с абонентов.\n",
    "- На основе полученной сводной таблицы рассчитаем два новых показателя: доход с абонентов на 1 минуту и доход на 1 Гб.\n",
    "- Затем рассчитаем соотношение между показателями тарифа Ultra и тарифа Smartа (на сколько % показатели тарифа Ultra больше или меньше показателей тарифа Smart)."
   ]
  },
  {
   "cell_type": "code",
   "execution_count": 28,
   "metadata": {},
   "outputs": [
    {
     "data": {
      "text/html": [
       "<style type=\"text/css\">\n",
       "</style>\n",
       "<table id=\"T_24107_\">\n",
       "  <thead>\n",
       "    <tr>\n",
       "      <th class=\"index_name level0\" >tariff</th>\n",
       "      <th class=\"col_heading level0 col0\" >smart</th>\n",
       "      <th class=\"col_heading level0 col1\" >ultra</th>\n",
       "      <th class=\"col_heading level0 col2\" >tariffs_ratio%</th>\n",
       "    </tr>\n",
       "  </thead>\n",
       "  <tbody>\n",
       "    <tr>\n",
       "      <th id=\"T_24107_level0_row0\" class=\"row_heading level0 row0\" >gb_used_mean</th>\n",
       "      <td id=\"T_24107_row0_col0\" class=\"data row0 col0\" >16.3</td>\n",
       "      <td id=\"T_24107_row0_col1\" class=\"data row0 col1\" >19.5</td>\n",
       "      <td id=\"T_24107_row0_col2\" class=\"data row0 col2\" >19.4</td>\n",
       "    </tr>\n",
       "    <tr>\n",
       "      <th id=\"T_24107_level0_row1\" class=\"row_heading level0 row1\" >gb_used_sum</th>\n",
       "      <td id=\"T_24107_row1_col0\" class=\"data row1 col0\" >36397.0</td>\n",
       "      <td id=\"T_24107_row1_col1\" class=\"data row1 col1\" >19202.0</td>\n",
       "      <td id=\"T_24107_row1_col2\" class=\"data row1 col2\" >-47.2</td>\n",
       "    </tr>\n",
       "    <tr>\n",
       "      <th id=\"T_24107_level0_row2\" class=\"row_heading level0 row2\" >income_mean</th>\n",
       "      <td id=\"T_24107_row2_col0\" class=\"data row2 col0\" >1290.0</td>\n",
       "      <td id=\"T_24107_row2_col1\" class=\"data row2 col1\" >2070.2</td>\n",
       "      <td id=\"T_24107_row2_col2\" class=\"data row2 col2\" >60.5</td>\n",
       "    </tr>\n",
       "    <tr>\n",
       "      <th id=\"T_24107_level0_row3\" class=\"row_heading level0 row3\" >income_sum</th>\n",
       "      <td id=\"T_24107_row3_col0\" class=\"data row3 col0\" >2875351.0</td>\n",
       "      <td id=\"T_24107_row3_col1\" class=\"data row3 col1\" >2039100.0</td>\n",
       "      <td id=\"T_24107_row3_col2\" class=\"data row3 col2\" >-29.1</td>\n",
       "    </tr>\n",
       "    <tr>\n",
       "      <th id=\"T_24107_level0_row4\" class=\"row_heading level0 row4\" >messages_qty_mean</th>\n",
       "      <td id=\"T_24107_row4_col0\" class=\"data row4 col0\" >33.4</td>\n",
       "      <td id=\"T_24107_row4_col1\" class=\"data row4 col1\" >49.4</td>\n",
       "      <td id=\"T_24107_row4_col2\" class=\"data row4 col2\" >47.9</td>\n",
       "    </tr>\n",
       "    <tr>\n",
       "      <th id=\"T_24107_level0_row5\" class=\"row_heading level0 row5\" >messages_qty_sum</th>\n",
       "      <td id=\"T_24107_row5_col0\" class=\"data row5 col0\" >74413.0</td>\n",
       "      <td id=\"T_24107_row5_col1\" class=\"data row5 col1\" >48623.0</td>\n",
       "      <td id=\"T_24107_row5_col2\" class=\"data row5 col2\" >-34.7</td>\n",
       "    </tr>\n",
       "    <tr>\n",
       "      <th id=\"T_24107_level0_row6\" class=\"row_heading level0 row6\" >minutes_qty_mean</th>\n",
       "      <td id=\"T_24107_row6_col0\" class=\"data row6 col0\" >417.9</td>\n",
       "      <td id=\"T_24107_row6_col1\" class=\"data row6 col1\" >526.6</td>\n",
       "      <td id=\"T_24107_row6_col2\" class=\"data row6 col2\" >26.0</td>\n",
       "    </tr>\n",
       "    <tr>\n",
       "      <th id=\"T_24107_level0_row7\" class=\"row_heading level0 row7\" >minutes_qty_sum</th>\n",
       "      <td id=\"T_24107_row7_col0\" class=\"data row7 col0\" >931577.0</td>\n",
       "      <td id=\"T_24107_row7_col1\" class=\"data row7 col1\" >518724.0</td>\n",
       "      <td id=\"T_24107_row7_col2\" class=\"data row7 col2\" >-44.3</td>\n",
       "    </tr>\n",
       "    <tr>\n",
       "      <th id=\"T_24107_level0_row8\" class=\"row_heading level0 row8\" >income_per_min</th>\n",
       "      <td id=\"T_24107_row8_col0\" class=\"data row8 col0\" >3.1</td>\n",
       "      <td id=\"T_24107_row8_col1\" class=\"data row8 col1\" >3.9</td>\n",
       "      <td id=\"T_24107_row8_col2\" class=\"data row8 col2\" >27.4</td>\n",
       "    </tr>\n",
       "    <tr>\n",
       "      <th id=\"T_24107_level0_row9\" class=\"row_heading level0 row9\" >income_per_gb</th>\n",
       "      <td id=\"T_24107_row9_col0\" class=\"data row9 col0\" >79.0</td>\n",
       "      <td id=\"T_24107_row9_col1\" class=\"data row9 col1\" >106.2</td>\n",
       "      <td id=\"T_24107_row9_col2\" class=\"data row9 col2\" >34.4</td>\n",
       "    </tr>\n",
       "  </tbody>\n",
       "</table>\n"
      ],
      "text/plain": [
       "<pandas.io.formats.style.Styler at 0x251767e9310>"
      ]
     },
     "execution_count": 28,
     "metadata": {},
     "output_type": "execute_result"
    }
   ],
   "source": [
    "agg_data = df.pivot_table(columns='tariff',\n",
    "                                   values=['minutes_qty', 'gb_used', 'messages_qty', 'income'],\n",
    "                                   aggfunc=('sum', 'mean')\n",
    "                                  ) # сводная таблица \n",
    "\n",
    "agg_data.index = agg_data.index.map('_'.join) # \"схлопываем\" мультииндекс\n",
    "\n",
    "agg_data.loc['income_per_min', :] = agg_data.loc['income_sum', :] / agg_data.loc['minutes_qty_sum', :] # выручка на минуту\n",
    "agg_data.loc['income_per_gb', :] = agg_data.loc['income_sum', :] / agg_data.loc['gb_used_sum', :] # выручка на Гб\n",
    "agg_data['tariffs_ratio%'] = (agg_data['ultra'] / agg_data['smart'] - 1) * 100 # соотношение тарифов в % \n",
    "agg_data.style.format('{:.1f}') "
   ]
  },
  {
   "cell_type": "markdown",
   "metadata": {},
   "source": [
    "На основе полученных данных видно следующее:\n",
    "\n",
    "- Потребление минут и Гб в среднем на одного абонента в месяц у тарифа Ultra выше, чем у тарифа Smart на 26% (minutes_qty_mean) и 19% (gb_used_mean) соответственно, т.е. абоненты Ultra дают большую нагрузку на сеть. Но повышенная нагрузка существенно перекрывается более высокой доходностью абонентов Ultra – на 60% выше, чем у абонентов Smart (income_mean).  \n",
    "\n",
    "\n",
    "- Дополнительные показатели – выручка на 1 минуту и выручка на  1 Гб – также демонстрируют более высокую доходность тарифа Ultra – примерно на 30% эти показатели у тарифа Ultra выше, чем у тарифа Smart."
   ]
  },
  {
   "cell_type": "markdown",
   "metadata": {},
   "source": [
    "### 4.4 Анализ показателей структуры"
   ]
  },
  {
   "cell_type": "markdown",
   "metadata": {},
   "source": [
    "Посмотрим на структуру абонентов и выручки в разрезе тарифных планов."
   ]
  },
  {
   "cell_type": "code",
   "execution_count": 29,
   "metadata": {},
   "outputs": [
    {
     "data": {
      "image/png": "[encoded data removed]",
      "text/plain": [
       "<Figure size 720x360 with 2 Axes>"
      ]
     },
     "metadata": {},
     "output_type": "display_data"
    }
   ],
   "source": [
    "fig, axes = plt.subplots(nrows=1, ncols=2, figsize = (10, 5))\n",
    "\n",
    "# визуальные настройки графиков\n",
    "title_size = 12 # размер шрифта заголовков\n",
    "colors = ['#7DBA7F', '#78AAC8'] # цвета секторов\n",
    "wedgeprops = {'edgecolor':'gray', 'linewidth': 1.5} # цвет и толщина границы секторов\n",
    "labels = df.groupby('tariff').agg({'income': 'sum'}).reset_index()['tariff'] # подписи сектров\n",
    "\n",
    "axes[1].pie(df.groupby('tariff').agg({'income': 'sum'}).reset_index()['income'],\n",
    "             labels=labels,    \n",
    "             autopct=\"%0.0f%%\",\n",
    "             startangle=0,\n",
    "             explode=[0.02]*2,\n",
    "             colors=colors,\n",
    "             wedgeprops=wedgeprops\n",
    "            )\n",
    "axes[1].set_title('Структура выручки', size=title_size)\n",
    "\n",
    "axes[0].pie(df.groupby('tariff').agg({'user_id': 'nunique'}).reset_index()['user_id'],\n",
    "             labels=labels,     \n",
    "             autopct=\"%0.0f%%\",\n",
    "             startangle=0,\n",
    "             explode=[0.02]*2,\n",
    "             colors=colors,\n",
    "             wedgeprops=wedgeprops\n",
    "            )\n",
    "axes[0].set_title('Структура абонентов', size=title_size)\n",
    "\n",
    "plt.show()"
   ]
  },
  {
   "cell_type": "markdown",
   "metadata": {},
   "source": [
    "Посмотрим на структуру выручки каждого из тарифов в разрезе того, какую долю составляет ежемесячная оплата пакета, а какую оплата сверх пакетных лимитов."
   ]
  },
  {
   "cell_type": "code",
   "execution_count": 30,
   "metadata": {},
   "outputs": [
    {
     "data": {
      "text/html": [
       "<div>\n",
       "<style scoped>\n",
       "    .dataframe tbody tr th:only-of-type {\n",
       "        vertical-align: middle;\n",
       "    }\n",
       "\n",
       "    .dataframe tbody tr th {\n",
       "        vertical-align: top;\n",
       "    }\n",
       "\n",
       "    .dataframe thead th {\n",
       "        text-align: right;\n",
       "    }\n",
       "</style>\n",
       "<table border=\"1\" class=\"dataframe\">\n",
       "  <thead>\n",
       "    <tr style=\"text-align: right;\">\n",
       "      <th></th>\n",
       "      <th>tariff</th>\n",
       "      <th>income</th>\n",
       "      <th>rub_monthly_fee</th>\n",
       "      <th>difference</th>\n",
       "      <th>difference%</th>\n",
       "    </tr>\n",
       "  </thead>\n",
       "  <tbody>\n",
       "    <tr>\n",
       "      <th>0</th>\n",
       "      <td>smart</td>\n",
       "      <td>2875351.0</td>\n",
       "      <td>1225950</td>\n",
       "      <td>1649401.0</td>\n",
       "      <td>42.6</td>\n",
       "    </tr>\n",
       "    <tr>\n",
       "      <th>1</th>\n",
       "      <td>ultra</td>\n",
       "      <td>2039100.0</td>\n",
       "      <td>1920750</td>\n",
       "      <td>118350.0</td>\n",
       "      <td>94.2</td>\n",
       "    </tr>\n",
       "  </tbody>\n",
       "</table>\n",
       "</div>"
      ],
      "text/plain": [
       "  tariff     income  rub_monthly_fee  difference  difference%\n",
       "0  smart  2875351.0          1225950   1649401.0         42.6\n",
       "1  ultra  2039100.0          1920750    118350.0         94.2"
      ]
     },
     "execution_count": 30,
     "metadata": {},
     "output_type": "execute_result"
    }
   ],
   "source": [
    "agg_income = df.groupby('tariff').agg({'income': 'sum', 'rub_monthly_fee': 'sum'}).reset_index()\n",
    "\n",
    "agg_income['difference'] = agg_income['income'] - agg_income['rub_monthly_fee']\n",
    "agg_income['difference%'] = round(agg_income['rub_monthly_fee'] / agg_income['income'] * 100, ndigits=1)\n",
    "agg_income"
   ]
  },
  {
   "cell_type": "code",
   "execution_count": 31,
   "metadata": {},
   "outputs": [
    {
     "data": {
      "image/png": "[encoded data removed]",
      "text/plain": [
       "<Figure size 864x360 with 2 Axes>"
      ]
     },
     "metadata": {},
     "output_type": "display_data"
    }
   ],
   "source": [
    "fig, axes = plt.subplots(nrows=1, ncols=2, figsize = (12, 5))\n",
    "\n",
    "# визуальные настройки графиков\n",
    "title_size = 12 # размер шрифта заголовков\n",
    "colors = ['#7DBA7F', '#78AAC8'] # цвета секторов\n",
    "wedgeprops = {'edgecolor':'gray', 'linewidth': 1.5} # цвет и толщина границы секторов\n",
    "labels = ['оплата пакета', 'оплата сверх пакета'] # подписи сектров\n",
    "\n",
    "count = 0\n",
    "for i in range(2):\n",
    "    axes[i].pie(agg_income.loc[i, 'rub_monthly_fee':'difference'],\n",
    "                labels=labels,    \n",
    "                autopct=\"%0.0f%%\",\n",
    "                startangle=0,\n",
    "                explode=[0.02]*2,\n",
    "                colors=colors,\n",
    "                wedgeprops=wedgeprops\n",
    "                )\n",
    "    axes[i].set_title('Структура выручки тариф ' + agg_income.loc[i, 'tariff'], size=title_size)\n",
    "    count += 1\n",
    "\n",
    "plt.show()  "
   ]
  },
  {
   "cell_type": "markdown",
   "metadata": {},
   "source": [
    "На графиках видно следующее: \n",
    "\n",
    "- Доля тарифа Ultra в структуре выручки больше, чем в структуре абонентов, т.е. это наглядно демонстрирует более высокую доходность абонентов Ultra по сравнению со Smart.\n",
    "\n",
    "- 57% общей выручки тарифа Smart приходится на оплату сверхлимитного трафик, в то время, как у тарифа Ultra эта доля всего 6%."
   ]
  },
  {
   "cell_type": "markdown",
   "metadata": {},
   "source": [
    "### 4.5 Вывод\n",
    "\n",
    "По данным, полученным на этом этапе, видна следующая картина:\n",
    "\n",
    "> Абоненты тарифа Ultra потребляют больше трафика, чем абоненты Smart: на 26% больше по минутам и 19% больше по Гб, но приносят и больше выручки – в среднем в месяц один абонет Ultra приносит на 60% больше выручки, чем абонент Smart.\n",
    "\n",
    "\n",
    "> Практически все абоненты Ultra остаются в рамках лимитов их тарифа, выход за рамки происходит лишь по интернет-трафику и только в 20% случаев. Лимиты по минутам и SMS настолько большие, что за весь год не были достигнуты ни разу. Это позволяет абонентам данного тарифа в большинстве случаев оставаться в рамках абонентской платы – 1950 р. Лимиты тарифного плана Ultra в разы больше лимитов Smart: минуты в 6 раз, Гб в 2 раза, SMS в 200 раз.\n",
    "\n",
    "\n",
    "> Абоненты тарифа Smart только в 25% случаев остаются в рамках лимитов тарифного плана и платят 550 р. Лимиты тарифа маленькие, поэтому сверхлимитное потребление является постоянным и касается всех видов потребляемого трафика, особенно часто выходят на сверхлимит по Гб – в 70% случаев. В итоге в 75% случаев абоненты Smart платят сверх 550 р. А учитывая тот факт, что стоимость услуг сверх тарифного пакета у Smart выше, чем у Ultra, то в 25% случаев абоненты платят в месяц сумму, превышающую даже абон.плату тарифа Ultra. Оплата сверхлимитного трафика у абонентов Smart составляет почти 60% общей выручки данного тарифа."
   ]
  },
  {
   "cell_type": "markdown",
   "metadata": {},
   "source": [
    "<a id='statistics'></a>\n",
    "## 5 Статистический анализ данных"
   ]
  },
  {
   "cell_type": "markdown",
   "metadata": {},
   "source": [
    "Сгруппируем датафрейм по тарифным планам и рассчитаем для каждого тарифного плана среднюю, медиану, дисперсию и стандартное отклонение."
   ]
  },
  {
   "cell_type": "code",
   "execution_count": 32,
   "metadata": {
    "scrolled": false
   },
   "outputs": [
    {
     "data": {
      "text/html": [
       "<div>\n",
       "<style scoped>\n",
       "    .dataframe tbody tr th:only-of-type {\n",
       "        vertical-align: middle;\n",
       "    }\n",
       "\n",
       "    .dataframe tbody tr th {\n",
       "        vertical-align: top;\n",
       "    }\n",
       "\n",
       "    .dataframe thead th {\n",
       "        text-align: right;\n",
       "    }\n",
       "</style>\n",
       "<table border=\"1\" class=\"dataframe\">\n",
       "  <thead>\n",
       "    <tr style=\"text-align: right;\">\n",
       "      <th></th>\n",
       "      <th>tariff</th>\n",
       "      <th>smart</th>\n",
       "      <th>ultra</th>\n",
       "    </tr>\n",
       "  </thead>\n",
       "  <tbody>\n",
       "    <tr>\n",
       "      <th rowspan=\"4\" valign=\"top\">gb_used</th>\n",
       "      <th>mean</th>\n",
       "      <td>16.328847</td>\n",
       "      <td>19.494416</td>\n",
       "    </tr>\n",
       "    <tr>\n",
       "      <th>median</th>\n",
       "      <td>17.000000</td>\n",
       "      <td>19.000000</td>\n",
       "    </tr>\n",
       "    <tr>\n",
       "      <th>std</th>\n",
       "      <td>5.747061</td>\n",
       "      <td>9.853511</td>\n",
       "    </tr>\n",
       "    <tr>\n",
       "      <th>var</th>\n",
       "      <td>33.028705</td>\n",
       "      <td>97.091686</td>\n",
       "    </tr>\n",
       "    <tr>\n",
       "      <th rowspan=\"4\" valign=\"top\">income</th>\n",
       "      <th>mean</th>\n",
       "      <td>1289.973531</td>\n",
       "      <td>2070.152284</td>\n",
       "    </tr>\n",
       "    <tr>\n",
       "      <th>median</th>\n",
       "      <td>1023.000000</td>\n",
       "      <td>1950.000000</td>\n",
       "    </tr>\n",
       "    <tr>\n",
       "      <th>std</th>\n",
       "      <td>818.404367</td>\n",
       "      <td>376.187114</td>\n",
       "    </tr>\n",
       "    <tr>\n",
       "      <th>var</th>\n",
       "      <td>669785.708006</td>\n",
       "      <td>141516.745079</td>\n",
       "    </tr>\n",
       "    <tr>\n",
       "      <th rowspan=\"4\" valign=\"top\">messages_qty</th>\n",
       "      <th>mean</th>\n",
       "      <td>33.384029</td>\n",
       "      <td>49.363452</td>\n",
       "    </tr>\n",
       "    <tr>\n",
       "      <th>median</th>\n",
       "      <td>28.000000</td>\n",
       "      <td>38.000000</td>\n",
       "    </tr>\n",
       "    <tr>\n",
       "      <th>std</th>\n",
       "      <td>28.227876</td>\n",
       "      <td>47.804457</td>\n",
       "    </tr>\n",
       "    <tr>\n",
       "      <th>var</th>\n",
       "      <td>796.812958</td>\n",
       "      <td>2285.266143</td>\n",
       "    </tr>\n",
       "    <tr>\n",
       "      <th rowspan=\"4\" valign=\"top\">minutes_qty</th>\n",
       "      <th>mean</th>\n",
       "      <td>417.934948</td>\n",
       "      <td>526.623350</td>\n",
       "    </tr>\n",
       "    <tr>\n",
       "      <th>median</th>\n",
       "      <td>422.000000</td>\n",
       "      <td>518.000000</td>\n",
       "    </tr>\n",
       "    <tr>\n",
       "      <th>std</th>\n",
       "      <td>190.313730</td>\n",
       "      <td>317.606098</td>\n",
       "    </tr>\n",
       "    <tr>\n",
       "      <th>var</th>\n",
       "      <td>36219.315784</td>\n",
       "      <td>100873.633397</td>\n",
       "    </tr>\n",
       "  </tbody>\n",
       "</table>\n",
       "</div>"
      ],
      "text/plain": [
       "tariff                       smart          ultra\n",
       "gb_used      mean        16.328847      19.494416\n",
       "             median      17.000000      19.000000\n",
       "             std          5.747061       9.853511\n",
       "             var         33.028705      97.091686\n",
       "income       mean      1289.973531    2070.152284\n",
       "             median    1023.000000    1950.000000\n",
       "             std        818.404367     376.187114\n",
       "             var     669785.708006  141516.745079\n",
       "messages_qty mean        33.384029      49.363452\n",
       "             median      28.000000      38.000000\n",
       "             std         28.227876      47.804457\n",
       "             var        796.812958    2285.266143\n",
       "minutes_qty  mean       417.934948     526.623350\n",
       "             median     422.000000     518.000000\n",
       "             std        190.313730     317.606098\n",
       "             var      36219.315784  100873.633397"
      ]
     },
     "execution_count": 32,
     "metadata": {},
     "output_type": "execute_result"
    }
   ],
   "source": [
    "stat_data = df.pivot_table(columns='tariff',\n",
    "                           values=['minutes_qty', 'gb_used', 'messages_qty', 'income'],\n",
    "                           aggfunc=('mean', 'median', 'var', 'std')\n",
    "                          )\n",
    "                                 \n",
    "stat_data"
   ]
  },
  {
   "cell_type": "markdown",
   "metadata": {},
   "source": [
    "### 5.1 Вывод\n",
    "По полученным на этом этапе данным можно сказать следующее:\n",
    "- средние и медианы по минутам и Гб в обоих тарифах находятся близко относительно друг друга, что позволяет гворить о распределении данных как о близком к нормальному;  \n",
    "\n",
    "\n",
    "- средние по SMS и доходам с абонентов в обоих тарифах несколько превышают их медианы, и по боксплотам мы это видим – распределения смещены влево и есть \"хвосты\" высоких значений, которые сдвигают среднюю вправо относительно медианы;\n",
    "\n",
    "\n",
    "- значения стандартных отклонений по всем видам потребляемого трафика в тарифе Ultra существенно выше, чем в тарифе Smart – это мы видели на боксплотах – \"ящики\" и \"усы\" у тарифа Ultra шире, чем у тарифа Smart;\n",
    "\n",
    "\n",
    "- значение стандартного отклонения по доходам с абонентов тарифа Ultra в 2 раза меньше, чем Smart – это также видно на боксплотах – практически все абоненты Ultra укладываются в лимиты и остаются в рамках абонентской платы, в то время как абоненты Smart имеют большой размах."
   ]
  },
  {
   "cell_type": "markdown",
   "metadata": {},
   "source": [
    "<a id='anomalies'></a>\n",
    "## 6 Аномальные пользователи"
   ]
  },
  {
   "cell_type": "markdown",
   "metadata": {},
   "source": [
    "Рассчитаем верхнюю и нижнюю границы аномальных значений (выбросов) для всех анализируемых параметров, а также количество и долю этих значений. Верхнюю и нижнюю границы определим как 1.5 межквартильного размаха.  \n",
    "\n",
    "Для расчета указанных показателей напишем пользовательскую функцию."
   ]
  },
  {
   "cell_type": "code",
   "execution_count": 33,
   "metadata": {},
   "outputs": [],
   "source": [
    "def anomalies(dataset, col): # функция 2-х аргументов: датасет и параметр\n",
    "    q = np.percentile(dataset[col], [25, 75]) # находим границы 1-го и 3-го квартиля (25% и 75% соответственно)\n",
    "    top = q[1] + (q[1] - q[0]) * 1.5 # рассчитываем  значение верхнего \"уса\"\n",
    "    bottom = np.where(q[0] < (q[1] - q[0]) * 1.5, dataset[col].min(), q[0] - (q[1] - q[0]) * 1.5) # значение нижнего \"уса\"\n",
    "    anomalies_qty = len(dataset.loc[(dataset[col] < bottom) | (dataset[col] > top)]) # кол-во выбросов за границы \"усов\"\n",
    "    anomalies_ratio = round((anomalies_qty / len(dataset)) * 100, ndigits=1) # доля выбросов в выборке\n",
    "    values_list = [top, bottom, anomalies_qty, anomalies_ratio] # оборачиваем получаемые значения в список\n",
    "    return values_list"
   ]
  },
  {
   "cell_type": "code",
   "execution_count": 34,
   "metadata": {},
   "outputs": [
    {
     "name": "stdout",
     "output_type": "stream",
     "text": [
      "------\n",
      " ultra \n",
      "------\n"
     ]
    },
    {
     "data": {
      "text/html": [
       "<div>\n",
       "<style scoped>\n",
       "    .dataframe tbody tr th:only-of-type {\n",
       "        vertical-align: middle;\n",
       "    }\n",
       "\n",
       "    .dataframe tbody tr th {\n",
       "        vertical-align: top;\n",
       "    }\n",
       "\n",
       "    .dataframe thead th {\n",
       "        text-align: right;\n",
       "    }\n",
       "</style>\n",
       "<table border=\"1\" class=\"dataframe\">\n",
       "  <thead>\n",
       "    <tr style=\"text-align: right;\">\n",
       "      <th></th>\n",
       "      <th>top</th>\n",
       "      <th>bottom</th>\n",
       "      <th>anomalies_qty</th>\n",
       "      <th>anomalies_ratio%</th>\n",
       "    </tr>\n",
       "  </thead>\n",
       "  <tbody>\n",
       "    <tr>\n",
       "      <th>minutes_qty</th>\n",
       "      <td>1454.0</td>\n",
       "      <td>0.0</td>\n",
       "      <td>2</td>\n",
       "      <td>0.2</td>\n",
       "    </tr>\n",
       "    <tr>\n",
       "      <th>gb_used</th>\n",
       "      <td>49.5</td>\n",
       "      <td>0.0</td>\n",
       "      <td>0</td>\n",
       "      <td>0.0</td>\n",
       "    </tr>\n",
       "    <tr>\n",
       "      <th>messages_qty</th>\n",
       "      <td>188.5</td>\n",
       "      <td>0.0</td>\n",
       "      <td>8</td>\n",
       "      <td>0.8</td>\n",
       "    </tr>\n",
       "  </tbody>\n",
       "</table>\n",
       "</div>"
      ],
      "text/plain": [
       "                 top bottom  anomalies_qty  anomalies_ratio%\n",
       "minutes_qty   1454.0    0.0              2               0.2\n",
       "gb_used         49.5    0.0              0               0.0\n",
       "messages_qty   188.5    0.0              8               0.8"
      ]
     },
     "metadata": {},
     "output_type": "display_data"
    },
    {
     "name": "stdout",
     "output_type": "stream",
     "text": [
      "------\n",
      " smart \n",
      "------\n"
     ]
    },
    {
     "data": {
      "text/html": [
       "<div>\n",
       "<style scoped>\n",
       "    .dataframe tbody tr th:only-of-type {\n",
       "        vertical-align: middle;\n",
       "    }\n",
       "\n",
       "    .dataframe tbody tr th {\n",
       "        vertical-align: top;\n",
       "    }\n",
       "\n",
       "    .dataframe thead th {\n",
       "        text-align: right;\n",
       "    }\n",
       "</style>\n",
       "<table border=\"1\" class=\"dataframe\">\n",
       "  <thead>\n",
       "    <tr style=\"text-align: right;\">\n",
       "      <th></th>\n",
       "      <th>top</th>\n",
       "      <th>bottom</th>\n",
       "      <th>anomalies_qty</th>\n",
       "      <th>anomalies_ratio%</th>\n",
       "    </tr>\n",
       "  </thead>\n",
       "  <tbody>\n",
       "    <tr>\n",
       "      <th>minutes_qty</th>\n",
       "      <td>939.5</td>\n",
       "      <td>0.0</td>\n",
       "      <td>10</td>\n",
       "      <td>0.4</td>\n",
       "    </tr>\n",
       "    <tr>\n",
       "      <th>gb_used</th>\n",
       "      <td>30.5</td>\n",
       "      <td>2.5</td>\n",
       "      <td>53</td>\n",
       "      <td>2.4</td>\n",
       "    </tr>\n",
       "    <tr>\n",
       "      <th>messages_qty</th>\n",
       "      <td>112.5</td>\n",
       "      <td>0.0</td>\n",
       "      <td>14</td>\n",
       "      <td>0.6</td>\n",
       "    </tr>\n",
       "  </tbody>\n",
       "</table>\n",
       "</div>"
      ],
      "text/plain": [
       "                top bottom  anomalies_qty  anomalies_ratio%\n",
       "minutes_qty   939.5    0.0             10               0.4\n",
       "gb_used        30.5    2.5             53               2.4\n",
       "messages_qty  112.5    0.0             14               0.6"
      ]
     },
     "metadata": {},
     "output_type": "display_data"
    }
   ],
   "source": [
    "# запускаем перебор параметров из списка \n",
    "# и для каждого тарифного плана определяем верхнюю и нижнюю границы аномальных значений,\n",
    "# а также количество и долю этих значений с помощью созданной функции anomalies(dataset, col)\n",
    "\n",
    "filter_col_list = ['minutes_qty', 'gb_used', 'messages_qty']\n",
    "\n",
    "for tariff in tariffs_list:\n",
    "    result = []\n",
    "    for filter_col in filter_col_list:\n",
    "        values = anomalies(df.query('tariff == @tariff'), filter_col)\n",
    "        result.append(values)\n",
    "    columns_list = ['top', 'bottom', 'anomalies_qty', 'anomalies_ratio%']    \n",
    "    globals()[tariff] = pd.DataFrame(result, index=filter_col_list, columns=columns_list)\n",
    "    print('------\\n', tariff, '\\n------')\n",
    "    display(globals()[tariff])"
   ]
  },
  {
   "cell_type": "markdown",
   "metadata": {},
   "source": [
    "В тарифе Ultra всего 10 аномальных значений: 2 по минутам и 8 по SMS.   \n",
    "В тарифе Smart 77 аномальных значений, из них 10 по минутам, 53 по Гб, 14 по SMS.  \n",
    "Но есть вероятность, что какие-то аномальные значения пересекаются. После очистки датасета от аномалий посчитаем кол-во отфильтрованных значений."
   ]
  },
  {
   "cell_type": "code",
   "execution_count": 35,
   "metadata": {},
   "outputs": [
    {
     "data": {
      "text/plain": [
       "(3129, 20)"
      ]
     },
     "execution_count": 35,
     "metadata": {},
     "output_type": "execute_result"
    }
   ],
   "source": [
    "# фильтруем датасет по границам аномальных значений\n",
    "\n",
    "filtered_t1 = df[(df['tariff'] == t1)\n",
    "                & (df['minutes_qty'] <= globals()[t1].loc['minutes_qty', 'top'])\n",
    "                & (df['minutes_qty'] >= globals()[t1].loc['minutes_qty', 'bottom'])\n",
    "                & (df['gb_used'] <= globals()[t1].loc['gb_used', 'top'])\n",
    "                & (df['gb_used'] >= globals()[t1].loc['gb_used', 'bottom'])\n",
    "                & (df['messages_qty'] <= globals()[t1].loc['messages_qty', 'top'])\n",
    "                & (df['messages_qty'] >= globals()[t1].loc['messages_qty', 'bottom'])\n",
    "                ]\n",
    "\n",
    "filtered_t2 = df[(df['tariff'] == t2)\n",
    "                & (df['minutes_qty'] <= globals()[t2].loc['minutes_qty', 'top'])\n",
    "                & (df['minutes_qty'] >= globals()[t2].loc['minutes_qty', 'bottom'])\n",
    "                & (df['gb_used'] <= globals()[t2].loc['gb_used', 'top'])\n",
    "                & (df['gb_used'] >= globals()[t2].loc['gb_used', 'bottom'])\n",
    "                & (df['messages_qty'] <= globals()[t2].loc['messages_qty', 'top'])\n",
    "                & (df['messages_qty'] >= globals()[t2].loc['messages_qty', 'bottom'])\n",
    "                ]\n",
    "\n",
    "df_filtered = filtered_t1.append(filtered_t2)    \n",
    "df_filtered.shape"
   ]
  },
  {
   "cell_type": "code",
   "execution_count": 36,
   "metadata": {},
   "outputs": [
    {
     "name": "stdout",
     "output_type": "stream",
     "text": [
      "кол-во аномальных значений:  85\n",
      "доля аномальных значений:  2.6%\n"
     ]
    }
   ],
   "source": [
    "print('кол-во аномальных значений: ', len(df) - len(df_filtered))\n",
    "print('доля аномальных значений: ', '{0:.1f}%'.format((1 - len(df_filtered) / len(df)) * 100))"
   ]
  },
  {
   "cell_type": "markdown",
   "metadata": {},
   "source": [
    "В ходе фильтрации выбросов ушло 85 аномальных значений или 2.6% от исходного размера датасета."
   ]
  },
  {
   "cell_type": "markdown",
   "metadata": {},
   "source": [
    "На основе очищенных данных построим гистограммы распределения для анализируемых параметров в разрезе тарифных планов."
   ]
  },
  {
   "cell_type": "code",
   "execution_count": 37,
   "metadata": {},
   "outputs": [
    {
     "data": {
      "image/png": "[encoded data removed]",
      "text/plain": [
       "<Figure size 720x288 with 1 Axes>"
      ]
     },
     "metadata": {
      "needs_background": "light"
     },
     "output_type": "display_data"
    },
    {
     "data": {
      "image/png": "[encoded data removed]",
      "text/plain": [
       "<Figure size 720x288 with 1 Axes>"
      ]
     },
     "metadata": {
      "needs_background": "light"
     },
     "output_type": "display_data"
    },
    {
     "data": {
      "image/png": "[encoded data removed]",
      "text/plain": [
       "<Figure size 720x288 with 1 Axes>"
      ]
     },
     "metadata": {
      "needs_background": "light"
     },
     "output_type": "display_data"
    },
    {
     "data": {
      "image/png": "[encoded data removed]",
      "text/plain": [
       "<Figure size 720x288 with 1 Axes>"
      ]
     },
     "metadata": {
      "needs_background": "light"
     },
     "output_type": "display_data"
    }
   ],
   "source": [
    "colors = ['#005B79', 'green']\n",
    "\n",
    "for keys in metrics_dict:\n",
    "    plt.figure(figsize=(10, 4))\n",
    "    sns.histplot(data=df_filtered,\n",
    "                 x=keys,\n",
    "                 hue='tariff',\n",
    "                 bins=25,\n",
    "                 palette='GnBu_r',\n",
    "                 kde=True,\n",
    "                 element='step',\n",
    "                 line_kws={'lw': 3},\n",
    "                 hue_order=tariffs_list\n",
    "                )\n",
    "    count = 0\n",
    "    for tariff in tariffs_list:\n",
    "         # строим вертикальные линии с тарифными лимитами для соответствующей метрики\n",
    "        plt.axvline(x=tariffs_t.loc[metrics_dict.get(keys), tariff], linestyle='--', color=colors[count])\n",
    "        count += 1\n",
    "    plt.title('Гистограмма плотности распределения для ' + keys, size=14, pad=10)\n",
    "    plt.show()"
   ]
  },
  {
   "cell_type": "markdown",
   "metadata": {},
   "source": [
    "### 6.1 Вывод\n",
    "\n",
    "На данном этапе было выполнено сделующее:\n",
    ">- определены границы аномального потребления трафика в месяц на основе бокс плотов – то, что выходит за границы 1.5 межквартильных размаха;\n",
    ">- по этим границам отфильтрованы аномальные значений: всего 85 занчений – 2.6% от размера исходного дата фрейма;\n",
    ">- по очищенному от аномалий дата фрейму построены гистограммы плотности распределения. \n",
    "\n",
    "Гистограммы позволили увидеть следующее:\n",
    "\n",
    "> *Потребление минут и Гб у обоих тарифных планов распределено нормально и близко к симметричному.*\n",
    ">- **У тарифа Smart** вершины куполов (т.е. значения средней и медианы нормального распределения), практически совпадают с лимитами, устоновленными тарифом для данных видов трафика (вертикальные пунктирные линии). Т.е. после ухода аномалий видно, что лимиты по минутам и Гб являются характеристикой среднего абонента Smart.\n",
    ">- **У тарифа Ultra** границы лимитов далеко вправо отстоят от вершин куполов, особенно по минутам, где граница лимита даже не пересекает график распределения. Можно предположить, что тариф формировался с условием покрыть потребности даже самого активного пользователя, как по минутам, так и по Гб. Возможно, со временем структура потребления изменилась в пользу Гб (чему могло способствовать увеличение скорости интернет-трафика – абоненты общаются через голосовые сервисы мессенджеров или по видео), в итоге получилась картина, где лимит по минутам с большим излишком, а лимита по Гб не всегда достаточно.\n",
    "\n",
    "> *Потребление SMS-трафика имеет ассиметричное распределение – распределение Пуассона.* \n",
    ">- Для обоих тарифов характерно большое кол-во абонентов, которые практически не пользуются SMS – самый крайний левый столбец.\n",
    ">- **У тарифа Smart** граница лимита проходит где-то в районе 30-40 сообщений, то есть в районе медианы. \n",
    ">- **У тарифа Ultra** границы лимита далеко вправо отстоит от графика, что также может быть объяснено тем, что абоненты перешли на сообщения в мессенджерах, где используется интернет-трафик.\n",
    "\n",
    "> *Графики доходов с абонентов также имеют асимметричное распределение – распределение Пуассона.*\n",
    ">- У обоих тарифов граница абонентской платы проходи по максимальному столбцу графиков. \n",
    ">- **У тарифа Ultra** хвост высоких значений короткий и почти лежит на оси Х, что говорит о минимальном кол-ве случаев, когда абоненты платят сверх абонентской платы.\n",
    ">- **У тарифа Smart** хвост высоких значений гораздо длиннее (закачивается практически там же, где Ultra) и спуск не такой крутой, как у Ultra, что говорит о частом превышении лимитов и как следствие дополнительных расходах сверх абонентской платы."
   ]
  },
  {
   "cell_type": "markdown",
   "metadata": {},
   "source": [
    "<a id='hypotheses'></a>\n",
    "## 7 Проверка гипотез"
   ]
  },
  {
   "cell_type": "markdown",
   "metadata": {},
   "source": [
    "### 7.1 Гипотеза № 1\n",
    "\n",
    "По данным, которые были получены на предыдущих этапа мы видели, что средняя выручка с абонентов тарифа Smart и Ultra различаются. Но является ли это различие статистически значимым или получено случайно, поскольку мы оперируем выборочными данных, необходимо проверить. \n",
    "\n",
    "Сформулируем нулевую гипотезу H₀: средняя выручка с абонентов тарифа Smart равна средней выручке с абонентов Ultra.\n",
    "Исходя из H₀ альтернативная гипотеза H₁ будет звучать как: средняя выручка с абонентов тарифа Smart и Ultra различаются.\n",
    "\n",
    "Для проверки гипотез воспользуемся мнетодом scipy.stats.ttest_ind (array1, array2, equal_var).\n",
    "\n",
    "Зададим пороговое значение на уровне 5%.\n",
    "\n",
    "Проверять гипотезу будем на очищенных от аномалий данных."
   ]
  },
  {
   "cell_type": "code",
   "execution_count": 38,
   "metadata": {},
   "outputs": [
    {
     "name": "stdout",
     "output_type": "stream",
     "text": [
      "p-значение: 2.688463576407362e-286\n",
      "Отвергаем нулевую гипотезу\n",
      "Среднее значение выручки тарифа Ultra: 2067.7\n",
      "Среднее значение выручки тарифа Smart: 1261.3\n",
      "\n"
     ]
    }
   ],
   "source": [
    "alpha = 0.05 # критический уровень статистической значимости\n",
    "\n",
    "results_tariffs = st.ttest_ind(df_filtered.query('tariff == @t1')['income'],\n",
    "                               df_filtered.query('tariff == @t2')['income'],\n",
    "                               equal_var=False\n",
    "                              )\n",
    "\n",
    "print('p-значение:', results_tariffs.pvalue)\n",
    "\n",
    "if results_tariffs.pvalue < alpha:\n",
    "    print('Отвергаем нулевую гипотезу')\n",
    "else:\n",
    "    print('Не получилось отвергнуть нулевую гипотезу') \n",
    "    \n",
    "# выводим среднюю выручку по тарифам\n",
    "print('Среднее значение выручки тарифа Ultra:', '{0:.1f}'.format(df_filtered.query('tariff == @t1')['income'].mean()))\n",
    "print('Среднее значение выручки тарифа Smart:', '{0:.1f}'.format(df_filtered.query('tariff == @t2')['income'].mean()))\n",
    "print()     "
   ]
  },
  {
   "cell_type": "markdown",
   "metadata": {},
   "source": [
    "Мы получили значение p-value, стремящееся к нулю, т.е. вероятность ошибиться, отвергая нулевую гипотезу, ничтожна мала. Значит различие в средних выручки с абонентов Smart и Ultra существует и оно статистически значимо."
   ]
  },
  {
   "cell_type": "markdown",
   "metadata": {},
   "source": [
    "### 7.2 Гипотеза № 2\n",
    "\n",
    "Существует предположение, что средняя выручка абонентов из Москвы отличается от выручки абонентов из других регионов. Проверим эту гипотезу.\n",
    "\n",
    "Сформулируем нулевую гипотезу H₀: средняя выручка с абонентов Москвы равна средней выручке с абонентов других регионов.\n",
    "Исходя из H₀ альтернативная гипотеза H₁ будет звучать как: средняя выручка с абонентов Москвы и других регионов различаются.\n",
    "\n",
    "Для проверки гипотез воспользуемся мнетодом scipy.stats.ttest_ind (array1, array2, equal_var).\n",
    "\n",
    "Зададим пороговое значение на уровне 5%.\n",
    "\n",
    "Проверять гипотезу будем на очищенных от аномалий данных."
   ]
  },
  {
   "cell_type": "code",
   "execution_count": 39,
   "metadata": {},
   "outputs": [
    {
     "name": "stdout",
     "output_type": "stream",
     "text": [
      "p-значение: 0.2750\n",
      "Не получилось отвергнуть нулевую гипотезу\n",
      "Среднее значение выручки в Москве: 1541.8\n",
      "Среднее значение выручки в других регионах: 1505.6\n",
      "\n"
     ]
    }
   ],
   "source": [
    "alpha = 0.05 # критический уровень статистической значимости\n",
    "\n",
    "results_cities = st.ttest_ind(df_filtered.query('city == \"Москва\"')['income'],\n",
    "                              df_filtered.query('city != \"Москва\"')['income'],\n",
    "                              equal_var=False\n",
    "                             )\n",
    "\n",
    "print('p-значение:', '{0:.4f}'.format(results_cities.pvalue))\n",
    "\n",
    "if results_cities.pvalue < alpha:\n",
    "    print('Отвергаем нулевую гипотезу')\n",
    "else:\n",
    "    print('Не получилось отвергнуть нулевую гипотезу')\n",
    "    \n",
    "# выводим среднюю выручку по регионам\n",
    "print('Среднее значение выручки в Москве:', '{0:.1f}'.format(df_filtered.query('city == \"Москва\"')['income'].mean()))\n",
    "print('Среднее значение выручки в других регионах:', '{0:.1f}'.format(df_filtered.query('city != \"Москва\"')['income'].mean()))\n",
    "print()    "
   ]
  },
  {
   "cell_type": "markdown",
   "metadata": {},
   "source": [
    "Мы получили высокое значение p-value – 27.5%, т.е. отвергая нулевую гипотезу, мы с 27.5% вероятности можем ошибиться – это выше, чем заложенный уровень погрешности в 5%. Не получается отвергнуть нулевую гипотезу и можно говорить о том, что статистически значимых различий в средней выручке абонентов Москвы и других регионов нет. "
   ]
  },
  {
   "cell_type": "markdown",
   "metadata": {},
   "source": [
    "### 7.3 Вывод\n",
    "\n",
    "На данном этапе было проверено две гипотезы о равенстве средних показателей с пороговым уровнем статистической значимости 5%. \n",
    "\n",
    "Были получены следующие результаты:\n",
    "\n",
    "- Гипотеза №1: есть статистически значимые различия в средней выручке абонентов Smart и Ultra.\n",
    "\n",
    "- Гипотеза №2: нет статистически значимых различий в средней выручке абонентов Москвы и других регионов."
   ]
  },
  {
   "cell_type": "markdown",
   "metadata": {},
   "source": [
    "<a id='conclusion'></a>\n",
    "## 8 Общий вывод и рекомендации"
   ]
  },
  {
   "cell_type": "markdown",
   "metadata": {},
   "source": [
    "В рамках данного проекта была проанализирована выборка по 500 клиентам сотового оператора «Мегалайн» за 2018 г. в разрезе двух тарифных планов: «Смарт» и «Ультра».\n",
    "\n",
    "Анализ показал, что оба тарифных плана представляют одинаковый интерес и ценность для оператора, поскольку каждый решает свою задачу, исходя из двух типов поведения кинетов.\n",
    "\n",
    "**SMART**   \n",
    "- Нацелен на пользователей, которые **хотят платить меньше**, но не могут реально оценить и проконтролировать свои расходы трафика, поэтому выходят в за рамки пакетного лимита, где тарифы очень высоки.\n",
    "- Пользователи тарифа Smart составляют большинство – 70%.   \n",
    "- За 2018 г. они принесли 59% выручки, 57% из которой – оплата за сверхлимитное потребление трафика.\n",
    "\n",
    "**ULTRA**  \n",
    "- Нацелен на пользователей, которые **готовы платить больше** за возможность пользоваться большим объемом услуг и оставаться в рамках тарифных лимитов. При этом они допускают, что часть (возможно большая) оплаченного трафика окажется неиспользованной.\n",
    "- Таких пользователей меньше – 30%.\n",
    "- За 2018 г. они принесли 41% выручки – всего на 30% меньше, чем абоненты Smart. При этом доля платежей за сверхлимитное потребление трафика у этого тарифа минимальная – 6%.\n",
    "\n",
    "Как видно, в структуре выручки тариф Ultra занимает чуть меньшую долю. При этом анализ данных показал, что лимит по минутам в данном тарифе существенно превышает потребности пользователей, в то время, как лимита по Гб не всегда достаточно. Учитывая, что интернет-трафик начинает замещать часть голосового – переписка, аудио- и видеозвонки через мессенджеры и соцсети, – то как **рекомендации коммерческому департаменту** можно предложит предоставить абонентам Ultra возможность «обменивать» минуты на Гб. Это может повысить привлекательность данного тарифа и увеличить его долю в структуре пользователей и выручки."
   ]
  },
  {
   "cell_type": "code",
   "execution_count": null,
   "metadata": {},
   "outputs": [],
   "source": []
  }
 ],
 "metadata": {
  "ExecuteTimeLog": [
   {
    "duration": 416,
    "start_time": "2021-10-25T09:23:15.748Z"
   },
   {
    "duration": 1119,
    "start_time": "2021-10-25T09:23:24.543Z"
   },
   {
    "duration": 582,
    "start_time": "2021-10-25T09:23:26.792Z"
   },
   {
    "duration": 424,
    "start_time": "2021-10-25T09:39:48.115Z"
   },
   {
    "duration": 4,
    "start_time": "2021-10-25T09:39:54.683Z"
   },
   {
    "duration": 419,
    "start_time": "2021-10-25T09:39:55.861Z"
   },
   {
    "duration": 389,
    "start_time": "2021-10-25T09:41:06.054Z"
   },
   {
    "duration": 12889,
    "start_time": "2021-10-25T09:41:23.503Z"
   },
   {
    "duration": 205324,
    "start_time": "2021-10-25T09:41:43.922Z"
   },
   {
    "duration": 12119,
    "start_time": "2021-10-25T09:45:22.851Z"
   },
   {
    "duration": 9884,
    "start_time": "2021-10-25T09:47:13.808Z"
   },
   {
    "duration": 11239,
    "start_time": "2021-10-25T09:47:51.663Z"
   },
   {
    "duration": 18,
    "start_time": "2021-10-25T09:49:35.525Z"
   },
   {
    "duration": 5817,
    "start_time": "2021-10-25T09:50:04.328Z"
   },
   {
    "duration": 29,
    "start_time": "2021-10-25T09:50:11.838Z"
   },
   {
    "duration": 509,
    "start_time": "2021-10-25T09:50:16.423Z"
   },
   {
    "duration": 29,
    "start_time": "2021-10-25T09:50:23.437Z"
   },
   {
    "duration": 30,
    "start_time": "2021-10-25T09:50:23.470Z"
   },
   {
    "duration": 54,
    "start_time": "2021-10-25T09:50:23.505Z"
   },
   {
    "duration": 370,
    "start_time": "2021-10-25T09:50:23.563Z"
   },
   {
    "duration": -344,
    "start_time": "2021-10-25T09:50:24.280Z"
   },
   {
    "duration": 10,
    "start_time": "2021-10-25T09:50:47.685Z"
   },
   {
    "duration": 10,
    "start_time": "2021-10-25T09:50:51.077Z"
   },
   {
    "duration": 11973,
    "start_time": "2021-10-25T09:51:12.929Z"
   },
   {
    "duration": 2332,
    "start_time": "2021-10-25T09:56:03.817Z"
   },
   {
    "duration": 5739,
    "start_time": "2021-10-25T09:56:22.178Z"
   },
   {
    "duration": 5983,
    "start_time": "2021-10-25T09:56:36.259Z"
   },
   {
    "duration": 6352,
    "start_time": "2021-10-25T09:57:17.930Z"
   },
   {
    "duration": 617,
    "start_time": "2021-10-25T09:58:56.284Z"
   },
   {
    "duration": 622,
    "start_time": "2021-10-25T10:00:13.250Z"
   },
   {
    "duration": 645,
    "start_time": "2021-10-25T10:00:58.196Z"
   },
   {
    "duration": 179,
    "start_time": "2021-10-25T10:01:06.778Z"
   },
   {
    "duration": 643,
    "start_time": "2021-10-25T10:01:31.899Z"
   },
   {
    "duration": 662,
    "start_time": "2021-10-25T10:01:53.585Z"
   },
   {
    "duration": 616,
    "start_time": "2021-10-25T10:02:06.170Z"
   },
   {
    "duration": 920,
    "start_time": "2021-10-25T10:02:32.593Z"
   },
   {
    "duration": 164,
    "start_time": "2021-10-25T10:04:47.068Z"
   },
   {
    "duration": 2143,
    "start_time": "2021-10-25T10:09:51.338Z"
   },
   {
    "duration": 353,
    "start_time": "2021-10-25T10:19:11.523Z"
   },
   {
    "duration": 402,
    "start_time": "2021-10-25T10:19:44.120Z"
   },
   {
    "duration": 102,
    "start_time": "2021-10-25T10:20:00.288Z"
   },
   {
    "duration": 99,
    "start_time": "2021-10-25T10:20:13.912Z"
   },
   {
    "duration": 80,
    "start_time": "2021-10-25T10:21:14.350Z"
   },
   {
    "duration": 96,
    "start_time": "2021-10-25T10:22:44.100Z"
   },
   {
    "duration": 39,
    "start_time": "2021-10-25T10:23:21.244Z"
   },
   {
    "duration": 26,
    "start_time": "2021-10-25T10:23:28.406Z"
   },
   {
    "duration": 70,
    "start_time": "2021-10-25T10:23:54.077Z"
   },
   {
    "duration": 69,
    "start_time": "2021-10-25T10:24:08.513Z"
   },
   {
    "duration": 161,
    "start_time": "2021-10-25T10:24:28.284Z"
   },
   {
    "duration": 66,
    "start_time": "2021-10-25T10:24:41.062Z"
   },
   {
    "duration": 69,
    "start_time": "2021-10-25T10:24:49.213Z"
   },
   {
    "duration": 57,
    "start_time": "2021-10-25T10:25:10.457Z"
   },
   {
    "duration": 55,
    "start_time": "2021-10-25T10:26:12.505Z"
   },
   {
    "duration": 42,
    "start_time": "2021-10-25T10:26:20.459Z"
   },
   {
    "duration": 49,
    "start_time": "2021-10-25T10:26:32.668Z"
   },
   {
    "duration": 4,
    "start_time": "2021-10-25T10:26:57.380Z"
   },
   {
    "duration": 729,
    "start_time": "2021-10-25T10:26:57.387Z"
   },
   {
    "duration": 48,
    "start_time": "2021-10-25T10:26:58.119Z"
   },
   {
    "duration": 23,
    "start_time": "2021-10-25T10:26:58.170Z"
   },
   {
    "duration": 349,
    "start_time": "2021-10-25T10:27:46.070Z"
   },
   {
    "duration": 353,
    "start_time": "2021-10-25T10:29:35.323Z"
   },
   {
    "duration": 177,
    "start_time": "2021-10-25T10:30:28.383Z"
   },
   {
    "duration": 467,
    "start_time": "2021-10-25T10:30:32.712Z"
   },
   {
    "duration": 355,
    "start_time": "2021-10-25T10:31:50.745Z"
   },
   {
    "duration": 7,
    "start_time": "2021-10-25T10:32:09.906Z"
   },
   {
    "duration": 356,
    "start_time": "2021-10-25T10:32:13.741Z"
   },
   {
    "duration": 7,
    "start_time": "2021-10-25T10:33:10.416Z"
   },
   {
    "duration": 64,
    "start_time": "2021-10-25T10:42:59.003Z"
   },
   {
    "duration": 52,
    "start_time": "2021-10-25T10:44:17.478Z"
   },
   {
    "duration": 362,
    "start_time": "2021-10-25T10:45:50.828Z"
   },
   {
    "duration": 926,
    "start_time": "2021-10-25T10:46:05.039Z"
   },
   {
    "duration": 721,
    "start_time": "2021-10-25T10:46:05.968Z"
   },
   {
    "duration": 448,
    "start_time": "2021-10-25T10:46:06.693Z"
   },
   {
    "duration": -269,
    "start_time": "2021-10-25T10:46:07.412Z"
   },
   {
    "duration": 4,
    "start_time": "2021-10-25T10:46:39.120Z"
   },
   {
    "duration": 4507,
    "start_time": "2021-10-25T10:46:41.484Z"
   },
   {
    "duration": 347,
    "start_time": "2021-10-25T10:46:48.716Z"
   },
   {
    "duration": 368,
    "start_time": "2021-10-25T10:51:09.145Z"
   },
   {
    "duration": 1016,
    "start_time": "2021-10-25T10:51:26.966Z"
   },
   {
    "duration": 793,
    "start_time": "2021-10-25T10:51:27.985Z"
   },
   {
    "duration": 481,
    "start_time": "2021-10-25T10:51:28.781Z"
   },
   {
    "duration": -290,
    "start_time": "2021-10-25T10:51:29.555Z"
   },
   {
    "duration": 344,
    "start_time": "2021-10-25T10:58:52.800Z"
   },
   {
    "duration": 369,
    "start_time": "2021-10-25T10:59:20.663Z"
   },
   {
    "duration": 866,
    "start_time": "2021-10-25T11:00:22.270Z"
   },
   {
    "duration": 755,
    "start_time": "2021-10-25T11:00:23.139Z"
   },
   {
    "duration": 468,
    "start_time": "2021-10-25T11:00:23.897Z"
   },
   {
    "duration": -277,
    "start_time": "2021-10-25T11:00:24.644Z"
   },
   {
    "duration": 952,
    "start_time": "2021-10-25T11:00:36.355Z"
   },
   {
    "duration": 960,
    "start_time": "2021-10-25T11:00:37.310Z"
   },
   {
    "duration": 570,
    "start_time": "2021-10-25T11:00:38.274Z"
   },
   {
    "duration": -270,
    "start_time": "2021-10-25T11:00:39.119Z"
   },
   {
    "duration": 703,
    "start_time": "2021-10-25T11:01:34.608Z"
   },
   {
    "duration": 9767,
    "start_time": "2021-10-25T11:03:17.244Z"
   },
   {
    "duration": 529,
    "start_time": "2021-10-25T11:03:27.013Z"
   },
   {
    "duration": 9608,
    "start_time": "2021-10-25T11:03:38.322Z"
   },
   {
    "duration": 436,
    "start_time": "2021-10-25T11:03:47.932Z"
   },
   {
    "duration": 7,
    "start_time": "2021-10-25T11:04:07.699Z"
   },
   {
    "duration": 5,
    "start_time": "2021-10-25T11:04:16.040Z"
   },
   {
    "duration": 6,
    "start_time": "2021-10-25T11:04:16.858Z"
   },
   {
    "duration": 9037,
    "start_time": "2021-10-25T11:04:32.597Z"
   },
   {
    "duration": 568,
    "start_time": "2021-10-25T11:04:41.822Z"
   },
   {
    "duration": 4729,
    "start_time": "2021-10-25T11:05:04.771Z"
   },
   {
    "duration": 355,
    "start_time": "2021-10-25T11:05:48.790Z"
   },
   {
    "duration": 352,
    "start_time": "2021-10-25T11:08:02.394Z"
   },
   {
    "duration": 672,
    "start_time": "2021-10-25T11:09:25.928Z"
   },
   {
    "duration": 14,
    "start_time": "2021-10-25T11:10:31.440Z"
   },
   {
    "duration": 681,
    "start_time": "2021-10-25T11:11:17.276Z"
   },
   {
    "duration": 12,
    "start_time": "2021-10-25T11:11:27.035Z"
   },
   {
    "duration": 119,
    "start_time": "2021-10-25T11:13:45.417Z"
   },
   {
    "duration": 138,
    "start_time": "2021-10-25T11:13:57.326Z"
   },
   {
    "duration": 664,
    "start_time": "2021-10-25T11:14:12.282Z"
   },
   {
    "duration": 390,
    "start_time": "2021-10-25T11:14:25.009Z"
   },
   {
    "duration": 913,
    "start_time": "2021-10-25T11:16:38.297Z"
   },
   {
    "duration": 688,
    "start_time": "2021-10-25T11:17:55.594Z"
   },
   {
    "duration": 366,
    "start_time": "2021-10-25T11:18:01.147Z"
   },
   {
    "duration": 541,
    "start_time": "2021-10-25T11:51:44.062Z"
   },
   {
    "duration": 573,
    "start_time": "2021-10-25T12:00:27.046Z"
   },
   {
    "duration": 350,
    "start_time": "2021-10-25T12:00:32.888Z"
   },
   {
    "duration": 361,
    "start_time": "2021-10-25T12:07:25.189Z"
   },
   {
    "duration": 362,
    "start_time": "2021-10-25T12:07:58.736Z"
   },
   {
    "duration": 826,
    "start_time": "2021-10-25T12:10:41.653Z"
   },
   {
    "duration": 711,
    "start_time": "2021-10-25T12:14:09.308Z"
   },
   {
    "duration": 533,
    "start_time": "2021-10-25T12:14:21.094Z"
   },
   {
    "duration": 557,
    "start_time": "2021-10-25T12:14:32.768Z"
   },
   {
    "duration": 563,
    "start_time": "2021-10-25T12:15:06.588Z"
   },
   {
    "duration": 376,
    "start_time": "2021-10-25T14:33:54.214Z"
   },
   {
    "duration": 910,
    "start_time": "2021-10-25T14:41:10.098Z"
   },
   {
    "duration": 652,
    "start_time": "2021-10-25T14:41:11.011Z"
   },
   {
    "duration": -71,
    "start_time": "2021-10-25T14:41:11.737Z"
   },
   {
    "duration": -77,
    "start_time": "2021-10-25T14:41:11.745Z"
   },
   {
    "duration": 530,
    "start_time": "2021-10-25T14:41:38.887Z"
   },
   {
    "duration": 24,
    "start_time": "2021-10-25T14:41:41.404Z"
   },
   {
    "duration": 707,
    "start_time": "2021-10-25T14:42:50.604Z"
   },
   {
    "duration": 23,
    "start_time": "2021-10-25T14:43:00.645Z"
   },
   {
    "duration": 312,
    "start_time": "2021-10-25T15:17:00.055Z"
   },
   {
    "duration": 153,
    "start_time": "2021-10-25T15:25:19.181Z"
   },
   {
    "duration": 307,
    "start_time": "2021-10-25T15:25:27.654Z"
   },
   {
    "duration": 342,
    "start_time": "2021-10-25T15:25:59.659Z"
   },
   {
    "duration": 38,
    "start_time": "2021-10-25T15:27:15.436Z"
   },
   {
    "duration": 1170,
    "start_time": "2021-10-25T15:27:37.529Z"
   },
   {
    "duration": 903,
    "start_time": "2021-10-25T15:27:54.997Z"
   },
   {
    "duration": 724,
    "start_time": "2021-10-25T15:27:55.903Z"
   },
   {
    "duration": 1344,
    "start_time": "2021-10-25T15:27:56.631Z"
   },
   {
    "duration": 44,
    "start_time": "2021-10-25T15:29:11.643Z"
   },
   {
    "duration": 19,
    "start_time": "2021-10-25T15:29:13.489Z"
   },
   {
    "duration": 20,
    "start_time": "2021-10-25T15:29:35.906Z"
   },
   {
    "duration": 96,
    "start_time": "2021-10-25T15:39:49.118Z"
   },
   {
    "duration": 4,
    "start_time": "2021-10-25T15:39:58.797Z"
   },
   {
    "duration": 417,
    "start_time": "2021-10-25T15:40:01.862Z"
   },
   {
    "duration": 10,
    "start_time": "2021-10-25T15:41:34.899Z"
   },
   {
    "duration": 29,
    "start_time": "2021-10-25T15:41:48.038Z"
   },
   {
    "duration": 274,
    "start_time": "2021-10-25T15:42:31.540Z"
   },
   {
    "duration": 410,
    "start_time": "2021-10-25T15:43:18.241Z"
   },
   {
    "duration": 96,
    "start_time": "2021-10-25T15:43:54.279Z"
   },
   {
    "duration": 5,
    "start_time": "2021-10-25T15:44:04.717Z"
   },
   {
    "duration": 11,
    "start_time": "2021-10-25T15:44:56.063Z"
   },
   {
    "duration": 845,
    "start_time": "2021-10-25T15:46:08.971Z"
   },
   {
    "duration": 727,
    "start_time": "2021-10-25T15:46:09.827Z"
   },
   {
    "duration": 48,
    "start_time": "2021-10-25T15:46:10.557Z"
   },
   {
    "duration": 16,
    "start_time": "2021-10-25T15:46:10.608Z"
   },
   {
    "duration": 413,
    "start_time": "2021-10-25T15:46:10.627Z"
   },
   {
    "duration": -513,
    "start_time": "2021-10-25T15:46:11.557Z"
   },
   {
    "duration": -516,
    "start_time": "2021-10-25T15:46:11.562Z"
   },
   {
    "duration": 573,
    "start_time": "2021-10-25T15:46:30.494Z"
   },
   {
    "duration": 558,
    "start_time": "2021-10-25T15:46:49.428Z"
   },
   {
    "duration": 848,
    "start_time": "2021-10-25T15:47:18.225Z"
   },
   {
    "duration": 602,
    "start_time": "2021-10-25T15:48:23.334Z"
   },
   {
    "duration": 13,
    "start_time": "2021-10-25T15:48:39.720Z"
   },
   {
    "duration": 20,
    "start_time": "2021-10-25T15:48:41.104Z"
   },
   {
    "duration": 74,
    "start_time": "2021-10-25T15:55:00.582Z"
   },
   {
    "duration": 23,
    "start_time": "2021-10-25T15:55:04.517Z"
   },
   {
    "duration": 113,
    "start_time": "2021-10-25T15:56:23.823Z"
   },
   {
    "duration": 8,
    "start_time": "2021-10-25T15:57:56.763Z"
   },
   {
    "duration": 25,
    "start_time": "2021-10-25T15:58:12.747Z"
   },
   {
    "duration": 27,
    "start_time": "2021-10-25T15:59:01.800Z"
   },
   {
    "duration": 7,
    "start_time": "2021-10-25T16:03:20.815Z"
   },
   {
    "duration": 6,
    "start_time": "2021-10-25T16:03:33.119Z"
   },
   {
    "duration": 6,
    "start_time": "2021-10-25T16:03:37.615Z"
   },
   {
    "duration": -499,
    "start_time": "2021-10-25T16:04:05.422Z"
   },
   {
    "duration": 6,
    "start_time": "2021-10-25T16:04:06.286Z"
   },
   {
    "duration": 7,
    "start_time": "2021-10-25T16:04:23.759Z"
   },
   {
    "duration": 6,
    "start_time": "2021-10-25T16:12:27.715Z"
   },
   {
    "duration": 7,
    "start_time": "2021-10-25T16:12:33.178Z"
   },
   {
    "duration": 6,
    "start_time": "2021-10-25T16:12:55.629Z"
   },
   {
    "duration": 6,
    "start_time": "2021-10-25T16:13:00.335Z"
   },
   {
    "duration": 159,
    "start_time": "2021-10-25T17:09:46.831Z"
   },
   {
    "duration": 135,
    "start_time": "2021-10-25T17:18:50.671Z"
   },
   {
    "duration": 97,
    "start_time": "2021-10-25T17:18:58.610Z"
   },
   {
    "duration": 131,
    "start_time": "2021-10-25T17:19:18.410Z"
   },
   {
    "duration": 131,
    "start_time": "2021-10-25T17:20:58.322Z"
   },
   {
    "duration": 132,
    "start_time": "2021-10-25T17:21:54.449Z"
   },
   {
    "duration": 8,
    "start_time": "2021-10-25T17:21:58.199Z"
   },
   {
    "duration": 7,
    "start_time": "2021-10-25T17:22:31.854Z"
   },
   {
    "duration": 128,
    "start_time": "2021-10-25T17:23:06.971Z"
   },
   {
    "duration": 134,
    "start_time": "2021-10-25T17:23:13.050Z"
   },
   {
    "duration": 156,
    "start_time": "2021-10-25T17:24:24.262Z"
   },
   {
    "duration": 1032,
    "start_time": "2021-10-25T17:31:28.396Z"
   },
   {
    "duration": 5,
    "start_time": "2021-10-25T17:32:26.006Z"
   },
   {
    "duration": 10,
    "start_time": "2021-10-25T17:32:41.752Z"
   },
   {
    "duration": 4,
    "start_time": "2021-10-25T17:33:02.674Z"
   },
   {
    "duration": 11,
    "start_time": "2021-10-25T17:33:04.052Z"
   },
   {
    "duration": 99,
    "start_time": "2021-10-25T17:34:18.845Z"
   },
   {
    "duration": 511,
    "start_time": "2021-10-25T17:35:34.801Z"
   },
   {
    "duration": 166,
    "start_time": "2021-10-25T17:36:07.655Z"
   },
   {
    "duration": 95,
    "start_time": "2021-10-25T17:39:27.073Z"
   },
   {
    "duration": 278,
    "start_time": "2021-10-25T17:41:09.375Z"
   },
   {
    "duration": 280,
    "start_time": "2021-10-25T17:41:53.195Z"
   },
   {
    "duration": 129,
    "start_time": "2021-10-25T17:44:57.209Z"
   },
   {
    "duration": 169,
    "start_time": "2021-10-25T17:45:45.752Z"
   },
   {
    "duration": 98,
    "start_time": "2021-10-25T17:48:24.112Z"
   },
   {
    "duration": 100,
    "start_time": "2021-10-25T17:49:14.510Z"
   },
   {
    "duration": 98,
    "start_time": "2021-10-25T17:49:26.353Z"
   },
   {
    "duration": 165,
    "start_time": "2021-10-25T17:49:39.329Z"
   },
   {
    "duration": 823,
    "start_time": "2021-10-25T17:50:04.579Z"
   },
   {
    "duration": 681,
    "start_time": "2021-10-25T17:50:05.405Z"
   },
   {
    "duration": 3,
    "start_time": "2021-10-25T17:50:06.090Z"
   },
   {
    "duration": 167,
    "start_time": "2021-10-25T17:50:06.096Z"
   },
   {
    "duration": 205,
    "start_time": "2021-10-25T17:50:06.266Z"
   },
   {
    "duration": 111,
    "start_time": "2021-10-25T17:50:06.474Z"
   },
   {
    "duration": 139,
    "start_time": "2021-10-25T17:50:06.588Z"
   },
   {
    "duration": 170,
    "start_time": "2021-10-25T18:00:34.935Z"
   },
   {
    "duration": 211,
    "start_time": "2021-10-25T18:01:06.248Z"
   },
   {
    "duration": 205,
    "start_time": "2021-10-25T18:01:41.831Z"
   },
   {
    "duration": 174,
    "start_time": "2021-10-25T18:02:29.124Z"
   },
   {
    "duration": 173,
    "start_time": "2021-10-25T18:03:10.746Z"
   },
   {
    "duration": 176,
    "start_time": "2021-10-25T18:03:57.376Z"
   },
   {
    "duration": 98,
    "start_time": "2021-10-25T18:36:34.850Z"
   },
   {
    "duration": 106,
    "start_time": "2021-10-25T18:36:44.360Z"
   },
   {
    "duration": 101,
    "start_time": "2021-10-25T18:37:06.192Z"
   },
   {
    "duration": 161,
    "start_time": "2021-10-25T18:37:16.007Z"
   },
   {
    "duration": 687,
    "start_time": "2021-10-25T18:50:39.311Z"
   },
   {
    "duration": 693,
    "start_time": "2021-10-25T18:51:04.272Z"
   },
   {
    "duration": 1076,
    "start_time": "2021-10-25T18:51:19.100Z"
   },
   {
    "duration": 75,
    "start_time": "2021-10-25T18:51:39.195Z"
   },
   {
    "duration": 35,
    "start_time": "2021-10-25T18:51:41.723Z"
   },
   {
    "duration": 41,
    "start_time": "2021-10-25T18:51:52.948Z"
   },
   {
    "duration": 393,
    "start_time": "2021-10-25T18:52:30.045Z"
   },
   {
    "duration": 5,
    "start_time": "2021-10-26T05:57:41.497Z"
   },
   {
    "duration": 801,
    "start_time": "2021-10-26T05:57:48.382Z"
   },
   {
    "duration": 647,
    "start_time": "2021-10-26T05:57:50.798Z"
   },
   {
    "duration": 5,
    "start_time": "2021-10-26T05:57:55.267Z"
   },
   {
    "duration": 165,
    "start_time": "2021-10-26T05:58:25.319Z"
   },
   {
    "duration": 171,
    "start_time": "2021-10-26T06:00:07.607Z"
   },
   {
    "duration": 110,
    "start_time": "2021-10-26T06:00:30.633Z"
   },
   {
    "duration": 126,
    "start_time": "2021-10-26T06:00:52.220Z"
   },
   {
    "duration": 41,
    "start_time": "2021-10-26T06:01:38.321Z"
   },
   {
    "duration": 86,
    "start_time": "2021-10-26T06:13:36.345Z"
   },
   {
    "duration": 436,
    "start_time": "2021-10-26T06:14:15.942Z"
   },
   {
    "duration": 203,
    "start_time": "2021-10-26T06:14:37.411Z"
   },
   {
    "duration": 123,
    "start_time": "2021-10-26T06:15:23.546Z"
   },
   {
    "duration": 128,
    "start_time": "2021-10-26T06:15:59.283Z"
   },
   {
    "duration": 127,
    "start_time": "2021-10-26T06:16:15.513Z"
   },
   {
    "duration": 127,
    "start_time": "2021-10-26T06:16:51.206Z"
   },
   {
    "duration": 131,
    "start_time": "2021-10-26T06:17:14.513Z"
   },
   {
    "duration": 131,
    "start_time": "2021-10-26T06:17:25.019Z"
   },
   {
    "duration": 248,
    "start_time": "2021-10-26T06:18:40.001Z"
   },
   {
    "duration": 43,
    "start_time": "2021-10-26T06:19:08.949Z"
   },
   {
    "duration": 185,
    "start_time": "2021-10-26T06:19:21.610Z"
   },
   {
    "duration": 44,
    "start_time": "2021-10-26T06:19:33.152Z"
   },
   {
    "duration": 125,
    "start_time": "2021-10-26T06:19:41.697Z"
   },
   {
    "duration": 41,
    "start_time": "2021-10-26T06:34:55.450Z"
   },
   {
    "duration": 187,
    "start_time": "2021-10-26T06:37:59.134Z"
   },
   {
    "duration": 7,
    "start_time": "2021-10-26T06:38:06.087Z"
   },
   {
    "duration": 7,
    "start_time": "2021-10-26T06:38:15.800Z"
   },
   {
    "duration": 192,
    "start_time": "2021-10-26T06:43:26.633Z"
   },
   {
    "duration": 813,
    "start_time": "2021-10-26T06:43:39.548Z"
   },
   {
    "duration": 650,
    "start_time": "2021-10-26T06:43:40.364Z"
   },
   {
    "duration": 4,
    "start_time": "2021-10-26T06:43:41.017Z"
   },
   {
    "duration": 179,
    "start_time": "2021-10-26T06:43:41.024Z"
   },
   {
    "duration": 180,
    "start_time": "2021-10-26T06:43:41.229Z"
   },
   {
    "duration": 98,
    "start_time": "2021-10-26T06:43:41.412Z"
   },
   {
    "duration": 143,
    "start_time": "2021-10-26T06:43:41.513Z"
   },
   {
    "duration": 43,
    "start_time": "2021-10-26T06:43:41.659Z"
   },
   {
    "duration": 332,
    "start_time": "2021-10-26T06:43:41.705Z"
   },
   {
    "duration": 338,
    "start_time": "2021-10-26T06:45:06.842Z"
   },
   {
    "duration": 381,
    "start_time": "2021-10-26T06:46:09.290Z"
   },
   {
    "duration": 18,
    "start_time": "2021-10-26T06:48:37.640Z"
   },
   {
    "duration": 954,
    "start_time": "2021-10-26T06:49:14.335Z"
   },
   {
    "duration": 296,
    "start_time": "2021-10-26T06:49:27.148Z"
   },
   {
    "duration": 125,
    "start_time": "2021-10-26T06:49:31.981Z"
   },
   {
    "duration": 1215,
    "start_time": "2021-10-26T06:49:48.132Z"
   },
   {
    "duration": 1011,
    "start_time": "2021-10-26T06:49:49.351Z"
   },
   {
    "duration": 6,
    "start_time": "2021-10-26T06:49:50.366Z"
   },
   {
    "duration": 191,
    "start_time": "2021-10-26T06:49:50.375Z"
   },
   {
    "duration": 1074,
    "start_time": "2021-10-26T06:49:50.568Z"
   },
   {
    "duration": -658,
    "start_time": "2021-10-26T06:49:52.302Z"
   },
   {
    "duration": -661,
    "start_time": "2021-10-26T06:49:52.307Z"
   },
   {
    "duration": -665,
    "start_time": "2021-10-26T06:49:52.312Z"
   },
   {
    "duration": -666,
    "start_time": "2021-10-26T06:49:52.315Z"
   },
   {
    "duration": 172,
    "start_time": "2021-10-26T06:51:09.785Z"
   },
   {
    "duration": 390,
    "start_time": "2021-10-26T06:51:48.958Z"
   },
   {
    "duration": 179,
    "start_time": "2021-10-26T06:52:01.015Z"
   },
   {
    "duration": 343,
    "start_time": "2021-10-26T06:55:31.244Z"
   },
   {
    "duration": 425,
    "start_time": "2021-10-26T06:56:10.057Z"
   },
   {
    "duration": 172,
    "start_time": "2021-10-26T06:57:35.452Z"
   },
   {
    "duration": 171,
    "start_time": "2021-10-26T06:58:18.871Z"
   },
   {
    "duration": 968,
    "start_time": "2021-10-26T06:59:19.465Z"
   },
   {
    "duration": 170,
    "start_time": "2021-10-26T06:59:42.910Z"
   },
   {
    "duration": 175,
    "start_time": "2021-10-26T07:04:03.617Z"
   },
   {
    "duration": 170,
    "start_time": "2021-10-26T07:04:26.156Z"
   },
   {
    "duration": 172,
    "start_time": "2021-10-26T07:04:52.623Z"
   },
   {
    "duration": 172,
    "start_time": "2021-10-26T07:05:15.027Z"
   },
   {
    "duration": 169,
    "start_time": "2021-10-26T07:05:56.079Z"
   },
   {
    "duration": 285,
    "start_time": "2021-10-26T07:06:44.901Z"
   },
   {
    "duration": 105,
    "start_time": "2021-10-26T07:07:03.041Z"
   },
   {
    "duration": 122,
    "start_time": "2021-10-26T07:07:24.619Z"
   },
   {
    "duration": 34,
    "start_time": "2021-10-26T07:07:38.680Z"
   },
   {
    "duration": 530,
    "start_time": "2021-10-26T07:09:01.485Z"
   },
   {
    "duration": 112,
    "start_time": "2021-10-26T07:09:42.008Z"
   },
   {
    "duration": 91,
    "start_time": "2021-10-26T07:09:59.822Z"
   },
   {
    "duration": 73,
    "start_time": "2021-10-26T07:10:08.729Z"
   },
   {
    "duration": 44,
    "start_time": "2021-10-26T07:10:26.363Z"
   },
   {
    "duration": 830,
    "start_time": "2021-10-26T07:12:01.458Z"
   },
   {
    "duration": 654,
    "start_time": "2021-10-26T07:12:02.291Z"
   },
   {
    "duration": 4,
    "start_time": "2021-10-26T07:12:02.948Z"
   },
   {
    "duration": 199,
    "start_time": "2021-10-26T07:12:02.955Z"
   },
   {
    "duration": 195,
    "start_time": "2021-10-26T07:12:03.156Z"
   },
   {
    "duration": 121,
    "start_time": "2021-10-26T07:12:03.353Z"
   },
   {
    "duration": 139,
    "start_time": "2021-10-26T07:12:03.477Z"
   },
   {
    "duration": 41,
    "start_time": "2021-10-26T07:12:03.619Z"
   },
   {
    "duration": 65,
    "start_time": "2021-10-26T07:12:03.664Z"
   },
   {
    "duration": 12,
    "start_time": "2021-10-26T07:21:08.218Z"
   },
   {
    "duration": 56,
    "start_time": "2021-10-26T07:21:31.444Z"
   },
   {
    "duration": 328,
    "start_time": "2021-10-26T07:22:18.824Z"
   },
   {
    "duration": 246,
    "start_time": "2021-10-26T07:22:28.479Z"
   },
   {
    "duration": 60,
    "start_time": "2021-10-26T07:22:46.187Z"
   },
   {
    "duration": -634,
    "start_time": "2021-10-26T07:23:08.286Z"
   },
   {
    "duration": 5469,
    "start_time": "2021-10-26T07:23:11.163Z"
   },
   {
    "duration": 61,
    "start_time": "2021-10-26T07:23:26.650Z"
   },
   {
    "duration": 5430,
    "start_time": "2021-10-26T07:23:49.914Z"
   },
   {
    "duration": 5237,
    "start_time": "2021-10-26T07:24:09.334Z"
   },
   {
    "duration": 15,
    "start_time": "2021-10-26T07:24:23.905Z"
   },
   {
    "duration": 59,
    "start_time": "2021-10-26T07:24:40.333Z"
   },
   {
    "duration": 219,
    "start_time": "2021-10-26T07:25:19.839Z"
   },
   {
    "duration": 817,
    "start_time": "2021-10-26T07:25:30.769Z"
   },
   {
    "duration": 673,
    "start_time": "2021-10-26T07:25:31.589Z"
   },
   {
    "duration": 4,
    "start_time": "2021-10-26T07:25:32.265Z"
   },
   {
    "duration": 190,
    "start_time": "2021-10-26T07:25:32.273Z"
   },
   {
    "duration": 207,
    "start_time": "2021-10-26T07:25:32.466Z"
   },
   {
    "duration": 124,
    "start_time": "2021-10-26T07:25:32.676Z"
   },
   {
    "duration": 146,
    "start_time": "2021-10-26T07:25:32.803Z"
   },
   {
    "duration": 39,
    "start_time": "2021-10-26T07:25:32.954Z"
   },
   {
    "duration": 53,
    "start_time": "2021-10-26T07:25:32.996Z"
   },
   {
    "duration": 839,
    "start_time": "2021-10-26T07:25:58.103Z"
   },
   {
    "duration": 638,
    "start_time": "2021-10-26T07:25:58.944Z"
   },
   {
    "duration": 5,
    "start_time": "2021-10-26T07:25:59.585Z"
   },
   {
    "duration": 180,
    "start_time": "2021-10-26T07:25:59.593Z"
   },
   {
    "duration": 192,
    "start_time": "2021-10-26T07:25:59.776Z"
   },
   {
    "duration": 121,
    "start_time": "2021-10-26T07:25:59.971Z"
   },
   {
    "duration": 135,
    "start_time": "2021-10-26T07:26:00.094Z"
   },
   {
    "duration": 33,
    "start_time": "2021-10-26T07:26:00.232Z"
   },
   {
    "duration": 32,
    "start_time": "2021-10-26T07:26:00.268Z"
   },
   {
    "duration": 302,
    "start_time": "2021-10-26T07:28:04.036Z"
   },
   {
    "duration": 51,
    "start_time": "2021-10-26T07:29:13.685Z"
   },
   {
    "duration": 32,
    "start_time": "2021-10-26T07:29:19.980Z"
   },
   {
    "duration": 27,
    "start_time": "2021-10-26T07:29:54.464Z"
   },
   {
    "duration": 37,
    "start_time": "2021-10-26T07:30:03.458Z"
   },
   {
    "duration": 35,
    "start_time": "2021-10-26T07:30:10.954Z"
   },
   {
    "duration": 123,
    "start_time": "2021-10-26T07:30:19.355Z"
   },
   {
    "duration": 96,
    "start_time": "2021-10-26T07:30:27.573Z"
   },
   {
    "duration": 155,
    "start_time": "2021-10-26T07:30:42.313Z"
   },
   {
    "duration": 170,
    "start_time": "2021-10-26T07:30:50.095Z"
   },
   {
    "duration": 63,
    "start_time": "2021-10-26T07:31:10.882Z"
   },
   {
    "duration": 594,
    "start_time": "2021-10-26T07:31:29.391Z"
   },
   {
    "duration": 631,
    "start_time": "2021-10-26T07:31:47.367Z"
   },
   {
    "duration": 251,
    "start_time": "2021-10-26T07:33:03.194Z"
   },
   {
    "duration": 1169,
    "start_time": "2021-10-26T07:33:25.033Z"
   },
   {
    "duration": 940,
    "start_time": "2021-10-26T07:33:26.205Z"
   },
   {
    "duration": 5,
    "start_time": "2021-10-26T07:33:27.148Z"
   },
   {
    "duration": 174,
    "start_time": "2021-10-26T07:33:27.156Z"
   },
   {
    "duration": 180,
    "start_time": "2021-10-26T07:33:27.333Z"
   },
   {
    "duration": 113,
    "start_time": "2021-10-26T07:33:27.516Z"
   },
   {
    "duration": 134,
    "start_time": "2021-10-26T07:33:27.631Z"
   },
   {
    "duration": 33,
    "start_time": "2021-10-26T07:33:27.769Z"
   },
   {
    "duration": 49,
    "start_time": "2021-10-26T07:33:27.805Z"
   },
   {
    "duration": 337,
    "start_time": "2021-10-26T07:33:27.857Z"
   },
   {
    "duration": 235,
    "start_time": "2021-10-26T07:33:53.509Z"
   },
   {
    "duration": 39,
    "start_time": "2021-10-26T07:39:48.838Z"
   },
   {
    "duration": 778,
    "start_time": "2021-10-26T07:40:10.868Z"
   },
   {
    "duration": 633,
    "start_time": "2021-10-26T07:40:11.649Z"
   },
   {
    "duration": 4,
    "start_time": "2021-10-26T07:40:12.285Z"
   },
   {
    "duration": 148,
    "start_time": "2021-10-26T07:40:12.292Z"
   },
   {
    "duration": 182,
    "start_time": "2021-10-26T07:40:12.443Z"
   },
   {
    "duration": 111,
    "start_time": "2021-10-26T07:40:12.629Z"
   },
   {
    "duration": 134,
    "start_time": "2021-10-26T07:40:12.742Z"
   },
   {
    "duration": 33,
    "start_time": "2021-10-26T07:40:12.879Z"
   },
   {
    "duration": 42,
    "start_time": "2021-10-26T07:40:12.914Z"
   },
   {
    "duration": 38,
    "start_time": "2021-10-26T07:40:12.958Z"
   },
   {
    "duration": 11,
    "start_time": "2021-10-26T07:49:22.955Z"
   },
   {
    "duration": 36,
    "start_time": "2021-10-26T07:49:29.663Z"
   },
   {
    "duration": 309,
    "start_time": "2021-10-26T08:05:01.215Z"
   },
   {
    "duration": 859,
    "start_time": "2021-10-26T08:05:09.095Z"
   },
   {
    "duration": 627,
    "start_time": "2021-10-26T08:05:09.957Z"
   },
   {
    "duration": 5,
    "start_time": "2021-10-26T08:05:10.586Z"
   },
   {
    "duration": 147,
    "start_time": "2021-10-26T08:05:10.593Z"
   },
   {
    "duration": 326,
    "start_time": "2021-10-26T08:05:10.742Z"
   },
   {
    "duration": -608,
    "start_time": "2021-10-26T08:05:11.678Z"
   },
   {
    "duration": -608,
    "start_time": "2021-10-26T08:05:11.680Z"
   },
   {
    "duration": -610,
    "start_time": "2021-10-26T08:05:11.683Z"
   },
   {
    "duration": -610,
    "start_time": "2021-10-26T08:05:11.685Z"
   },
   {
    "duration": -613,
    "start_time": "2021-10-26T08:05:11.689Z"
   },
   {
    "duration": -614,
    "start_time": "2021-10-26T08:05:11.691Z"
   },
   {
    "duration": 182,
    "start_time": "2021-10-26T08:06:52.888Z"
   },
   {
    "duration": 168,
    "start_time": "2021-10-26T08:07:39.718Z"
   },
   {
    "duration": 94,
    "start_time": "2021-10-26T08:08:34.436Z"
   },
   {
    "duration": 788,
    "start_time": "2021-10-26T08:10:42.559Z"
   },
   {
    "duration": 627,
    "start_time": "2021-10-26T08:10:43.350Z"
   },
   {
    "duration": 4,
    "start_time": "2021-10-26T08:10:43.980Z"
   },
   {
    "duration": 146,
    "start_time": "2021-10-26T08:10:43.987Z"
   },
   {
    "duration": 195,
    "start_time": "2021-10-26T08:10:44.136Z"
   },
   {
    "duration": 106,
    "start_time": "2021-10-26T08:10:44.333Z"
   },
   {
    "duration": 133,
    "start_time": "2021-10-26T08:10:44.441Z"
   },
   {
    "duration": 33,
    "start_time": "2021-10-26T08:10:44.577Z"
   },
   {
    "duration": 30,
    "start_time": "2021-10-26T08:10:44.629Z"
   },
   {
    "duration": 40,
    "start_time": "2021-10-26T08:10:44.662Z"
   },
   {
    "duration": 6316,
    "start_time": "2021-10-26T08:10:44.705Z"
   },
   {
    "duration": 5397,
    "start_time": "2021-10-26T08:15:06.199Z"
   },
   {
    "duration": 135,
    "start_time": "2021-10-26T08:15:22.758Z"
   },
   {
    "duration": 812,
    "start_time": "2021-10-26T08:15:38.160Z"
   },
   {
    "duration": 618,
    "start_time": "2021-10-26T08:15:38.974Z"
   },
   {
    "duration": 4,
    "start_time": "2021-10-26T08:15:39.595Z"
   },
   {
    "duration": 163,
    "start_time": "2021-10-26T08:15:39.602Z"
   },
   {
    "duration": 189,
    "start_time": "2021-10-26T08:15:39.767Z"
   },
   {
    "duration": 107,
    "start_time": "2021-10-26T08:15:39.958Z"
   },
   {
    "duration": 139,
    "start_time": "2021-10-26T08:15:40.068Z"
   },
   {
    "duration": 39,
    "start_time": "2021-10-26T08:15:40.210Z"
   },
   {
    "duration": 30,
    "start_time": "2021-10-26T08:15:40.251Z"
   },
   {
    "duration": 63,
    "start_time": "2021-10-26T08:15:40.284Z"
   },
   {
    "duration": 40,
    "start_time": "2021-10-26T08:16:58.641Z"
   },
   {
    "duration": 823,
    "start_time": "2021-10-26T08:17:53.336Z"
   },
   {
    "duration": 619,
    "start_time": "2021-10-26T08:17:54.162Z"
   },
   {
    "duration": 5,
    "start_time": "2021-10-26T08:17:54.784Z"
   },
   {
    "duration": 152,
    "start_time": "2021-10-26T08:17:54.792Z"
   },
   {
    "duration": 193,
    "start_time": "2021-10-26T08:17:54.947Z"
   },
   {
    "duration": 111,
    "start_time": "2021-10-26T08:17:55.143Z"
   },
   {
    "duration": 139,
    "start_time": "2021-10-26T08:17:55.257Z"
   },
   {
    "duration": 47,
    "start_time": "2021-10-26T08:17:55.400Z"
   },
   {
    "duration": 32,
    "start_time": "2021-10-26T08:17:55.450Z"
   },
   {
    "duration": 64,
    "start_time": "2021-10-26T08:17:55.485Z"
   },
   {
    "duration": 39,
    "start_time": "2021-10-26T08:17:55.551Z"
   },
   {
    "duration": 58,
    "start_time": "2021-10-26T08:33:01.501Z"
   },
   {
    "duration": 86,
    "start_time": "2021-10-26T08:33:12.616Z"
   },
   {
    "duration": 75,
    "start_time": "2021-10-26T08:33:54.403Z"
   },
   {
    "duration": 80,
    "start_time": "2021-10-26T08:34:13.078Z"
   },
   {
    "duration": 310,
    "start_time": "2021-10-26T08:35:14.406Z"
   },
   {
    "duration": 210,
    "start_time": "2021-10-26T08:36:51.099Z"
   },
   {
    "duration": 237,
    "start_time": "2021-10-26T08:37:26.582Z"
   },
   {
    "duration": 6,
    "start_time": "2021-10-26T08:40:55.760Z"
   },
   {
    "duration": 40,
    "start_time": "2021-10-26T08:41:19.510Z"
   },
   {
    "duration": 39,
    "start_time": "2021-10-26T08:41:54.616Z"
   },
   {
    "duration": 47,
    "start_time": "2021-10-26T08:47:29.908Z"
   },
   {
    "duration": 43,
    "start_time": "2021-10-26T08:49:34.578Z"
   },
   {
    "duration": 788,
    "start_time": "2021-10-26T08:49:47.460Z"
   },
   {
    "duration": 624,
    "start_time": "2021-10-26T08:49:48.250Z"
   },
   {
    "duration": 4,
    "start_time": "2021-10-26T08:49:48.877Z"
   },
   {
    "duration": 150,
    "start_time": "2021-10-26T08:49:48.883Z"
   },
   {
    "duration": 186,
    "start_time": "2021-10-26T08:49:49.035Z"
   },
   {
    "duration": 102,
    "start_time": "2021-10-26T08:49:49.228Z"
   },
   {
    "duration": 140,
    "start_time": "2021-10-26T08:49:49.333Z"
   },
   {
    "duration": 54,
    "start_time": "2021-10-26T08:49:49.476Z"
   },
   {
    "duration": 30,
    "start_time": "2021-10-26T08:49:49.533Z"
   },
   {
    "duration": 37,
    "start_time": "2021-10-26T08:49:49.566Z"
   },
   {
    "duration": 47,
    "start_time": "2021-10-26T08:49:49.629Z"
   },
   {
    "duration": 70,
    "start_time": "2021-10-26T08:49:49.679Z"
   },
   {
    "duration": 953,
    "start_time": "2021-10-26T08:52:04.614Z"
   },
   {
    "duration": 652,
    "start_time": "2021-10-26T08:52:05.570Z"
   },
   {
    "duration": 3,
    "start_time": "2021-10-26T08:52:06.225Z"
   },
   {
    "duration": 151,
    "start_time": "2021-10-26T08:52:06.231Z"
   },
   {
    "duration": 195,
    "start_time": "2021-10-26T08:52:06.385Z"
   },
   {
    "duration": 112,
    "start_time": "2021-10-26T08:52:06.583Z"
   },
   {
    "duration": 139,
    "start_time": "2021-10-26T08:52:06.697Z"
   },
   {
    "duration": 36,
    "start_time": "2021-10-26T08:52:06.840Z"
   },
   {
    "duration": 52,
    "start_time": "2021-10-26T08:52:06.878Z"
   },
   {
    "duration": 42,
    "start_time": "2021-10-26T08:52:06.932Z"
   },
   {
    "duration": 69,
    "start_time": "2021-10-26T08:52:06.976Z"
   },
   {
    "duration": 43,
    "start_time": "2021-10-26T08:52:07.047Z"
   },
   {
    "duration": 18,
    "start_time": "2021-10-26T08:53:35.981Z"
   },
   {
    "duration": 39,
    "start_time": "2021-10-26T08:56:00.078Z"
   },
   {
    "duration": 12,
    "start_time": "2021-10-26T08:56:09.866Z"
   },
   {
    "duration": 14,
    "start_time": "2021-10-26T08:56:33.426Z"
   },
   {
    "duration": 13,
    "start_time": "2021-10-26T08:57:10.578Z"
   },
   {
    "duration": 763,
    "start_time": "2021-10-26T08:57:26.874Z"
   },
   {
    "duration": 636,
    "start_time": "2021-10-26T08:57:27.640Z"
   },
   {
    "duration": 5,
    "start_time": "2021-10-26T08:57:28.281Z"
   },
   {
    "duration": 150,
    "start_time": "2021-10-26T08:57:28.288Z"
   },
   {
    "duration": 189,
    "start_time": "2021-10-26T08:57:28.441Z"
   },
   {
    "duration": 104,
    "start_time": "2021-10-26T08:57:28.632Z"
   },
   {
    "duration": 141,
    "start_time": "2021-10-26T08:57:28.738Z"
   },
   {
    "duration": 45,
    "start_time": "2021-10-26T08:57:28.883Z"
   },
   {
    "duration": 10,
    "start_time": "2021-10-26T08:57:28.930Z"
   },
   {
    "duration": 11,
    "start_time": "2021-10-26T08:57:28.942Z"
   },
   {
    "duration": 29,
    "start_time": "2021-10-26T08:57:28.955Z"
   },
   {
    "duration": 68,
    "start_time": "2021-10-26T08:57:28.986Z"
   },
   {
    "duration": 46,
    "start_time": "2021-10-26T08:57:29.056Z"
   },
   {
    "duration": 43,
    "start_time": "2021-10-26T08:57:29.129Z"
   },
   {
    "duration": 847,
    "start_time": "2021-10-26T08:58:52.501Z"
   },
   {
    "duration": 647,
    "start_time": "2021-10-26T08:58:53.351Z"
   },
   {
    "duration": 5,
    "start_time": "2021-10-26T08:58:54.002Z"
   },
   {
    "duration": 159,
    "start_time": "2021-10-26T08:58:54.010Z"
   },
   {
    "duration": 193,
    "start_time": "2021-10-26T08:58:54.172Z"
   },
   {
    "duration": 111,
    "start_time": "2021-10-26T08:58:54.367Z"
   },
   {
    "duration": 135,
    "start_time": "2021-10-26T08:58:54.481Z"
   },
   {
    "duration": 42,
    "start_time": "2021-10-26T08:58:54.619Z"
   },
   {
    "duration": 10,
    "start_time": "2021-10-26T08:58:54.663Z"
   },
   {
    "duration": 21,
    "start_time": "2021-10-26T08:58:54.676Z"
   },
   {
    "duration": 61,
    "start_time": "2021-10-26T08:58:54.699Z"
   },
   {
    "duration": 37,
    "start_time": "2021-10-26T08:58:54.762Z"
   },
   {
    "duration": 69,
    "start_time": "2021-10-26T08:58:54.801Z"
   },
   {
    "duration": 61,
    "start_time": "2021-10-26T08:58:54.872Z"
   },
   {
    "duration": 816,
    "start_time": "2021-10-26T08:59:15.581Z"
   },
   {
    "duration": 639,
    "start_time": "2021-10-26T08:59:16.399Z"
   },
   {
    "duration": 4,
    "start_time": "2021-10-26T08:59:17.041Z"
   },
   {
    "duration": 181,
    "start_time": "2021-10-26T08:59:17.048Z"
   },
   {
    "duration": 191,
    "start_time": "2021-10-26T08:59:17.231Z"
   },
   {
    "duration": 106,
    "start_time": "2021-10-26T08:59:17.424Z"
   },
   {
    "duration": 139,
    "start_time": "2021-10-26T08:59:17.532Z"
   },
   {
    "duration": 34,
    "start_time": "2021-10-26T08:59:17.674Z"
   },
   {
    "duration": 22,
    "start_time": "2021-10-26T08:59:17.710Z"
   },
   {
    "duration": 10,
    "start_time": "2021-10-26T08:59:17.734Z"
   },
   {
    "duration": 28,
    "start_time": "2021-10-26T08:59:17.747Z"
   },
   {
    "duration": 70,
    "start_time": "2021-10-26T08:59:17.777Z"
   },
   {
    "duration": 45,
    "start_time": "2021-10-26T08:59:17.849Z"
   },
   {
    "duration": 65,
    "start_time": "2021-10-26T08:59:17.897Z"
   },
   {
    "duration": 837,
    "start_time": "2021-10-26T09:00:19.182Z"
   },
   {
    "duration": 636,
    "start_time": "2021-10-26T09:00:20.021Z"
   },
   {
    "duration": 4,
    "start_time": "2021-10-26T09:00:20.660Z"
   },
   {
    "duration": 179,
    "start_time": "2021-10-26T09:00:20.667Z"
   },
   {
    "duration": 196,
    "start_time": "2021-10-26T09:00:20.848Z"
   },
   {
    "duration": 112,
    "start_time": "2021-10-26T09:00:21.046Z"
   },
   {
    "duration": 136,
    "start_time": "2021-10-26T09:00:21.161Z"
   },
   {
    "duration": 45,
    "start_time": "2021-10-26T09:00:21.299Z"
   },
   {
    "duration": 11,
    "start_time": "2021-10-26T09:00:21.349Z"
   },
   {
    "duration": 18,
    "start_time": "2021-10-26T09:00:21.363Z"
   },
   {
    "duration": 63,
    "start_time": "2021-10-26T09:00:21.384Z"
   },
   {
    "duration": 39,
    "start_time": "2021-10-26T09:00:21.450Z"
   },
   {
    "duration": 76,
    "start_time": "2021-10-26T09:00:21.492Z"
   },
   {
    "duration": 63,
    "start_time": "2021-10-26T09:00:21.571Z"
   },
   {
    "duration": 803,
    "start_time": "2021-10-26T09:03:51.050Z"
   },
   {
    "duration": 637,
    "start_time": "2021-10-26T09:03:51.855Z"
   },
   {
    "duration": 4,
    "start_time": "2021-10-26T09:03:52.495Z"
   },
   {
    "duration": 158,
    "start_time": "2021-10-26T09:03:52.502Z"
   },
   {
    "duration": 5104,
    "start_time": "2021-10-26T09:03:52.662Z"
   },
   {
    "duration": -572,
    "start_time": "2021-10-26T09:03:58.342Z"
   },
   {
    "duration": -575,
    "start_time": "2021-10-26T09:03:58.347Z"
   },
   {
    "duration": -577,
    "start_time": "2021-10-26T09:03:58.351Z"
   },
   {
    "duration": -577,
    "start_time": "2021-10-26T09:03:58.354Z"
   },
   {
    "duration": -579,
    "start_time": "2021-10-26T09:03:58.358Z"
   },
   {
    "duration": -580,
    "start_time": "2021-10-26T09:03:58.361Z"
   },
   {
    "duration": -584,
    "start_time": "2021-10-26T09:03:58.367Z"
   },
   {
    "duration": -584,
    "start_time": "2021-10-26T09:03:58.370Z"
   },
   {
    "duration": -585,
    "start_time": "2021-10-26T09:03:58.373Z"
   },
   {
    "duration": -585,
    "start_time": "2021-10-26T09:03:58.375Z"
   },
   {
    "duration": 869,
    "start_time": "2021-10-26T09:04:31.100Z"
   },
   {
    "duration": 655,
    "start_time": "2021-10-26T09:04:31.971Z"
   },
   {
    "duration": 4,
    "start_time": "2021-10-26T09:04:32.629Z"
   },
   {
    "duration": 165,
    "start_time": "2021-10-26T09:04:32.636Z"
   },
   {
    "duration": 26,
    "start_time": "2021-10-26T09:04:32.804Z"
   },
   {
    "duration": 198,
    "start_time": "2021-10-26T09:04:32.832Z"
   },
   {
    "duration": 112,
    "start_time": "2021-10-26T09:04:33.032Z"
   },
   {
    "duration": 146,
    "start_time": "2021-10-26T09:04:33.148Z"
   },
   {
    "duration": 49,
    "start_time": "2021-10-26T09:04:33.297Z"
   },
   {
    "duration": 9,
    "start_time": "2021-10-26T09:04:33.349Z"
   },
   {
    "duration": 14,
    "start_time": "2021-10-26T09:04:33.361Z"
   },
   {
    "duration": 65,
    "start_time": "2021-10-26T09:04:33.378Z"
   },
   {
    "duration": 40,
    "start_time": "2021-10-26T09:04:33.446Z"
   },
   {
    "duration": 72,
    "start_time": "2021-10-26T09:04:33.489Z"
   },
   {
    "duration": 66,
    "start_time": "2021-10-26T09:04:33.564Z"
   },
   {
    "duration": 54,
    "start_time": "2021-10-26T09:07:57.058Z"
   },
   {
    "duration": 51,
    "start_time": "2021-10-26T09:08:39.679Z"
   },
   {
    "duration": 8,
    "start_time": "2021-10-26T09:09:37.772Z"
   },
   {
    "duration": 32,
    "start_time": "2021-10-26T09:09:43.044Z"
   },
   {
    "duration": 29,
    "start_time": "2021-10-26T09:10:06.713Z"
   },
   {
    "duration": 837,
    "start_time": "2021-10-26T09:10:59.889Z"
   },
   {
    "duration": 4,
    "start_time": "2021-10-26T09:11:00.730Z"
   },
   {
    "duration": 714,
    "start_time": "2021-10-26T09:11:00.739Z"
   },
   {
    "duration": 4,
    "start_time": "2021-10-26T09:11:01.456Z"
   },
   {
    "duration": 180,
    "start_time": "2021-10-26T09:11:01.462Z"
   },
   {
    "duration": 12,
    "start_time": "2021-10-26T09:11:01.644Z"
   },
   {
    "duration": 224,
    "start_time": "2021-10-26T09:11:01.659Z"
   },
   {
    "duration": 113,
    "start_time": "2021-10-26T09:11:01.886Z"
   },
   {
    "duration": 151,
    "start_time": "2021-10-26T09:11:02.002Z"
   },
   {
    "duration": 36,
    "start_time": "2021-10-26T09:11:02.155Z"
   },
   {
    "duration": 22,
    "start_time": "2021-10-26T09:11:02.194Z"
   },
   {
    "duration": 18,
    "start_time": "2021-10-26T09:11:02.229Z"
   },
   {
    "duration": 37,
    "start_time": "2021-10-26T09:11:02.249Z"
   },
   {
    "duration": 65,
    "start_time": "2021-10-26T09:11:02.289Z"
   },
   {
    "duration": 47,
    "start_time": "2021-10-26T09:11:02.356Z"
   },
   {
    "duration": 48,
    "start_time": "2021-10-26T09:11:02.429Z"
   },
   {
    "duration": 24,
    "start_time": "2021-10-26T09:11:02.479Z"
   },
   {
    "duration": 16,
    "start_time": "2021-10-26T09:11:39.585Z"
   },
   {
    "duration": 16,
    "start_time": "2021-10-26T09:11:50.209Z"
   },
   {
    "duration": 14,
    "start_time": "2021-10-26T09:11:54.617Z"
   },
   {
    "duration": 34,
    "start_time": "2021-10-26T09:12:03.587Z"
   },
   {
    "duration": 62,
    "start_time": "2021-10-26T09:15:00.589Z"
   },
   {
    "duration": 878,
    "start_time": "2021-10-26T09:15:08.000Z"
   },
   {
    "duration": 4,
    "start_time": "2021-10-26T09:15:08.880Z"
   },
   {
    "duration": 657,
    "start_time": "2021-10-26T09:15:08.886Z"
   },
   {
    "duration": 5,
    "start_time": "2021-10-26T09:15:09.546Z"
   },
   {
    "duration": 177,
    "start_time": "2021-10-26T09:15:09.553Z"
   },
   {
    "duration": 10,
    "start_time": "2021-10-26T09:15:09.733Z"
   },
   {
    "duration": 207,
    "start_time": "2021-10-26T09:15:09.746Z"
   },
   {
    "duration": 113,
    "start_time": "2021-10-26T09:15:09.956Z"
   },
   {
    "duration": 149,
    "start_time": "2021-10-26T09:15:10.072Z"
   },
   {
    "duration": 36,
    "start_time": "2021-10-26T09:15:10.224Z"
   },
   {
    "duration": 10,
    "start_time": "2021-10-26T09:15:10.262Z"
   },
   {
    "duration": 13,
    "start_time": "2021-10-26T09:15:10.274Z"
   },
   {
    "duration": 91,
    "start_time": "2021-10-26T09:15:10.290Z"
   },
   {
    "duration": 71,
    "start_time": "2021-10-26T09:15:10.385Z"
   },
   {
    "duration": 52,
    "start_time": "2021-10-26T09:15:10.459Z"
   },
   {
    "duration": 49,
    "start_time": "2021-10-26T09:15:10.529Z"
   },
   {
    "duration": 54,
    "start_time": "2021-10-26T09:15:10.580Z"
   },
   {
    "duration": 311,
    "start_time": "2021-10-26T09:18:47.848Z"
   },
   {
    "duration": 14,
    "start_time": "2021-10-26T09:18:59.130Z"
   },
   {
    "duration": 16,
    "start_time": "2021-10-26T09:19:35.213Z"
   },
   {
    "duration": 798,
    "start_time": "2021-10-26T09:26:51.640Z"
   },
   {
    "duration": 4,
    "start_time": "2021-10-26T09:26:52.440Z"
   },
   {
    "duration": 651,
    "start_time": "2021-10-26T09:26:52.447Z"
   },
   {
    "duration": 4,
    "start_time": "2021-10-26T09:26:53.100Z"
   },
   {
    "duration": 149,
    "start_time": "2021-10-26T09:26:53.106Z"
   },
   {
    "duration": 11,
    "start_time": "2021-10-26T09:26:53.258Z"
   },
   {
    "duration": 223,
    "start_time": "2021-10-26T09:26:53.271Z"
   },
   {
    "duration": 108,
    "start_time": "2021-10-26T09:26:53.496Z"
   },
   {
    "duration": 141,
    "start_time": "2021-10-26T09:26:53.608Z"
   },
   {
    "duration": 37,
    "start_time": "2021-10-26T09:26:53.751Z"
   },
   {
    "duration": 12,
    "start_time": "2021-10-26T09:26:53.791Z"
   },
   {
    "duration": 38,
    "start_time": "2021-10-26T09:26:53.805Z"
   },
   {
    "duration": 39,
    "start_time": "2021-10-26T09:26:53.846Z"
   },
   {
    "duration": 46,
    "start_time": "2021-10-26T09:26:53.887Z"
   },
   {
    "duration": 46,
    "start_time": "2021-10-26T09:26:53.936Z"
   },
   {
    "duration": 77,
    "start_time": "2021-10-26T09:26:53.984Z"
   },
   {
    "duration": 359,
    "start_time": "2021-10-26T09:26:54.063Z"
   },
   {
    "duration": -570,
    "start_time": "2021-10-26T09:26:54.995Z"
   },
   {
    "duration": 53,
    "start_time": "2021-10-26T09:27:45.487Z"
   },
   {
    "duration": 36,
    "start_time": "2021-10-26T09:27:50.750Z"
   },
   {
    "duration": 16,
    "start_time": "2021-10-26T09:30:05.883Z"
   },
   {
    "duration": 46,
    "start_time": "2021-10-26T09:30:19.086Z"
   },
   {
    "duration": 51,
    "start_time": "2021-10-26T09:35:01.571Z"
   },
   {
    "duration": 29,
    "start_time": "2021-10-26T09:35:47.863Z"
   },
   {
    "duration": 235,
    "start_time": "2021-10-26T09:50:52.083Z"
   },
   {
    "duration": 793,
    "start_time": "2021-10-26T09:50:57.868Z"
   },
   {
    "duration": 4,
    "start_time": "2021-10-26T09:50:58.663Z"
   },
   {
    "duration": 654,
    "start_time": "2021-10-26T09:50:58.670Z"
   },
   {
    "duration": 4,
    "start_time": "2021-10-26T09:50:59.327Z"
   },
   {
    "duration": 157,
    "start_time": "2021-10-26T09:50:59.333Z"
   },
   {
    "duration": 11,
    "start_time": "2021-10-26T09:50:59.493Z"
   },
   {
    "duration": 206,
    "start_time": "2021-10-26T09:50:59.506Z"
   },
   {
    "duration": 104,
    "start_time": "2021-10-26T09:50:59.715Z"
   },
   {
    "duration": 142,
    "start_time": "2021-10-26T09:50:59.829Z"
   },
   {
    "duration": 34,
    "start_time": "2021-10-26T09:50:59.973Z"
   },
   {
    "duration": 22,
    "start_time": "2021-10-26T09:51:00.010Z"
   },
   {
    "duration": 15,
    "start_time": "2021-10-26T09:51:00.034Z"
   },
   {
    "duration": 38,
    "start_time": "2021-10-26T09:51:00.052Z"
   },
   {
    "duration": 50,
    "start_time": "2021-10-26T09:51:00.093Z"
   },
   {
    "duration": 58,
    "start_time": "2021-10-26T09:51:00.146Z"
   },
   {
    "duration": 66,
    "start_time": "2021-10-26T09:51:00.207Z"
   },
   {
    "duration": 75,
    "start_time": "2021-10-26T09:51:00.275Z"
   },
   {
    "duration": 33,
    "start_time": "2021-10-26T09:51:00.353Z"
   },
   {
    "duration": 49,
    "start_time": "2021-10-26T09:51:45.749Z"
   },
   {
    "duration": 31,
    "start_time": "2021-10-26T09:51:49.805Z"
   },
   {
    "duration": 32,
    "start_time": "2021-10-26T09:52:11.511Z"
   },
   {
    "duration": 29,
    "start_time": "2021-10-26T09:52:43.820Z"
   },
   {
    "duration": 39,
    "start_time": "2021-10-26T09:54:08.437Z"
   },
   {
    "duration": 33,
    "start_time": "2021-10-26T09:54:21.457Z"
   },
   {
    "duration": 92,
    "start_time": "2021-10-26T09:55:58.428Z"
   },
   {
    "duration": 70,
    "start_time": "2021-10-26T09:58:52.803Z"
   },
   {
    "duration": 902,
    "start_time": "2021-10-26T09:59:02.732Z"
   },
   {
    "duration": 782,
    "start_time": "2021-10-26T09:59:23.238Z"
   },
   {
    "duration": 58,
    "start_time": "2021-10-26T09:59:41.948Z"
   },
   {
    "duration": 34,
    "start_time": "2021-10-26T10:00:58.706Z"
   },
   {
    "duration": 33,
    "start_time": "2021-10-26T10:01:32.290Z"
   },
   {
    "duration": 28,
    "start_time": "2021-10-26T10:02:08.310Z"
   },
   {
    "duration": 30,
    "start_time": "2021-10-26T10:02:30.689Z"
   },
   {
    "duration": 287,
    "start_time": "2021-10-26T15:35:05.950Z"
   },
   {
    "duration": 808,
    "start_time": "2021-10-26T15:35:14.652Z"
   },
   {
    "duration": 4,
    "start_time": "2021-10-26T15:35:15.462Z"
   },
   {
    "duration": 646,
    "start_time": "2021-10-26T15:35:15.469Z"
   },
   {
    "duration": 4,
    "start_time": "2021-10-26T15:35:16.117Z"
   },
   {
    "duration": 150,
    "start_time": "2021-10-26T15:35:16.123Z"
   },
   {
    "duration": 11,
    "start_time": "2021-10-26T15:35:16.275Z"
   },
   {
    "duration": 209,
    "start_time": "2021-10-26T15:35:16.289Z"
   },
   {
    "duration": 113,
    "start_time": "2021-10-26T15:35:16.501Z"
   },
   {
    "duration": 147,
    "start_time": "2021-10-26T15:35:16.619Z"
   },
   {
    "duration": 35,
    "start_time": "2021-10-26T15:35:16.769Z"
   },
   {
    "duration": 27,
    "start_time": "2021-10-26T15:35:16.806Z"
   },
   {
    "duration": 16,
    "start_time": "2021-10-26T15:35:16.835Z"
   },
   {
    "duration": 40,
    "start_time": "2021-10-26T15:35:16.853Z"
   },
   {
    "duration": 42,
    "start_time": "2021-10-26T15:35:16.895Z"
   },
   {
    "duration": 43,
    "start_time": "2021-10-26T15:35:16.940Z"
   },
   {
    "duration": 79,
    "start_time": "2021-10-26T15:35:16.985Z"
   },
   {
    "duration": 68,
    "start_time": "2021-10-26T15:35:17.067Z"
   },
   {
    "duration": 14,
    "start_time": "2021-10-26T15:35:17.137Z"
   },
   {
    "duration": 15,
    "start_time": "2021-10-26T15:35:23.404Z"
   },
   {
    "duration": 18,
    "start_time": "2021-10-26T15:35:32.928Z"
   },
   {
    "duration": 39,
    "start_time": "2021-10-26T15:37:42.330Z"
   },
   {
    "duration": 58,
    "start_time": "2021-10-26T16:01:46.039Z"
   },
   {
    "duration": 27,
    "start_time": "2021-10-26T16:03:17.112Z"
   },
   {
    "duration": 28,
    "start_time": "2021-10-26T16:34:18.891Z"
   },
   {
    "duration": 27,
    "start_time": "2021-10-26T16:36:55.216Z"
   },
   {
    "duration": 23,
    "start_time": "2021-10-26T16:43:40.266Z"
   },
   {
    "duration": 22,
    "start_time": "2021-10-26T16:43:55.223Z"
   },
   {
    "duration": 5778,
    "start_time": "2021-10-26T16:46:50.682Z"
   },
   {
    "duration": 269,
    "start_time": "2021-10-26T16:50:13.768Z"
   },
   {
    "duration": 4,
    "start_time": "2021-10-26T16:53:11.574Z"
   },
   {
    "duration": 48,
    "start_time": "2021-10-26T16:53:12.664Z"
   },
   {
    "duration": 235,
    "start_time": "2021-10-26T16:55:09.253Z"
   },
   {
    "duration": 6,
    "start_time": "2021-10-26T16:55:12.138Z"
   },
   {
    "duration": 67,
    "start_time": "2021-10-26T16:55:13.090Z"
   },
   {
    "duration": 69,
    "start_time": "2021-10-26T16:59:30.758Z"
   },
   {
    "duration": 81,
    "start_time": "2021-10-26T17:01:00.762Z"
   },
   {
    "duration": 751,
    "start_time": "2021-10-26T17:16:23.566Z"
   },
   {
    "duration": 1456,
    "start_time": "2021-10-26T17:16:37.151Z"
   },
   {
    "duration": 4,
    "start_time": "2021-10-26T17:16:38.610Z"
   },
   {
    "duration": 659,
    "start_time": "2021-10-26T17:16:38.617Z"
   },
   {
    "duration": 4,
    "start_time": "2021-10-26T17:16:39.279Z"
   },
   {
    "duration": 155,
    "start_time": "2021-10-26T17:16:39.286Z"
   },
   {
    "duration": 12,
    "start_time": "2021-10-26T17:16:39.444Z"
   },
   {
    "duration": 207,
    "start_time": "2021-10-26T17:16:39.458Z"
   },
   {
    "duration": 108,
    "start_time": "2021-10-26T17:16:39.668Z"
   },
   {
    "duration": 141,
    "start_time": "2021-10-26T17:16:39.780Z"
   },
   {
    "duration": 35,
    "start_time": "2021-10-26T17:16:39.924Z"
   },
   {
    "duration": 10,
    "start_time": "2021-10-26T17:16:39.961Z"
   },
   {
    "duration": 16,
    "start_time": "2021-10-26T17:16:39.973Z"
   },
   {
    "duration": 74,
    "start_time": "2021-10-26T17:16:39.991Z"
   },
   {
    "duration": 9,
    "start_time": "2021-10-26T17:16:40.068Z"
   },
   {
    "duration": 74,
    "start_time": "2021-10-26T17:16:40.079Z"
   },
   {
    "duration": 51,
    "start_time": "2021-10-26T17:16:40.156Z"
   },
   {
    "duration": 52,
    "start_time": "2021-10-26T17:16:40.229Z"
   },
   {
    "duration": 4,
    "start_time": "2021-10-26T17:16:40.284Z"
   },
   {
    "duration": 105,
    "start_time": "2021-10-26T17:16:40.290Z"
   },
   {
    "duration": 831,
    "start_time": "2021-10-26T17:16:40.397Z"
   },
   {
    "duration": 620,
    "start_time": "2021-10-26T17:18:21.075Z"
   },
   {
    "duration": 1449,
    "start_time": "2021-10-26T17:26:23.754Z"
   },
   {
    "duration": 5,
    "start_time": "2021-10-26T17:26:25.206Z"
   },
   {
    "duration": 995,
    "start_time": "2021-10-26T17:26:25.214Z"
   },
   {
    "duration": 4,
    "start_time": "2021-10-26T17:26:26.212Z"
   },
   {
    "duration": 157,
    "start_time": "2021-10-26T17:26:26.218Z"
   },
   {
    "duration": 11,
    "start_time": "2021-10-26T17:26:26.377Z"
   },
   {
    "duration": 211,
    "start_time": "2021-10-26T17:26:26.390Z"
   },
   {
    "duration": 112,
    "start_time": "2021-10-26T17:26:26.605Z"
   },
   {
    "duration": 144,
    "start_time": "2021-10-26T17:26:26.719Z"
   },
   {
    "duration": 36,
    "start_time": "2021-10-26T17:26:26.865Z"
   },
   {
    "duration": 30,
    "start_time": "2021-10-26T17:26:26.903Z"
   },
   {
    "duration": 15,
    "start_time": "2021-10-26T17:26:26.935Z"
   },
   {
    "duration": 78,
    "start_time": "2021-10-26T17:26:26.953Z"
   },
   {
    "duration": 10,
    "start_time": "2021-10-26T17:26:27.033Z"
   },
   {
    "duration": 44,
    "start_time": "2021-10-26T17:26:27.046Z"
   },
   {
    "duration": 83,
    "start_time": "2021-10-26T17:26:27.092Z"
   },
   {
    "duration": 73,
    "start_time": "2021-10-26T17:26:27.177Z"
   },
   {
    "duration": 4,
    "start_time": "2021-10-26T17:26:27.252Z"
   },
   {
    "duration": 113,
    "start_time": "2021-10-26T17:26:27.258Z"
   },
   {
    "duration": 824,
    "start_time": "2021-10-26T17:26:27.374Z"
   },
   {
    "duration": 2744,
    "start_time": "2021-10-26T17:29:09.661Z"
   },
   {
    "duration": 761,
    "start_time": "2021-10-26T17:29:36.830Z"
   },
   {
    "duration": 712,
    "start_time": "2021-10-26T17:29:55.736Z"
   },
   {
    "duration": 788,
    "start_time": "2021-10-26T17:30:14.602Z"
   },
   {
    "duration": 784,
    "start_time": "2021-10-26T17:32:29.433Z"
   },
   {
    "duration": 775,
    "start_time": "2021-10-26T17:36:54.672Z"
   },
   {
    "duration": 772,
    "start_time": "2021-10-26T17:37:04.185Z"
   },
   {
    "duration": 873,
    "start_time": "2021-10-26T17:37:20.883Z"
   },
   {
    "duration": 779,
    "start_time": "2021-10-26T17:37:55.650Z"
   },
   {
    "duration": 787,
    "start_time": "2021-10-26T17:42:20.751Z"
   },
   {
    "duration": 783,
    "start_time": "2021-10-26T17:43:30.866Z"
   },
   {
    "duration": 959,
    "start_time": "2021-10-26T17:43:42.848Z"
   },
   {
    "duration": 875,
    "start_time": "2021-10-26T17:44:38.354Z"
   },
   {
    "duration": 935,
    "start_time": "2021-10-26T17:44:48.890Z"
   },
   {
    "duration": 806,
    "start_time": "2021-10-26T17:45:27.093Z"
   },
   {
    "duration": 821,
    "start_time": "2021-10-26T17:45:41.308Z"
   },
   {
    "duration": 872,
    "start_time": "2021-10-26T17:45:58.189Z"
   },
   {
    "duration": 6166,
    "start_time": "2021-10-26T17:48:19.030Z"
   },
   {
    "duration": 6936,
    "start_time": "2021-10-26T17:49:09.700Z"
   },
   {
    "duration": 5991,
    "start_time": "2021-10-26T17:49:41.041Z"
   },
   {
    "duration": 6,
    "start_time": "2021-10-26T18:00:15.871Z"
   },
   {
    "duration": 1056,
    "start_time": "2021-10-26T18:00:36.168Z"
   },
   {
    "duration": 6,
    "start_time": "2021-10-26T18:01:27.440Z"
   },
   {
    "duration": 2406,
    "start_time": "2021-10-26T18:01:29.298Z"
   },
   {
    "duration": 2273,
    "start_time": "2021-10-26T18:01:47.924Z"
   },
   {
    "duration": 2307,
    "start_time": "2021-10-26T18:02:12.693Z"
   },
   {
    "duration": 1078,
    "start_time": "2021-10-26T18:02:31.055Z"
   },
   {
    "duration": 2421,
    "start_time": "2021-10-26T18:02:38.824Z"
   },
   {
    "duration": 5,
    "start_time": "2021-10-26T18:03:25.791Z"
   },
   {
    "duration": 1223,
    "start_time": "2021-10-26T18:03:27.598Z"
   },
   {
    "duration": 6,
    "start_time": "2021-10-26T18:04:30.351Z"
   },
   {
    "duration": 1212,
    "start_time": "2021-10-26T18:04:31.352Z"
   },
   {
    "duration": 7,
    "start_time": "2021-10-26T18:05:00.810Z"
   },
   {
    "duration": 2415,
    "start_time": "2021-10-26T18:05:01.852Z"
   },
   {
    "duration": 1463,
    "start_time": "2021-10-26T18:05:18.632Z"
   },
   {
    "duration": 4,
    "start_time": "2021-10-26T18:05:20.098Z"
   },
   {
    "duration": 672,
    "start_time": "2021-10-26T18:05:20.105Z"
   },
   {
    "duration": 4,
    "start_time": "2021-10-26T18:05:20.780Z"
   },
   {
    "duration": 164,
    "start_time": "2021-10-26T18:05:20.787Z"
   },
   {
    "duration": 12,
    "start_time": "2021-10-26T18:05:20.954Z"
   },
   {
    "duration": 211,
    "start_time": "2021-10-26T18:05:20.970Z"
   },
   {
    "duration": 112,
    "start_time": "2021-10-26T18:05:21.186Z"
   },
   {
    "duration": 137,
    "start_time": "2021-10-26T18:05:21.301Z"
   },
   {
    "duration": 34,
    "start_time": "2021-10-26T18:05:21.441Z"
   },
   {
    "duration": 9,
    "start_time": "2021-10-26T18:05:21.477Z"
   },
   {
    "duration": 49,
    "start_time": "2021-10-26T18:05:21.488Z"
   },
   {
    "duration": 36,
    "start_time": "2021-10-26T18:05:21.540Z"
   },
   {
    "duration": 10,
    "start_time": "2021-10-26T18:05:21.578Z"
   },
   {
    "duration": 74,
    "start_time": "2021-10-26T18:05:21.590Z"
   },
   {
    "duration": 64,
    "start_time": "2021-10-26T18:05:21.666Z"
   },
   {
    "duration": 50,
    "start_time": "2021-10-26T18:05:21.733Z"
   },
   {
    "duration": 4,
    "start_time": "2021-10-26T18:05:21.785Z"
   },
   {
    "duration": 106,
    "start_time": "2021-10-26T18:05:21.791Z"
   },
   {
    "duration": 6,
    "start_time": "2021-10-26T18:05:21.899Z"
   },
   {
    "duration": 2225,
    "start_time": "2021-10-26T18:05:21.907Z"
   },
   {
    "duration": 8,
    "start_time": "2021-10-26T18:06:35.594Z"
   },
   {
    "duration": 1402,
    "start_time": "2021-10-26T18:06:37.584Z"
   },
   {
    "duration": 6,
    "start_time": "2021-10-26T18:07:55.770Z"
   },
   {
    "duration": 1847,
    "start_time": "2021-10-26T18:07:56.682Z"
   },
   {
    "duration": 6,
    "start_time": "2021-10-26T18:10:24.182Z"
   },
   {
    "duration": 1196,
    "start_time": "2021-10-26T18:10:26.030Z"
   },
   {
    "duration": 104,
    "start_time": "2021-10-26T18:12:14.349Z"
   },
   {
    "duration": 6,
    "start_time": "2021-10-26T18:12:21.839Z"
   },
   {
    "duration": 2268,
    "start_time": "2021-10-26T18:12:23.569Z"
   },
   {
    "duration": 6,
    "start_time": "2021-10-26T18:13:01.271Z"
   },
   {
    "duration": 2265,
    "start_time": "2021-10-26T18:13:02.600Z"
   },
   {
    "duration": 6,
    "start_time": "2021-10-26T18:16:01.322Z"
   },
   {
    "duration": 1219,
    "start_time": "2021-10-26T18:16:02.561Z"
   },
   {
    "duration": 227,
    "start_time": "2021-10-26T18:17:31.109Z"
   },
   {
    "duration": 225,
    "start_time": "2021-10-26T18:17:42.492Z"
   },
   {
    "duration": 6,
    "start_time": "2021-10-26T18:18:32.412Z"
   },
   {
    "duration": 1316,
    "start_time": "2021-10-26T18:18:33.988Z"
   },
   {
    "duration": 6,
    "start_time": "2021-10-26T18:18:51.597Z"
   },
   {
    "duration": 2273,
    "start_time": "2021-10-26T18:18:52.598Z"
   },
   {
    "duration": 6,
    "start_time": "2021-10-26T18:19:20.543Z"
   },
   {
    "duration": 1694,
    "start_time": "2021-10-26T18:19:22.240Z"
   },
   {
    "duration": 6,
    "start_time": "2021-10-26T18:19:28.448Z"
   },
   {
    "duration": 2304,
    "start_time": "2021-10-26T18:19:31.954Z"
   },
   {
    "duration": 6,
    "start_time": "2021-10-26T18:20:14.431Z"
   },
   {
    "duration": 1018,
    "start_time": "2021-10-26T18:20:15.286Z"
   },
   {
    "duration": 6,
    "start_time": "2021-10-26T18:20:40.450Z"
   },
   {
    "duration": 2158,
    "start_time": "2021-10-26T18:20:42.380Z"
   },
   {
    "duration": 6,
    "start_time": "2021-10-26T18:25:52.624Z"
   },
   {
    "duration": 2275,
    "start_time": "2021-10-26T18:25:53.973Z"
   },
   {
    "duration": 6,
    "start_time": "2021-10-26T18:26:02.270Z"
   },
   {
    "duration": 2158,
    "start_time": "2021-10-26T18:26:05.678Z"
   },
   {
    "duration": 6,
    "start_time": "2021-10-26T18:53:32.709Z"
   },
   {
    "duration": 2390,
    "start_time": "2021-10-26T18:53:34.076Z"
   },
   {
    "duration": 6,
    "start_time": "2021-10-26T18:55:56.921Z"
   },
   {
    "duration": 2261,
    "start_time": "2021-10-26T18:55:58.170Z"
   },
   {
    "duration": 6,
    "start_time": "2021-10-26T19:13:01.852Z"
   },
   {
    "duration": 75,
    "start_time": "2021-10-26T19:13:03.457Z"
   },
   {
    "duration": 516,
    "start_time": "2021-10-26T19:13:15.677Z"
   },
   {
    "duration": 363,
    "start_time": "2021-10-26T19:13:24.796Z"
   },
   {
    "duration": 5,
    "start_time": "2021-10-26T19:13:53.198Z"
   },
   {
    "duration": 32,
    "start_time": "2021-10-26T19:13:58.289Z"
   },
   {
    "duration": 1446,
    "start_time": "2021-10-26T19:14:13.246Z"
   },
   {
    "duration": 3,
    "start_time": "2021-10-26T19:14:14.694Z"
   },
   {
    "duration": 660,
    "start_time": "2021-10-26T19:14:14.701Z"
   },
   {
    "duration": 4,
    "start_time": "2021-10-26T19:14:15.364Z"
   },
   {
    "duration": 162,
    "start_time": "2021-10-26T19:14:15.371Z"
   },
   {
    "duration": 11,
    "start_time": "2021-10-26T19:14:15.536Z"
   },
   {
    "duration": 204,
    "start_time": "2021-10-26T19:14:15.550Z"
   },
   {
    "duration": 111,
    "start_time": "2021-10-26T19:14:15.756Z"
   },
   {
    "duration": 141,
    "start_time": "2021-10-26T19:14:15.870Z"
   },
   {
    "duration": 39,
    "start_time": "2021-10-26T19:14:16.014Z"
   },
   {
    "duration": 8,
    "start_time": "2021-10-26T19:14:16.056Z"
   },
   {
    "duration": 14,
    "start_time": "2021-10-26T19:14:16.067Z"
   },
   {
    "duration": 72,
    "start_time": "2021-10-26T19:14:16.083Z"
   },
   {
    "duration": 10,
    "start_time": "2021-10-26T19:14:16.157Z"
   },
   {
    "duration": 62,
    "start_time": "2021-10-26T19:14:16.169Z"
   },
   {
    "duration": 53,
    "start_time": "2021-10-26T19:14:16.233Z"
   },
   {
    "duration": 76,
    "start_time": "2021-10-26T19:14:16.288Z"
   },
   {
    "duration": 4,
    "start_time": "2021-10-26T19:14:16.366Z"
   },
   {
    "duration": 102,
    "start_time": "2021-10-26T19:14:16.372Z"
   },
   {
    "duration": 6,
    "start_time": "2021-10-26T19:14:16.477Z"
   },
   {
    "duration": 2323,
    "start_time": "2021-10-26T19:14:16.485Z"
   },
   {
    "duration": 6,
    "start_time": "2021-10-26T19:14:18.811Z"
   },
   {
    "duration": 33,
    "start_time": "2021-10-26T19:14:18.829Z"
   },
   {
    "duration": 36,
    "start_time": "2021-10-26T19:14:36.948Z"
   },
   {
    "duration": 7,
    "start_time": "2021-10-26T19:15:53.491Z"
   },
   {
    "duration": 27,
    "start_time": "2021-10-26T19:15:55.340Z"
   },
   {
    "duration": 27,
    "start_time": "2021-10-26T19:15:56.837Z"
   },
   {
    "duration": 5,
    "start_time": "2021-10-26T19:17:08.565Z"
   },
   {
    "duration": 20,
    "start_time": "2021-10-26T19:17:10.031Z"
   },
   {
    "duration": 6,
    "start_time": "2021-10-26T19:18:43.604Z"
   },
   {
    "duration": 360,
    "start_time": "2021-10-26T19:18:44.906Z"
   },
   {
    "duration": 6,
    "start_time": "2021-10-26T19:19:25.039Z"
   },
   {
    "duration": 234,
    "start_time": "2021-10-26T19:19:25.952Z"
   },
   {
    "duration": 5,
    "start_time": "2021-10-26T19:20:17.502Z"
   },
   {
    "duration": 246,
    "start_time": "2021-10-26T19:20:18.391Z"
   },
   {
    "duration": 18,
    "start_time": "2021-10-26T19:22:45.699Z"
   },
   {
    "duration": 292,
    "start_time": "2021-10-26T19:23:11.527Z"
   },
   {
    "duration": 6,
    "start_time": "2021-10-26T19:24:01.436Z"
   },
   {
    "duration": 18,
    "start_time": "2021-10-26T19:24:03.109Z"
   },
   {
    "duration": 20,
    "start_time": "2021-10-26T19:24:11.711Z"
   },
   {
    "duration": 27,
    "start_time": "2021-10-26T19:24:16.537Z"
   },
   {
    "duration": 26,
    "start_time": "2021-10-26T19:24:45.764Z"
   },
   {
    "duration": 7391,
    "start_time": "2021-10-26T19:31:35.122Z"
   },
   {
    "duration": 4529,
    "start_time": "2021-10-26T19:31:59.626Z"
   },
   {
    "duration": 4583,
    "start_time": "2021-10-26T19:34:02.305Z"
   },
   {
    "duration": 6,
    "start_time": "2021-10-26T19:34:33.153Z"
   },
   {
    "duration": 4407,
    "start_time": "2021-10-26T19:34:34.174Z"
   },
   {
    "duration": 6,
    "start_time": "2021-10-26T19:34:59.781Z"
   },
   {
    "duration": 3908,
    "start_time": "2021-10-26T19:35:00.757Z"
   },
   {
    "duration": 6,
    "start_time": "2021-10-26T19:35:13.863Z"
   },
   {
    "duration": 4303,
    "start_time": "2021-10-26T19:35:14.983Z"
   },
   {
    "duration": 8,
    "start_time": "2021-10-26T19:36:13.917Z"
   },
   {
    "duration": 1967,
    "start_time": "2021-10-26T19:36:15.133Z"
   },
   {
    "duration": 6,
    "start_time": "2021-10-26T19:36:28.022Z"
   },
   {
    "duration": 9,
    "start_time": "2021-10-26T19:36:29.207Z"
   },
   {
    "duration": 2408,
    "start_time": "2021-10-26T19:36:30.048Z"
   },
   {
    "duration": 205,
    "start_time": "2021-10-26T19:37:08.758Z"
   },
   {
    "duration": 222,
    "start_time": "2021-10-26T19:37:15.719Z"
   },
   {
    "duration": 2030,
    "start_time": "2021-10-26T19:37:21.342Z"
   },
   {
    "duration": 6,
    "start_time": "2021-10-26T19:38:58.275Z"
   },
   {
    "duration": 8,
    "start_time": "2021-10-26T19:38:59.636Z"
   },
   {
    "duration": 1335,
    "start_time": "2021-10-26T19:39:00.323Z"
   },
   {
    "duration": 6,
    "start_time": "2021-10-26T19:39:28.830Z"
   },
   {
    "duration": 9,
    "start_time": "2021-10-26T19:39:29.824Z"
   },
   {
    "duration": 2114,
    "start_time": "2021-10-26T19:39:30.537Z"
   },
   {
    "duration": 231,
    "start_time": "2021-10-26T19:43:23.095Z"
   },
   {
    "duration": 255,
    "start_time": "2021-10-26T19:43:32.960Z"
   },
   {
    "duration": 80,
    "start_time": "2021-10-26T19:49:54.687Z"
   },
   {
    "duration": 7,
    "start_time": "2021-10-26T19:50:13.382Z"
   },
   {
    "duration": 8,
    "start_time": "2021-10-26T19:50:14.989Z"
   },
   {
    "duration": 1122,
    "start_time": "2021-10-26T19:50:22.288Z"
   },
   {
    "duration": 6,
    "start_time": "2021-10-26T19:50:41.922Z"
   },
   {
    "duration": 9,
    "start_time": "2021-10-26T19:50:42.825Z"
   },
   {
    "duration": 2162,
    "start_time": "2021-10-26T19:50:43.578Z"
   },
   {
    "duration": 6,
    "start_time": "2021-10-26T19:51:48.106Z"
   },
   {
    "duration": 8,
    "start_time": "2021-10-26T19:51:49.164Z"
   },
   {
    "duration": 923,
    "start_time": "2021-10-26T19:51:49.812Z"
   },
   {
    "duration": 7,
    "start_time": "2021-10-26T19:52:09.053Z"
   },
   {
    "duration": 8,
    "start_time": "2021-10-26T19:52:10.365Z"
   },
   {
    "duration": 2301,
    "start_time": "2021-10-26T19:52:11.038Z"
   },
   {
    "duration": 83,
    "start_time": "2021-10-26T20:03:16.169Z"
   },
   {
    "duration": 1436,
    "start_time": "2021-10-26T20:03:58.447Z"
   },
   {
    "duration": 5,
    "start_time": "2021-10-26T20:03:59.886Z"
   },
   {
    "duration": 666,
    "start_time": "2021-10-26T20:03:59.898Z"
   },
   {
    "duration": 4,
    "start_time": "2021-10-26T20:04:00.567Z"
   },
   {
    "duration": 165,
    "start_time": "2021-10-26T20:04:00.573Z"
   },
   {
    "duration": 12,
    "start_time": "2021-10-26T20:04:00.741Z"
   },
   {
    "duration": 214,
    "start_time": "2021-10-26T20:04:00.757Z"
   },
   {
    "duration": 113,
    "start_time": "2021-10-26T20:04:00.973Z"
   },
   {
    "duration": 147,
    "start_time": "2021-10-26T20:04:01.088Z"
   },
   {
    "duration": 36,
    "start_time": "2021-10-26T20:04:01.238Z"
   },
   {
    "duration": 11,
    "start_time": "2021-10-26T20:04:01.276Z"
   },
   {
    "duration": 61,
    "start_time": "2021-10-26T20:04:01.289Z"
   },
   {
    "duration": 56,
    "start_time": "2021-10-26T20:04:01.352Z"
   },
   {
    "duration": 11,
    "start_time": "2021-10-26T20:04:01.411Z"
   },
   {
    "duration": 53,
    "start_time": "2021-10-26T20:04:01.430Z"
   },
   {
    "duration": 67,
    "start_time": "2021-10-26T20:04:01.485Z"
   },
   {
    "duration": 50,
    "start_time": "2021-10-26T20:04:01.555Z"
   },
   {
    "duration": 4,
    "start_time": "2021-10-26T20:04:01.628Z"
   },
   {
    "duration": 97,
    "start_time": "2021-10-26T20:04:01.635Z"
   },
   {
    "duration": 5,
    "start_time": "2021-10-26T20:04:01.734Z"
   },
   {
    "duration": 21,
    "start_time": "2021-10-26T20:04:01.742Z"
   },
   {
    "duration": 2115,
    "start_time": "2021-10-26T20:04:01.767Z"
   },
   {
    "duration": 2077,
    "start_time": "2021-10-26T20:04:03.884Z"
   },
   {
    "duration": 82,
    "start_time": "2021-10-26T20:04:05.965Z"
   },
   {
    "duration": -743,
    "start_time": "2021-10-26T20:04:06.792Z"
   },
   {
    "duration": -747,
    "start_time": "2021-10-26T20:04:06.797Z"
   },
   {
    "duration": -749,
    "start_time": "2021-10-26T20:04:06.801Z"
   },
   {
    "duration": -750,
    "start_time": "2021-10-26T20:04:06.803Z"
   },
   {
    "duration": 8,
    "start_time": "2021-10-26T20:04:48.997Z"
   },
   {
    "duration": 600,
    "start_time": "2021-10-26T20:04:50.171Z"
   },
   {
    "duration": 488,
    "start_time": "2021-10-26T20:05:16.574Z"
   },
   {
    "duration": 8,
    "start_time": "2021-10-26T20:05:38.985Z"
   },
   {
    "duration": 453,
    "start_time": "2021-10-26T20:05:40.617Z"
   },
   {
    "duration": 8,
    "start_time": "2021-10-26T20:06:24.799Z"
   },
   {
    "duration": 37,
    "start_time": "2021-10-26T20:06:25.919Z"
   },
   {
    "duration": 8,
    "start_time": "2021-10-26T20:06:53.306Z"
   },
   {
    "duration": 37,
    "start_time": "2021-10-26T20:06:54.309Z"
   },
   {
    "duration": 8,
    "start_time": "2021-10-26T20:08:42.564Z"
   },
   {
    "duration": 38,
    "start_time": "2021-10-26T20:08:57.452Z"
   },
   {
    "duration": 39,
    "start_time": "2021-10-26T20:09:17.654Z"
   },
   {
    "duration": 6125,
    "start_time": "2021-10-26T20:16:23.516Z"
   },
   {
    "duration": 251,
    "start_time": "2021-10-26T20:16:44.302Z"
   },
   {
    "duration": 245,
    "start_time": "2021-10-26T20:17:45.078Z"
   },
   {
    "duration": 100,
    "start_time": "2021-10-26T20:18:45.899Z"
   },
   {
    "duration": 266,
    "start_time": "2021-10-26T20:19:03.542Z"
   },
   {
    "duration": 283,
    "start_time": "2021-10-26T20:25:11.179Z"
   },
   {
    "duration": 1484,
    "start_time": "2021-10-26T20:25:19.326Z"
   },
   {
    "duration": 4,
    "start_time": "2021-10-26T20:25:20.814Z"
   },
   {
    "duration": 670,
    "start_time": "2021-10-26T20:25:20.821Z"
   },
   {
    "duration": 4,
    "start_time": "2021-10-26T20:25:21.494Z"
   },
   {
    "duration": 151,
    "start_time": "2021-10-26T20:25:21.500Z"
   },
   {
    "duration": 12,
    "start_time": "2021-10-26T20:25:21.653Z"
   },
   {
    "duration": 225,
    "start_time": "2021-10-26T20:25:21.668Z"
   },
   {
    "duration": 112,
    "start_time": "2021-10-26T20:25:21.895Z"
   },
   {
    "duration": 136,
    "start_time": "2021-10-26T20:25:22.010Z"
   },
   {
    "duration": 35,
    "start_time": "2021-10-26T20:25:22.149Z"
   },
   {
    "duration": 8,
    "start_time": "2021-10-26T20:25:22.186Z"
   },
   {
    "duration": 39,
    "start_time": "2021-10-26T20:25:22.197Z"
   },
   {
    "duration": 40,
    "start_time": "2021-10-26T20:25:22.238Z"
   },
   {
    "duration": 11,
    "start_time": "2021-10-26T20:25:22.281Z"
   },
   {
    "duration": 45,
    "start_time": "2021-10-26T20:25:22.329Z"
   },
   {
    "duration": 73,
    "start_time": "2021-10-26T20:25:22.376Z"
   },
   {
    "duration": 53,
    "start_time": "2021-10-26T20:25:22.451Z"
   },
   {
    "duration": 26,
    "start_time": "2021-10-26T20:25:22.506Z"
   },
   {
    "duration": 94,
    "start_time": "2021-10-26T20:25:22.535Z"
   },
   {
    "duration": 6,
    "start_time": "2021-10-26T20:25:22.632Z"
   },
   {
    "duration": 13,
    "start_time": "2021-10-26T20:25:22.641Z"
   },
   {
    "duration": 2183,
    "start_time": "2021-10-26T20:25:22.657Z"
   },
   {
    "duration": 2046,
    "start_time": "2021-10-26T20:25:24.842Z"
   },
   {
    "duration": 8,
    "start_time": "2021-10-26T20:25:26.890Z"
   },
   {
    "duration": 53,
    "start_time": "2021-10-26T20:25:26.901Z"
   },
   {
    "duration": 37,
    "start_time": "2021-10-26T20:25:26.956Z"
   },
   {
    "duration": 4,
    "start_time": "2021-10-26T20:25:26.998Z"
   },
   {
    "duration": 820,
    "start_time": "2021-10-26T20:25:27.005Z"
   },
   {
    "duration": -734,
    "start_time": "2021-10-26T20:25:28.562Z"
   },
   {
    "duration": -739,
    "start_time": "2021-10-26T20:25:28.568Z"
   },
   {
    "duration": -739,
    "start_time": "2021-10-26T20:25:28.570Z"
   },
   {
    "duration": 844,
    "start_time": "2021-10-26T20:26:41.645Z"
   },
   {
    "duration": 476,
    "start_time": "2021-10-26T20:27:01.119Z"
   },
   {
    "duration": 445,
    "start_time": "2021-10-26T20:27:12.376Z"
   },
   {
    "duration": 422,
    "start_time": "2021-10-26T20:27:52.534Z"
   },
   {
    "duration": 440,
    "start_time": "2021-10-26T20:28:04.151Z"
   },
   {
    "duration": 478,
    "start_time": "2021-10-26T20:28:31.892Z"
   },
   {
    "duration": 440,
    "start_time": "2021-10-26T20:29:28.266Z"
   },
   {
    "duration": 4,
    "start_time": "2021-10-26T20:34:02.107Z"
   },
   {
    "duration": 239,
    "start_time": "2021-10-26T20:34:03.304Z"
   },
   {
    "duration": 4,
    "start_time": "2021-10-26T20:34:34.532Z"
   },
   {
    "duration": 235,
    "start_time": "2021-10-26T20:34:35.484Z"
   },
   {
    "duration": 5,
    "start_time": "2021-10-26T20:36:18.410Z"
   },
   {
    "duration": 800,
    "start_time": "2021-10-26T20:36:19.338Z"
   },
   {
    "duration": 6,
    "start_time": "2021-10-26T20:44:27.172Z"
   },
   {
    "duration": 8,
    "start_time": "2021-10-26T20:44:29.282Z"
   },
   {
    "duration": 1044,
    "start_time": "2021-10-26T20:44:35.045Z"
   },
   {
    "duration": 6,
    "start_time": "2021-10-26T20:45:50.829Z"
   },
   {
    "duration": 9,
    "start_time": "2021-10-26T20:45:51.676Z"
   },
   {
    "duration": 2209,
    "start_time": "2021-10-26T20:45:52.613Z"
   },
   {
    "duration": 7,
    "start_time": "2021-10-26T20:47:53.973Z"
   },
   {
    "duration": 9,
    "start_time": "2021-10-26T20:47:55.084Z"
   },
   {
    "duration": 1066,
    "start_time": "2021-10-26T20:47:55.925Z"
   },
   {
    "duration": 7,
    "start_time": "2021-10-26T20:48:08.774Z"
   },
   {
    "duration": 9,
    "start_time": "2021-10-26T20:48:09.543Z"
   },
   {
    "duration": 1062,
    "start_time": "2021-10-26T20:48:10.224Z"
   },
   {
    "duration": 6,
    "start_time": "2021-10-26T20:49:44.509Z"
   },
   {
    "duration": 8,
    "start_time": "2021-10-26T20:49:45.324Z"
   },
   {
    "duration": 2434,
    "start_time": "2021-10-26T20:49:45.948Z"
   },
   {
    "duration": 7,
    "start_time": "2021-10-26T20:50:27.358Z"
   },
   {
    "duration": 9,
    "start_time": "2021-10-26T20:50:28.291Z"
   },
   {
    "duration": 2161,
    "start_time": "2021-10-26T20:50:28.970Z"
   },
   {
    "duration": 7,
    "start_time": "2021-10-26T20:51:27.033Z"
   },
   {
    "duration": 10,
    "start_time": "2021-10-26T20:51:28.042Z"
   },
   {
    "duration": 2100,
    "start_time": "2021-10-26T20:51:50.253Z"
   },
   {
    "duration": 6,
    "start_time": "2021-10-26T20:52:09.465Z"
   },
   {
    "duration": 1060,
    "start_time": "2021-10-26T20:52:11.217Z"
   },
   {
    "duration": 7,
    "start_time": "2021-10-26T20:53:03.415Z"
   },
   {
    "duration": 2122,
    "start_time": "2021-10-26T20:53:09.047Z"
   },
   {
    "duration": 859,
    "start_time": "2021-10-26T20:55:30.206Z"
   },
   {
    "duration": 829,
    "start_time": "2021-10-26T20:56:10.611Z"
   },
   {
    "duration": 720,
    "start_time": "2021-10-26T20:56:18.396Z"
   },
   {
    "duration": 753,
    "start_time": "2021-10-26T20:56:26.289Z"
   },
   {
    "duration": 697,
    "start_time": "2021-10-26T20:56:31.508Z"
   },
   {
    "duration": 724,
    "start_time": "2021-10-26T20:57:25.730Z"
   },
   {
    "duration": 18,
    "start_time": "2021-10-26T20:58:34.148Z"
   },
   {
    "duration": 19,
    "start_time": "2021-10-26T20:59:17.769Z"
   },
   {
    "duration": 759,
    "start_time": "2021-10-26T20:59:43.620Z"
   },
   {
    "duration": 715,
    "start_time": "2021-10-26T20:59:50.366Z"
   },
   {
    "duration": 664,
    "start_time": "2021-10-26T21:00:42.828Z"
   },
   {
    "duration": 256,
    "start_time": "2021-10-26T21:01:22.169Z"
   },
   {
    "duration": 642,
    "start_time": "2021-10-26T21:01:48.959Z"
   },
   {
    "duration": 6,
    "start_time": "2021-10-26T21:03:48.396Z"
   },
   {
    "duration": 239,
    "start_time": "2021-10-26T21:03:59.911Z"
   },
   {
    "duration": 2259,
    "start_time": "2021-10-26T21:04:21.977Z"
   },
   {
    "duration": 7,
    "start_time": "2021-10-26T21:04:50.023Z"
   },
   {
    "duration": 2366,
    "start_time": "2021-10-26T21:04:51.190Z"
   },
   {
    "duration": 6,
    "start_time": "2021-10-26T21:05:40.687Z"
   },
   {
    "duration": 1295,
    "start_time": "2021-10-26T21:05:41.668Z"
   },
   {
    "duration": 7,
    "start_time": "2021-10-26T21:06:06.235Z"
   },
   {
    "duration": 2483,
    "start_time": "2021-10-26T21:06:07.387Z"
   },
   {
    "duration": 2437,
    "start_time": "2021-10-26T21:06:47.718Z"
   },
   {
    "duration": 6,
    "start_time": "2021-10-26T21:07:07.665Z"
   },
   {
    "duration": 2196,
    "start_time": "2021-10-26T21:07:09.089Z"
   },
   {
    "duration": 2285,
    "start_time": "2021-10-26T21:07:31.612Z"
   },
   {
    "duration": 6,
    "start_time": "2021-10-26T21:09:07.567Z"
   },
   {
    "duration": 2156,
    "start_time": "2021-10-26T21:09:08.545Z"
   },
   {
    "duration": 6,
    "start_time": "2021-10-26T21:09:52.221Z"
   },
   {
    "duration": 2341,
    "start_time": "2021-10-26T21:09:52.983Z"
   },
   {
    "duration": 9,
    "start_time": "2021-10-26T21:10:35.973Z"
   },
   {
    "duration": 2640,
    "start_time": "2021-10-26T21:10:37.652Z"
   },
   {
    "duration": 2406,
    "start_time": "2021-10-26T21:11:29.948Z"
   },
   {
    "duration": 2285,
    "start_time": "2021-10-26T21:12:11.809Z"
   },
   {
    "duration": 2198,
    "start_time": "2021-10-26T21:12:28.204Z"
   },
   {
    "duration": 2282,
    "start_time": "2021-10-26T21:13:32.765Z"
   },
   {
    "duration": 2198,
    "start_time": "2021-10-26T21:13:59.336Z"
   },
   {
    "duration": 728,
    "start_time": "2021-10-26T21:14:39.597Z"
   },
   {
    "duration": 6,
    "start_time": "2021-10-26T21:16:12.971Z"
   },
   {
    "duration": 2092,
    "start_time": "2021-10-26T21:16:15.546Z"
   },
   {
    "duration": 2095,
    "start_time": "2021-10-26T21:16:23.404Z"
   },
   {
    "duration": 509,
    "start_time": "2021-10-27T05:50:57.217Z"
   },
   {
    "duration": 1589,
    "start_time": "2021-10-27T05:51:06.683Z"
   },
   {
    "duration": 4,
    "start_time": "2021-10-27T05:51:08.275Z"
   },
   {
    "duration": 671,
    "start_time": "2021-10-27T05:51:08.281Z"
   },
   {
    "duration": 5,
    "start_time": "2021-10-27T05:51:08.955Z"
   },
   {
    "duration": 167,
    "start_time": "2021-10-27T05:51:08.962Z"
   },
   {
    "duration": 12,
    "start_time": "2021-10-27T05:51:09.131Z"
   },
   {
    "duration": 440,
    "start_time": "2021-10-27T05:51:15.348Z"
   },
   {
    "duration": 152,
    "start_time": "2021-10-27T05:52:00.177Z"
   },
   {
    "duration": 1502,
    "start_time": "2021-10-27T05:52:20.976Z"
   },
   {
    "duration": 4,
    "start_time": "2021-10-27T05:52:22.481Z"
   },
   {
    "duration": 692,
    "start_time": "2021-10-27T05:52:22.488Z"
   },
   {
    "duration": 4,
    "start_time": "2021-10-27T05:52:23.183Z"
   },
   {
    "duration": 156,
    "start_time": "2021-10-27T05:52:23.190Z"
   },
   {
    "duration": 11,
    "start_time": "2021-10-27T05:52:23.349Z"
   },
   {
    "duration": 170,
    "start_time": "2021-10-27T05:52:23.362Z"
   },
   {
    "duration": 127,
    "start_time": "2021-10-27T05:52:23.535Z"
   },
   {
    "duration": 151,
    "start_time": "2021-10-27T05:52:23.665Z"
   },
   {
    "duration": 83,
    "start_time": "2021-10-27T05:52:23.819Z"
   },
   {
    "duration": 17,
    "start_time": "2021-10-27T05:52:23.905Z"
   },
   {
    "duration": 17,
    "start_time": "2021-10-27T05:52:23.925Z"
   },
   {
    "duration": 98,
    "start_time": "2021-10-27T05:52:23.945Z"
   },
   {
    "duration": 34,
    "start_time": "2021-10-27T05:52:24.045Z"
   },
   {
    "duration": 83,
    "start_time": "2021-10-27T05:52:24.082Z"
   },
   {
    "duration": 74,
    "start_time": "2021-10-27T05:52:24.167Z"
   },
   {
    "duration": 64,
    "start_time": "2021-10-27T05:52:24.243Z"
   },
   {
    "duration": 4,
    "start_time": "2021-10-27T05:52:24.309Z"
   },
   {
    "duration": 160,
    "start_time": "2021-10-27T05:52:24.315Z"
   },
   {
    "duration": 31,
    "start_time": "2021-10-27T05:52:24.478Z"
   },
   {
    "duration": 692,
    "start_time": "2021-10-27T05:52:24.512Z"
   },
   {
    "duration": 730,
    "start_time": "2021-10-27T05:52:25.207Z"
   },
   {
    "duration": 6,
    "start_time": "2021-10-27T05:52:25.942Z"
   },
   {
    "duration": 2578,
    "start_time": "2021-10-27T05:52:25.950Z"
   },
   {
    "duration": 2441,
    "start_time": "2021-10-27T05:52:28.530Z"
   },
   {
    "duration": 120,
    "start_time": "2021-10-27T05:52:30.974Z"
   },
   {
    "duration": 513,
    "start_time": "2021-10-27T05:52:31.096Z"
   },
   {
    "duration": -634,
    "start_time": "2021-10-27T05:52:32.246Z"
   },
   {
    "duration": -639,
    "start_time": "2021-10-27T05:52:32.252Z"
   },
   {
    "duration": -642,
    "start_time": "2021-10-27T05:52:32.256Z"
   },
   {
    "duration": -646,
    "start_time": "2021-10-27T05:52:32.262Z"
   },
   {
    "duration": -648,
    "start_time": "2021-10-27T05:52:32.266Z"
   },
   {
    "duration": -650,
    "start_time": "2021-10-27T05:52:32.269Z"
   },
   {
    "duration": 244,
    "start_time": "2021-10-27T05:53:56.729Z"
   },
   {
    "duration": 177,
    "start_time": "2021-10-27T05:56:28.712Z"
   },
   {
    "duration": 6467,
    "start_time": "2021-10-27T06:01:12.334Z"
   },
   {
    "duration": 1814,
    "start_time": "2021-10-27T06:01:51.347Z"
   },
   {
    "duration": 1808,
    "start_time": "2021-10-27T06:05:10.292Z"
   },
   {
    "duration": 12716,
    "start_time": "2021-10-27T06:05:16.000Z"
   },
   {
    "duration": 1789,
    "start_time": "2021-10-27T06:05:52.595Z"
   },
   {
    "duration": 13047,
    "start_time": "2021-10-27T06:05:57.076Z"
   },
   {
    "duration": 186,
    "start_time": "2021-10-27T06:08:48.618Z"
   },
   {
    "duration": 104,
    "start_time": "2021-10-27T06:09:01.797Z"
   },
   {
    "duration": 47,
    "start_time": "2021-10-27T06:09:06.501Z"
   },
   {
    "duration": 10,
    "start_time": "2021-10-27T06:09:30.440Z"
   },
   {
    "duration": 14,
    "start_time": "2021-10-27T06:09:53.412Z"
   },
   {
    "duration": 13,
    "start_time": "2021-10-27T06:10:01.100Z"
   },
   {
    "duration": 39,
    "start_time": "2021-10-27T06:10:05.814Z"
   },
   {
    "duration": 11,
    "start_time": "2021-10-27T06:10:18.096Z"
   },
   {
    "duration": 44,
    "start_time": "2021-10-27T06:10:21.591Z"
   },
   {
    "duration": 1470,
    "start_time": "2021-10-27T06:11:04.630Z"
   },
   {
    "duration": 5,
    "start_time": "2021-10-27T06:11:06.103Z"
   },
   {
    "duration": 692,
    "start_time": "2021-10-27T06:11:06.112Z"
   },
   {
    "duration": 6,
    "start_time": "2021-10-27T06:11:06.807Z"
   },
   {
    "duration": 190,
    "start_time": "2021-10-27T06:11:06.816Z"
   },
   {
    "duration": 12,
    "start_time": "2021-10-27T06:11:07.010Z"
   },
   {
    "duration": 242,
    "start_time": "2021-10-27T06:11:07.026Z"
   },
   {
    "duration": 164,
    "start_time": "2021-10-27T06:11:07.272Z"
   },
   {
    "duration": 118,
    "start_time": "2021-10-27T06:11:07.439Z"
   },
   {
    "duration": 49,
    "start_time": "2021-10-27T06:11:07.559Z"
   },
   {
    "duration": 9,
    "start_time": "2021-10-27T06:11:07.610Z"
   },
   {
    "duration": 41,
    "start_time": "2021-10-27T06:11:07.621Z"
   },
   {
    "duration": 63,
    "start_time": "2021-10-27T06:11:07.665Z"
   },
   {
    "duration": 10,
    "start_time": "2021-10-27T06:11:07.730Z"
   },
   {
    "duration": 73,
    "start_time": "2021-10-27T06:11:07.743Z"
   },
   {
    "duration": 52,
    "start_time": "2021-10-27T06:11:07.818Z"
   },
   {
    "duration": 73,
    "start_time": "2021-10-27T06:11:07.873Z"
   },
   {
    "duration": 4,
    "start_time": "2021-10-27T06:11:07.949Z"
   },
   {
    "duration": 113,
    "start_time": "2021-10-27T06:11:07.955Z"
   },
   {
    "duration": 31,
    "start_time": "2021-10-27T06:11:08.071Z"
   },
   {
    "duration": 678,
    "start_time": "2021-10-27T06:11:08.104Z"
   },
   {
    "duration": 706,
    "start_time": "2021-10-27T06:11:08.784Z"
   },
   {
    "duration": 11,
    "start_time": "2021-10-27T06:11:09.495Z"
   },
   {
    "duration": 2250,
    "start_time": "2021-10-27T06:11:09.509Z"
   },
   {
    "duration": 2102,
    "start_time": "2021-10-27T06:11:11.761Z"
   },
   {
    "duration": 103,
    "start_time": "2021-10-27T06:11:13.865Z"
   },
   {
    "duration": 483,
    "start_time": "2021-10-27T06:11:13.971Z"
   },
   {
    "duration": -657,
    "start_time": "2021-10-27T06:11:15.114Z"
   },
   {
    "duration": -659,
    "start_time": "2021-10-27T06:11:15.117Z"
   },
   {
    "duration": -659,
    "start_time": "2021-10-27T06:11:15.119Z"
   },
   {
    "duration": -660,
    "start_time": "2021-10-27T06:11:15.121Z"
   },
   {
    "duration": -660,
    "start_time": "2021-10-27T06:11:15.123Z"
   },
   {
    "duration": -661,
    "start_time": "2021-10-27T06:11:15.125Z"
   },
   {
    "duration": 5,
    "start_time": "2021-10-27T06:11:59.581Z"
   },
   {
    "duration": 52,
    "start_time": "2021-10-27T06:13:50.946Z"
   },
   {
    "duration": 11,
    "start_time": "2021-10-27T06:14:19.160Z"
   },
   {
    "duration": 368,
    "start_time": "2021-10-27T06:15:13.093Z"
   },
   {
    "duration": 50,
    "start_time": "2021-10-27T06:15:19.085Z"
   },
   {
    "duration": 6,
    "start_time": "2021-10-27T06:15:23.509Z"
   },
   {
    "duration": 1490,
    "start_time": "2021-10-27T06:17:27.489Z"
   },
   {
    "duration": 3,
    "start_time": "2021-10-27T06:17:28.982Z"
   },
   {
    "duration": 703,
    "start_time": "2021-10-27T06:17:28.988Z"
   },
   {
    "duration": 4,
    "start_time": "2021-10-27T06:17:29.694Z"
   },
   {
    "duration": 160,
    "start_time": "2021-10-27T06:17:29.700Z"
   },
   {
    "duration": 10,
    "start_time": "2021-10-27T06:17:29.863Z"
   },
   {
    "duration": 214,
    "start_time": "2021-10-27T06:17:29.876Z"
   },
   {
    "duration": 157,
    "start_time": "2021-10-27T06:17:30.092Z"
   },
   {
    "duration": 125,
    "start_time": "2021-10-27T06:17:30.255Z"
   },
   {
    "duration": 48,
    "start_time": "2021-10-27T06:17:30.385Z"
   },
   {
    "duration": 13,
    "start_time": "2021-10-27T06:17:30.436Z"
   },
   {
    "duration": 49,
    "start_time": "2021-10-27T06:17:30.452Z"
   },
   {
    "duration": 4,
    "start_time": "2021-10-27T06:17:30.504Z"
   },
   {
    "duration": 44,
    "start_time": "2021-10-27T06:17:30.511Z"
   },
   {
    "duration": 4,
    "start_time": "2021-10-27T06:17:30.558Z"
   },
   {
    "duration": 68,
    "start_time": "2021-10-27T06:17:30.565Z"
   },
   {
    "duration": 65,
    "start_time": "2021-10-27T06:17:30.637Z"
   },
   {
    "duration": 46,
    "start_time": "2021-10-27T06:17:30.705Z"
   },
   {
    "duration": 5,
    "start_time": "2021-10-27T06:17:30.754Z"
   },
   {
    "duration": 115,
    "start_time": "2021-10-27T06:17:30.762Z"
   },
   {
    "duration": 35,
    "start_time": "2021-10-27T06:17:30.880Z"
   },
   {
    "duration": 677,
    "start_time": "2021-10-27T06:17:30.918Z"
   },
   {
    "duration": 772,
    "start_time": "2021-10-27T06:17:31.600Z"
   },
   {
    "duration": 7,
    "start_time": "2021-10-27T06:17:32.374Z"
   },
   {
    "duration": 2273,
    "start_time": "2021-10-27T06:17:32.383Z"
   },
   {
    "duration": 2065,
    "start_time": "2021-10-27T06:17:34.658Z"
   },
   {
    "duration": 101,
    "start_time": "2021-10-27T06:17:36.727Z"
   },
   {
    "duration": 1327,
    "start_time": "2021-10-27T06:17:36.830Z"
   },
   {
    "duration": -653,
    "start_time": "2021-10-27T06:17:38.812Z"
   },
   {
    "duration": -655,
    "start_time": "2021-10-27T06:17:38.816Z"
   },
   {
    "duration": -656,
    "start_time": "2021-10-27T06:17:38.818Z"
   },
   {
    "duration": -657,
    "start_time": "2021-10-27T06:17:38.821Z"
   },
   {
    "duration": -658,
    "start_time": "2021-10-27T06:17:38.823Z"
   },
   {
    "duration": -658,
    "start_time": "2021-10-27T06:17:38.825Z"
   },
   {
    "duration": 746,
    "start_time": "2021-10-27T06:38:33.314Z"
   },
   {
    "duration": 23,
    "start_time": "2021-10-27T06:39:20.454Z"
   },
   {
    "duration": 17,
    "start_time": "2021-10-27T06:43:38.474Z"
   },
   {
    "duration": 19,
    "start_time": "2021-10-27T06:45:23.424Z"
   },
   {
    "duration": 7,
    "start_time": "2021-10-27T06:45:51.163Z"
   },
   {
    "duration": 682,
    "start_time": "2021-10-27T06:47:20.637Z"
   },
   {
    "duration": 693,
    "start_time": "2021-10-27T06:48:01.369Z"
   },
   {
    "duration": 1023,
    "start_time": "2021-10-27T06:48:10.477Z"
   },
   {
    "duration": 647,
    "start_time": "2021-10-27T06:48:34.661Z"
   },
   {
    "duration": 687,
    "start_time": "2021-10-27T06:51:00.137Z"
   },
   {
    "duration": 435,
    "start_time": "2021-10-27T06:52:24.813Z"
   },
   {
    "duration": 8,
    "start_time": "2021-10-27T06:52:46.640Z"
   },
   {
    "duration": 30,
    "start_time": "2021-10-27T06:52:55.801Z"
   },
   {
    "duration": 32,
    "start_time": "2021-10-27T06:53:24.345Z"
   },
   {
    "duration": 7,
    "start_time": "2021-10-27T06:53:38.982Z"
   },
   {
    "duration": 8,
    "start_time": "2021-10-27T06:53:55.905Z"
   },
   {
    "duration": 33,
    "start_time": "2021-10-27T06:54:33.205Z"
   },
   {
    "duration": 929,
    "start_time": "2021-10-27T06:56:30.078Z"
   },
   {
    "duration": 133,
    "start_time": "2021-10-27T06:56:56.616Z"
   },
   {
    "duration": 33,
    "start_time": "2021-10-27T06:57:07.386Z"
   },
   {
    "duration": 356,
    "start_time": "2021-10-27T06:58:31.630Z"
   },
   {
    "duration": 34,
    "start_time": "2021-10-27T06:58:39.112Z"
   },
   {
    "duration": 8,
    "start_time": "2021-10-27T06:58:54.232Z"
   },
   {
    "duration": 8,
    "start_time": "2021-10-27T07:00:43.032Z"
   },
   {
    "duration": 354,
    "start_time": "2021-10-27T07:01:15.024Z"
   },
   {
    "duration": 592,
    "start_time": "2021-10-27T07:02:42.241Z"
   },
   {
    "duration": 651,
    "start_time": "2021-10-27T07:03:00.114Z"
   },
   {
    "duration": 1688,
    "start_time": "2021-10-27T07:03:30.871Z"
   },
   {
    "duration": 374,
    "start_time": "2021-10-27T07:05:14.724Z"
   },
   {
    "duration": 7,
    "start_time": "2021-10-27T07:06:20.798Z"
   },
   {
    "duration": 14,
    "start_time": "2021-10-27T07:06:27.479Z"
   },
   {
    "duration": 15,
    "start_time": "2021-10-27T07:06:51.171Z"
   },
   {
    "duration": 12,
    "start_time": "2021-10-27T07:06:55.114Z"
   },
   {
    "duration": 6,
    "start_time": "2021-10-27T07:07:13.045Z"
   },
   {
    "duration": 7,
    "start_time": "2021-10-27T07:07:16.693Z"
   },
   {
    "duration": 1487,
    "start_time": "2021-10-27T07:07:31.094Z"
   },
   {
    "duration": 4,
    "start_time": "2021-10-27T07:07:32.584Z"
   },
   {
    "duration": 717,
    "start_time": "2021-10-27T07:07:32.599Z"
   },
   {
    "duration": 4,
    "start_time": "2021-10-27T07:07:33.319Z"
   },
   {
    "duration": 170,
    "start_time": "2021-10-27T07:07:33.325Z"
   },
   {
    "duration": 12,
    "start_time": "2021-10-27T07:07:33.501Z"
   },
   {
    "duration": 217,
    "start_time": "2021-10-27T07:07:33.515Z"
   },
   {
    "duration": 153,
    "start_time": "2021-10-27T07:07:33.736Z"
   },
   {
    "duration": 110,
    "start_time": "2021-10-27T07:07:33.892Z"
   },
   {
    "duration": 35,
    "start_time": "2021-10-27T07:07:34.005Z"
   },
   {
    "duration": 9,
    "start_time": "2021-10-27T07:07:34.042Z"
   },
   {
    "duration": 20,
    "start_time": "2021-10-27T07:07:34.053Z"
   },
   {
    "duration": 3,
    "start_time": "2021-10-27T07:07:34.101Z"
   },
   {
    "duration": 55,
    "start_time": "2021-10-27T07:07:34.106Z"
   },
   {
    "duration": 3,
    "start_time": "2021-10-27T07:07:34.163Z"
   },
   {
    "duration": 68,
    "start_time": "2021-10-27T07:07:34.168Z"
   },
   {
    "duration": 61,
    "start_time": "2021-10-27T07:07:34.239Z"
   },
   {
    "duration": 44,
    "start_time": "2021-10-27T07:07:34.303Z"
   },
   {
    "duration": 4,
    "start_time": "2021-10-27T07:07:34.349Z"
   },
   {
    "duration": 733,
    "start_time": "2021-10-27T07:07:34.356Z"
   },
   {
    "duration": 16,
    "start_time": "2021-10-27T07:07:35.092Z"
   },
   {
    "duration": 24,
    "start_time": "2021-10-27T07:07:35.111Z"
   },
   {
    "duration": 21,
    "start_time": "2021-10-27T07:07:35.138Z"
   },
   {
    "duration": 688,
    "start_time": "2021-10-27T07:07:35.161Z"
   },
   {
    "duration": 753,
    "start_time": "2021-10-27T07:07:35.851Z"
   },
   {
    "duration": 7,
    "start_time": "2021-10-27T07:07:36.608Z"
   },
   {
    "duration": 2342,
    "start_time": "2021-10-27T07:07:36.618Z"
   },
   {
    "duration": 2168,
    "start_time": "2021-10-27T07:07:38.962Z"
   },
   {
    "duration": 8,
    "start_time": "2021-10-27T07:07:41.132Z"
   },
   {
    "duration": 534,
    "start_time": "2021-10-27T07:07:41.142Z"
   },
   {
    "duration": -602,
    "start_time": "2021-10-27T07:07:42.280Z"
   },
   {
    "duration": -604,
    "start_time": "2021-10-27T07:07:42.284Z"
   },
   {
    "duration": -606,
    "start_time": "2021-10-27T07:07:42.287Z"
   },
   {
    "duration": -607,
    "start_time": "2021-10-27T07:07:42.289Z"
   },
   {
    "duration": -609,
    "start_time": "2021-10-27T07:07:42.292Z"
   },
   {
    "duration": -611,
    "start_time": "2021-10-27T07:07:42.295Z"
   },
   {
    "duration": 8,
    "start_time": "2021-10-27T07:08:01.775Z"
   },
   {
    "duration": 10,
    "start_time": "2021-10-27T07:08:50.269Z"
   },
   {
    "duration": 11,
    "start_time": "2021-10-27T07:08:52.645Z"
   },
   {
    "duration": 8,
    "start_time": "2021-10-27T07:09:19.688Z"
   },
   {
    "duration": 382,
    "start_time": "2021-10-27T07:09:47.173Z"
   },
   {
    "duration": 11,
    "start_time": "2021-10-27T07:10:12.807Z"
   },
   {
    "duration": 5,
    "start_time": "2021-10-27T07:10:26.178Z"
   },
   {
    "duration": 6,
    "start_time": "2021-10-27T07:10:27.361Z"
   },
   {
    "duration": 6,
    "start_time": "2021-10-27T07:10:28.146Z"
   },
   {
    "duration": 1538,
    "start_time": "2021-10-27T07:10:41.154Z"
   },
   {
    "duration": 5,
    "start_time": "2021-10-27T07:10:42.695Z"
   },
   {
    "duration": 718,
    "start_time": "2021-10-27T07:10:42.703Z"
   },
   {
    "duration": 4,
    "start_time": "2021-10-27T07:10:43.425Z"
   },
   {
    "duration": 184,
    "start_time": "2021-10-27T07:10:43.432Z"
   },
   {
    "duration": 12,
    "start_time": "2021-10-27T07:10:43.619Z"
   },
   {
    "duration": 235,
    "start_time": "2021-10-27T07:10:43.633Z"
   },
   {
    "duration": 178,
    "start_time": "2021-10-27T07:10:43.873Z"
   },
   {
    "duration": 110,
    "start_time": "2021-10-27T07:10:44.054Z"
   },
   {
    "duration": 61,
    "start_time": "2021-10-27T07:10:44.167Z"
   },
   {
    "duration": 11,
    "start_time": "2021-10-27T07:10:44.230Z"
   },
   {
    "duration": 35,
    "start_time": "2021-10-27T07:10:44.244Z"
   },
   {
    "duration": 4,
    "start_time": "2021-10-27T07:10:44.281Z"
   },
   {
    "duration": 53,
    "start_time": "2021-10-27T07:10:44.287Z"
   },
   {
    "duration": 3,
    "start_time": "2021-10-27T07:10:44.343Z"
   },
   {
    "duration": 52,
    "start_time": "2021-10-27T07:10:44.348Z"
   },
   {
    "duration": 53,
    "start_time": "2021-10-27T07:10:44.403Z"
   },
   {
    "duration": 64,
    "start_time": "2021-10-27T07:10:44.458Z"
   },
   {
    "duration": 4,
    "start_time": "2021-10-27T07:10:44.525Z"
   },
   {
    "duration": 761,
    "start_time": "2021-10-27T07:10:44.531Z"
   },
   {
    "duration": 13,
    "start_time": "2021-10-27T07:10:45.294Z"
   },
   {
    "duration": 10,
    "start_time": "2021-10-27T07:10:45.309Z"
   },
   {
    "duration": 11,
    "start_time": "2021-10-27T07:10:45.323Z"
   },
   {
    "duration": 706,
    "start_time": "2021-10-27T07:10:45.337Z"
   },
   {
    "duration": 707,
    "start_time": "2021-10-27T07:10:46.045Z"
   },
   {
    "duration": 6,
    "start_time": "2021-10-27T07:10:46.755Z"
   },
   {
    "duration": 2311,
    "start_time": "2021-10-27T07:10:46.763Z"
   },
   {
    "duration": 2225,
    "start_time": "2021-10-27T07:10:49.077Z"
   },
   {
    "duration": 8,
    "start_time": "2021-10-27T07:10:51.305Z"
   },
   {
    "duration": 517,
    "start_time": "2021-10-27T07:10:51.315Z"
   },
   {
    "duration": -584,
    "start_time": "2021-10-27T07:10:52.419Z"
   },
   {
    "duration": -588,
    "start_time": "2021-10-27T07:10:52.424Z"
   },
   {
    "duration": -591,
    "start_time": "2021-10-27T07:10:52.428Z"
   },
   {
    "duration": -591,
    "start_time": "2021-10-27T07:10:52.430Z"
   },
   {
    "duration": -592,
    "start_time": "2021-10-27T07:10:52.432Z"
   },
   {
    "duration": -594,
    "start_time": "2021-10-27T07:10:52.435Z"
   },
   {
    "duration": 8,
    "start_time": "2021-10-27T07:13:45.032Z"
   },
   {
    "duration": 8,
    "start_time": "2021-10-27T07:13:52.871Z"
   },
   {
    "duration": 8,
    "start_time": "2021-10-27T07:13:54.167Z"
   },
   {
    "duration": 1516,
    "start_time": "2021-10-27T07:14:01.984Z"
   },
   {
    "duration": 4,
    "start_time": "2021-10-27T07:14:03.506Z"
   },
   {
    "duration": 704,
    "start_time": "2021-10-27T07:14:03.512Z"
   },
   {
    "duration": 5,
    "start_time": "2021-10-27T07:14:04.220Z"
   },
   {
    "duration": 185,
    "start_time": "2021-10-27T07:14:04.228Z"
   },
   {
    "duration": 12,
    "start_time": "2021-10-27T07:14:04.416Z"
   },
   {
    "duration": 221,
    "start_time": "2021-10-27T07:14:04.431Z"
   },
   {
    "duration": 167,
    "start_time": "2021-10-27T07:14:04.658Z"
   },
   {
    "duration": 104,
    "start_time": "2021-10-27T07:14:04.828Z"
   },
   {
    "duration": 36,
    "start_time": "2021-10-27T07:14:04.935Z"
   },
   {
    "duration": 30,
    "start_time": "2021-10-27T07:14:04.974Z"
   },
   {
    "duration": 13,
    "start_time": "2021-10-27T07:14:05.007Z"
   },
   {
    "duration": 3,
    "start_time": "2021-10-27T07:14:05.022Z"
   },
   {
    "duration": 31,
    "start_time": "2021-10-27T07:14:05.027Z"
   },
   {
    "duration": 3,
    "start_time": "2021-10-27T07:14:05.100Z"
   },
   {
    "duration": 48,
    "start_time": "2021-10-27T07:14:05.105Z"
   },
   {
    "duration": 63,
    "start_time": "2021-10-27T07:14:05.155Z"
   },
   {
    "duration": 43,
    "start_time": "2021-10-27T07:14:05.220Z"
   },
   {
    "duration": 3,
    "start_time": "2021-10-27T07:14:05.266Z"
   },
   {
    "duration": 752,
    "start_time": "2021-10-27T07:14:05.272Z"
   },
   {
    "duration": 5,
    "start_time": "2021-10-27T07:14:06.027Z"
   },
   {
    "duration": 37,
    "start_time": "2021-10-27T07:14:06.035Z"
   },
   {
    "duration": 29,
    "start_time": "2021-10-27T07:14:06.075Z"
   },
   {
    "duration": 683,
    "start_time": "2021-10-27T07:14:06.106Z"
   },
   {
    "duration": 712,
    "start_time": "2021-10-27T07:14:06.792Z"
   },
   {
    "duration": 6,
    "start_time": "2021-10-27T07:14:07.510Z"
   },
   {
    "duration": 2408,
    "start_time": "2021-10-27T07:14:07.519Z"
   },
   {
    "duration": 2328,
    "start_time": "2021-10-27T07:14:09.929Z"
   },
   {
    "duration": 8,
    "start_time": "2021-10-27T07:14:12.259Z"
   },
   {
    "duration": 525,
    "start_time": "2021-10-27T07:14:12.269Z"
   },
   {
    "duration": -619,
    "start_time": "2021-10-27T07:14:13.415Z"
   },
   {
    "duration": -622,
    "start_time": "2021-10-27T07:14:13.420Z"
   },
   {
    "duration": -627,
    "start_time": "2021-10-27T07:14:13.426Z"
   },
   {
    "duration": -629,
    "start_time": "2021-10-27T07:14:13.430Z"
   },
   {
    "duration": -631,
    "start_time": "2021-10-27T07:14:13.433Z"
   },
   {
    "duration": -633,
    "start_time": "2021-10-27T07:14:13.436Z"
   },
   {
    "duration": 30,
    "start_time": "2021-10-27T07:22:11.449Z"
   },
   {
    "duration": 1565,
    "start_time": "2021-10-27T07:24:02.518Z"
   },
   {
    "duration": 3,
    "start_time": "2021-10-27T07:24:04.086Z"
   },
   {
    "duration": 723,
    "start_time": "2021-10-27T07:24:04.092Z"
   },
   {
    "duration": 5,
    "start_time": "2021-10-27T07:24:04.818Z"
   },
   {
    "duration": 180,
    "start_time": "2021-10-27T07:24:04.825Z"
   },
   {
    "duration": 12,
    "start_time": "2021-10-27T07:24:05.007Z"
   },
   {
    "duration": 218,
    "start_time": "2021-10-27T07:24:05.022Z"
   },
   {
    "duration": 153,
    "start_time": "2021-10-27T07:24:05.244Z"
   },
   {
    "duration": 122,
    "start_time": "2021-10-27T07:24:05.399Z"
   },
   {
    "duration": 37,
    "start_time": "2021-10-27T07:24:05.524Z"
   },
   {
    "duration": 10,
    "start_time": "2021-10-27T07:24:05.564Z"
   },
   {
    "duration": 15,
    "start_time": "2021-10-27T07:24:05.600Z"
   },
   {
    "duration": 3,
    "start_time": "2021-10-27T07:24:05.618Z"
   },
   {
    "duration": 31,
    "start_time": "2021-10-27T07:24:05.624Z"
   },
   {
    "duration": 3,
    "start_time": "2021-10-27T07:24:05.659Z"
   },
   {
    "duration": 74,
    "start_time": "2021-10-27T07:24:05.664Z"
   },
   {
    "duration": 79,
    "start_time": "2021-10-27T07:24:05.741Z"
   },
   {
    "duration": 42,
    "start_time": "2021-10-27T07:24:05.822Z"
   },
   {
    "duration": 4,
    "start_time": "2021-10-27T07:24:05.866Z"
   },
   {
    "duration": 730,
    "start_time": "2021-10-27T07:24:05.872Z"
   },
   {
    "duration": 668,
    "start_time": "2021-10-27T07:24:06.605Z"
   },
   {
    "duration": 787,
    "start_time": "2021-10-27T07:24:07.275Z"
   },
   {
    "duration": 7,
    "start_time": "2021-10-27T07:24:08.067Z"
   },
   {
    "duration": 2248,
    "start_time": "2021-10-27T07:24:08.076Z"
   },
   {
    "duration": 2196,
    "start_time": "2021-10-27T07:24:10.326Z"
   },
   {
    "duration": 9,
    "start_time": "2021-10-27T07:24:12.524Z"
   },
   {
    "duration": 823,
    "start_time": "2021-10-27T07:24:12.535Z"
   },
   {
    "duration": -592,
    "start_time": "2021-10-27T07:24:13.953Z"
   },
   {
    "duration": -595,
    "start_time": "2021-10-27T07:24:13.958Z"
   },
   {
    "duration": -596,
    "start_time": "2021-10-27T07:24:13.960Z"
   },
   {
    "duration": -597,
    "start_time": "2021-10-27T07:24:13.963Z"
   },
   {
    "duration": -598,
    "start_time": "2021-10-27T07:24:13.965Z"
   },
   {
    "duration": -598,
    "start_time": "2021-10-27T07:24:13.967Z"
   },
   {
    "duration": 9026,
    "start_time": "2021-10-27T07:27:08.297Z"
   },
   {
    "duration": 692,
    "start_time": "2021-10-27T07:27:22.911Z"
   },
   {
    "duration": 640,
    "start_time": "2021-10-27T07:27:41.026Z"
   },
   {
    "duration": 36,
    "start_time": "2021-10-27T07:35:43.791Z"
   },
   {
    "duration": 32,
    "start_time": "2021-10-27T07:36:29.219Z"
   },
   {
    "duration": 849,
    "start_time": "2021-10-27T07:38:20.137Z"
   },
   {
    "duration": 93,
    "start_time": "2021-10-27T07:38:50.789Z"
   },
   {
    "duration": 96,
    "start_time": "2021-10-27T07:39:37.675Z"
   },
   {
    "duration": 727,
    "start_time": "2021-10-27T07:40:02.742Z"
   },
   {
    "duration": 9460,
    "start_time": "2021-10-27T07:40:41.826Z"
   },
   {
    "duration": 1506,
    "start_time": "2021-10-27T07:40:57.294Z"
   },
   {
    "duration": 880,
    "start_time": "2021-10-27T07:41:35.099Z"
   },
   {
    "duration": 38,
    "start_time": "2021-10-27T07:42:23.976Z"
   },
   {
    "duration": 50,
    "start_time": "2021-10-27T07:44:53.514Z"
   },
   {
    "duration": 71,
    "start_time": "2021-10-27T07:45:03.919Z"
   },
   {
    "duration": 5,
    "start_time": "2021-10-27T07:54:57.450Z"
   },
   {
    "duration": 1872,
    "start_time": "2021-10-27T07:54:58.639Z"
   },
   {
    "duration": 9,
    "start_time": "2021-10-27T07:55:21.404Z"
   },
   {
    "duration": 8848,
    "start_time": "2021-10-27T07:55:22.691Z"
   },
   {
    "duration": 132,
    "start_time": "2021-10-27T07:57:03.363Z"
   },
   {
    "duration": 5,
    "start_time": "2021-10-27T07:57:08.719Z"
   },
   {
    "duration": 1949,
    "start_time": "2021-10-27T07:57:09.776Z"
   },
   {
    "duration": 5,
    "start_time": "2021-10-27T07:58:50.086Z"
   },
   {
    "duration": 8652,
    "start_time": "2021-10-27T07:58:51.903Z"
   },
   {
    "duration": 6,
    "start_time": "2021-10-27T08:01:55.529Z"
   },
   {
    "duration": 2347,
    "start_time": "2021-10-27T08:01:59.796Z"
   },
   {
    "duration": 5,
    "start_time": "2021-10-27T08:09:22.675Z"
   },
   {
    "duration": 1437,
    "start_time": "2021-10-27T08:09:23.726Z"
   },
   {
    "duration": 6,
    "start_time": "2021-10-27T08:12:24.388Z"
   },
   {
    "duration": 37725,
    "start_time": "2021-10-27T08:12:25.431Z"
   },
   {
    "duration": 1006,
    "start_time": "2021-10-27T08:13:50.212Z"
   },
   {
    "duration": 2002,
    "start_time": "2021-10-27T08:14:51.105Z"
   },
   {
    "duration": 6,
    "start_time": "2021-10-27T08:14:53.111Z"
   },
   {
    "duration": 935,
    "start_time": "2021-10-27T08:14:53.121Z"
   },
   {
    "duration": 5,
    "start_time": "2021-10-27T08:14:54.059Z"
   },
   {
    "duration": 195,
    "start_time": "2021-10-27T08:14:54.067Z"
   },
   {
    "duration": 28,
    "start_time": "2021-10-27T08:14:54.282Z"
   },
   {
    "duration": 282,
    "start_time": "2021-10-27T08:14:54.314Z"
   },
   {
    "duration": 162,
    "start_time": "2021-10-27T08:14:54.600Z"
   },
   {
    "duration": 115,
    "start_time": "2021-10-27T08:14:54.765Z"
   },
   {
    "duration": 56,
    "start_time": "2021-10-27T08:14:54.883Z"
   },
   {
    "duration": 9,
    "start_time": "2021-10-27T08:14:54.942Z"
   },
   {
    "duration": 13,
    "start_time": "2021-10-27T08:14:54.954Z"
   },
   {
    "duration": 32,
    "start_time": "2021-10-27T08:14:54.970Z"
   },
   {
    "duration": 41,
    "start_time": "2021-10-27T08:14:55.008Z"
   },
   {
    "duration": 3,
    "start_time": "2021-10-27T08:14:55.051Z"
   },
   {
    "duration": 65,
    "start_time": "2021-10-27T08:14:55.057Z"
   },
   {
    "duration": 46,
    "start_time": "2021-10-27T08:14:55.126Z"
   },
   {
    "duration": 68,
    "start_time": "2021-10-27T08:14:55.175Z"
   },
   {
    "duration": 55,
    "start_time": "2021-10-27T08:14:55.246Z"
   },
   {
    "duration": 74,
    "start_time": "2021-10-27T08:14:55.305Z"
   },
   {
    "duration": 6,
    "start_time": "2021-10-27T08:14:55.402Z"
   },
   {
    "duration": 150,
    "start_time": "2021-10-27T08:14:55.411Z"
   },
   {
    "duration": 5,
    "start_time": "2021-10-27T08:14:55.566Z"
   },
   {
    "duration": 9314,
    "start_time": "2021-10-27T08:14:55.574Z"
   },
   {
    "duration": -600,
    "start_time": "2021-10-27T08:15:05.491Z"
   },
   {
    "duration": -602,
    "start_time": "2021-10-27T08:15:05.495Z"
   },
   {
    "duration": -603,
    "start_time": "2021-10-27T08:15:05.498Z"
   },
   {
    "duration": -606,
    "start_time": "2021-10-27T08:15:05.503Z"
   },
   {
    "duration": -608,
    "start_time": "2021-10-27T08:15:05.508Z"
   },
   {
    "duration": -610,
    "start_time": "2021-10-27T08:15:05.511Z"
   },
   {
    "duration": -612,
    "start_time": "2021-10-27T08:15:05.515Z"
   },
   {
    "duration": -614,
    "start_time": "2021-10-27T08:15:05.519Z"
   },
   {
    "duration": -614,
    "start_time": "2021-10-27T08:15:05.521Z"
   },
   {
    "duration": -616,
    "start_time": "2021-10-27T08:15:05.524Z"
   },
   {
    "duration": -616,
    "start_time": "2021-10-27T08:15:05.526Z"
   },
   {
    "duration": -615,
    "start_time": "2021-10-27T08:15:05.528Z"
   },
   {
    "duration": -615,
    "start_time": "2021-10-27T08:15:05.530Z"
   },
   {
    "duration": 38779,
    "start_time": "2021-10-27T08:15:56.959Z"
   },
   {
    "duration": 36078,
    "start_time": "2021-10-27T08:16:56.850Z"
   },
   {
    "duration": 5,
    "start_time": "2021-10-27T08:17:47.168Z"
   },
   {
    "duration": 5,
    "start_time": "2021-10-27T08:17:57.552Z"
   },
   {
    "duration": 1636,
    "start_time": "2021-10-27T08:18:07.740Z"
   },
   {
    "duration": 406,
    "start_time": "2021-10-27T08:18:48.479Z"
   },
   {
    "duration": 7742,
    "start_time": "2021-10-27T08:19:06.079Z"
   },
   {
    "duration": 784,
    "start_time": "2021-10-27T08:19:55.806Z"
   },
   {
    "duration": 785,
    "start_time": "2021-10-27T08:20:46.171Z"
   },
   {
    "duration": 1092,
    "start_time": "2021-10-27T08:21:35.372Z"
   },
   {
    "duration": 32913,
    "start_time": "2021-10-27T08:25:28.316Z"
   },
   {
    "duration": 8,
    "start_time": "2021-10-27T08:28:46.998Z"
   },
   {
    "duration": 40954,
    "start_time": "2021-10-27T08:28:48.007Z"
   },
   {
    "duration": 4,
    "start_time": "2021-10-27T08:41:51.595Z"
   },
   {
    "duration": 1405,
    "start_time": "2021-10-27T08:41:54.078Z"
   },
   {
    "duration": 5,
    "start_time": "2021-10-27T08:43:21.246Z"
   },
   {
    "duration": 1542,
    "start_time": "2021-10-27T08:43:24.613Z"
   },
   {
    "duration": 5,
    "start_time": "2021-10-27T08:43:45.778Z"
   },
   {
    "duration": 1448,
    "start_time": "2021-10-27T08:43:46.618Z"
   },
   {
    "duration": 5,
    "start_time": "2021-10-27T08:45:25.647Z"
   },
   {
    "duration": 3127,
    "start_time": "2021-10-27T08:45:26.775Z"
   },
   {
    "duration": 1209,
    "start_time": "2021-10-27T08:45:44.406Z"
   },
   {
    "duration": 1247,
    "start_time": "2021-10-27T08:46:04.074Z"
   },
   {
    "duration": 2639,
    "start_time": "2021-10-27T08:53:27.880Z"
   },
   {
    "duration": 6,
    "start_time": "2021-10-27T08:53:46.247Z"
   },
   {
    "duration": 1581,
    "start_time": "2021-10-27T08:53:47.391Z"
   },
   {
    "duration": 4,
    "start_time": "2021-10-27T08:54:05.742Z"
   },
   {
    "duration": 871,
    "start_time": "2021-10-27T08:54:06.638Z"
   },
   {
    "duration": 776,
    "start_time": "2021-10-27T08:58:37.585Z"
   },
   {
    "duration": 1216,
    "start_time": "2021-10-27T09:00:44.002Z"
   },
   {
    "duration": 4782,
    "start_time": "2021-10-27T09:02:18.708Z"
   },
   {
    "duration": 1654,
    "start_time": "2021-10-27T09:03:55.496Z"
   },
   {
    "duration": 1715,
    "start_time": "2021-10-27T09:05:20.462Z"
   },
   {
    "duration": 1615,
    "start_time": "2021-10-27T09:05:42.285Z"
   },
   {
    "duration": 1813,
    "start_time": "2021-10-27T09:05:50.968Z"
   },
   {
    "duration": 1467,
    "start_time": "2021-10-27T09:06:11.163Z"
   },
   {
    "duration": 1605,
    "start_time": "2021-10-27T09:06:22.710Z"
   },
   {
    "duration": 1831,
    "start_time": "2021-10-27T09:06:32.096Z"
   },
   {
    "duration": 1806,
    "start_time": "2021-10-27T09:07:05.756Z"
   },
   {
    "duration": 1589,
    "start_time": "2021-10-27T09:07:18.499Z"
   },
   {
    "duration": 1802,
    "start_time": "2021-10-27T09:07:38.503Z"
   },
   {
    "duration": 6083,
    "start_time": "2021-10-27T09:08:12.772Z"
   },
   {
    "duration": 2016,
    "start_time": "2021-10-27T09:08:27.628Z"
   },
   {
    "duration": 1791,
    "start_time": "2021-10-27T09:08:40.903Z"
   },
   {
    "duration": 1850,
    "start_time": "2021-10-27T09:10:30.134Z"
   },
   {
    "duration": 2190,
    "start_time": "2021-10-27T09:11:04.073Z"
   },
   {
    "duration": 1916,
    "start_time": "2021-10-27T09:11:22.316Z"
   },
   {
    "duration": 1792,
    "start_time": "2021-10-27T09:11:36.493Z"
   },
   {
    "duration": 2621,
    "start_time": "2021-10-27T09:11:49.922Z"
   },
   {
    "duration": 1682,
    "start_time": "2021-10-27T09:12:12.701Z"
   },
   {
    "duration": 1669,
    "start_time": "2021-10-27T09:12:21.936Z"
   },
   {
    "duration": 1654,
    "start_time": "2021-10-27T09:14:47.818Z"
   },
   {
    "duration": 4,
    "start_time": "2021-10-27T09:14:49.474Z"
   },
   {
    "duration": 739,
    "start_time": "2021-10-27T09:14:49.481Z"
   },
   {
    "duration": 5,
    "start_time": "2021-10-27T09:14:50.223Z"
   },
   {
    "duration": 180,
    "start_time": "2021-10-27T09:14:50.230Z"
   },
   {
    "duration": 12,
    "start_time": "2021-10-27T09:14:50.412Z"
   },
   {
    "duration": 214,
    "start_time": "2021-10-27T09:14:50.426Z"
   },
   {
    "duration": 162,
    "start_time": "2021-10-27T09:14:50.644Z"
   },
   {
    "duration": 121,
    "start_time": "2021-10-27T09:14:50.809Z"
   },
   {
    "duration": 37,
    "start_time": "2021-10-27T09:14:50.933Z"
   },
   {
    "duration": 30,
    "start_time": "2021-10-27T09:14:50.972Z"
   },
   {
    "duration": 13,
    "start_time": "2021-10-27T09:14:51.004Z"
   },
   {
    "duration": 23,
    "start_time": "2021-10-27T09:14:51.020Z"
   },
   {
    "duration": 49,
    "start_time": "2021-10-27T09:14:51.045Z"
   },
   {
    "duration": 3,
    "start_time": "2021-10-27T09:14:51.097Z"
   },
   {
    "duration": 58,
    "start_time": "2021-10-27T09:14:51.103Z"
   },
   {
    "duration": 51,
    "start_time": "2021-10-27T09:14:51.163Z"
   },
   {
    "duration": 43,
    "start_time": "2021-10-27T09:14:51.217Z"
   },
   {
    "duration": 57,
    "start_time": "2021-10-27T09:14:51.262Z"
   },
   {
    "duration": 97,
    "start_time": "2021-10-27T09:14:51.321Z"
   },
   {
    "duration": 5,
    "start_time": "2021-10-27T09:14:51.420Z"
   },
   {
    "duration": 108,
    "start_time": "2021-10-27T09:14:51.427Z"
   },
   {
    "duration": 1708,
    "start_time": "2021-10-27T09:14:51.540Z"
   },
   {
    "duration": 8,
    "start_time": "2021-10-27T09:14:53.251Z"
   },
   {
    "duration": 517,
    "start_time": "2021-10-27T09:14:53.261Z"
   },
   {
    "duration": -632,
    "start_time": "2021-10-27T09:14:54.413Z"
   },
   {
    "duration": -643,
    "start_time": "2021-10-27T09:14:54.425Z"
   },
   {
    "duration": -650,
    "start_time": "2021-10-27T09:14:54.433Z"
   },
   {
    "duration": -657,
    "start_time": "2021-10-27T09:14:54.442Z"
   },
   {
    "duration": -664,
    "start_time": "2021-10-27T09:14:54.450Z"
   },
   {
    "duration": -669,
    "start_time": "2021-10-27T09:14:54.456Z"
   },
   {
    "duration": -678,
    "start_time": "2021-10-27T09:14:54.466Z"
   },
   {
    "duration": -683,
    "start_time": "2021-10-27T09:14:54.473Z"
   },
   {
    "duration": -689,
    "start_time": "2021-10-27T09:14:54.480Z"
   },
   {
    "duration": 44,
    "start_time": "2021-10-27T09:23:30.477Z"
   },
   {
    "duration": 53,
    "start_time": "2021-10-27T09:24:52.983Z"
   },
   {
    "duration": 574,
    "start_time": "2021-10-27T09:26:10.353Z"
   },
   {
    "duration": 1497,
    "start_time": "2021-10-27T09:27:56.984Z"
   },
   {
    "duration": 91,
    "start_time": "2021-10-27T09:28:43.934Z"
   },
   {
    "duration": 94,
    "start_time": "2021-10-27T09:28:58.047Z"
   },
   {
    "duration": 96,
    "start_time": "2021-10-27T09:29:04.220Z"
   },
   {
    "duration": 80,
    "start_time": "2021-10-27T09:30:54.479Z"
   },
   {
    "duration": 78,
    "start_time": "2021-10-27T09:35:41.024Z"
   },
   {
    "duration": 4,
    "start_time": "2021-10-27T09:39:04.756Z"
   },
   {
    "duration": 394,
    "start_time": "2021-10-27T09:39:09.964Z"
   },
   {
    "duration": 4,
    "start_time": "2021-10-27T09:40:30.940Z"
   },
   {
    "duration": 429,
    "start_time": "2021-10-27T09:40:32.076Z"
   },
   {
    "duration": 404,
    "start_time": "2021-10-27T09:40:50.138Z"
   },
   {
    "duration": 4,
    "start_time": "2021-10-27T09:44:18.332Z"
   },
   {
    "duration": 1201,
    "start_time": "2021-10-27T09:44:19.394Z"
   },
   {
    "duration": 5,
    "start_time": "2021-10-27T09:44:54.407Z"
   },
   {
    "duration": 486,
    "start_time": "2021-10-27T09:44:55.464Z"
   },
   {
    "duration": 376,
    "start_time": "2021-10-27T09:47:44.491Z"
   },
   {
    "duration": 13744,
    "start_time": "2021-10-27T09:47:59.239Z"
   },
   {
    "duration": 18,
    "start_time": "2021-10-27T09:48:25.732Z"
   },
   {
    "duration": 27,
    "start_time": "2021-10-27T09:49:23.548Z"
   },
   {
    "duration": 28,
    "start_time": "2021-10-27T09:49:25.186Z"
   },
   {
    "duration": 7,
    "start_time": "2021-10-27T09:58:50.393Z"
   },
   {
    "duration": 387,
    "start_time": "2021-10-27T09:58:55.966Z"
   },
   {
    "duration": 1502,
    "start_time": "2021-10-27T09:59:07.078Z"
   },
   {
    "duration": 4,
    "start_time": "2021-10-27T09:59:08.582Z"
   },
   {
    "duration": 753,
    "start_time": "2021-10-27T09:59:08.590Z"
   },
   {
    "duration": 4,
    "start_time": "2021-10-27T09:59:09.346Z"
   },
   {
    "duration": 167,
    "start_time": "2021-10-27T09:59:09.353Z"
   },
   {
    "duration": 11,
    "start_time": "2021-10-27T09:59:09.523Z"
   },
   {
    "duration": 209,
    "start_time": "2021-10-27T09:59:09.537Z"
   },
   {
    "duration": 149,
    "start_time": "2021-10-27T09:59:09.750Z"
   },
   {
    "duration": 124,
    "start_time": "2021-10-27T09:59:09.902Z"
   },
   {
    "duration": 38,
    "start_time": "2021-10-27T09:59:10.029Z"
   },
   {
    "duration": 31,
    "start_time": "2021-10-27T09:59:10.071Z"
   },
   {
    "duration": 16,
    "start_time": "2021-10-27T09:59:10.105Z"
   },
   {
    "duration": 4,
    "start_time": "2021-10-27T09:59:10.124Z"
   },
   {
    "duration": 78,
    "start_time": "2021-10-27T09:59:10.131Z"
   },
   {
    "duration": 2,
    "start_time": "2021-10-27T09:59:10.212Z"
   },
   {
    "duration": 45,
    "start_time": "2021-10-27T09:59:10.217Z"
   },
   {
    "duration": 65,
    "start_time": "2021-10-27T09:59:10.264Z"
   },
   {
    "duration": 45,
    "start_time": "2021-10-27T09:59:10.331Z"
   },
   {
    "duration": 33,
    "start_time": "2021-10-27T09:59:10.400Z"
   },
   {
    "duration": 89,
    "start_time": "2021-10-27T09:59:10.436Z"
   },
   {
    "duration": 4,
    "start_time": "2021-10-27T09:59:10.527Z"
   },
   {
    "duration": 113,
    "start_time": "2021-10-27T09:59:10.533Z"
   },
   {
    "duration": 1692,
    "start_time": "2021-10-27T09:59:10.650Z"
   },
   {
    "duration": 8,
    "start_time": "2021-10-27T09:59:12.345Z"
   },
   {
    "duration": 98,
    "start_time": "2021-10-27T09:59:12.355Z"
   },
   {
    "duration": 48,
    "start_time": "2021-10-27T09:59:12.456Z"
   },
   {
    "duration": 7,
    "start_time": "2021-10-27T09:59:12.507Z"
   },
   {
    "duration": 547,
    "start_time": "2021-10-27T09:59:12.516Z"
   },
   {
    "duration": -469,
    "start_time": "2021-10-27T09:59:13.534Z"
   },
   {
    "duration": -471,
    "start_time": "2021-10-27T09:59:13.538Z"
   },
   {
    "duration": -473,
    "start_time": "2021-10-27T09:59:13.541Z"
   },
   {
    "duration": 5639,
    "start_time": "2021-10-27T09:59:26.769Z"
   },
   {
    "duration": 14,
    "start_time": "2021-10-27T10:04:37.263Z"
   },
   {
    "duration": 1514,
    "start_time": "2021-10-27T10:04:51.976Z"
   },
   {
    "duration": 4,
    "start_time": "2021-10-27T10:04:53.492Z"
   },
   {
    "duration": 739,
    "start_time": "2021-10-27T10:04:53.500Z"
   },
   {
    "duration": 5,
    "start_time": "2021-10-27T10:04:54.242Z"
   },
   {
    "duration": 176,
    "start_time": "2021-10-27T10:04:54.250Z"
   },
   {
    "duration": 12,
    "start_time": "2021-10-27T10:04:54.429Z"
   },
   {
    "duration": 221,
    "start_time": "2021-10-27T10:04:54.443Z"
   },
   {
    "duration": 144,
    "start_time": "2021-10-27T10:04:54.668Z"
   },
   {
    "duration": 113,
    "start_time": "2021-10-27T10:04:54.815Z"
   },
   {
    "duration": 37,
    "start_time": "2021-10-27T10:04:54.930Z"
   },
   {
    "duration": 31,
    "start_time": "2021-10-27T10:04:54.970Z"
   },
   {
    "duration": 14,
    "start_time": "2021-10-27T10:04:55.003Z"
   },
   {
    "duration": 3,
    "start_time": "2021-10-27T10:04:55.019Z"
   },
   {
    "duration": 32,
    "start_time": "2021-10-27T10:04:55.024Z"
   },
   {
    "duration": 3,
    "start_time": "2021-10-27T10:04:55.059Z"
   },
   {
    "duration": 72,
    "start_time": "2021-10-27T10:04:55.064Z"
   },
   {
    "duration": 75,
    "start_time": "2021-10-27T10:04:55.139Z"
   },
   {
    "duration": 44,
    "start_time": "2021-10-27T10:04:55.216Z"
   },
   {
    "duration": 56,
    "start_time": "2021-10-27T10:04:55.263Z"
   },
   {
    "duration": 89,
    "start_time": "2021-10-27T10:04:55.322Z"
   },
   {
    "duration": 6,
    "start_time": "2021-10-27T10:04:55.414Z"
   },
   {
    "duration": 117,
    "start_time": "2021-10-27T10:04:55.423Z"
   },
   {
    "duration": 1695,
    "start_time": "2021-10-27T10:04:55.547Z"
   },
   {
    "duration": 8,
    "start_time": "2021-10-27T10:04:57.245Z"
   },
   {
    "duration": 90,
    "start_time": "2021-10-27T10:04:57.255Z"
   },
   {
    "duration": 14,
    "start_time": "2021-10-27T10:04:57.347Z"
   },
   {
    "duration": 55,
    "start_time": "2021-10-27T10:04:57.364Z"
   },
   {
    "duration": 8,
    "start_time": "2021-10-27T10:04:57.422Z"
   },
   {
    "duration": 5713,
    "start_time": "2021-10-27T10:04:57.433Z"
   },
   {
    "duration": 524,
    "start_time": "2021-10-27T10:05:03.148Z"
   },
   {
    "duration": -449,
    "start_time": "2021-10-27T10:05:04.123Z"
   },
   {
    "duration": -452,
    "start_time": "2021-10-27T10:05:04.128Z"
   },
   {
    "duration": 14,
    "start_time": "2021-10-27T10:05:33.574Z"
   },
   {
    "duration": 38,
    "start_time": "2021-10-27T10:08:17.820Z"
   },
   {
    "duration": 14,
    "start_time": "2021-10-27T10:08:30.827Z"
   },
   {
    "duration": 19,
    "start_time": "2021-10-27T10:08:58.124Z"
   },
   {
    "duration": 19,
    "start_time": "2021-10-27T10:09:02.292Z"
   },
   {
    "duration": 19,
    "start_time": "2021-10-27T10:09:14.608Z"
   },
   {
    "duration": 452,
    "start_time": "2021-10-27T10:14:14.451Z"
   },
   {
    "duration": 418,
    "start_time": "2021-10-27T10:15:31.835Z"
   },
   {
    "duration": 396,
    "start_time": "2021-10-27T10:16:25.521Z"
   },
   {
    "duration": 417,
    "start_time": "2021-10-27T10:18:22.291Z"
   },
   {
    "duration": 10,
    "start_time": "2021-10-27T10:19:02.044Z"
   },
   {
    "duration": 405,
    "start_time": "2021-10-27T10:19:56.402Z"
   },
   {
    "duration": 416,
    "start_time": "2021-10-27T10:20:04.563Z"
   },
   {
    "duration": 413,
    "start_time": "2021-10-27T10:20:25.061Z"
   },
   {
    "duration": 129,
    "start_time": "2021-10-27T10:21:09.315Z"
   },
   {
    "duration": 6,
    "start_time": "2021-10-27T10:21:12.237Z"
   },
   {
    "duration": 9,
    "start_time": "2021-10-27T10:21:30.565Z"
   },
   {
    "duration": 7,
    "start_time": "2021-10-27T10:21:48.815Z"
   },
   {
    "duration": 10,
    "start_time": "2021-10-27T10:22:04.331Z"
   },
   {
    "duration": 6,
    "start_time": "2021-10-27T10:22:05.972Z"
   },
   {
    "duration": 440,
    "start_time": "2021-10-27T10:22:24.327Z"
   },
   {
    "duration": 386,
    "start_time": "2021-10-27T10:23:16.669Z"
   },
   {
    "duration": 392,
    "start_time": "2021-10-27T10:24:15.109Z"
   },
   {
    "duration": 1047,
    "start_time": "2021-10-27T10:24:33.560Z"
   },
   {
    "duration": 10,
    "start_time": "2021-10-27T10:25:27.462Z"
   },
   {
    "duration": 21,
    "start_time": "2021-10-27T10:25:41.888Z"
   },
   {
    "duration": 10,
    "start_time": "2021-10-27T10:26:02.003Z"
   },
   {
    "duration": 445,
    "start_time": "2021-10-27T10:26:18.181Z"
   },
   {
    "duration": 382,
    "start_time": "2021-10-27T10:27:43.081Z"
   },
   {
    "duration": 66,
    "start_time": "2021-10-27T10:28:36.160Z"
   },
   {
    "duration": 13,
    "start_time": "2021-10-27T10:30:09.269Z"
   },
   {
    "duration": 1502,
    "start_time": "2021-10-27T10:30:43.937Z"
   },
   {
    "duration": 4,
    "start_time": "2021-10-27T10:30:45.442Z"
   },
   {
    "duration": 729,
    "start_time": "2021-10-27T10:30:45.449Z"
   },
   {
    "duration": 5,
    "start_time": "2021-10-27T10:30:46.182Z"
   },
   {
    "duration": 161,
    "start_time": "2021-10-27T10:30:46.190Z"
   },
   {
    "duration": 12,
    "start_time": "2021-10-27T10:30:46.353Z"
   },
   {
    "duration": 226,
    "start_time": "2021-10-27T10:30:46.368Z"
   },
   {
    "duration": 150,
    "start_time": "2021-10-27T10:30:46.601Z"
   },
   {
    "duration": 111,
    "start_time": "2021-10-27T10:30:46.754Z"
   },
   {
    "duration": 50,
    "start_time": "2021-10-27T10:30:46.868Z"
   },
   {
    "duration": 11,
    "start_time": "2021-10-27T10:30:46.921Z"
   },
   {
    "duration": 12,
    "start_time": "2021-10-27T10:30:46.934Z"
   },
   {
    "duration": 3,
    "start_time": "2021-10-27T10:30:46.949Z"
   },
   {
    "duration": 71,
    "start_time": "2021-10-27T10:30:46.955Z"
   },
   {
    "duration": 3,
    "start_time": "2021-10-27T10:30:47.029Z"
   },
   {
    "duration": 44,
    "start_time": "2021-10-27T10:30:47.034Z"
   },
   {
    "duration": 64,
    "start_time": "2021-10-27T10:30:47.081Z"
   },
   {
    "duration": 71,
    "start_time": "2021-10-27T10:30:47.148Z"
   },
   {
    "duration": 31,
    "start_time": "2021-10-27T10:30:47.222Z"
   },
   {
    "duration": 96,
    "start_time": "2021-10-27T10:30:47.255Z"
   },
   {
    "duration": 3,
    "start_time": "2021-10-27T10:30:47.353Z"
   },
   {
    "duration": 112,
    "start_time": "2021-10-27T10:30:47.359Z"
   },
   {
    "duration": 1717,
    "start_time": "2021-10-27T10:30:47.483Z"
   },
   {
    "duration": 8,
    "start_time": "2021-10-27T10:30:49.203Z"
   },
   {
    "duration": 105,
    "start_time": "2021-10-27T10:30:49.214Z"
   },
   {
    "duration": 14,
    "start_time": "2021-10-27T10:30:49.322Z"
   },
   {
    "duration": 92,
    "start_time": "2021-10-27T10:30:49.338Z"
   },
   {
    "duration": 541,
    "start_time": "2021-10-27T10:30:49.433Z"
   },
   {
    "duration": -435,
    "start_time": "2021-10-27T10:30:50.411Z"
   },
   {
    "duration": -436,
    "start_time": "2021-10-27T10:30:50.414Z"
   },
   {
    "duration": -437,
    "start_time": "2021-10-27T10:30:50.417Z"
   },
   {
    "duration": -438,
    "start_time": "2021-10-27T10:30:50.420Z"
   },
   {
    "duration": -439,
    "start_time": "2021-10-27T10:30:50.422Z"
   },
   {
    "duration": -439,
    "start_time": "2021-10-27T10:30:50.424Z"
   },
   {
    "duration": 75,
    "start_time": "2021-10-27T10:31:22.922Z"
   },
   {
    "duration": 23,
    "start_time": "2021-10-27T10:33:49.557Z"
   },
   {
    "duration": 2773,
    "start_time": "2021-10-27T10:34:53.178Z"
   },
   {
    "duration": 60,
    "start_time": "2021-10-27T10:37:26.789Z"
   },
   {
    "duration": 49,
    "start_time": "2021-10-27T10:38:59.126Z"
   },
   {
    "duration": 130,
    "start_time": "2021-10-27T10:43:08.552Z"
   },
   {
    "duration": 30,
    "start_time": "2021-10-27T10:45:17.716Z"
   },
   {
    "duration": 1552,
    "start_time": "2021-10-27T10:46:07.716Z"
   },
   {
    "duration": 1880,
    "start_time": "2021-10-27T10:48:31.554Z"
   },
   {
    "duration": 126,
    "start_time": "2021-10-27T10:49:30.642Z"
   },
   {
    "duration": 21,
    "start_time": "2021-10-27T10:49:36.484Z"
   },
   {
    "duration": 1584,
    "start_time": "2021-10-27T10:50:02.308Z"
   },
   {
    "duration": 22,
    "start_time": "2021-10-27T10:50:18.225Z"
   },
   {
    "duration": 1688,
    "start_time": "2021-10-27T10:50:47.433Z"
   },
   {
    "duration": 22,
    "start_time": "2021-10-27T10:51:12.450Z"
   },
   {
    "duration": 19,
    "start_time": "2021-10-27T10:52:53.008Z"
   },
   {
    "duration": 22,
    "start_time": "2021-10-27T10:53:39.116Z"
   },
   {
    "duration": 19,
    "start_time": "2021-10-27T10:55:31.993Z"
   },
   {
    "duration": 19,
    "start_time": "2021-10-27T10:55:51.355Z"
   },
   {
    "duration": 15,
    "start_time": "2021-10-27T10:56:12.791Z"
   },
   {
    "duration": 19,
    "start_time": "2021-10-27T10:56:15.677Z"
   },
   {
    "duration": 19,
    "start_time": "2021-10-27T10:56:46.627Z"
   },
   {
    "duration": 2630,
    "start_time": "2021-10-27T11:01:34.148Z"
   },
   {
    "duration": 423,
    "start_time": "2021-10-27T11:02:24.664Z"
   },
   {
    "duration": 26,
    "start_time": "2021-10-27T11:02:39.321Z"
   },
   {
    "duration": 15,
    "start_time": "2021-10-27T11:03:05.478Z"
   },
   {
    "duration": 11,
    "start_time": "2021-10-27T11:03:21.776Z"
   },
   {
    "duration": 11,
    "start_time": "2021-10-27T11:03:57.566Z"
   },
   {
    "duration": 12,
    "start_time": "2021-10-27T11:04:08.294Z"
   },
   {
    "duration": 8,
    "start_time": "2021-10-27T11:05:07.383Z"
   },
   {
    "duration": 1529,
    "start_time": "2021-10-27T11:05:16.665Z"
   },
   {
    "duration": 4,
    "start_time": "2021-10-27T11:05:18.197Z"
   },
   {
    "duration": 736,
    "start_time": "2021-10-27T11:05:18.206Z"
   },
   {
    "duration": 4,
    "start_time": "2021-10-27T11:05:18.945Z"
   },
   {
    "duration": 160,
    "start_time": "2021-10-27T11:05:18.951Z"
   },
   {
    "duration": 12,
    "start_time": "2021-10-27T11:05:19.113Z"
   },
   {
    "duration": 213,
    "start_time": "2021-10-27T11:05:19.127Z"
   },
   {
    "duration": 159,
    "start_time": "2021-10-27T11:05:19.344Z"
   },
   {
    "duration": 113,
    "start_time": "2021-10-27T11:05:19.506Z"
   },
   {
    "duration": 37,
    "start_time": "2021-10-27T11:05:19.621Z"
   },
   {
    "duration": 39,
    "start_time": "2021-10-27T11:05:19.661Z"
   },
   {
    "duration": 12,
    "start_time": "2021-10-27T11:05:19.703Z"
   },
   {
    "duration": 3,
    "start_time": "2021-10-27T11:05:19.717Z"
   },
   {
    "duration": 38,
    "start_time": "2021-10-27T11:05:19.722Z"
   },
   {
    "duration": 3,
    "start_time": "2021-10-27T11:05:19.763Z"
   },
   {
    "duration": 46,
    "start_time": "2021-10-27T11:05:19.801Z"
   },
   {
    "duration": 68,
    "start_time": "2021-10-27T11:05:19.849Z"
   },
   {
    "duration": 43,
    "start_time": "2021-10-27T11:05:19.920Z"
   },
   {
    "duration": 54,
    "start_time": "2021-10-27T11:05:19.965Z"
   },
   {
    "duration": 90,
    "start_time": "2021-10-27T11:05:20.021Z"
   },
   {
    "duration": 4,
    "start_time": "2021-10-27T11:05:20.113Z"
   },
   {
    "duration": 120,
    "start_time": "2021-10-27T11:05:20.119Z"
   },
   {
    "duration": 1735,
    "start_time": "2021-10-27T11:05:20.243Z"
   },
   {
    "duration": 19,
    "start_time": "2021-10-27T11:05:21.981Z"
   },
   {
    "duration": 98,
    "start_time": "2021-10-27T11:05:22.003Z"
   },
   {
    "duration": 9,
    "start_time": "2021-10-27T11:05:22.103Z"
   },
   {
    "duration": 23,
    "start_time": "2021-10-27T11:05:22.115Z"
   },
   {
    "duration": 608,
    "start_time": "2021-10-27T11:05:22.141Z"
   },
   {
    "duration": -403,
    "start_time": "2021-10-27T11:05:23.156Z"
   },
   {
    "duration": -409,
    "start_time": "2021-10-27T11:05:23.164Z"
   },
   {
    "duration": -410,
    "start_time": "2021-10-27T11:05:23.167Z"
   },
   {
    "duration": -410,
    "start_time": "2021-10-27T11:05:23.169Z"
   },
   {
    "duration": -410,
    "start_time": "2021-10-27T11:05:23.171Z"
   },
   {
    "duration": -410,
    "start_time": "2021-10-27T11:05:23.173Z"
   },
   {
    "duration": 139,
    "start_time": "2021-10-27T11:05:54.536Z"
   },
   {
    "duration": 25,
    "start_time": "2021-10-27T11:06:11.361Z"
   },
   {
    "duration": 27,
    "start_time": "2021-10-27T11:06:44.132Z"
   },
   {
    "duration": 33,
    "start_time": "2021-10-27T11:07:17.958Z"
   },
   {
    "duration": 5136,
    "start_time": "2021-10-27T11:10:03.727Z"
   },
   {
    "duration": 4933,
    "start_time": "2021-10-27T11:11:04.403Z"
   },
   {
    "duration": 33,
    "start_time": "2021-10-27T11:11:47.714Z"
   },
   {
    "duration": 6861,
    "start_time": "2021-10-27T11:13:00.200Z"
   },
   {
    "duration": 20,
    "start_time": "2021-10-27T11:13:21.783Z"
   },
   {
    "duration": 34,
    "start_time": "2021-10-27T11:13:37.890Z"
   },
   {
    "duration": 4,
    "start_time": "2021-10-27T11:13:55.205Z"
   },
   {
    "duration": 31,
    "start_time": "2021-10-27T11:14:01.772Z"
   },
   {
    "duration": 5350,
    "start_time": "2021-10-27T11:14:21.567Z"
   },
   {
    "duration": 4830,
    "start_time": "2021-10-27T11:14:39.193Z"
   },
   {
    "duration": 8816,
    "start_time": "2021-10-27T11:15:12.591Z"
   },
   {
    "duration": 4,
    "start_time": "2021-10-27T11:17:26.319Z"
   },
   {
    "duration": 33,
    "start_time": "2021-10-27T11:17:27.330Z"
   },
   {
    "duration": 4841,
    "start_time": "2021-10-27T11:17:48.863Z"
   },
   {
    "duration": 7953,
    "start_time": "2021-10-27T11:18:38.134Z"
   },
   {
    "duration": 5016,
    "start_time": "2021-10-27T11:18:50.905Z"
   },
   {
    "duration": 8,
    "start_time": "2021-10-27T11:20:11.223Z"
   },
   {
    "duration": 401,
    "start_time": "2021-10-27T11:20:35.033Z"
   },
   {
    "duration": 1589,
    "start_time": "2021-10-27T11:20:47.587Z"
   },
   {
    "duration": 5,
    "start_time": "2021-10-27T11:20:49.179Z"
   },
   {
    "duration": 762,
    "start_time": "2021-10-27T11:20:49.188Z"
   },
   {
    "duration": 4,
    "start_time": "2021-10-27T11:20:49.954Z"
   },
   {
    "duration": 163,
    "start_time": "2021-10-27T11:20:49.962Z"
   },
   {
    "duration": 12,
    "start_time": "2021-10-27T11:20:50.128Z"
   },
   {
    "duration": 224,
    "start_time": "2021-10-27T11:20:50.143Z"
   },
   {
    "duration": 155,
    "start_time": "2021-10-27T11:20:50.373Z"
   },
   {
    "duration": 114,
    "start_time": "2021-10-27T11:20:50.533Z"
   },
   {
    "duration": 54,
    "start_time": "2021-10-27T11:20:50.651Z"
   },
   {
    "duration": 9,
    "start_time": "2021-10-27T11:20:50.708Z"
   },
   {
    "duration": 27,
    "start_time": "2021-10-27T11:20:50.720Z"
   },
   {
    "duration": 10,
    "start_time": "2021-10-27T11:20:50.750Z"
   },
   {
    "duration": 49,
    "start_time": "2021-10-27T11:20:50.763Z"
   },
   {
    "duration": 3,
    "start_time": "2021-10-27T11:20:50.815Z"
   },
   {
    "duration": 53,
    "start_time": "2021-10-27T11:20:50.821Z"
   },
   {
    "duration": 61,
    "start_time": "2021-10-27T11:20:50.877Z"
   },
   {
    "duration": 63,
    "start_time": "2021-10-27T11:20:50.941Z"
   },
   {
    "duration": 32,
    "start_time": "2021-10-27T11:20:51.007Z"
   },
   {
    "duration": 92,
    "start_time": "2021-10-27T11:20:51.042Z"
   },
   {
    "duration": 5,
    "start_time": "2021-10-27T11:20:51.136Z"
   },
   {
    "duration": 115,
    "start_time": "2021-10-27T11:20:51.143Z"
   },
   {
    "duration": 1702,
    "start_time": "2021-10-27T11:20:51.263Z"
   },
   {
    "duration": 8,
    "start_time": "2021-10-27T11:20:52.968Z"
   },
   {
    "duration": 102,
    "start_time": "2021-10-27T11:20:52.978Z"
   },
   {
    "duration": 532,
    "start_time": "2021-10-27T11:20:53.082Z"
   },
   {
    "duration": -361,
    "start_time": "2021-10-27T11:20:53.979Z"
   },
   {
    "duration": -374,
    "start_time": "2021-10-27T11:20:53.994Z"
   },
   {
    "duration": -384,
    "start_time": "2021-10-27T11:20:54.006Z"
   },
   {
    "duration": -385,
    "start_time": "2021-10-27T11:20:54.009Z"
   },
   {
    "duration": -394,
    "start_time": "2021-10-27T11:20:54.020Z"
   },
   {
    "duration": -396,
    "start_time": "2021-10-27T11:20:54.024Z"
   },
   {
    "duration": -398,
    "start_time": "2021-10-27T11:20:54.029Z"
   },
   {
    "duration": -405,
    "start_time": "2021-10-27T11:20:54.038Z"
   },
   {
    "duration": 11,
    "start_time": "2021-10-27T11:22:55.196Z"
   },
   {
    "duration": 11,
    "start_time": "2021-10-27T11:23:07.660Z"
   },
   {
    "duration": 126,
    "start_time": "2021-10-27T11:24:01.197Z"
   },
   {
    "duration": 5128,
    "start_time": "2021-10-27T11:24:52.707Z"
   },
   {
    "duration": 4989,
    "start_time": "2021-10-27T11:25:15.814Z"
   },
   {
    "duration": 4912,
    "start_time": "2021-10-27T11:26:03.884Z"
   },
   {
    "duration": 5802,
    "start_time": "2021-10-27T11:26:20.888Z"
   },
   {
    "duration": 4968,
    "start_time": "2021-10-27T11:26:40.523Z"
   },
   {
    "duration": 5560,
    "start_time": "2021-10-27T11:27:21.428Z"
   },
   {
    "duration": 438,
    "start_time": "2021-10-27T11:27:33.393Z"
   },
   {
    "duration": 8,
    "start_time": "2021-10-27T11:27:40.883Z"
   },
   {
    "duration": 5131,
    "start_time": "2021-10-27T11:27:51.539Z"
   },
   {
    "duration": 9,
    "start_time": "2021-10-27T11:28:00.249Z"
   },
   {
    "duration": 1542,
    "start_time": "2021-10-27T11:28:27.144Z"
   },
   {
    "duration": 4,
    "start_time": "2021-10-27T11:28:28.689Z"
   },
   {
    "duration": 690,
    "start_time": "2021-10-27T11:28:28.702Z"
   },
   {
    "duration": 6,
    "start_time": "2021-10-27T11:28:29.396Z"
   },
   {
    "duration": 163,
    "start_time": "2021-10-27T11:28:29.405Z"
   },
   {
    "duration": 31,
    "start_time": "2021-10-27T11:28:29.571Z"
   },
   {
    "duration": 216,
    "start_time": "2021-10-27T11:28:29.605Z"
   },
   {
    "duration": 155,
    "start_time": "2021-10-27T11:28:29.827Z"
   },
   {
    "duration": 117,
    "start_time": "2021-10-27T11:28:29.985Z"
   },
   {
    "duration": 38,
    "start_time": "2021-10-27T11:28:30.105Z"
   },
   {
    "duration": 10,
    "start_time": "2021-10-27T11:28:30.145Z"
   },
   {
    "duration": 47,
    "start_time": "2021-10-27T11:28:30.157Z"
   },
   {
    "duration": 4,
    "start_time": "2021-10-27T11:28:30.207Z"
   },
   {
    "duration": 52,
    "start_time": "2021-10-27T11:28:30.214Z"
   },
   {
    "duration": 4,
    "start_time": "2021-10-27T11:28:30.269Z"
   },
   {
    "duration": 61,
    "start_time": "2021-10-27T11:28:30.276Z"
   },
   {
    "duration": 70,
    "start_time": "2021-10-27T11:28:30.341Z"
   },
   {
    "duration": 46,
    "start_time": "2021-10-27T11:28:30.413Z"
   },
   {
    "duration": 62,
    "start_time": "2021-10-27T11:28:30.462Z"
   },
   {
    "duration": 87,
    "start_time": "2021-10-27T11:28:30.526Z"
   },
   {
    "duration": 4,
    "start_time": "2021-10-27T11:28:30.615Z"
   },
   {
    "duration": 118,
    "start_time": "2021-10-27T11:28:30.621Z"
   },
   {
    "duration": 1713,
    "start_time": "2021-10-27T11:28:30.744Z"
   },
   {
    "duration": 8,
    "start_time": "2021-10-27T11:28:32.460Z"
   },
   {
    "duration": 91,
    "start_time": "2021-10-27T11:28:32.470Z"
   },
   {
    "duration": 4,
    "start_time": "2021-10-27T11:28:32.563Z"
   },
   {
    "duration": 33,
    "start_time": "2021-10-27T11:28:32.569Z"
   },
   {
    "duration": 4990,
    "start_time": "2021-10-27T11:28:32.604Z"
   },
   {
    "duration": -415,
    "start_time": "2021-10-27T11:28:38.011Z"
   },
   {
    "duration": -425,
    "start_time": "2021-10-27T11:28:38.023Z"
   },
   {
    "duration": -433,
    "start_time": "2021-10-27T11:28:38.032Z"
   },
   {
    "duration": -440,
    "start_time": "2021-10-27T11:28:38.041Z"
   },
   {
    "duration": -447,
    "start_time": "2021-10-27T11:28:38.049Z"
   },
   {
    "duration": -453,
    "start_time": "2021-10-27T11:28:38.057Z"
   },
   {
    "duration": -460,
    "start_time": "2021-10-27T11:28:38.065Z"
   },
   {
    "duration": 5401,
    "start_time": "2021-10-27T11:28:51.004Z"
   },
   {
    "duration": 5834,
    "start_time": "2021-10-27T11:29:04.574Z"
   },
   {
    "duration": 387,
    "start_time": "2021-10-27T11:29:19.663Z"
   },
   {
    "duration": 3,
    "start_time": "2021-10-27T11:29:57.462Z"
   },
   {
    "duration": 19,
    "start_time": "2021-10-27T11:30:05.342Z"
   },
   {
    "duration": 6,
    "start_time": "2021-10-27T11:30:11.271Z"
   },
   {
    "duration": 8,
    "start_time": "2021-10-27T11:30:19.712Z"
   },
   {
    "duration": 136,
    "start_time": "2021-10-27T11:30:53.405Z"
   },
   {
    "duration": 8,
    "start_time": "2021-10-27T11:31:17.088Z"
   },
   {
    "duration": 20,
    "start_time": "2021-10-27T11:31:29.449Z"
   },
   {
    "duration": 10,
    "start_time": "2021-10-27T11:31:44.841Z"
   },
   {
    "duration": 10,
    "start_time": "2021-10-27T11:31:59.462Z"
   },
   {
    "duration": 10,
    "start_time": "2021-10-27T11:33:18.633Z"
   },
   {
    "duration": 4829,
    "start_time": "2021-10-27T11:33:46.666Z"
   },
   {
    "duration": 5554,
    "start_time": "2021-10-27T11:33:53.052Z"
   },
   {
    "duration": 5441,
    "start_time": "2021-10-27T11:34:02.892Z"
   },
   {
    "duration": 4873,
    "start_time": "2021-10-27T11:38:04.899Z"
   },
   {
    "duration": 1518,
    "start_time": "2021-10-27T11:38:20.087Z"
   },
   {
    "duration": 4,
    "start_time": "2021-10-27T11:38:21.608Z"
   },
   {
    "duration": 723,
    "start_time": "2021-10-27T11:38:21.618Z"
   },
   {
    "duration": 4,
    "start_time": "2021-10-27T11:38:22.344Z"
   },
   {
    "duration": 161,
    "start_time": "2021-10-27T11:38:22.351Z"
   },
   {
    "duration": 11,
    "start_time": "2021-10-27T11:38:22.514Z"
   },
   {
    "duration": 206,
    "start_time": "2021-10-27T11:38:22.528Z"
   },
   {
    "duration": 156,
    "start_time": "2021-10-27T11:38:22.738Z"
   },
   {
    "duration": 107,
    "start_time": "2021-10-27T11:38:22.897Z"
   },
   {
    "duration": 37,
    "start_time": "2021-10-27T11:38:23.007Z"
   },
   {
    "duration": 9,
    "start_time": "2021-10-27T11:38:23.047Z"
   },
   {
    "duration": 48,
    "start_time": "2021-10-27T11:38:23.058Z"
   },
   {
    "duration": 3,
    "start_time": "2021-10-27T11:38:23.109Z"
   },
   {
    "duration": 42,
    "start_time": "2021-10-27T11:38:23.114Z"
   },
   {
    "duration": 3,
    "start_time": "2021-10-27T11:38:23.158Z"
   },
   {
    "duration": 60,
    "start_time": "2021-10-27T11:38:23.164Z"
   },
   {
    "duration": 47,
    "start_time": "2021-10-27T11:38:23.227Z"
   },
   {
    "duration": 65,
    "start_time": "2021-10-27T11:38:23.276Z"
   },
   {
    "duration": 56,
    "start_time": "2021-10-27T11:38:23.344Z"
   },
   {
    "duration": 71,
    "start_time": "2021-10-27T11:38:23.403Z"
   },
   {
    "duration": 24,
    "start_time": "2021-10-27T11:38:23.476Z"
   },
   {
    "duration": 108,
    "start_time": "2021-10-27T11:38:23.503Z"
   },
   {
    "duration": 1774,
    "start_time": "2021-10-27T11:38:23.614Z"
   },
   {
    "duration": 12,
    "start_time": "2021-10-27T11:38:25.390Z"
   },
   {
    "duration": 87,
    "start_time": "2021-10-27T11:38:25.405Z"
   },
   {
    "duration": 19,
    "start_time": "2021-10-27T11:38:25.504Z"
   },
   {
    "duration": 6,
    "start_time": "2021-10-27T11:38:25.525Z"
   },
   {
    "duration": 13,
    "start_time": "2021-10-27T11:38:25.533Z"
   },
   {
    "duration": 52,
    "start_time": "2021-10-27T11:38:25.548Z"
   },
   {
    "duration": 126,
    "start_time": "2021-10-27T11:38:25.603Z"
   },
   {
    "duration": -708,
    "start_time": "2021-10-27T11:38:26.439Z"
   },
   {
    "duration": -710,
    "start_time": "2021-10-27T11:38:26.442Z"
   },
   {
    "duration": -711,
    "start_time": "2021-10-27T11:38:26.445Z"
   },
   {
    "duration": -713,
    "start_time": "2021-10-27T11:38:26.448Z"
   },
   {
    "duration": -714,
    "start_time": "2021-10-27T11:38:26.450Z"
   },
   {
    "duration": -715,
    "start_time": "2021-10-27T11:38:26.452Z"
   },
   {
    "duration": -716,
    "start_time": "2021-10-27T11:38:26.454Z"
   },
   {
    "duration": -717,
    "start_time": "2021-10-27T11:38:26.456Z"
   },
   {
    "duration": 22,
    "start_time": "2021-10-27T11:38:59.532Z"
   },
   {
    "duration": 8,
    "start_time": "2021-10-27T11:39:09.047Z"
   },
   {
    "duration": 9,
    "start_time": "2021-10-27T11:39:27.051Z"
   },
   {
    "duration": 10,
    "start_time": "2021-10-27T11:39:57.116Z"
   },
   {
    "duration": 10,
    "start_time": "2021-10-27T11:40:44.708Z"
   },
   {
    "duration": 10,
    "start_time": "2021-10-27T11:41:08.639Z"
   },
   {
    "duration": 1555,
    "start_time": "2021-10-27T11:41:48.813Z"
   },
   {
    "duration": 470,
    "start_time": "2021-10-27T11:42:47.675Z"
   },
   {
    "duration": 126,
    "start_time": "2021-10-27T11:44:40.836Z"
   },
   {
    "duration": 9,
    "start_time": "2021-10-27T11:45:04.712Z"
   },
   {
    "duration": 16,
    "start_time": "2021-10-27T11:45:28.954Z"
   },
   {
    "duration": 16,
    "start_time": "2021-10-27T11:45:58.649Z"
   },
   {
    "duration": 13,
    "start_time": "2021-10-27T11:46:23.569Z"
   },
   {
    "duration": 416,
    "start_time": "2021-10-27T11:47:09.591Z"
   },
   {
    "duration": 37,
    "start_time": "2021-10-27T11:47:19.697Z"
   },
   {
    "duration": 2734,
    "start_time": "2021-10-27T11:48:28.553Z"
   },
   {
    "duration": 36,
    "start_time": "2021-10-27T11:48:36.065Z"
   },
   {
    "duration": 183,
    "start_time": "2021-10-27T11:50:35.396Z"
   },
   {
    "duration": 416,
    "start_time": "2021-10-27T11:51:47.768Z"
   },
   {
    "duration": 21,
    "start_time": "2021-10-27T11:52:13.426Z"
   },
   {
    "duration": 22,
    "start_time": "2021-10-27T11:53:40.841Z"
   },
   {
    "duration": 8,
    "start_time": "2021-10-27T11:55:12.139Z"
   },
   {
    "duration": 25,
    "start_time": "2021-10-27T11:55:22.496Z"
   },
   {
    "duration": 33,
    "start_time": "2021-10-27T11:56:38.876Z"
   },
   {
    "duration": 32,
    "start_time": "2021-10-27T11:57:56.795Z"
   },
   {
    "duration": 34,
    "start_time": "2021-10-27T12:00:12.402Z"
   },
   {
    "duration": 22,
    "start_time": "2021-10-27T12:00:42.686Z"
   },
   {
    "duration": 22,
    "start_time": "2021-10-27T12:00:44.286Z"
   },
   {
    "duration": 1521,
    "start_time": "2021-10-27T12:01:07.056Z"
   },
   {
    "duration": 4,
    "start_time": "2021-10-27T12:01:08.580Z"
   },
   {
    "duration": 732,
    "start_time": "2021-10-27T12:01:08.587Z"
   },
   {
    "duration": 6,
    "start_time": "2021-10-27T12:01:09.323Z"
   },
   {
    "duration": 182,
    "start_time": "2021-10-27T12:01:09.332Z"
   },
   {
    "duration": 11,
    "start_time": "2021-10-27T12:01:09.517Z"
   },
   {
    "duration": 215,
    "start_time": "2021-10-27T12:01:09.530Z"
   },
   {
    "duration": 166,
    "start_time": "2021-10-27T12:01:09.749Z"
   },
   {
    "duration": 136,
    "start_time": "2021-10-27T12:01:09.918Z"
   },
   {
    "duration": 49,
    "start_time": "2021-10-27T12:01:10.057Z"
   },
   {
    "duration": 10,
    "start_time": "2021-10-27T12:01:10.108Z"
   },
   {
    "duration": 13,
    "start_time": "2021-10-27T12:01:10.120Z"
   },
   {
    "duration": 3,
    "start_time": "2021-10-27T12:01:10.135Z"
   },
   {
    "duration": 70,
    "start_time": "2021-10-27T12:01:10.141Z"
   },
   {
    "duration": 3,
    "start_time": "2021-10-27T12:01:10.213Z"
   },
   {
    "duration": 40,
    "start_time": "2021-10-27T12:01:10.218Z"
   },
   {
    "duration": 72,
    "start_time": "2021-10-27T12:01:10.260Z"
   },
   {
    "duration": 42,
    "start_time": "2021-10-27T12:01:10.335Z"
   },
   {
    "duration": 48,
    "start_time": "2021-10-27T12:01:10.380Z"
   },
   {
    "duration": 97,
    "start_time": "2021-10-27T12:01:10.430Z"
   },
   {
    "duration": 4,
    "start_time": "2021-10-27T12:01:10.530Z"
   },
   {
    "duration": 112,
    "start_time": "2021-10-27T12:01:10.537Z"
   },
   {
    "duration": 1709,
    "start_time": "2021-10-27T12:01:10.654Z"
   },
   {
    "duration": 9,
    "start_time": "2021-10-27T12:01:12.367Z"
   },
   {
    "duration": 113,
    "start_time": "2021-10-27T12:01:12.379Z"
   },
   {
    "duration": 18,
    "start_time": "2021-10-27T12:01:12.499Z"
   },
   {
    "duration": 9,
    "start_time": "2021-10-27T12:01:12.519Z"
   },
   {
    "duration": 44,
    "start_time": "2021-10-27T12:01:12.530Z"
   },
   {
    "duration": 48,
    "start_time": "2021-10-27T12:01:12.576Z"
   },
   {
    "duration": 62,
    "start_time": "2021-10-27T12:01:12.627Z"
   },
   {
    "duration": 140,
    "start_time": "2021-10-27T12:01:12.691Z"
   },
   {
    "duration": -636,
    "start_time": "2021-10-27T12:01:13.470Z"
   },
   {
    "duration": -640,
    "start_time": "2021-10-27T12:01:13.475Z"
   },
   {
    "duration": -646,
    "start_time": "2021-10-27T12:01:13.482Z"
   },
   {
    "duration": -650,
    "start_time": "2021-10-27T12:01:13.487Z"
   },
   {
    "duration": -651,
    "start_time": "2021-10-27T12:01:13.490Z"
   },
   {
    "duration": -652,
    "start_time": "2021-10-27T12:01:13.492Z"
   },
   {
    "duration": -656,
    "start_time": "2021-10-27T12:01:13.498Z"
   },
   {
    "duration": -657,
    "start_time": "2021-10-27T12:01:13.500Z"
   },
   {
    "duration": -659,
    "start_time": "2021-10-27T12:01:13.503Z"
   },
   {
    "duration": 1743,
    "start_time": "2021-10-27T12:02:46.534Z"
   },
   {
    "duration": 3,
    "start_time": "2021-10-27T12:02:48.280Z"
   },
   {
    "duration": 719,
    "start_time": "2021-10-27T12:02:48.286Z"
   },
   {
    "duration": 5,
    "start_time": "2021-10-27T12:02:49.008Z"
   },
   {
    "duration": 172,
    "start_time": "2021-10-27T12:02:49.015Z"
   },
   {
    "duration": 20,
    "start_time": "2021-10-27T12:02:49.189Z"
   },
   {
    "duration": 213,
    "start_time": "2021-10-27T12:02:49.211Z"
   },
   {
    "duration": 158,
    "start_time": "2021-10-27T12:02:49.429Z"
   },
   {
    "duration": 105,
    "start_time": "2021-10-27T12:02:49.599Z"
   },
   {
    "duration": 36,
    "start_time": "2021-10-27T12:02:49.707Z"
   },
   {
    "duration": 9,
    "start_time": "2021-10-27T12:02:49.745Z"
   },
   {
    "duration": 25,
    "start_time": "2021-10-27T12:02:49.756Z"
   },
   {
    "duration": 3,
    "start_time": "2021-10-27T12:02:49.801Z"
   },
   {
    "duration": 39,
    "start_time": "2021-10-27T12:02:49.806Z"
   },
   {
    "duration": 3,
    "start_time": "2021-10-27T12:02:49.847Z"
   },
   {
    "duration": 66,
    "start_time": "2021-10-27T12:02:49.853Z"
   },
   {
    "duration": 47,
    "start_time": "2021-10-27T12:02:49.923Z"
   },
   {
    "duration": 70,
    "start_time": "2021-10-27T12:02:49.974Z"
   },
   {
    "duration": 59,
    "start_time": "2021-10-27T12:02:50.047Z"
   },
   {
    "duration": 93,
    "start_time": "2021-10-27T12:02:50.109Z"
   },
   {
    "duration": 5,
    "start_time": "2021-10-27T12:02:50.206Z"
   },
   {
    "duration": 116,
    "start_time": "2021-10-27T12:02:50.214Z"
   },
   {
    "duration": 1728,
    "start_time": "2021-10-27T12:02:50.337Z"
   },
   {
    "duration": 9,
    "start_time": "2021-10-27T12:02:52.069Z"
   },
   {
    "duration": 82,
    "start_time": "2021-10-27T12:02:52.099Z"
   },
   {
    "duration": 20,
    "start_time": "2021-10-27T12:02:52.202Z"
   },
   {
    "duration": 11,
    "start_time": "2021-10-27T12:02:52.225Z"
   },
   {
    "duration": 71,
    "start_time": "2021-10-27T12:02:52.239Z"
   },
   {
    "duration": 24,
    "start_time": "2021-10-27T12:02:52.312Z"
   },
   {
    "duration": 21,
    "start_time": "2021-10-27T12:02:52.338Z"
   },
   {
    "duration": 183,
    "start_time": "2021-10-27T12:02:52.361Z"
   },
   {
    "duration": -671,
    "start_time": "2021-10-27T12:02:53.217Z"
   },
   {
    "duration": -674,
    "start_time": "2021-10-27T12:02:53.221Z"
   },
   {
    "duration": -675,
    "start_time": "2021-10-27T12:02:53.224Z"
   },
   {
    "duration": -678,
    "start_time": "2021-10-27T12:02:53.228Z"
   },
   {
    "duration": -679,
    "start_time": "2021-10-27T12:02:53.230Z"
   },
   {
    "duration": -680,
    "start_time": "2021-10-27T12:02:53.233Z"
   },
   {
    "duration": -680,
    "start_time": "2021-10-27T12:02:53.235Z"
   },
   {
    "duration": -681,
    "start_time": "2021-10-27T12:02:53.237Z"
   },
   {
    "duration": -682,
    "start_time": "2021-10-27T12:02:53.239Z"
   },
   {
    "duration": 1577,
    "start_time": "2021-10-27T12:03:26.119Z"
   },
   {
    "duration": 4,
    "start_time": "2021-10-27T12:03:27.701Z"
   },
   {
    "duration": 1164,
    "start_time": "2021-10-27T12:03:27.709Z"
   },
   {
    "duration": 4,
    "start_time": "2021-10-27T12:03:28.876Z"
   },
   {
    "duration": 174,
    "start_time": "2021-10-27T12:03:28.883Z"
   },
   {
    "duration": 12,
    "start_time": "2021-10-27T12:03:29.059Z"
   },
   {
    "duration": 208,
    "start_time": "2021-10-27T12:03:29.074Z"
   },
   {
    "duration": 155,
    "start_time": "2021-10-27T12:03:29.285Z"
   },
   {
    "duration": 114,
    "start_time": "2021-10-27T12:03:29.443Z"
   },
   {
    "duration": 45,
    "start_time": "2021-10-27T12:03:29.559Z"
   },
   {
    "duration": 9,
    "start_time": "2021-10-27T12:03:29.607Z"
   },
   {
    "duration": 24,
    "start_time": "2021-10-27T12:03:29.618Z"
   },
   {
    "duration": 26,
    "start_time": "2021-10-27T12:03:29.644Z"
   },
   {
    "duration": 43,
    "start_time": "2021-10-27T12:03:29.672Z"
   },
   {
    "duration": 3,
    "start_time": "2021-10-27T12:03:29.717Z"
   },
   {
    "duration": 52,
    "start_time": "2021-10-27T12:03:29.723Z"
   },
   {
    "duration": 58,
    "start_time": "2021-10-27T12:03:29.778Z"
   },
   {
    "duration": 43,
    "start_time": "2021-10-27T12:03:29.838Z"
   },
   {
    "duration": 32,
    "start_time": "2021-10-27T12:03:29.901Z"
   },
   {
    "duration": 99,
    "start_time": "2021-10-27T12:03:29.935Z"
   },
   {
    "duration": 4,
    "start_time": "2021-10-27T12:03:30.036Z"
   },
   {
    "duration": 116,
    "start_time": "2021-10-27T12:03:30.042Z"
   },
   {
    "duration": 1732,
    "start_time": "2021-10-27T12:03:30.163Z"
   },
   {
    "duration": 8,
    "start_time": "2021-10-27T12:03:31.902Z"
   },
   {
    "duration": 103,
    "start_time": "2021-10-27T12:03:31.914Z"
   },
   {
    "duration": 17,
    "start_time": "2021-10-27T12:03:32.020Z"
   },
   {
    "duration": 26,
    "start_time": "2021-10-27T12:03:32.040Z"
   },
   {
    "duration": 50,
    "start_time": "2021-10-27T12:03:32.069Z"
   },
   {
    "duration": 41,
    "start_time": "2021-10-27T12:03:32.121Z"
   },
   {
    "duration": 129,
    "start_time": "2021-10-27T12:03:32.165Z"
   },
   {
    "duration": -662,
    "start_time": "2021-10-27T12:03:32.959Z"
   },
   {
    "duration": -664,
    "start_time": "2021-10-27T12:03:32.963Z"
   },
   {
    "duration": -667,
    "start_time": "2021-10-27T12:03:32.968Z"
   },
   {
    "duration": -669,
    "start_time": "2021-10-27T12:03:32.971Z"
   },
   {
    "duration": -669,
    "start_time": "2021-10-27T12:03:32.973Z"
   },
   {
    "duration": -671,
    "start_time": "2021-10-27T12:03:32.976Z"
   },
   {
    "duration": -672,
    "start_time": "2021-10-27T12:03:32.979Z"
   },
   {
    "duration": -675,
    "start_time": "2021-10-27T12:03:32.984Z"
   },
   {
    "duration": -676,
    "start_time": "2021-10-27T12:03:32.986Z"
   },
   {
    "duration": 24,
    "start_time": "2021-10-27T12:04:42.499Z"
   },
   {
    "duration": 1551,
    "start_time": "2021-10-27T12:05:29.574Z"
   },
   {
    "duration": 3,
    "start_time": "2021-10-27T12:05:31.128Z"
   },
   {
    "duration": 735,
    "start_time": "2021-10-27T12:05:31.134Z"
   },
   {
    "duration": 5,
    "start_time": "2021-10-27T12:05:31.872Z"
   },
   {
    "duration": 156,
    "start_time": "2021-10-27T12:05:31.879Z"
   },
   {
    "duration": 11,
    "start_time": "2021-10-27T12:05:32.038Z"
   },
   {
    "duration": 216,
    "start_time": "2021-10-27T12:05:32.051Z"
   },
   {
    "duration": 152,
    "start_time": "2021-10-27T12:05:32.272Z"
   },
   {
    "duration": 110,
    "start_time": "2021-10-27T12:05:32.427Z"
   },
   {
    "duration": 36,
    "start_time": "2021-10-27T12:05:32.539Z"
   },
   {
    "duration": 29,
    "start_time": "2021-10-27T12:05:32.577Z"
   },
   {
    "duration": 12,
    "start_time": "2021-10-27T12:05:32.608Z"
   },
   {
    "duration": 26,
    "start_time": "2021-10-27T12:05:32.623Z"
   },
   {
    "duration": 48,
    "start_time": "2021-10-27T12:05:32.652Z"
   },
   {
    "duration": 3,
    "start_time": "2021-10-27T12:05:32.702Z"
   },
   {
    "duration": 63,
    "start_time": "2021-10-27T12:05:32.707Z"
   },
   {
    "duration": 61,
    "start_time": "2021-10-27T12:05:32.773Z"
   },
   {
    "duration": 69,
    "start_time": "2021-10-27T12:05:32.837Z"
   },
   {
    "duration": 31,
    "start_time": "2021-10-27T12:05:32.909Z"
   },
   {
    "duration": 94,
    "start_time": "2021-10-27T12:05:32.942Z"
   },
   {
    "duration": 4,
    "start_time": "2021-10-27T12:05:33.039Z"
   },
   {
    "duration": 115,
    "start_time": "2021-10-27T12:05:33.045Z"
   },
   {
    "duration": 1869,
    "start_time": "2021-10-27T12:05:33.164Z"
   },
   {
    "duration": 8,
    "start_time": "2021-10-27T12:05:35.035Z"
   },
   {
    "duration": 95,
    "start_time": "2021-10-27T12:05:35.045Z"
   },
   {
    "duration": 18,
    "start_time": "2021-10-27T12:05:35.142Z"
   },
   {
    "duration": 37,
    "start_time": "2021-10-27T12:05:35.163Z"
   },
   {
    "duration": 31,
    "start_time": "2021-10-27T12:05:35.203Z"
   },
   {
    "duration": 24,
    "start_time": "2021-10-27T12:05:35.236Z"
   },
   {
    "duration": 42,
    "start_time": "2021-10-27T12:05:35.263Z"
   },
   {
    "duration": 9,
    "start_time": "2021-10-27T12:05:35.307Z"
   },
   {
    "duration": 5221,
    "start_time": "2021-10-27T12:05:35.318Z"
   },
   {
    "duration": 523,
    "start_time": "2021-10-27T12:05:40.541Z"
   },
   {
    "duration": -678,
    "start_time": "2021-10-27T12:05:41.745Z"
   },
   {
    "duration": -685,
    "start_time": "2021-10-27T12:05:41.753Z"
   },
   {
    "duration": 1500,
    "start_time": "2021-10-27T12:06:42.793Z"
   },
   {
    "duration": 5,
    "start_time": "2021-10-27T12:06:44.296Z"
   },
   {
    "duration": 715,
    "start_time": "2021-10-27T12:06:44.308Z"
   },
   {
    "duration": 5,
    "start_time": "2021-10-27T12:06:45.026Z"
   },
   {
    "duration": 186,
    "start_time": "2021-10-27T12:06:45.033Z"
   },
   {
    "duration": 12,
    "start_time": "2021-10-27T12:06:45.221Z"
   },
   {
    "duration": 213,
    "start_time": "2021-10-27T12:06:45.235Z"
   },
   {
    "duration": 152,
    "start_time": "2021-10-27T12:06:45.453Z"
   },
   {
    "duration": 124,
    "start_time": "2021-10-27T12:06:45.610Z"
   },
   {
    "duration": 42,
    "start_time": "2021-10-27T12:06:45.737Z"
   },
   {
    "duration": 12,
    "start_time": "2021-10-27T12:06:45.801Z"
   },
   {
    "duration": 15,
    "start_time": "2021-10-27T12:06:45.815Z"
   },
   {
    "duration": 4,
    "start_time": "2021-10-27T12:06:45.832Z"
   },
   {
    "duration": 77,
    "start_time": "2021-10-27T12:06:45.839Z"
   },
   {
    "duration": 3,
    "start_time": "2021-10-27T12:06:45.919Z"
   },
   {
    "duration": 44,
    "start_time": "2021-10-27T12:06:45.924Z"
   },
   {
    "duration": 67,
    "start_time": "2021-10-27T12:06:45.970Z"
   },
   {
    "duration": 63,
    "start_time": "2021-10-27T12:06:46.039Z"
   },
   {
    "duration": 34,
    "start_time": "2021-10-27T12:06:46.104Z"
   },
   {
    "duration": 96,
    "start_time": "2021-10-27T12:06:46.140Z"
   },
   {
    "duration": 4,
    "start_time": "2021-10-27T12:06:46.239Z"
   },
   {
    "duration": 116,
    "start_time": "2021-10-27T12:06:46.245Z"
   },
   {
    "duration": 1792,
    "start_time": "2021-10-27T12:06:46.364Z"
   },
   {
    "duration": 8,
    "start_time": "2021-10-27T12:06:48.158Z"
   },
   {
    "duration": 97,
    "start_time": "2021-10-27T12:06:48.168Z"
   },
   {
    "duration": 34,
    "start_time": "2021-10-27T12:06:48.270Z"
   },
   {
    "duration": 14,
    "start_time": "2021-10-27T12:06:48.307Z"
   },
   {
    "duration": 46,
    "start_time": "2021-10-27T12:06:48.323Z"
   },
   {
    "duration": 528,
    "start_time": "2021-10-27T12:06:48.371Z"
   },
   {
    "duration": -678,
    "start_time": "2021-10-27T12:06:49.580Z"
   },
   {
    "duration": -682,
    "start_time": "2021-10-27T12:06:49.585Z"
   },
   {
    "duration": -682,
    "start_time": "2021-10-27T12:06:49.587Z"
   },
   {
    "duration": -684,
    "start_time": "2021-10-27T12:06:49.590Z"
   },
   {
    "duration": -684,
    "start_time": "2021-10-27T12:06:49.592Z"
   },
   {
    "duration": -685,
    "start_time": "2021-10-27T12:06:49.594Z"
   },
   {
    "duration": 1569,
    "start_time": "2021-10-27T12:07:07.321Z"
   },
   {
    "duration": 7,
    "start_time": "2021-10-27T12:07:08.893Z"
   },
   {
    "duration": 726,
    "start_time": "2021-10-27T12:07:08.903Z"
   },
   {
    "duration": 4,
    "start_time": "2021-10-27T12:07:09.632Z"
   },
   {
    "duration": 177,
    "start_time": "2021-10-27T12:07:09.639Z"
   },
   {
    "duration": 11,
    "start_time": "2021-10-27T12:07:09.819Z"
   },
   {
    "duration": 209,
    "start_time": "2021-10-27T12:07:09.832Z"
   },
   {
    "duration": 149,
    "start_time": "2021-10-27T12:07:10.043Z"
   },
   {
    "duration": 107,
    "start_time": "2021-10-27T12:07:10.196Z"
   },
   {
    "duration": 36,
    "start_time": "2021-10-27T12:07:10.306Z"
   },
   {
    "duration": 12,
    "start_time": "2021-10-27T12:07:10.344Z"
   },
   {
    "duration": 47,
    "start_time": "2021-10-27T12:07:10.360Z"
   },
   {
    "duration": 3,
    "start_time": "2021-10-27T12:07:10.409Z"
   },
   {
    "duration": 33,
    "start_time": "2021-10-27T12:07:10.415Z"
   },
   {
    "duration": 3,
    "start_time": "2021-10-27T12:07:10.450Z"
   },
   {
    "duration": 69,
    "start_time": "2021-10-27T12:07:10.455Z"
   },
   {
    "duration": 47,
    "start_time": "2021-10-27T12:07:10.527Z"
   },
   {
    "duration": 64,
    "start_time": "2021-10-27T12:07:10.576Z"
   },
   {
    "duration": 59,
    "start_time": "2021-10-27T12:07:10.643Z"
   },
   {
    "duration": 72,
    "start_time": "2021-10-27T12:07:10.705Z"
   },
   {
    "duration": 6,
    "start_time": "2021-10-27T12:07:10.801Z"
   },
   {
    "duration": 116,
    "start_time": "2021-10-27T12:07:10.810Z"
   },
   {
    "duration": 1717,
    "start_time": "2021-10-27T12:07:10.928Z"
   },
   {
    "duration": 8,
    "start_time": "2021-10-27T12:07:12.647Z"
   },
   {
    "duration": 94,
    "start_time": "2021-10-27T12:07:12.657Z"
   },
   {
    "duration": 17,
    "start_time": "2021-10-27T12:07:12.753Z"
   },
   {
    "duration": 5,
    "start_time": "2021-10-27T12:07:12.800Z"
   },
   {
    "duration": 34,
    "start_time": "2021-10-27T12:07:12.808Z"
   },
   {
    "duration": 31,
    "start_time": "2021-10-27T12:07:12.845Z"
   },
   {
    "duration": 14,
    "start_time": "2021-10-27T12:07:12.901Z"
   },
   {
    "duration": 9,
    "start_time": "2021-10-27T12:07:12.917Z"
   },
   {
    "duration": 5262,
    "start_time": "2021-10-27T12:07:12.928Z"
   },
   {
    "duration": 508,
    "start_time": "2021-10-27T12:07:18.200Z"
   },
   {
    "duration": -652,
    "start_time": "2021-10-27T12:07:19.363Z"
   },
   {
    "duration": -665,
    "start_time": "2021-10-27T12:07:19.378Z"
   },
   {
    "duration": 1530,
    "start_time": "2021-10-27T12:07:57.000Z"
   },
   {
    "duration": 3,
    "start_time": "2021-10-27T12:07:58.533Z"
   },
   {
    "duration": 698,
    "start_time": "2021-10-27T12:07:58.539Z"
   },
   {
    "duration": 4,
    "start_time": "2021-10-27T12:07:59.240Z"
   },
   {
    "duration": 172,
    "start_time": "2021-10-27T12:07:59.246Z"
   },
   {
    "duration": 10,
    "start_time": "2021-10-27T12:07:59.422Z"
   },
   {
    "duration": 203,
    "start_time": "2021-10-27T12:07:59.435Z"
   },
   {
    "duration": 145,
    "start_time": "2021-10-27T12:07:59.640Z"
   },
   {
    "duration": 105,
    "start_time": "2021-10-27T12:07:59.788Z"
   },
   {
    "duration": 40,
    "start_time": "2021-10-27T12:07:59.895Z"
   },
   {
    "duration": 9,
    "start_time": "2021-10-27T12:07:59.937Z"
   },
   {
    "duration": 12,
    "start_time": "2021-10-27T12:07:59.949Z"
   },
   {
    "duration": 3,
    "start_time": "2021-10-27T12:08:00.000Z"
   },
   {
    "duration": 34,
    "start_time": "2021-10-27T12:08:00.006Z"
   },
   {
    "duration": 3,
    "start_time": "2021-10-27T12:08:00.043Z"
   },
   {
    "duration": 72,
    "start_time": "2021-10-27T12:08:00.049Z"
   },
   {
    "duration": 45,
    "start_time": "2021-10-27T12:08:00.124Z"
   },
   {
    "duration": 67,
    "start_time": "2021-10-27T12:08:00.174Z"
   },
   {
    "duration": 33,
    "start_time": "2021-10-27T12:08:00.244Z"
   },
   {
    "duration": 74,
    "start_time": "2021-10-27T12:08:00.302Z"
   },
   {
    "duration": 5,
    "start_time": "2021-10-27T12:08:00.401Z"
   },
   {
    "duration": 109,
    "start_time": "2021-10-27T12:08:00.408Z"
   },
   {
    "duration": 1752,
    "start_time": "2021-10-27T12:08:00.520Z"
   },
   {
    "duration": 8,
    "start_time": "2021-10-27T12:08:02.274Z"
   },
   {
    "duration": 87,
    "start_time": "2021-10-27T12:08:02.285Z"
   },
   {
    "duration": 43,
    "start_time": "2021-10-27T12:08:02.374Z"
   },
   {
    "duration": 9,
    "start_time": "2021-10-27T12:08:02.420Z"
   },
   {
    "duration": 46,
    "start_time": "2021-10-27T12:08:02.432Z"
   },
   {
    "duration": 48,
    "start_time": "2021-10-27T12:08:02.480Z"
   },
   {
    "duration": 26,
    "start_time": "2021-10-27T12:08:02.530Z"
   },
   {
    "duration": 9,
    "start_time": "2021-10-27T12:08:02.559Z"
   },
   {
    "duration": 5305,
    "start_time": "2021-10-27T12:08:02.570Z"
   },
   {
    "duration": 528,
    "start_time": "2021-10-27T12:08:07.878Z"
   },
   {
    "duration": -611,
    "start_time": "2021-10-27T12:08:09.020Z"
   },
   {
    "duration": -620,
    "start_time": "2021-10-27T12:08:09.030Z"
   },
   {
    "duration": 1538,
    "start_time": "2021-10-27T12:08:20.240Z"
   },
   {
    "duration": 3,
    "start_time": "2021-10-27T12:08:21.781Z"
   },
   {
    "duration": 706,
    "start_time": "2021-10-27T12:08:21.787Z"
   },
   {
    "duration": 4,
    "start_time": "2021-10-27T12:08:22.496Z"
   },
   {
    "duration": 173,
    "start_time": "2021-10-27T12:08:22.503Z"
   },
   {
    "duration": 12,
    "start_time": "2021-10-27T12:08:22.678Z"
   },
   {
    "duration": 206,
    "start_time": "2021-10-27T12:08:22.701Z"
   },
   {
    "duration": 151,
    "start_time": "2021-10-27T12:08:22.910Z"
   },
   {
    "duration": 111,
    "start_time": "2021-10-27T12:08:23.065Z"
   },
   {
    "duration": 56,
    "start_time": "2021-10-27T12:08:23.179Z"
   },
   {
    "duration": 11,
    "start_time": "2021-10-27T12:08:23.237Z"
   },
   {
    "duration": 13,
    "start_time": "2021-10-27T12:08:23.250Z"
   },
   {
    "duration": 5,
    "start_time": "2021-10-27T12:08:23.266Z"
   },
   {
    "duration": 35,
    "start_time": "2021-10-27T12:08:23.302Z"
   },
   {
    "duration": 2,
    "start_time": "2021-10-27T12:08:23.340Z"
   },
   {
    "duration": 60,
    "start_time": "2021-10-27T12:08:23.345Z"
   },
   {
    "duration": 47,
    "start_time": "2021-10-27T12:08:23.408Z"
   },
   {
    "duration": 68,
    "start_time": "2021-10-27T12:08:23.458Z"
   },
   {
    "duration": 32,
    "start_time": "2021-10-27T12:08:23.528Z"
   },
   {
    "duration": 89,
    "start_time": "2021-10-27T12:08:23.562Z"
   },
   {
    "duration": 4,
    "start_time": "2021-10-27T12:08:23.654Z"
   },
   {
    "duration": 111,
    "start_time": "2021-10-27T12:08:23.660Z"
   },
   {
    "duration": 1801,
    "start_time": "2021-10-27T12:08:23.776Z"
   },
   {
    "duration": 8,
    "start_time": "2021-10-27T12:08:25.580Z"
   },
   {
    "duration": 90,
    "start_time": "2021-10-27T12:08:25.590Z"
   },
   {
    "duration": 34,
    "start_time": "2021-10-27T12:08:25.683Z"
   },
   {
    "duration": 18,
    "start_time": "2021-10-27T12:08:25.720Z"
   },
   {
    "duration": 41,
    "start_time": "2021-10-27T12:08:25.741Z"
   },
   {
    "duration": 33,
    "start_time": "2021-10-27T12:08:25.800Z"
   },
   {
    "duration": 27,
    "start_time": "2021-10-27T12:08:25.837Z"
   },
   {
    "duration": 9,
    "start_time": "2021-10-27T12:08:25.867Z"
   },
   {
    "duration": 5553,
    "start_time": "2021-10-27T12:08:25.901Z"
   },
   {
    "duration": 522,
    "start_time": "2021-10-27T12:08:31.456Z"
   },
   {
    "duration": -693,
    "start_time": "2021-10-27T12:08:32.673Z"
   },
   {
    "duration": -699,
    "start_time": "2021-10-27T12:08:32.680Z"
   },
   {
    "duration": 1650,
    "start_time": "2021-10-27T12:10:10.647Z"
   },
   {
    "duration": 4,
    "start_time": "2021-10-27T12:10:12.300Z"
   },
   {
    "duration": 712,
    "start_time": "2021-10-27T12:10:12.307Z"
   },
   {
    "duration": 4,
    "start_time": "2021-10-27T12:10:13.022Z"
   },
   {
    "duration": 171,
    "start_time": "2021-10-27T12:10:13.029Z"
   },
   {
    "duration": 10,
    "start_time": "2021-10-27T12:10:13.203Z"
   },
   {
    "duration": 224,
    "start_time": "2021-10-27T12:10:13.216Z"
   },
   {
    "duration": 157,
    "start_time": "2021-10-27T12:10:13.444Z"
   },
   {
    "duration": 121,
    "start_time": "2021-10-27T12:10:13.604Z"
   },
   {
    "duration": 36,
    "start_time": "2021-10-27T12:10:13.728Z"
   },
   {
    "duration": 34,
    "start_time": "2021-10-27T12:10:13.766Z"
   },
   {
    "duration": 14,
    "start_time": "2021-10-27T12:10:13.803Z"
   },
   {
    "duration": 10,
    "start_time": "2021-10-27T12:10:13.820Z"
   },
   {
    "duration": 35,
    "start_time": "2021-10-27T12:10:13.833Z"
   },
   {
    "duration": 30,
    "start_time": "2021-10-27T12:10:13.870Z"
   },
   {
    "duration": 47,
    "start_time": "2021-10-27T12:10:13.903Z"
   },
   {
    "duration": 59,
    "start_time": "2021-10-27T12:10:13.952Z"
   },
   {
    "duration": 44,
    "start_time": "2021-10-27T12:10:14.014Z"
   },
   {
    "duration": 59,
    "start_time": "2021-10-27T12:10:14.060Z"
   },
   {
    "duration": 92,
    "start_time": "2021-10-27T12:10:14.122Z"
   },
   {
    "duration": 5,
    "start_time": "2021-10-27T12:10:14.216Z"
   },
   {
    "duration": 111,
    "start_time": "2021-10-27T12:10:14.224Z"
   },
   {
    "duration": 1733,
    "start_time": "2021-10-27T12:10:14.337Z"
   },
   {
    "duration": 8,
    "start_time": "2021-10-27T12:10:16.072Z"
   },
   {
    "duration": 90,
    "start_time": "2021-10-27T12:10:16.083Z"
   },
   {
    "duration": 40,
    "start_time": "2021-10-27T12:10:16.178Z"
   },
   {
    "duration": 6,
    "start_time": "2021-10-27T12:10:16.221Z"
   },
   {
    "duration": 73,
    "start_time": "2021-10-27T12:10:16.229Z"
   },
   {
    "duration": 33,
    "start_time": "2021-10-27T12:10:16.305Z"
   },
   {
    "duration": 33,
    "start_time": "2021-10-27T12:10:16.341Z"
   },
   {
    "duration": 15,
    "start_time": "2021-10-27T12:10:16.401Z"
   },
   {
    "duration": 10,
    "start_time": "2021-10-27T12:10:16.418Z"
   },
   {
    "duration": 5575,
    "start_time": "2021-10-27T12:10:16.430Z"
   },
   {
    "duration": 563,
    "start_time": "2021-10-27T12:10:22.008Z"
   },
   {
    "duration": -648,
    "start_time": "2021-10-27T12:10:23.222Z"
   },
   {
    "duration": -661,
    "start_time": "2021-10-27T12:10:23.236Z"
   },
   {
    "duration": 31,
    "start_time": "2021-10-27T12:12:20.836Z"
   },
   {
    "duration": 32,
    "start_time": "2021-10-27T12:12:57.534Z"
   },
   {
    "duration": 411,
    "start_time": "2021-10-27T12:15:01.951Z"
   },
   {
    "duration": 399,
    "start_time": "2021-10-27T12:20:20.493Z"
   },
   {
    "duration": 1551,
    "start_time": "2021-10-27T12:20:54.239Z"
   },
   {
    "duration": 8,
    "start_time": "2021-10-27T12:20:55.792Z"
   },
   {
    "duration": 692,
    "start_time": "2021-10-27T12:20:55.803Z"
   },
   {
    "duration": 4,
    "start_time": "2021-10-27T12:20:56.498Z"
   },
   {
    "duration": 161,
    "start_time": "2021-10-27T12:20:56.504Z"
   },
   {
    "duration": 12,
    "start_time": "2021-10-27T12:20:56.668Z"
   },
   {
    "duration": 206,
    "start_time": "2021-10-27T12:20:56.701Z"
   },
   {
    "duration": 151,
    "start_time": "2021-10-27T12:20:56.909Z"
   },
   {
    "duration": 114,
    "start_time": "2021-10-27T12:20:57.064Z"
   },
   {
    "duration": 44,
    "start_time": "2021-10-27T12:20:57.181Z"
   },
   {
    "duration": 9,
    "start_time": "2021-10-27T12:20:57.228Z"
   },
   {
    "duration": 14,
    "start_time": "2021-10-27T12:20:57.239Z"
   },
   {
    "duration": 7,
    "start_time": "2021-10-27T12:20:57.255Z"
   },
   {
    "duration": 60,
    "start_time": "2021-10-27T12:20:57.264Z"
   },
   {
    "duration": 3,
    "start_time": "2021-10-27T12:20:57.326Z"
   },
   {
    "duration": 43,
    "start_time": "2021-10-27T12:20:57.331Z"
   },
   {
    "duration": 66,
    "start_time": "2021-10-27T12:20:57.376Z"
   },
   {
    "duration": 58,
    "start_time": "2021-10-27T12:20:57.444Z"
   },
   {
    "duration": 33,
    "start_time": "2021-10-27T12:20:57.504Z"
   },
   {
    "duration": 91,
    "start_time": "2021-10-27T12:20:57.539Z"
   },
   {
    "duration": 4,
    "start_time": "2021-10-27T12:20:57.632Z"
   },
   {
    "duration": 109,
    "start_time": "2021-10-27T12:20:57.638Z"
   },
   {
    "duration": 1696,
    "start_time": "2021-10-27T12:20:57.750Z"
   },
   {
    "duration": 7,
    "start_time": "2021-10-27T12:20:59.449Z"
   },
   {
    "duration": 93,
    "start_time": "2021-10-27T12:20:59.458Z"
   },
   {
    "duration": 52,
    "start_time": "2021-10-27T12:20:59.553Z"
   },
   {
    "duration": 37,
    "start_time": "2021-10-27T12:20:59.610Z"
   },
   {
    "duration": 530,
    "start_time": "2021-10-27T12:20:59.649Z"
   },
   {
    "duration": -851,
    "start_time": "2021-10-27T12:21:01.033Z"
   },
   {
    "duration": -950,
    "start_time": "2021-10-27T12:21:01.133Z"
   },
   {
    "duration": -970,
    "start_time": "2021-10-27T12:21:01.155Z"
   },
   {
    "duration": -985,
    "start_time": "2021-10-27T12:21:01.171Z"
   },
   {
    "duration": -993,
    "start_time": "2021-10-27T12:21:01.180Z"
   },
   {
    "duration": 439,
    "start_time": "2021-10-27T12:21:27.291Z"
   },
   {
    "duration": 20,
    "start_time": "2021-10-27T12:23:12.449Z"
   },
   {
    "duration": 1534,
    "start_time": "2021-10-27T12:24:22.474Z"
   },
   {
    "duration": 4,
    "start_time": "2021-10-27T12:24:24.011Z"
   },
   {
    "duration": 751,
    "start_time": "2021-10-27T12:24:24.018Z"
   },
   {
    "duration": 5,
    "start_time": "2021-10-27T12:24:24.772Z"
   },
   {
    "duration": 187,
    "start_time": "2021-10-27T12:24:24.779Z"
   },
   {
    "duration": 10,
    "start_time": "2021-10-27T12:24:24.969Z"
   },
   {
    "duration": 212,
    "start_time": "2021-10-27T12:24:24.982Z"
   },
   {
    "duration": 145,
    "start_time": "2021-10-27T12:24:25.200Z"
   },
   {
    "duration": 108,
    "start_time": "2021-10-27T12:24:25.349Z"
   },
   {
    "duration": 53,
    "start_time": "2021-10-27T12:24:25.460Z"
   },
   {
    "duration": 10,
    "start_time": "2021-10-27T12:24:25.516Z"
   },
   {
    "duration": 13,
    "start_time": "2021-10-27T12:24:25.528Z"
   },
   {
    "duration": 15,
    "start_time": "2021-10-27T12:24:25.544Z"
   },
   {
    "duration": 55,
    "start_time": "2021-10-27T12:24:25.562Z"
   },
   {
    "duration": 3,
    "start_time": "2021-10-27T12:24:25.619Z"
   },
   {
    "duration": 54,
    "start_time": "2021-10-27T12:24:25.624Z"
   },
   {
    "duration": 60,
    "start_time": "2021-10-27T12:24:25.680Z"
   },
   {
    "duration": 73,
    "start_time": "2021-10-27T12:24:25.743Z"
   },
   {
    "duration": 34,
    "start_time": "2021-10-27T12:24:25.819Z"
   },
   {
    "duration": 96,
    "start_time": "2021-10-27T12:24:25.856Z"
   },
   {
    "duration": 5,
    "start_time": "2021-10-27T12:24:25.954Z"
   },
   {
    "duration": 113,
    "start_time": "2021-10-27T12:24:25.961Z"
   },
   {
    "duration": 1842,
    "start_time": "2021-10-27T12:24:26.077Z"
   },
   {
    "duration": 8,
    "start_time": "2021-10-27T12:24:27.922Z"
   },
   {
    "duration": 95,
    "start_time": "2021-10-27T12:24:27.933Z"
   },
   {
    "duration": 31,
    "start_time": "2021-10-27T12:24:28.031Z"
   },
   {
    "duration": 60,
    "start_time": "2021-10-27T12:24:28.067Z"
   },
   {
    "duration": 19,
    "start_time": "2021-10-27T12:24:28.130Z"
   },
   {
    "duration": 7,
    "start_time": "2021-10-27T12:24:28.152Z"
   },
   {
    "duration": 6314,
    "start_time": "2021-10-27T12:24:28.162Z"
   },
   {
    "duration": 559,
    "start_time": "2021-10-27T12:24:34.479Z"
   },
   {
    "duration": 2937,
    "start_time": "2021-10-27T12:26:44.532Z"
   },
   {
    "duration": 1473,
    "start_time": "2021-10-27T12:27:55.204Z"
   },
   {
    "duration": 3,
    "start_time": "2021-10-27T12:27:56.680Z"
   },
   {
    "duration": 682,
    "start_time": "2021-10-27T12:27:56.686Z"
   },
   {
    "duration": 4,
    "start_time": "2021-10-27T12:27:57.371Z"
   },
   {
    "duration": 152,
    "start_time": "2021-10-27T12:27:57.377Z"
   },
   {
    "duration": 12,
    "start_time": "2021-10-27T12:27:57.531Z"
   },
   {
    "duration": 207,
    "start_time": "2021-10-27T12:27:57.546Z"
   },
   {
    "duration": 146,
    "start_time": "2021-10-27T12:27:57.756Z"
   },
   {
    "duration": 115,
    "start_time": "2021-10-27T12:27:57.906Z"
   },
   {
    "duration": 36,
    "start_time": "2021-10-27T12:27:58.024Z"
   },
   {
    "duration": 9,
    "start_time": "2021-10-27T12:27:58.062Z"
   },
   {
    "duration": 36,
    "start_time": "2021-10-27T12:27:58.073Z"
   },
   {
    "duration": 3,
    "start_time": "2021-10-27T12:27:58.111Z"
   },
   {
    "duration": 30,
    "start_time": "2021-10-27T12:27:58.116Z"
   },
   {
    "duration": 3,
    "start_time": "2021-10-27T12:27:58.148Z"
   },
   {
    "duration": 79,
    "start_time": "2021-10-27T12:27:58.153Z"
   },
   {
    "duration": 69,
    "start_time": "2021-10-27T12:27:58.234Z"
   },
   {
    "duration": 45,
    "start_time": "2021-10-27T12:27:58.306Z"
   },
   {
    "duration": 59,
    "start_time": "2021-10-27T12:27:58.355Z"
   },
   {
    "duration": 87,
    "start_time": "2021-10-27T12:27:58.416Z"
   },
   {
    "duration": 4,
    "start_time": "2021-10-27T12:27:58.506Z"
   },
   {
    "duration": 106,
    "start_time": "2021-10-27T12:27:58.512Z"
   },
   {
    "duration": 1686,
    "start_time": "2021-10-27T12:27:58.621Z"
   },
   {
    "duration": 14,
    "start_time": "2021-10-27T12:28:00.309Z"
   },
   {
    "duration": 99,
    "start_time": "2021-10-27T12:28:00.325Z"
   },
   {
    "duration": 31,
    "start_time": "2021-10-27T12:28:00.427Z"
   },
   {
    "duration": 57,
    "start_time": "2021-10-27T12:28:00.463Z"
   },
   {
    "duration": 34,
    "start_time": "2021-10-27T12:28:00.523Z"
   },
   {
    "duration": 2841,
    "start_time": "2021-10-27T12:28:00.559Z"
   },
   {
    "duration": 347,
    "start_time": "2021-10-27T15:10:14.308Z"
   },
   {
    "duration": 311,
    "start_time": "2021-10-27T15:10:42.322Z"
   },
   {
    "duration": 1578,
    "start_time": "2021-10-27T15:10:51.133Z"
   },
   {
    "duration": 4,
    "start_time": "2021-10-27T15:10:52.715Z"
   },
   {
    "duration": 851,
    "start_time": "2021-10-27T15:10:52.721Z"
   },
   {
    "duration": 7,
    "start_time": "2021-10-27T15:10:53.577Z"
   },
   {
    "duration": 213,
    "start_time": "2021-10-27T15:10:53.587Z"
   },
   {
    "duration": 13,
    "start_time": "2021-10-27T15:10:53.804Z"
   },
   {
    "duration": 241,
    "start_time": "2021-10-27T15:10:53.821Z"
   },
   {
    "duration": 157,
    "start_time": "2021-10-27T15:10:54.065Z"
   },
   {
    "duration": 107,
    "start_time": "2021-10-27T15:10:54.225Z"
   },
   {
    "duration": 54,
    "start_time": "2021-10-27T15:10:54.334Z"
   },
   {
    "duration": 11,
    "start_time": "2021-10-27T15:10:54.390Z"
   },
   {
    "duration": 27,
    "start_time": "2021-10-27T15:10:54.404Z"
   },
   {
    "duration": 7,
    "start_time": "2021-10-27T15:10:54.434Z"
   },
   {
    "duration": 55,
    "start_time": "2021-10-27T15:10:54.443Z"
   },
   {
    "duration": 3,
    "start_time": "2021-10-27T15:10:54.501Z"
   },
   {
    "duration": 63,
    "start_time": "2021-10-27T15:10:54.506Z"
   },
   {
    "duration": 47,
    "start_time": "2021-10-27T15:10:54.571Z"
   },
   {
    "duration": 68,
    "start_time": "2021-10-27T15:10:54.622Z"
   },
   {
    "duration": 32,
    "start_time": "2021-10-27T15:10:54.692Z"
   },
   {
    "duration": 90,
    "start_time": "2021-10-27T15:10:54.727Z"
   },
   {
    "duration": 4,
    "start_time": "2021-10-27T15:10:54.820Z"
   },
   {
    "duration": 118,
    "start_time": "2021-10-27T15:10:54.827Z"
   },
   {
    "duration": 1770,
    "start_time": "2021-10-27T15:10:54.947Z"
   },
   {
    "duration": 9,
    "start_time": "2021-10-27T15:10:56.720Z"
   },
   {
    "duration": 107,
    "start_time": "2021-10-27T15:10:56.732Z"
   },
   {
    "duration": 53,
    "start_time": "2021-10-27T15:10:56.842Z"
   },
   {
    "duration": 71,
    "start_time": "2021-10-27T15:10:56.898Z"
   },
   {
    "duration": 24,
    "start_time": "2021-10-27T15:10:56.972Z"
   },
   {
    "duration": 2915,
    "start_time": "2021-10-27T15:10:57.008Z"
   },
   {
    "duration": 8,
    "start_time": "2021-10-27T15:10:59.927Z"
   },
   {
    "duration": 1504,
    "start_time": "2021-10-27T15:12:23.340Z"
   },
   {
    "duration": 3,
    "start_time": "2021-10-27T15:12:24.847Z"
   },
   {
    "duration": 685,
    "start_time": "2021-10-27T15:12:24.853Z"
   },
   {
    "duration": 4,
    "start_time": "2021-10-27T15:12:25.541Z"
   },
   {
    "duration": 159,
    "start_time": "2021-10-27T15:12:25.548Z"
   },
   {
    "duration": 12,
    "start_time": "2021-10-27T15:12:25.709Z"
   },
   {
    "duration": 215,
    "start_time": "2021-10-27T15:12:25.723Z"
   },
   {
    "duration": 150,
    "start_time": "2021-10-27T15:12:25.941Z"
   },
   {
    "duration": 103,
    "start_time": "2021-10-27T15:12:26.096Z"
   },
   {
    "duration": 32,
    "start_time": "2021-10-27T15:12:26.202Z"
   },
   {
    "duration": 9,
    "start_time": "2021-10-27T15:12:26.236Z"
   },
   {
    "duration": 12,
    "start_time": "2021-10-27T15:12:26.268Z"
   },
   {
    "duration": 3,
    "start_time": "2021-10-27T15:12:26.283Z"
   },
   {
    "duration": 31,
    "start_time": "2021-10-27T15:12:26.288Z"
   },
   {
    "duration": 3,
    "start_time": "2021-10-27T15:12:26.321Z"
   },
   {
    "duration": 70,
    "start_time": "2021-10-27T15:12:26.326Z"
   },
   {
    "duration": 39,
    "start_time": "2021-10-27T15:12:26.399Z"
   },
   {
    "duration": 61,
    "start_time": "2021-10-27T15:12:26.440Z"
   },
   {
    "duration": 29,
    "start_time": "2021-10-27T15:12:26.504Z"
   },
   {
    "duration": 97,
    "start_time": "2021-10-27T15:12:26.535Z"
   },
   {
    "duration": 4,
    "start_time": "2021-10-27T15:12:26.634Z"
   },
   {
    "duration": 106,
    "start_time": "2021-10-27T15:12:26.641Z"
   },
   {
    "duration": 1681,
    "start_time": "2021-10-27T15:12:26.767Z"
   },
   {
    "duration": 16,
    "start_time": "2021-10-27T15:12:28.451Z"
   },
   {
    "duration": 98,
    "start_time": "2021-10-27T15:12:28.469Z"
   },
   {
    "duration": 33,
    "start_time": "2021-10-27T15:12:28.570Z"
   },
   {
    "duration": 33,
    "start_time": "2021-10-27T15:12:28.608Z"
   },
   {
    "duration": 42,
    "start_time": "2021-10-27T15:12:28.643Z"
   },
   {
    "duration": 2880,
    "start_time": "2021-10-27T15:12:28.687Z"
   },
   {
    "duration": 8,
    "start_time": "2021-10-27T15:12:31.569Z"
   },
   {
    "duration": 727,
    "start_time": "2021-10-27T15:13:10.251Z"
   },
   {
    "duration": 695,
    "start_time": "2021-10-27T15:13:23.331Z"
   },
   {
    "duration": 7,
    "start_time": "2021-10-27T15:13:32.669Z"
   },
   {
    "duration": 7,
    "start_time": "2021-10-27T15:14:05.394Z"
   },
   {
    "duration": 8,
    "start_time": "2021-10-27T15:14:16.428Z"
   },
   {
    "duration": 7,
    "start_time": "2021-10-27T15:15:14.167Z"
   },
   {
    "duration": 35,
    "start_time": "2021-10-27T15:24:09.320Z"
   },
   {
    "duration": 38,
    "start_time": "2021-10-27T15:24:41.016Z"
   },
   {
    "duration": 31,
    "start_time": "2021-10-27T15:25:06.275Z"
   },
   {
    "duration": 35,
    "start_time": "2021-10-27T15:25:31.032Z"
   },
   {
    "duration": 68,
    "start_time": "2021-10-27T15:25:43.091Z"
   },
   {
    "duration": 84,
    "start_time": "2021-10-27T15:25:52.882Z"
   },
   {
    "duration": 1796,
    "start_time": "2021-10-27T15:25:58.779Z"
   },
   {
    "duration": 34,
    "start_time": "2021-10-27T15:26:16.225Z"
   },
   {
    "duration": 1570,
    "start_time": "2021-10-27T15:26:25.212Z"
   },
   {
    "duration": 4,
    "start_time": "2021-10-27T15:26:26.784Z"
   },
   {
    "duration": 693,
    "start_time": "2021-10-27T15:26:26.791Z"
   },
   {
    "duration": 5,
    "start_time": "2021-10-27T15:26:27.487Z"
   },
   {
    "duration": 177,
    "start_time": "2021-10-27T15:26:27.494Z"
   },
   {
    "duration": 10,
    "start_time": "2021-10-27T15:26:27.674Z"
   },
   {
    "duration": 212,
    "start_time": "2021-10-27T15:26:27.687Z"
   },
   {
    "duration": 146,
    "start_time": "2021-10-27T15:26:27.903Z"
   },
   {
    "duration": 106,
    "start_time": "2021-10-27T15:26:28.052Z"
   },
   {
    "duration": 33,
    "start_time": "2021-10-27T15:26:28.167Z"
   },
   {
    "duration": 10,
    "start_time": "2021-10-27T15:26:28.203Z"
   },
   {
    "duration": 12,
    "start_time": "2021-10-27T15:26:28.215Z"
   },
   {
    "duration": 7,
    "start_time": "2021-10-27T15:26:28.229Z"
   },
   {
    "duration": 28,
    "start_time": "2021-10-27T15:26:28.267Z"
   },
   {
    "duration": 3,
    "start_time": "2021-10-27T15:26:28.297Z"
   },
   {
    "duration": 68,
    "start_time": "2021-10-27T15:26:28.302Z"
   },
   {
    "duration": 41,
    "start_time": "2021-10-27T15:26:28.372Z"
   },
   {
    "duration": 68,
    "start_time": "2021-10-27T15:26:28.416Z"
   },
   {
    "duration": 36,
    "start_time": "2021-10-27T15:26:28.487Z"
   },
   {
    "duration": 92,
    "start_time": "2021-10-27T15:26:28.525Z"
   },
   {
    "duration": 4,
    "start_time": "2021-10-27T15:26:28.620Z"
   },
   {
    "duration": 106,
    "start_time": "2021-10-27T15:26:28.627Z"
   },
   {
    "duration": 1735,
    "start_time": "2021-10-27T15:26:28.737Z"
   },
   {
    "duration": 9,
    "start_time": "2021-10-27T15:26:30.475Z"
   },
   {
    "duration": 98,
    "start_time": "2021-10-27T15:26:30.486Z"
   },
   {
    "duration": 33,
    "start_time": "2021-10-27T15:26:30.587Z"
   },
   {
    "duration": 61,
    "start_time": "2021-10-27T15:26:30.623Z"
   },
   {
    "duration": 23,
    "start_time": "2021-10-27T15:26:30.686Z"
   },
   {
    "duration": 2926,
    "start_time": "2021-10-27T15:26:30.712Z"
   },
   {
    "duration": 7,
    "start_time": "2021-10-27T15:26:33.641Z"
   },
   {
    "duration": 7,
    "start_time": "2021-10-27T15:27:05.550Z"
   },
   {
    "duration": 6,
    "start_time": "2021-10-27T15:27:36.412Z"
   },
   {
    "duration": 6,
    "start_time": "2021-10-27T15:27:41.552Z"
   },
   {
    "duration": 232,
    "start_time": "2021-10-27T15:30:17.331Z"
   },
   {
    "duration": 7504,
    "start_time": "2021-10-27T17:12:09.434Z"
   },
   {
    "duration": 22,
    "start_time": "2021-10-27T17:12:25.621Z"
   },
   {
    "duration": 9,
    "start_time": "2021-10-27T17:13:14.840Z"
   },
   {
    "duration": 10,
    "start_time": "2021-10-27T17:13:36.184Z"
   },
   {
    "duration": 7,
    "start_time": "2021-10-27T17:14:04.172Z"
   },
   {
    "duration": 10,
    "start_time": "2021-10-27T17:14:05.612Z"
   },
   {
    "duration": 10,
    "start_time": "2021-10-27T17:14:13.588Z"
   },
   {
    "duration": 12,
    "start_time": "2021-10-27T17:14:14.620Z"
   },
   {
    "duration": 1473,
    "start_time": "2021-10-27T17:15:33.379Z"
   },
   {
    "duration": 12,
    "start_time": "2021-10-27T17:15:34.855Z"
   },
   {
    "duration": 693,
    "start_time": "2021-10-27T17:15:34.871Z"
   },
   {
    "duration": 4,
    "start_time": "2021-10-27T17:15:35.567Z"
   },
   {
    "duration": 170,
    "start_time": "2021-10-27T17:15:35.574Z"
   },
   {
    "duration": 21,
    "start_time": "2021-10-27T17:15:35.747Z"
   },
   {
    "duration": 206,
    "start_time": "2021-10-27T17:15:35.770Z"
   },
   {
    "duration": 145,
    "start_time": "2021-10-27T17:15:35.978Z"
   },
   {
    "duration": 112,
    "start_time": "2021-10-27T17:15:36.127Z"
   },
   {
    "duration": 44,
    "start_time": "2021-10-27T17:15:36.243Z"
   },
   {
    "duration": 11,
    "start_time": "2021-10-27T17:15:36.290Z"
   },
   {
    "duration": 16,
    "start_time": "2021-10-27T17:15:36.304Z"
   },
   {
    "duration": 44,
    "start_time": "2021-10-27T17:15:36.323Z"
   },
   {
    "duration": 28,
    "start_time": "2021-10-27T17:15:36.371Z"
   },
   {
    "duration": 3,
    "start_time": "2021-10-27T17:15:36.402Z"
   },
   {
    "duration": 76,
    "start_time": "2021-10-27T17:15:36.408Z"
   },
   {
    "duration": 43,
    "start_time": "2021-10-27T17:15:36.487Z"
   },
   {
    "duration": 67,
    "start_time": "2021-10-27T17:15:36.533Z"
   },
   {
    "duration": 35,
    "start_time": "2021-10-27T17:15:36.602Z"
   },
   {
    "duration": 91,
    "start_time": "2021-10-27T17:15:36.639Z"
   },
   {
    "duration": 4,
    "start_time": "2021-10-27T17:15:36.732Z"
   },
   {
    "duration": 106,
    "start_time": "2021-10-27T17:15:36.739Z"
   },
   {
    "duration": 1810,
    "start_time": "2021-10-27T17:15:36.847Z"
   },
   {
    "duration": 8,
    "start_time": "2021-10-27T17:15:38.668Z"
   },
   {
    "duration": 95,
    "start_time": "2021-10-27T17:15:38.679Z"
   },
   {
    "duration": 34,
    "start_time": "2021-10-27T17:15:38.777Z"
   },
   {
    "duration": 65,
    "start_time": "2021-10-27T17:15:38.816Z"
   },
   {
    "duration": 22,
    "start_time": "2021-10-27T17:15:38.884Z"
   },
   {
    "duration": 3194,
    "start_time": "2021-10-27T17:15:38.908Z"
   },
   {
    "duration": 6,
    "start_time": "2021-10-27T17:15:42.105Z"
   },
   {
    "duration": 16,
    "start_time": "2021-10-27T17:15:42.113Z"
   },
   {
    "duration": 10,
    "start_time": "2021-10-27T17:16:58.053Z"
   },
   {
    "duration": 10,
    "start_time": "2021-10-27T17:17:06.794Z"
   },
   {
    "duration": 10,
    "start_time": "2021-10-27T17:17:09.496Z"
   },
   {
    "duration": 1495,
    "start_time": "2021-10-27T17:18:16.857Z"
   },
   {
    "duration": 4,
    "start_time": "2021-10-27T17:18:18.355Z"
   },
   {
    "duration": 698,
    "start_time": "2021-10-27T17:18:18.361Z"
   },
   {
    "duration": 6,
    "start_time": "2021-10-27T17:18:19.063Z"
   },
   {
    "duration": 164,
    "start_time": "2021-10-27T17:18:19.072Z"
   },
   {
    "duration": 27,
    "start_time": "2021-10-27T17:18:19.239Z"
   },
   {
    "duration": 199,
    "start_time": "2021-10-27T17:18:19.269Z"
   },
   {
    "duration": 144,
    "start_time": "2021-10-27T17:18:19.472Z"
   },
   {
    "duration": 111,
    "start_time": "2021-10-27T17:18:19.619Z"
   },
   {
    "duration": 42,
    "start_time": "2021-10-27T17:18:19.732Z"
   },
   {
    "duration": 10,
    "start_time": "2021-10-27T17:18:19.776Z"
   },
   {
    "duration": 14,
    "start_time": "2021-10-27T17:18:19.788Z"
   },
   {
    "duration": 3,
    "start_time": "2021-10-27T17:18:19.804Z"
   },
   {
    "duration": 61,
    "start_time": "2021-10-27T17:18:19.809Z"
   },
   {
    "duration": 3,
    "start_time": "2021-10-27T17:18:19.872Z"
   },
   {
    "duration": 37,
    "start_time": "2021-10-27T17:18:19.878Z"
   },
   {
    "duration": 71,
    "start_time": "2021-10-27T17:18:19.918Z"
   },
   {
    "duration": 38,
    "start_time": "2021-10-27T17:18:19.991Z"
   },
   {
    "duration": 67,
    "start_time": "2021-10-27T17:18:20.032Z"
   },
   {
    "duration": 86,
    "start_time": "2021-10-27T17:18:20.101Z"
   },
   {
    "duration": 4,
    "start_time": "2021-10-27T17:18:20.189Z"
   },
   {
    "duration": 103,
    "start_time": "2021-10-27T17:18:20.196Z"
   },
   {
    "duration": 1765,
    "start_time": "2021-10-27T17:18:20.302Z"
   },
   {
    "duration": 9,
    "start_time": "2021-10-27T17:18:22.069Z"
   },
   {
    "duration": 98,
    "start_time": "2021-10-27T17:18:22.081Z"
   },
   {
    "duration": 35,
    "start_time": "2021-10-27T17:18:22.184Z"
   },
   {
    "duration": 63,
    "start_time": "2021-10-27T17:18:22.222Z"
   },
   {
    "duration": 25,
    "start_time": "2021-10-27T17:18:22.287Z"
   },
   {
    "duration": 2930,
    "start_time": "2021-10-27T17:18:22.315Z"
   },
   {
    "duration": 21,
    "start_time": "2021-10-27T17:18:25.247Z"
   },
   {
    "duration": 16,
    "start_time": "2021-10-27T17:18:25.271Z"
   },
   {
    "duration": 1521,
    "start_time": "2021-10-27T17:20:04.346Z"
   },
   {
    "duration": 3,
    "start_time": "2021-10-27T17:20:05.870Z"
   },
   {
    "duration": 699,
    "start_time": "2021-10-27T17:20:05.876Z"
   },
   {
    "duration": 5,
    "start_time": "2021-10-27T17:20:06.577Z"
   },
   {
    "duration": 183,
    "start_time": "2021-10-27T17:20:06.584Z"
   },
   {
    "duration": 12,
    "start_time": "2021-10-27T17:20:06.770Z"
   },
   {
    "duration": 212,
    "start_time": "2021-10-27T17:20:06.785Z"
   },
   {
    "duration": 152,
    "start_time": "2021-10-27T17:20:07.002Z"
   },
   {
    "duration": 111,
    "start_time": "2021-10-27T17:20:07.157Z"
   },
   {
    "duration": 33,
    "start_time": "2021-10-27T17:20:07.271Z"
   },
   {
    "duration": 12,
    "start_time": "2021-10-27T17:20:07.307Z"
   },
   {
    "duration": 49,
    "start_time": "2021-10-27T17:20:07.323Z"
   },
   {
    "duration": 4,
    "start_time": "2021-10-27T17:20:07.375Z"
   },
   {
    "duration": 28,
    "start_time": "2021-10-27T17:20:07.382Z"
   },
   {
    "duration": 4,
    "start_time": "2021-10-27T17:20:07.413Z"
   },
   {
    "duration": 74,
    "start_time": "2021-10-27T17:20:07.420Z"
   },
   {
    "duration": 70,
    "start_time": "2021-10-27T17:20:07.497Z"
   },
   {
    "duration": 38,
    "start_time": "2021-10-27T17:20:07.570Z"
   },
   {
    "duration": 70,
    "start_time": "2021-10-27T17:20:07.611Z"
   },
   {
    "duration": 89,
    "start_time": "2021-10-27T17:20:07.684Z"
   },
   {
    "duration": 4,
    "start_time": "2021-10-27T17:20:07.776Z"
   },
   {
    "duration": 101,
    "start_time": "2021-10-27T17:20:07.782Z"
   },
   {
    "duration": 1723,
    "start_time": "2021-10-27T17:20:07.888Z"
   },
   {
    "duration": 8,
    "start_time": "2021-10-27T17:20:09.613Z"
   },
   {
    "duration": 93,
    "start_time": "2021-10-27T17:20:09.624Z"
   },
   {
    "duration": 53,
    "start_time": "2021-10-27T17:20:09.719Z"
   },
   {
    "duration": 36,
    "start_time": "2021-10-27T17:20:09.775Z"
   },
   {
    "duration": 55,
    "start_time": "2021-10-27T17:20:09.814Z"
   },
   {
    "duration": 2988,
    "start_time": "2021-10-27T17:20:09.872Z"
   },
   {
    "duration": 12,
    "start_time": "2021-10-27T17:20:12.866Z"
   },
   {
    "duration": 12,
    "start_time": "2021-10-27T17:20:12.881Z"
   },
   {
    "duration": 997,
    "start_time": "2021-10-27T19:58:12.370Z"
   },
   {
    "duration": 988,
    "start_time": "2021-10-27T19:58:37.082Z"
   },
   {
    "duration": 242,
    "start_time": "2021-10-27T19:59:53.759Z"
   },
   {
    "duration": 653,
    "start_time": "2021-10-27T20:03:50.154Z"
   },
   {
    "duration": 338,
    "start_time": "2021-10-27T20:07:01.462Z"
   },
   {
    "duration": 786,
    "start_time": "2021-10-27T20:07:19.524Z"
   },
   {
    "duration": 212,
    "start_time": "2021-10-27T20:08:24.888Z"
   },
   {
    "duration": 877,
    "start_time": "2021-10-27T20:15:14.139Z"
   },
   {
    "duration": 560,
    "start_time": "2021-10-27T20:15:48.307Z"
   },
   {
    "duration": 447,
    "start_time": "2021-10-27T20:16:39.306Z"
   },
   {
    "duration": 482,
    "start_time": "2021-10-27T20:16:46.829Z"
   },
   {
    "duration": 487,
    "start_time": "2021-10-27T20:17:52.751Z"
   },
   {
    "duration": 490,
    "start_time": "2021-10-27T20:18:44.680Z"
   },
   {
    "duration": 2086,
    "start_time": "2021-10-27T20:21:44.651Z"
   },
   {
    "duration": 983,
    "start_time": "2021-10-27T20:27:27.373Z"
   },
   {
    "duration": 4,
    "start_time": "2021-10-27T20:28:19.628Z"
   },
   {
    "duration": 821,
    "start_time": "2021-10-27T20:28:24.763Z"
   },
   {
    "duration": 938,
    "start_time": "2021-10-27T20:29:29.709Z"
   },
   {
    "duration": 706,
    "start_time": "2021-10-27T20:29:41.632Z"
   },
   {
    "duration": 110,
    "start_time": "2021-10-27T20:38:34.764Z"
   },
   {
    "duration": 2108,
    "start_time": "2021-10-27T20:38:43.600Z"
   },
   {
    "duration": 2148,
    "start_time": "2021-10-27T20:39:04.162Z"
   },
   {
    "duration": 2322,
    "start_time": "2021-10-27T20:39:39.403Z"
   },
   {
    "duration": 289,
    "start_time": "2021-10-27T20:43:55.479Z"
   },
   {
    "duration": 2093,
    "start_time": "2021-10-27T20:44:57.278Z"
   },
   {
    "duration": 2073,
    "start_time": "2021-10-27T20:45:44.066Z"
   },
   {
    "duration": 2118,
    "start_time": "2021-10-27T20:46:16.263Z"
   },
   {
    "duration": 1938,
    "start_time": "2021-10-27T20:46:36.466Z"
   },
   {
    "duration": 2074,
    "start_time": "2021-10-27T20:46:50.372Z"
   },
   {
    "duration": 2024,
    "start_time": "2021-10-27T20:47:20.415Z"
   },
   {
    "duration": 948,
    "start_time": "2021-10-27T20:52:15.312Z"
   },
   {
    "duration": 833,
    "start_time": "2021-10-27T20:52:42.097Z"
   },
   {
    "duration": 2721,
    "start_time": "2021-10-27T20:52:58.802Z"
   },
   {
    "duration": 102,
    "start_time": "2021-10-27T20:57:37.963Z"
   },
   {
    "duration": 2145,
    "start_time": "2021-10-27T20:57:44.281Z"
   },
   {
    "duration": 2838,
    "start_time": "2021-10-27T20:57:56.667Z"
   },
   {
    "duration": 3071,
    "start_time": "2021-10-27T20:58:33.215Z"
   },
   {
    "duration": 2920,
    "start_time": "2021-10-27T20:58:50.970Z"
   },
   {
    "duration": 2953,
    "start_time": "2021-10-27T20:59:05.922Z"
   },
   {
    "duration": 3085,
    "start_time": "2021-10-27T20:59:16.309Z"
   },
   {
    "duration": 3136,
    "start_time": "2021-10-27T20:59:38.552Z"
   },
   {
    "duration": 3040,
    "start_time": "2021-10-27T20:59:46.956Z"
   },
   {
    "duration": 2991,
    "start_time": "2021-10-27T21:00:01.595Z"
   },
   {
    "duration": 2959,
    "start_time": "2021-10-27T21:00:08.818Z"
   },
   {
    "duration": 3094,
    "start_time": "2021-10-27T21:00:16.186Z"
   },
   {
    "duration": 2946,
    "start_time": "2021-10-27T21:00:23.331Z"
   },
   {
    "duration": 2937,
    "start_time": "2021-10-27T21:00:29.951Z"
   },
   {
    "duration": 2339,
    "start_time": "2021-10-27T21:01:27.565Z"
   },
   {
    "duration": 829,
    "start_time": "2021-10-27T21:15:23.641Z"
   },
   {
    "duration": 2079,
    "start_time": "2021-10-27T21:16:36.130Z"
   },
   {
    "duration": 842,
    "start_time": "2021-10-27T21:17:45.373Z"
   },
   {
    "duration": 3142,
    "start_time": "2021-10-27T21:19:47.995Z"
   },
   {
    "duration": 2805,
    "start_time": "2021-10-27T21:22:01.517Z"
   },
   {
    "duration": 2885,
    "start_time": "2021-10-27T21:24:43.014Z"
   },
   {
    "duration": 2830,
    "start_time": "2021-10-27T21:25:16.528Z"
   },
   {
    "duration": 20,
    "start_time": "2021-10-27T21:48:28.743Z"
   },
   {
    "duration": 7,
    "start_time": "2021-10-27T21:48:55.597Z"
   },
   {
    "duration": 6,
    "start_time": "2021-10-27T21:50:06.333Z"
   },
   {
    "duration": 6,
    "start_time": "2021-10-27T21:50:13.396Z"
   },
   {
    "duration": 20,
    "start_time": "2021-10-27T21:51:03.516Z"
   },
   {
    "duration": 326,
    "start_time": "2021-10-28T13:19:36.764Z"
   },
   {
    "duration": 1566,
    "start_time": "2021-10-28T13:19:49.579Z"
   },
   {
    "duration": 3,
    "start_time": "2021-10-28T13:19:51.148Z"
   },
   {
    "duration": 696,
    "start_time": "2021-10-28T13:19:51.154Z"
   },
   {
    "duration": 5,
    "start_time": "2021-10-28T13:19:51.852Z"
   },
   {
    "duration": 172,
    "start_time": "2021-10-28T13:19:51.859Z"
   },
   {
    "duration": 12,
    "start_time": "2021-10-28T13:19:52.034Z"
   },
   {
    "duration": 215,
    "start_time": "2021-10-28T13:19:52.068Z"
   },
   {
    "duration": 199,
    "start_time": "2021-10-28T13:19:52.286Z"
   },
   {
    "duration": 153,
    "start_time": "2021-10-28T13:19:52.491Z"
   },
   {
    "duration": 66,
    "start_time": "2021-10-28T13:19:52.648Z"
   },
   {
    "duration": 15,
    "start_time": "2021-10-28T13:19:52.717Z"
   },
   {
    "duration": 40,
    "start_time": "2021-10-28T13:19:52.735Z"
   },
   {
    "duration": 30,
    "start_time": "2021-10-28T13:19:52.778Z"
   },
   {
    "duration": 67,
    "start_time": "2021-10-28T13:19:52.811Z"
   },
   {
    "duration": 47,
    "start_time": "2021-10-28T13:19:52.880Z"
   },
   {
    "duration": 68,
    "start_time": "2021-10-28T13:19:52.930Z"
   },
   {
    "duration": 7,
    "start_time": "2021-10-28T13:19:53.001Z"
   },
   {
    "duration": 22,
    "start_time": "2021-10-28T13:19:53.011Z"
   },
   {
    "duration": 66,
    "start_time": "2021-10-28T13:19:53.035Z"
   },
   {
    "duration": 100,
    "start_time": "2021-10-28T13:19:53.104Z"
   },
   {
    "duration": 2325,
    "start_time": "2021-10-28T13:19:53.207Z"
   },
   {
    "duration": 4,
    "start_time": "2021-10-28T13:19:55.535Z"
   },
   {
    "duration": 107,
    "start_time": "2021-10-28T13:19:55.541Z"
   },
   {
    "duration": 16,
    "start_time": "2021-10-28T13:19:55.650Z"
   },
   {
    "duration": 79,
    "start_time": "2021-10-28T13:19:55.669Z"
   },
   {
    "duration": 35,
    "start_time": "2021-10-28T13:19:55.766Z"
   },
   {
    "duration": 65,
    "start_time": "2021-10-28T13:19:55.806Z"
   },
   {
    "duration": 28,
    "start_time": "2021-10-28T13:19:55.874Z"
   },
   {
    "duration": 2915,
    "start_time": "2021-10-28T13:19:55.904Z"
   },
   {
    "duration": 13,
    "start_time": "2021-10-28T13:19:58.822Z"
   },
   {
    "duration": 36,
    "start_time": "2021-10-28T13:19:58.838Z"
   },
   {
    "duration": 429,
    "start_time": "2021-10-28T13:34:30.432Z"
   },
   {
    "duration": 282,
    "start_time": "2021-10-28T13:34:42.496Z"
   },
   {
    "duration": 295,
    "start_time": "2021-10-28T13:35:03.217Z"
   },
   {
    "duration": 19,
    "start_time": "2021-10-28T13:36:04.555Z"
   },
   {
    "duration": 8,
    "start_time": "2021-10-28T13:36:34.295Z"
   },
   {
    "duration": 8,
    "start_time": "2021-10-28T13:36:36.736Z"
   },
   {
    "duration": 8,
    "start_time": "2021-10-28T13:36:50.955Z"
   },
   {
    "duration": 8,
    "start_time": "2021-10-28T13:37:33.957Z"
   },
   {
    "duration": 8,
    "start_time": "2021-10-28T13:37:35.295Z"
   },
   {
    "duration": 339,
    "start_time": "2021-10-28T13:38:01.357Z"
   },
   {
    "duration": 10,
    "start_time": "2021-10-28T13:39:35.176Z"
   },
   {
    "duration": 8,
    "start_time": "2021-10-28T13:39:36.915Z"
   },
   {
    "duration": 8,
    "start_time": "2021-10-28T13:39:39.055Z"
   },
   {
    "duration": 9,
    "start_time": "2021-10-28T13:39:40.295Z"
   },
   {
    "duration": 9,
    "start_time": "2021-10-28T13:39:54.474Z"
   },
   {
    "duration": 8,
    "start_time": "2021-10-28T14:13:37.095Z"
   },
   {
    "duration": 8,
    "start_time": "2021-10-28T14:13:39.115Z"
   },
   {
    "duration": 1522,
    "start_time": "2021-10-28T15:07:34.477Z"
   },
   {
    "duration": 4,
    "start_time": "2021-10-28T15:07:36.002Z"
   },
   {
    "duration": 703,
    "start_time": "2021-10-28T15:07:36.009Z"
   },
   {
    "duration": 4,
    "start_time": "2021-10-28T15:07:36.715Z"
   },
   {
    "duration": 163,
    "start_time": "2021-10-28T15:07:36.722Z"
   },
   {
    "duration": 11,
    "start_time": "2021-10-28T15:07:36.888Z"
   },
   {
    "duration": 215,
    "start_time": "2021-10-28T15:07:36.902Z"
   },
   {
    "duration": 154,
    "start_time": "2021-10-28T15:07:37.120Z"
   },
   {
    "duration": 113,
    "start_time": "2021-10-28T15:07:37.280Z"
   },
   {
    "duration": 37,
    "start_time": "2021-10-28T15:07:37.398Z"
   },
   {
    "duration": 35,
    "start_time": "2021-10-28T15:07:37.439Z"
   },
   {
    "duration": 18,
    "start_time": "2021-10-28T15:07:37.476Z"
   },
   {
    "duration": 39,
    "start_time": "2021-10-28T15:07:37.497Z"
   },
   {
    "duration": 64,
    "start_time": "2021-10-28T15:07:37.539Z"
   },
   {
    "duration": 74,
    "start_time": "2021-10-28T15:07:37.606Z"
   },
   {
    "duration": 44,
    "start_time": "2021-10-28T15:07:37.683Z"
   },
   {
    "duration": 6,
    "start_time": "2021-10-28T15:07:37.729Z"
   },
   {
    "duration": 45,
    "start_time": "2021-10-28T15:07:37.738Z"
   },
   {
    "duration": 37,
    "start_time": "2021-10-28T15:07:37.786Z"
   },
   {
    "duration": 102,
    "start_time": "2021-10-28T15:07:37.825Z"
   },
   {
    "duration": 2091,
    "start_time": "2021-10-28T15:07:37.930Z"
   },
   {
    "duration": 5,
    "start_time": "2021-10-28T15:07:40.024Z"
   },
   {
    "duration": 114,
    "start_time": "2021-10-28T15:07:40.031Z"
   },
   {
    "duration": 20,
    "start_time": "2021-10-28T15:07:40.148Z"
   },
   {
    "duration": 97,
    "start_time": "2021-10-28T15:07:40.171Z"
   },
   {
    "duration": 37,
    "start_time": "2021-10-28T15:07:40.272Z"
   },
   {
    "duration": 65,
    "start_time": "2021-10-28T15:07:40.314Z"
   },
   {
    "duration": 28,
    "start_time": "2021-10-28T15:07:40.382Z"
   },
   {
    "duration": 2977,
    "start_time": "2021-10-28T15:07:40.413Z"
   },
   {
    "duration": 10,
    "start_time": "2021-10-28T15:07:43.393Z"
   },
   {
    "duration": 13,
    "start_time": "2021-10-28T15:07:43.405Z"
   },
   {
    "duration": 10,
    "start_time": "2021-10-28T15:07:43.421Z"
   },
   {
    "duration": 36,
    "start_time": "2021-10-28T15:07:43.433Z"
   },
   {
    "duration": 14,
    "start_time": "2021-10-28T15:07:43.471Z"
   },
   {
    "duration": 97,
    "start_time": "2021-10-28T15:07:43.488Z"
   },
   {
    "duration": 1424,
    "start_time": "2021-10-28T15:08:50.920Z"
   },
   {
    "duration": 4,
    "start_time": "2021-10-28T15:08:52.347Z"
   },
   {
    "duration": 786,
    "start_time": "2021-10-28T15:08:52.353Z"
   },
   {
    "duration": 4,
    "start_time": "2021-10-28T15:08:53.142Z"
   },
   {
    "duration": 164,
    "start_time": "2021-10-28T15:08:53.149Z"
   },
   {
    "duration": 13,
    "start_time": "2021-10-28T15:08:53.316Z"
   },
   {
    "duration": 304,
    "start_time": "2021-10-28T15:08:53.332Z"
   },
   {
    "duration": 205,
    "start_time": "2021-10-28T15:08:53.642Z"
   },
   {
    "duration": 154,
    "start_time": "2021-10-28T15:08:53.852Z"
   },
   {
    "duration": 67,
    "start_time": "2021-10-28T15:08:54.009Z"
   },
   {
    "duration": 14,
    "start_time": "2021-10-28T15:08:54.079Z"
   },
   {
    "duration": 18,
    "start_time": "2021-10-28T15:08:54.096Z"
   },
   {
    "duration": 76,
    "start_time": "2021-10-28T15:08:54.117Z"
   },
   {
    "duration": 73,
    "start_time": "2021-10-28T15:08:54.196Z"
   },
   {
    "duration": 71,
    "start_time": "2021-10-28T15:08:54.272Z"
   },
   {
    "duration": 66,
    "start_time": "2021-10-28T15:08:54.366Z"
   },
   {
    "duration": 32,
    "start_time": "2021-10-28T15:08:54.435Z"
   },
   {
    "duration": 29,
    "start_time": "2021-10-28T15:08:54.470Z"
   },
   {
    "duration": 67,
    "start_time": "2021-10-28T15:08:54.502Z"
   },
   {
    "duration": 71,
    "start_time": "2021-10-28T15:08:54.571Z"
   },
   {
    "duration": 2093,
    "start_time": "2021-10-28T15:08:54.668Z"
   },
   {
    "duration": 5,
    "start_time": "2021-10-28T15:08:56.768Z"
   },
   {
    "duration": 111,
    "start_time": "2021-10-28T15:08:56.776Z"
   },
   {
    "duration": 10,
    "start_time": "2021-10-28T15:08:56.890Z"
   },
   {
    "duration": 97,
    "start_time": "2021-10-28T15:08:56.903Z"
   },
   {
    "duration": 33,
    "start_time": "2021-10-28T15:08:57.004Z"
   },
   {
    "duration": 59,
    "start_time": "2021-10-28T15:08:57.040Z"
   },
   {
    "duration": 26,
    "start_time": "2021-10-28T15:08:57.103Z"
   },
   {
    "duration": 2874,
    "start_time": "2021-10-28T15:08:57.132Z"
   },
   {
    "duration": 11,
    "start_time": "2021-10-28T15:09:00.008Z"
   },
   {
    "duration": 23,
    "start_time": "2021-10-28T15:09:00.021Z"
   },
   {
    "duration": 26,
    "start_time": "2021-10-28T15:09:00.047Z"
   },
   {
    "duration": 14,
    "start_time": "2021-10-28T15:09:00.076Z"
   },
   {
    "duration": 20,
    "start_time": "2021-10-28T15:09:00.093Z"
   },
   {
    "duration": 98,
    "start_time": "2021-10-28T15:09:00.115Z"
   },
   {
    "duration": 1469,
    "start_time": "2021-10-28T15:09:46.202Z"
   },
   {
    "duration": 4,
    "start_time": "2021-10-28T15:09:47.673Z"
   },
   {
    "duration": 688,
    "start_time": "2021-10-28T15:09:47.681Z"
   },
   {
    "duration": 6,
    "start_time": "2021-10-28T15:09:48.372Z"
   },
   {
    "duration": 224,
    "start_time": "2021-10-28T15:09:48.381Z"
   },
   {
    "duration": 14,
    "start_time": "2021-10-28T15:09:48.608Z"
   },
   {
    "duration": 213,
    "start_time": "2021-10-28T15:09:48.624Z"
   },
   {
    "duration": 152,
    "start_time": "2021-10-28T15:09:48.839Z"
   },
   {
    "duration": 114,
    "start_time": "2021-10-28T15:09:48.995Z"
   },
   {
    "duration": 55,
    "start_time": "2021-10-28T15:09:49.112Z"
   },
   {
    "duration": 10,
    "start_time": "2021-10-28T15:09:49.170Z"
   },
   {
    "duration": 17,
    "start_time": "2021-10-28T15:09:49.182Z"
   },
   {
    "duration": 66,
    "start_time": "2021-10-28T15:09:49.201Z"
   },
   {
    "duration": 39,
    "start_time": "2021-10-28T15:09:49.270Z"
   },
   {
    "duration": 79,
    "start_time": "2021-10-28T15:09:49.311Z"
   },
   {
    "duration": 44,
    "start_time": "2021-10-28T15:09:49.393Z"
   },
   {
    "duration": 6,
    "start_time": "2021-10-28T15:09:49.467Z"
   },
   {
    "duration": 22,
    "start_time": "2021-10-28T15:09:49.475Z"
   },
   {
    "duration": 68,
    "start_time": "2021-10-28T15:09:49.499Z"
   },
   {
    "duration": 73,
    "start_time": "2021-10-28T15:09:49.569Z"
   },
   {
    "duration": 2095,
    "start_time": "2021-10-28T15:09:49.667Z"
   },
   {
    "duration": 4,
    "start_time": "2021-10-28T15:09:51.767Z"
   },
   {
    "duration": 104,
    "start_time": "2021-10-28T15:09:51.773Z"
   },
   {
    "duration": 8,
    "start_time": "2021-10-28T15:09:51.880Z"
   },
   {
    "duration": 141,
    "start_time": "2021-10-28T15:09:51.891Z"
   },
   {
    "duration": 72,
    "start_time": "2021-10-28T15:09:52.035Z"
   },
   {
    "duration": 65,
    "start_time": "2021-10-28T15:09:52.115Z"
   },
   {
    "duration": 29,
    "start_time": "2021-10-28T15:09:52.184Z"
   },
   {
    "duration": 2957,
    "start_time": "2021-10-28T15:09:52.216Z"
   },
   {
    "duration": 11,
    "start_time": "2021-10-28T15:09:55.176Z"
   },
   {
    "duration": 17,
    "start_time": "2021-10-28T15:09:55.190Z"
   },
   {
    "duration": 8,
    "start_time": "2021-10-28T15:09:55.209Z"
   },
   {
    "duration": 13,
    "start_time": "2021-10-28T15:09:55.220Z"
   },
   {
    "duration": 37,
    "start_time": "2021-10-28T15:09:55.236Z"
   },
   {
    "duration": 563,
    "start_time": "2021-10-28T15:09:55.275Z"
   },
   {
    "duration": 1918,
    "start_time": "2021-10-28T15:10:44.265Z"
   },
   {
    "duration": 4,
    "start_time": "2021-10-28T15:10:46.185Z"
   },
   {
    "duration": 793,
    "start_time": "2021-10-28T15:10:46.193Z"
   },
   {
    "duration": 6,
    "start_time": "2021-10-28T15:10:46.990Z"
   },
   {
    "duration": 190,
    "start_time": "2021-10-28T15:10:46.999Z"
   },
   {
    "duration": 18,
    "start_time": "2021-10-28T15:10:47.192Z"
   },
   {
    "duration": 264,
    "start_time": "2021-10-28T15:10:47.213Z"
   },
   {
    "duration": 240,
    "start_time": "2021-10-28T15:10:47.482Z"
   },
   {
    "duration": 114,
    "start_time": "2021-10-28T15:10:47.725Z"
   },
   {
    "duration": 57,
    "start_time": "2021-10-28T15:10:47.841Z"
   },
   {
    "duration": 14,
    "start_time": "2021-10-28T15:10:47.901Z"
   },
   {
    "duration": 16,
    "start_time": "2021-10-28T15:10:47.918Z"
   },
   {
    "duration": 65,
    "start_time": "2021-10-28T15:10:47.937Z"
   },
   {
    "duration": 66,
    "start_time": "2021-10-28T15:10:48.005Z"
   },
   {
    "duration": 94,
    "start_time": "2021-10-28T15:10:48.074Z"
   },
   {
    "duration": 53,
    "start_time": "2021-10-28T15:10:48.171Z"
   },
   {
    "duration": 10,
    "start_time": "2021-10-28T15:10:48.227Z"
   },
   {
    "duration": 52,
    "start_time": "2021-10-28T15:10:48.241Z"
   },
   {
    "duration": 39,
    "start_time": "2021-10-28T15:10:48.296Z"
   },
   {
    "duration": 109,
    "start_time": "2021-10-28T15:10:48.337Z"
   },
   {
    "duration": 2449,
    "start_time": "2021-10-28T15:10:48.468Z"
   },
   {
    "duration": 6,
    "start_time": "2021-10-28T15:10:50.921Z"
   },
   {
    "duration": 173,
    "start_time": "2021-10-28T15:10:50.935Z"
   },
   {
    "duration": 9,
    "start_time": "2021-10-28T15:10:51.111Z"
   },
   {
    "duration": 110,
    "start_time": "2021-10-28T15:10:51.123Z"
   },
   {
    "duration": 56,
    "start_time": "2021-10-28T15:10:51.236Z"
   },
   {
    "duration": 35,
    "start_time": "2021-10-28T15:10:51.296Z"
   },
   {
    "duration": 54,
    "start_time": "2021-10-28T15:10:51.333Z"
   },
   {
    "duration": 3188,
    "start_time": "2021-10-28T15:10:51.390Z"
   },
   {
    "duration": 12,
    "start_time": "2021-10-28T15:10:54.580Z"
   },
   {
    "duration": 11,
    "start_time": "2021-10-28T15:10:54.595Z"
   },
   {
    "duration": 7,
    "start_time": "2021-10-28T15:10:54.609Z"
   },
   {
    "duration": 10,
    "start_time": "2021-10-28T15:10:54.619Z"
   },
   {
    "duration": 8,
    "start_time": "2021-10-28T15:10:54.668Z"
   },
   {
    "duration": 10,
    "start_time": "2021-10-28T15:10:54.678Z"
   },
   {
    "duration": 1236,
    "start_time": "2021-10-29T07:43:38.531Z"
   },
   {
    "duration": 377,
    "start_time": "2021-10-29T07:43:55.019Z"
   },
   {
    "duration": 20,
    "start_time": "2021-10-29T07:44:03.183Z"
   },
   {
    "duration": 2458,
    "start_time": "2021-10-29T07:45:05.108Z"
   },
   {
    "duration": 2582,
    "start_time": "2021-10-29T07:45:21.893Z"
   },
   {
    "duration": 13,
    "start_time": "2021-10-29T07:46:26.908Z"
   },
   {
    "duration": 36,
    "start_time": "2021-10-29T07:46:50.428Z"
   },
   {
    "duration": 370,
    "start_time": "2021-10-29T07:50:33.062Z"
   },
   {
    "duration": 401,
    "start_time": "2021-10-29T07:50:42.247Z"
   },
   {
    "duration": 26,
    "start_time": "2021-10-29T07:50:57.447Z"
   },
   {
    "duration": 3439,
    "start_time": "2021-10-29T07:52:41.340Z"
   },
   {
    "duration": 27,
    "start_time": "2021-10-29T07:52:54.667Z"
   },
   {
    "duration": 26,
    "start_time": "2021-10-29T07:53:20.085Z"
   },
   {
    "duration": 115,
    "start_time": "2021-10-29T09:08:09.782Z"
   },
   {
    "duration": 293,
    "start_time": "2021-10-29T14:17:10.664Z"
   },
   {
    "duration": 1189,
    "start_time": "2021-10-29T14:17:18.215Z"
   },
   {
    "duration": 3,
    "start_time": "2021-10-29T14:17:19.406Z"
   },
   {
    "duration": 479,
    "start_time": "2021-10-29T14:17:19.411Z"
   },
   {
    "duration": 3,
    "start_time": "2021-10-29T14:17:19.892Z"
   },
   {
    "duration": 103,
    "start_time": "2021-10-29T14:17:19.896Z"
   },
   {
    "duration": 7,
    "start_time": "2021-10-29T14:17:20.001Z"
   },
   {
    "duration": 150,
    "start_time": "2021-10-29T14:17:20.009Z"
   },
   {
    "duration": 104,
    "start_time": "2021-10-29T14:17:20.161Z"
   },
   {
    "duration": 81,
    "start_time": "2021-10-29T14:17:20.267Z"
   },
   {
    "duration": 23,
    "start_time": "2021-10-29T14:17:20.351Z"
   },
   {
    "duration": 7,
    "start_time": "2021-10-29T14:17:20.376Z"
   },
   {
    "duration": 9,
    "start_time": "2021-10-29T14:17:20.385Z"
   },
   {
    "duration": 50,
    "start_time": "2021-10-29T14:17:20.395Z"
   },
   {
    "duration": 23,
    "start_time": "2021-10-29T14:17:20.447Z"
   },
   {
    "duration": 27,
    "start_time": "2021-10-29T14:17:20.472Z"
   },
   {
    "duration": 49,
    "start_time": "2021-10-29T14:17:20.501Z"
   },
   {
    "duration": 3,
    "start_time": "2021-10-29T14:17:20.552Z"
   },
   {
    "duration": 17,
    "start_time": "2021-10-29T14:17:20.557Z"
   },
   {
    "duration": 23,
    "start_time": "2021-10-29T14:17:20.575Z"
   },
   {
    "duration": 62,
    "start_time": "2021-10-29T14:17:20.600Z"
   },
   {
    "duration": 1183,
    "start_time": "2021-10-29T14:17:20.663Z"
   },
   {
    "duration": 2,
    "start_time": "2021-10-29T14:17:21.848Z"
   },
   {
    "duration": 56,
    "start_time": "2021-10-29T14:17:21.852Z"
   },
   {
    "duration": 5,
    "start_time": "2021-10-29T14:17:21.910Z"
   },
   {
    "duration": 62,
    "start_time": "2021-10-29T14:17:21.917Z"
   },
   {
    "duration": 23,
    "start_time": "2021-10-29T14:17:21.980Z"
   },
   {
    "duration": 47,
    "start_time": "2021-10-29T14:17:22.007Z"
   },
   {
    "duration": 14,
    "start_time": "2021-10-29T14:17:22.056Z"
   },
   {
    "duration": 1620,
    "start_time": "2021-10-29T14:17:22.071Z"
   },
   {
    "duration": 353,
    "start_time": "2021-10-29T14:17:23.693Z"
   },
   {
    "duration": -1159,
    "start_time": "2021-10-29T14:17:25.206Z"
   },
   {
    "duration": -1162,
    "start_time": "2021-10-29T14:17:25.211Z"
   },
   {
    "duration": -1166,
    "start_time": "2021-10-29T14:17:25.215Z"
   },
   {
    "duration": -1174,
    "start_time": "2021-10-29T14:17:25.224Z"
   },
   {
    "duration": -1177,
    "start_time": "2021-10-29T14:17:25.228Z"
   },
   {
    "duration": 9,
    "start_time": "2021-10-29T14:17:46.948Z"
   },
   {
    "duration": 264,
    "start_time": "2021-10-29T14:17:53.481Z"
   },
   {
    "duration": 1110,
    "start_time": "2021-10-29T14:18:17.886Z"
   },
   {
    "duration": 3,
    "start_time": "2021-10-29T14:18:18.998Z"
   },
   {
    "duration": 478,
    "start_time": "2021-10-29T14:18:19.002Z"
   },
   {
    "duration": 3,
    "start_time": "2021-10-29T14:18:19.482Z"
   },
   {
    "duration": 104,
    "start_time": "2021-10-29T14:18:19.487Z"
   },
   {
    "duration": 8,
    "start_time": "2021-10-29T14:18:19.593Z"
   },
   {
    "duration": 153,
    "start_time": "2021-10-29T14:18:19.602Z"
   },
   {
    "duration": 107,
    "start_time": "2021-10-29T14:18:19.757Z"
   },
   {
    "duration": 81,
    "start_time": "2021-10-29T14:18:19.867Z"
   },
   {
    "duration": 24,
    "start_time": "2021-10-29T14:18:19.950Z"
   },
   {
    "duration": 7,
    "start_time": "2021-10-29T14:18:19.975Z"
   },
   {
    "duration": 11,
    "start_time": "2021-10-29T14:18:19.983Z"
   },
   {
    "duration": 21,
    "start_time": "2021-10-29T14:18:19.996Z"
   },
   {
    "duration": 50,
    "start_time": "2021-10-29T14:18:20.018Z"
   },
   {
    "duration": 29,
    "start_time": "2021-10-29T14:18:20.070Z"
   },
   {
    "duration": 53,
    "start_time": "2021-10-29T14:18:20.100Z"
   },
   {
    "duration": 4,
    "start_time": "2021-10-29T14:18:20.155Z"
   },
   {
    "duration": 15,
    "start_time": "2021-10-29T14:18:20.161Z"
   },
   {
    "duration": 24,
    "start_time": "2021-10-29T14:18:20.178Z"
   },
   {
    "duration": 71,
    "start_time": "2021-10-29T14:18:20.203Z"
   },
   {
    "duration": 1263,
    "start_time": "2021-10-29T14:18:20.276Z"
   },
   {
    "duration": 3,
    "start_time": "2021-10-29T14:18:21.544Z"
   },
   {
    "duration": 56,
    "start_time": "2021-10-29T14:18:21.549Z"
   },
   {
    "duration": 5,
    "start_time": "2021-10-29T14:18:21.607Z"
   },
   {
    "duration": 71,
    "start_time": "2021-10-29T14:18:21.614Z"
   },
   {
    "duration": 23,
    "start_time": "2021-10-29T14:18:21.686Z"
   },
   {
    "duration": 44,
    "start_time": "2021-10-29T14:18:21.712Z"
   },
   {
    "duration": 16,
    "start_time": "2021-10-29T14:18:21.758Z"
   },
   {
    "duration": 2154,
    "start_time": "2021-10-29T14:18:21.776Z"
   },
   {
    "duration": 13,
    "start_time": "2021-10-29T14:18:23.932Z"
   },
   {
    "duration": 9,
    "start_time": "2021-10-29T14:18:23.947Z"
   },
   {
    "duration": 16,
    "start_time": "2021-10-29T14:18:23.958Z"
   },
   {
    "duration": 14,
    "start_time": "2021-10-29T14:18:23.977Z"
   },
   {
    "duration": 14,
    "start_time": "2021-10-29T14:18:23.993Z"
   },
   {
    "duration": 13,
    "start_time": "2021-10-29T14:18:24.009Z"
   },
   {
    "duration": 1051,
    "start_time": "2022-02-16T10:10:47.816Z"
   },
   {
    "duration": 2,
    "start_time": "2022-02-16T10:10:48.868Z"
   },
   {
    "duration": 444,
    "start_time": "2022-02-16T10:10:48.872Z"
   },
   {
    "duration": 3,
    "start_time": "2022-02-16T10:10:49.318Z"
   },
   {
    "duration": 100,
    "start_time": "2022-02-16T10:10:49.322Z"
   },
   {
    "duration": 9,
    "start_time": "2022-02-16T10:10:49.423Z"
   },
   {
    "duration": 142,
    "start_time": "2022-02-16T10:10:49.433Z"
   },
   {
    "duration": 97,
    "start_time": "2022-02-16T10:10:49.576Z"
   },
   {
    "duration": 78,
    "start_time": "2022-02-16T10:10:49.676Z"
   },
   {
    "duration": 21,
    "start_time": "2022-02-16T10:10:49.756Z"
   },
   {
    "duration": 6,
    "start_time": "2022-02-16T10:10:49.778Z"
   },
   {
    "duration": 8,
    "start_time": "2022-02-16T10:10:49.786Z"
   },
   {
    "duration": 42,
    "start_time": "2022-02-16T10:10:49.796Z"
   },
   {
    "duration": 23,
    "start_time": "2022-02-16T10:10:49.840Z"
   },
   {
    "duration": 25,
    "start_time": "2022-02-16T10:10:49.864Z"
   },
   {
    "duration": 48,
    "start_time": "2022-02-16T10:10:49.891Z"
   },
   {
    "duration": 4,
    "start_time": "2022-02-16T10:10:49.941Z"
   },
   {
    "duration": 12,
    "start_time": "2022-02-16T10:10:49.946Z"
   },
   {
    "duration": 20,
    "start_time": "2022-02-16T10:10:49.959Z"
   },
   {
    "duration": 64,
    "start_time": "2022-02-16T10:10:49.981Z"
   },
   {
    "duration": 1127,
    "start_time": "2022-02-16T10:10:50.046Z"
   },
   {
    "duration": 2,
    "start_time": "2022-02-16T10:10:51.175Z"
   },
   {
    "duration": 61,
    "start_time": "2022-02-16T10:10:51.179Z"
   },
   {
    "duration": 5,
    "start_time": "2022-02-16T10:10:51.241Z"
   },
   {
    "duration": 43,
    "start_time": "2022-02-16T10:10:51.248Z"
   },
   {
    "duration": 39,
    "start_time": "2022-02-16T10:10:51.293Z"
   },
   {
    "duration": 19,
    "start_time": "2022-02-16T10:10:51.336Z"
   },
   {
    "duration": 15,
    "start_time": "2022-02-16T10:10:51.357Z"
   },
   {
    "duration": 1575,
    "start_time": "2022-02-16T10:10:51.374Z"
   },
   {
    "duration": 7,
    "start_time": "2022-02-16T10:10:52.950Z"
   },
   {
    "duration": 13,
    "start_time": "2022-02-16T10:10:52.958Z"
   },
   {
    "duration": 16,
    "start_time": "2022-02-16T10:10:52.972Z"
   },
   {
    "duration": 13,
    "start_time": "2022-02-16T10:10:52.989Z"
   },
   {
    "duration": 7,
    "start_time": "2022-02-16T10:10:53.003Z"
   },
   {
    "duration": 10,
    "start_time": "2022-02-16T10:10:53.012Z"
   }
  ],
  "kernelspec": {
   "display_name": "Python 3 (ipykernel)",
   "language": "python",
   "name": "python3"
  },
  "language_info": {
   "codemirror_mode": {
    "name": "ipython",
    "version": 3
   },
   "file_extension": ".py",
   "mimetype": "text/x-python",
   "name": "python",
   "nbconvert_exporter": "python",
   "pygments_lexer": "ipython3",
   "version": "3.9.7"
  },
  "toc": {
   "base_numbering": 1,
   "nav_menu": {},
   "number_sections": true,
   "sideBar": true,
   "skip_h1_title": true,
   "title_cell": "Table of Contents",
   "title_sidebar": "Contents",
   "toc_cell": false,
   "toc_position": {
    "height": "calc(100% - 180px)",
    "left": "10px",
    "top": "150px",
    "width": "165px"
   },
   "toc_section_display": true,
   "toc_window_display": true
  }
 },
 "nbformat": 4,
 "nbformat_minor": 2
}
